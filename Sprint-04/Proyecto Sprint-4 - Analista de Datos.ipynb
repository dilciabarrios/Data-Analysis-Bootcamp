{
 "cells": [
  {
   "cell_type": "markdown",
   "id": "7597ea2d",
   "metadata": {
    "toc": true
   },
   "source": [
    "<h1>Diccionario de datos<span class=\"tocSkip\"></span></h1>\n",
    "<div class=\"toc\"><ul class=\"toc-item\"></ul></div>"
   ]
  },
  {
   "cell_type": "markdown",
   "id": "2f0e5d93",
   "metadata": {
    "id": "3Xg_RQfnafXz"
   },
   "source": [
    "# ¡Llena ese carrito!\n",
    "\n",
    "# Tabla de Contenido \n",
    "\n",
    "<a id='tabla'></a>\n",
    "\n",
    "* [Introducción](#intro)\n",
    "* [Etapa 1. Diccionario de Datos](#dicc)\n",
    "    * [Descrioción de Datos](#descrip)\n",
    "    * [Plan de Solución](#plan)\n",
    "    * [Conclusiones](#conclu)\n",
    "* [Etapa 2. Procesamiento de Datos](#procesamiento)\n",
    "    * [Plan de Solución](#plandos1)\n",
    "    * [Encuentra y Elimina Valores Duplicados](#plandos2)\n",
    "    * [instacart_orders DataFrame](#plandos3)\n",
    "    * [products DataFrame](#plandos4)\n",
    "    * [department DataFrame](#plandos5)\n",
    "    * [aisles DataFrame](#plandos6) \n",
    "    * [order_products DataFrame](#plandos7)\n",
    "* [Etapa 3.Encuentra y elimina los valores ausentes](#plantres1)\n",
    "    * [products DataFrame](#plantres2)\n",
    "    * [instacart_orders DataFrame](#plantres3)\n",
    "    * [order_products DataFrame](#plantres4)\n",
    "    * [Conclusiones](#plantres5)\n",
    "* [Etapa 4. Analisis de Datos](#plancuatro1)\n",
    "    * [[A1] Verifica que los valores sean sensibles](#plancuatro2)\n",
    "    * [[A2] ¿Para cada hora del día, ¿cuántas personas hacen órdenes?](#plancuatro3)\n",
    "    * [[A3] ¿Qué día de la semana compran víveres las personas?](#plancuatro4)\n",
    "    * [[A4] ¿Cuánto tiempo esperan las personas hasta hacer otro pedido? Comenta sobre los valores mínimos y máximos.](#plancuatro5)\n",
    "    \n",
    "    * [[B1]Diferencia entre miércoles y sábados para 'order_hour_of_day'. Traza gráficos de barra para los dos días y describe las diferencias que veas.](#plancuatro6)\n",
    "    * [[B2]¿Cuál es la distribución para el número de pedidos por cliente?](#plancuatro7)\n",
    "    * [[B3]¿Cuáles son los 20 productos más populares (muestra su ID y nombre)? ](#plancuatro8)\n",
    "    \n",
    "    * [[C1]¿Cuántos artículos compran normalmente las personas en un pedido? ¿Cómo es la distribución?](#plancuatro9)\n",
    "    * [[C2]¿Cuáles son los 20 principales artículos que vuelven a pedirse con mayor frecuencia (muestra sus nombres e IDs de los productos)? \n",
    "](#plancuatro10)\n",
    "    * [[C3]Para cada producto, ¿cuál es la proporción de las veces que se pide y que se vuelve a pedir?](#plancuatro11)\n",
    "    * [[C4] Para cada cliente, ¿qué proporción de sus productos ya los había pedido? ](#plancuatro12)\n",
    "    * [[C5]¿Cuáles son los 20 principales artículos que las personas ponen primero en sus carritos? ](#plancuatro13)\n",
    "* [Conclusiones Generales del Proyecto](#plancuatro14)\n"
   ]
  },
  {
   "cell_type": "markdown",
   "id": "mhIvmmkW414q",
   "metadata": {
    "id": "mhIvmmkW414q"
   },
   "source": [
    "# Introducción <a id='intro'></a>\n",
    "\n",
    "[Ver Tabla de Contenido](#tabla)\n",
    "\n",
    "Instacart es una plataforma de entregas de comestibles donde la clientela puede registrar un pedido y hacer que se lo entreguen, similar a Uber Eats y Door Dash.\n",
    "El conjunto de datos que te hemos proporcionado tiene modificaciones del original. Redujimos el tamaño del conjunto para que tus cálculos se hicieran más rápido e introdujimos valores ausentes y duplicados. Tuvimos cuidado de conservar las distribuciones de los datos originales cuando hicimos los cambios.\n",
    "\n",
    "Debes completar tres pasos. Para cada uno de ellos, escribe una breve introducción que refleje con claridad cómo pretendes resolver cada paso, y escribe párrafos explicatorios que justifiquen tus decisiones al tiempo que avanzas en tu solución.  También escribe una conclusión que resuma tus hallazgos y elecciones.\n"
   ]
  },
  {
   "cell_type": "markdown",
   "id": "3MbyzpOQZ5Or",
   "metadata": {
    "id": "3MbyzpOQZ5Or"
   },
   "source": [
    "# Diccionario de datos <a id='dicc'></a>\n",
    "\n",
    "[Ver Tabla de Contenido](#tabla)\n",
    "\n",
    "Hay cinco tablas en el conjunto de datos, y tendrás que usarlas todas para hacer el preprocesamiento de datos y el análisis exploratorio de datos. A continuación se muestra un diccionario de datos que enumera las columnas de cada tabla y describe los datos que contienen.\n",
    "\n",
    "- `instacart_orders.csv`: cada fila corresponde a un pedido en la aplicación Instacart.\n",
    "    - `'order_id'`: número de ID que identifica de manera única cada pedido.\n",
    "    - `'user_id'`: número de ID que identifica de manera única la cuenta de cada cliente.\n",
    "    - `'order_number'`: el número de veces que este cliente ha hecho un pedido.\n",
    "    - `'order_dow'`: día de la semana en que se hizo el pedido (0 si es domingo).\n",
    "    - `'order_hour_of_day'`: hora del día en que se hizo el pedido.\n",
    "    - `'days_since_prior_order'`: número de días transcurridos desde que este cliente hizo su pedido anterior.\n",
    "- `products.csv`: cada fila corresponde a un producto único que pueden comprar los clientes.\n",
    "    - `'product_id'`: número ID que identifica de manera única cada producto.\n",
    "    - `'product_name'`: nombre del producto.\n",
    "    - `'aisle_id'`: número ID que identifica de manera única cada categoría de pasillo de víveres.\n",
    "    - `'department_id'`: número ID que identifica de manera única cada departamento de víveres.\n",
    "- `order_products.csv`: cada fila corresponde a un artículo pedido en un pedido.\n",
    "    - `'order_id'`: número de ID que identifica de manera única cada pedido.\n",
    "    - `'product_id'`: número ID que identifica de manera única cada producto.\n",
    "    - `'add_to_cart_order'`: el orden secuencial en el que se añadió cada artículo en el carrito.\n",
    "    - `'reordered'`: 0 si el cliente nunca ha pedido este producto antes, 1 si lo ha pedido.\n",
    "- `aisles.csv`\n",
    "    - `'aisle_id'`: número ID que identifica de manera única cada categoría de pasillo de víveres.\n",
    "    - `'aisle'`: nombre del pasillo.\n",
    "- `departments.csv`\n",
    "    - `'department_id'`: número ID que identifica de manera única cada departamento de víveres.\n",
    "    - `'department'`: nombre del departamento."
   ]
  },
  {
   "cell_type": "markdown",
   "id": "n3Ha_cNSZ8lK",
   "metadata": {
    "id": "n3Ha_cNSZ8lK"
   },
   "source": [
    "<a id='descrip'></a> <h1>Etapa 1. Descripción de los datos</h1>\n",
    "\n",
    "Lee los archivos de datos (`/datasets/instacart_orders.csv`, `/datasets/products.csv`, `/datasets/aisles.csv`, `/datasets/departments.csv` y `/datasets/order_products.csv`) con `pd.read_csv()` usando los parámetros adecuados para leer los datos correctamente. Verifica la información para cada DataFrame creado.\n"
   ]
  },
  {
   "cell_type": "markdown",
   "id": "OmlQPLlyaAfR",
   "metadata": {
    "id": "OmlQPLlyaAfR"
   },
   "source": [
    "#  Plan de solución <a id='plan'></a> \n",
    "\n",
    "[Ver Tabla de Contenido](#tabla)\n",
    "\n",
    "* Realizar un análisis exploratorio de datos realizando, constará de: \n",
    "    - Importación de librerias\n",
    "    - Analizar DataFrames con info()\n",
    "    - Verificar la cantidad de valores ausentes\n",
    "    - Verificar nombres de cada columna\n",
    "    - Verificar el tipo de dato de cada columna\n",
    "    "
   ]
  },
  {
   "cell_type": "code",
   "execution_count": 1,
   "id": "fbf1adab",
   "metadata": {
    "id": "fbf1adab"
   },
   "outputs": [],
   "source": [
    "# importar librerías\n",
    "\n",
    "import pandas as pd\n",
    "import numpy as np\n",
    "from matplotlib import pyplot as plt "
   ]
  },
  {
   "cell_type": "code",
   "execution_count": 2,
   "id": "ad36396d",
   "metadata": {
    "id": "ad36396d"
   },
   "outputs": [],
   "source": [
    "# leer conjuntos de datos en los DataFrames \n",
    "\n",
    "instacart = pd.read_csv('/datasets/instacart_orders.csv', sep=';')\n",
    "products = pd.read_csv('/datasets/products.csv', sep=';')\n",
    "aisles = pd.read_csv('/datasets/aisles.csv', sep=';')\n",
    "departments = pd.read_csv('/datasets/departments.csv', sep=';')\n",
    "orderproducts = pd.read_csv('/datasets/order_products.csv', sep=';')"
   ]
  },
  {
   "cell_type": "code",
   "execution_count": 3,
   "id": "ad6a1efa",
   "metadata": {
    "id": "ad6a1efa"
   },
   "outputs": [
    {
     "name": "stdout",
     "output_type": "stream",
     "text": [
      "<class 'pandas.core.frame.DataFrame'>\n",
      "RangeIndex: 478967 entries, 0 to 478966\n",
      "Data columns (total 6 columns):\n",
      " #   Column                  Non-Null Count   Dtype  \n",
      "---  ------                  --------------   -----  \n",
      " 0   order_id                478967 non-null  int64  \n",
      " 1   user_id                 478967 non-null  int64  \n",
      " 2   order_number            478967 non-null  int64  \n",
      " 3   order_dow               478967 non-null  int64  \n",
      " 4   order_hour_of_day       478967 non-null  int64  \n",
      " 5   days_since_prior_order  450148 non-null  float64\n",
      "dtypes: float64(1), int64(5)\n",
      "memory usage: 21.9 MB\n"
     ]
    }
   ],
   "source": [
    "# mostrar información del DataFrame 'instacart_orders'\n",
    "\n",
    "instacart.info()"
   ]
  },
  {
   "cell_type": "code",
   "execution_count": 4,
   "id": "5130e05e",
   "metadata": {
    "id": "5130e05e"
   },
   "outputs": [
    {
     "name": "stdout",
     "output_type": "stream",
     "text": [
      "<class 'pandas.core.frame.DataFrame'>\n",
      "RangeIndex: 49694 entries, 0 to 49693\n",
      "Data columns (total 4 columns):\n",
      " #   Column         Non-Null Count  Dtype \n",
      "---  ------         --------------  ----- \n",
      " 0   product_id     49694 non-null  int64 \n",
      " 1   product_name   48436 non-null  object\n",
      " 2   aisle_id       49694 non-null  int64 \n",
      " 3   department_id  49694 non-null  int64 \n",
      "dtypes: int64(3), object(1)\n",
      "memory usage: 1.5+ MB\n"
     ]
    }
   ],
   "source": [
    "# mostrar información del DataFrame 'products'\n",
    "\n",
    "products.info()"
   ]
  },
  {
   "cell_type": "code",
   "execution_count": 5,
   "id": "d8370c05",
   "metadata": {
    "id": "d8370c05"
   },
   "outputs": [
    {
     "name": "stdout",
     "output_type": "stream",
     "text": [
      "<class 'pandas.core.frame.DataFrame'>\n",
      "RangeIndex: 134 entries, 0 to 133\n",
      "Data columns (total 2 columns):\n",
      " #   Column    Non-Null Count  Dtype \n",
      "---  ------    --------------  ----- \n",
      " 0   aisle_id  134 non-null    int64 \n",
      " 1   aisle     134 non-null    object\n",
      "dtypes: int64(1), object(1)\n",
      "memory usage: 2.2+ KB\n"
     ]
    }
   ],
   "source": [
    "# mostrar información del DataFrame 'aisles'\n",
    "\n",
    "aisles.info()"
   ]
  },
  {
   "cell_type": "code",
   "execution_count": 6,
   "id": "59e2090f",
   "metadata": {
    "id": "59e2090f"
   },
   "outputs": [
    {
     "name": "stdout",
     "output_type": "stream",
     "text": [
      "<class 'pandas.core.frame.DataFrame'>\n",
      "RangeIndex: 21 entries, 0 to 20\n",
      "Data columns (total 2 columns):\n",
      " #   Column         Non-Null Count  Dtype \n",
      "---  ------         --------------  ----- \n",
      " 0   department_id  21 non-null     int64 \n",
      " 1   department     21 non-null     object\n",
      "dtypes: int64(1), object(1)\n",
      "memory usage: 464.0+ bytes\n"
     ]
    }
   ],
   "source": [
    "# mostrar información del DataFrame 'departaments'\n",
    "\n",
    "departments.info()"
   ]
  },
  {
   "cell_type": "code",
   "execution_count": 7,
   "id": "6fc81694",
   "metadata": {
    "id": "6fc81694"
   },
   "outputs": [
    {
     "name": "stdout",
     "output_type": "stream",
     "text": [
      "<class 'pandas.core.frame.DataFrame'>\n",
      "RangeIndex: 4545007 entries, 0 to 4545006\n",
      "Data columns (total 4 columns):\n",
      " #   Column             Dtype  \n",
      "---  ------             -----  \n",
      " 0   order_id           int64  \n",
      " 1   product_id         int64  \n",
      " 2   add_to_cart_order  float64\n",
      " 3   reordered          int64  \n",
      "dtypes: float64(1), int64(3)\n",
      "memory usage: 138.7 MB\n"
     ]
    }
   ],
   "source": [
    "# mostrar información del DataFrame 'df_orderproducts'\n",
    "\n",
    "orderproducts.info()"
   ]
  },
  {
   "cell_type": "markdown",
   "id": "t75BD19oaR5f",
   "metadata": {
    "id": "t75BD19oaR5f"
   },
   "source": [
    "# Conclusiones <a id='conclu'></a> \n",
    "\n",
    "[Ver Tabla de Contenido](#tabla)\n",
    "\n",
    "Escribe aquí tus conclusiones intermedias sobre el Paso 1. Descripción de los datos.\n",
    "\n",
    "Para los DataFrames podemos observar lo siguiente:\n",
    "\n",
    "- Se tuvo que establecer el parameto **sep= ';'** ya el delimitador no se habia aplicado correctamente al cargar los datos, por lo que arrojaba 1 sola columna con diferentes nombres, separados por (;).\n",
    "\n",
    "\n",
    "- Ya habiendo aplicado **sep= ';'** pudimos observar la distrubucion correcta de nuestras columnas.\n",
    "\n",
    "\n",
    "- Del del DataFrame **'instacart'**, podemos observar que la columna  days_since_prior_order, contiene valores nulos NaN. Contiene 28,819 valores nulos.\n",
    "\n",
    "\n",
    "- Del del DataFrame **'products'**, podemos observar que la columna  product_name  del, contiene valores nulos NaN contiene 1258 valores nulos.\n",
    "\n",
    "\n",
    "- De los DataFrames **'aisles' y 'departaments'**, por la cantidad de non-null y total de RangeIndex, observamos que ninguna columna contiene valores faltantes.\n",
    "\n",
    "\n",
    "- El ultimo DataFrame **'orderproducts'**, no se muestra el conteo de los non-null, debido a que cuando el número de filas es grande (millones de filas, como es el caso), pandas omite mostrar el conteo de non-null para optimizar el resumen de info().\n",
    "\n",
    "\n",
    "- Para todos los casos podemos observar los tipos de datos de cada columna y la memoria usada en cada caso.\n"
   ]
  },
  {
   "cell_type": "markdown",
   "id": "8RJHqxVmaVsF",
   "metadata": {
    "id": "8RJHqxVmaVsF"
   },
   "source": [
    "# Etapa 2. Preprocesamiento de los datos <a id='procesamiento'></a> \n",
    "\n",
    "[Ver Tabla de Contenido](#tabla)\n",
    "\n",
    "Preprocesa los datos de la siguiente manera:\n",
    "\n",
    "- Verifica y corrige los tipos de datos (por ejemplo, asegúrate de que las columnas de ID sean números enteros).\n",
    "- Identifica y completa los valores ausentes.\n",
    "- Identifica y elimina los valores duplicados.\n",
    "\n",
    "Asegúrate de explicar qué tipos de valores ausentes y duplicados encontraste, cómo los completaste o eliminaste y por qué usaste esos métodos. ¿Por qué crees que estos valores ausentes y duplicados pueden haber estado presentes en el conjunto de datos?"
   ]
  },
  {
   "cell_type": "markdown",
   "id": "p6poABZQaZYb",
   "metadata": {
    "id": "p6poABZQaZYb"
   },
   "source": [
    "# Plan de solución <a id='plandos1'></a>\n",
    "\n",
    "[Ver Tabla de Contenido](#tabla)\n",
    "\n",
    "* Realizar un procesamiento de datos que constará de:\n",
    "    - Revisión de duplicados [Uso de duplicated]\n",
    "    - Eliminar filas duplicadas [Uso de drop_duplicates]\n",
    "    - Revisar si hay nombre dulicados de productos [Uso de upper()]\n",
    "    - Revisar duplicados no faltantes [Uso de notna()]\n",
    "    \n"
   ]
  },
  {
   "cell_type": "markdown",
   "id": "07357848-dc64-4156-9cc3-01ff4365226d",
   "metadata": {
    "id": "07357848-dc64-4156-9cc3-01ff4365226d"
   },
   "source": [
    "# Encuentra y elimina los valores duplicados (y describe cómo tomaste tus decisiones). <a id='plandos2'></a>\n",
    "\n",
    "[Ver Tabla de Contenido](#tabla)"
   ]
  },
  {
   "cell_type": "markdown",
   "id": "f179f0a9",
   "metadata": {
    "id": "f179f0a9"
   },
   "source": [
    "# `instacart_orders` data frame  <a id='plandos3'></a>\n",
    "\n",
    "[Ver Tabla de Contenido](#tabla)"
   ]
  },
  {
   "cell_type": "code",
   "execution_count": 8,
   "id": "b99297a5-405a-463d-8535-9adc3da4ad74",
   "metadata": {
    "id": "b99297a5-405a-463d-8535-9adc3da4ad74"
   },
   "outputs": [
    {
     "name": "stdout",
     "output_type": "stream",
     "text": [
      "Cantidad de Pedidos Duplicados: 30\n"
     ]
    }
   ],
   "source": [
    "# Revisa si hay pedidos duplicados\n",
    "\n",
    "instacart_duplicados= instacart.duplicated(keep=False).sum()\n",
    "print('Cantidad de Pedidos Duplicados:', instacart_duplicados)"
   ]
  },
  {
   "cell_type": "markdown",
   "id": "PEkwUX_gvt5A",
   "metadata": {
    "id": "PEkwUX_gvt5A"
   },
   "source": [
    "¿Tienes líneas duplicadas? Si sí, ¿qué tienen en común?\n",
    "\n",
    "Si hay lineas duplicadas. Para ver que tienen en comun debemos imprimir las filas de los duplicados de dicho DataFrame para analizarlo."
   ]
  },
  {
   "cell_type": "code",
   "execution_count": 9,
   "id": "0d44de5d",
   "metadata": {
    "id": "0d44de5d"
   },
   "outputs": [
    {
     "name": "stdout",
     "output_type": "stream",
     "text": [
      "        order_id  user_id  order_number  order_dow  order_hour_of_day  \\\n",
      "30371    1918001   188546            14          3                  2   \n",
      "99462     794638    50898            24          3                  2   \n",
      "119251    408114    68324             4          3                  2   \n",
      "142258   2845099    31189            11          3                  2   \n",
      "145574    794638    50898            24          3                  2   \n",
      "164581   1112182   202304            84          3                  2   \n",
      "200059   1782114   106752             1          3                  2   \n",
      "204042   2125197    14050            48          3                  2   \n",
      "215294   2160484   107525            16          3                  2   \n",
      "223105   2160484   107525            16          3                  2   \n",
      "230807   1918001   188546            14          3                  2   \n",
      "242618   1021560    53767             3          3                  2   \n",
      "250626    467134    63189            21          3                  2   \n",
      "257934   1919531   191501            32          3                  2   \n",
      "259636   2282673    86751            49          3                  2   \n",
      "266232   1782114   106752             1          3                  2   \n",
      "273805   1112182   202304            84          3                  2   \n",
      "284038   2845099    31189            11          3                  2   \n",
      "311713   1021560    53767             3          3                  2   \n",
      "314427   1286742   183220            48          3                  2   \n",
      "321100    408114    68324             4          3                  2   \n",
      "323900   1919531   191501            32          3                  2   \n",
      "324868   2232988    82565             1          3                  2   \n",
      "345917   2232988    82565             1          3                  2   \n",
      "354993    391768    57671            19          3                  2   \n",
      "371905    391768    57671            19          3                  2   \n",
      "394347    467134    63189            21          3                  2   \n",
      "411408   1286742   183220            48          3                  2   \n",
      "415163   2282673    86751            49          3                  2   \n",
      "441599   2125197    14050            48          3                  2   \n",
      "\n",
      "        days_since_prior_order  \n",
      "30371                     16.0  \n",
      "99462                      2.0  \n",
      "119251                    18.0  \n",
      "142258                     7.0  \n",
      "145574                     2.0  \n",
      "164581                     6.0  \n",
      "200059                     NaN  \n",
      "204042                     3.0  \n",
      "215294                    30.0  \n",
      "223105                    30.0  \n",
      "230807                    16.0  \n",
      "242618                     9.0  \n",
      "250626                     2.0  \n",
      "257934                     7.0  \n",
      "259636                     2.0  \n",
      "266232                     NaN  \n",
      "273805                     6.0  \n",
      "284038                     7.0  \n",
      "311713                     9.0  \n",
      "314427                     4.0  \n",
      "321100                    18.0  \n",
      "323900                     7.0  \n",
      "324868                     NaN  \n",
      "345917                     NaN  \n",
      "354993                    10.0  \n",
      "371905                    10.0  \n",
      "394347                     2.0  \n",
      "411408                     4.0  \n",
      "415163                     2.0  \n",
      "441599                     3.0  \n"
     ]
    }
   ],
   "source": [
    "# Basándote en tus hallazgos\n",
    "\n",
    "# Verifica todos los pedidos que se hicieron el miércoles a las 2:00 a.m.\n",
    "\n",
    "duplicados =  instacart[instacart.duplicated(keep=False)] \n",
    "# keep=False para mostrar todas las ocurrencias de duplicados, sin mantener ninguna como unica\n",
    "print(duplicados)\n"
   ]
  },
  {
   "cell_type": "markdown",
   "id": "71c316b4",
   "metadata": {},
   "source": [
    "<div class=\"alert alert-block alert-info\">\n",
    "<p style=\"font-size: 20px; margin: 0;\">Filtrando pedidos del miércoles a las 2 am <a class=\"tocSkip\"></a>\n",
    "</div>"
   ]
  },
  {
   "cell_type": "code",
   "execution_count": 10,
   "id": "edbfc873",
   "metadata": {},
   "outputs": [
    {
     "name": "stdout",
     "output_type": "stream",
     "text": [
      "        order_id  user_id  order_number  order_dow  order_hour_of_day  \\\n",
      "4838     2766110   162084            41          3                  2   \n",
      "5156     2190225   138285            18          3                  2   \n",
      "15506     553049    58599            13          3                  2   \n",
      "18420     382357   120200            19          3                  2   \n",
      "24691     690242    77357             2          3                  2   \n",
      "...          ...      ...           ...        ...                ...   \n",
      "457013   3384021    14881             6          3                  2   \n",
      "458816    910166   164782            18          3                  2   \n",
      "459635   1680532   106435             6          3                  2   \n",
      "468324    222962    54979            59          3                  2   \n",
      "477526   2592344    46860            38          3                  2   \n",
      "\n",
      "        days_since_prior_order  \n",
      "4838                      16.0  \n",
      "5156                      11.0  \n",
      "15506                      7.0  \n",
      "18420                     11.0  \n",
      "24691                      9.0  \n",
      "...                        ...  \n",
      "457013                    30.0  \n",
      "458816                     4.0  \n",
      "459635                    21.0  \n",
      "468324                     3.0  \n",
      "477526                     3.0  \n",
      "\n",
      "[121 rows x 6 columns]\n"
     ]
    }
   ],
   "source": [
    "# Filtrando pedidos del miércoles a las 2 am\n",
    "\n",
    "filtrando_pedidos = instacart[(instacart['order_dow']==3) & (instacart['order_hour_of_day']==2)]\n",
    "\n",
    "print(filtrando_pedidos)\n"
   ]
  },
  {
   "cell_type": "markdown",
   "id": "vu2OWyoqwOx5",
   "metadata": {
    "id": "vu2OWyoqwOx5"
   },
   "source": [
    "**¿Qué sugiere este resultado?**\n",
    "\n",
    "Al verificar los valores duplicados del Dataframe, podemos observar que estos pertenecen al dia miercoles a las 2 am. Efectivamente hay ordenes duplicadas, ya tiene hay ordenes que tiene el mismo valor de 'order_id', el cual idenfica de manera unica cada pedido, y los diferentes valores de sus columnas son los mismos tambien."
   ]
  },
  {
   "cell_type": "code",
   "execution_count": 11,
   "id": "480563c7",
   "metadata": {
    "id": "480563c7"
   },
   "outputs": [],
   "source": [
    "# Elimina los pedidos duplicados\n",
    "\n",
    "instacart_clean = instacart.drop_duplicates(keep=False)"
   ]
  },
  {
   "cell_type": "code",
   "execution_count": 12,
   "id": "0b2396a2",
   "metadata": {
    "id": "0b2396a2"
   },
   "outputs": [
    {
     "name": "stdout",
     "output_type": "stream",
     "text": [
      "Cantidad de duplicados: 0\n"
     ]
    }
   ],
   "source": [
    "# Vuelve a verificar si hay filas duplicadas\n",
    "\n",
    "verificar_filas_instacart_clean = instacart_clean.duplicated(keep=False).sum()\n",
    "print('Cantidad de duplicados:', verificar_filas_instacart_clean)"
   ]
  },
  {
   "cell_type": "code",
   "execution_count": 13,
   "id": "f6113ef1",
   "metadata": {
    "id": "f6113ef1"
   },
   "outputs": [
    {
     "name": "stdout",
     "output_type": "stream",
     "text": [
      "Duplicados en order_id (IDs de pedidos): 0\n"
     ]
    }
   ],
   "source": [
    "# Vuelve a verificar si hay IDs duplicados de pedidos\n",
    "\n",
    "verificar_duplicados = instacart_clean['order_id'][instacart_clean['order_id'].duplicated(keep=False)].sum()\n",
    "print('Duplicados en order_id (IDs de pedidos):',verificar_duplicados)\n"
   ]
  },
  {
   "cell_type": "markdown",
   "id": "5e8905ae",
   "metadata": {
    "id": "5e8905ae"
   },
   "source": [
    "**Describe brevemente tus hallazgos y lo que hiciste con ellos**\n",
    "\n",
    "Se muestra que los valores de la columna **order_id** se imprime vacio, ya no hay duplicados, para ello se realizo lo siguiente:\n",
    "\n",
    "✓Comprobacion de cantidad de duplicados en DataFrame (instacar), mostrando todas las ocurrencias encontradas sin mantener ninguna como unica.\n",
    "\n",
    "✓Uso del metodo 'duplicated' con keep=False, para eliminar unicamente los duplicados sin mantener ninguna como unica."
   ]
  },
  {
   "cell_type": "markdown",
   "id": "45e6bc46",
   "metadata": {
    "id": "45e6bc46"
   },
   "source": [
    "# `products` data frame   <a id='plandos4'></a>\n",
    "\n",
    "[Ver Tabla de Contenido](#tabla)"
   ]
  },
  {
   "cell_type": "code",
   "execution_count": 14,
   "id": "5f526b5b-8175-46fa-a0fd-441767d50e64",
   "metadata": {
    "id": "5f526b5b-8175-46fa-a0fd-441767d50e64"
   },
   "outputs": [
    {
     "name": "stdout",
     "output_type": "stream",
     "text": [
      "Cantidad de Duplicados: 0\n"
     ]
    }
   ],
   "source": [
    "# Verifica si hay filas totalmente duplicadas\n",
    "\n",
    "#keep=False para todas filas que tienen valores duplicadas sin excepcion.\n",
    "\n",
    "products_duplicados= products.duplicated(keep=False).sum()\n",
    "print('Cantidad de Duplicados:', products_duplicados)"
   ]
  },
  {
   "cell_type": "code",
   "execution_count": 15,
   "id": "88daa4f4",
   "metadata": {
    "id": "88daa4f4"
   },
   "outputs": [
    {
     "name": "stdout",
     "output_type": "stream",
     "text": [
      "Duplicados de product_id (IDs de Productos): 0\n"
     ]
    }
   ],
   "source": [
    "# Verifica si hay IDs duplicadas de productos\n",
    "\n",
    "duplicados_products = products['product_id'][products['product_id'].duplicated(keep=False)].sum()\n",
    "print('Duplicados de product_id (IDs de Productos):', duplicados_products)\n"
   ]
  },
  {
   "cell_type": "code",
   "execution_count": 16,
   "id": "c773f0bf",
   "metadata": {
    "id": "c773f0bf"
   },
   "outputs": [
    {
     "name": "stdout",
     "output_type": "stream",
     "text": [
      "   product_id                                       product_name  aisle_id  \\\n",
      "0           1                         CHOCOLATE SANDWICH COOKIES        61   \n",
      "1           2                                   ALL-SEASONS SALT       104   \n",
      "2           3               ROBUST GOLDEN UNSWEETENED OOLONG TEA        94   \n",
      "3           4  SMART ONES CLASSIC FAVORITES MINI RIGATONI WIT...        38   \n",
      "4           5                          GREEN CHILE ANYTIME SAUCE         5   \n",
      "5           6                                       DRY NOSE OIL        11   \n",
      "6           7                     PURE COCONUT WATER WITH ORANGE        98   \n",
      "7           8                  CUT RUSSET POTATOES STEAM N' MASH       116   \n",
      "8           9                  LIGHT STRAWBERRY BLUEBERRY YOGURT       120   \n",
      "9          10     SPARKLING ORANGE JUICE & PRICKLY PEAR BEVERAGE       115   \n",
      "\n",
      "   department_id  \n",
      "0             19  \n",
      "1             13  \n",
      "2              7  \n",
      "3              1  \n",
      "4             13  \n",
      "5             11  \n",
      "6              7  \n",
      "7              1  \n",
      "8             16  \n",
      "9              7  \n"
     ]
    }
   ],
   "source": [
    "# Revisa si hay nombres duplicados de productos (convierte los nombres a letras mayúsculas para compararlos mejor)\n",
    "\n",
    "#convertir en mayusculas todos los nombres\n",
    "products['product_name']= products['product_name'].str.upper()\n",
    "print(products.head(n=10))\n"
   ]
  },
  {
   "cell_type": "code",
   "execution_count": 17,
   "id": "01efd02e",
   "metadata": {
    "id": "01efd02e"
   },
   "outputs": [
    {
     "name": "stdout",
     "output_type": "stream",
     "text": [
      "       product_id                               product_name  aisle_id  \\\n",
      "23339       23340  18-IN-1 HEMP PEPPERMINT PURE-CASTILE SOAP        25   \n",
      "31844       31845  18-IN-1 HEMP PEPPERMINT PURE-CASTILE SOAP        25   \n",
      "19941       19942            AGED BALSAMIC VINEGAR OF MODENA        19   \n",
      "13152       13153            AGED BALSAMIC VINEGAR OF MODENA        19   \n",
      "24830       24831         ALBACORE SOLID WHITE TUNA IN WATER        95   \n",
      "22582       22583         ALBACORE SOLID WHITE TUNA IN WATER        95   \n",
      "9037         9038                     AMERICAN CHEESE SLICES        21   \n",
      "515           516                     AMERICAN CHEESE SLICES        21   \n",
      "49530       49531               ANCHOVY FILLETS IN OLIVE OIL        95   \n",
      "12325       12326               ANCHOVY FILLETS IN OLIVE OIL        95   \n",
      "27802       27803                         APRICOT ENERGY BAR         3   \n",
      "41221       41222                         APRICOT ENERGY BAR         3   \n",
      "45230       45231                             BAG OF ORANGES        24   \n",
      "4376         4377                             BAG OF ORANGES        24   \n",
      "34449       34450                      BAG OF ORGANIC LEMONS        24   \n",
      "48824       48825                      BAG OF ORGANIC LEMONS        24   \n",
      "15609       15610                 BALSAMIC VINEGAR OF MODENA        19   \n",
      "18760       18761                 BALSAMIC VINEGAR OF MODENA        19   \n",
      "2690         2691                                  BBQ SAUCE         5   \n",
      "43287       43288                                  BBQ SAUCE         5   \n",
      "3881         3882                      BEEF CHILI WITH BEANS        59   \n",
      "29517       29518                      BEEF CHILI WITH BEANS        59   \n",
      "23332       23333        BEEF RAVIOLI IN TOMATO & MEAT SAUCE        59   \n",
      "18506       18507        BEEF RAVIOLI IN TOMATO & MEAT SAUCE        59   \n",
      "2058         2059                            BIOTIN 1000 MCG        47   \n",
      "41             42                            BIOTIN 1000 MCG        47   \n",
      "11163       11164                             BLANC DE NOIRS        62   \n",
      "44078       44079                             BLANC DE NOIRS       134   \n",
      "3172         3173         BLEU CHEESE SALAD DRESSING AND DIP        89   \n",
      "45031       45032         BLEU CHEESE SALAD DRESSING AND DIP        89   \n",
      "\n",
      "       department_id  \n",
      "23339             11  \n",
      "31844             11  \n",
      "19941             13  \n",
      "13152             13  \n",
      "24830             15  \n",
      "22582             15  \n",
      "9037              16  \n",
      "515               16  \n",
      "49530             15  \n",
      "12325             15  \n",
      "27802             19  \n",
      "41221             19  \n",
      "45230              4  \n",
      "4376               4  \n",
      "34449              4  \n",
      "48824              4  \n",
      "15609             13  \n",
      "18760             13  \n",
      "2690              13  \n",
      "43287             13  \n",
      "3881              15  \n",
      "29517             15  \n",
      "23332             15  \n",
      "18506             15  \n",
      "2058              11  \n",
      "41                11  \n",
      "11163              5  \n",
      "44078              5  \n",
      "3172              13  \n",
      "45031             13  \n"
     ]
    }
   ],
   "source": [
    "# Revisa si hay nombres duplicados de productos no faltantes\n",
    "\n",
    "# filtro de products['product_name'].notna() & products['product_name'].duplicated(keep=False) donde product_name que sean no NaN y esten duplicados\n",
    "\n",
    "duplicados_no_nan = products[products['product_name'].notna() & products['product_name'].duplicated(keep=False)].sort_values(by='product_name', ascending=True)\n",
    "print(duplicados_no_nan.head(n=30))\n",
    "\n",
    "# sort_values(by='product_name', ascending=True) para ordenar alfabeticamente y visualizar mejor los duplicados no faltantes\n"
   ]
  },
  {
   "cell_type": "markdown",
   "id": "9da8d293",
   "metadata": {
    "id": "9da8d293"
   },
   "source": [
    "**Describe brevemente tus hallazgos.**\n",
    "\n",
    "✓Podemos observar que hay varios productos con el mismo nombre pero diferente id de producto, posiblemente se deba a que puede pertenecer a una marca diferente de ese mismo producto, seria conveniente consultar esto."
   ]
  },
  {
   "cell_type": "markdown",
   "id": "60f30db1",
   "metadata": {
    "id": "60f30db1"
   },
   "source": [
    "# `departments` data frame  <a id='plandos5'></a>\n",
    "\n",
    "[Ver Tabla de Contenido](#tabla)"
   ]
  },
  {
   "cell_type": "code",
   "execution_count": 18,
   "id": "fb410ad4-0fbf-4b80-bb09-23fdea79afe3",
   "metadata": {
    "id": "fb410ad4-0fbf-4b80-bb09-23fdea79afe3"
   },
   "outputs": [
    {
     "name": "stdout",
     "output_type": "stream",
     "text": [
      "Cantidad de Duplicados: 0\n"
     ]
    }
   ],
   "source": [
    "# Revisa si hay filas totalmente duplicadas\n",
    "\n",
    "departments_duplicados= departments.duplicated(keep=False).sum()\n",
    "print('Cantidad de Duplicados:', departments_duplicados)"
   ]
  },
  {
   "cell_type": "code",
   "execution_count": 19,
   "id": "332b12bb",
   "metadata": {
    "id": "332b12bb"
   },
   "outputs": [
    {
     "name": "stdout",
     "output_type": "stream",
     "text": [
      "Duplicados de (IDs Department): 0\n"
     ]
    }
   ],
   "source": [
    "# Revisa si hay IDs duplicadas \n",
    "\n",
    "verificar_departments_duplicados = departments['department_id'][departments['department_id'].duplicated(keep=False)].sum()\n",
    "print('Duplicados de (IDs Department):', verificar_departments_duplicados)\n"
   ]
  },
  {
   "cell_type": "markdown",
   "id": "bd30d78e",
   "metadata": {
    "id": "bd30d78e"
   },
   "source": [
    "**Describe brevemente tus hallazgos.**\n",
    "\n",
    "✓Observamos que no hay duplicados en el DataFrame de departments.\n",
    "\n",
    "✓Tampoco se encontro IDs de Department duplicados.\n"
   ]
  },
  {
   "cell_type": "markdown",
   "id": "889349c1",
   "metadata": {
    "id": "889349c1"
   },
   "source": [
    "# `aisles` data frame  <a id='plandos6'></a>\n",
    "\n",
    "[Ver Tabla de Contenido](#tabla)"
   ]
  },
  {
   "cell_type": "code",
   "execution_count": 20,
   "id": "9da89fb9-4679-40f5-ad0d-c34df753a3f8",
   "metadata": {
    "id": "9da89fb9-4679-40f5-ad0d-c34df753a3f8"
   },
   "outputs": [
    {
     "name": "stdout",
     "output_type": "stream",
     "text": [
      "Cantidad de Duplicados: 0\n"
     ]
    }
   ],
   "source": [
    "# Revisa si hay filas totalmente duplicadas\n",
    "\n",
    "asiles_duplicados= aisles.duplicated(keep=False).sum()\n",
    "print('Cantidad de Duplicados:', asiles_duplicados)"
   ]
  },
  {
   "cell_type": "code",
   "execution_count": 21,
   "id": "da7c2822",
   "metadata": {
    "id": "da7c2822"
   },
   "outputs": [
    {
     "name": "stdout",
     "output_type": "stream",
     "text": [
      "Duplicados de (IDs Aisles): 0\n"
     ]
    }
   ],
   "source": [
    "# Revisa si hay IDs duplicadas \n",
    "\n",
    "verificar_asiles_duplicados = aisles['aisle_id'][aisles['aisle_id'].duplicated(keep=False)].sum()\n",
    "print('Duplicados de (IDs Aisles):', verificar_asiles_duplicados)\n"
   ]
  },
  {
   "cell_type": "markdown",
   "id": "ac63826f",
   "metadata": {
    "id": "ac63826f"
   },
   "source": [
    "**Describe brevemente tus hallazgos.**\n",
    "\n",
    "✓Observamos que no hay duplicados en el DataFrame de departments.\n",
    "\n",
    "✓Tampoco se encontro IDs de Aisle duplicados.\n"
   ]
  },
  {
   "cell_type": "markdown",
   "id": "274cd06a",
   "metadata": {
    "id": "274cd06a"
   },
   "source": [
    "# `order_products` data frame <a id='plandos7'></a>\n",
    "\n",
    "[Ver Tabla de Contenido](#tabla)"
   ]
  },
  {
   "cell_type": "code",
   "execution_count": 22,
   "id": "52326689-84a8-4b8f-a881-7c68780f62c9",
   "metadata": {
    "id": "52326689-84a8-4b8f-a881-7c68780f62c9"
   },
   "outputs": [
    {
     "name": "stdout",
     "output_type": "stream",
     "text": [
      "Cantidad de Duplicados: 0\n"
     ]
    }
   ],
   "source": [
    "# Revisa si hay filas totalmente duplicadas\n",
    "\n",
    "order_products_duplicados= orderproducts.duplicated(keep=False).sum()\n",
    "print('Cantidad de Duplicados:', order_products_duplicados)\n"
   ]
  },
  {
   "cell_type": "code",
   "execution_count": 23,
   "id": "7b861391",
   "metadata": {
    "id": "7b861391"
   },
   "outputs": [
    {
     "name": "stdout",
     "output_type": "stream",
     "text": [
      "*** Duplicados engañosos no NaN ***:\n",
      "\n",
      "         order_id  product_id  add_to_cart_order  \\\n",
      "1671714   2302000       15610                4.0   \n",
      "1671819   1391236       15610               12.0   \n",
      "3001712    444628       14464                5.0   \n",
      "3201207   1391236       18761               11.0   \n",
      "3201250   2302000       18761                5.0   \n",
      "3855897   2641193       35883                4.0   \n",
      "4139689   2554691        8811               21.0   \n",
      "4221830   2641193       15442                3.0   \n",
      "4415518      4988       26964                1.0   \n",
      "4447312    444628       17321                4.0   \n",
      "4472435   2889433       43776               23.0   \n",
      "4472436   1471905       43776               22.0   \n",
      "4483448   2554691       38056               23.0   \n",
      "4493593   1471905       12462                2.0   \n",
      "4493596   2889433       12462                3.0   \n",
      "4525279      4988       33656                2.0   \n",
      "\n",
      "                                      product_name  \n",
      "1671714                 BALSAMIC VINEGAR OF MODENA  \n",
      "1671819                 BALSAMIC VINEGAR OF MODENA  \n",
      "3001712           DULCE DE LECHE CARAMEL ICE CREAM  \n",
      "3201207                 BALSAMIC VINEGAR OF MODENA  \n",
      "3201250                 BALSAMIC VINEGAR OF MODENA  \n",
      "3855897  SOLID WHITE ALBACORE TUNA IN SPRING WATER  \n",
      "4139689     TOP THE TATER CHIVE & ONION SOUR CREAM  \n",
      "4221830  SOLID WHITE ALBACORE TUNA IN SPRING WATER  \n",
      "4415518          OIL OF OREGANO DIETARY SUPPLEMENT  \n",
      "4447312           DULCE DE LECHE CARAMEL ICE CREAM  \n",
      "4472435    PROTEIN PLUS VANILLA BEAN PROTEIN SHAKE  \n",
      "4472436    PROTEIN PLUS VANILLA BEAN PROTEIN SHAKE  \n",
      "4483448     TOP THE TATER CHIVE & ONION SOUR CREAM  \n",
      "4493593    PROTEIN PLUS VANILLA BEAN PROTEIN SHAKE  \n",
      "4493596    PROTEIN PLUS VANILLA BEAN PROTEIN SHAKE  \n",
      "4525279          OIL OF OREGANO DIETARY SUPPLEMENT  \n",
      "\n",
      "*** Total Duplicados NaN ***:\n",
      "\n",
      "order_id                0\n",
      "product_id              0\n",
      "add_to_cart_order       0\n",
      "product_name         2297\n",
      "dtype: int64\n",
      "\n",
      "*** Duplicados NaN y no NaN engañoso ***:\n",
      "\n",
      "         order_id  product_id  add_to_cart_order product_name\n",
      "833792    2439105        7035               13.0          NaN\n",
      "833796    2779377        7035               13.0          NaN\n",
      "833799     473024        7035               11.0          NaN\n",
      "833801    3044246        7035               10.0          NaN\n",
      "833803    1977370        7035                2.0          NaN\n",
      "...           ...         ...                ...          ...\n",
      "4544788     60674       17748               15.0          NaN\n",
      "4544807    618010       39515               14.0          NaN\n",
      "4544846   2914469       18472                3.0          NaN\n",
      "4544952    748575       33442                7.0          NaN\n",
      "4544957   1529295       18003                7.0          NaN\n",
      "\n",
      "[2313 rows x 4 columns]\n"
     ]
    }
   ],
   "source": [
    "# Vuelve a verificar si hay cualquier otro duplicado engañoso\n",
    "\n",
    "\n",
    "order_products_pd = pd.merge(orderproducts, products, on='product_id', how='inner')\n",
    "\n",
    "resultado = order_products_pd[['order_id', 'product_id', 'add_to_cart_order','product_name']]\n",
    "\n",
    "# Buscando duplicados donde order_id y product_name se encuentre repetidos en ambas columnas\n",
    "\n",
    "duplicados_order = resultado[resultado.duplicated(subset=['order_id', 'product_name'], keep=False)]\n",
    "\n",
    "# Excluimos los NaN\n",
    "\n",
    "print('*** Duplicados engañosos no NaN ***:')\n",
    "print()\n",
    "\n",
    "duplicado_nonan = duplicados_order[duplicados_order['product_name'].notna()]\n",
    "print(duplicado_nonan)\n",
    "print()\n",
    "\n",
    "# Suma solo duplicados NaN\n",
    "\n",
    "print('*** Total Duplicados NaN ***:')\n",
    "print()\n",
    "print(duplicados_order.isna().sum())\n",
    "print()\n",
    "\n",
    "# Imprimiendo todos los duplicados donde order_id y product_name repetidos en ambas columnas\n",
    " \n",
    "print('*** Duplicados NaN y no NaN engañoso ***:')\n",
    "print()\n",
    "print(duplicados_order)\n",
    "                                                     "
   ]
  },
  {
   "cell_type": "markdown",
   "id": "0b890492",
   "metadata": {
    "id": "0b890492"
   },
   "source": [
    "**Describe brevemente tus hallazgos.**\n",
    "\n",
    "✓Se realizo un filtrado entra los DataFrame de **orderproducts** y **products** para encontrar duplicados  entre los order_id y product_name.\n",
    "\n",
    "✓Encontramos nombres de productos exactamente iguales pero con diferente id de producto. Lo cual se considera engañoso ya id de producto deberia ser unico para cada producto en especifico.\n",
    "\n",
    "✓Los otros 2297 representa a product_name de tipo NaN y los otros 16 restantes duplicados engañosos de tipo no NaN, para un total de 2313 filas."
   ]
  },
  {
   "cell_type": "markdown",
   "id": "1e46de76",
   "metadata": {
    "id": "1e46de76"
   },
   "source": [
    "# Etapa 3. Encuentra y elimina los valores ausentes  <a id='plantres1'></a>\n",
    "\n",
    "[Ver Tabla de Contenido](#tabla)\n",
    "\n",
    "Al trabajar con valores duplicados, pudimos observar que también nos falta investigar valores ausentes:\n",
    "\n",
    "* La columna `'product_name'` de la tabla products.\n",
    "* La columna `'days_since_prior_order'` de la tabla orders.\n",
    "* La columna `'add_to_cart_order'` de la tabla order_productos."
   ]
  },
  {
   "cell_type": "markdown",
   "id": "c0aebd78",
   "metadata": {
    "id": "c0aebd78"
   },
   "source": [
    "# `products` data frame <a id='plantres2'></a>\n",
    "\n",
    "[Ver Tabla de Contenido](#tabla)"
   ]
  },
  {
   "cell_type": "code",
   "execution_count": 24,
   "id": "fe4a8b0f",
   "metadata": {
    "id": "fe4a8b0f"
   },
   "outputs": [
    {
     "name": "stdout",
     "output_type": "stream",
     "text": [
      "product_id          0\n",
      "product_name     1258\n",
      "aisle_id            0\n",
      "department_id       0\n",
      "dtype: int64\n"
     ]
    }
   ],
   "source": [
    "# Encuentra los valores ausentes en la columna 'product_name'\n",
    "\n",
    "valores_ausentes_productname = products.isna().sum()\n",
    "print(valores_ausentes_productname)"
   ]
  },
  {
   "cell_type": "markdown",
   "id": "-A6x1AbJhjkp",
   "metadata": {
    "id": "-A6x1AbJhjkp"
   },
   "source": [
    "**Describe brevemente tus hallazgos.**\n",
    "\n",
    "✓ Encontramos 1258 valores ausentes product_name"
   ]
  },
  {
   "cell_type": "code",
   "execution_count": 25,
   "id": "e96167bc",
   "metadata": {
    "id": "e96167bc"
   },
   "outputs": [
    {
     "name": "stdout",
     "output_type": "stream",
     "text": [
      "       product_id product_name  aisle_id  department_id\n",
      "37             38          NaN       100             21\n",
      "71             72          NaN       100             21\n",
      "109           110          NaN       100             21\n",
      "296           297          NaN       100             21\n",
      "416           417          NaN       100             21\n",
      "...           ...          ...       ...            ...\n",
      "49552       49553          NaN       100             21\n",
      "49574       49575          NaN       100             21\n",
      "49640       49641          NaN       100             21\n",
      "49663       49664          NaN       100             21\n",
      "49668       49669          NaN       100             21\n",
      "\n",
      "[1258 rows x 4 columns]\n"
     ]
    }
   ],
   "source": [
    "#  ¿Todos los nombres de productos ausentes están relacionados con el pasillo con ID 100?\n",
    "\n",
    "ausentes_products = products[products['product_name'].isna()]\n",
    "\n",
    "# Filtrando donde pasillo ID es 100\n",
    "\n",
    "filtro_ausentes_aisle = ausentes_products[ausentes_products['aisle_id'] == 100]\n",
    "print(filtro_ausentes_aisle)"
   ]
  },
  {
   "cell_type": "markdown",
   "id": "WRpIfXRphpSL",
   "metadata": {
    "id": "WRpIfXRphpSL"
   },
   "source": [
    "**Describe brevemente tus hallazgos.**\n",
    "\n",
    "✓ Podemos observar que los 1258 ausentes si etsan relacionados con pasillo ID 100"
   ]
  },
  {
   "cell_type": "code",
   "execution_count": 26,
   "id": "8fd0a541",
   "metadata": {
    "id": "8fd0a541"
   },
   "outputs": [
    {
     "name": "stdout",
     "output_type": "stream",
     "text": [
      "       product_id product_name  aisle_id  department_id\n",
      "37             38          NaN       100             21\n",
      "71             72          NaN       100             21\n",
      "109           110          NaN       100             21\n",
      "296           297          NaN       100             21\n",
      "416           417          NaN       100             21\n",
      "...           ...          ...       ...            ...\n",
      "49552       49553          NaN       100             21\n",
      "49574       49575          NaN       100             21\n",
      "49640       49641          NaN       100             21\n",
      "49663       49664          NaN       100             21\n",
      "49668       49669          NaN       100             21\n",
      "\n",
      "[1258 rows x 4 columns]\n"
     ]
    }
   ],
   "source": [
    "# ¿Todos los nombres de productos ausentes están relacionados con el departamento con ID 21?\n",
    "\n",
    "# Filtrando donde departamento ID es 21\n",
    "\n",
    "filtro_ausentes_department = ausentes_products[ausentes_products['department_id'] == 21]\n",
    "print(filtro_ausentes_department)\n"
   ]
  },
  {
   "cell_type": "markdown",
   "id": "qDpdYn1Fht_I",
   "metadata": {
    "id": "qDpdYn1Fht_I"
   },
   "source": [
    "**Describe brevemente tus hallazgos.**\n",
    "\n",
    "✓ Podemos observar que los 1258 product_name NaN estan relacionados con el departamento ID 21"
   ]
  },
  {
   "cell_type": "code",
   "execution_count": 70,
   "id": "325c3464",
   "metadata": {
    "id": "325c3464"
   },
   "outputs": [
    {
     "name": "stdout",
     "output_type": "stream",
     "text": [
      "      department_id department  aisle_id    aisle\n",
      "2779             21    missing       100  missing\n"
     ]
    }
   ],
   "source": [
    "# Usa las tablas department y aisle para revisar los datos del pasillo con ID 100 y el departamento con ID 21.\n",
    "\n",
    "# Como no tenemos columna en comun, creamos una columna temporal para hacer union de ambos DataFrames\n",
    "\n",
    "departments['key'] = 1\n",
    "aisles['key'] = 1\n",
    "\n",
    "departments_aisle = pd.merge(departments, aisles, on='key', how='inner')\n",
    "\n",
    "# Eliminar la columna temporal\n",
    "departments_aisle = departments_aisle.drop('key', axis=1)\n",
    "\n",
    "#Filtramos pasillo con ID 100 y el departamento con ID 21\n",
    "\n",
    "filtro_department_aisle = departments_aisle.query('aisle_id == 100 and department_id == 21')\n",
    "\n",
    "print(filtro_department_aisle)"
   ]
  },
  {
   "cell_type": "markdown",
   "id": "nqhSTUPhhvEJ",
   "metadata": {
    "id": "nqhSTUPhhvEJ"
   },
   "source": [
    "**Describe brevemente tus hallazgos.**\n",
    "\n",
    "✓ Podemos observar que existe un deparmento con nombre Missing"
   ]
  },
  {
   "cell_type": "code",
   "execution_count": 38,
   "id": "6b295120",
   "metadata": {
    "id": "6b295120",
    "scrolled": true
   },
   "outputs": [
    {
     "name": "stdout",
     "output_type": "stream",
     "text": [
      "       product_id product_name  aisle_id  department_id\n",
      "37             38      Unknown       100             21\n",
      "71             72      Unknown       100             21\n",
      "109           110      Unknown       100             21\n",
      "296           297      Unknown       100             21\n",
      "416           417      Unknown       100             21\n",
      "...           ...          ...       ...            ...\n",
      "49552       49553      Unknown       100             21\n",
      "49574       49575      Unknown       100             21\n",
      "49640       49641      Unknown       100             21\n",
      "49663       49664      Unknown       100             21\n",
      "49668       49669      Unknown       100             21\n",
      "\n",
      "[1258 rows x 4 columns]\n"
     ]
    }
   ],
   "source": [
    "# Completa los nombres de productos ausentes con 'Unknown'\n",
    "\n",
    "# Reemplazar los NaN en product_name con 'Unknown' en products_clean (dataFrame limpio)\n",
    "\n",
    "products_clean = products.copy()\n",
    "\n",
    "products_clean['product_name'] = products_clean['product_name'].fillna('Unknown')\n",
    "\n",
    "print(products_clean[products_clean['product_name']=='Unknown'])\n"
   ]
  },
  {
   "cell_type": "markdown",
   "id": "7eb45c86",
   "metadata": {
    "id": "7eb45c86"
   },
   "source": [
    "# `Instacart` data frame <a id='plantres3'></a>\n",
    "\n",
    "[Ver Tabla de Contenido](#tabla)"
   ]
  },
  {
   "cell_type": "code",
   "execution_count": 39,
   "id": "93e41d96",
   "metadata": {
    "id": "93e41d96"
   },
   "outputs": [
    {
     "name": "stdout",
     "output_type": "stream",
     "text": [
      "order_id                      0\n",
      "user_id                       0\n",
      "order_number                  0\n",
      "order_dow                     0\n",
      "order_hour_of_day             0\n",
      "days_since_prior_order    28815\n",
      "dtype: int64\n"
     ]
    }
   ],
   "source": [
    "# Encuentra los valores ausentes\n",
    "\n",
    "valores_ausentes_orders = instacart_clean.isna().sum()\n",
    "print(valores_ausentes_orders)\n"
   ]
  },
  {
   "cell_type": "code",
   "execution_count": 28,
   "id": "166e5a86",
   "metadata": {
    "id": "166e5a86"
   },
   "outputs": [
    {
     "name": "stdout",
     "output_type": "stream",
     "text": [
      "Valor minimo para order_number: 1\n",
      "\n",
      "order_id                  0\n",
      "user_id                   0\n",
      "order_number              0\n",
      "order_dow                 0\n",
      "order_hour_of_day         0\n",
      "days_since_prior_order    0\n",
      "dtype: int64\n"
     ]
    }
   ],
   "source": [
    "# ¿Hay algún valor ausente que no sea el primer pedido del cliente?\n",
    "\n",
    "# -----------------------------------------------------------------------\n",
    "\n",
    "# Evaluando valor minimmo de order_number\n",
    "\n",
    "valor_minimo= instacart_clean['order_number'].min() \n",
    "print('Valor minimo para order_number:', valor_minimo)\n",
    "print()\n",
    "\n",
    "primero_no_pedidos= instacart_clean[instacart_clean['order_number']>1]\n",
    "\n",
    "# Evaluando ausentes de los no son primer pedidos de cliente\n",
    "\n",
    "ausentes_primero_no_pedidos = primero_no_pedidos.isna().sum()\n",
    "\n",
    "print(ausentes_primero_no_pedidos)"
   ]
  },
  {
   "cell_type": "markdown",
   "id": "4e23d089",
   "metadata": {
    "id": "4e23d089"
   },
   "source": [
    "✓ No encontramos ausentes para las ordenes que no sean del primer pedido "
   ]
  },
  {
   "cell_type": "markdown",
   "id": "69dc9ca4",
   "metadata": {
    "id": "69dc9ca4"
   },
   "source": [
    "# `order_products` data frame <a id='plantres4'></a>\n",
    "\n",
    "[Ver Tabla de Contenido](#tabla)"
   ]
  },
  {
   "cell_type": "code",
   "execution_count": 40,
   "id": "b8240253",
   "metadata": {
    "id": "b8240253"
   },
   "outputs": [
    {
     "name": "stdout",
     "output_type": "stream",
     "text": [
      "order_id               0\n",
      "product_id             0\n",
      "add_to_cart_order    836\n",
      "reordered              0\n",
      "dtype: int64\n"
     ]
    }
   ],
   "source": [
    "# Encuentra los valores ausentes\n",
    "\n",
    "valores_ausentes_ordersproducts = orderproducts.isna().sum()\n",
    "print(valores_ausentes_ordersproducts)"
   ]
  },
  {
   "cell_type": "code",
   "execution_count": 41,
   "id": "9a78e5ee",
   "metadata": {
    "id": "9a78e5ee"
   },
   "outputs": [
    {
     "name": "stdout",
     "output_type": "stream",
     "text": [
      "Valor minimo: 1.0\n",
      "Valor minimo: 64.0\n"
     ]
    }
   ],
   "source": [
    "# ¿Cuáles son los valores mínimos y máximos en esta columna?\n",
    "\n",
    "valor_min_orders = orderproducts['add_to_cart_order'].min()\n",
    "\n",
    "valor_max_orders = orderproducts['add_to_cart_order'].max()\n",
    "\n",
    "print('Valor minimo:', valor_min_orders)\n",
    "\n",
    "print('Valor minimo:', valor_max_orders)"
   ]
  },
  {
   "cell_type": "code",
   "execution_count": 42,
   "id": "ab9d0c2b",
   "metadata": {
    "id": "ab9d0c2b",
    "scrolled": true
   },
   "outputs": [
    {
     "name": "stdout",
     "output_type": "stream",
     "text": [
      "         order_id  product_id  add_to_cart_order  reordered\n",
      "737       2449164        5068                NaN          0\n",
      "9926      1968313       43867                NaN          0\n",
      "14394     2926893       11688                NaN          0\n",
      "16418     1717990        4142                NaN          0\n",
      "30114     1959075       42828                NaN          1\n",
      "...           ...         ...                ...        ...\n",
      "4505662   1800005        7411                NaN          0\n",
      "4511400   1633337         260                NaN          0\n",
      "4517562    404157        9517                NaN          0\n",
      "4534112   1673227       17835                NaN          0\n",
      "4535739   1832957       17949                NaN          1\n",
      "\n",
      "[836 rows x 4 columns]\n"
     ]
    }
   ],
   "source": [
    "# Guarda todas las IDs de pedidos que tengan un valor ausente en 'add_to_cart_order'\n",
    "\n",
    "pedidos_con_valores_ausentes= orderproducts[orderproducts['add_to_cart_order'].isna()]\n",
    "\n",
    "print(pedidos_con_valores_ausentes)\n"
   ]
  },
  {
   "cell_type": "code",
   "execution_count": 43,
   "id": "54c31695",
   "metadata": {
    "id": "54c31695"
   },
   "outputs": [
    {
     "name": "stdout",
     "output_type": "stream",
     "text": [
      "Todos los pedidos con valores ausentes tienen más de 64 productos.\n",
      "\n",
      "Agrupando ausentes por su ID de pedido\n",
      "\n",
      "    order_id  product_count\n",
      "0       9310             65\n",
      "1      61355            127\n",
      "2     102236             95\n",
      "3     129627             69\n",
      "4     165801             70\n",
      "..       ...            ...\n",
      "65   2999801             70\n",
      "66   3125735             86\n",
      "67   3308010            115\n",
      "68   3347453             71\n",
      "69   3383594             69\n",
      "\n",
      "[70 rows x 2 columns]\n",
      "\n",
      "El valor minimo de conteo es: 65\n"
     ]
    }
   ],
   "source": [
    "# ¿Todos los pedidos con valores ausentes tienen más de 64 productos?\n",
    "\n",
    "# Agrupa todos los pedidos con datos ausentes por su ID de pedido.\n",
    "\n",
    "# ------------------------------------------------------------------------------------------------------------\n",
    "\n",
    "# Creando una lista con los valores unicos de order_id\n",
    "\n",
    "pedidos_con_valores_ausentes = list(pedidos_con_valores_ausentes['order_id'].unique())\n",
    "\n",
    "# Agrupar por 'order_id' y contar el número de productos por pedido usando 'product_id' \n",
    "# Y .isin(pedidos_con_valores_ausentes) verifica si cada valor en la columna 'order_id' está presente en pedidos_con_valores_ausentes\n",
    "\n",
    "conteo_productos_por_pedido = orderproducts[orderproducts['order_id'].isin(pedidos_con_valores_ausentes)].groupby('order_id')['product_id'].count().reset_index(name='product_count')\n",
    "\n",
    "#  Verificamos que todo el conteo de conteo_productos_por_pedido sea mayor a 64\n",
    "verificar_conteo = (conteo_productos_por_pedido['product_count']>64).all()\n",
    "\n",
    "if verificar_conteo:\n",
    "    print(\"Todos los pedidos con valores ausentes tienen más de 64 productos.\")\n",
    "else:\n",
    "    print(\"No todos los pedidos con valores ausentes tienen más de 64 productos.\")\n",
    "    \n",
    "print()\n",
    "# Impresion de conteo de productos por pedido\n",
    "\n",
    "print('Agrupando ausentes por su ID de pedido')\n",
    "print()\n",
    "print(conteo_productos_por_pedido)\n",
    "print()\n",
    "\n",
    "# Evaluar el valor minimo del conteo\n",
    "\n",
    "valor_minimo = conteo_productos_por_pedido['product_count'].min()\n",
    "\n",
    "print('El valor minimo de conteo es:', valor_minimo)"
   ]
  },
  {
   "cell_type": "markdown",
   "id": "d40b3949",
   "metadata": {},
   "source": [
    "<div class=\"alert alert-block alert-info\">\n",
    "<p style=\"font-size: 20px; margin: 0;\">Todos los pedidos con valores ausentes tienen más de 64 productos.</p>\n",
    "<p>Despues del conteo realizó un IF arriba, donde ejecuto impresión si se cumple la condición, y en caso en caso contrario mostrar que no se cumple la condición. En este caso si se cumple la condición, de que si todos los pedidos con valores ausentes son mayores a 64 productos. <a class=\"tocSkip\"></a>\n",
    "</div>"
   ]
  },
  {
   "cell_type": "code",
   "execution_count": 44,
   "id": "7a987d08",
   "metadata": {
    "id": "7a987d08",
    "scrolled": true
   },
   "outputs": [
    {
     "name": "stdout",
     "output_type": "stream",
     "text": [
      "         order_id  product_id add_to_cart_order  reordered\n",
      "737       2449164        5068               999          0\n",
      "9926      1968313       43867               999          0\n",
      "14394     2926893       11688               999          0\n",
      "16418     1717990        4142               999          0\n",
      "30114     1959075       42828               999          1\n",
      "...           ...         ...               ...        ...\n",
      "4505662   1800005        7411               999          0\n",
      "4511400   1633337         260               999          0\n",
      "4517562    404157        9517               999          0\n",
      "4534112   1673227       17835               999          0\n",
      "4535739   1832957       17949               999          1\n",
      "\n",
      "[836 rows x 4 columns]\n",
      "\n",
      "<class 'pandas.core.frame.DataFrame'>\n",
      "RangeIndex: 4545007 entries, 0 to 4545006\n",
      "Data columns (total 4 columns):\n",
      " #   Column             Dtype\n",
      "---  ------             -----\n",
      " 0   order_id           int64\n",
      " 1   product_id         int64\n",
      " 2   add_to_cart_order  int64\n",
      " 3   reordered          int64\n",
      "dtypes: int64(4)\n",
      "memory usage: 138.7 MB\n"
     ]
    }
   ],
   "source": [
    "# Remplaza los valores ausentes en la columna 'add_to_cart? con 999 y convierte la columna al tipo entero.\n",
    "\n",
    "orderproducts_clean = orderproducts.copy()\n",
    "\n",
    "orderproducts_clean['add_to_cart_order'] = orderproducts_clean['add_to_cart_order'].fillna('999')\n",
    "\n",
    "print(orderproducts_clean[orderproducts_clean['add_to_cart_order']=='999'])\n",
    "\n",
    "print()\n",
    "\n",
    "# Convertir columna a tipo entero\n",
    "\n",
    "orderproducts_clean['add_to_cart_order'] = orderproducts_clean['add_to_cart_order'].astype('int')\n",
    "\n",
    "orderproducts_clean.info()"
   ]
  },
  {
   "cell_type": "markdown",
   "id": "RnplPFY1gSrb",
   "metadata": {
    "id": "RnplPFY1gSrb"
   },
   "source": [
    "# Conclusiones <a id='plantres5'></a>\n",
    "\n",
    "[Ver Tabla de Contenido](#tabla)\n",
    "\n",
    "- Se encontró que todos nombres  de productos ausentes están relacionados con el pasillo con ID 100\n",
    "\n",
    "- Se encontró que todos los nombres de productos ausentes están relacionados con el departamento con ID 21\n",
    "\n",
    "- Se encontró la existencia de un departmento llamado 'missing', relacionado con el pasillo 100 e ID de departamento 21\n",
    "\n",
    "- Se encontró valores ausentes en Instacart en la columna ays_since_prior_order \n",
    "\n",
    "- Se encontró valores ausentes en order_products en la columna add_to_cart_order  \n",
    "\n",
    "- Se encontró que todos los pedidos con valores ausentes tienen más de 64 productos. \n",
    "\n",
    "- Se realizó reemplazo de valores ausentes NaN por 'Unknown' en product_name, tambien se realizó de ausentes en add_to_cart_order por '999'\n",
    "\n",
    "\n"
   ]
  },
  {
   "cell_type": "markdown",
   "id": "UjrOIwTcz3ri",
   "metadata": {
    "id": "UjrOIwTcz3ri"
   },
   "source": [
    "# Etapa 4. Análisis de los datos <a id='plancuatro1'></a>\n",
    "\n",
    "[Ver Tabla de Contenido](#tabla)\n",
    "\n",
    "Una vez los datos estén procesados y listos, haz el siguiente análisis:"
   ]
  },
  {
   "cell_type": "markdown",
   "id": "turkish-kidney",
   "metadata": {
    "id": "turkish-kidney"
   },
   "source": [
    "# [A] Fácil (deben completarse todos para aprobar)\n",
    "\n",
    "1. Verifica que los valores en las columnas `'order_hour_of_day'` y `'order_dow'` en la tabla orders sean razonables (es decir, `'order_hour_of_day'` oscile entre 0 y 23 y `'order_dow'` oscile entre 0 y 6).\n",
    "2. Crea un gráfico que muestre el número de personas que hacen pedidos dependiendo de la hora del día.\n",
    "3. Crea un gráfico que muestre qué día de la semana la gente hace sus compras.\n",
    "4. Crea un gráfico que muestre el tiempo que la gente espera hasta hacer su siguiente pedido, y comenta sobre los valores mínimos y máximos."
   ]
  },
  {
   "cell_type": "markdown",
   "id": "short-capability",
   "metadata": {
    "id": "short-capability"
   },
   "source": [
    "# [A1] Verifica que los valores sean sensibles <a id='plancuatro2'></a>\n",
    "\n",
    "[Ver Tabla de Contenido](#tabla)"
   ]
  },
  {
   "cell_type": "code",
   "execution_count": 45,
   "id": "growing-fruit",
   "metadata": {
    "id": "growing-fruit"
   },
   "outputs": [
    {
     "name": "stdout",
     "output_type": "stream",
     "text": [
      "Todos los valores en order_hour_of_day son razonables (oscilan entre 0 y 23)\n",
      "Todos los valores en order_dow son razonables (oscilan entre 0 y 6)\n"
     ]
    }
   ],
   "source": [
    "# Verificar que 'order_hour_of_day' esté entre 0 y 23\n",
    "\n",
    "#-------------------------------------------------------------------------------------------------------------------\n",
    "\n",
    "# Usamos between para verificar que este dentro del rango especificado junto con all() para verificar que todos cumplan la condicion\n",
    "\n",
    "valores_hour_of_day = instacart_clean['order_hour_of_day'].between(0, 23).all()\n",
    "\n",
    "if valores_hour_of_day:\n",
    "   print('Todos los valores en order_hour_of_day son razonables (oscilan entre 0 y 23)')\n",
    "else:\n",
    "   print('Hay valores no razonables en order_hour_of_day')\n",
    "\n",
    "\n",
    "# Verificar que 'order_dow' esté entre 0 y 6\n",
    "\n",
    "valores_order_dow = instacart_clean['order_dow'].between(0, 6).all()\n",
    "\n",
    "if valores_order_dow:\n",
    "   print('Todos los valores en order_dow son razonables (oscilan entre 0 y 6)')\n",
    "else:\n",
    "   print('Hay valores no razonables en order_dow')\n",
    "\n"
   ]
  },
  {
   "cell_type": "markdown",
   "id": "20baf3f5",
   "metadata": {},
   "source": [
    "<div class=\"alert alert-block alert-info\">\n",
    "<p style=\"font-size: 20px; margin: 0;\">Otra forma de comprobar los valores de order_hour_of_day' y 'order_dow' usando unique() <a class=\"tocSkip\"></a>\n",
    "</div>"
   ]
  },
  {
   "cell_type": "code",
   "execution_count": 46,
   "id": "195b91c4",
   "metadata": {},
   "outputs": [
    {
     "name": "stdout",
     "output_type": "stream",
     "text": [
      "[0, 1, 2, 3, 4, 5, 6, 7, 8, 9, 10, 11, 12, 13, 14, 15, 16, 17, 18, 19, 20, 21, 22, 23]\n"
     ]
    }
   ],
   "source": [
    "# Verificar que 'order_hour_of_day' esté entre 0 y 23\n",
    "\n",
    "\n",
    "valores_hour_of_day_unique = sorted(instacart_clean['order_hour_of_day'].unique())\n",
    "\n",
    "print(valores_hour_of_day_unique)\n"
   ]
  },
  {
   "cell_type": "code",
   "execution_count": 47,
   "id": "c8fed20a",
   "metadata": {},
   "outputs": [
    {
     "name": "stdout",
     "output_type": "stream",
     "text": [
      "[0, 1, 2, 3, 4, 5, 6]\n"
     ]
    }
   ],
   "source": [
    "# Verificar que 'order_dow' esté entre 0 y 6\n",
    "\n",
    "valores_order_dow_unique = sorted(instacart_clean['order_dow'].unique())\n",
    "\n",
    "print(valores_order_dow_unique)"
   ]
  },
  {
   "cell_type": "markdown",
   "id": "a6743a70",
   "metadata": {
    "id": "a6743a70"
   },
   "source": [
    "# [A2] Para cada hora del día, ¿cuántas personas hacen órdenes?  <a id='plancuatro3'></a>\n",
    "\n",
    "[Ver Tabla de Contenido](#tabla)"
   ]
  },
  {
   "cell_type": "code",
   "execution_count": 48,
   "id": "a36cca27",
   "metadata": {
    "id": "a36cca27"
   },
   "outputs": [
    {
     "data": {
      "image/png": "[encoded data removed]",
      "text/plain": [
       "<Figure size 640x480 with 1 Axes>"
      ]
     },
     "metadata": {},
     "output_type": "display_data"
    }
   ],
   "source": [
    "# Agrupamos el DataFrame instacart por los horas del dia junto con ['user_id'].nunique() para conocer la cantidad de usuarios unicos para grupo de horas\n",
    "\n",
    "ordenes_por_hora = instacart_clean.groupby('order_hour_of_day')['user_id'].nunique()\n",
    "\n",
    "# Convertir a DataFrame para mejor visualización \n",
    "ordenes_por_hora = ordenes_por_hora.reset_index(name='Cantidad de Usuarios')\n",
    "\n",
    "\n",
    "ordenes_por_hora.plot(x='order_hour_of_day', kind='bar',color='hotpink', xlabel='Horas del Dia')\n",
    "plt.show()\n"
   ]
  },
  {
   "cell_type": "markdown",
   "id": "11270eed",
   "metadata": {
    "id": "11270eed"
   },
   "source": [
    "**Escribe aquí tus conclusiones:**\n",
    "\n",
    "✓ Podemos observar que entre las 10 am y 16 pm son las horas del dia donde los clientes realizan más ordenes de pedidos."
   ]
  },
  {
   "cell_type": "markdown",
   "id": "documented-command",
   "metadata": {
    "id": "documented-command"
   },
   "source": [
    "# [A3] ¿Qué día de la semana compran víveres las personas?  <a id='plancuatro4'></a>\n",
    "\n",
    "[Ver Tabla de Contenido](#tabla)"
   ]
  },
  {
   "cell_type": "code",
   "execution_count": 49,
   "id": "chief-digit",
   "metadata": {
    "id": "chief-digit"
   },
   "outputs": [
    {
     "data": {
      "image/png": "[encoded data removed]",
      "text/plain": [
       "<Figure size 640x480 with 1 Axes>"
      ]
     },
     "metadata": {},
     "output_type": "display_data"
    }
   ],
   "source": [
    "# Agrupamos el DataFrame instacart por las ordenes del dia junto con ['user_id'].nunique() para conocer la cantidad de usuarios unicos para grupo de ordenes\n",
    "\n",
    "ordenes_por_semana = instacart_clean.groupby('order_dow')['user_id'].nunique()\n",
    "\n",
    "# Convertir a DataFrame para mejor visualización \n",
    "ordenes_por_semana  = ordenes_por_semana.reset_index(name='Cantidad de Usuarios')\n",
    "\n",
    "ordenes_por_semana.plot(x='order_dow', kind='bar',color='hotpink',xlabel='Dias de la Semana')\n",
    "\n",
    "plt.show()\n"
   ]
  },
  {
   "cell_type": "markdown",
   "id": "dominant-lightning",
   "metadata": {
    "id": "dominant-lightning"
   },
   "source": [
    "**Escribe aquí tus conclusiones:**\n",
    "\n",
    "✓ Podemos observar que entre los dias sábados y domingos son los dias en los que mas se compra viveres"
   ]
  },
  {
   "cell_type": "markdown",
   "id": "cutting-concert",
   "metadata": {
    "id": "cutting-concert"
   },
   "source": [
    "# [A4] ¿Cuánto tiempo esperan las personas hasta hacer otro pedido? Comenta sobre los valores mínimos y máximos.  <a id='plancuatro5'></a>\n",
    "\n",
    "[Ver Tabla de Contenido](#tabla)"
   ]
  },
  {
   "cell_type": "code",
   "execution_count": 50,
   "id": "c231f523",
   "metadata": {
    "id": "c231f523"
   },
   "outputs": [
    {
     "name": "stdout",
     "output_type": "stream",
     "text": [
      "Tiempo minimo: 0.0\n",
      "Tiempo maximo: 30.0\n",
      "\n"
     ]
    },
    {
     "data": {
      "image/png": "[encoded data removed]",
      "text/plain": [
       "<Figure size 640x480 with 1 Axes>"
      ]
     },
     "metadata": {},
     "output_type": "display_data"
    }
   ],
   "source": [
    "tiempo_transcurrido = instacart_clean.groupby('days_since_prior_order')['user_id'].nunique()\n",
    "\n",
    "# Convertir a DataFrame para mejor visualización \n",
    "tiempo_transcurrido = tiempo_transcurrido.reset_index(name='Cantidad de Usuarios')\n",
    "\n",
    "tiempo_min = tiempo_transcurrido['days_since_prior_order'].min()\n",
    "tiempo_max = tiempo_transcurrido['days_since_prior_order'].max()\n",
    "\n",
    "print('Tiempo minimo:',tiempo_min)\n",
    "print('Tiempo maximo:',tiempo_max)\n",
    "\n",
    "print()\n",
    "\n",
    "tiempo_transcurrido.plot(x='days_since_prior_order', kind='bar',color='hotpink',xlabel='Tiempo Transcurrido')\n",
    "plt.show()"
   ]
  },
  {
   "cell_type": "markdown",
   "id": "discrete-vertex",
   "metadata": {
    "id": "discrete-vertex"
   },
   "source": [
    "**Escribe aquí tus conclusiones:**\n",
    "\n",
    "✓ Podemos observar que entre la mayoria de los clientes esperan su mayoria entre 7 y 30 dias para hacer otro pedido."
   ]
  },
  {
   "cell_type": "markdown",
   "id": "tight-staff",
   "metadata": {
    "id": "tight-staff"
   },
   "source": [
    "# [B] Intermedio (deben completarse todos para aprobar)\n",
    "\n",
    "1. ¿Existe alguna diferencia entre las distribuciones `'order_hour_of_day'` de los miércoles y los sábados? Traza gráficos de barra de `'order_hour_of_day'` para ambos días en la misma figura y describe las diferencias que observes.\n",
    "2. Grafica la distribución para el número de órdenes que hacen los clientes (es decir, cuántos clientes hicieron solo 1 pedido, cuántos hicieron 2, cuántos 3, y así sucesivamente...).\n",
    "3. ¿Cuáles son los 20 principales productos que se piden con más frecuencia (muestra su identificación y nombre)?"
   ]
  },
  {
   "cell_type": "markdown",
   "id": "packed-classic",
   "metadata": {
    "id": "packed-classic"
   },
   "source": [
    "# [B1] Diferencia entre miércoles y sábados para  `'order_hour_of_day'`. Traza gráficos de barra para los dos días y describe las diferencias que veas. \n",
    "<a id='plancuatro6'></a>\n",
    "\n",
    "[Ver Tabla de Contenido](#tabla)"
   ]
  },
  {
   "cell_type": "code",
   "execution_count": 51,
   "id": "d89b8403",
   "metadata": {
    "id": "d89b8403"
   },
   "outputs": [
    {
     "data": {
      "image/png": "[encoded data removed]",
      "text/plain": [
       "<Figure size 1000x600 with 1 Axes>"
      ]
     },
     "metadata": {},
     "output_type": "display_data"
    }
   ],
   "source": [
    "# Filtrar los datos para miércoles (3) y sábados (6)\n",
    "\n",
    "miercoles_data = instacart_clean[instacart_clean['order_dow'] == 3]\n",
    "sabado_data = instacart_clean[instacart_clean['order_dow'] == 6]\n",
    "\n",
    "# Contar el número de pedidos por hora para cada día\n",
    "\n",
    "miercoles_counts = miercoles_data['order_hour_of_day'].value_counts().sort_index()\n",
    "sabado_counts = sabado_data['order_hour_of_day'].value_counts().sort_index()\n",
    "\n",
    "# Crear un DataFrame combinado para graficar\n",
    "\n",
    "instacart_df = pd.DataFrame({\n",
    "    'Miercoles': miercoles_counts,\n",
    "    'Sabado': sabado_counts\n",
    "})\n",
    "\n",
    "# Graficar gráficos de barras\n",
    "\n",
    "instacart_df.plot(kind='bar', figsize=(10, 6), \n",
    "                  color=['skyblue', 'hotpink'],\n",
    "                  title='Numero de Ordenes por Hora: Miercoles vs. Sabado', \n",
    "                  xlabel = 'Horas del dia', ylabel='Numero de ordenes')\n",
    "\n",
    "plt.show()"
   ]
  },
  {
   "cell_type": "markdown",
   "id": "ea1a8563",
   "metadata": {},
   "source": [
    "**Escribe aquí tus conclusiones:**\n",
    "\n",
    "✓ Podemos observar que no hay mucha variación entre ambos dias, son bastantes similares y las horas del dia con mayor afluencia de ordenes es entre las 10 am y 16 pm."
   ]
  },
  {
   "cell_type": "markdown",
   "id": "e3891143",
   "metadata": {
    "id": "e3891143"
   },
   "source": [
    "# [B2] ¿Cuál es la distribución para el número de pedidos por cliente?  \n",
    "\n",
    "[Ver Tabla de Contenido](#tabla)\n",
    "\n",
    "<a id='plancuatro7'></a>"
   ]
  },
  {
   "cell_type": "code",
   "execution_count": 52,
   "id": "d8c26c23",
   "metadata": {
    "id": "d8c26c23"
   },
   "outputs": [
    {
     "name": "stdout",
     "output_type": "stream",
     "text": [
      "Valor maximo de pedidos: 28\n",
      "Valor media de pedidos: 14.5\n",
      "\n"
     ]
    },
    {
     "data": {
      "image/png": "[encoded data removed]",
      "text/plain": [
       "<Figure size 1000x600 with 1 Axes>"
      ]
     },
     "metadata": {},
     "output_type": "display_data"
    }
   ],
   "source": [
    "# Agrupacion de Ordenes por clientes\n",
    "\n",
    "ordenes_de_clientes = instacart_clean.groupby('user_id')['order_number'].count().reset_index(name='order_number')\n",
    "\n",
    "# Valores maximo y minimo en pedidos de clientes\n",
    "\n",
    "maximo_de_pedido = ordenes_de_clientes['order_number'].max()\n",
    "minimo_de_pedido = ordenes_de_clientes['order_number'].min()\n",
    "valor_media_pedido = (minimo_de_pedido + maximo_de_pedido)/2\n",
    "\n",
    "\n",
    "filtro_clientes_pedidos = ordenes_de_clientes.head(n=500)\n",
    "\n",
    "print('Valor maximo de pedidos:', maximo_de_pedido)\n",
    "print('Valor media de pedidos:', valor_media_pedido)\n",
    "\n",
    "print()\n",
    "\n",
    "# Graficar histograma del número de pedidos\n",
    "\n",
    "plt.figure(figsize=(10, 6))\n",
    "plt.hist(filtro_clientes_pedidos['order_number'], bins=15, color='hotpink', edgecolor='black')\n",
    "plt.title('Distribución del Número de Pedidos por Clientes (Primeros 500 Clientes)')\n",
    "plt.xlabel('Número de Pedidos')\n",
    "plt.ylabel('Número de Clientes')\n",
    "plt.xlim(0, 15)\n",
    "plt.ylim(0, 200) \n",
    "plt.grid(axis='y', linestyle='--', alpha=0.7)\n",
    "plt.show()"
   ]
  },
  {
   "cell_type": "markdown",
   "id": "d2eff7d5",
   "metadata": {
    "id": "d2eff7d5"
   },
   "source": [
    "**Escribe aquí tus conclusiones:**\n",
    "\n",
    "✓ Dada la distribución, podemos observar que a mayor cantidad de clientes, la cantidad de número pedidos que se realizan es mucho menor.\n"
   ]
  },
  {
   "cell_type": "markdown",
   "id": "54a0319c",
   "metadata": {
    "id": "54a0319c"
   },
   "source": [
    "# [B3] ¿Cuáles son los 20 productos más populares (muestra su ID y nombre)? <a id='plancuatro8'></a>\n",
    "\n",
    "[Ver Tabla de Contenido](#tabla)"
   ]
  },
  {
   "cell_type": "code",
   "execution_count": 53,
   "id": "exterior-arizona",
   "metadata": {
    "id": "exterior-arizona",
    "scrolled": true
   },
   "outputs": [
    {
     "name": "stdout",
     "output_type": "stream",
     "text": [
      "                   product_name  product_id   cant\n",
      "3252                     BANANA       24852  66049\n",
      "3057     BAG OF ORGANIC BANANAS       13176  53295\n",
      "28718      ORGANIC STRAWBERRIES       21137  37039\n",
      "25872      ORGANIC BABY SPINACH       21903  33971\n",
      "27214      ORGANIC HASS AVOCADO       47209  29772\n",
      "25838           ORGANIC AVOCADO       47766  24689\n",
      "20096               LARGE LEMON       47626  21495\n",
      "38562              STRAWBERRIES       16797  20018\n",
      "21008                     LIMES       26209  19690\n",
      "29232        ORGANIC WHOLE MILK       27845  19598\n",
      "28207       ORGANIC RASPBERRIES       27966  19196\n",
      "29311      ORGANIC YELLOW ONION       22935  15898\n",
      "26937            ORGANIC GARLIC       24964  15292\n",
      "29349          ORGANIC ZUCCHINI       45007  14582\n",
      "26025       ORGANIC BLUEBERRIES       39275  13879\n",
      "10410            CUCUMBER KIRBY       49683  13674\n",
      "26918        ORGANIC FUJI APPLE       28204  12544\n",
      "27472             ORGANIC LEMON        5876  12230\n",
      "2331   APPLE HONEYCRISP ORGANIC        8277  11993\n",
      "27064    ORGANIC GRAPE TOMATOES       40706  11781\n"
     ]
    }
   ],
   "source": [
    "# Seleccionamos los 20 productos que tienen mas pedidos en la columna order_id\n",
    "\n",
    "instacart_order = pd.merge(instacart_clean, orderproducts_clean, on='order_id', how='inner')\n",
    "\n",
    "instacart_order_products = pd.merge(instacart_order, products, on='product_id', how='inner')\n",
    "\n",
    "filtro_products = instacart_order_products.groupby(['product_name','product_id'])['product_id'].count().reset_index(name='cant')\n",
    "\n",
    "# Utilizamos nlargest() para que nos traiga los 20 productos mas alto en el conteo \n",
    "\n",
    "filtro_products_popular = filtro_products.nlargest(20,'cant')\n",
    "\n",
    "print(filtro_products_popular)\n"
   ]
  },
  {
   "cell_type": "markdown",
   "id": "gross-theme",
   "metadata": {
    "id": "gross-theme"
   },
   "source": [
    "# [C] Difícil (deben completarse todos para aprobar)\n",
    "\n",
    "1. ¿Cuántos artículos suelen comprar las personas en un pedido? ¿Cómo es la distribución?\n",
    "2. ¿Cuáles son los 20 principales artículos que vuelven a pedirse con mayor frecuencia (muestra sus nombres e IDs de los productos)?\n",
    "3. Para cada producto, ¿cuál es la tasa de repetición del pedido (número de repeticiones de pedido/total de pedidos?\n",
    "4. Para cada cliente, ¿qué proporción de los productos que pidió ya los había pedido? Calcula la tasa de repetición de pedido para cada usuario en lugar de para cada producto.\n",
    "5. ¿Cuáles son los 20 principales artículos que la gente pone primero en sus carritos (muestra las IDs de los productos, sus nombres, y el número de veces en que fueron el primer artículo en añadirse al carrito)?"
   ]
  },
  {
   "cell_type": "markdown",
   "id": "romantic-deposit",
   "metadata": {
    "id": "romantic-deposit"
   },
   "source": [
    "# [C1] ¿Cuántos artículos compran normalmente las personas en un pedido? ¿Cómo es la distribución? <a id='plancuatro9'></a>\n",
    "\n",
    "[Ver Tabla de Contenido](#tabla)"
   ]
  },
  {
   "cell_type": "code",
   "execution_count": 54,
   "id": "virtual-punch",
   "metadata": {
    "id": "virtual-punch",
    "scrolled": true
   },
   "outputs": [
    {
     "data": {
      "image/png": "[encoded data removed]",
      "text/plain": [
       "<Figure size 1000x600 with 1 Axes>"
      ]
     },
     "metadata": {},
     "output_type": "display_data"
    }
   ],
   "source": [
    "# Pedidos por clientes\n",
    "pedidos_por_clientes = instacart_clean.groupby(['user_id','order_id'])['order_number'].count().reset_index(name='order_number')\n",
    "\n",
    "# Agrupando pedidos de clientes con ordenes de productos \n",
    "grouby_pedidos_products = pd.merge(pedidos_por_clientes, orderproducts_clean, on='order_id', how='inner')\n",
    "\n",
    "# Filtrando articulos por pedidos de clientes\n",
    "\n",
    "groupby_articulos_pedidos = grouby_pedidos_products.groupby(['user_id','order_id'])['product_id'].count().reset_index(name='cant_art')\n",
    "\n",
    "filtro_articulos_pedidos = groupby_articulos_pedidos.head(n=100)\n",
    "\n",
    "\n",
    "# Graficar histograma del número de articulos por pedidos\n",
    "\n",
    "plt.figure(figsize=(10, 6))\n",
    "plt.hist(filtro_articulos_pedidos['cant_art'], bins=15, color='hotpink', edgecolor='black')\n",
    "plt.title('Distribución del Número de Articulos por Pedidos')\n",
    "plt.xlabel('Número de Articulos')\n",
    "plt.ylabel('Pedidos de Clientes')\n",
    "plt.grid(axis='y', linestyle='--', alpha=0.7)\n",
    "plt.show()"
   ]
  },
  {
   "cell_type": "markdown",
   "id": "6bc1a203",
   "metadata": {},
   "source": [
    "**Escribe aquí tus conclusiones:**\n",
    "\n",
    "✓Podemos observar que en un pedido compran unos 40 articulos. A mayor cantidad de pedidos el numero de articulos a comprar disminuye.\n"
   ]
  },
  {
   "cell_type": "markdown",
   "id": "1d4b83a9",
   "metadata": {},
   "source": [
    "# [C2] ¿Cuáles son los 20 principales artículos que vuelven a pedirse con mayor frecuencia (muestra sus nombres e IDs de los productos)? <a id='plancuatro10'></a>\n",
    "\n",
    "[Ver Tabla de Contenido](#tabla)"
   ]
  },
  {
   "cell_type": "code",
   "execution_count": 55,
   "id": "completed-frank",
   "metadata": {
    "id": "completed-frank"
   },
   "outputs": [
    {
     "name": "stdout",
     "output_type": "stream",
     "text": [
      "       product_id              product_name  total_reodered\n",
      "17837       24852                    BANANA           55762\n",
      "9383        13176    BAG OF ORGANIC BANANAS           44448\n",
      "15138       21137      ORGANIC STRAWBERRIES           28639\n",
      "15698       21903      ORGANIC BABY SPINACH           26233\n",
      "33927       47209      ORGANIC HASS AVOCADO           23628\n",
      "34337       47766           ORGANIC AVOCADO           18743\n",
      "19995       27845        ORGANIC WHOLE MILK           16249\n",
      "34234       47626               LARGE LEMON           15044\n",
      "20083       27966       ORGANIC RASPBERRIES           14747\n",
      "12010       16797              STRAWBERRIES           13945\n",
      "18811       26209                     LIMES           13327\n",
      "16450       22935      ORGANIC YELLOW ONION           11145\n",
      "17919       24964            ORGANIC GARLIC           10411\n",
      "32338       45007          ORGANIC ZUCCHINI           10074\n",
      "35711       49683            CUCUMBER KIRBY            9537\n",
      "20247       28204        ORGANIC FUJI APPLE            8989\n",
      "5891         8277  APPLE HONEYCRISP ORGANIC            8836\n",
      "28216       39275       ORGANIC BLUEBERRIES            8799\n",
      "4206         5876             ORGANIC LEMON            8411\n",
      "35400       49235       ORGANIC HALF & HALF            8389\n"
     ]
    }
   ],
   "source": [
    "#Filtar solo reordered ==1 (Representa la cantidad de pedidos que ha sido pedido mas de 1  vez)\n",
    "\n",
    "filtro_reodered = instacart_order_products[instacart_order_products['reordered']==1]\n",
    "\n",
    "# Agrupar product_id y product_name\n",
    "\n",
    "agrupar_reodered = filtro_reodered.groupby(['product_id', 'product_name'])['reordered'].count().reset_index(name='total_reodered')\n",
    "\n",
    "# Filtro los 20 productos con valores mas altos en la columna total_reodered \n",
    "\n",
    "filtro_total_orders_reodered = agrupar_reodered.nlargest(20,'total_reodered')\n",
    "\n",
    "print(filtro_total_orders_reodered)"
   ]
  },
  {
   "cell_type": "markdown",
   "id": "9d312b14",
   "metadata": {
    "id": "9d312b14"
   },
   "source": [
    "# [C3] Para cada producto, ¿cuál es la proporción de las veces que se pide y que se vuelve a pedir? <a id='plancuatro11'></a>\n",
    "\n",
    "[Ver Tabla de Contenido](#tabla)"
   ]
  },
  {
   "cell_type": "code",
   "execution_count": 56,
   "id": "7dfbdca2",
   "metadata": {},
   "outputs": [
    {
     "name": "stdout",
     "output_type": "stream",
     "text": [
      "    product_id                                       product_name  proportion\n",
      "0            1                         CHOCOLATE SANDWICH COOKIES   15.080346\n",
      "1            2                                   ALL-SEASONS SALT   10.280374\n",
      "2            3               ROBUST GOLDEN UNSWEETENED OOLONG TEA   12.222222\n",
      "3            4  SMART ONES CLASSIC FAVORITES MINI RIGATONI WIT...    9.125475\n",
      "4            7                     PURE COCONUT WATER WITH ORANGE   33.333333\n",
      "5            8                  CUT RUSSET POTATOES STEAM N' MASH    8.904110\n",
      "6            9                  LIGHT STRAWBERRY BLUEBERRY YOGURT   25.000000\n",
      "7           10     SPARKLING ORANGE JUICE & PRICKLY PEAR BEVERAGE    9.140049\n",
      "8           11                                  PEACH MANGO JUICE   11.111111\n",
      "9           12                         CHOCOLATE FUDGE LAYER CAKE   10.373444\n",
      "10          13                                  SALINE NASAL MIST   14.285714\n",
      "11          14                     FRESH SCENT DISHWASHER CLEANER   13.636364\n",
      "12          17                                  RENDERED DUCK FAT    4.347826\n",
      "13          18                PIZZA FOR ONE SUPREMA  FROZEN PIZZA    8.750000\n",
      "14          19   GLUTEN FREE QUINOA THREE CHEESE & MUSHROOM BLEND    3.846154\n",
      "15          21                   SMALL & MEDIUM DENTAL DOG TREATS   12.500000\n",
      "16          22                  FRESH BREATH ORAL RINSE MILD MINT   27.272727\n",
      "17          23                             ORGANIC TURKEY BURGERS    8.912831\n",
      "18          24  TRI-VI-SOL® VITAMINS A-C-AND D SUPPLEMENT DROP...   33.333333\n",
      "19          25            SALTED CARAMEL LEAN PROTEIN & FIBER BAR    8.540925\n",
      "20          26        FANCY FEAST TROUT FEAST FLAKED WET CAT FOOD    8.717949\n",
      "21          27  COMPLETE SPRING WATER FOAMING ANTIBACTERIAL HA...   11.594203\n",
      "22          28                                  WHEAT CHEX CEREAL   10.982659\n",
      "23          29  FRESH CUT GOLDEN SWEET NO SALT ADDED WHOLE KER...    9.550562\n",
      "24          30         THREE CHEESE ZITI- MARINARA WITH MEATBALLS   12.500000\n",
      "25          31                                 WHITE PEARL ONIONS    7.692308\n",
      "26          32                      NACHO CHEESE WHITE BEAN CHIPS   10.775862\n",
      "27          33                      ORGANIC SPAGHETTI STYLE PASTA    5.263158\n",
      "28          34                               PEANUT BUTTER CEREAL    7.308970\n",
      "29          35     ITALIAN HERB PORCINI MUSHROOMS CHICKEN SAUSAGE   10.600707\n",
      "30          36  TRADITIONAL LASAGNA WITH MEAT SAUCE SAVORY ITA...    8.677686\n",
      "31          37                 NOODLE SOUP MIX WITH CHICKEN BROTH   12.048193\n",
      "32          39           DAILY TANGERINE CITRUS FLAVORED BEVERAGE   33.333333\n",
      "33          40  BEEF HOT LINKS BEEF SMOKED SAUSAGE WITH CHILE ...   10.256410\n",
      "34          41        ORGANIC SOURDOUGH EINKORN CRACKERS ROSEMARY   20.000000\n",
      "35          43                                ORGANIC CLEMENTINES    8.571429\n",
      "36          44                        SPARKLING RASPBERRY SELTZER   10.344828\n",
      "37          45                                  EUROPEAN CUCUMBER   10.116946\n",
      "38          46                     RAISIN CINNAMON BAGELS 5 COUNT    8.247423\n",
      "39          47         ONION FLAVOR ORGANIC ROASTED SEAWEED SNACK    8.032129\n",
      "40          48                      SCHOOL GLUE- WASHABLE- NO RUN   50.000000\n",
      "41          49      VEGETARIAN GRAIN MEAT SAUSAGES ITALIAN - 4 CT    8.424437\n",
      "42          50                                 PUMPKIN MUFFIN MIX    7.276995\n",
      "43          51                  SA EXTRA HOLD MOUSSE HAIR STYLING    4.761905\n",
      "44          52                                MIRABELLE BRUT ROSE   16.666667\n",
      "45          53              WHOLE LEAF PURE ALOE WITH LEMON JUICE    7.826087\n",
      "46          54                        24/7 PERFORMANCE CAT LITTER   14.516129\n",
      "47          55                              LASTING COLOR SHAMPOO    7.317073\n",
      "48          56                         HEALTHY POP BUTTER POPCORN    8.333333\n",
      "49          57                                    FLAT TOOTHPICKS   11.165049\n"
     ]
    }
   ],
   "source": [
    "filtro_reodered_zero = instacart_order_products[instacart_order_products['reordered']==0]\n",
    "\n",
    "# Utilizamos metodo agg() para realizar calculo de total_product_id y total_add_to_cart_order\n",
    "agrupar_product_pro = filtro_reodered_zero.groupby(['product_id', 'product_name']).agg(\n",
    "    \n",
    "    total_product_id = ('product_id','count'),\n",
    "    total_add_to_cart_order=('add_to_cart_order','sum')\n",
    "\n",
    ")\n",
    "agrupar_product_pro = agrupar_product_pro.reset_index()\n",
    "\n",
    "# Calcular la suma total de pedidos\n",
    "total_orders_pro = agrupar_product_pro['total_product_id'] + agrupar_product_pro['total_add_to_cart_order']\n",
    "\n",
    "# Calcular la proporción usando min() \n",
    "agrupar_product_pro['proportion'] = (agrupar_product_pro[['total_product_id', 'total_add_to_cart_order']].min(axis=1) / total_orders_pro)*100\n",
    "\n",
    "# Mostrar el resultado\n",
    "print(agrupar_product_pro[['product_id', 'product_name', 'proportion']].head(n=50))"
   ]
  },
  {
   "cell_type": "markdown",
   "id": "28568dfe",
   "metadata": {},
   "source": [
    "<div class=\"alert alert-block alert-info\">\n",
    "<p style=\"font-size: 20px; margin: 0;\">Gráfico de Barras/ Proporción de veces que se pide<a class=\"tocSkip\"></a>\n",
    "</div>"
   ]
  },
  {
   "cell_type": "markdown",
   "id": "38de99bb",
   "metadata": {},
   "source": [
    "# Proporción de veces que se pide"
   ]
  },
  {
   "cell_type": "code",
   "execution_count": 57,
   "id": "60319e50",
   "metadata": {},
   "outputs": [
    {
     "data": {
      "image/png": "[encoded data removed]",
      "text/plain": [
       "<Figure size 1000x600 with 1 Axes>"
      ]
     },
     "metadata": {},
     "output_type": "display_data"
    }
   ],
   "source": [
    "filtro_product_pro = agrupar_product_pro.head(n=50)\n",
    "\n",
    "# Crear el gráfico de barras con 'product_id' en el eje X\n",
    "plt.figure(figsize=(10, 6))\n",
    "plt.bar(filtro_product_pro['product_id'], filtro_product_pro['proportion'], color='hotpink')\n",
    "\n",
    "# Añadir título y etiquetas\n",
    "plt.title('Proporción de veces que se pide cada producto', fontsize=14)\n",
    "plt.xlabel('ID del Producto', fontsize=12)\n",
    "plt.ylabel('Proporción (%)', fontsize=12)\n",
    "\n",
    "# Mostrar el gráfico\n",
    "plt.tight_layout()  # Asegura que todo el contenido quepa bien\n",
    "plt.show()\n",
    "\n"
   ]
  },
  {
   "cell_type": "markdown",
   "id": "d514ca4b",
   "metadata": {},
   "source": [
    "# Proporción de veces que se vuelve a pedir"
   ]
  },
  {
   "cell_type": "code",
   "execution_count": 58,
   "id": "cfd879dc",
   "metadata": {},
   "outputs": [
    {
     "name": "stdout",
     "output_type": "stream",
     "text": [
      "    product_id                                       product_name  proportion\n",
      "0            1                         CHOCOLATE SANDWICH COOKIES   15.067179\n",
      "1            3               ROBUST GOLDEN UNSWEETENED OOLONG TEA   12.704918\n",
      "2            4  SMART ONES CLASSIC FAVORITES MINI RIGATONI WIT...    9.293680\n",
      "3            7                     PURE COCONUT WATER WITH ORANGE   14.285714\n",
      "4            8                  CUT RUSSET POTATOES STEAM N' MASH   25.000000\n",
      "5            9                  LIGHT STRAWBERRY BLUEBERRY YOGURT   10.738255\n",
      "6           10     SPARKLING ORANGE JUICE & PRICKLY PEAR BEVERAGE    6.780422\n",
      "7           11                                  PEACH MANGO JUICE   16.129032\n",
      "8           12                         CHOCOLATE FUDGE LAYER CAKE    9.937888\n",
      "9           13                                  SALINE NASAL MIST    8.333333\n",
      "10          18                PIZZA FOR ONE SUPREMA  FROZEN PIZZA   16.666667\n",
      "11          22                  FRESH BREATH ORAL RINSE MILD MINT   11.111111\n",
      "12          23                             ORGANIC TURKEY BURGERS   10.256410\n",
      "13          25            SALTED CARAMEL LEAN PROTEIN & FIBER BAR   10.278926\n",
      "14          26        FANCY FEAST TROUT FEAST FLAKED WET CAT FOOD   11.290323\n",
      "15          27  COMPLETE SPRING WATER FOAMING ANTIBACTERIAL HA...    9.473684\n",
      "16          28                                  WHEAT CHEX CEREAL   13.921114\n",
      "17          29  FRESH CUT GOLDEN SWEET NO SALT ADDED WHOLE KER...   15.584416\n",
      "18          30         THREE CHEESE ZITI- MARINARA WITH MEATBALLS   11.764706\n",
      "19          31                                 WHITE PEARL ONIONS    9.523810\n",
      "20          32                      NACHO CHEESE WHITE BEAN CHIPS   11.878453\n",
      "21          33                      ORGANIC SPAGHETTI STYLE PASTA   12.500000\n",
      "22          34                               PEANUT BUTTER CEREAL    9.115327\n",
      "23          35     ITALIAN HERB PORCINI MUSHROOMS CHICKEN SAUSAGE   11.304348\n",
      "24          36  TRADITIONAL LASAGNA WITH MEAT SAUCE SAVORY ITA...   22.222222\n",
      "25          37                 NOODLE SOUP MIX WITH CHICKEN BROTH   10.893246\n",
      "26          40  BEEF HOT LINKS BEEF SMOKED SAUSAGE WITH CHILE ...   11.864407\n",
      "27          41        ORGANIC SOURDOUGH EINKORN CRACKERS ROSEMARY   16.000000\n",
      "28          43                                ORGANIC CLEMENTINES   16.666667\n",
      "29          44                        SPARKLING RASPBERRY SELTZER   13.278008\n",
      "30          45                                  EUROPEAN CUCUMBER   11.616791\n",
      "31          46                     RAISIN CINNAMON BAGELS 5 COUNT   11.111111\n",
      "32          47         ONION FLAVOR ORGANIC ROASTED SEAWEED SNACK   14.473684\n",
      "33          49      VEGETARIAN GRAIN MEAT SAUSAGES ITALIAN - 4 CT    9.936453\n",
      "34          50                                 PUMPKIN MUFFIN MIX    7.843137\n",
      "35          53              WHOLE LEAF PURE ALOE WITH LEMON JUICE    8.536585\n",
      "36          54                        24/7 PERFORMANCE CAT LITTER   16.216216\n",
      "37          57                                    FLAT TOOTHPICKS    9.523810\n",
      "38          58                              WHOLE WHEAT TORTILLAS    6.557377\n",
      "39          59               MEDIUM TAQUERIA STYLE CHIPOTLE SALSA   16.666667\n",
      "40          60     CHEESY CREATIONS ROASTED GARLIC PARMESAN SAUCE    5.000000\n",
      "41          62            PREMIUM DELI OVEN ROASTED TURKEY BREAST   15.789474\n",
      "42          63      BANANA & SWEET POTATO ORGANIC TEETHING WAFERS    9.276018\n",
      "43          64  AUTUMN VEGETABLE & TURKEY DINNER WITH LIL' BIT...   12.500000\n",
      "44          65      ORGANIC RED WINE & OLIVE OIL DRESSING ORGANIC    6.493506\n",
      "45          66                          EUROPEAN STYLE SPRING MIX   11.111111\n",
      "46          68                            PANCAKE MIX- BUTTERMILK    6.818182\n",
      "47          69               VANILLA WITH ALMOND MILK ICED COFFEE   20.000000\n",
      "48          70                       SWEET COOKING RICE SEASONING   11.111111\n",
      "49          73                  JASMINE TEA UNFILTERED GINGER ALE   25.000000\n"
     ]
    }
   ],
   "source": [
    "filtro_reodered_one = instacart_order_products[instacart_order_products['reordered']==1]\n",
    "\n",
    "# Utilizamos metodo agg() para realizar calculo de total_product_id y total_add_to_cart_order\n",
    "\n",
    "agrupar_product_pro_one = filtro_reodered_one.groupby(['product_id', 'product_name']).agg(\n",
    "    \n",
    "    total_product_id = ('product_id','count'),\n",
    "    total_add_to_cart_order=('add_to_cart_order','sum')\n",
    "\n",
    ")\n",
    "agrupar_product_pro_one = agrupar_product_pro_one.reset_index()\n",
    "\n",
    "# Calcular la suma total de pedidos\n",
    "total_orders_pro = agrupar_product_pro_one['total_product_id'] + agrupar_product_pro_one['total_add_to_cart_order']\n",
    "\n",
    "# Calcular la proporción usando min() \n",
    "agrupar_product_pro_one['proportion'] = (agrupar_product_pro_one[['total_product_id', 'total_add_to_cart_order']].min(axis=1) / total_orders_pro)*100\n",
    "\n",
    "# Mostrar el resultado\n",
    "print(agrupar_product_pro_one[['product_id', 'product_name', 'proportion']].head(n=50))"
   ]
  },
  {
   "cell_type": "markdown",
   "id": "abe2e6b4",
   "metadata": {},
   "source": [
    "<div class=\"alert alert-block alert-info\">\n",
    "<p style=\"font-size: 20px; margin: 0;\">Gráfico de Barras /Proporción de veces que se vuelve a pedir <a class=\"tocSkip\"></a>\n",
    "</div>"
   ]
  },
  {
   "cell_type": "code",
   "execution_count": 59,
   "id": "8672570a",
   "metadata": {},
   "outputs": [
    {
     "data": {
      "image/png": "[encoded data removed]",
      "text/plain": [
       "<Figure size 1000x600 with 1 Axes>"
      ]
     },
     "metadata": {},
     "output_type": "display_data"
    }
   ],
   "source": [
    "filtro_product_pro_one = agrupar_product_pro_one.head(n=50)\n",
    "\n",
    "# Crear el gráfico de barras con 'product_id' en el eje X\n",
    "plt.figure(figsize=(10, 6))\n",
    "plt.bar(filtro_product_pro_one['product_id'], filtro_product_pro_one['proportion'], color='hotpink')\n",
    "\n",
    "# Añadir título y etiquetas\n",
    "plt.title('Proporción de veces que se vuelve a pedir', fontsize=14)\n",
    "plt.xlabel('ID del Producto', fontsize=12)\n",
    "plt.ylabel('Proporción (%)', fontsize=12)\n",
    "\n",
    "# Mostrar el gráfico\n",
    "plt.tight_layout()  # Asegura que todo el contenido quepa bien\n",
    "plt.show()\n"
   ]
  },
  {
   "cell_type": "markdown",
   "id": "subject-boxing",
   "metadata": {
    "id": "subject-boxing"
   },
   "source": [
    "# [C4] Para cada cliente, ¿qué proporción de sus productos ya los había pedido? <a id='plancuatro12'></a>\n",
    "\n",
    "[Ver Tabla de Contenido](#tabla)"
   ]
  },
  {
   "cell_type": "code",
   "execution_count": 60,
   "id": "8892e4b4",
   "metadata": {
    "id": "8892e4b4"
   },
   "outputs": [
    {
     "name": "stdout",
     "output_type": "stream",
     "text": [
      "    user_id                                       product_name  proportion\n",
      "0         2                     CHIPOTLE BEEF & PORK REALSTICK   33.333333\n",
      "1         5                                  ORGANIC RED ONION   10.000000\n",
      "2         5                                    RED RASPBERRIES    8.333333\n",
      "3         5                                          SNOW PEAS   12.500000\n",
      "4         5                                       ORGANIC SOBA   14.285714\n",
      "5         5                            PLAIN WHOLE MILK YOGURT   33.333333\n",
      "6         5                               ORGANIC BLACKBERRIES    9.090909\n",
      "7         5                             ORGANIC GRAPE TOMATOES   20.000000\n",
      "8         5                               WHOLE VITAMIN D MILK   25.000000\n",
      "9         7                                 CHICKEN QUESADILLA   20.000000\n",
      "10        7                               85% LEAN GROUND BEEF   12.500000\n",
      "11        7                         VANILLA COFFEE CONCENTRATE   16.666667\n",
      "12        7                               ORGANIC STRAWBERRIES   33.333333\n",
      "13        7                                   NATURAL CRACKERS   16.666667\n",
      "14        7                                   ORGANIC CUCUMBER   10.000000\n",
      "15        7                                     MEXICAN COFFEE   25.000000\n",
      "16        7  ANTIOXIDANT INFUSIONS IPANEMA POMEGRANATE BEVE...   33.333333\n",
      "17        7                                ORGANIC BLUEBERRIES   33.333333\n",
      "18        7                         LACTOSE FREE FAT FREE MILK   14.285714\n",
      "19        7                                 RASPBERRY LEMONADE   11.111111\n",
      "20        7        ANTIOXIDANT INFUSIONS BEVERAGE MALAWI MANGO   50.000000\n",
      "21       11           NONFAT ICELANDIC STYLE STRAWBERRY YOGURT   12.500000\n",
      "22       11                         PREMIUM INDIAN TONIC WATER   20.000000\n",
      "23       11                   LACTOSE FREE 2% REDUCED FAT MILK   25.000000\n",
      "24       12                GRAIN FREE CHICKEN FORMULA CAT FOOD   10.000000\n",
      "25       12        GRAIN FREE TURKEY & SALMON FORMULA CAT FOOD   11.111111\n",
      "26       12                         CHICKEN CANNED KITTEN FOOD    9.090909\n",
      "27       13                         15 GRAIN WHOLE GRAIN BREAD   20.000000\n",
      "28       13                                         WHOLE MILK   40.000000\n",
      "29       13                                        CAULIFLOWER   10.000000\n",
      "30       13                               ORGANIC RED POTATOES   16.666667\n",
      "31       13                                     GOLDEN RAISINS   14.285714\n",
      "32       13                                        HALF & HALF   28.571429\n",
      "33       13                      WHOLE WHEAT PITA BREAD LOAVES   25.000000\n",
      "34       13                                    BUNCHED CARROTS   12.500000\n",
      "35       13                              COCONUT MILK- CLASSIC   50.000000\n",
      "36       13                                 SUPER GREENS SALAD   20.000000\n",
      "37       14                             100% WHOLE WHEAT BREAD    4.545455\n",
      "38       14                                   MIXED VEGETABLES    6.896552\n",
      "39       14               HOT TACO LAWRY'S SPICES & SEASONINGS   12.500000\n",
      "40       14                                       MALT VINEGAR    3.333333\n",
      "41       14            ORIGINAL DICED TOMATOES & GREEN CHILIES    5.000000\n",
      "42       14                          ORGANIC MUNG-BEAN SPROUTS   50.000000\n",
      "43       14        SAFFRON YELLOW SEASONINGS & LONG GRAIN RICE    3.571429\n",
      "44       14                                      CRUSHED CHILI   20.000000\n",
      "45       14                           HEALTHY MULTIGRAIN BREAD    8.333333\n",
      "46       14                                  CRINKLE CUT FRIES    4.545455\n",
      "47       14                                    JALAPENO PEPPER    8.823529\n",
      "48       14                                      GREEN CABBAGE   20.000000\n",
      "49       14                                     COLLARD GREENS    4.761905\n"
     ]
    }
   ],
   "source": [
    "filtro_reodered_zero = instacart_order_products[instacart_order_products['reordered']==1]\n",
    "\n",
    "# Utilizamos metodo agg() para realizar calculo de total_product_id y total_add_to_cart_order\n",
    "agrupar_product_user = filtro_reodered_zero.groupby(['user_id','product_id', 'product_name']).agg(\n",
    "    \n",
    "    total_product_id = ('product_id','count'),\n",
    "    total_add_to_cart_order=('add_to_cart_order','sum')\n",
    "\n",
    ")\n",
    "\n",
    "agrupar_product_user = agrupar_product_user.reset_index()\n",
    "\n",
    "# Calcular la suma total de pedidos\n",
    "total_orders_user = agrupar_product_user['total_product_id'] + agrupar_product_user['total_add_to_cart_order']\n",
    "\n",
    "# Calcular la proporción usando min() \n",
    "agrupar_product_user['proportion'] = (agrupar_product_user[['total_product_id', 'total_add_to_cart_order']].min(axis=1) / total_orders_user)*100\n",
    "\n",
    "# Mostrar el resultado\n",
    "print(agrupar_product_user[['user_id','product_name', 'proportion']].head(n=50))"
   ]
  },
  {
   "cell_type": "markdown",
   "id": "123ac1b3",
   "metadata": {},
   "source": [
    "<div class=\"alert alert-block alert-info\">\n",
    "<p style=\"font-size: 20px; margin: 0;\">Gráfico de Barras / Proporción de Productos por Clientes<a class=\"tocSkip\"></a>\n",
    "</div>"
   ]
  },
  {
   "cell_type": "code",
   "execution_count": 61,
   "id": "a2dc255c",
   "metadata": {},
   "outputs": [
    {
     "data": {
      "image/png": "[encoded data removed]",
      "text/plain": [
       "<Figure size 1000x600 with 1 Axes>"
      ]
     },
     "metadata": {},
     "output_type": "display_data"
    }
   ],
   "source": [
    "filtro_product_user = agrupar_product_user.head(n=50)\n",
    "\n",
    "# Crear el gráfico de barras con 'user_id' en el eje X\n",
    "plt.figure(figsize=(10, 6))\n",
    "plt.bar(filtro_product_user['user_id'], filtro_product_user['proportion'], color='hotpink')\n",
    "\n",
    "# Añadir título y etiquetas\n",
    "plt.title('Proporción de Productos por Clientes', fontsize=14)\n",
    "plt.xlabel('ID del Usuario', fontsize=12)\n",
    "plt.ylabel('Proporción (%)', fontsize=12)\n",
    "\n",
    "# Mostrar el gráfico\n",
    "plt.tight_layout()\n",
    "plt.show()"
   ]
  },
  {
   "cell_type": "markdown",
   "id": "92d35137",
   "metadata": {
    "id": "92d35137"
   },
   "source": [
    "# [C5] ¿Cuáles son los 20 principales artículos que las personas ponen primero en sus carritos? <a id='plancuatro13'></a>\n",
    "\n",
    "[Ver Tabla de Contenido](#tabla)"
   ]
  },
  {
   "cell_type": "code",
   "execution_count": 62,
   "id": "522f8d49",
   "metadata": {
    "scrolled": true
   },
   "outputs": [
    {
     "name": "stdout",
     "output_type": "stream",
     "text": [
      "       product_id              product_name  total_add_to_cart_order\n",
      "22106       24852                    BANANA                    65013\n",
      "11652       13176    BAG OF ORGANIC BANANAS                    52373\n",
      "18779       21137      ORGANIC STRAWBERRIES                    35444\n",
      "19462       21903      ORGANIC BABY SPINACH                    32479\n",
      "41923       47209      ORGANIC HASS AVOCADO                    28760\n",
      "42419       47766           ORGANIC AVOCADO                    23956\n",
      "42296       47626               LARGE LEMON                    20447\n",
      "14883       16797              STRAWBERRIES                    19167\n",
      "24762       27845        ORGANIC WHOLE MILK                    19151\n",
      "23308       26209                     LIMES                    18450\n",
      "24868       27966       ORGANIC RASPBERRIES                    18349\n",
      "20386       22935      ORGANIC YELLOW ONION                    14940\n",
      "22205       24964            ORGANIC GARLIC                    14362\n",
      "39950       45007          ORGANIC ZUCCHINI                    13668\n",
      "34888       39275       ORGANIC BLUEBERRIES                    13109\n",
      "44135       49683            CUCUMBER KIRBY                    13067\n",
      "25081       28204        ORGANIC FUJI APPLE                    12090\n",
      "5221         5876             ORGANIC LEMON                    11581\n",
      "7321         8277  APPLE HONEYCRISP ORGANIC                    11391\n",
      "4354         4920       SEEDLESS RED GRAPES                    11103\n"
     ]
    }
   ],
   "source": [
    "#Filtar solo add_to_cart_order ==1 (Orden secuencial en la que se añadió  cada articulo)\n",
    "\n",
    "filtro_card_order = instacart_order_products[(instacart_order_products['add_to_cart_order']>=1) & (instacart_order_products['add_to_cart_order']<=20)]\n",
    "\n",
    "# Agrupar product_id y product_name  y contar la cantidad en add_to_cart_orde\n",
    "\n",
    "agrupar_card_order = filtro_card_order.groupby(['product_id', 'product_name'])['add_to_cart_order'].count().reset_index(name='total_add_to_cart_order')\n",
    "\n",
    "# Filtro los 20 productos con valores mas altos en la columna total_add_to_cart_order\n",
    "\n",
    "filtro_total_card_order = agrupar_card_order.nlargest(20,'total_add_to_cart_order')\n",
    "\n",
    "print(filtro_total_card_order)"
   ]
  },
  {
   "cell_type": "markdown",
   "id": "cd028bb5",
   "metadata": {},
   "source": [
    "<div class=\"alert alert-block alert-info\">\n",
    "<p style=\"font-size: 20px; margin: 0;\">Gráfico de Barras/ Top 20 Productos Añadidos al Carrito<a class=\"tocSkip\"></a>\n",
    "</div>"
   ]
  },
  {
   "cell_type": "code",
   "execution_count": 63,
   "id": "5eab5081",
   "metadata": {},
   "outputs": [
    {
     "data": {
      "image/png": "[encoded data removed]",
      "text/plain": [
       "<Figure size 1000x600 with 1 Axes>"
      ]
     },
     "metadata": {},
     "output_type": "display_data"
    }
   ],
   "source": [
    "# Crear el gráfico de barras con 'product_name' en el eje X y 'total_add_to_cart_order' en el eje Y\n",
    "plt.figure(figsize=(10, 6))\n",
    "plt.bar(filtro_total_card_order['product_name'], filtro_total_card_order['total_add_to_cart_order'], color='hotpink')\n",
    "\n",
    "# Añadir título y etiquetas\n",
    "plt.title('Top 20 Productos Añadidos al Carrito', fontsize=14)\n",
    "plt.xlabel('Nombre del Producto', fontsize=12)\n",
    "plt.ylabel('Total Veces Añadido al Carrito', fontsize=12)\n",
    "\n",
    "# Rotar los nombres de los productos en el eje X para mejorar la legibilidad\n",
    "plt.xticks(rotation=90)\n",
    "\n",
    "# Ajustar el gráfico para que se vea correctamente\n",
    "plt.tight_layout()\n",
    "\n",
    "# Mostrar el gráfico\n",
    "plt.show()"
   ]
  },
  {
   "cell_type": "markdown",
   "id": "uITbFCEoDosC",
   "metadata": {
    "id": "uITbFCEoDosC"
   },
   "source": [
    "# Conclusion general del proyecto:  <a id='plancuatro14'></a>\n",
    "\n",
    "[Ver Tabla de Contenido](#tabla)"
   ]
  },
  {
   "cell_type": "markdown",
   "id": "5c4ff4ce",
   "metadata": {
    "id": "Nk-4GS7mDwqY"
   },
   "source": [
    "- Encontramos duplicados de nombres de productos no faltantes asi como engañosos no NaN.\n",
    "\n",
    "- Los 30 pedidos duplicados encontrados son del miércoles a las 2:00 a.m.\n",
    "\n",
    "- Se encontraron 1258 nombres de productos ausentes que pertenecen al departamento 21.\n",
    "\n",
    "- Existe un departamento de nombre  missing en el pasillo 100 .\n",
    "\n",
    "- Todos los pedidos con valores ausentes tienen más de 64 productos.\n",
    "\n",
    "- Se puedo observar que entre las 10 am y 16 pm son las horas del dia donde los clientes realizan más ordenes de pedidos.\n",
    "\n",
    "- Los dias de la semana que más que se compran viveres, son sábados y domingos son los dias en los que mas se compra viveres.\n",
    "\n",
    "- La mayoria de los clientes esperan su mayoria, entre 7 y 30 dias para hacer otro pedido.\n",
    "\n",
    "- Las horas del dia con mayor afluencia de ordenes es entre las 10 am y 16 pm.\n",
    "\n",
    "- A mayor cantidad de clientes, la cantidad de número pedidos que realizan es mucho menor.\n",
    "\n",
    "- En un pedido se suelen comprar unos 40 articulos\n",
    "\n",
    "- Dentro de los los 20 productos más pedidos hay algunos coincidentes con los 20 articulos que piden de primero."
   ]
  }
 ],
 "metadata": {
  "ExecuteTimeLog": [
   {
    "duration": 164,
    "start_time": "2024-09-16T14:07:04.263Z"
   },
   {
    "duration": 12,
    "start_time": "2024-09-16T14:07:13.957Z"
   },
   {
    "duration": 282,
    "start_time": "2024-09-16T14:07:24.986Z"
   },
   {
    "duration": 2528,
    "start_time": "2024-09-16T14:07:26.753Z"
   },
   {
    "duration": 28,
    "start_time": "2024-09-16T14:07:29.284Z"
   },
   {
    "duration": 12,
    "start_time": "2024-09-16T14:07:49.298Z"
   },
   {
    "duration": 8,
    "start_time": "2024-09-16T14:08:18.805Z"
   },
   {
    "duration": 8,
    "start_time": "2024-09-16T14:08:39.540Z"
   },
   {
    "duration": 6,
    "start_time": "2024-09-16T14:08:59.913Z"
   },
   {
    "duration": 166,
    "start_time": "2024-09-16T15:45:37.728Z"
   },
   {
    "duration": 313,
    "start_time": "2024-09-16T15:45:42.822Z"
   },
   {
    "duration": 1010,
    "start_time": "2024-09-16T15:45:45.588Z"
   },
   {
    "duration": 11,
    "start_time": "2024-09-16T15:45:51.226Z"
   },
   {
    "duration": 10,
    "start_time": "2024-09-16T15:46:00.254Z"
   },
   {
    "duration": 8,
    "start_time": "2024-09-16T15:46:04.869Z"
   },
   {
    "duration": 8,
    "start_time": "2024-09-16T15:46:07.188Z"
   },
   {
    "duration": 7,
    "start_time": "2024-09-16T15:46:09.699Z"
   },
   {
    "duration": 35,
    "start_time": "2024-09-16T16:26:56.382Z"
   },
   {
    "duration": 12,
    "start_time": "2024-09-16T16:28:48.527Z"
   },
   {
    "duration": 9,
    "start_time": "2024-09-16T16:28:55.178Z"
   },
   {
    "duration": 21,
    "start_time": "2024-09-16T16:29:25.007Z"
   },
   {
    "duration": 10,
    "start_time": "2024-09-16T16:29:36.435Z"
   },
   {
    "duration": 12,
    "start_time": "2024-09-16T16:30:56.874Z"
   },
   {
    "duration": 93,
    "start_time": "2024-09-16T16:32:56.495Z"
   },
   {
    "duration": 87,
    "start_time": "2024-09-16T16:33:01.521Z"
   },
   {
    "duration": 87,
    "start_time": "2024-09-16T16:33:40.343Z"
   },
   {
    "duration": 88,
    "start_time": "2024-09-16T16:37:01.367Z"
   },
   {
    "duration": 93,
    "start_time": "2024-09-16T16:37:54.095Z"
   },
   {
    "duration": 95,
    "start_time": "2024-09-16T16:41:05.788Z"
   },
   {
    "duration": 43,
    "start_time": "2024-09-16T16:41:42.243Z"
   },
   {
    "duration": 89,
    "start_time": "2024-09-16T16:46:05.324Z"
   },
   {
    "duration": 178,
    "start_time": "2024-09-16T16:50:18.494Z"
   },
   {
    "duration": 90,
    "start_time": "2024-09-16T16:50:35.315Z"
   },
   {
    "duration": 184,
    "start_time": "2024-09-16T16:51:59.141Z"
   },
   {
    "duration": 180,
    "start_time": "2024-09-16T16:52:25.350Z"
   },
   {
    "duration": 180,
    "start_time": "2024-09-16T17:15:20.126Z"
   },
   {
    "duration": 182,
    "start_time": "2024-09-16T17:15:45.004Z"
   },
   {
    "duration": 88,
    "start_time": "2024-09-16T17:17:28.512Z"
   },
   {
    "duration": 94,
    "start_time": "2024-09-16T17:18:04.692Z"
   },
   {
    "duration": 87,
    "start_time": "2024-09-16T17:18:26.246Z"
   },
   {
    "duration": 99,
    "start_time": "2024-09-16T17:18:34.540Z"
   },
   {
    "duration": 94,
    "start_time": "2024-09-16T17:27:44.719Z"
   },
   {
    "duration": 103,
    "start_time": "2024-09-16T17:34:12.851Z"
   },
   {
    "duration": 98,
    "start_time": "2024-09-16T17:37:07.868Z"
   },
   {
    "duration": 104,
    "start_time": "2024-09-16T17:42:57.144Z"
   },
   {
    "duration": 99,
    "start_time": "2024-09-16T17:43:34.315Z"
   },
   {
    "duration": 122,
    "start_time": "2024-09-16T17:43:40.026Z"
   },
   {
    "duration": 93,
    "start_time": "2024-09-16T17:46:23.891Z"
   },
   {
    "duration": 86,
    "start_time": "2024-09-16T17:46:56.299Z"
   },
   {
    "duration": 85,
    "start_time": "2024-09-16T17:47:41.352Z"
   },
   {
    "duration": 90,
    "start_time": "2024-09-16T17:48:37.716Z"
   },
   {
    "duration": 87,
    "start_time": "2024-09-16T17:50:13.239Z"
   },
   {
    "duration": 94,
    "start_time": "2024-09-16T17:52:58.206Z"
   },
   {
    "duration": 87,
    "start_time": "2024-09-16T17:53:42.534Z"
   },
   {
    "duration": 2,
    "start_time": "2024-09-16T17:55:04.798Z"
   },
   {
    "duration": 24,
    "start_time": "2024-09-16T17:57:25.046Z"
   },
   {
    "duration": 2,
    "start_time": "2024-09-16T17:57:48.072Z"
   },
   {
    "duration": 48,
    "start_time": "2024-09-16T17:59:39.033Z"
   },
   {
    "duration": 53,
    "start_time": "2024-09-16T17:59:50.328Z"
   },
   {
    "duration": 3,
    "start_time": "2024-09-16T18:00:30.743Z"
   },
   {
    "duration": 76,
    "start_time": "2024-09-16T18:01:36.311Z"
   },
   {
    "duration": 13,
    "start_time": "2024-09-16T18:03:49.860Z"
   },
   {
    "duration": 2,
    "start_time": "2024-09-16T18:04:01.430Z"
   },
   {
    "duration": 24,
    "start_time": "2024-09-16T18:05:54.559Z"
   },
   {
    "duration": 23,
    "start_time": "2024-09-16T18:06:17.955Z"
   },
   {
    "duration": 2,
    "start_time": "2024-09-16T18:06:58.889Z"
   },
   {
    "duration": 68,
    "start_time": "2024-09-16T18:07:58.586Z"
   },
   {
    "duration": 70,
    "start_time": "2024-09-16T18:18:25.471Z"
   },
   {
    "duration": 37,
    "start_time": "2024-09-16T18:18:43.985Z"
   },
   {
    "duration": 44,
    "start_time": "2024-09-16T18:19:23.263Z"
   },
   {
    "duration": 80,
    "start_time": "2024-09-16T18:19:37.470Z"
   },
   {
    "duration": 25,
    "start_time": "2024-09-16T18:25:30.020Z"
   },
   {
    "duration": 24,
    "start_time": "2024-09-16T18:26:39.660Z"
   },
   {
    "duration": 28,
    "start_time": "2024-09-16T18:27:58.811Z"
   },
   {
    "duration": 28,
    "start_time": "2024-09-16T18:28:38.003Z"
   },
   {
    "duration": 24,
    "start_time": "2024-09-16T18:29:57.566Z"
   },
   {
    "duration": 35,
    "start_time": "2024-09-16T18:30:49.377Z"
   },
   {
    "duration": 24,
    "start_time": "2024-09-16T18:30:59.452Z"
   },
   {
    "duration": 13,
    "start_time": "2024-09-16T18:32:28.748Z"
   },
   {
    "duration": 2,
    "start_time": "2024-09-16T18:33:25.763Z"
   },
   {
    "duration": 3,
    "start_time": "2024-09-16T18:36:00.454Z"
   },
   {
    "duration": 3,
    "start_time": "2024-09-16T18:36:48.945Z"
   },
   {
    "duration": 25,
    "start_time": "2024-09-16T18:37:00.534Z"
   },
   {
    "duration": 4,
    "start_time": "2024-09-16T18:38:03.846Z"
   },
   {
    "duration": 26,
    "start_time": "2024-09-16T18:38:24.795Z"
   },
   {
    "duration": 7,
    "start_time": "2024-09-16T18:41:22.051Z"
   },
   {
    "duration": 5,
    "start_time": "2024-09-16T18:41:34.876Z"
   },
   {
    "duration": 11,
    "start_time": "2024-09-16T18:42:12.456Z"
   },
   {
    "duration": 12,
    "start_time": "2024-09-16T18:45:02.526Z"
   },
   {
    "duration": 6,
    "start_time": "2024-09-16T18:45:10.081Z"
   },
   {
    "duration": 11,
    "start_time": "2024-09-16T18:45:17.734Z"
   },
   {
    "duration": 12,
    "start_time": "2024-09-16T18:45:26.174Z"
   },
   {
    "duration": 3,
    "start_time": "2024-09-16T18:45:31.762Z"
   },
   {
    "duration": 4,
    "start_time": "2024-09-16T18:45:42.261Z"
   },
   {
    "duration": 4,
    "start_time": "2024-09-16T18:45:53.929Z"
   },
   {
    "duration": 4,
    "start_time": "2024-09-16T18:46:23.998Z"
   },
   {
    "duration": 10,
    "start_time": "2024-09-16T18:50:16.147Z"
   },
   {
    "duration": 12,
    "start_time": "2024-09-16T18:50:28.153Z"
   },
   {
    "duration": 4,
    "start_time": "2024-09-16T18:51:38.261Z"
   },
   {
    "duration": 12,
    "start_time": "2024-09-16T19:07:34.805Z"
   },
   {
    "duration": 16,
    "start_time": "2024-09-16T19:08:43.165Z"
   },
   {
    "duration": 69,
    "start_time": "2024-09-16T19:09:31.135Z"
   },
   {
    "duration": 15,
    "start_time": "2024-09-16T19:11:34.184Z"
   },
   {
    "duration": 14,
    "start_time": "2024-09-16T19:13:24.735Z"
   },
   {
    "duration": 3,
    "start_time": "2024-09-16T19:13:26.508Z"
   },
   {
    "duration": 14,
    "start_time": "2024-09-16T19:13:43.380Z"
   },
   {
    "duration": 2,
    "start_time": "2024-09-16T19:20:52.432Z"
   },
   {
    "duration": 12,
    "start_time": "2024-09-16T19:55:04.905Z"
   },
   {
    "duration": 13,
    "start_time": "2024-09-16T19:55:35.828Z"
   },
   {
    "duration": 178,
    "start_time": "2024-09-16T19:55:49.460Z"
   },
   {
    "duration": 28,
    "start_time": "2024-09-16T19:58:02.110Z"
   },
   {
    "duration": 2,
    "start_time": "2024-09-16T19:58:12.471Z"
   },
   {
    "duration": 15,
    "start_time": "2024-09-16T19:58:34.822Z"
   },
   {
    "duration": 18,
    "start_time": "2024-09-16T19:58:51.014Z"
   },
   {
    "duration": 5,
    "start_time": "2024-09-16T20:01:40.143Z"
   },
   {
    "duration": 4,
    "start_time": "2024-09-16T20:01:52.121Z"
   },
   {
    "duration": 6,
    "start_time": "2024-09-16T20:02:11.576Z"
   },
   {
    "duration": 5,
    "start_time": "2024-09-16T20:04:22.438Z"
   },
   {
    "duration": 9,
    "start_time": "2024-09-16T20:07:21.188Z"
   },
   {
    "duration": 5,
    "start_time": "2024-09-16T20:07:38.256Z"
   },
   {
    "duration": 2,
    "start_time": "2024-09-16T22:04:28.663Z"
   },
   {
    "duration": 826,
    "start_time": "2024-09-16T22:04:31.189Z"
   },
   {
    "duration": 10,
    "start_time": "2024-09-16T22:04:34.581Z"
   },
   {
    "duration": 10,
    "start_time": "2024-09-16T22:04:41.573Z"
   },
   {
    "duration": 8,
    "start_time": "2024-09-16T22:04:47.992Z"
   },
   {
    "duration": 7,
    "start_time": "2024-09-16T22:04:50.961Z"
   },
   {
    "duration": 71,
    "start_time": "2024-09-16T22:04:58.153Z"
   },
   {
    "duration": 71,
    "start_time": "2024-09-16T22:05:01.565Z"
   },
   {
    "duration": 79,
    "start_time": "2024-09-16T22:05:09.943Z"
   },
   {
    "duration": 74,
    "start_time": "2024-09-16T22:05:12.841Z"
   },
   {
    "duration": 13,
    "start_time": "2024-09-16T22:05:21.376Z"
   },
   {
    "duration": 4,
    "start_time": "2024-09-16T22:05:24.036Z"
   },
   {
    "duration": 19,
    "start_time": "2024-09-16T22:05:26.926Z"
   },
   {
    "duration": 25,
    "start_time": "2024-09-16T22:05:35.881Z"
   },
   {
    "duration": 14,
    "start_time": "2024-09-16T22:05:39.022Z"
   },
   {
    "duration": 5,
    "start_time": "2024-09-16T22:05:41.177Z"
   },
   {
    "duration": 6,
    "start_time": "2024-09-16T22:05:45.848Z"
   },
   {
    "duration": 427,
    "start_time": "2024-09-16T22:09:23.922Z"
   },
   {
    "duration": 14,
    "start_time": "2024-09-16T22:11:51.579Z"
   },
   {
    "duration": 9,
    "start_time": "2024-09-16T22:13:49.957Z"
   },
   {
    "duration": 11,
    "start_time": "2024-09-16T22:14:08.639Z"
   },
   {
    "duration": 2,
    "start_time": "2024-09-16T22:15:15.600Z"
   },
   {
    "duration": 13,
    "start_time": "2024-09-16T22:17:19.248Z"
   },
   {
    "duration": 12,
    "start_time": "2024-09-16T22:17:50.749Z"
   },
   {
    "duration": 11,
    "start_time": "2024-09-16T22:20:54.356Z"
   },
   {
    "duration": 12,
    "start_time": "2024-09-16T22:21:09.117Z"
   },
   {
    "duration": 11,
    "start_time": "2024-09-16T22:26:58.092Z"
   },
   {
    "duration": 12,
    "start_time": "2024-09-16T22:27:11.865Z"
   },
   {
    "duration": 12,
    "start_time": "2024-09-16T22:31:39.538Z"
   },
   {
    "duration": 12,
    "start_time": "2024-09-16T22:32:18.470Z"
   },
   {
    "duration": 13,
    "start_time": "2024-09-16T22:32:58.199Z"
   },
   {
    "duration": 16,
    "start_time": "2024-09-16T22:52:28.875Z"
   },
   {
    "duration": 166,
    "start_time": "2024-09-17T00:35:28.196Z"
   },
   {
    "duration": 12,
    "start_time": "2024-09-17T00:35:32.574Z"
   },
   {
    "duration": 11,
    "start_time": "2024-09-17T00:35:52.732Z"
   },
   {
    "duration": 331,
    "start_time": "2024-09-17T00:36:01.043Z"
   },
   {
    "duration": 1041,
    "start_time": "2024-09-17T00:36:02.502Z"
   },
   {
    "duration": 11,
    "start_time": "2024-09-17T00:36:04.599Z"
   },
   {
    "duration": 10,
    "start_time": "2024-09-17T00:36:09.041Z"
   },
   {
    "duration": 14,
    "start_time": "2024-09-17T00:36:20.163Z"
   },
   {
    "duration": 11,
    "start_time": "2024-09-17T00:37:07.283Z"
   },
   {
    "duration": 9,
    "start_time": "2024-09-17T00:37:16.837Z"
   },
   {
    "duration": 18,
    "start_time": "2024-09-17T00:37:24.014Z"
   },
   {
    "duration": 18,
    "start_time": "2024-09-17T00:37:30.395Z"
   },
   {
    "duration": 13,
    "start_time": "2024-09-17T00:44:56.408Z"
   },
   {
    "duration": 855,
    "start_time": "2024-09-17T00:45:10.423Z"
   },
   {
    "duration": 845,
    "start_time": "2024-09-17T00:45:12.736Z"
   },
   {
    "duration": 7,
    "start_time": "2024-09-17T00:45:17.183Z"
   },
   {
    "duration": 4,
    "start_time": "2024-09-17T00:45:32.902Z"
   },
   {
    "duration": 14,
    "start_time": "2024-09-17T00:47:35.816Z"
   },
   {
    "duration": 4,
    "start_time": "2024-09-17T00:48:50.327Z"
   },
   {
    "duration": 2,
    "start_time": "2024-09-17T00:51:10.602Z"
   },
   {
    "duration": 7,
    "start_time": "2024-09-17T01:13:06.515Z"
   },
   {
    "duration": 4,
    "start_time": "2024-09-17T01:13:08.935Z"
   },
   {
    "duration": 4,
    "start_time": "2024-09-17T01:13:15.513Z"
   },
   {
    "duration": 82,
    "start_time": "2024-09-17T01:13:21.223Z"
   },
   {
    "duration": 85,
    "start_time": "2024-09-17T01:13:38.645Z"
   },
   {
    "duration": 82,
    "start_time": "2024-09-17T01:14:31.873Z"
   },
   {
    "duration": 78,
    "start_time": "2024-09-17T01:14:53.393Z"
   },
   {
    "duration": 19,
    "start_time": "2024-09-17T01:23:16.477Z"
   },
   {
    "duration": 13,
    "start_time": "2024-09-17T01:23:56.559Z"
   },
   {
    "duration": 5,
    "start_time": "2024-09-17T01:25:08.798Z"
   },
   {
    "duration": 17,
    "start_time": "2024-09-17T01:25:29.946Z"
   },
   {
    "duration": 185,
    "start_time": "2024-09-17T01:26:27.132Z"
   },
   {
    "duration": 26,
    "start_time": "2024-09-17T01:26:41.304Z"
   },
   {
    "duration": 28,
    "start_time": "2024-09-17T01:26:44.240Z"
   },
   {
    "duration": 16,
    "start_time": "2024-09-17T01:27:29.135Z"
   },
   {
    "duration": 25,
    "start_time": "2024-09-17T01:27:37.249Z"
   },
   {
    "duration": 27,
    "start_time": "2024-09-17T01:28:21.384Z"
   },
   {
    "duration": 19,
    "start_time": "2024-09-17T01:30:35.848Z"
   },
   {
    "duration": 15,
    "start_time": "2024-09-17T01:30:43.439Z"
   },
   {
    "duration": 162,
    "start_time": "2024-09-17T02:16:30.424Z"
   },
   {
    "duration": 12,
    "start_time": "2024-09-17T02:16:54.644Z"
   },
   {
    "duration": 12,
    "start_time": "2024-09-17T02:17:01.730Z"
   },
   {
    "duration": 11,
    "start_time": "2024-09-17T02:17:03.751Z"
   },
   {
    "duration": 12,
    "start_time": "2024-09-17T02:17:40.160Z"
   },
   {
    "duration": 12,
    "start_time": "2024-09-17T02:17:44.484Z"
   },
   {
    "duration": 12,
    "start_time": "2024-09-17T02:17:50.789Z"
   },
   {
    "duration": 33,
    "start_time": "2024-09-17T02:17:55.623Z"
   },
   {
    "duration": 13,
    "start_time": "2024-09-17T02:18:01.547Z"
   },
   {
    "duration": 265,
    "start_time": "2024-09-17T02:18:06.946Z"
   },
   {
    "duration": 1057,
    "start_time": "2024-09-17T02:18:09.375Z"
   },
   {
    "duration": 9,
    "start_time": "2024-09-17T02:18:15.772Z"
   },
   {
    "duration": 10,
    "start_time": "2024-09-17T02:18:22.482Z"
   },
   {
    "duration": 19,
    "start_time": "2024-09-17T02:18:30.276Z"
   },
   {
    "duration": 18,
    "start_time": "2024-09-17T02:24:49.704Z"
   },
   {
    "duration": 17,
    "start_time": "2024-09-17T02:25:32.897Z"
   },
   {
    "duration": 12,
    "start_time": "2024-09-17T02:26:05.693Z"
   },
   {
    "duration": 24,
    "start_time": "2024-09-17T02:26:34.364Z"
   },
   {
    "duration": 19,
    "start_time": "2024-09-17T02:31:13.703Z"
   },
   {
    "duration": 17,
    "start_time": "2024-09-17T02:33:42.308Z"
   },
   {
    "duration": 20,
    "start_time": "2024-09-17T02:33:49.987Z"
   },
   {
    "duration": 22,
    "start_time": "2024-09-17T02:34:01.706Z"
   },
   {
    "duration": 21,
    "start_time": "2024-09-17T02:34:56.554Z"
   },
   {
    "duration": 13,
    "start_time": "2024-09-17T02:35:53.206Z"
   },
   {
    "duration": 20,
    "start_time": "2024-09-17T02:36:10.911Z"
   },
   {
    "duration": 19,
    "start_time": "2024-09-17T02:36:32.521Z"
   },
   {
    "duration": 4,
    "start_time": "2024-09-17T02:36:47.431Z"
   },
   {
    "duration": 14,
    "start_time": "2024-09-17T02:37:10.040Z"
   },
   {
    "duration": 13,
    "start_time": "2024-09-17T02:37:24.907Z"
   },
   {
    "duration": 18,
    "start_time": "2024-09-17T02:37:44.540Z"
   },
   {
    "duration": 13,
    "start_time": "2024-09-17T02:40:27.499Z"
   },
   {
    "duration": 20,
    "start_time": "2024-09-17T02:40:47.713Z"
   },
   {
    "duration": 17,
    "start_time": "2024-09-17T02:42:03.010Z"
   },
   {
    "duration": 675,
    "start_time": "2024-09-17T02:42:15.289Z"
   },
   {
    "duration": 19,
    "start_time": "2024-09-17T02:42:25.551Z"
   },
   {
    "duration": 83,
    "start_time": "2024-09-17T02:42:33.575Z"
   },
   {
    "duration": 13,
    "start_time": "2024-09-17T02:43:02.515Z"
   },
   {
    "duration": 12,
    "start_time": "2024-09-17T02:43:23.411Z"
   },
   {
    "duration": 18,
    "start_time": "2024-09-17T02:43:37.780Z"
   },
   {
    "duration": 12,
    "start_time": "2024-09-17T02:46:08.237Z"
   },
   {
    "duration": 11,
    "start_time": "2024-09-17T02:52:07.508Z"
   },
   {
    "duration": 13,
    "start_time": "2024-09-17T02:52:50.154Z"
   },
   {
    "duration": 12,
    "start_time": "2024-09-17T02:52:58.246Z"
   },
   {
    "duration": 19,
    "start_time": "2024-09-17T02:53:11.960Z"
   },
   {
    "duration": 12,
    "start_time": "2024-09-17T02:53:21.865Z"
   },
   {
    "duration": 43,
    "start_time": "2024-09-17T02:54:41.116Z"
   },
   {
    "duration": 4,
    "start_time": "2024-09-17T03:02:06.396Z"
   },
   {
    "duration": 3,
    "start_time": "2024-09-17T03:02:36.095Z"
   },
   {
    "duration": 14,
    "start_time": "2024-09-17T03:26:24.968Z"
   },
   {
    "duration": 9,
    "start_time": "2024-09-17T03:26:48.573Z"
   },
   {
    "duration": 11,
    "start_time": "2024-09-17T03:34:45.017Z"
   },
   {
    "duration": 49,
    "start_time": "2024-09-17T03:36:41.109Z"
   },
   {
    "duration": 43,
    "start_time": "2024-09-17T03:39:29.722Z"
   },
   {
    "duration": 41,
    "start_time": "2024-09-17T03:40:44.590Z"
   },
   {
    "duration": 41,
    "start_time": "2024-09-17T03:41:38.217Z"
   },
   {
    "duration": 40,
    "start_time": "2024-09-17T03:42:12.554Z"
   },
   {
    "duration": 42,
    "start_time": "2024-09-17T03:43:09.021Z"
   },
   {
    "duration": 4,
    "start_time": "2024-09-17T03:43:39.783Z"
   },
   {
    "duration": 44,
    "start_time": "2024-09-17T03:43:59.054Z"
   },
   {
    "duration": 44,
    "start_time": "2024-09-17T03:44:16.399Z"
   },
   {
    "duration": 42,
    "start_time": "2024-09-17T03:45:27.879Z"
   },
   {
    "duration": 47,
    "start_time": "2024-09-17T03:47:10.542Z"
   },
   {
    "duration": 44,
    "start_time": "2024-09-17T03:47:27.680Z"
   },
   {
    "duration": 17,
    "start_time": "2024-09-17T03:48:27.767Z"
   },
   {
    "duration": 11,
    "start_time": "2024-09-17T03:49:07.888Z"
   },
   {
    "duration": 13,
    "start_time": "2024-09-17T04:03:11.955Z"
   },
   {
    "duration": 11,
    "start_time": "2024-09-17T04:03:54.980Z"
   },
   {
    "duration": 15,
    "start_time": "2024-09-17T04:04:08.762Z"
   },
   {
    "duration": 23,
    "start_time": "2024-09-17T04:06:20.050Z"
   },
   {
    "duration": 11,
    "start_time": "2024-09-17T04:06:36.160Z"
   },
   {
    "duration": 160,
    "start_time": "2024-09-17T16:25:58.414Z"
   },
   {
    "duration": 13,
    "start_time": "2024-09-17T16:26:28.929Z"
   },
   {
    "duration": 12,
    "start_time": "2024-09-17T16:26:40.873Z"
   },
   {
    "duration": 300,
    "start_time": "2024-09-17T16:26:54.313Z"
   },
   {
    "duration": 1062,
    "start_time": "2024-09-17T16:26:56.113Z"
   },
   {
    "duration": 9,
    "start_time": "2024-09-17T16:27:02.849Z"
   },
   {
    "duration": 11,
    "start_time": "2024-09-17T16:27:09.082Z"
   },
   {
    "duration": 14,
    "start_time": "2024-09-17T16:27:22.460Z"
   },
   {
    "duration": 17,
    "start_time": "2024-09-17T16:27:54.318Z"
   },
   {
    "duration": 12,
    "start_time": "2024-09-17T16:27:59.867Z"
   },
   {
    "duration": 16,
    "start_time": "2024-09-17T16:28:10.552Z"
   },
   {
    "duration": 12,
    "start_time": "2024-09-17T16:28:49.778Z"
   },
   {
    "duration": 11,
    "start_time": "2024-09-17T16:29:30.864Z"
   },
   {
    "duration": 11,
    "start_time": "2024-09-17T16:29:48.730Z"
   },
   {
    "duration": 12,
    "start_time": "2024-09-17T16:30:20.342Z"
   },
   {
    "duration": 11,
    "start_time": "2024-09-17T16:30:32.669Z"
   },
   {
    "duration": 3,
    "start_time": "2024-09-17T16:33:35.168Z"
   },
   {
    "duration": 4,
    "start_time": "2024-09-17T16:33:41.159Z"
   },
   {
    "duration": 11,
    "start_time": "2024-09-17T16:33:52.824Z"
   },
   {
    "duration": 4,
    "start_time": "2024-09-17T16:34:11.992Z"
   },
   {
    "duration": 35,
    "start_time": "2024-09-17T16:34:26.465Z"
   },
   {
    "duration": 15,
    "start_time": "2024-09-17T16:34:35.068Z"
   },
   {
    "duration": 13,
    "start_time": "2024-09-17T16:34:41.998Z"
   },
   {
    "duration": 11,
    "start_time": "2024-09-17T16:34:54.816Z"
   },
   {
    "duration": 118,
    "start_time": "2024-09-17T16:34:57.415Z"
   },
   {
    "duration": 101,
    "start_time": "2024-09-17T16:35:00.064Z"
   },
   {
    "duration": 33,
    "start_time": "2024-09-17T16:35:02.425Z"
   },
   {
    "duration": 11,
    "start_time": "2024-09-17T16:39:08.346Z"
   },
   {
    "duration": 21,
    "start_time": "2024-09-17T16:39:38.450Z"
   },
   {
    "duration": 12,
    "start_time": "2024-09-17T16:39:52.503Z"
   },
   {
    "duration": 12,
    "start_time": "2024-09-17T16:40:27.806Z"
   },
   {
    "duration": 19,
    "start_time": "2024-09-17T16:40:59.292Z"
   },
   {
    "duration": 35,
    "start_time": "2024-09-17T16:43:40.321Z"
   },
   {
    "duration": 34,
    "start_time": "2024-09-17T16:43:51.858Z"
   },
   {
    "duration": 34,
    "start_time": "2024-09-17T16:44:55.267Z"
   },
   {
    "duration": 4,
    "start_time": "2024-09-17T16:45:07.727Z"
   },
   {
    "duration": 19,
    "start_time": "2024-09-17T16:45:29.526Z"
   },
   {
    "duration": 12,
    "start_time": "2024-09-17T16:45:35.575Z"
   },
   {
    "duration": 14,
    "start_time": "2024-09-17T16:47:02.183Z"
   },
   {
    "duration": 5,
    "start_time": "2024-09-17T16:51:03.933Z"
   },
   {
    "duration": 17,
    "start_time": "2024-09-17T16:51:23.335Z"
   },
   {
    "duration": 12,
    "start_time": "2024-09-17T17:01:47.513Z"
   },
   {
    "duration": 4,
    "start_time": "2024-09-17T17:05:03.662Z"
   },
   {
    "duration": 14,
    "start_time": "2024-09-17T17:16:10.996Z"
   },
   {
    "duration": 10,
    "start_time": "2024-09-17T17:17:37.350Z"
   },
   {
    "duration": 20,
    "start_time": "2024-09-17T17:18:55.502Z"
   },
   {
    "duration": 19,
    "start_time": "2024-09-17T17:19:55.687Z"
   },
   {
    "duration": 11,
    "start_time": "2024-09-17T17:20:22.459Z"
   },
   {
    "duration": 10,
    "start_time": "2024-09-17T17:20:45.219Z"
   },
   {
    "duration": 14,
    "start_time": "2024-09-17T17:20:58.867Z"
   },
   {
    "duration": 13,
    "start_time": "2024-09-17T17:21:08.214Z"
   },
   {
    "duration": 12,
    "start_time": "2024-09-17T17:22:01.299Z"
   },
   {
    "duration": 11,
    "start_time": "2024-09-17T17:27:02.841Z"
   },
   {
    "duration": 908,
    "start_time": "2024-09-17T18:13:32.783Z"
   },
   {
    "duration": 730,
    "start_time": "2024-09-17T18:15:30.543Z"
   },
   {
    "duration": 742,
    "start_time": "2024-09-17T18:15:33.506Z"
   },
   {
    "duration": 752,
    "start_time": "2024-09-17T18:15:57.833Z"
   },
   {
    "duration": 903,
    "start_time": "2024-09-17T18:33:16.528Z"
   },
   {
    "duration": 3,
    "start_time": "2024-09-17T19:06:33.073Z"
   },
   {
    "duration": 11,
    "start_time": "2024-09-17T19:06:45.565Z"
   },
   {
    "duration": 5,
    "start_time": "2024-09-17T19:09:08.005Z"
   },
   {
    "duration": 727,
    "start_time": "2024-09-17T19:15:50.352Z"
   },
   {
    "duration": 726,
    "start_time": "2024-09-17T19:16:27.787Z"
   },
   {
    "duration": 3460,
    "start_time": "2024-09-17T19:19:08.390Z"
   },
   {
    "duration": 3427,
    "start_time": "2024-09-17T19:22:00.943Z"
   },
   {
    "duration": 726,
    "start_time": "2024-09-17T19:22:53.073Z"
   },
   {
    "duration": 729,
    "start_time": "2024-09-17T19:23:27.513Z"
   },
   {
    "duration": 238,
    "start_time": "2024-09-17T19:25:01.515Z"
   },
   {
    "duration": 222,
    "start_time": "2024-09-17T19:25:14.380Z"
   },
   {
    "duration": 160,
    "start_time": "2024-09-17T19:27:05.338Z"
   },
   {
    "duration": 146,
    "start_time": "2024-09-17T19:27:30.704Z"
   },
   {
    "duration": 488,
    "start_time": "2024-09-17T19:28:36.016Z"
   },
   {
    "duration": 214,
    "start_time": "2024-09-17T19:29:15.802Z"
   },
   {
    "duration": 102,
    "start_time": "2024-09-17T19:29:45.031Z"
   },
   {
    "duration": 132,
    "start_time": "2024-09-17T19:30:01.796Z"
   },
   {
    "duration": 3,
    "start_time": "2024-09-17T19:30:25.183Z"
   },
   {
    "duration": 219,
    "start_time": "2024-09-17T19:30:30.551Z"
   },
   {
    "duration": 5,
    "start_time": "2024-09-17T19:31:13.821Z"
   },
   {
    "duration": 7,
    "start_time": "2024-09-17T19:32:18.862Z"
   },
   {
    "duration": 2,
    "start_time": "2024-09-17T19:32:25.125Z"
   },
   {
    "duration": 2,
    "start_time": "2024-09-17T19:32:41.460Z"
   },
   {
    "duration": 2,
    "start_time": "2024-09-17T19:32:48.643Z"
   },
   {
    "duration": 18,
    "start_time": "2024-09-17T19:32:50.491Z"
   },
   {
    "duration": 2,
    "start_time": "2024-09-17T19:32:57.384Z"
   },
   {
    "duration": 866,
    "start_time": "2024-09-17T19:33:00.604Z"
   },
   {
    "duration": 7,
    "start_time": "2024-09-17T19:33:07.771Z"
   },
   {
    "duration": 835,
    "start_time": "2024-09-17T19:33:18.640Z"
   },
   {
    "duration": 6,
    "start_time": "2024-09-17T19:33:43.549Z"
   },
   {
    "duration": 773,
    "start_time": "2024-09-17T19:55:46.763Z"
   },
   {
    "duration": 826,
    "start_time": "2024-09-17T19:56:28.578Z"
   },
   {
    "duration": 10,
    "start_time": "2024-09-17T19:56:34.876Z"
   },
   {
    "duration": 18,
    "start_time": "2024-09-17T19:56:44.835Z"
   },
   {
    "duration": 13,
    "start_time": "2024-09-17T19:56:47.671Z"
   },
   {
    "duration": 781,
    "start_time": "2024-09-17T19:57:00.636Z"
   },
   {
    "duration": 768,
    "start_time": "2024-09-17T19:59:24.115Z"
   },
   {
    "duration": 836,
    "start_time": "2024-09-17T20:01:05.091Z"
   },
   {
    "duration": 938,
    "start_time": "2024-09-17T20:02:38.928Z"
   },
   {
    "duration": 770,
    "start_time": "2024-09-17T20:03:17.600Z"
   },
   {
    "duration": 6,
    "start_time": "2024-09-17T20:04:08.415Z"
   },
   {
    "duration": 789,
    "start_time": "2024-09-17T20:04:45.199Z"
   },
   {
    "duration": 782,
    "start_time": "2024-09-17T20:05:25.732Z"
   },
   {
    "duration": 6,
    "start_time": "2024-09-17T20:19:02.058Z"
   },
   {
    "duration": 788,
    "start_time": "2024-09-17T20:20:00.891Z"
   },
   {
    "duration": 2404,
    "start_time": "2024-09-17T20:30:22.296Z"
   },
   {
    "duration": 936,
    "start_time": "2024-09-17T20:31:48.750Z"
   },
   {
    "duration": 953,
    "start_time": "2024-09-17T20:32:02.486Z"
   },
   {
    "duration": 5,
    "start_time": "2024-09-17T20:34:13.965Z"
   },
   {
    "duration": 163,
    "start_time": "2024-09-17T20:34:43.570Z"
   },
   {
    "duration": 142,
    "start_time": "2024-09-17T20:35:25.861Z"
   },
   {
    "duration": 177,
    "start_time": "2024-09-17T20:38:12.363Z"
   },
   {
    "duration": 221,
    "start_time": "2024-09-17T20:38:54.270Z"
   },
   {
    "duration": 267,
    "start_time": "2024-09-17T20:40:04.173Z"
   },
   {
    "duration": 227,
    "start_time": "2024-09-17T20:40:11.618Z"
   },
   {
    "duration": 227,
    "start_time": "2024-09-17T20:42:40.617Z"
   },
   {
    "duration": 234,
    "start_time": "2024-09-17T20:42:53.277Z"
   },
   {
    "duration": 6,
    "start_time": "2024-09-17T20:43:09.531Z"
   },
   {
    "duration": 4,
    "start_time": "2024-09-17T20:47:09.256Z"
   },
   {
    "duration": 14,
    "start_time": "2024-09-17T20:47:33.620Z"
   },
   {
    "duration": 5,
    "start_time": "2024-09-17T20:47:42.227Z"
   },
   {
    "duration": 5,
    "start_time": "2024-09-17T20:48:15.596Z"
   },
   {
    "duration": 7,
    "start_time": "2024-09-17T20:50:17.136Z"
   },
   {
    "duration": 5,
    "start_time": "2024-09-17T20:51:19.657Z"
   },
   {
    "duration": 6,
    "start_time": "2024-09-17T20:51:48.749Z"
   },
   {
    "duration": 8,
    "start_time": "2024-09-17T20:51:54.723Z"
   },
   {
    "duration": 8,
    "start_time": "2024-09-17T20:53:20.448Z"
   },
   {
    "duration": 21,
    "start_time": "2024-09-17T21:34:24.338Z"
   },
   {
    "duration": 11,
    "start_time": "2024-09-17T21:34:56.644Z"
   },
   {
    "duration": 23,
    "start_time": "2024-09-17T21:35:12.907Z"
   },
   {
    "duration": 12,
    "start_time": "2024-09-17T21:35:41.484Z"
   },
   {
    "duration": 28,
    "start_time": "2024-09-17T21:36:07.024Z"
   },
   {
    "duration": 12,
    "start_time": "2024-09-17T21:36:24.353Z"
   },
   {
    "duration": 7,
    "start_time": "2024-09-17T21:46:38.148Z"
   },
   {
    "duration": 8,
    "start_time": "2024-09-17T21:46:47.895Z"
   },
   {
    "duration": 514,
    "start_time": "2024-09-17T21:47:04.233Z"
   },
   {
    "duration": 9,
    "start_time": "2024-09-17T21:47:18.979Z"
   },
   {
    "duration": 7,
    "start_time": "2024-09-17T21:47:31.244Z"
   },
   {
    "duration": 772,
    "start_time": "2024-09-17T21:49:43.736Z"
   },
   {
    "duration": 1678,
    "start_time": "2024-09-17T21:59:03.418Z"
   },
   {
    "duration": 1691,
    "start_time": "2024-09-17T22:01:11.638Z"
   },
   {
    "duration": 1677,
    "start_time": "2024-09-17T22:01:40.733Z"
   },
   {
    "duration": 1679,
    "start_time": "2024-09-17T22:01:57.610Z"
   },
   {
    "duration": 1681,
    "start_time": "2024-09-17T22:04:07.161Z"
   },
   {
    "duration": 1687,
    "start_time": "2024-09-17T22:04:56.722Z"
   },
   {
    "duration": 1681,
    "start_time": "2024-09-17T22:05:21.489Z"
   },
   {
    "duration": 1665,
    "start_time": "2024-09-17T22:06:50.212Z"
   },
   {
    "duration": 1619,
    "start_time": "2024-09-17T22:11:23.020Z"
   },
   {
    "duration": 1772,
    "start_time": "2024-09-17T22:12:07.532Z"
   },
   {
    "duration": 1759,
    "start_time": "2024-09-17T22:12:22.511Z"
   },
   {
    "duration": 1777,
    "start_time": "2024-09-17T22:13:04.866Z"
   },
   {
    "duration": 1761,
    "start_time": "2024-09-17T22:13:07.111Z"
   },
   {
    "duration": 1600,
    "start_time": "2024-09-17T22:14:09.194Z"
   },
   {
    "duration": 1666,
    "start_time": "2024-09-17T22:14:32.004Z"
   },
   {
    "duration": 1610,
    "start_time": "2024-09-17T22:14:49.435Z"
   },
   {
    "duration": 1627,
    "start_time": "2024-09-17T22:15:31.542Z"
   },
   {
    "duration": 1650,
    "start_time": "2024-09-17T22:24:06.562Z"
   },
   {
    "duration": 1620,
    "start_time": "2024-09-17T22:25:41.530Z"
   },
   {
    "duration": 1600,
    "start_time": "2024-09-17T22:27:34.321Z"
   },
   {
    "duration": 1639,
    "start_time": "2024-09-17T22:27:50.621Z"
   },
   {
    "duration": 1607,
    "start_time": "2024-09-17T22:28:48.177Z"
   },
   {
    "duration": 1632,
    "start_time": "2024-09-17T22:32:12.551Z"
   },
   {
    "duration": 1616,
    "start_time": "2024-09-17T22:32:29.855Z"
   },
   {
    "duration": 1624,
    "start_time": "2024-09-17T22:33:13.407Z"
   },
   {
    "duration": 1685,
    "start_time": "2024-09-17T22:33:46.208Z"
   },
   {
    "duration": 1694,
    "start_time": "2024-09-17T22:35:46.238Z"
   },
   {
    "duration": 4,
    "start_time": "2024-09-17T22:39:14.095Z"
   },
   {
    "duration": 5,
    "start_time": "2024-09-17T22:40:20.485Z"
   },
   {
    "duration": 1601,
    "start_time": "2024-09-17T22:41:19.820Z"
   },
   {
    "duration": 1626,
    "start_time": "2024-09-17T22:41:33.712Z"
   },
   {
    "duration": 1627,
    "start_time": "2024-09-17T22:43:21.379Z"
   },
   {
    "duration": 1706,
    "start_time": "2024-09-17T22:43:50.194Z"
   },
   {
    "duration": 1653,
    "start_time": "2024-09-17T22:44:22.078Z"
   },
   {
    "duration": 1997,
    "start_time": "2024-09-17T22:45:05.864Z"
   },
   {
    "duration": 1679,
    "start_time": "2024-09-17T22:48:55.916Z"
   },
   {
    "duration": 1637,
    "start_time": "2024-09-17T22:49:14.208Z"
   },
   {
    "duration": 1651,
    "start_time": "2024-09-17T22:49:40.861Z"
   },
   {
    "duration": 1669,
    "start_time": "2024-09-17T22:50:09.192Z"
   },
   {
    "duration": 1687,
    "start_time": "2024-09-17T22:51:51.234Z"
   },
   {
    "duration": 1624,
    "start_time": "2024-09-17T22:52:38.376Z"
   },
   {
    "duration": 1701,
    "start_time": "2024-09-17T22:55:05.858Z"
   },
   {
    "duration": 1641,
    "start_time": "2024-09-17T22:55:14.017Z"
   },
   {
    "duration": 1645,
    "start_time": "2024-09-17T23:00:37.688Z"
   },
   {
    "duration": 1677,
    "start_time": "2024-09-17T23:00:59.849Z"
   },
   {
    "duration": 1729,
    "start_time": "2024-09-17T23:01:31.000Z"
   },
   {
    "duration": 1674,
    "start_time": "2024-09-17T23:02:24.716Z"
   },
   {
    "duration": 1735,
    "start_time": "2024-09-17T23:11:24.919Z"
   },
   {
    "duration": 1611,
    "start_time": "2024-09-17T23:23:19.705Z"
   },
   {
    "duration": 1597,
    "start_time": "2024-09-17T23:32:18.352Z"
   },
   {
    "duration": 1625,
    "start_time": "2024-09-17T23:37:02.328Z"
   },
   {
    "duration": 1619,
    "start_time": "2024-09-17T23:37:59.451Z"
   },
   {
    "duration": 1670,
    "start_time": "2024-09-17T23:38:35.730Z"
   },
   {
    "duration": 1625,
    "start_time": "2024-09-17T23:39:17.468Z"
   },
   {
    "duration": 1646,
    "start_time": "2024-09-17T23:39:30.042Z"
   },
   {
    "duration": 1661,
    "start_time": "2024-09-17T23:41:20.014Z"
   },
   {
    "duration": 1647,
    "start_time": "2024-09-17T23:41:43.131Z"
   },
   {
    "duration": 1634,
    "start_time": "2024-09-17T23:42:19.860Z"
   },
   {
    "duration": 1650,
    "start_time": "2024-09-17T23:42:59.805Z"
   },
   {
    "duration": 2476,
    "start_time": "2024-09-17T23:43:21.152Z"
   },
   {
    "duration": 1605,
    "start_time": "2024-09-17T23:43:49.604Z"
   },
   {
    "duration": 1634,
    "start_time": "2024-09-17T23:44:50.493Z"
   },
   {
    "duration": 1624,
    "start_time": "2024-09-17T23:52:19.859Z"
   },
   {
    "duration": 12,
    "start_time": "2024-09-18T00:18:53.589Z"
   },
   {
    "duration": 12,
    "start_time": "2024-09-18T00:19:12.018Z"
   },
   {
    "duration": 11,
    "start_time": "2024-09-18T00:19:27.584Z"
   },
   {
    "duration": 1719,
    "start_time": "2024-09-18T00:27:25.975Z"
   },
   {
    "duration": 1627,
    "start_time": "2024-09-18T00:29:49.568Z"
   },
   {
    "duration": 1651,
    "start_time": "2024-09-18T00:30:12.989Z"
   },
   {
    "duration": 1632,
    "start_time": "2024-09-18T00:30:41.811Z"
   },
   {
    "duration": 1634,
    "start_time": "2024-09-18T00:31:59.439Z"
   },
   {
    "duration": 2594,
    "start_time": "2024-09-18T00:32:31.165Z"
   },
   {
    "duration": 1644,
    "start_time": "2024-09-18T00:34:44.779Z"
   },
   {
    "duration": 1839,
    "start_time": "2024-09-18T00:35:21.117Z"
   },
   {
    "duration": 1932,
    "start_time": "2024-09-18T00:35:38.735Z"
   },
   {
    "duration": 1659,
    "start_time": "2024-09-18T00:36:21.325Z"
   },
   {
    "duration": 157,
    "start_time": "2024-09-18T14:55:42.570Z"
   },
   {
    "duration": 301,
    "start_time": "2024-09-18T14:55:50.206Z"
   },
   {
    "duration": 1038,
    "start_time": "2024-09-18T14:55:52.198Z"
   },
   {
    "duration": 1488,
    "start_time": "2024-09-18T14:56:01.721Z"
   },
   {
    "duration": 10,
    "start_time": "2024-09-18T14:56:39.531Z"
   },
   {
    "duration": 1547,
    "start_time": "2024-09-18T14:56:49.676Z"
   },
   {
    "duration": 17,
    "start_time": "2024-09-18T14:57:06.392Z"
   },
   {
    "duration": 10,
    "start_time": "2024-09-18T14:57:12.661Z"
   },
   {
    "duration": 882,
    "start_time": "2024-09-18T14:57:20.416Z"
   },
   {
    "duration": 1670,
    "start_time": "2024-09-18T14:57:25.454Z"
   },
   {
    "duration": 1693,
    "start_time": "2024-09-18T14:57:59.276Z"
   },
   {
    "duration": 1670,
    "start_time": "2024-09-18T14:58:28.126Z"
   },
   {
    "duration": 1536,
    "start_time": "2024-09-18T15:00:12.842Z"
   },
   {
    "duration": 1685,
    "start_time": "2024-09-18T15:00:26.862Z"
   },
   {
    "duration": 1712,
    "start_time": "2024-09-18T15:03:53.502Z"
   },
   {
    "duration": 1751,
    "start_time": "2024-09-18T15:04:47.084Z"
   },
   {
    "duration": 1709,
    "start_time": "2024-09-18T15:05:11.273Z"
   },
   {
    "duration": 2039,
    "start_time": "2024-09-18T15:06:30.617Z"
   },
   {
    "duration": 2639,
    "start_time": "2024-09-18T15:07:21.345Z"
   },
   {
    "duration": 1703,
    "start_time": "2024-09-18T15:11:28.237Z"
   },
   {
    "duration": 1713,
    "start_time": "2024-09-18T15:13:44.533Z"
   },
   {
    "duration": 1753,
    "start_time": "2024-09-18T15:14:17.614Z"
   },
   {
    "duration": 1676,
    "start_time": "2024-09-18T15:16:34.944Z"
   },
   {
    "duration": 1729,
    "start_time": "2024-09-18T15:19:14.356Z"
   },
   {
    "duration": 1675,
    "start_time": "2024-09-18T15:20:05.899Z"
   },
   {
    "duration": 5,
    "start_time": "2024-09-18T15:29:32.448Z"
   },
   {
    "duration": 5,
    "start_time": "2024-09-18T15:29:35.451Z"
   },
   {
    "duration": 8,
    "start_time": "2024-09-18T15:29:48.186Z"
   },
   {
    "duration": 6,
    "start_time": "2024-09-18T15:30:06.712Z"
   },
   {
    "duration": 11,
    "start_time": "2024-09-18T15:32:04.454Z"
   },
   {
    "duration": 10,
    "start_time": "2024-09-18T15:32:16.091Z"
   },
   {
    "duration": 13,
    "start_time": "2024-09-18T15:32:28.325Z"
   },
   {
    "duration": 13,
    "start_time": "2024-09-18T15:32:35.617Z"
   },
   {
    "duration": 8,
    "start_time": "2024-09-18T15:32:43.362Z"
   },
   {
    "duration": 10,
    "start_time": "2024-09-18T15:39:00.696Z"
   },
   {
    "duration": 14,
    "start_time": "2024-09-18T15:39:13.654Z"
   },
   {
    "duration": 17,
    "start_time": "2024-09-18T15:39:39.153Z"
   },
   {
    "duration": 205,
    "start_time": "2024-09-18T15:40:36.066Z"
   },
   {
    "duration": 4,
    "start_time": "2024-09-18T15:40:43.932Z"
   },
   {
    "duration": 13,
    "start_time": "2024-09-18T15:40:51.512Z"
   },
   {
    "duration": 38,
    "start_time": "2024-09-18T15:43:14.287Z"
   },
   {
    "duration": 4,
    "start_time": "2024-09-18T15:43:30.765Z"
   },
   {
    "duration": 5,
    "start_time": "2024-09-18T15:44:07.725Z"
   },
   {
    "duration": 4,
    "start_time": "2024-09-18T15:46:08.824Z"
   },
   {
    "duration": 4,
    "start_time": "2024-09-18T15:46:34.120Z"
   },
   {
    "duration": 7,
    "start_time": "2024-09-18T15:46:48.159Z"
   },
   {
    "duration": 6,
    "start_time": "2024-09-18T15:47:19.169Z"
   },
   {
    "duration": 58,
    "start_time": "2024-09-18T15:47:44.382Z"
   },
   {
    "duration": 8,
    "start_time": "2024-09-18T15:47:51.621Z"
   },
   {
    "duration": 9,
    "start_time": "2024-09-18T15:48:06.816Z"
   },
   {
    "duration": 9,
    "start_time": "2024-09-18T15:54:37.069Z"
   },
   {
    "duration": 13,
    "start_time": "2024-09-18T15:54:54.752Z"
   },
   {
    "duration": 13,
    "start_time": "2024-09-18T15:56:06.949Z"
   },
   {
    "duration": 10,
    "start_time": "2024-09-18T15:57:00.705Z"
   },
   {
    "duration": 9,
    "start_time": "2024-09-18T15:57:11.765Z"
   },
   {
    "duration": 18,
    "start_time": "2024-09-18T16:00:09.420Z"
   },
   {
    "duration": 9,
    "start_time": "2024-09-18T16:00:44.013Z"
   },
   {
    "duration": 8,
    "start_time": "2024-09-18T16:02:08.073Z"
   },
   {
    "duration": 19,
    "start_time": "2024-09-18T16:10:03.986Z"
   },
   {
    "duration": 12,
    "start_time": "2024-09-18T16:10:25.250Z"
   },
   {
    "duration": 13,
    "start_time": "2024-09-18T16:14:46.957Z"
   },
   {
    "duration": 17,
    "start_time": "2024-09-18T16:18:15.500Z"
   },
   {
    "duration": 15,
    "start_time": "2024-09-18T16:19:03.293Z"
   },
   {
    "duration": 15,
    "start_time": "2024-09-18T16:20:09.439Z"
   },
   {
    "duration": 15,
    "start_time": "2024-09-18T16:20:43.457Z"
   },
   {
    "duration": 7,
    "start_time": "2024-09-18T16:24:43.710Z"
   },
   {
    "duration": 10,
    "start_time": "2024-09-18T16:26:35.927Z"
   },
   {
    "duration": 13,
    "start_time": "2024-09-18T16:30:52.147Z"
   },
   {
    "duration": 11,
    "start_time": "2024-09-18T16:31:08.999Z"
   },
   {
    "duration": 13,
    "start_time": "2024-09-18T16:34:13.046Z"
   },
   {
    "duration": 4,
    "start_time": "2024-09-18T16:42:02.534Z"
   },
   {
    "duration": 250,
    "start_time": "2024-09-18T16:44:35.017Z"
   },
   {
    "duration": 41,
    "start_time": "2024-09-18T16:47:26.655Z"
   },
   {
    "duration": 9,
    "start_time": "2024-09-18T16:48:23.604Z"
   },
   {
    "duration": 9,
    "start_time": "2024-09-18T16:48:54.366Z"
   },
   {
    "duration": 11,
    "start_time": "2024-09-18T16:49:31.378Z"
   },
   {
    "duration": 7,
    "start_time": "2024-09-18T16:49:39.906Z"
   },
   {
    "duration": 8,
    "start_time": "2024-09-18T16:52:55.818Z"
   },
   {
    "duration": 8,
    "start_time": "2024-09-18T16:53:08.164Z"
   },
   {
    "duration": 18,
    "start_time": "2024-09-18T17:00:15.875Z"
   },
   {
    "duration": 9,
    "start_time": "2024-09-18T17:01:42.777Z"
   },
   {
    "duration": 14,
    "start_time": "2024-09-18T17:06:23.111Z"
   },
   {
    "duration": 10,
    "start_time": "2024-09-18T17:07:06.453Z"
   },
   {
    "duration": 12,
    "start_time": "2024-09-18T17:07:58.325Z"
   },
   {
    "duration": 11,
    "start_time": "2024-09-18T17:08:41.284Z"
   },
   {
    "duration": 15,
    "start_time": "2024-09-18T17:13:08.448Z"
   },
   {
    "duration": 4,
    "start_time": "2024-09-18T17:13:20.906Z"
   },
   {
    "duration": 14,
    "start_time": "2024-09-18T17:15:12.787Z"
   },
   {
    "duration": 6,
    "start_time": "2024-09-18T17:16:32.326Z"
   },
   {
    "duration": 14,
    "start_time": "2024-09-18T17:20:10.258Z"
   },
   {
    "duration": 702,
    "start_time": "2024-09-18T17:20:24.522Z"
   },
   {
    "duration": 732,
    "start_time": "2024-09-18T17:21:41.924Z"
   },
   {
    "duration": 12207,
    "start_time": "2024-09-18T17:26:11.219Z"
   },
   {
    "duration": 12,
    "start_time": "2024-09-18T17:27:07.776Z"
   },
   {
    "duration": 27,
    "start_time": "2024-09-18T17:32:02.850Z"
   },
   {
    "duration": 28,
    "start_time": "2024-09-18T17:33:00.014Z"
   },
   {
    "duration": 26,
    "start_time": "2024-09-18T17:33:15.892Z"
   },
   {
    "duration": 34,
    "start_time": "2024-09-18T17:34:10.274Z"
   },
   {
    "duration": 29,
    "start_time": "2024-09-18T17:34:15.375Z"
   },
   {
    "duration": 26,
    "start_time": "2024-09-18T17:34:35.828Z"
   },
   {
    "duration": 699,
    "start_time": "2024-09-18T17:41:24.727Z"
   },
   {
    "duration": 11,
    "start_time": "2024-09-18T17:43:13.499Z"
   },
   {
    "duration": 740,
    "start_time": "2024-09-18T17:44:52.578Z"
   },
   {
    "duration": 770,
    "start_time": "2024-09-18T17:45:04.333Z"
   },
   {
    "duration": 779,
    "start_time": "2024-09-18T17:49:54.667Z"
   },
   {
    "duration": 81,
    "start_time": "2024-09-18T17:50:37.633Z"
   },
   {
    "duration": 767,
    "start_time": "2024-09-18T17:51:10.077Z"
   },
   {
    "duration": 760,
    "start_time": "2024-09-18T17:54:28.719Z"
   },
   {
    "duration": 709,
    "start_time": "2024-09-18T17:54:40.116Z"
   },
   {
    "duration": 733,
    "start_time": "2024-09-18T17:54:49.900Z"
   },
   {
    "duration": 663,
    "start_time": "2024-09-18T17:55:21.397Z"
   },
   {
    "duration": 74,
    "start_time": "2024-09-18T17:55:41.637Z"
   },
   {
    "duration": 640,
    "start_time": "2024-09-18T17:57:58.517Z"
   },
   {
    "duration": 2,
    "start_time": "2024-09-18T18:02:47.311Z"
   },
   {
    "duration": 2,
    "start_time": "2024-09-18T18:02:54.126Z"
   },
   {
    "duration": 12,
    "start_time": "2024-09-18T18:05:53.307Z"
   },
   {
    "duration": 12,
    "start_time": "2024-09-18T18:06:02.455Z"
   },
   {
    "duration": 7,
    "start_time": "2024-09-18T18:06:37.642Z"
   },
   {
    "duration": 2,
    "start_time": "2024-09-18T18:06:56.983Z"
   },
   {
    "duration": 10,
    "start_time": "2024-09-18T18:09:36.412Z"
   },
   {
    "duration": 326,
    "start_time": "2024-09-18T18:09:58.638Z"
   },
   {
    "duration": 8,
    "start_time": "2024-09-18T18:10:30.997Z"
   },
   {
    "duration": 141,
    "start_time": "2024-09-18T18:10:51.436Z"
   },
   {
    "duration": 3,
    "start_time": "2024-09-18T18:13:06.439Z"
   },
   {
    "duration": 656,
    "start_time": "2024-09-18T18:14:37.634Z"
   },
   {
    "duration": 714,
    "start_time": "2024-09-18T18:18:04.167Z"
   },
   {
    "duration": 5,
    "start_time": "2024-09-18T18:20:29.473Z"
   },
   {
    "duration": 794,
    "start_time": "2024-09-18T18:20:47.954Z"
   },
   {
    "duration": 728,
    "start_time": "2024-09-18T18:23:10.217Z"
   },
   {
    "duration": 613,
    "start_time": "2024-09-18T18:30:36.587Z"
   },
   {
    "duration": 671,
    "start_time": "2024-09-18T18:30:49.504Z"
   },
   {
    "duration": 644,
    "start_time": "2024-09-18T18:31:18.511Z"
   },
   {
    "duration": 647,
    "start_time": "2024-09-18T18:31:51.027Z"
   },
   {
    "duration": 623,
    "start_time": "2024-09-18T18:32:51.401Z"
   },
   {
    "duration": 669,
    "start_time": "2024-09-18T18:33:16.015Z"
   },
   {
    "duration": 629,
    "start_time": "2024-09-18T18:37:36.937Z"
   },
   {
    "duration": 10,
    "start_time": "2024-09-18T18:44:00.890Z"
   },
   {
    "duration": 10,
    "start_time": "2024-09-18T18:44:38.309Z"
   },
   {
    "duration": 11,
    "start_time": "2024-09-18T18:45:26.582Z"
   },
   {
    "duration": 9,
    "start_time": "2024-09-18T18:45:40.797Z"
   },
   {
    "duration": 32,
    "start_time": "2024-09-18T18:47:18.721Z"
   },
   {
    "duration": 19,
    "start_time": "2024-09-18T18:48:08.892Z"
   },
   {
    "duration": 9,
    "start_time": "2024-09-18T18:48:18.659Z"
   },
   {
    "duration": 12,
    "start_time": "2024-09-18T18:48:31.922Z"
   },
   {
    "duration": 9,
    "start_time": "2024-09-18T18:48:39.057Z"
   },
   {
    "duration": 5,
    "start_time": "2024-09-18T18:51:47.137Z"
   },
   {
    "duration": 15,
    "start_time": "2024-09-18T18:53:14.226Z"
   },
   {
    "duration": 15,
    "start_time": "2024-09-18T18:59:20.770Z"
   },
   {
    "duration": 824,
    "start_time": "2024-09-18T18:59:41.386Z"
   },
   {
    "duration": 6,
    "start_time": "2024-09-18T18:59:53.303Z"
   },
   {
    "duration": 23,
    "start_time": "2024-09-18T19:00:07.375Z"
   },
   {
    "duration": 7,
    "start_time": "2024-09-18T19:00:27.515Z"
   },
   {
    "duration": 14,
    "start_time": "2024-09-18T19:02:23.961Z"
   },
   {
    "duration": 15,
    "start_time": "2024-09-18T19:02:28.633Z"
   },
   {
    "duration": 2,
    "start_time": "2024-09-18T19:03:58.512Z"
   },
   {
    "duration": 6,
    "start_time": "2024-09-18T19:06:32.913Z"
   },
   {
    "duration": 5,
    "start_time": "2024-09-18T19:06:58.444Z"
   },
   {
    "duration": 4,
    "start_time": "2024-09-18T19:07:13.734Z"
   },
   {
    "duration": 18,
    "start_time": "2024-09-18T19:07:40.316Z"
   },
   {
    "duration": 26,
    "start_time": "2024-09-18T19:07:51.508Z"
   },
   {
    "duration": 4,
    "start_time": "2024-09-18T19:08:01.061Z"
   },
   {
    "duration": 12,
    "start_time": "2024-09-18T19:08:24.397Z"
   },
   {
    "duration": 10,
    "start_time": "2024-09-18T19:08:49.396Z"
   },
   {
    "duration": 4,
    "start_time": "2024-09-18T19:10:41.819Z"
   },
   {
    "duration": 17,
    "start_time": "2024-09-18T19:11:08.772Z"
   },
   {
    "duration": 18,
    "start_time": "2024-09-18T19:11:24.857Z"
   },
   {
    "duration": 17,
    "start_time": "2024-09-18T19:11:34.149Z"
   },
   {
    "duration": 17,
    "start_time": "2024-09-18T19:11:41.796Z"
   },
   {
    "duration": 31,
    "start_time": "2024-09-18T19:12:07.068Z"
   },
   {
    "duration": 30,
    "start_time": "2024-09-18T19:12:22.830Z"
   },
   {
    "duration": 31,
    "start_time": "2024-09-18T19:12:32.143Z"
   },
   {
    "duration": 32,
    "start_time": "2024-09-18T19:12:44.140Z"
   },
   {
    "duration": 32,
    "start_time": "2024-09-18T19:13:12.694Z"
   },
   {
    "duration": 33,
    "start_time": "2024-09-18T19:13:24.911Z"
   },
   {
    "duration": 4,
    "start_time": "2024-09-18T19:23:56.192Z"
   },
   {
    "duration": 11,
    "start_time": "2024-09-18T19:24:36.928Z"
   },
   {
    "duration": 640,
    "start_time": "2024-09-18T19:25:41.006Z"
   },
   {
    "duration": 4,
    "start_time": "2024-09-18T19:26:04.697Z"
   },
   {
    "duration": 5,
    "start_time": "2024-09-18T19:28:03.541Z"
   },
   {
    "duration": 7,
    "start_time": "2024-09-18T19:28:09.418Z"
   },
   {
    "duration": 4,
    "start_time": "2024-09-18T19:28:26.635Z"
   },
   {
    "duration": 87,
    "start_time": "2024-09-18T19:30:10.391Z"
   },
   {
    "duration": 3,
    "start_time": "2024-09-18T19:35:31.737Z"
   },
   {
    "duration": 11,
    "start_time": "2024-09-18T19:35:48.851Z"
   },
   {
    "duration": 3,
    "start_time": "2024-09-18T19:35:54.730Z"
   },
   {
    "duration": 12,
    "start_time": "2024-09-18T19:46:11.899Z"
   },
   {
    "duration": 12,
    "start_time": "2024-09-18T19:46:30.940Z"
   },
   {
    "duration": 11,
    "start_time": "2024-09-18T19:47:25.462Z"
   },
   {
    "duration": 7,
    "start_time": "2024-09-18T19:48:53.339Z"
   },
   {
    "duration": 10,
    "start_time": "2024-09-18T19:49:17.280Z"
   },
   {
    "duration": 9,
    "start_time": "2024-09-18T19:49:39.233Z"
   },
   {
    "duration": 854,
    "start_time": "2024-09-18T19:59:05.559Z"
   },
   {
    "duration": 780,
    "start_time": "2024-09-18T20:00:32.455Z"
   },
   {
    "duration": 779,
    "start_time": "2024-09-18T20:00:51.934Z"
   },
   {
    "duration": 807,
    "start_time": "2024-09-18T20:01:03.624Z"
   },
   {
    "duration": 3,
    "start_time": "2024-09-18T20:03:22.493Z"
   },
   {
    "duration": 5,
    "start_time": "2024-09-18T20:04:45.817Z"
   },
   {
    "duration": 10,
    "start_time": "2024-09-18T20:13:47.967Z"
   },
   {
    "duration": 10,
    "start_time": "2024-09-18T20:14:42.869Z"
   },
   {
    "duration": 5,
    "start_time": "2024-09-18T20:14:56.861Z"
   },
   {
    "duration": 5,
    "start_time": "2024-09-18T20:15:05.851Z"
   },
   {
    "duration": 8,
    "start_time": "2024-09-18T20:18:14.550Z"
   },
   {
    "duration": 11,
    "start_time": "2024-09-18T20:18:58.058Z"
   },
   {
    "duration": 9,
    "start_time": "2024-09-18T20:19:07.649Z"
   },
   {
    "duration": 6,
    "start_time": "2024-09-18T20:21:00.501Z"
   },
   {
    "duration": 39,
    "start_time": "2024-09-18T20:21:42.216Z"
   },
   {
    "duration": 4,
    "start_time": "2024-09-18T20:22:03.411Z"
   },
   {
    "duration": 37,
    "start_time": "2024-09-18T20:22:08.295Z"
   },
   {
    "duration": 4,
    "start_time": "2024-09-18T20:22:15.623Z"
   },
   {
    "duration": 20,
    "start_time": "2024-09-18T20:22:43.609Z"
   },
   {
    "duration": 4,
    "start_time": "2024-09-18T20:23:16.306Z"
   },
   {
    "duration": 6,
    "start_time": "2024-09-18T20:24:13.564Z"
   },
   {
    "duration": 2,
    "start_time": "2024-09-18T20:24:33.140Z"
   },
   {
    "duration": 6,
    "start_time": "2024-09-18T20:27:05.778Z"
   },
   {
    "duration": 11,
    "start_time": "2024-09-18T20:27:19.767Z"
   },
   {
    "duration": 289,
    "start_time": "2024-09-19T02:43:03.152Z"
   },
   {
    "duration": 1028,
    "start_time": "2024-09-19T02:43:05.096Z"
   },
   {
    "duration": 12,
    "start_time": "2024-09-19T02:43:12.495Z"
   },
   {
    "duration": 10,
    "start_time": "2024-09-19T02:43:14.825Z"
   },
   {
    "duration": 8,
    "start_time": "2024-09-19T02:43:17.163Z"
   },
   {
    "duration": 9,
    "start_time": "2024-09-19T02:43:18.117Z"
   },
   {
    "duration": 10,
    "start_time": "2024-09-19T02:43:19.581Z"
   },
   {
    "duration": 4,
    "start_time": "2024-09-19T02:43:55.416Z"
   },
   {
    "duration": 2,
    "start_time": "2024-09-19T02:45:02.084Z"
   },
   {
    "duration": 19,
    "start_time": "2024-09-19T02:45:05.981Z"
   },
   {
    "duration": 7,
    "start_time": "2024-09-19T02:55:16.152Z"
   },
   {
    "duration": 8,
    "start_time": "2024-09-19T02:55:37.567Z"
   },
   {
    "duration": 7,
    "start_time": "2024-09-19T02:55:48.418Z"
   },
   {
    "duration": 14,
    "start_time": "2024-09-19T02:57:07.615Z"
   },
   {
    "duration": 9,
    "start_time": "2024-09-19T02:58:07.546Z"
   },
   {
    "duration": 9,
    "start_time": "2024-09-19T02:59:06.259Z"
   },
   {
    "duration": 9,
    "start_time": "2024-09-19T03:00:15.331Z"
   },
   {
    "duration": 9,
    "start_time": "2024-09-19T03:00:42.569Z"
   },
   {
    "duration": 6,
    "start_time": "2024-09-19T03:03:41.052Z"
   },
   {
    "duration": 4,
    "start_time": "2024-09-19T03:04:24.626Z"
   },
   {
    "duration": 4,
    "start_time": "2024-09-19T03:04:34.626Z"
   },
   {
    "duration": 9,
    "start_time": "2024-09-19T03:05:50.846Z"
   },
   {
    "duration": 180,
    "start_time": "2024-09-19T03:06:20.789Z"
   },
   {
    "duration": 10,
    "start_time": "2024-09-19T03:09:01.379Z"
   },
   {
    "duration": 9,
    "start_time": "2024-09-19T03:09:26.115Z"
   },
   {
    "duration": 10,
    "start_time": "2024-09-19T03:14:54.300Z"
   },
   {
    "duration": 5,
    "start_time": "2024-09-19T03:16:48.536Z"
   },
   {
    "duration": 5,
    "start_time": "2024-09-19T03:17:00.100Z"
   },
   {
    "duration": 5,
    "start_time": "2024-09-19T03:17:11.056Z"
   },
   {
    "duration": 5,
    "start_time": "2024-09-19T03:27:57.481Z"
   },
   {
    "duration": 5,
    "start_time": "2024-09-19T03:28:54.360Z"
   },
   {
    "duration": 7,
    "start_time": "2024-09-19T03:39:26.851Z"
   },
   {
    "duration": 7,
    "start_time": "2024-09-19T03:41:05.527Z"
   },
   {
    "duration": 6,
    "start_time": "2024-09-19T03:41:31.249Z"
   },
   {
    "duration": 6,
    "start_time": "2024-09-19T03:42:24.269Z"
   },
   {
    "duration": 5,
    "start_time": "2024-09-19T04:00:31.634Z"
   },
   {
    "duration": 5,
    "start_time": "2024-09-19T04:01:03.522Z"
   },
   {
    "duration": 5,
    "start_time": "2024-09-19T04:01:50.712Z"
   },
   {
    "duration": 16,
    "start_time": "2024-09-19T04:03:21.381Z"
   },
   {
    "duration": 10,
    "start_time": "2024-09-19T04:03:33.944Z"
   },
   {
    "duration": 12,
    "start_time": "2024-09-19T04:04:14.872Z"
   },
   {
    "duration": 8,
    "start_time": "2024-09-19T04:04:24.831Z"
   },
   {
    "duration": 9,
    "start_time": "2024-09-19T04:04:56.757Z"
   },
   {
    "duration": 5,
    "start_time": "2024-09-19T04:06:24.520Z"
   },
   {
    "duration": 6,
    "start_time": "2024-09-19T04:07:43.426Z"
   },
   {
    "duration": 16,
    "start_time": "2024-09-19T04:08:29.990Z"
   },
   {
    "duration": 7,
    "start_time": "2024-09-19T04:08:50.798Z"
   },
   {
    "duration": 10,
    "start_time": "2024-09-19T04:09:06.077Z"
   },
   {
    "duration": 6,
    "start_time": "2024-09-19T04:12:18.473Z"
   },
   {
    "duration": 19,
    "start_time": "2024-09-19T04:30:01.406Z"
   },
   {
    "duration": 4,
    "start_time": "2024-09-19T04:31:01.655Z"
   },
   {
    "duration": 5,
    "start_time": "2024-09-19T04:32:23.479Z"
   },
   {
    "duration": 8,
    "start_time": "2024-09-19T04:42:32.353Z"
   },
   {
    "duration": 10,
    "start_time": "2024-09-19T04:44:14.195Z"
   },
   {
    "duration": 16,
    "start_time": "2024-09-19T04:49:57.855Z"
   },
   {
    "duration": 14,
    "start_time": "2024-09-19T04:50:37.116Z"
   },
   {
    "duration": 13,
    "start_time": "2024-09-19T05:02:19.282Z"
   },
   {
    "duration": 13,
    "start_time": "2024-09-19T05:02:41.077Z"
   },
   {
    "duration": 14,
    "start_time": "2024-09-19T05:02:59.293Z"
   },
   {
    "duration": 14,
    "start_time": "2024-09-19T05:03:36.406Z"
   },
   {
    "duration": 16,
    "start_time": "2024-09-19T05:06:04.082Z"
   },
   {
    "duration": 14,
    "start_time": "2024-09-19T05:07:29.265Z"
   },
   {
    "duration": 161,
    "start_time": "2024-09-19T11:50:53.369Z"
   },
   {
    "duration": 329,
    "start_time": "2024-09-19T11:51:03.851Z"
   },
   {
    "duration": 1038,
    "start_time": "2024-09-19T11:51:05.495Z"
   },
   {
    "duration": 11,
    "start_time": "2024-09-19T11:51:06.534Z"
   },
   {
    "duration": 10,
    "start_time": "2024-09-19T11:51:06.723Z"
   },
   {
    "duration": 8,
    "start_time": "2024-09-19T11:51:13.941Z"
   },
   {
    "duration": 9,
    "start_time": "2024-09-19T11:51:14.683Z"
   },
   {
    "duration": 37,
    "start_time": "2024-09-19T11:51:24.472Z"
   },
   {
    "duration": 16,
    "start_time": "2024-09-19T11:51:31.988Z"
   },
   {
    "duration": 16,
    "start_time": "2024-09-19T11:51:36.957Z"
   },
   {
    "duration": 15,
    "start_time": "2024-09-19T11:56:02.159Z"
   },
   {
    "duration": 5,
    "start_time": "2024-09-19T12:05:49.439Z"
   },
   {
    "duration": 4,
    "start_time": "2024-09-19T12:07:28.836Z"
   },
   {
    "duration": 5,
    "start_time": "2024-09-19T12:07:53.318Z"
   },
   {
    "duration": 4,
    "start_time": "2024-09-19T12:08:41.665Z"
   },
   {
    "duration": 3,
    "start_time": "2024-09-19T12:09:15.132Z"
   },
   {
    "duration": 4,
    "start_time": "2024-09-19T12:09:19.452Z"
   },
   {
    "duration": 503,
    "start_time": "2024-09-19T12:24:29.498Z"
   },
   {
    "duration": 299,
    "start_time": "2024-09-19T14:22:26.723Z"
   },
   {
    "duration": 1026,
    "start_time": "2024-09-19T14:22:27.347Z"
   },
   {
    "duration": 11,
    "start_time": "2024-09-19T14:22:28.375Z"
   },
   {
    "duration": 9,
    "start_time": "2024-09-19T14:22:28.904Z"
   },
   {
    "duration": 8,
    "start_time": "2024-09-19T14:22:29.776Z"
   },
   {
    "duration": 7,
    "start_time": "2024-09-19T14:22:34.971Z"
   },
   {
    "duration": 176,
    "start_time": "2024-09-19T14:22:54.396Z"
   },
   {
    "duration": 16,
    "start_time": "2024-09-19T14:23:01.488Z"
   },
   {
    "duration": 15,
    "start_time": "2024-09-19T14:23:04.120Z"
   },
   {
    "duration": 14,
    "start_time": "2024-09-19T14:25:13.653Z"
   },
   {
    "duration": 15,
    "start_time": "2024-09-19T14:25:41.389Z"
   },
   {
    "duration": 12,
    "start_time": "2024-09-19T14:25:53.401Z"
   },
   {
    "duration": 13,
    "start_time": "2024-09-19T14:29:38.801Z"
   },
   {
    "duration": 13,
    "start_time": "2024-09-19T14:30:22.553Z"
   },
   {
    "duration": 6,
    "start_time": "2024-09-19T14:31:08.558Z"
   },
   {
    "duration": 7,
    "start_time": "2024-09-19T14:31:21.577Z"
   },
   {
    "duration": 243,
    "start_time": "2024-09-19T14:34:30.120Z"
   },
   {
    "duration": 44,
    "start_time": "2024-09-19T14:34:40.050Z"
   },
   {
    "duration": 43,
    "start_time": "2024-09-19T14:34:57.349Z"
   },
   {
    "duration": 14,
    "start_time": "2024-09-19T14:35:36.919Z"
   },
   {
    "duration": 14,
    "start_time": "2024-09-19T14:36:07.023Z"
   },
   {
    "duration": 22,
    "start_time": "2024-09-19T14:37:35.548Z"
   },
   {
    "duration": 6,
    "start_time": "2024-09-19T14:37:48.157Z"
   },
   {
    "duration": 7,
    "start_time": "2024-09-19T14:48:32.378Z"
   },
   {
    "duration": 9,
    "start_time": "2024-09-19T14:48:51.411Z"
   },
   {
    "duration": 6,
    "start_time": "2024-09-19T14:52:16.525Z"
   },
   {
    "duration": 8,
    "start_time": "2024-09-19T14:53:50.667Z"
   },
   {
    "duration": 8,
    "start_time": "2024-09-19T14:54:40.472Z"
   },
   {
    "duration": 6,
    "start_time": "2024-09-19T14:55:31.736Z"
   },
   {
    "duration": 13,
    "start_time": "2024-09-19T14:55:38.125Z"
   },
   {
    "duration": 5,
    "start_time": "2024-09-19T14:56:43.257Z"
   },
   {
    "duration": 6,
    "start_time": "2024-09-19T14:57:06.707Z"
   },
   {
    "duration": 7,
    "start_time": "2024-09-19T14:57:46.678Z"
   },
   {
    "duration": 6,
    "start_time": "2024-09-19T15:00:19.037Z"
   },
   {
    "duration": 16,
    "start_time": "2024-09-19T15:00:32.989Z"
   },
   {
    "duration": 6,
    "start_time": "2024-09-19T15:00:41.053Z"
   },
   {
    "duration": 6,
    "start_time": "2024-09-19T15:02:40.681Z"
   },
   {
    "duration": 6,
    "start_time": "2024-09-19T15:02:57.266Z"
   },
   {
    "duration": 7,
    "start_time": "2024-09-19T15:03:09.718Z"
   },
   {
    "duration": 6,
    "start_time": "2024-09-19T15:03:34.116Z"
   },
   {
    "duration": 7,
    "start_time": "2024-09-19T15:03:49.504Z"
   },
   {
    "duration": 8,
    "start_time": "2024-09-19T15:10:19.438Z"
   },
   {
    "duration": 5,
    "start_time": "2024-09-19T15:11:16.966Z"
   },
   {
    "duration": 9,
    "start_time": "2024-09-19T15:11:22.670Z"
   },
   {
    "duration": 9,
    "start_time": "2024-09-19T15:12:31.838Z"
   },
   {
    "duration": 18,
    "start_time": "2024-09-19T15:13:11.492Z"
   },
   {
    "duration": 10,
    "start_time": "2024-09-19T15:13:44.571Z"
   },
   {
    "duration": 10,
    "start_time": "2024-09-19T15:15:57.849Z"
   },
   {
    "duration": 7,
    "start_time": "2024-09-19T15:17:23.028Z"
   },
   {
    "duration": 10,
    "start_time": "2024-09-19T15:18:33.735Z"
   },
   {
    "duration": 6,
    "start_time": "2024-09-19T15:19:08.016Z"
   },
   {
    "duration": 12,
    "start_time": "2024-09-19T15:19:22.848Z"
   },
   {
    "duration": 7,
    "start_time": "2024-09-19T15:19:30.290Z"
   },
   {
    "duration": 6,
    "start_time": "2024-09-19T15:20:15.474Z"
   },
   {
    "duration": 6,
    "start_time": "2024-09-19T15:24:41.325Z"
   },
   {
    "duration": 7,
    "start_time": "2024-09-19T15:24:58.640Z"
   },
   {
    "duration": 11,
    "start_time": "2024-09-19T15:26:05.606Z"
   },
   {
    "duration": 17,
    "start_time": "2024-09-19T15:27:00.165Z"
   },
   {
    "duration": 7,
    "start_time": "2024-09-19T15:27:16.974Z"
   },
   {
    "duration": 5,
    "start_time": "2024-09-19T15:27:39.311Z"
   },
   {
    "duration": 6,
    "start_time": "2024-09-19T15:27:51.520Z"
   },
   {
    "duration": 6,
    "start_time": "2024-09-19T15:29:42.771Z"
   },
   {
    "duration": 16,
    "start_time": "2024-09-19T15:31:47.933Z"
   },
   {
    "duration": 6,
    "start_time": "2024-09-19T15:32:46.585Z"
   },
   {
    "duration": 5,
    "start_time": "2024-09-19T15:33:05.134Z"
   },
   {
    "duration": 18,
    "start_time": "2024-09-19T15:33:16.565Z"
   },
   {
    "duration": 7,
    "start_time": "2024-09-19T15:33:28.242Z"
   },
   {
    "duration": 6,
    "start_time": "2024-09-19T15:35:09.727Z"
   },
   {
    "duration": 4,
    "start_time": "2024-09-19T15:37:54.019Z"
   },
   {
    "duration": 314,
    "start_time": "2024-09-19T15:38:08.093Z"
   },
   {
    "duration": 10,
    "start_time": "2024-09-19T15:41:14.213Z"
   },
   {
    "duration": 197,
    "start_time": "2024-09-19T15:42:10.488Z"
   },
   {
    "duration": 4,
    "start_time": "2024-09-19T15:42:40.048Z"
   },
   {
    "duration": 13,
    "start_time": "2024-09-19T15:43:52.431Z"
   },
   {
    "duration": 12,
    "start_time": "2024-09-19T15:44:00.900Z"
   },
   {
    "duration": 8,
    "start_time": "2024-09-19T15:44:08.089Z"
   },
   {
    "duration": 7,
    "start_time": "2024-09-19T15:44:14.012Z"
   },
   {
    "duration": 8,
    "start_time": "2024-09-19T15:44:19.413Z"
   },
   {
    "duration": 9,
    "start_time": "2024-09-19T15:44:33.436Z"
   },
   {
    "duration": 6,
    "start_time": "2024-09-19T15:45:29.895Z"
   },
   {
    "duration": 6,
    "start_time": "2024-09-19T15:46:33.850Z"
   },
   {
    "duration": 9,
    "start_time": "2024-09-19T15:46:44.769Z"
   },
   {
    "duration": 8,
    "start_time": "2024-09-19T15:52:40.436Z"
   },
   {
    "duration": 12,
    "start_time": "2024-09-19T15:53:19.903Z"
   },
   {
    "duration": 4,
    "start_time": "2024-09-19T16:07:03.393Z"
   },
   {
    "duration": 4,
    "start_time": "2024-09-19T16:07:29.406Z"
   },
   {
    "duration": 5,
    "start_time": "2024-09-19T16:07:49.197Z"
   },
   {
    "duration": 4,
    "start_time": "2024-09-19T16:08:47.324Z"
   },
   {
    "duration": 6,
    "start_time": "2024-09-19T16:09:33.079Z"
   },
   {
    "duration": 5,
    "start_time": "2024-09-19T16:11:58.208Z"
   },
   {
    "duration": 6,
    "start_time": "2024-09-19T16:12:22.133Z"
   },
   {
    "duration": 6,
    "start_time": "2024-09-19T16:12:53.959Z"
   },
   {
    "duration": 6,
    "start_time": "2024-09-19T16:14:45.818Z"
   },
   {
    "duration": 6,
    "start_time": "2024-09-19T16:16:52.058Z"
   },
   {
    "duration": 6,
    "start_time": "2024-09-19T16:17:35.551Z"
   },
   {
    "duration": 6,
    "start_time": "2024-09-19T16:25:06.204Z"
   },
   {
    "duration": 111,
    "start_time": "2024-09-19T16:29:12.200Z"
   },
   {
    "duration": 101,
    "start_time": "2024-09-19T16:29:44.086Z"
   },
   {
    "duration": 104,
    "start_time": "2024-09-19T16:37:03.015Z"
   },
   {
    "duration": 14,
    "start_time": "2024-09-19T16:39:50.184Z"
   },
   {
    "duration": 69,
    "start_time": "2024-09-19T16:40:04.090Z"
   },
   {
    "duration": 69,
    "start_time": "2024-09-19T16:41:32.037Z"
   },
   {
    "duration": 73,
    "start_time": "2024-09-19T16:43:54.106Z"
   },
   {
    "duration": 73,
    "start_time": "2024-09-19T16:44:34.180Z"
   },
   {
    "duration": 69,
    "start_time": "2024-09-19T16:44:54.627Z"
   },
   {
    "duration": 71,
    "start_time": "2024-09-19T16:45:23.756Z"
   },
   {
    "duration": 68,
    "start_time": "2024-09-19T16:48:17.028Z"
   },
   {
    "duration": 75,
    "start_time": "2024-09-19T16:52:55.255Z"
   },
   {
    "duration": 66,
    "start_time": "2024-09-19T16:53:16.991Z"
   },
   {
    "duration": 72,
    "start_time": "2024-09-19T16:53:19.670Z"
   },
   {
    "duration": 3,
    "start_time": "2024-09-19T16:53:39.580Z"
   },
   {
    "duration": 844,
    "start_time": "2024-09-19T16:53:40.305Z"
   },
   {
    "duration": 9,
    "start_time": "2024-09-19T16:53:43.272Z"
   },
   {
    "duration": 74,
    "start_time": "2024-09-19T16:53:52.526Z"
   },
   {
    "duration": 73,
    "start_time": "2024-09-19T16:55:01.549Z"
   },
   {
    "duration": 82,
    "start_time": "2024-09-19T16:56:51.019Z"
   },
   {
    "duration": 82,
    "start_time": "2024-09-19T16:57:08.295Z"
   },
   {
    "duration": 74,
    "start_time": "2024-09-19T16:57:28.282Z"
   },
   {
    "duration": 75,
    "start_time": "2024-09-19T16:58:00.323Z"
   },
   {
    "duration": 84,
    "start_time": "2024-09-19T17:00:22.137Z"
   },
   {
    "duration": 76,
    "start_time": "2024-09-19T17:00:44.708Z"
   },
   {
    "duration": 72,
    "start_time": "2024-09-19T17:01:01.949Z"
   },
   {
    "duration": 85,
    "start_time": "2024-09-19T17:01:26.672Z"
   },
   {
    "duration": 76,
    "start_time": "2024-09-19T17:01:42.884Z"
   },
   {
    "duration": 73,
    "start_time": "2024-09-19T17:02:01.070Z"
   },
   {
    "duration": 74,
    "start_time": "2024-09-19T17:02:07.671Z"
   },
   {
    "duration": 73,
    "start_time": "2024-09-19T17:05:12.641Z"
   },
   {
    "duration": 82,
    "start_time": "2024-09-19T17:05:48.445Z"
   },
   {
    "duration": 5,
    "start_time": "2024-09-19T17:08:15.028Z"
   },
   {
    "duration": 83,
    "start_time": "2024-09-19T17:08:30.345Z"
   },
   {
    "duration": 73,
    "start_time": "2024-09-19T17:08:43.351Z"
   },
   {
    "duration": 76,
    "start_time": "2024-09-19T17:09:26.085Z"
   },
   {
    "duration": 4,
    "start_time": "2024-09-19T17:09:56.715Z"
   },
   {
    "duration": 4,
    "start_time": "2024-09-19T17:10:08.488Z"
   },
   {
    "duration": 74,
    "start_time": "2024-09-19T17:10:14.257Z"
   },
   {
    "duration": 76,
    "start_time": "2024-09-19T17:10:50.839Z"
   },
   {
    "duration": 77,
    "start_time": "2024-09-19T17:11:07.644Z"
   },
   {
    "duration": 4,
    "start_time": "2024-09-19T17:12:13.338Z"
   },
   {
    "duration": 73,
    "start_time": "2024-09-19T17:12:23.564Z"
   },
   {
    "duration": 78,
    "start_time": "2024-09-19T17:12:48.199Z"
   },
   {
    "duration": 96,
    "start_time": "2024-09-19T17:13:36.493Z"
   },
   {
    "duration": 74,
    "start_time": "2024-09-19T17:14:16.059Z"
   },
   {
    "duration": 77,
    "start_time": "2024-09-19T17:14:43.631Z"
   },
   {
    "duration": 77,
    "start_time": "2024-09-19T17:14:52.804Z"
   },
   {
    "duration": 74,
    "start_time": "2024-09-19T17:16:07.404Z"
   },
   {
    "duration": 76,
    "start_time": "2024-09-19T17:17:58.712Z"
   },
   {
    "duration": 71,
    "start_time": "2024-09-19T17:18:37.626Z"
   },
   {
    "duration": 74,
    "start_time": "2024-09-19T17:19:54.168Z"
   },
   {
    "duration": 76,
    "start_time": "2024-09-19T17:34:49.101Z"
   },
   {
    "duration": 78,
    "start_time": "2024-09-19T17:36:43.662Z"
   },
   {
    "duration": 76,
    "start_time": "2024-09-19T17:36:57.210Z"
   },
   {
    "duration": 76,
    "start_time": "2024-09-19T17:39:40.003Z"
   },
   {
    "duration": 74,
    "start_time": "2024-09-19T17:40:10.864Z"
   },
   {
    "duration": 76,
    "start_time": "2024-09-19T17:40:19.864Z"
   },
   {
    "duration": 87,
    "start_time": "2024-09-19T17:41:01.949Z"
   },
   {
    "duration": 83,
    "start_time": "2024-09-19T18:16:26.177Z"
   },
   {
    "duration": 76,
    "start_time": "2024-09-19T18:17:05.130Z"
   },
   {
    "duration": 76,
    "start_time": "2024-09-19T18:20:15.798Z"
   },
   {
    "duration": 73,
    "start_time": "2024-09-19T18:21:26.436Z"
   },
   {
    "duration": 72,
    "start_time": "2024-09-19T19:47:28.398Z"
   },
   {
    "duration": 66,
    "start_time": "2024-09-19T19:48:18.367Z"
   },
   {
    "duration": 158,
    "start_time": "2024-09-19T21:32:11.252Z"
   },
   {
    "duration": 13,
    "start_time": "2024-09-19T21:32:20.096Z"
   },
   {
    "duration": 279,
    "start_time": "2024-09-19T21:32:28.885Z"
   },
   {
    "duration": 35,
    "start_time": "2024-09-19T21:32:34.808Z"
   },
   {
    "duration": 1070,
    "start_time": "2024-09-19T21:32:40.678Z"
   },
   {
    "duration": 10,
    "start_time": "2024-09-19T21:32:41.750Z"
   },
   {
    "duration": 9,
    "start_time": "2024-09-19T21:32:41.762Z"
   },
   {
    "duration": 8,
    "start_time": "2024-09-19T21:32:42.160Z"
   },
   {
    "duration": 8,
    "start_time": "2024-09-19T21:32:42.924Z"
   },
   {
    "duration": 7,
    "start_time": "2024-09-19T21:32:43.990Z"
   },
   {
    "duration": 14,
    "start_time": "2024-09-19T21:32:54.242Z"
   },
   {
    "duration": 20,
    "start_time": "2024-09-19T21:33:32.325Z"
   },
   {
    "duration": 9,
    "start_time": "2024-09-19T21:36:42.451Z"
   },
   {
    "duration": 1837,
    "start_time": "2024-09-19T23:37:53.645Z"
   },
   {
    "duration": 869,
    "start_time": "2024-09-19T23:37:56.021Z"
   },
   {
    "duration": 2,
    "start_time": "2024-09-19T23:49:20.331Z"
   },
   {
    "duration": 862,
    "start_time": "2024-09-19T23:49:21.298Z"
   },
   {
    "duration": 11,
    "start_time": "2024-09-19T23:49:22.162Z"
   },
   {
    "duration": 157,
    "start_time": "2024-09-19T23:52:15.431Z"
   },
   {
    "duration": 13,
    "start_time": "2024-09-19T23:52:26.678Z"
   },
   {
    "duration": 443,
    "start_time": "2024-09-19T23:52:30.771Z"
   },
   {
    "duration": 2,
    "start_time": "2024-09-19T23:52:40.477Z"
   },
   {
    "duration": 1056,
    "start_time": "2024-09-19T23:52:41.532Z"
   },
   {
    "duration": 12,
    "start_time": "2024-09-19T23:52:44.604Z"
   },
   {
    "duration": 198,
    "start_time": "2024-09-19T23:57:30.401Z"
   },
   {
    "duration": 471,
    "start_time": "2024-09-19T23:57:39.343Z"
   },
   {
    "duration": 1071,
    "start_time": "2024-09-19T23:57:41.286Z"
   },
   {
    "duration": 12,
    "start_time": "2024-09-19T23:57:42.359Z"
   },
   {
    "duration": 17,
    "start_time": "2024-09-19T23:57:42.600Z"
   },
   {
    "duration": 158,
    "start_time": "2024-09-20T02:33:40.627Z"
   },
   {
    "duration": 2112,
    "start_time": "2024-09-20T02:33:44.986Z"
   },
   {
    "duration": 1088,
    "start_time": "2024-09-20T02:33:47.281Z"
   },
   {
    "duration": 12,
    "start_time": "2024-09-20T02:33:53.293Z"
   },
   {
    "duration": 11,
    "start_time": "2024-09-20T02:34:04.043Z"
   },
   {
    "duration": 12,
    "start_time": "2024-09-20T02:34:09.529Z"
   },
   {
    "duration": 9,
    "start_time": "2024-09-20T02:34:38.646Z"
   },
   {
    "duration": 7,
    "start_time": "2024-09-20T02:34:43.240Z"
   },
   {
    "duration": 91,
    "start_time": "2024-09-20T02:35:22.340Z"
   },
   {
    "duration": 101,
    "start_time": "2024-09-20T02:35:34.615Z"
   },
   {
    "duration": 109,
    "start_time": "2024-09-20T02:35:50.057Z"
   },
   {
    "duration": 102,
    "start_time": "2024-09-20T02:35:57.230Z"
   },
   {
    "duration": 32,
    "start_time": "2024-09-20T02:36:09.413Z"
   },
   {
    "duration": 12,
    "start_time": "2024-09-20T02:36:24.629Z"
   },
   {
    "duration": 45,
    "start_time": "2024-09-20T02:36:31.343Z"
   },
   {
    "duration": 5,
    "start_time": "2024-09-20T02:36:43.046Z"
   },
   {
    "duration": 26,
    "start_time": "2024-09-20T02:36:56.537Z"
   },
   {
    "duration": 18,
    "start_time": "2024-09-20T02:37:03.326Z"
   },
   {
    "duration": 16,
    "start_time": "2024-09-20T02:37:42.901Z"
   },
   {
    "duration": 14,
    "start_time": "2024-09-20T02:37:51.248Z"
   },
   {
    "duration": 4,
    "start_time": "2024-09-20T02:38:36.036Z"
   },
   {
    "duration": 9,
    "start_time": "2024-09-20T02:39:07.408Z"
   },
   {
    "duration": 4,
    "start_time": "2024-09-20T02:39:18.105Z"
   },
   {
    "duration": 10,
    "start_time": "2024-09-20T02:39:33.238Z"
   },
   {
    "duration": 891,
    "start_time": "2024-09-20T02:39:46.199Z"
   },
   {
    "duration": 1663,
    "start_time": "2024-09-20T02:41:00.161Z"
   },
   {
    "duration": 1663,
    "start_time": "2024-09-20T02:42:21.115Z"
   },
   {
    "duration": 7,
    "start_time": "2024-09-20T02:42:35.345Z"
   },
   {
    "duration": 16,
    "start_time": "2024-09-20T02:42:53.101Z"
   },
   {
    "duration": 12,
    "start_time": "2024-09-20T02:43:35.859Z"
   },
   {
    "duration": 7,
    "start_time": "2024-09-20T02:43:43.672Z"
   },
   {
    "duration": 7,
    "start_time": "2024-09-20T02:43:51.529Z"
   },
   {
    "duration": 746,
    "start_time": "2024-09-20T02:44:24.139Z"
   },
   {
    "duration": 34,
    "start_time": "2024-09-20T02:44:40.375Z"
   },
   {
    "duration": 16,
    "start_time": "2024-09-20T02:44:49.505Z"
   },
   {
    "duration": 7,
    "start_time": "2024-09-20T02:45:05.374Z"
   },
   {
    "duration": 13,
    "start_time": "2024-09-20T02:45:13.922Z"
   },
   {
    "duration": 6,
    "start_time": "2024-09-20T02:45:37.804Z"
   },
   {
    "duration": 76,
    "start_time": "2024-09-20T02:45:49.676Z"
   },
   {
    "duration": 75,
    "start_time": "2024-09-20T02:46:19.918Z"
   },
   {
    "duration": 74,
    "start_time": "2024-09-20T02:46:30.887Z"
   },
   {
    "duration": 16,
    "start_time": "2024-09-20T02:49:23.330Z"
   },
   {
    "duration": 157,
    "start_time": "2024-09-20T02:57:56.946Z"
   },
   {
    "duration": 15,
    "start_time": "2024-09-20T02:58:00.635Z"
   },
   {
    "duration": 14,
    "start_time": "2024-09-20T02:58:12.616Z"
   },
   {
    "duration": 13,
    "start_time": "2024-09-20T02:58:15.317Z"
   },
   {
    "duration": 482,
    "start_time": "2024-09-20T02:58:19.589Z"
   },
   {
    "duration": 1025,
    "start_time": "2024-09-20T02:58:22.007Z"
   },
   {
    "duration": 11,
    "start_time": "2024-09-20T02:58:24.366Z"
   },
   {
    "duration": 163,
    "start_time": "2024-09-20T03:01:05.259Z"
   },
   {
    "duration": 15,
    "start_time": "2024-09-20T03:01:13.201Z"
   },
   {
    "duration": 12,
    "start_time": "2024-09-20T03:01:29.038Z"
   },
   {
    "duration": 12,
    "start_time": "2024-09-20T03:01:50.743Z"
   },
   {
    "duration": 14,
    "start_time": "2024-09-20T03:02:33.257Z"
   },
   {
    "duration": 14,
    "start_time": "2024-09-20T03:06:37.665Z"
   },
   {
    "duration": 484,
    "start_time": "2024-09-20T03:06:46.453Z"
   },
   {
    "duration": 1036,
    "start_time": "2024-09-20T03:06:48.232Z"
   },
   {
    "duration": 11,
    "start_time": "2024-09-20T03:06:49.270Z"
   },
   {
    "duration": 508,
    "start_time": "2024-09-20T03:11:55.230Z"
   },
   {
    "duration": 13,
    "start_time": "2024-09-20T03:12:23.848Z"
   },
   {
    "duration": 154,
    "start_time": "2024-09-20T03:12:39.388Z"
   },
   {
    "duration": 1042,
    "start_time": "2024-09-20T03:12:40.997Z"
   },
   {
    "duration": 11,
    "start_time": "2024-09-20T03:12:42.940Z"
   },
   {
    "duration": 15,
    "start_time": "2024-09-20T03:12:50.801Z"
   },
   {
    "duration": 251,
    "start_time": "2024-09-20T03:19:18.807Z"
   },
   {
    "duration": 235,
    "start_time": "2024-09-20T03:19:35.937Z"
   },
   {
    "duration": 6,
    "start_time": "2024-09-20T03:22:55.835Z"
   },
   {
    "duration": 229,
    "start_time": "2024-09-20T03:23:20.971Z"
   },
   {
    "duration": 156,
    "start_time": "2024-09-20T03:44:51.897Z"
   },
   {
    "duration": 41,
    "start_time": "2024-09-20T03:46:03.405Z"
   },
   {
    "duration": 40,
    "start_time": "2024-09-20T03:46:43.876Z"
   },
   {
    "duration": 36,
    "start_time": "2024-09-20T03:47:38.250Z"
   },
   {
    "duration": 38,
    "start_time": "2024-09-20T03:50:43.724Z"
   },
   {
    "duration": 40,
    "start_time": "2024-09-20T03:52:22.303Z"
   },
   {
    "duration": 37,
    "start_time": "2024-09-20T03:52:36.257Z"
   },
   {
    "duration": 37,
    "start_time": "2024-09-20T03:53:32.593Z"
   },
   {
    "duration": 38,
    "start_time": "2024-09-20T03:53:38.544Z"
   },
   {
    "duration": 5,
    "start_time": "2024-09-20T03:56:55.769Z"
   },
   {
    "duration": 246,
    "start_time": "2024-09-20T03:57:11.876Z"
   },
   {
    "duration": 292,
    "start_time": "2024-09-20T03:57:30.394Z"
   },
   {
    "duration": 41,
    "start_time": "2024-09-20T03:59:35.542Z"
   },
   {
    "duration": 37,
    "start_time": "2024-09-20T04:00:34.577Z"
   },
   {
    "duration": 6,
    "start_time": "2024-09-20T04:01:50.182Z"
   },
   {
    "duration": 300,
    "start_time": "2024-09-20T04:07:31.025Z"
   },
   {
    "duration": 81,
    "start_time": "2024-09-20T04:08:52.157Z"
   },
   {
    "duration": 47,
    "start_time": "2024-09-20T04:09:00.719Z"
   },
   {
    "duration": 3,
    "start_time": "2024-09-20T04:10:45.399Z"
   },
   {
    "duration": 5,
    "start_time": "2024-09-20T04:11:36.542Z"
   },
   {
    "duration": 4,
    "start_time": "2024-09-20T04:14:26.441Z"
   },
   {
    "duration": 161,
    "start_time": "2024-09-20T04:19:30.700Z"
   },
   {
    "duration": 425,
    "start_time": "2024-09-20T04:19:39.223Z"
   },
   {
    "duration": 1087,
    "start_time": "2024-09-20T04:19:39.836Z"
   },
   {
    "duration": 14,
    "start_time": "2024-09-20T04:19:40.925Z"
   },
   {
    "duration": 11,
    "start_time": "2024-09-20T04:19:49.816Z"
   },
   {
    "duration": 10,
    "start_time": "2024-09-20T04:19:50.554Z"
   },
   {
    "duration": 9,
    "start_time": "2024-09-20T04:19:51.384Z"
   },
   {
    "duration": 6,
    "start_time": "2024-09-20T04:19:53.404Z"
   },
   {
    "duration": 251,
    "start_time": "2024-09-20T04:20:00.905Z"
   },
   {
    "duration": 162,
    "start_time": "2024-09-20T04:22:16.012Z"
   },
   {
    "duration": 14,
    "start_time": "2024-09-20T04:22:34.146Z"
   },
   {
    "duration": 11,
    "start_time": "2024-09-20T04:22:43.043Z"
   },
   {
    "duration": 15,
    "start_time": "2024-09-20T04:22:52.269Z"
   },
   {
    "duration": 11,
    "start_time": "2024-09-20T04:23:02.580Z"
   },
   {
    "duration": 444,
    "start_time": "2024-09-20T04:23:06.093Z"
   },
   {
    "duration": 1027,
    "start_time": "2024-09-20T04:23:06.672Z"
   },
   {
    "duration": 12,
    "start_time": "2024-09-20T04:23:07.701Z"
   },
   {
    "duration": 42,
    "start_time": "2024-09-20T04:23:19.056Z"
   },
   {
    "duration": 155,
    "start_time": "2024-09-20T04:26:13.962Z"
   },
   {
    "duration": 486,
    "start_time": "2024-09-20T04:26:24.673Z"
   },
   {
    "duration": 1071,
    "start_time": "2024-09-20T04:26:25.161Z"
   },
   {
    "duration": 12,
    "start_time": "2024-09-20T04:26:26.234Z"
   },
   {
    "duration": 39,
    "start_time": "2024-09-20T04:26:34.489Z"
   },
   {
    "duration": 426,
    "start_time": "2024-09-20T04:29:23.586Z"
   },
   {
    "duration": 1119,
    "start_time": "2024-09-20T04:29:24.014Z"
   },
   {
    "duration": 11,
    "start_time": "2024-09-20T04:29:25.137Z"
   },
   {
    "duration": 10,
    "start_time": "2024-09-20T04:29:25.150Z"
   },
   {
    "duration": 7,
    "start_time": "2024-09-20T04:29:25.162Z"
   },
   {
    "duration": 7,
    "start_time": "2024-09-20T04:29:25.170Z"
   },
   {
    "duration": 6,
    "start_time": "2024-09-20T04:29:25.179Z"
   },
   {
    "duration": 138,
    "start_time": "2024-09-20T04:29:25.186Z"
   },
   {
    "duration": 106,
    "start_time": "2024-09-20T04:29:25.326Z"
   },
   {
    "duration": 112,
    "start_time": "2024-09-20T04:29:25.435Z"
   },
   {
    "duration": 102,
    "start_time": "2024-09-20T04:29:25.549Z"
   },
   {
    "duration": 34,
    "start_time": "2024-09-20T04:29:25.653Z"
   },
   {
    "duration": 12,
    "start_time": "2024-09-20T04:29:25.689Z"
   },
   {
    "duration": 4,
    "start_time": "2024-09-20T04:29:25.702Z"
   },
   {
    "duration": 37,
    "start_time": "2024-09-20T04:29:25.707Z"
   },
   {
    "duration": 12,
    "start_time": "2024-09-20T04:29:25.746Z"
   },
   {
    "duration": 3,
    "start_time": "2024-09-20T04:29:25.759Z"
   },
   {
    "duration": 8,
    "start_time": "2024-09-20T04:29:25.764Z"
   },
   {
    "duration": 4,
    "start_time": "2024-09-20T04:29:25.774Z"
   },
   {
    "duration": 8,
    "start_time": "2024-09-20T04:29:25.780Z"
   },
   {
    "duration": 905,
    "start_time": "2024-09-20T04:29:25.790Z"
   },
   {
    "duration": 1680,
    "start_time": "2024-09-20T04:29:26.699Z"
   },
   {
    "duration": 6,
    "start_time": "2024-09-20T04:29:28.381Z"
   },
   {
    "duration": 9,
    "start_time": "2024-09-20T04:29:28.389Z"
   },
   {
    "duration": 32,
    "start_time": "2024-09-20T04:29:28.400Z"
   },
   {
    "duration": 14,
    "start_time": "2024-09-20T04:29:28.434Z"
   },
   {
    "duration": 6,
    "start_time": "2024-09-20T04:29:28.449Z"
   },
   {
    "duration": 5,
    "start_time": "2024-09-20T04:29:28.459Z"
   },
   {
    "duration": 652,
    "start_time": "2024-09-20T04:29:28.465Z"
   },
   {
    "duration": 24,
    "start_time": "2024-09-20T04:29:29.119Z"
   },
   {
    "duration": 29,
    "start_time": "2024-09-20T04:29:29.144Z"
   },
   {
    "duration": 14,
    "start_time": "2024-09-20T04:29:29.175Z"
   },
   {
    "duration": 6,
    "start_time": "2024-09-20T04:29:29.191Z"
   },
   {
    "duration": 35,
    "start_time": "2024-09-20T04:29:29.199Z"
   },
   {
    "duration": 6,
    "start_time": "2024-09-20T04:29:29.237Z"
   },
   {
    "duration": 87,
    "start_time": "2024-09-20T04:29:29.244Z"
   },
   {
    "duration": 67,
    "start_time": "2024-09-20T04:29:29.333Z"
   },
   {
    "duration": 87,
    "start_time": "2024-09-20T04:29:29.402Z"
   },
   {
    "duration": 249,
    "start_time": "2024-09-20T04:29:29.491Z"
   },
   {
    "duration": 473,
    "start_time": "2024-09-20T04:31:19.551Z"
   },
   {
    "duration": 1136,
    "start_time": "2024-09-20T04:31:20.026Z"
   },
   {
    "duration": 19,
    "start_time": "2024-09-20T04:31:21.164Z"
   },
   {
    "duration": 9,
    "start_time": "2024-09-20T04:31:21.185Z"
   },
   {
    "duration": 8,
    "start_time": "2024-09-20T04:31:21.198Z"
   },
   {
    "duration": 27,
    "start_time": "2024-09-20T04:31:21.208Z"
   },
   {
    "duration": 7,
    "start_time": "2024-09-20T04:31:21.237Z"
   },
   {
    "duration": 120,
    "start_time": "2024-09-20T04:31:21.246Z"
   },
   {
    "duration": 115,
    "start_time": "2024-09-20T04:31:21.368Z"
   },
   {
    "duration": 115,
    "start_time": "2024-09-20T04:31:21.487Z"
   },
   {
    "duration": 102,
    "start_time": "2024-09-20T04:31:21.604Z"
   },
   {
    "duration": 36,
    "start_time": "2024-09-20T04:31:21.708Z"
   },
   {
    "duration": 12,
    "start_time": "2024-09-20T04:31:21.746Z"
   },
   {
    "duration": 4,
    "start_time": "2024-09-20T04:31:21.759Z"
   },
   {
    "duration": 17,
    "start_time": "2024-09-20T04:31:21.764Z"
   },
   {
    "duration": 12,
    "start_time": "2024-09-20T04:31:21.783Z"
   },
   {
    "duration": 4,
    "start_time": "2024-09-20T04:31:21.796Z"
   },
   {
    "duration": 8,
    "start_time": "2024-09-20T04:31:21.832Z"
   },
   {
    "duration": 4,
    "start_time": "2024-09-20T04:31:21.841Z"
   },
   {
    "duration": 9,
    "start_time": "2024-09-20T04:31:21.846Z"
   },
   {
    "duration": 928,
    "start_time": "2024-09-20T04:31:21.856Z"
   },
   {
    "duration": 1710,
    "start_time": "2024-09-20T04:31:22.785Z"
   },
   {
    "duration": 6,
    "start_time": "2024-09-20T04:31:24.497Z"
   },
   {
    "duration": 8,
    "start_time": "2024-09-20T04:31:24.505Z"
   },
   {
    "duration": 20,
    "start_time": "2024-09-20T04:31:24.515Z"
   },
   {
    "duration": 11,
    "start_time": "2024-09-20T04:31:24.536Z"
   },
   {
    "duration": 24,
    "start_time": "2024-09-20T04:31:24.550Z"
   },
   {
    "duration": 5,
    "start_time": "2024-09-20T04:31:24.579Z"
   },
   {
    "duration": 619,
    "start_time": "2024-09-20T04:31:24.585Z"
   },
   {
    "duration": 16,
    "start_time": "2024-09-20T04:31:25.205Z"
   },
   {
    "duration": 29,
    "start_time": "2024-09-20T04:31:25.232Z"
   },
   {
    "duration": 14,
    "start_time": "2024-09-20T04:31:25.263Z"
   },
   {
    "duration": 6,
    "start_time": "2024-09-20T04:31:25.279Z"
   },
   {
    "duration": 11,
    "start_time": "2024-09-20T04:31:25.287Z"
   },
   {
    "duration": 32,
    "start_time": "2024-09-20T04:31:25.300Z"
   },
   {
    "duration": 79,
    "start_time": "2024-09-20T04:31:25.333Z"
   },
   {
    "duration": 81,
    "start_time": "2024-09-20T04:31:25.415Z"
   },
   {
    "duration": 86,
    "start_time": "2024-09-20T04:31:25.497Z"
   },
   {
    "duration": 248,
    "start_time": "2024-09-20T04:31:25.585Z"
   },
   {
    "duration": 159,
    "start_time": "2024-09-20T04:33:04.173Z"
   },
   {
    "duration": 12,
    "start_time": "2024-09-20T04:33:19.621Z"
   },
   {
    "duration": 432,
    "start_time": "2024-09-20T04:33:30.508Z"
   },
   {
    "duration": 1098,
    "start_time": "2024-09-20T04:33:30.942Z"
   },
   {
    "duration": 11,
    "start_time": "2024-09-20T04:33:32.042Z"
   },
   {
    "duration": 9,
    "start_time": "2024-09-20T04:33:32.055Z"
   },
   {
    "duration": 8,
    "start_time": "2024-09-20T04:33:32.066Z"
   },
   {
    "duration": 7,
    "start_time": "2024-09-20T04:33:32.076Z"
   },
   {
    "duration": 6,
    "start_time": "2024-09-20T04:33:32.085Z"
   },
   {
    "duration": 138,
    "start_time": "2024-09-20T04:33:32.093Z"
   },
   {
    "duration": 107,
    "start_time": "2024-09-20T04:33:32.233Z"
   },
   {
    "duration": 116,
    "start_time": "2024-09-20T04:33:32.343Z"
   },
   {
    "duration": 102,
    "start_time": "2024-09-20T04:33:32.461Z"
   },
   {
    "duration": 32,
    "start_time": "2024-09-20T04:33:32.565Z"
   },
   {
    "duration": 13,
    "start_time": "2024-09-20T04:33:32.599Z"
   },
   {
    "duration": 18,
    "start_time": "2024-09-20T04:33:32.613Z"
   },
   {
    "duration": 18,
    "start_time": "2024-09-20T04:33:32.633Z"
   },
   {
    "duration": 11,
    "start_time": "2024-09-20T04:33:32.653Z"
   },
   {
    "duration": 4,
    "start_time": "2024-09-20T04:33:32.666Z"
   },
   {
    "duration": 10,
    "start_time": "2024-09-20T04:33:32.671Z"
   },
   {
    "duration": 4,
    "start_time": "2024-09-20T04:33:32.682Z"
   },
   {
    "duration": 46,
    "start_time": "2024-09-20T04:33:32.687Z"
   },
   {
    "duration": 882,
    "start_time": "2024-09-20T04:33:32.735Z"
   },
   {
    "duration": 1706,
    "start_time": "2024-09-20T04:33:33.619Z"
   },
   {
    "duration": 6,
    "start_time": "2024-09-20T04:33:35.331Z"
   },
   {
    "duration": 9,
    "start_time": "2024-09-20T04:33:35.339Z"
   },
   {
    "duration": 6,
    "start_time": "2024-09-20T04:33:35.350Z"
   },
   {
    "duration": 10,
    "start_time": "2024-09-20T04:33:35.358Z"
   },
   {
    "duration": 5,
    "start_time": "2024-09-20T04:33:35.369Z"
   },
   {
    "duration": 6,
    "start_time": "2024-09-20T04:33:35.379Z"
   },
   {
    "duration": 653,
    "start_time": "2024-09-20T04:33:35.386Z"
   },
   {
    "duration": 17,
    "start_time": "2024-09-20T04:33:36.041Z"
   },
   {
    "duration": 31,
    "start_time": "2024-09-20T04:33:36.059Z"
   },
   {
    "duration": 14,
    "start_time": "2024-09-20T04:33:36.091Z"
   },
   {
    "duration": 28,
    "start_time": "2024-09-20T04:33:36.107Z"
   },
   {
    "duration": 14,
    "start_time": "2024-09-20T04:33:36.137Z"
   },
   {
    "duration": 5,
    "start_time": "2024-09-20T04:33:36.152Z"
   },
   {
    "duration": 94,
    "start_time": "2024-09-20T04:33:36.159Z"
   },
   {
    "duration": 65,
    "start_time": "2024-09-20T04:33:36.255Z"
   },
   {
    "duration": 80,
    "start_time": "2024-09-20T04:33:36.322Z"
   },
   {
    "duration": 255,
    "start_time": "2024-09-20T04:33:36.404Z"
   },
   {
    "duration": 442,
    "start_time": "2024-09-20T04:35:25.501Z"
   },
   {
    "duration": 1081,
    "start_time": "2024-09-20T04:35:25.945Z"
   },
   {
    "duration": 12,
    "start_time": "2024-09-20T04:35:27.028Z"
   },
   {
    "duration": 9,
    "start_time": "2024-09-20T04:35:27.042Z"
   },
   {
    "duration": 7,
    "start_time": "2024-09-20T04:35:27.053Z"
   },
   {
    "duration": 8,
    "start_time": "2024-09-20T04:35:27.062Z"
   },
   {
    "duration": 7,
    "start_time": "2024-09-20T04:35:27.071Z"
   },
   {
    "duration": 129,
    "start_time": "2024-09-20T04:35:27.079Z"
   },
   {
    "duration": 105,
    "start_time": "2024-09-20T04:35:27.210Z"
   },
   {
    "duration": 116,
    "start_time": "2024-09-20T04:35:27.319Z"
   },
   {
    "duration": 109,
    "start_time": "2024-09-20T04:35:27.437Z"
   },
   {
    "duration": 35,
    "start_time": "2024-09-20T04:35:27.548Z"
   },
   {
    "duration": 11,
    "start_time": "2024-09-20T04:35:27.585Z"
   },
   {
    "duration": 3,
    "start_time": "2024-09-20T04:35:27.598Z"
   },
   {
    "duration": 37,
    "start_time": "2024-09-20T04:35:27.603Z"
   },
   {
    "duration": 15,
    "start_time": "2024-09-20T04:35:27.642Z"
   },
   {
    "duration": 4,
    "start_time": "2024-09-20T04:35:27.659Z"
   },
   {
    "duration": 9,
    "start_time": "2024-09-20T04:35:27.664Z"
   },
   {
    "duration": 7,
    "start_time": "2024-09-20T04:35:27.677Z"
   },
   {
    "duration": 9,
    "start_time": "2024-09-20T04:35:27.687Z"
   },
   {
    "duration": 943,
    "start_time": "2024-09-20T04:35:27.698Z"
   },
   {
    "duration": 1719,
    "start_time": "2024-09-20T04:35:28.642Z"
   },
   {
    "duration": 5,
    "start_time": "2024-09-20T04:35:30.363Z"
   },
   {
    "duration": 9,
    "start_time": "2024-09-20T04:35:30.370Z"
   },
   {
    "duration": 6,
    "start_time": "2024-09-20T04:35:30.380Z"
   },
   {
    "duration": 11,
    "start_time": "2024-09-20T04:35:30.387Z"
   },
   {
    "duration": 36,
    "start_time": "2024-09-20T04:35:30.399Z"
   },
   {
    "duration": 6,
    "start_time": "2024-09-20T04:35:30.440Z"
   },
   {
    "duration": 627,
    "start_time": "2024-09-20T04:35:30.447Z"
   },
   {
    "duration": 16,
    "start_time": "2024-09-20T04:35:31.076Z"
   },
   {
    "duration": 42,
    "start_time": "2024-09-20T04:35:31.093Z"
   },
   {
    "duration": 13,
    "start_time": "2024-09-20T04:35:31.136Z"
   },
   {
    "duration": 6,
    "start_time": "2024-09-20T04:35:31.151Z"
   },
   {
    "duration": 12,
    "start_time": "2024-09-20T04:35:31.158Z"
   },
   {
    "duration": 6,
    "start_time": "2024-09-20T04:35:31.171Z"
   },
   {
    "duration": 98,
    "start_time": "2024-09-20T04:35:31.179Z"
   },
   {
    "duration": 75,
    "start_time": "2024-09-20T04:35:31.279Z"
   },
   {
    "duration": 86,
    "start_time": "2024-09-20T04:35:31.356Z"
   },
   {
    "duration": 249,
    "start_time": "2024-09-20T04:35:31.444Z"
   },
   {
    "duration": 402,
    "start_time": "2024-09-20T04:36:49.708Z"
   },
   {
    "duration": 934,
    "start_time": "2024-09-20T04:36:50.112Z"
   },
   {
    "duration": 12,
    "start_time": "2024-09-20T04:36:51.048Z"
   },
   {
    "duration": 10,
    "start_time": "2024-09-20T04:36:51.062Z"
   },
   {
    "duration": 7,
    "start_time": "2024-09-20T04:36:51.073Z"
   },
   {
    "duration": 7,
    "start_time": "2024-09-20T04:36:51.082Z"
   },
   {
    "duration": 6,
    "start_time": "2024-09-20T04:36:51.091Z"
   },
   {
    "duration": 126,
    "start_time": "2024-09-20T04:36:51.098Z"
   },
   {
    "duration": 113,
    "start_time": "2024-09-20T04:36:51.225Z"
   },
   {
    "duration": 119,
    "start_time": "2024-09-20T04:36:51.342Z"
   },
   {
    "duration": 110,
    "start_time": "2024-09-20T04:36:51.463Z"
   },
   {
    "duration": 39,
    "start_time": "2024-09-20T04:36:51.574Z"
   },
   {
    "duration": 21,
    "start_time": "2024-09-20T04:36:51.615Z"
   },
   {
    "duration": 3,
    "start_time": "2024-09-20T04:36:51.638Z"
   },
   {
    "duration": 16,
    "start_time": "2024-09-20T04:36:51.643Z"
   },
   {
    "duration": 12,
    "start_time": "2024-09-20T04:36:51.661Z"
   },
   {
    "duration": 4,
    "start_time": "2024-09-20T04:36:51.674Z"
   },
   {
    "duration": 9,
    "start_time": "2024-09-20T04:36:51.679Z"
   },
   {
    "duration": 2,
    "start_time": "2024-09-20T04:36:51.690Z"
   },
   {
    "duration": 44,
    "start_time": "2024-09-20T04:36:51.694Z"
   },
   {
    "duration": 888,
    "start_time": "2024-09-20T04:36:51.740Z"
   },
   {
    "duration": 1674,
    "start_time": "2024-09-20T04:36:52.631Z"
   },
   {
    "duration": 6,
    "start_time": "2024-09-20T04:36:54.307Z"
   },
   {
    "duration": 9,
    "start_time": "2024-09-20T04:36:54.331Z"
   },
   {
    "duration": 6,
    "start_time": "2024-09-20T04:36:54.342Z"
   },
   {
    "duration": 10,
    "start_time": "2024-09-20T04:36:54.349Z"
   },
   {
    "duration": 5,
    "start_time": "2024-09-20T04:36:54.361Z"
   },
   {
    "duration": 5,
    "start_time": "2024-09-20T04:36:54.372Z"
   },
   {
    "duration": 635,
    "start_time": "2024-09-20T04:36:54.379Z"
   },
   {
    "duration": 19,
    "start_time": "2024-09-20T04:36:55.016Z"
   },
   {
    "duration": 29,
    "start_time": "2024-09-20T04:36:55.037Z"
   },
   {
    "duration": 14,
    "start_time": "2024-09-20T04:36:55.067Z"
   },
   {
    "duration": 6,
    "start_time": "2024-09-20T04:36:55.083Z"
   },
   {
    "duration": 42,
    "start_time": "2024-09-20T04:36:55.091Z"
   },
   {
    "duration": 5,
    "start_time": "2024-09-20T04:36:55.135Z"
   },
   {
    "duration": 72,
    "start_time": "2024-09-20T04:36:55.142Z"
   },
   {
    "duration": 79,
    "start_time": "2024-09-20T04:36:55.216Z"
   },
   {
    "duration": 86,
    "start_time": "2024-09-20T04:36:55.297Z"
   },
   {
    "duration": 263,
    "start_time": "2024-09-20T04:36:55.385Z"
   },
   {
    "duration": 427,
    "start_time": "2024-09-20T04:38:40.907Z"
   },
   {
    "duration": 1094,
    "start_time": "2024-09-20T04:38:41.337Z"
   },
   {
    "duration": 11,
    "start_time": "2024-09-20T04:38:42.433Z"
   },
   {
    "duration": 9,
    "start_time": "2024-09-20T04:38:42.446Z"
   },
   {
    "duration": 8,
    "start_time": "2024-09-20T04:38:42.458Z"
   },
   {
    "duration": 7,
    "start_time": "2024-09-20T04:38:42.468Z"
   },
   {
    "duration": 6,
    "start_time": "2024-09-20T04:38:42.477Z"
   },
   {
    "duration": 147,
    "start_time": "2024-09-20T04:38:42.485Z"
   },
   {
    "duration": 106,
    "start_time": "2024-09-20T04:38:42.634Z"
   },
   {
    "duration": 117,
    "start_time": "2024-09-20T04:38:42.741Z"
   },
   {
    "duration": 111,
    "start_time": "2024-09-20T04:38:42.859Z"
   },
   {
    "duration": 37,
    "start_time": "2024-09-20T04:38:42.971Z"
   },
   {
    "duration": 29,
    "start_time": "2024-09-20T04:38:43.011Z"
   },
   {
    "duration": 3,
    "start_time": "2024-09-20T04:38:43.043Z"
   },
   {
    "duration": 18,
    "start_time": "2024-09-20T04:38:43.048Z"
   },
   {
    "duration": 14,
    "start_time": "2024-09-20T04:38:43.067Z"
   },
   {
    "duration": 4,
    "start_time": "2024-09-20T04:38:43.082Z"
   },
   {
    "duration": 8,
    "start_time": "2024-09-20T04:38:43.088Z"
   },
   {
    "duration": 36,
    "start_time": "2024-09-20T04:38:43.097Z"
   },
   {
    "duration": 8,
    "start_time": "2024-09-20T04:38:43.135Z"
   },
   {
    "duration": 928,
    "start_time": "2024-09-20T04:38:43.145Z"
   },
   {
    "duration": 1690,
    "start_time": "2024-09-20T04:38:44.075Z"
   },
   {
    "duration": 6,
    "start_time": "2024-09-20T04:38:45.767Z"
   },
   {
    "duration": 9,
    "start_time": "2024-09-20T04:38:45.775Z"
   },
   {
    "duration": 7,
    "start_time": "2024-09-20T04:38:45.786Z"
   },
   {
    "duration": 11,
    "start_time": "2024-09-20T04:38:45.794Z"
   },
   {
    "duration": 5,
    "start_time": "2024-09-20T04:38:45.832Z"
   },
   {
    "duration": 6,
    "start_time": "2024-09-20T04:38:45.838Z"
   },
   {
    "duration": 638,
    "start_time": "2024-09-20T04:38:45.845Z"
   },
   {
    "duration": 16,
    "start_time": "2024-09-20T04:38:46.484Z"
   },
   {
    "duration": 46,
    "start_time": "2024-09-20T04:38:46.502Z"
   },
   {
    "duration": 15,
    "start_time": "2024-09-20T04:38:46.551Z"
   },
   {
    "duration": 6,
    "start_time": "2024-09-20T04:38:46.568Z"
   },
   {
    "duration": 13,
    "start_time": "2024-09-20T04:38:46.576Z"
   },
   {
    "duration": 6,
    "start_time": "2024-09-20T04:38:46.591Z"
   },
   {
    "duration": 69,
    "start_time": "2024-09-20T04:38:46.631Z"
   },
   {
    "duration": 74,
    "start_time": "2024-09-20T04:38:46.702Z"
   },
   {
    "duration": 82,
    "start_time": "2024-09-20T04:38:46.778Z"
   },
   {
    "duration": 254,
    "start_time": "2024-09-20T04:38:46.862Z"
   },
   {
    "duration": 457,
    "start_time": "2024-09-20T04:41:00.844Z"
   },
   {
    "duration": 1101,
    "start_time": "2024-09-20T04:41:01.303Z"
   },
   {
    "duration": 12,
    "start_time": "2024-09-20T04:41:02.405Z"
   },
   {
    "duration": 20,
    "start_time": "2024-09-20T04:41:02.419Z"
   },
   {
    "duration": 8,
    "start_time": "2024-09-20T04:41:02.440Z"
   },
   {
    "duration": 8,
    "start_time": "2024-09-20T04:41:02.449Z"
   },
   {
    "duration": 6,
    "start_time": "2024-09-20T04:41:02.459Z"
   },
   {
    "duration": 128,
    "start_time": "2024-09-20T04:41:02.467Z"
   },
   {
    "duration": 110,
    "start_time": "2024-09-20T04:41:02.597Z"
   },
   {
    "duration": 116,
    "start_time": "2024-09-20T04:41:02.710Z"
   },
   {
    "duration": 106,
    "start_time": "2024-09-20T04:41:02.828Z"
   },
   {
    "duration": 34,
    "start_time": "2024-09-20T04:41:02.936Z"
   },
   {
    "duration": 13,
    "start_time": "2024-09-20T04:41:02.971Z"
   },
   {
    "duration": 4,
    "start_time": "2024-09-20T04:41:02.986Z"
   },
   {
    "duration": 42,
    "start_time": "2024-09-20T04:41:02.991Z"
   },
   {
    "duration": 13,
    "start_time": "2024-09-20T04:41:03.035Z"
   },
   {
    "duration": 4,
    "start_time": "2024-09-20T04:41:03.050Z"
   },
   {
    "duration": 9,
    "start_time": "2024-09-20T04:41:03.055Z"
   },
   {
    "duration": 3,
    "start_time": "2024-09-20T04:41:03.066Z"
   },
   {
    "duration": 9,
    "start_time": "2024-09-20T04:41:03.071Z"
   },
   {
    "duration": 911,
    "start_time": "2024-09-20T04:41:03.082Z"
   },
   {
    "duration": 1761,
    "start_time": "2024-09-20T04:41:03.995Z"
   },
   {
    "duration": 6,
    "start_time": "2024-09-20T04:41:05.757Z"
   },
   {
    "duration": 8,
    "start_time": "2024-09-20T04:41:05.765Z"
   },
   {
    "duration": 7,
    "start_time": "2024-09-20T04:41:05.775Z"
   },
   {
    "duration": 11,
    "start_time": "2024-09-20T04:41:05.784Z"
   },
   {
    "duration": 35,
    "start_time": "2024-09-20T04:41:05.797Z"
   },
   {
    "duration": 6,
    "start_time": "2024-09-20T04:41:05.836Z"
   },
   {
    "duration": 616,
    "start_time": "2024-09-20T04:41:05.844Z"
   },
   {
    "duration": 15,
    "start_time": "2024-09-20T04:41:06.462Z"
   },
   {
    "duration": 29,
    "start_time": "2024-09-20T04:41:06.478Z"
   },
   {
    "duration": 33,
    "start_time": "2024-09-20T04:41:06.509Z"
   },
   {
    "duration": 5,
    "start_time": "2024-09-20T04:41:06.544Z"
   },
   {
    "duration": 12,
    "start_time": "2024-09-20T04:41:06.551Z"
   },
   {
    "duration": 6,
    "start_time": "2024-09-20T04:41:06.565Z"
   },
   {
    "duration": 102,
    "start_time": "2024-09-20T04:41:06.572Z"
   },
   {
    "duration": 75,
    "start_time": "2024-09-20T04:41:06.676Z"
   },
   {
    "duration": 79,
    "start_time": "2024-09-20T04:41:06.752Z"
   },
   {
    "duration": 243,
    "start_time": "2024-09-20T04:41:06.833Z"
   },
   {
    "duration": 161,
    "start_time": "2024-09-20T04:45:18.872Z"
   },
   {
    "duration": 412,
    "start_time": "2024-09-20T04:45:29.308Z"
   },
   {
    "duration": 1120,
    "start_time": "2024-09-20T04:45:29.722Z"
   },
   {
    "duration": 11,
    "start_time": "2024-09-20T04:45:30.843Z"
   },
   {
    "duration": 9,
    "start_time": "2024-09-20T04:45:30.857Z"
   },
   {
    "duration": 7,
    "start_time": "2024-09-20T04:45:30.867Z"
   },
   {
    "duration": 8,
    "start_time": "2024-09-20T04:45:30.876Z"
   },
   {
    "duration": 7,
    "start_time": "2024-09-20T04:45:30.885Z"
   },
   {
    "duration": 131,
    "start_time": "2024-09-20T04:45:30.893Z"
   },
   {
    "duration": 113,
    "start_time": "2024-09-20T04:45:31.026Z"
   },
   {
    "duration": 120,
    "start_time": "2024-09-20T04:45:31.143Z"
   },
   {
    "duration": 109,
    "start_time": "2024-09-20T04:45:31.265Z"
   },
   {
    "duration": 34,
    "start_time": "2024-09-20T04:45:31.377Z"
   },
   {
    "duration": 28,
    "start_time": "2024-09-20T04:45:31.412Z"
   },
   {
    "duration": 5,
    "start_time": "2024-09-20T04:45:31.442Z"
   },
   {
    "duration": 21,
    "start_time": "2024-09-20T04:45:31.449Z"
   },
   {
    "duration": 12,
    "start_time": "2024-09-20T04:45:31.472Z"
   },
   {
    "duration": 5,
    "start_time": "2024-09-20T04:45:31.486Z"
   },
   {
    "duration": 39,
    "start_time": "2024-09-20T04:45:31.493Z"
   },
   {
    "duration": 3,
    "start_time": "2024-09-20T04:45:31.533Z"
   },
   {
    "duration": 8,
    "start_time": "2024-09-20T04:45:31.538Z"
   },
   {
    "duration": 893,
    "start_time": "2024-09-20T04:45:31.548Z"
   },
   {
    "duration": 1705,
    "start_time": "2024-09-20T04:45:32.442Z"
   },
   {
    "duration": 6,
    "start_time": "2024-09-20T04:45:34.149Z"
   },
   {
    "duration": 8,
    "start_time": "2024-09-20T04:45:34.157Z"
   },
   {
    "duration": 6,
    "start_time": "2024-09-20T04:45:34.167Z"
   },
   {
    "duration": 12,
    "start_time": "2024-09-20T04:45:34.174Z"
   },
   {
    "duration": 6,
    "start_time": "2024-09-20T04:45:34.188Z"
   },
   {
    "duration": 5,
    "start_time": "2024-09-20T04:45:34.232Z"
   },
   {
    "duration": 623,
    "start_time": "2024-09-20T04:45:34.239Z"
   },
   {
    "duration": 15,
    "start_time": "2024-09-20T04:45:34.864Z"
   },
   {
    "duration": 29,
    "start_time": "2024-09-20T04:45:34.880Z"
   },
   {
    "duration": 30,
    "start_time": "2024-09-20T04:45:34.911Z"
   },
   {
    "duration": 5,
    "start_time": "2024-09-20T04:45:34.943Z"
   },
   {
    "duration": 20,
    "start_time": "2024-09-20T04:45:34.950Z"
   },
   {
    "duration": 5,
    "start_time": "2024-09-20T04:45:34.972Z"
   },
   {
    "duration": 92,
    "start_time": "2024-09-20T04:45:34.979Z"
   },
   {
    "duration": 74,
    "start_time": "2024-09-20T04:45:35.074Z"
   },
   {
    "duration": 86,
    "start_time": "2024-09-20T04:45:35.150Z"
   },
   {
    "duration": 158,
    "start_time": "2024-09-20T04:48:13.394Z"
   },
   {
    "duration": 15,
    "start_time": "2024-09-20T04:49:00.108Z"
   },
   {
    "duration": 409,
    "start_time": "2024-09-20T04:49:12.122Z"
   },
   {
    "duration": 1154,
    "start_time": "2024-09-20T04:49:12.534Z"
   },
   {
    "duration": 12,
    "start_time": "2024-09-20T04:49:13.690Z"
   },
   {
    "duration": 10,
    "start_time": "2024-09-20T04:49:13.704Z"
   },
   {
    "duration": 20,
    "start_time": "2024-09-20T04:49:13.716Z"
   },
   {
    "duration": 9,
    "start_time": "2024-09-20T04:49:13.738Z"
   },
   {
    "duration": 8,
    "start_time": "2024-09-20T04:49:13.749Z"
   },
   {
    "duration": 152,
    "start_time": "2024-09-20T04:49:13.759Z"
   },
   {
    "duration": 119,
    "start_time": "2024-09-20T04:49:13.914Z"
   },
   {
    "duration": 148,
    "start_time": "2024-09-20T04:49:14.036Z"
   },
   {
    "duration": 113,
    "start_time": "2024-09-20T04:49:14.186Z"
   },
   {
    "duration": 37,
    "start_time": "2024-09-20T04:49:14.301Z"
   },
   {
    "duration": 14,
    "start_time": "2024-09-20T04:49:14.339Z"
   },
   {
    "duration": 8,
    "start_time": "2024-09-20T04:49:14.359Z"
   },
   {
    "duration": 28,
    "start_time": "2024-09-20T04:49:14.369Z"
   },
   {
    "duration": 12,
    "start_time": "2024-09-20T04:49:14.399Z"
   },
   {
    "duration": 22,
    "start_time": "2024-09-20T04:49:14.413Z"
   },
   {
    "duration": 14,
    "start_time": "2024-09-20T04:49:14.439Z"
   },
   {
    "duration": 5,
    "start_time": "2024-09-20T04:49:14.458Z"
   },
   {
    "duration": 8,
    "start_time": "2024-09-20T04:49:14.465Z"
   },
   {
    "duration": 989,
    "start_time": "2024-09-20T04:49:14.475Z"
   },
   {
    "duration": 2481,
    "start_time": "2024-09-20T04:49:15.466Z"
   },
   {
    "duration": 8,
    "start_time": "2024-09-20T04:49:17.950Z"
   },
   {
    "duration": 22,
    "start_time": "2024-09-20T04:49:17.960Z"
   },
   {
    "duration": 8,
    "start_time": "2024-09-20T04:49:17.985Z"
   },
   {
    "duration": 15,
    "start_time": "2024-09-20T04:49:17.995Z"
   },
   {
    "duration": 27,
    "start_time": "2024-09-20T04:49:18.012Z"
   },
   {
    "duration": 10,
    "start_time": "2024-09-20T04:49:18.044Z"
   },
   {
    "duration": 965,
    "start_time": "2024-09-20T04:49:18.056Z"
   },
   {
    "duration": 27,
    "start_time": "2024-09-20T04:49:19.022Z"
   },
   {
    "duration": 46,
    "start_time": "2024-09-20T04:49:19.052Z"
   },
   {
    "duration": 35,
    "start_time": "2024-09-20T04:49:19.101Z"
   },
   {
    "duration": 7,
    "start_time": "2024-09-20T04:49:19.138Z"
   },
   {
    "duration": 13,
    "start_time": "2024-09-20T04:49:19.147Z"
   },
   {
    "duration": 6,
    "start_time": "2024-09-20T04:49:19.162Z"
   },
   {
    "duration": 100,
    "start_time": "2024-09-20T04:49:19.171Z"
   },
   {
    "duration": 77,
    "start_time": "2024-09-20T04:49:19.273Z"
   },
   {
    "duration": 88,
    "start_time": "2024-09-20T04:49:19.352Z"
   },
   {
    "duration": 164,
    "start_time": "2024-09-20T04:52:01.085Z"
   },
   {
    "duration": 14,
    "start_time": "2024-09-20T04:52:10.361Z"
   },
   {
    "duration": 429,
    "start_time": "2024-09-20T04:52:17.702Z"
   },
   {
    "duration": 1083,
    "start_time": "2024-09-20T04:52:18.133Z"
   },
   {
    "duration": 21,
    "start_time": "2024-09-20T04:52:19.218Z"
   },
   {
    "duration": 9,
    "start_time": "2024-09-20T04:52:19.241Z"
   },
   {
    "duration": 8,
    "start_time": "2024-09-20T04:52:19.252Z"
   },
   {
    "duration": 8,
    "start_time": "2024-09-20T04:52:19.262Z"
   },
   {
    "duration": 6,
    "start_time": "2024-09-20T04:52:19.271Z"
   },
   {
    "duration": 126,
    "start_time": "2024-09-20T04:52:19.279Z"
   },
   {
    "duration": 104,
    "start_time": "2024-09-20T04:52:19.407Z"
   },
   {
    "duration": 117,
    "start_time": "2024-09-20T04:52:19.514Z"
   },
   {
    "duration": 103,
    "start_time": "2024-09-20T04:52:19.633Z"
   },
   {
    "duration": 48,
    "start_time": "2024-09-20T04:52:19.738Z"
   },
   {
    "duration": 17,
    "start_time": "2024-09-20T04:52:19.789Z"
   },
   {
    "duration": 4,
    "start_time": "2024-09-20T04:52:19.808Z"
   },
   {
    "duration": 33,
    "start_time": "2024-09-20T04:52:19.814Z"
   },
   {
    "duration": 16,
    "start_time": "2024-09-20T04:52:19.849Z"
   },
   {
    "duration": 5,
    "start_time": "2024-09-20T04:52:19.867Z"
   },
   {
    "duration": 12,
    "start_time": "2024-09-20T04:52:19.874Z"
   },
   {
    "duration": 4,
    "start_time": "2024-09-20T04:52:19.888Z"
   },
   {
    "duration": 42,
    "start_time": "2024-09-20T04:52:19.894Z"
   },
   {
    "duration": 878,
    "start_time": "2024-09-20T04:52:19.938Z"
   },
   {
    "duration": 1730,
    "start_time": "2024-09-20T04:52:20.819Z"
   },
   {
    "duration": 7,
    "start_time": "2024-09-20T04:52:22.551Z"
   },
   {
    "duration": 10,
    "start_time": "2024-09-20T04:52:22.559Z"
   },
   {
    "duration": 6,
    "start_time": "2024-09-20T04:52:22.570Z"
   },
   {
    "duration": 10,
    "start_time": "2024-09-20T04:52:22.578Z"
   },
   {
    "duration": 5,
    "start_time": "2024-09-20T04:52:22.590Z"
   },
   {
    "duration": 6,
    "start_time": "2024-09-20T04:52:22.632Z"
   },
   {
    "duration": 613,
    "start_time": "2024-09-20T04:52:22.639Z"
   },
   {
    "duration": 15,
    "start_time": "2024-09-20T04:52:23.254Z"
   },
   {
    "duration": 29,
    "start_time": "2024-09-20T04:52:23.271Z"
   },
   {
    "duration": 33,
    "start_time": "2024-09-20T04:52:23.302Z"
   },
   {
    "duration": 7,
    "start_time": "2024-09-20T04:52:23.337Z"
   },
   {
    "duration": 11,
    "start_time": "2024-09-20T04:52:23.346Z"
   },
   {
    "duration": 5,
    "start_time": "2024-09-20T04:52:23.358Z"
   },
   {
    "duration": 93,
    "start_time": "2024-09-20T04:52:23.365Z"
   },
   {
    "duration": 72,
    "start_time": "2024-09-20T04:52:23.459Z"
   },
   {
    "duration": 72,
    "start_time": "2024-09-20T04:52:23.533Z"
   },
   {
    "duration": 167,
    "start_time": "2024-09-20T04:54:37.780Z"
   },
   {
    "duration": 435,
    "start_time": "2024-09-20T04:54:47.113Z"
   },
   {
    "duration": 1122,
    "start_time": "2024-09-20T04:54:47.550Z"
   },
   {
    "duration": 11,
    "start_time": "2024-09-20T04:54:48.674Z"
   },
   {
    "duration": 8,
    "start_time": "2024-09-20T04:54:48.687Z"
   },
   {
    "duration": 7,
    "start_time": "2024-09-20T04:54:48.697Z"
   },
   {
    "duration": 31,
    "start_time": "2024-09-20T04:54:48.706Z"
   },
   {
    "duration": 6,
    "start_time": "2024-09-20T04:54:48.738Z"
   },
   {
    "duration": 113,
    "start_time": "2024-09-20T04:54:48.746Z"
   },
   {
    "duration": 116,
    "start_time": "2024-09-20T04:54:48.861Z"
   },
   {
    "duration": 117,
    "start_time": "2024-09-20T04:54:48.980Z"
   },
   {
    "duration": 103,
    "start_time": "2024-09-20T04:54:49.099Z"
   },
   {
    "duration": 41,
    "start_time": "2024-09-20T04:54:49.204Z"
   },
   {
    "duration": 12,
    "start_time": "2024-09-20T04:54:49.247Z"
   },
   {
    "duration": 3,
    "start_time": "2024-09-20T04:54:49.260Z"
   },
   {
    "duration": 17,
    "start_time": "2024-09-20T04:54:49.265Z"
   },
   {
    "duration": 12,
    "start_time": "2024-09-20T04:54:49.284Z"
   },
   {
    "duration": 3,
    "start_time": "2024-09-20T04:54:49.297Z"
   },
   {
    "duration": 9,
    "start_time": "2024-09-20T04:54:49.332Z"
   },
   {
    "duration": 3,
    "start_time": "2024-09-20T04:54:49.343Z"
   },
   {
    "duration": 8,
    "start_time": "2024-09-20T04:54:49.348Z"
   },
   {
    "duration": 908,
    "start_time": "2024-09-20T04:54:49.357Z"
   },
   {
    "duration": 1701,
    "start_time": "2024-09-20T04:54:50.267Z"
   },
   {
    "duration": 5,
    "start_time": "2024-09-20T04:54:51.970Z"
   },
   {
    "duration": 10,
    "start_time": "2024-09-20T04:54:51.977Z"
   },
   {
    "duration": 6,
    "start_time": "2024-09-20T04:54:51.988Z"
   },
   {
    "duration": 11,
    "start_time": "2024-09-20T04:54:51.995Z"
   },
   {
    "duration": 6,
    "start_time": "2024-09-20T04:54:52.030Z"
   },
   {
    "duration": 5,
    "start_time": "2024-09-20T04:54:52.041Z"
   },
   {
    "duration": 642,
    "start_time": "2024-09-20T04:54:52.047Z"
   },
   {
    "duration": 16,
    "start_time": "2024-09-20T04:54:52.691Z"
   },
   {
    "duration": 42,
    "start_time": "2024-09-20T04:54:52.709Z"
   },
   {
    "duration": 14,
    "start_time": "2024-09-20T04:54:52.753Z"
   },
   {
    "duration": 5,
    "start_time": "2024-09-20T04:54:52.769Z"
   },
   {
    "duration": 13,
    "start_time": "2024-09-20T04:54:52.776Z"
   },
   {
    "duration": 6,
    "start_time": "2024-09-20T04:54:52.790Z"
   },
   {
    "duration": 103,
    "start_time": "2024-09-20T04:54:52.797Z"
   },
   {
    "duration": 80,
    "start_time": "2024-09-20T04:54:52.902Z"
   },
   {
    "duration": 81,
    "start_time": "2024-09-20T04:54:52.984Z"
   },
   {
    "duration": 160,
    "start_time": "2024-09-20T04:54:53.915Z"
   },
   {
    "duration": 156,
    "start_time": "2024-09-20T04:55:44.290Z"
   },
   {
    "duration": 172,
    "start_time": "2024-09-20T04:55:47.793Z"
   },
   {
    "duration": 160,
    "start_time": "2024-09-20T04:56:01.035Z"
   },
   {
    "duration": 214,
    "start_time": "2024-09-20T04:56:33.269Z"
   },
   {
    "duration": 37,
    "start_time": "2024-09-20T04:56:51.324Z"
   },
   {
    "duration": 15,
    "start_time": "2024-09-20T04:57:31.775Z"
   },
   {
    "duration": 223,
    "start_time": "2024-09-20T04:58:09.119Z"
   },
   {
    "duration": 157,
    "start_time": "2024-09-20T04:58:19.267Z"
   },
   {
    "duration": 6781,
    "start_time": "2024-09-20T04:59:07.606Z"
   },
   {
    "duration": 51,
    "start_time": "2024-09-20T04:59:56.320Z"
   },
   {
    "duration": 6789,
    "start_time": "2024-09-20T05:00:21.072Z"
   },
   {
    "duration": 52,
    "start_time": "2024-09-20T05:00:46.753Z"
   },
   {
    "duration": 9,
    "start_time": "2024-09-20T05:11:27.824Z"
   },
   {
    "duration": 4,
    "start_time": "2024-09-20T05:11:46.010Z"
   },
   {
    "duration": 160,
    "start_time": "2024-09-20T05:11:53.103Z"
   },
   {
    "duration": 15,
    "start_time": "2024-09-20T05:12:01.602Z"
   },
   {
    "duration": 414,
    "start_time": "2024-09-20T05:12:10.995Z"
   },
   {
    "duration": 1073,
    "start_time": "2024-09-20T05:12:11.411Z"
   },
   {
    "duration": 12,
    "start_time": "2024-09-20T05:12:12.486Z"
   },
   {
    "duration": 10,
    "start_time": "2024-09-20T05:12:12.499Z"
   },
   {
    "duration": 25,
    "start_time": "2024-09-20T05:12:12.511Z"
   },
   {
    "duration": 8,
    "start_time": "2024-09-20T05:12:12.537Z"
   },
   {
    "duration": 6,
    "start_time": "2024-09-20T05:12:12.546Z"
   },
   {
    "duration": 120,
    "start_time": "2024-09-20T05:12:12.555Z"
   },
   {
    "duration": 110,
    "start_time": "2024-09-20T05:12:12.677Z"
   },
   {
    "duration": 113,
    "start_time": "2024-09-20T05:12:12.789Z"
   },
   {
    "duration": 102,
    "start_time": "2024-09-20T05:12:12.904Z"
   },
   {
    "duration": 42,
    "start_time": "2024-09-20T05:12:13.008Z"
   },
   {
    "duration": 12,
    "start_time": "2024-09-20T05:12:13.052Z"
   },
   {
    "duration": 3,
    "start_time": "2024-09-20T05:12:13.067Z"
   },
   {
    "duration": 18,
    "start_time": "2024-09-20T05:12:13.072Z"
   },
   {
    "duration": 12,
    "start_time": "2024-09-20T05:12:13.091Z"
   },
   {
    "duration": 4,
    "start_time": "2024-09-20T05:12:13.132Z"
   },
   {
    "duration": 9,
    "start_time": "2024-09-20T05:12:13.138Z"
   },
   {
    "duration": 4,
    "start_time": "2024-09-20T05:12:13.148Z"
   },
   {
    "duration": 7,
    "start_time": "2024-09-20T05:12:13.154Z"
   },
   {
    "duration": 932,
    "start_time": "2024-09-20T05:12:13.163Z"
   },
   {
    "duration": 1654,
    "start_time": "2024-09-20T05:12:14.097Z"
   },
   {
    "duration": 5,
    "start_time": "2024-09-20T05:12:15.753Z"
   },
   {
    "duration": 8,
    "start_time": "2024-09-20T05:12:15.760Z"
   },
   {
    "duration": 6,
    "start_time": "2024-09-20T05:12:15.770Z"
   },
   {
    "duration": 10,
    "start_time": "2024-09-20T05:12:15.779Z"
   },
   {
    "duration": 5,
    "start_time": "2024-09-20T05:12:15.790Z"
   },
   {
    "duration": 36,
    "start_time": "2024-09-20T05:12:15.797Z"
   },
   {
    "duration": 615,
    "start_time": "2024-09-20T05:12:15.835Z"
   },
   {
    "duration": 15,
    "start_time": "2024-09-20T05:12:16.452Z"
   },
   {
    "duration": 29,
    "start_time": "2024-09-20T05:12:16.468Z"
   },
   {
    "duration": 34,
    "start_time": "2024-09-20T05:12:16.498Z"
   },
   {
    "duration": 7,
    "start_time": "2024-09-20T05:12:16.534Z"
   },
   {
    "duration": 11,
    "start_time": "2024-09-20T05:12:16.543Z"
   },
   {
    "duration": 5,
    "start_time": "2024-09-20T05:12:16.556Z"
   },
   {
    "duration": 95,
    "start_time": "2024-09-20T05:12:16.563Z"
   },
   {
    "duration": 70,
    "start_time": "2024-09-20T05:12:16.660Z"
   },
   {
    "duration": 73,
    "start_time": "2024-09-20T05:12:16.732Z"
   },
   {
    "duration": 230,
    "start_time": "2024-09-20T05:12:16.807Z"
   },
   {
    "duration": 48,
    "start_time": "2024-09-20T05:12:17.465Z"
   },
   {
    "duration": 51,
    "start_time": "2024-09-20T05:14:28.203Z"
   },
   {
    "duration": 158,
    "start_time": "2024-09-20T05:17:17.056Z"
   },
   {
    "duration": 442,
    "start_time": "2024-09-20T05:17:26.186Z"
   },
   {
    "duration": 1107,
    "start_time": "2024-09-20T05:17:26.630Z"
   },
   {
    "duration": 12,
    "start_time": "2024-09-20T05:17:27.740Z"
   },
   {
    "duration": 8,
    "start_time": "2024-09-20T05:17:27.754Z"
   },
   {
    "duration": 7,
    "start_time": "2024-09-20T05:17:27.765Z"
   },
   {
    "duration": 8,
    "start_time": "2024-09-20T05:17:27.773Z"
   },
   {
    "duration": 7,
    "start_time": "2024-09-20T05:17:27.782Z"
   },
   {
    "duration": 137,
    "start_time": "2024-09-20T05:17:27.791Z"
   },
   {
    "duration": 111,
    "start_time": "2024-09-20T05:17:27.930Z"
   },
   {
    "duration": 117,
    "start_time": "2024-09-20T05:17:28.042Z"
   },
   {
    "duration": 110,
    "start_time": "2024-09-20T05:17:28.161Z"
   },
   {
    "duration": 34,
    "start_time": "2024-09-20T05:17:28.273Z"
   },
   {
    "duration": 30,
    "start_time": "2024-09-20T05:17:28.309Z"
   },
   {
    "duration": 4,
    "start_time": "2024-09-20T05:17:28.343Z"
   },
   {
    "duration": 18,
    "start_time": "2024-09-20T05:17:28.348Z"
   },
   {
    "duration": 12,
    "start_time": "2024-09-20T05:17:28.367Z"
   },
   {
    "duration": 3,
    "start_time": "2024-09-20T05:17:28.381Z"
   },
   {
    "duration": 8,
    "start_time": "2024-09-20T05:17:28.386Z"
   },
   {
    "duration": 35,
    "start_time": "2024-09-20T05:17:28.396Z"
   },
   {
    "duration": 8,
    "start_time": "2024-09-20T05:17:28.433Z"
   },
   {
    "duration": 890,
    "start_time": "2024-09-20T05:17:28.442Z"
   },
   {
    "duration": 1637,
    "start_time": "2024-09-20T05:17:29.334Z"
   },
   {
    "duration": 6,
    "start_time": "2024-09-20T05:17:30.973Z"
   },
   {
    "duration": 8,
    "start_time": "2024-09-20T05:17:30.983Z"
   },
   {
    "duration": 6,
    "start_time": "2024-09-20T05:17:30.994Z"
   },
   {
    "duration": 34,
    "start_time": "2024-09-20T05:17:31.001Z"
   },
   {
    "duration": 6,
    "start_time": "2024-09-20T05:17:31.036Z"
   },
   {
    "duration": 6,
    "start_time": "2024-09-20T05:17:31.044Z"
   },
   {
    "duration": 655,
    "start_time": "2024-09-20T05:17:31.051Z"
   },
   {
    "duration": 24,
    "start_time": "2024-09-20T05:17:31.708Z"
   },
   {
    "duration": 30,
    "start_time": "2024-09-20T05:17:31.733Z"
   },
   {
    "duration": 15,
    "start_time": "2024-09-20T05:17:31.766Z"
   },
   {
    "duration": 6,
    "start_time": "2024-09-20T05:17:31.783Z"
   },
   {
    "duration": 13,
    "start_time": "2024-09-20T05:17:31.790Z"
   },
   {
    "duration": 30,
    "start_time": "2024-09-20T05:17:31.804Z"
   },
   {
    "duration": 70,
    "start_time": "2024-09-20T05:17:31.836Z"
   },
   {
    "duration": 91,
    "start_time": "2024-09-20T05:17:31.909Z"
   },
   {
    "duration": 87,
    "start_time": "2024-09-20T05:17:32.002Z"
   },
   {
    "duration": 175,
    "start_time": "2024-09-20T05:21:17.502Z"
   },
   {
    "duration": 428,
    "start_time": "2024-09-20T05:21:27.793Z"
   },
   {
    "duration": 1103,
    "start_time": "2024-09-20T05:21:28.223Z"
   },
   {
    "duration": 13,
    "start_time": "2024-09-20T05:21:29.328Z"
   },
   {
    "duration": 10,
    "start_time": "2024-09-20T05:21:29.343Z"
   },
   {
    "duration": 7,
    "start_time": "2024-09-20T05:21:29.354Z"
   },
   {
    "duration": 9,
    "start_time": "2024-09-20T05:21:29.363Z"
   },
   {
    "duration": 6,
    "start_time": "2024-09-20T05:21:29.374Z"
   },
   {
    "duration": 130,
    "start_time": "2024-09-20T05:21:29.382Z"
   },
   {
    "duration": 113,
    "start_time": "2024-09-20T05:21:29.515Z"
   },
   {
    "duration": 117,
    "start_time": "2024-09-20T05:21:29.632Z"
   },
   {
    "duration": 115,
    "start_time": "2024-09-20T05:21:29.750Z"
   },
   {
    "duration": 34,
    "start_time": "2024-09-20T05:21:29.867Z"
   },
   {
    "duration": 28,
    "start_time": "2024-09-20T05:21:29.903Z"
   },
   {
    "duration": 3,
    "start_time": "2024-09-20T05:21:29.933Z"
   },
   {
    "duration": 16,
    "start_time": "2024-09-20T05:21:29.938Z"
   },
   {
    "duration": 13,
    "start_time": "2024-09-20T05:21:29.956Z"
   },
   {
    "duration": 4,
    "start_time": "2024-09-20T05:21:29.970Z"
   },
   {
    "duration": 9,
    "start_time": "2024-09-20T05:21:29.975Z"
   },
   {
    "duration": 4,
    "start_time": "2024-09-20T05:21:29.986Z"
   },
   {
    "duration": 45,
    "start_time": "2024-09-20T05:21:29.992Z"
   },
   {
    "duration": 911,
    "start_time": "2024-09-20T05:21:30.038Z"
   },
   {
    "duration": 1702,
    "start_time": "2024-09-20T05:21:30.950Z"
   },
   {
    "duration": 6,
    "start_time": "2024-09-20T05:21:32.654Z"
   },
   {
    "duration": 9,
    "start_time": "2024-09-20T05:21:32.662Z"
   },
   {
    "duration": 7,
    "start_time": "2024-09-20T05:21:32.672Z"
   },
   {
    "duration": 10,
    "start_time": "2024-09-20T05:21:32.680Z"
   },
   {
    "duration": 40,
    "start_time": "2024-09-20T05:21:32.691Z"
   },
   {
    "duration": 5,
    "start_time": "2024-09-20T05:21:32.735Z"
   },
   {
    "duration": 623,
    "start_time": "2024-09-20T05:21:32.741Z"
   },
   {
    "duration": 17,
    "start_time": "2024-09-20T05:21:33.365Z"
   },
   {
    "duration": 29,
    "start_time": "2024-09-20T05:21:33.384Z"
   },
   {
    "duration": 13,
    "start_time": "2024-09-20T05:21:33.432Z"
   },
   {
    "duration": 6,
    "start_time": "2024-09-20T05:21:33.447Z"
   },
   {
    "duration": 10,
    "start_time": "2024-09-20T05:21:33.455Z"
   },
   {
    "duration": 5,
    "start_time": "2024-09-20T05:21:33.467Z"
   },
   {
    "duration": 100,
    "start_time": "2024-09-20T05:21:33.474Z"
   },
   {
    "duration": 72,
    "start_time": "2024-09-20T05:21:33.576Z"
   },
   {
    "duration": 81,
    "start_time": "2024-09-20T05:21:33.650Z"
   },
   {
    "duration": 161,
    "start_time": "2024-09-20T05:25:09.012Z"
   },
   {
    "duration": 456,
    "start_time": "2024-09-20T05:25:15.745Z"
   },
   {
    "duration": 1097,
    "start_time": "2024-09-20T05:25:16.204Z"
   },
   {
    "duration": 10,
    "start_time": "2024-09-20T05:25:17.303Z"
   },
   {
    "duration": 17,
    "start_time": "2024-09-20T05:25:17.315Z"
   },
   {
    "duration": 7,
    "start_time": "2024-09-20T05:25:17.335Z"
   },
   {
    "duration": 9,
    "start_time": "2024-09-20T05:25:17.343Z"
   },
   {
    "duration": 7,
    "start_time": "2024-09-20T05:25:17.354Z"
   },
   {
    "duration": 130,
    "start_time": "2024-09-20T05:25:17.363Z"
   },
   {
    "duration": 164,
    "start_time": "2024-09-20T05:25:17.494Z"
   },
   {
    "duration": 120,
    "start_time": "2024-09-20T05:25:17.664Z"
   },
   {
    "duration": 106,
    "start_time": "2024-09-20T05:25:17.785Z"
   },
   {
    "duration": 47,
    "start_time": "2024-09-20T05:25:17.893Z"
   },
   {
    "duration": 13,
    "start_time": "2024-09-20T05:25:17.941Z"
   },
   {
    "duration": 4,
    "start_time": "2024-09-20T05:25:17.958Z"
   },
   {
    "duration": 27,
    "start_time": "2024-09-20T05:25:17.963Z"
   },
   {
    "duration": 13,
    "start_time": "2024-09-20T05:25:17.992Z"
   },
   {
    "duration": 3,
    "start_time": "2024-09-20T05:25:18.007Z"
   },
   {
    "duration": 10,
    "start_time": "2024-09-20T05:25:18.031Z"
   },
   {
    "duration": 4,
    "start_time": "2024-09-20T05:25:18.043Z"
   },
   {
    "duration": 8,
    "start_time": "2024-09-20T05:25:18.048Z"
   },
   {
    "duration": 908,
    "start_time": "2024-09-20T05:25:18.059Z"
   },
   {
    "duration": 1682,
    "start_time": "2024-09-20T05:25:18.968Z"
   },
   {
    "duration": 6,
    "start_time": "2024-09-20T05:25:20.652Z"
   },
   {
    "duration": 15,
    "start_time": "2024-09-20T05:25:20.659Z"
   },
   {
    "duration": 6,
    "start_time": "2024-09-20T05:25:20.676Z"
   },
   {
    "duration": 10,
    "start_time": "2024-09-20T05:25:20.684Z"
   },
   {
    "duration": 5,
    "start_time": "2024-09-20T05:25:20.696Z"
   },
   {
    "duration": 33,
    "start_time": "2024-09-20T05:25:20.703Z"
   },
   {
    "duration": 608,
    "start_time": "2024-09-20T05:25:20.737Z"
   },
   {
    "duration": 15,
    "start_time": "2024-09-20T05:25:21.346Z"
   },
   {
    "duration": 29,
    "start_time": "2024-09-20T05:25:21.363Z"
   },
   {
    "duration": 37,
    "start_time": "2024-09-20T05:25:21.394Z"
   },
   {
    "duration": 6,
    "start_time": "2024-09-20T05:25:21.434Z"
   },
   {
    "duration": 11,
    "start_time": "2024-09-20T05:25:21.442Z"
   },
   {
    "duration": 6,
    "start_time": "2024-09-20T05:25:21.455Z"
   },
   {
    "duration": 96,
    "start_time": "2024-09-20T05:25:21.463Z"
   },
   {
    "duration": 70,
    "start_time": "2024-09-20T05:25:21.561Z"
   },
   {
    "duration": 73,
    "start_time": "2024-09-20T05:25:21.633Z"
   },
   {
    "duration": 422,
    "start_time": "2024-09-20T05:27:37.798Z"
   },
   {
    "duration": 1091,
    "start_time": "2024-09-20T05:27:38.223Z"
   },
   {
    "duration": 16,
    "start_time": "2024-09-20T05:27:39.316Z"
   },
   {
    "duration": 9,
    "start_time": "2024-09-20T05:27:39.334Z"
   },
   {
    "duration": 7,
    "start_time": "2024-09-20T05:27:39.347Z"
   },
   {
    "duration": 7,
    "start_time": "2024-09-20T05:27:39.356Z"
   },
   {
    "duration": 6,
    "start_time": "2024-09-20T05:27:39.365Z"
   },
   {
    "duration": 135,
    "start_time": "2024-09-20T05:27:39.373Z"
   },
   {
    "duration": 104,
    "start_time": "2024-09-20T05:27:39.510Z"
   },
   {
    "duration": 112,
    "start_time": "2024-09-20T05:27:39.616Z"
   },
   {
    "duration": 107,
    "start_time": "2024-09-20T05:27:39.732Z"
   },
   {
    "duration": 33,
    "start_time": "2024-09-20T05:27:39.840Z"
   },
   {
    "duration": 12,
    "start_time": "2024-09-20T05:27:39.875Z"
   },
   {
    "duration": 4,
    "start_time": "2024-09-20T05:27:39.890Z"
   },
   {
    "duration": 43,
    "start_time": "2024-09-20T05:27:39.896Z"
   },
   {
    "duration": 12,
    "start_time": "2024-09-20T05:27:39.941Z"
   },
   {
    "duration": 4,
    "start_time": "2024-09-20T05:27:39.954Z"
   },
   {
    "duration": 9,
    "start_time": "2024-09-20T05:27:39.959Z"
   },
   {
    "duration": 4,
    "start_time": "2024-09-20T05:27:39.969Z"
   },
   {
    "duration": 10,
    "start_time": "2024-09-20T05:27:39.974Z"
   },
   {
    "duration": 924,
    "start_time": "2024-09-20T05:27:39.986Z"
   },
   {
    "duration": 1666,
    "start_time": "2024-09-20T05:27:40.912Z"
   },
   {
    "duration": 6,
    "start_time": "2024-09-20T05:27:42.580Z"
   },
   {
    "duration": 8,
    "start_time": "2024-09-20T05:27:42.589Z"
   },
   {
    "duration": 6,
    "start_time": "2024-09-20T05:27:42.598Z"
   },
   {
    "duration": 33,
    "start_time": "2024-09-20T05:27:42.605Z"
   },
   {
    "duration": 7,
    "start_time": "2024-09-20T05:27:42.639Z"
   },
   {
    "duration": 6,
    "start_time": "2024-09-20T05:27:42.648Z"
   },
   {
    "duration": 645,
    "start_time": "2024-09-20T05:27:42.656Z"
   },
   {
    "duration": 15,
    "start_time": "2024-09-20T05:27:43.303Z"
   },
   {
    "duration": 31,
    "start_time": "2024-09-20T05:27:43.330Z"
   },
   {
    "duration": 13,
    "start_time": "2024-09-20T05:27:43.363Z"
   },
   {
    "duration": 7,
    "start_time": "2024-09-20T05:27:43.378Z"
   },
   {
    "duration": 12,
    "start_time": "2024-09-20T05:27:43.386Z"
   },
   {
    "duration": 32,
    "start_time": "2024-09-20T05:27:43.399Z"
   },
   {
    "duration": 72,
    "start_time": "2024-09-20T05:27:43.433Z"
   },
   {
    "duration": 89,
    "start_time": "2024-09-20T05:27:43.506Z"
   },
   {
    "duration": 79,
    "start_time": "2024-09-20T05:27:43.597Z"
   },
   {
    "duration": 165,
    "start_time": "2024-09-20T05:29:31.773Z"
   },
   {
    "duration": 430,
    "start_time": "2024-09-20T05:29:39.301Z"
   },
   {
    "duration": 1095,
    "start_time": "2024-09-20T05:29:39.733Z"
   },
   {
    "duration": 11,
    "start_time": "2024-09-20T05:29:40.831Z"
   },
   {
    "duration": 9,
    "start_time": "2024-09-20T05:29:40.844Z"
   },
   {
    "duration": 8,
    "start_time": "2024-09-20T05:29:40.856Z"
   },
   {
    "duration": 7,
    "start_time": "2024-09-20T05:29:40.865Z"
   },
   {
    "duration": 6,
    "start_time": "2024-09-20T05:29:40.874Z"
   },
   {
    "duration": 128,
    "start_time": "2024-09-20T05:29:40.881Z"
   },
   {
    "duration": 112,
    "start_time": "2024-09-20T05:29:41.012Z"
   },
   {
    "duration": 116,
    "start_time": "2024-09-20T05:29:41.126Z"
   },
   {
    "duration": 114,
    "start_time": "2024-09-20T05:29:41.244Z"
   },
   {
    "duration": 35,
    "start_time": "2024-09-20T05:29:41.360Z"
   },
   {
    "duration": 12,
    "start_time": "2024-09-20T05:29:41.397Z"
   },
   {
    "duration": 4,
    "start_time": "2024-09-20T05:29:41.431Z"
   },
   {
    "duration": 18,
    "start_time": "2024-09-20T05:29:41.436Z"
   },
   {
    "duration": 12,
    "start_time": "2024-09-20T05:29:41.456Z"
   },
   {
    "duration": 4,
    "start_time": "2024-09-20T05:29:41.469Z"
   },
   {
    "duration": 8,
    "start_time": "2024-09-20T05:29:41.475Z"
   },
   {
    "duration": 3,
    "start_time": "2024-09-20T05:29:41.485Z"
   },
   {
    "duration": 47,
    "start_time": "2024-09-20T05:29:41.490Z"
   },
   {
    "duration": 885,
    "start_time": "2024-09-20T05:29:41.538Z"
   },
   {
    "duration": 1729,
    "start_time": "2024-09-20T05:29:42.424Z"
   },
   {
    "duration": 6,
    "start_time": "2024-09-20T05:29:44.155Z"
   },
   {
    "duration": 10,
    "start_time": "2024-09-20T05:29:44.162Z"
   },
   {
    "duration": 7,
    "start_time": "2024-09-20T05:29:44.173Z"
   },
   {
    "duration": 10,
    "start_time": "2024-09-20T05:29:44.182Z"
   },
   {
    "duration": 6,
    "start_time": "2024-09-20T05:29:44.193Z"
   },
   {
    "duration": 5,
    "start_time": "2024-09-20T05:29:44.232Z"
   },
   {
    "duration": 603,
    "start_time": "2024-09-20T05:29:44.240Z"
   },
   {
    "duration": 16,
    "start_time": "2024-09-20T05:29:44.845Z"
   },
   {
    "duration": 30,
    "start_time": "2024-09-20T05:29:44.862Z"
   },
   {
    "duration": 13,
    "start_time": "2024-09-20T05:29:44.895Z"
   },
   {
    "duration": 6,
    "start_time": "2024-09-20T05:29:44.931Z"
   },
   {
    "duration": 11,
    "start_time": "2024-09-20T05:29:44.939Z"
   },
   {
    "duration": 5,
    "start_time": "2024-09-20T05:29:44.952Z"
   },
   {
    "duration": 96,
    "start_time": "2024-09-20T05:29:44.959Z"
   },
   {
    "duration": 75,
    "start_time": "2024-09-20T05:29:45.056Z"
   },
   {
    "duration": 75,
    "start_time": "2024-09-20T05:29:45.133Z"
   },
   {
    "duration": 439,
    "start_time": "2024-09-20T05:31:39.275Z"
   },
   {
    "duration": 1075,
    "start_time": "2024-09-20T05:31:39.716Z"
   },
   {
    "duration": 12,
    "start_time": "2024-09-20T05:31:40.792Z"
   },
   {
    "duration": 9,
    "start_time": "2024-09-20T05:31:40.807Z"
   },
   {
    "duration": 19,
    "start_time": "2024-09-20T05:31:40.818Z"
   },
   {
    "duration": 7,
    "start_time": "2024-09-20T05:31:40.839Z"
   },
   {
    "duration": 6,
    "start_time": "2024-09-20T05:31:40.848Z"
   },
   {
    "duration": 123,
    "start_time": "2024-09-20T05:31:40.856Z"
   },
   {
    "duration": 107,
    "start_time": "2024-09-20T05:31:40.982Z"
   },
   {
    "duration": 120,
    "start_time": "2024-09-20T05:31:41.093Z"
   },
   {
    "duration": 104,
    "start_time": "2024-09-20T05:31:41.215Z"
   },
   {
    "duration": 37,
    "start_time": "2024-09-20T05:31:41.321Z"
   },
   {
    "duration": 12,
    "start_time": "2024-09-20T05:31:41.360Z"
   },
   {
    "duration": 4,
    "start_time": "2024-09-20T05:31:41.374Z"
   },
   {
    "duration": 17,
    "start_time": "2024-09-20T05:31:41.379Z"
   },
   {
    "duration": 38,
    "start_time": "2024-09-20T05:31:41.398Z"
   },
   {
    "duration": 4,
    "start_time": "2024-09-20T05:31:41.437Z"
   },
   {
    "duration": 8,
    "start_time": "2024-09-20T05:31:41.443Z"
   },
   {
    "duration": 4,
    "start_time": "2024-09-20T05:31:41.452Z"
   },
   {
    "duration": 8,
    "start_time": "2024-09-20T05:31:41.458Z"
   },
   {
    "duration": 914,
    "start_time": "2024-09-20T05:31:41.467Z"
   },
   {
    "duration": 1691,
    "start_time": "2024-09-20T05:31:42.383Z"
   },
   {
    "duration": 8,
    "start_time": "2024-09-20T05:31:44.076Z"
   },
   {
    "duration": 9,
    "start_time": "2024-09-20T05:31:44.086Z"
   },
   {
    "duration": 5,
    "start_time": "2024-09-20T05:31:44.097Z"
   },
   {
    "duration": 31,
    "start_time": "2024-09-20T05:31:44.104Z"
   },
   {
    "duration": 6,
    "start_time": "2024-09-20T05:31:44.137Z"
   },
   {
    "duration": 5,
    "start_time": "2024-09-20T05:31:44.147Z"
   },
   {
    "duration": 671,
    "start_time": "2024-09-20T05:31:44.154Z"
   },
   {
    "duration": 16,
    "start_time": "2024-09-20T05:31:44.827Z"
   },
   {
    "duration": 30,
    "start_time": "2024-09-20T05:31:44.845Z"
   },
   {
    "duration": 14,
    "start_time": "2024-09-20T05:31:44.877Z"
   },
   {
    "duration": 6,
    "start_time": "2024-09-20T05:31:44.893Z"
   },
   {
    "duration": 41,
    "start_time": "2024-09-20T05:31:44.901Z"
   },
   {
    "duration": 6,
    "start_time": "2024-09-20T05:31:44.943Z"
   },
   {
    "duration": 90,
    "start_time": "2024-09-20T05:31:44.951Z"
   },
   {
    "duration": 70,
    "start_time": "2024-09-20T05:31:45.043Z"
   },
   {
    "duration": 88,
    "start_time": "2024-09-20T05:31:45.115Z"
   },
   {
    "duration": 2064,
    "start_time": "2024-09-20T11:47:12.297Z"
   },
   {
    "duration": 1049,
    "start_time": "2024-09-20T11:47:14.365Z"
   },
   {
    "duration": 16,
    "start_time": "2024-09-20T11:47:15.416Z"
   },
   {
    "duration": 10,
    "start_time": "2024-09-20T11:47:15.435Z"
   },
   {
    "duration": 8,
    "start_time": "2024-09-20T11:47:15.446Z"
   },
   {
    "duration": 8,
    "start_time": "2024-09-20T11:47:15.455Z"
   },
   {
    "duration": 6,
    "start_time": "2024-09-20T11:47:15.464Z"
   },
   {
    "duration": 130,
    "start_time": "2024-09-20T11:47:15.472Z"
   },
   {
    "duration": 112,
    "start_time": "2024-09-20T11:47:15.604Z"
   },
   {
    "duration": 113,
    "start_time": "2024-09-20T11:47:15.720Z"
   },
   {
    "duration": 109,
    "start_time": "2024-09-20T11:47:15.835Z"
   },
   {
    "duration": 35,
    "start_time": "2024-09-20T11:47:15.945Z"
   },
   {
    "duration": 12,
    "start_time": "2024-09-20T11:47:15.981Z"
   },
   {
    "duration": 4,
    "start_time": "2024-09-20T11:47:15.995Z"
   },
   {
    "duration": 42,
    "start_time": "2024-09-20T11:47:16.001Z"
   },
   {
    "duration": 13,
    "start_time": "2024-09-20T11:47:16.044Z"
   },
   {
    "duration": 3,
    "start_time": "2024-09-20T11:47:16.058Z"
   },
   {
    "duration": 9,
    "start_time": "2024-09-20T11:47:16.063Z"
   },
   {
    "duration": 3,
    "start_time": "2024-09-20T11:47:16.074Z"
   },
   {
    "duration": 8,
    "start_time": "2024-09-20T11:47:16.079Z"
   },
   {
    "duration": 880,
    "start_time": "2024-09-20T11:47:16.089Z"
   },
   {
    "duration": 1680,
    "start_time": "2024-09-20T11:47:16.971Z"
   },
   {
    "duration": 6,
    "start_time": "2024-09-20T11:47:18.654Z"
   },
   {
    "duration": 8,
    "start_time": "2024-09-20T11:47:18.662Z"
   },
   {
    "duration": 7,
    "start_time": "2024-09-20T11:47:18.672Z"
   },
   {
    "duration": 11,
    "start_time": "2024-09-20T11:47:18.680Z"
   },
   {
    "duration": 5,
    "start_time": "2024-09-20T11:47:18.693Z"
   },
   {
    "duration": 37,
    "start_time": "2024-09-20T11:47:18.701Z"
   },
   {
    "duration": 644,
    "start_time": "2024-09-20T11:47:18.740Z"
   },
   {
    "duration": 16,
    "start_time": "2024-09-20T11:47:19.385Z"
   },
   {
    "duration": 44,
    "start_time": "2024-09-20T11:47:19.403Z"
   },
   {
    "duration": 14,
    "start_time": "2024-09-20T11:47:19.448Z"
   },
   {
    "duration": 6,
    "start_time": "2024-09-20T11:47:19.464Z"
   },
   {
    "duration": 11,
    "start_time": "2024-09-20T11:47:19.472Z"
   },
   {
    "duration": 5,
    "start_time": "2024-09-20T11:47:19.485Z"
   },
   {
    "duration": 98,
    "start_time": "2024-09-20T11:47:19.492Z"
   },
   {
    "duration": 79,
    "start_time": "2024-09-20T11:47:19.592Z"
   },
   {
    "duration": 79,
    "start_time": "2024-09-20T11:47:19.673Z"
   },
   {
    "duration": 424,
    "start_time": "2024-09-20T11:49:20.691Z"
   },
   {
    "duration": 1084,
    "start_time": "2024-09-20T11:49:21.117Z"
   },
   {
    "duration": 12,
    "start_time": "2024-09-20T11:49:22.203Z"
   },
   {
    "duration": 21,
    "start_time": "2024-09-20T11:49:22.217Z"
   },
   {
    "duration": 7,
    "start_time": "2024-09-20T11:49:22.240Z"
   },
   {
    "duration": 8,
    "start_time": "2024-09-20T11:49:22.249Z"
   },
   {
    "duration": 7,
    "start_time": "2024-09-20T11:49:22.258Z"
   },
   {
    "duration": 121,
    "start_time": "2024-09-20T11:49:22.267Z"
   },
   {
    "duration": 116,
    "start_time": "2024-09-20T11:49:22.390Z"
   },
   {
    "duration": 115,
    "start_time": "2024-09-20T11:49:22.510Z"
   },
   {
    "duration": 107,
    "start_time": "2024-09-20T11:49:22.627Z"
   },
   {
    "duration": 33,
    "start_time": "2024-09-20T11:49:22.736Z"
   },
   {
    "duration": 13,
    "start_time": "2024-09-20T11:49:22.770Z"
   },
   {
    "duration": 3,
    "start_time": "2024-09-20T11:49:22.785Z"
   },
   {
    "duration": 16,
    "start_time": "2024-09-20T11:49:22.790Z"
   },
   {
    "duration": 11,
    "start_time": "2024-09-20T11:49:22.832Z"
   },
   {
    "duration": 3,
    "start_time": "2024-09-20T11:49:22.845Z"
   },
   {
    "duration": 9,
    "start_time": "2024-09-20T11:49:22.850Z"
   },
   {
    "duration": 4,
    "start_time": "2024-09-20T11:49:22.860Z"
   },
   {
    "duration": 9,
    "start_time": "2024-09-20T11:49:22.865Z"
   },
   {
    "duration": 901,
    "start_time": "2024-09-20T11:49:22.875Z"
   },
   {
    "duration": 1634,
    "start_time": "2024-09-20T11:49:23.778Z"
   },
   {
    "duration": 6,
    "start_time": "2024-09-20T11:49:25.414Z"
   },
   {
    "duration": 10,
    "start_time": "2024-09-20T11:49:25.432Z"
   },
   {
    "duration": 6,
    "start_time": "2024-09-20T11:49:25.443Z"
   },
   {
    "duration": 10,
    "start_time": "2024-09-20T11:49:25.450Z"
   },
   {
    "duration": 5,
    "start_time": "2024-09-20T11:49:25.462Z"
   },
   {
    "duration": 5,
    "start_time": "2024-09-20T11:49:25.472Z"
   },
   {
    "duration": 625,
    "start_time": "2024-09-20T11:49:25.479Z"
   },
   {
    "duration": 15,
    "start_time": "2024-09-20T11:49:26.106Z"
   },
   {
    "duration": 29,
    "start_time": "2024-09-20T11:49:26.132Z"
   },
   {
    "duration": 14,
    "start_time": "2024-09-20T11:49:26.163Z"
   },
   {
    "duration": 6,
    "start_time": "2024-09-20T11:49:26.179Z"
   },
   {
    "duration": 11,
    "start_time": "2024-09-20T11:49:26.186Z"
   },
   {
    "duration": 34,
    "start_time": "2024-09-20T11:49:26.199Z"
   },
   {
    "duration": 69,
    "start_time": "2024-09-20T11:49:26.234Z"
   },
   {
    "duration": 82,
    "start_time": "2024-09-20T11:49:26.305Z"
   },
   {
    "duration": 85,
    "start_time": "2024-09-20T11:49:26.389Z"
   },
   {
    "duration": 409,
    "start_time": "2024-09-20T11:51:33.612Z"
   },
   {
    "duration": 1045,
    "start_time": "2024-09-20T11:51:34.023Z"
   },
   {
    "duration": 11,
    "start_time": "2024-09-20T11:51:35.070Z"
   },
   {
    "duration": 9,
    "start_time": "2024-09-20T11:51:35.083Z"
   },
   {
    "duration": 8,
    "start_time": "2024-09-20T11:51:35.093Z"
   },
   {
    "duration": 32,
    "start_time": "2024-09-20T11:51:35.102Z"
   },
   {
    "duration": 7,
    "start_time": "2024-09-20T11:51:35.136Z"
   },
   {
    "duration": 114,
    "start_time": "2024-09-20T11:51:35.144Z"
   },
   {
    "duration": 108,
    "start_time": "2024-09-20T11:51:35.260Z"
   },
   {
    "duration": 117,
    "start_time": "2024-09-20T11:51:35.372Z"
   },
   {
    "duration": 105,
    "start_time": "2024-09-20T11:51:35.491Z"
   },
   {
    "duration": 43,
    "start_time": "2024-09-20T11:51:35.597Z"
   },
   {
    "duration": 13,
    "start_time": "2024-09-20T11:51:35.641Z"
   },
   {
    "duration": 4,
    "start_time": "2024-09-20T11:51:35.655Z"
   },
   {
    "duration": 17,
    "start_time": "2024-09-20T11:51:35.661Z"
   },
   {
    "duration": 12,
    "start_time": "2024-09-20T11:51:35.679Z"
   },
   {
    "duration": 4,
    "start_time": "2024-09-20T11:51:35.693Z"
   },
   {
    "duration": 8,
    "start_time": "2024-09-20T11:51:35.731Z"
   },
   {
    "duration": 3,
    "start_time": "2024-09-20T11:51:35.741Z"
   },
   {
    "duration": 8,
    "start_time": "2024-09-20T11:51:35.746Z"
   },
   {
    "duration": 878,
    "start_time": "2024-09-20T11:51:35.755Z"
   },
   {
    "duration": 1714,
    "start_time": "2024-09-20T11:51:36.635Z"
   },
   {
    "duration": 6,
    "start_time": "2024-09-20T11:51:38.350Z"
   },
   {
    "duration": 9,
    "start_time": "2024-09-20T11:51:38.358Z"
   },
   {
    "duration": 5,
    "start_time": "2024-09-20T11:51:38.369Z"
   },
   {
    "duration": 12,
    "start_time": "2024-09-20T11:51:38.376Z"
   },
   {
    "duration": 12,
    "start_time": "2024-09-20T11:51:38.390Z"
   },
   {
    "duration": 6,
    "start_time": "2024-09-20T11:51:38.435Z"
   },
   {
    "duration": 640,
    "start_time": "2024-09-20T11:51:38.442Z"
   },
   {
    "duration": 15,
    "start_time": "2024-09-20T11:51:39.084Z"
   },
   {
    "duration": 41,
    "start_time": "2024-09-20T11:51:39.101Z"
   },
   {
    "duration": 13,
    "start_time": "2024-09-20T11:51:39.144Z"
   },
   {
    "duration": 7,
    "start_time": "2024-09-20T11:51:39.159Z"
   },
   {
    "duration": 12,
    "start_time": "2024-09-20T11:51:39.168Z"
   },
   {
    "duration": 7,
    "start_time": "2024-09-20T11:51:39.181Z"
   },
   {
    "duration": 103,
    "start_time": "2024-09-20T11:51:39.189Z"
   },
   {
    "duration": 76,
    "start_time": "2024-09-20T11:51:39.294Z"
   },
   {
    "duration": 76,
    "start_time": "2024-09-20T11:51:39.373Z"
   },
   {
    "duration": 437,
    "start_time": "2024-09-20T11:54:27.600Z"
   },
   {
    "duration": 1076,
    "start_time": "2024-09-20T11:54:28.039Z"
   },
   {
    "duration": 20,
    "start_time": "2024-09-20T11:54:29.117Z"
   },
   {
    "duration": 9,
    "start_time": "2024-09-20T11:54:29.140Z"
   },
   {
    "duration": 7,
    "start_time": "2024-09-20T11:54:29.151Z"
   },
   {
    "duration": 7,
    "start_time": "2024-09-20T11:54:29.160Z"
   },
   {
    "duration": 6,
    "start_time": "2024-09-20T11:54:29.168Z"
   },
   {
    "duration": 128,
    "start_time": "2024-09-20T11:54:29.177Z"
   },
   {
    "duration": 109,
    "start_time": "2024-09-20T11:54:29.306Z"
   },
   {
    "duration": 108,
    "start_time": "2024-09-20T11:54:29.418Z"
   },
   {
    "duration": 106,
    "start_time": "2024-09-20T11:54:29.528Z"
   },
   {
    "duration": 31,
    "start_time": "2024-09-20T11:54:29.636Z"
   },
   {
    "duration": 12,
    "start_time": "2024-09-20T11:54:29.668Z"
   },
   {
    "duration": 4,
    "start_time": "2024-09-20T11:54:29.682Z"
   },
   {
    "duration": 17,
    "start_time": "2024-09-20T11:54:29.687Z"
   },
   {
    "duration": 36,
    "start_time": "2024-09-20T11:54:29.706Z"
   },
   {
    "duration": 4,
    "start_time": "2024-09-20T11:54:29.743Z"
   },
   {
    "duration": 8,
    "start_time": "2024-09-20T11:54:29.749Z"
   },
   {
    "duration": 3,
    "start_time": "2024-09-20T11:54:29.759Z"
   },
   {
    "duration": 8,
    "start_time": "2024-09-20T11:54:29.763Z"
   },
   {
    "duration": 894,
    "start_time": "2024-09-20T11:54:29.773Z"
   },
   {
    "duration": 1652,
    "start_time": "2024-09-20T11:54:30.669Z"
   },
   {
    "duration": 6,
    "start_time": "2024-09-20T11:54:32.330Z"
   },
   {
    "duration": 9,
    "start_time": "2024-09-20T11:54:32.337Z"
   },
   {
    "duration": 6,
    "start_time": "2024-09-20T11:54:32.347Z"
   },
   {
    "duration": 10,
    "start_time": "2024-09-20T11:54:32.355Z"
   },
   {
    "duration": 6,
    "start_time": "2024-09-20T11:54:32.367Z"
   },
   {
    "duration": 6,
    "start_time": "2024-09-20T11:54:32.377Z"
   },
   {
    "duration": 651,
    "start_time": "2024-09-20T11:54:32.384Z"
   },
   {
    "duration": 17,
    "start_time": "2024-09-20T11:54:33.037Z"
   },
   {
    "duration": 31,
    "start_time": "2024-09-20T11:54:33.056Z"
   },
   {
    "duration": 14,
    "start_time": "2024-09-20T11:54:33.090Z"
   },
   {
    "duration": 7,
    "start_time": "2024-09-20T11:54:33.132Z"
   },
   {
    "duration": 12,
    "start_time": "2024-09-20T11:54:33.140Z"
   },
   {
    "duration": 5,
    "start_time": "2024-09-20T11:54:33.154Z"
   },
   {
    "duration": 96,
    "start_time": "2024-09-20T11:54:33.161Z"
   },
   {
    "duration": 72,
    "start_time": "2024-09-20T11:54:33.259Z"
   },
   {
    "duration": 77,
    "start_time": "2024-09-20T11:54:33.334Z"
   },
   {
    "duration": 7,
    "start_time": "2024-09-20T11:54:33.413Z"
   },
   {
    "duration": 0,
    "start_time": "2024-09-20T11:54:33.431Z"
   },
   {
    "duration": 39,
    "start_time": "2024-09-20T11:54:37.378Z"
   },
   {
    "duration": 43,
    "start_time": "2024-09-20T11:55:45.928Z"
   },
   {
    "duration": 42,
    "start_time": "2024-09-20T11:55:58.727Z"
   },
   {
    "duration": 41,
    "start_time": "2024-09-20T11:56:51.176Z"
   },
   {
    "duration": 40,
    "start_time": "2024-09-20T11:57:02.374Z"
   },
   {
    "duration": 40,
    "start_time": "2024-09-20T11:57:28.812Z"
   },
   {
    "duration": 527,
    "start_time": "2024-09-20T11:57:59.319Z"
   },
   {
    "duration": 73,
    "start_time": "2024-09-20T11:58:43.309Z"
   },
   {
    "duration": 76,
    "start_time": "2024-09-20T11:59:53.092Z"
   },
   {
    "duration": 80,
    "start_time": "2024-09-20T12:00:22.629Z"
   },
   {
    "duration": 78,
    "start_time": "2024-09-20T12:00:41.680Z"
   },
   {
    "duration": 72,
    "start_time": "2024-09-20T12:00:51.261Z"
   },
   {
    "duration": 424,
    "start_time": "2024-09-20T12:01:04.397Z"
   },
   {
    "duration": 947,
    "start_time": "2024-09-20T12:01:04.824Z"
   },
   {
    "duration": 11,
    "start_time": "2024-09-20T12:01:05.773Z"
   },
   {
    "duration": 10,
    "start_time": "2024-09-20T12:01:05.786Z"
   },
   {
    "duration": 9,
    "start_time": "2024-09-20T12:01:05.797Z"
   },
   {
    "duration": 31,
    "start_time": "2024-09-20T12:01:05.807Z"
   },
   {
    "duration": 7,
    "start_time": "2024-09-20T12:01:05.840Z"
   },
   {
    "duration": 123,
    "start_time": "2024-09-20T12:01:05.848Z"
   },
   {
    "duration": 117,
    "start_time": "2024-09-20T12:01:05.973Z"
   },
   {
    "duration": 123,
    "start_time": "2024-09-20T12:01:06.093Z"
   },
   {
    "duration": 114,
    "start_time": "2024-09-20T12:01:06.217Z"
   },
   {
    "duration": 35,
    "start_time": "2024-09-20T12:01:06.333Z"
   },
   {
    "duration": 14,
    "start_time": "2024-09-20T12:01:06.370Z"
   },
   {
    "duration": 4,
    "start_time": "2024-09-20T12:01:06.386Z"
   },
   {
    "duration": 45,
    "start_time": "2024-09-20T12:01:06.392Z"
   },
   {
    "duration": 12,
    "start_time": "2024-09-20T12:01:06.439Z"
   },
   {
    "duration": 4,
    "start_time": "2024-09-20T12:01:06.452Z"
   },
   {
    "duration": 9,
    "start_time": "2024-09-20T12:01:06.459Z"
   },
   {
    "duration": 3,
    "start_time": "2024-09-20T12:01:06.469Z"
   },
   {
    "duration": 9,
    "start_time": "2024-09-20T12:01:06.474Z"
   },
   {
    "duration": 935,
    "start_time": "2024-09-20T12:01:06.485Z"
   },
   {
    "duration": 1775,
    "start_time": "2024-09-20T12:01:07.422Z"
   },
   {
    "duration": 5,
    "start_time": "2024-09-20T12:01:09.199Z"
   },
   {
    "duration": 8,
    "start_time": "2024-09-20T12:01:09.206Z"
   },
   {
    "duration": 5,
    "start_time": "2024-09-20T12:01:09.231Z"
   },
   {
    "duration": 11,
    "start_time": "2024-09-20T12:01:09.238Z"
   },
   {
    "duration": 5,
    "start_time": "2024-09-20T12:01:09.251Z"
   },
   {
    "duration": 6,
    "start_time": "2024-09-20T12:01:09.261Z"
   },
   {
    "duration": 711,
    "start_time": "2024-09-20T12:01:09.268Z"
   },
   {
    "duration": 15,
    "start_time": "2024-09-20T12:01:09.981Z"
   },
   {
    "duration": 43,
    "start_time": "2024-09-20T12:01:09.998Z"
   },
   {
    "duration": 15,
    "start_time": "2024-09-20T12:01:10.043Z"
   },
   {
    "duration": 6,
    "start_time": "2024-09-20T12:01:10.060Z"
   },
   {
    "duration": 12,
    "start_time": "2024-09-20T12:01:10.068Z"
   },
   {
    "duration": 6,
    "start_time": "2024-09-20T12:01:10.082Z"
   },
   {
    "duration": 108,
    "start_time": "2024-09-20T12:01:10.089Z"
   },
   {
    "duration": 80,
    "start_time": "2024-09-20T12:01:10.198Z"
   },
   {
    "duration": 83,
    "start_time": "2024-09-20T12:01:10.280Z"
   },
   {
    "duration": 4,
    "start_time": "2024-09-20T12:01:10.365Z"
   },
   {
    "duration": 0,
    "start_time": "2024-09-20T12:01:10.371Z"
   },
   {
    "duration": 521,
    "start_time": "2024-09-20T12:01:14.451Z"
   },
   {
    "duration": 76,
    "start_time": "2024-09-20T12:03:12.601Z"
   },
   {
    "duration": 41,
    "start_time": "2024-09-20T12:03:25.656Z"
   },
   {
    "duration": 43,
    "start_time": "2024-09-20T12:03:35.543Z"
   },
   {
    "duration": 45,
    "start_time": "2024-09-20T12:04:39.787Z"
   },
   {
    "duration": 46,
    "start_time": "2024-09-20T12:05:30.157Z"
   },
   {
    "duration": 46,
    "start_time": "2024-09-20T12:07:27.522Z"
   },
   {
    "duration": 43,
    "start_time": "2024-09-20T12:08:31.603Z"
   },
   {
    "duration": 44,
    "start_time": "2024-09-20T12:08:54.606Z"
   },
   {
    "duration": 43,
    "start_time": "2024-09-20T12:09:05.173Z"
   },
   {
    "duration": 49,
    "start_time": "2024-09-20T12:09:42.766Z"
   },
   {
    "duration": 43,
    "start_time": "2024-09-20T12:09:58.655Z"
   },
   {
    "duration": 42,
    "start_time": "2024-09-20T12:11:06.793Z"
   },
   {
    "duration": 42,
    "start_time": "2024-09-20T12:11:27.751Z"
   },
   {
    "duration": 37,
    "start_time": "2024-09-20T12:11:47.334Z"
   },
   {
    "duration": 42,
    "start_time": "2024-09-20T12:12:14.313Z"
   },
   {
    "duration": 42,
    "start_time": "2024-09-20T12:12:34.293Z"
   },
   {
    "duration": 39,
    "start_time": "2024-09-20T12:12:47.534Z"
   },
   {
    "duration": 37,
    "start_time": "2024-09-20T12:13:45.977Z"
   },
   {
    "duration": 5,
    "start_time": "2024-09-20T12:15:00.171Z"
   },
   {
    "duration": 257,
    "start_time": "2024-09-20T12:15:13.184Z"
   },
   {
    "duration": 420,
    "start_time": "2024-09-20T12:17:30.503Z"
   },
   {
    "duration": 926,
    "start_time": "2024-09-20T12:17:30.931Z"
   },
   {
    "duration": 10,
    "start_time": "2024-09-20T12:17:31.859Z"
   },
   {
    "duration": 9,
    "start_time": "2024-09-20T12:17:31.871Z"
   },
   {
    "duration": 7,
    "start_time": "2024-09-20T12:17:31.883Z"
   },
   {
    "duration": 7,
    "start_time": "2024-09-20T12:17:31.892Z"
   },
   {
    "duration": 31,
    "start_time": "2024-09-20T12:17:31.901Z"
   },
   {
    "duration": 117,
    "start_time": "2024-09-20T12:17:31.934Z"
   },
   {
    "duration": 109,
    "start_time": "2024-09-20T12:17:32.053Z"
   },
   {
    "duration": 123,
    "start_time": "2024-09-20T12:17:32.164Z"
   },
   {
    "duration": 121,
    "start_time": "2024-09-20T12:17:32.289Z"
   },
   {
    "duration": 41,
    "start_time": "2024-09-20T12:17:32.412Z"
   },
   {
    "duration": 13,
    "start_time": "2024-09-20T12:17:32.455Z"
   },
   {
    "duration": 4,
    "start_time": "2024-09-20T12:17:32.472Z"
   },
   {
    "duration": 18,
    "start_time": "2024-09-20T12:17:32.477Z"
   },
   {
    "duration": 38,
    "start_time": "2024-09-20T12:17:32.497Z"
   },
   {
    "duration": 4,
    "start_time": "2024-09-20T12:17:32.537Z"
   },
   {
    "duration": 11,
    "start_time": "2024-09-20T12:17:32.543Z"
   },
   {
    "duration": 4,
    "start_time": "2024-09-20T12:17:32.556Z"
   },
   {
    "duration": 9,
    "start_time": "2024-09-20T12:17:32.562Z"
   },
   {
    "duration": 1002,
    "start_time": "2024-09-20T12:17:32.573Z"
   },
   {
    "duration": 1804,
    "start_time": "2024-09-20T12:17:33.577Z"
   },
   {
    "duration": 6,
    "start_time": "2024-09-20T12:17:35.383Z"
   },
   {
    "duration": 10,
    "start_time": "2024-09-20T12:17:35.390Z"
   },
   {
    "duration": 6,
    "start_time": "2024-09-20T12:17:35.401Z"
   },
   {
    "duration": 31,
    "start_time": "2024-09-20T12:17:35.409Z"
   },
   {
    "duration": 5,
    "start_time": "2024-09-20T12:17:35.441Z"
   },
   {
    "duration": 6,
    "start_time": "2024-09-20T12:17:35.449Z"
   },
   {
    "duration": 695,
    "start_time": "2024-09-20T12:17:35.456Z"
   },
   {
    "duration": 17,
    "start_time": "2024-09-20T12:17:36.153Z"
   },
   {
    "duration": 34,
    "start_time": "2024-09-20T12:17:36.171Z"
   },
   {
    "duration": 31,
    "start_time": "2024-09-20T12:17:36.207Z"
   },
   {
    "duration": 6,
    "start_time": "2024-09-20T12:17:36.240Z"
   },
   {
    "duration": 12,
    "start_time": "2024-09-20T12:17:36.248Z"
   },
   {
    "duration": 6,
    "start_time": "2024-09-20T12:17:36.261Z"
   },
   {
    "duration": 104,
    "start_time": "2024-09-20T12:17:36.268Z"
   },
   {
    "duration": 78,
    "start_time": "2024-09-20T12:17:36.374Z"
   },
   {
    "duration": 86,
    "start_time": "2024-09-20T12:17:36.454Z"
   },
   {
    "duration": 511,
    "start_time": "2024-09-20T12:17:36.543Z"
   },
   {
    "duration": 232,
    "start_time": "2024-09-20T12:19:46.386Z"
   },
   {
    "duration": 720,
    "start_time": "2024-09-20T12:45:50.043Z"
   },
   {
    "duration": 198,
    "start_time": "2024-09-20T12:46:04.948Z"
   },
   {
    "duration": 166,
    "start_time": "2024-09-20T12:48:34.178Z"
   },
   {
    "duration": 278,
    "start_time": "2024-09-20T12:56:31.696Z"
   },
   {
    "duration": 137,
    "start_time": "2024-09-20T13:00:38.577Z"
   },
   {
    "duration": 169,
    "start_time": "2024-09-20T13:01:50.999Z"
   },
   {
    "duration": 394,
    "start_time": "2024-09-20T13:34:58.962Z"
   },
   {
    "duration": 163,
    "start_time": "2024-09-20T13:35:45.940Z"
   },
   {
    "duration": 7,
    "start_time": "2024-09-20T13:39:33.780Z"
   },
   {
    "duration": 144,
    "start_time": "2024-09-20T13:39:51.365Z"
   },
   {
    "duration": 163,
    "start_time": "2024-09-20T13:40:12.340Z"
   },
   {
    "duration": 245,
    "start_time": "2024-09-20T13:43:06.847Z"
   },
   {
    "duration": 79,
    "start_time": "2024-09-20T13:48:47.736Z"
   },
   {
    "duration": 40,
    "start_time": "2024-09-20T13:49:25.644Z"
   },
   {
    "duration": 42,
    "start_time": "2024-09-20T13:49:55.626Z"
   },
   {
    "duration": 162,
    "start_time": "2024-09-20T13:51:32.693Z"
   },
   {
    "duration": 161,
    "start_time": "2024-09-20T13:52:46.763Z"
   },
   {
    "duration": 141,
    "start_time": "2024-09-20T13:54:52.270Z"
   },
   {
    "duration": 110,
    "start_time": "2024-09-20T13:55:14.559Z"
   },
   {
    "duration": 166,
    "start_time": "2024-09-20T13:56:20.583Z"
   },
   {
    "duration": 273,
    "start_time": "2024-09-20T13:56:40.039Z"
   },
   {
    "duration": 165,
    "start_time": "2024-09-20T13:56:50.666Z"
   },
   {
    "duration": 171,
    "start_time": "2024-09-20T13:57:01.872Z"
   },
   {
    "duration": 165,
    "start_time": "2024-09-20T13:57:28.781Z"
   },
   {
    "duration": 163,
    "start_time": "2024-09-20T13:57:39.171Z"
   },
   {
    "duration": 167,
    "start_time": "2024-09-20T13:57:58.757Z"
   },
   {
    "duration": 166,
    "start_time": "2024-09-20T13:58:06.276Z"
   },
   {
    "duration": 169,
    "start_time": "2024-09-20T13:58:14.580Z"
   },
   {
    "duration": 165,
    "start_time": "2024-09-20T13:58:29.795Z"
   },
   {
    "duration": 175,
    "start_time": "2024-09-20T13:58:41.484Z"
   },
   {
    "duration": 167,
    "start_time": "2024-09-20T13:59:00.764Z"
   },
   {
    "duration": 69,
    "start_time": "2024-09-20T14:04:21.947Z"
   },
   {
    "duration": 136,
    "start_time": "2024-09-20T14:04:48.001Z"
   },
   {
    "duration": 131,
    "start_time": "2024-09-20T14:05:17.826Z"
   },
   {
    "duration": 167,
    "start_time": "2024-09-20T14:05:33.287Z"
   },
   {
    "duration": 133,
    "start_time": "2024-09-20T15:10:21.960Z"
   },
   {
    "duration": 143,
    "start_time": "2024-09-20T15:11:23.694Z"
   },
   {
    "duration": 146,
    "start_time": "2024-09-20T15:11:58.257Z"
   },
   {
    "duration": 155,
    "start_time": "2024-09-20T15:12:17.899Z"
   },
   {
    "duration": 277,
    "start_time": "2024-09-20T15:12:32.900Z"
   },
   {
    "duration": 182,
    "start_time": "2024-09-20T15:13:26.487Z"
   },
   {
    "duration": 140,
    "start_time": "2024-09-20T15:13:36.688Z"
   },
   {
    "duration": 157,
    "start_time": "2024-09-20T15:14:57.526Z"
   },
   {
    "duration": 5195,
    "start_time": "2024-09-20T15:16:49.539Z"
   },
   {
    "duration": 4652,
    "start_time": "2024-09-20T15:17:47.430Z"
   },
   {
    "duration": 4694,
    "start_time": "2024-09-20T15:17:55.215Z"
   },
   {
    "duration": 244,
    "start_time": "2024-09-20T15:18:38.631Z"
   },
   {
    "duration": 228,
    "start_time": "2024-09-20T15:19:33.210Z"
   },
   {
    "duration": 471,
    "start_time": "2024-09-20T15:19:54.663Z"
   },
   {
    "duration": 283,
    "start_time": "2024-09-20T15:20:13.137Z"
   },
   {
    "duration": 271,
    "start_time": "2024-09-20T15:20:32.344Z"
   },
   {
    "duration": 265,
    "start_time": "2024-09-20T15:20:55.477Z"
   },
   {
    "duration": 234,
    "start_time": "2024-09-20T15:21:23.518Z"
   },
   {
    "duration": 391,
    "start_time": "2024-09-20T15:33:59.512Z"
   },
   {
    "duration": 166,
    "start_time": "2024-09-20T15:34:11.081Z"
   },
   {
    "duration": 51,
    "start_time": "2024-09-20T15:38:59.183Z"
   },
   {
    "duration": 167,
    "start_time": "2024-09-20T15:43:01.720Z"
   },
   {
    "duration": 6,
    "start_time": "2024-09-20T15:49:59.274Z"
   },
   {
    "duration": 171,
    "start_time": "2024-09-20T15:50:05.706Z"
   },
   {
    "duration": 178,
    "start_time": "2024-09-20T15:51:26.489Z"
   },
   {
    "duration": 181,
    "start_time": "2024-09-20T15:51:59.324Z"
   },
   {
    "duration": 177,
    "start_time": "2024-09-20T15:52:18.728Z"
   },
   {
    "duration": 165,
    "start_time": "2024-09-20T15:52:23.502Z"
   },
   {
    "duration": 236,
    "start_time": "2024-09-20T15:52:33.995Z"
   },
   {
    "duration": 167,
    "start_time": "2024-09-20T15:53:22.444Z"
   },
   {
    "duration": 176,
    "start_time": "2024-09-20T15:54:33.039Z"
   },
   {
    "duration": 348,
    "start_time": "2024-09-20T15:54:55.551Z"
   },
   {
    "duration": 148,
    "start_time": "2024-09-20T15:55:25.513Z"
   },
   {
    "duration": 245,
    "start_time": "2024-09-20T15:56:08.492Z"
   },
   {
    "duration": 149,
    "start_time": "2024-09-20T15:57:42.796Z"
   },
   {
    "duration": 150,
    "start_time": "2024-09-20T15:57:58.851Z"
   },
   {
    "duration": 149,
    "start_time": "2024-09-20T15:58:07.857Z"
   },
   {
    "duration": 143,
    "start_time": "2024-09-20T15:58:24.173Z"
   },
   {
    "duration": 154,
    "start_time": "2024-09-20T15:58:45.832Z"
   },
   {
    "duration": 172,
    "start_time": "2024-09-20T15:58:57.665Z"
   },
   {
    "duration": 145,
    "start_time": "2024-09-20T15:59:08.407Z"
   },
   {
    "duration": 40,
    "start_time": "2024-09-20T16:00:28.719Z"
   },
   {
    "duration": 43,
    "start_time": "2024-09-20T16:00:44.579Z"
   },
   {
    "duration": 144,
    "start_time": "2024-09-20T16:01:34.657Z"
   },
   {
    "duration": 153,
    "start_time": "2024-09-20T16:02:07.887Z"
   },
   {
    "duration": 140,
    "start_time": "2024-09-20T16:02:12.337Z"
   },
   {
    "duration": 183,
    "start_time": "2024-09-20T16:04:51.886Z"
   },
   {
    "duration": 225,
    "start_time": "2024-09-20T16:05:40.302Z"
   },
   {
    "duration": 379,
    "start_time": "2024-09-20T16:05:49.314Z"
   },
   {
    "duration": 206,
    "start_time": "2024-09-20T16:06:34.749Z"
   },
   {
    "duration": 230,
    "start_time": "2024-09-20T16:12:14.858Z"
   },
   {
    "duration": 5,
    "start_time": "2024-09-20T16:12:44.203Z"
   },
   {
    "duration": 147,
    "start_time": "2024-09-20T16:12:55.126Z"
   },
   {
    "duration": 147,
    "start_time": "2024-09-20T16:13:09.890Z"
   },
   {
    "duration": 145,
    "start_time": "2024-09-20T16:14:29.262Z"
   },
   {
    "duration": 153,
    "start_time": "2024-09-20T16:14:39.305Z"
   },
   {
    "duration": 234,
    "start_time": "2024-09-20T16:15:27.663Z"
   },
   {
    "duration": 144,
    "start_time": "2024-09-20T16:15:38.706Z"
   },
   {
    "duration": 232,
    "start_time": "2024-09-20T16:16:19.165Z"
   },
   {
    "duration": 147,
    "start_time": "2024-09-20T16:16:28.612Z"
   },
   {
    "duration": 40,
    "start_time": "2024-09-20T16:22:47.568Z"
   },
   {
    "duration": 157,
    "start_time": "2024-09-20T16:23:12.183Z"
   },
   {
    "duration": 154,
    "start_time": "2024-09-20T16:23:28.108Z"
   },
   {
    "duration": 44,
    "start_time": "2024-09-20T16:24:52.893Z"
   },
   {
    "duration": 45,
    "start_time": "2024-09-20T16:25:41.595Z"
   },
   {
    "duration": 149,
    "start_time": "2024-09-20T16:27:25.609Z"
   },
   {
    "duration": 158,
    "start_time": "2024-09-20T16:27:58.224Z"
   },
   {
    "duration": 230,
    "start_time": "2024-09-20T16:28:34.018Z"
   },
   {
    "duration": 156,
    "start_time": "2024-09-20T16:28:41.894Z"
   },
   {
    "duration": 147,
    "start_time": "2024-09-20T16:29:33.673Z"
   },
   {
    "duration": 287,
    "start_time": "2024-09-20T16:29:42.786Z"
   },
   {
    "duration": 250,
    "start_time": "2024-09-20T16:31:30.489Z"
   },
   {
    "duration": 239,
    "start_time": "2024-09-20T16:32:38.174Z"
   },
   {
    "duration": 187,
    "start_time": "2024-09-20T16:33:51.743Z"
   },
   {
    "duration": 167,
    "start_time": "2024-09-20T16:34:25.426Z"
   },
   {
    "duration": 173,
    "start_time": "2024-09-20T16:40:19.780Z"
   },
   {
    "duration": 168,
    "start_time": "2024-09-20T16:40:30.990Z"
   },
   {
    "duration": 16,
    "start_time": "2024-09-20T16:47:47.314Z"
   },
   {
    "duration": 108,
    "start_time": "2024-09-20T16:48:05.703Z"
   },
   {
    "duration": 922,
    "start_time": "2024-09-20T16:48:38.293Z"
   },
   {
    "duration": 994,
    "start_time": "2024-09-20T16:50:02.164Z"
   },
   {
    "duration": 5,
    "start_time": "2024-09-20T16:50:41.460Z"
   },
   {
    "duration": 918,
    "start_time": "2024-09-20T16:50:58.244Z"
   },
   {
    "duration": 206,
    "start_time": "2024-09-20T16:51:52.417Z"
   },
   {
    "duration": 273,
    "start_time": "2024-09-20T16:52:11.903Z"
   },
   {
    "duration": 262,
    "start_time": "2024-09-20T16:55:07.355Z"
   },
   {
    "duration": 173,
    "start_time": "2024-09-20T16:56:31.093Z"
   },
   {
    "duration": 127,
    "start_time": "2024-09-20T16:57:12.502Z"
   },
   {
    "duration": 132,
    "start_time": "2024-09-20T16:58:20.573Z"
   },
   {
    "duration": 132,
    "start_time": "2024-09-20T16:59:09.201Z"
   },
   {
    "duration": 294,
    "start_time": "2024-09-20T16:59:23.261Z"
   },
   {
    "duration": 170,
    "start_time": "2024-09-20T17:08:10.936Z"
   },
   {
    "duration": 168,
    "start_time": "2024-09-20T17:08:20.632Z"
   },
   {
    "duration": 176,
    "start_time": "2024-09-20T17:08:48.073Z"
   },
   {
    "duration": 171,
    "start_time": "2024-09-20T17:09:03.262Z"
   },
   {
    "duration": 227,
    "start_time": "2024-09-20T17:09:40.898Z"
   },
   {
    "duration": 170,
    "start_time": "2024-09-20T17:10:03.889Z"
   },
   {
    "duration": 51,
    "start_time": "2024-09-20T17:16:54.006Z"
   },
   {
    "duration": 89,
    "start_time": "2024-09-20T17:17:53.482Z"
   },
   {
    "duration": 172,
    "start_time": "2024-09-20T17:18:12.365Z"
   },
   {
    "duration": 63,
    "start_time": "2024-09-20T17:19:20.809Z"
   },
   {
    "duration": 223,
    "start_time": "2024-09-20T17:20:11.159Z"
   },
   {
    "duration": 169,
    "start_time": "2024-09-20T17:21:51.340Z"
   },
   {
    "duration": 176,
    "start_time": "2024-09-20T17:22:46.104Z"
   },
   {
    "duration": 186,
    "start_time": "2024-09-20T17:23:05.259Z"
   },
   {
    "duration": 172,
    "start_time": "2024-09-20T17:23:17.236Z"
   },
   {
    "duration": 179,
    "start_time": "2024-09-20T17:24:08.023Z"
   },
   {
    "duration": 41,
    "start_time": "2024-09-20T17:25:15.068Z"
   },
   {
    "duration": 42,
    "start_time": "2024-09-20T17:25:33.489Z"
   },
   {
    "duration": 39,
    "start_time": "2024-09-20T17:25:43.708Z"
   },
   {
    "duration": 38,
    "start_time": "2024-09-20T17:26:56.982Z"
   },
   {
    "duration": 39,
    "start_time": "2024-09-20T17:27:20.110Z"
   },
   {
    "duration": 173,
    "start_time": "2024-09-20T17:27:44.101Z"
   },
   {
    "duration": 174,
    "start_time": "2024-09-20T17:27:56.826Z"
   },
   {
    "duration": 199,
    "start_time": "2024-09-20T17:33:59.490Z"
   },
   {
    "duration": 123,
    "start_time": "2024-09-20T17:34:24.540Z"
   },
   {
    "duration": 113,
    "start_time": "2024-09-20T17:36:26.082Z"
   },
   {
    "duration": 289,
    "start_time": "2024-09-20T17:37:03.451Z"
   },
   {
    "duration": 298,
    "start_time": "2024-09-20T17:38:17.340Z"
   },
   {
    "duration": 501,
    "start_time": "2024-09-20T17:39:29.174Z"
   },
   {
    "duration": 299,
    "start_time": "2024-09-20T17:40:04.381Z"
   },
   {
    "duration": 293,
    "start_time": "2024-09-20T17:40:22.468Z"
   },
   {
    "duration": 286,
    "start_time": "2024-09-20T17:40:48.886Z"
   },
   {
    "duration": 303,
    "start_time": "2024-09-20T17:40:56.224Z"
   },
   {
    "duration": 287,
    "start_time": "2024-09-20T17:41:50.551Z"
   },
   {
    "duration": 257,
    "start_time": "2024-09-20T17:41:59.403Z"
   },
   {
    "duration": 270,
    "start_time": "2024-09-20T17:42:20.218Z"
   },
   {
    "duration": 297,
    "start_time": "2024-09-20T17:42:45.287Z"
   },
   {
    "duration": 280,
    "start_time": "2024-09-20T17:43:02.982Z"
   },
   {
    "duration": 283,
    "start_time": "2024-09-20T17:43:11.102Z"
   },
   {
    "duration": 13,
    "start_time": "2024-09-20T17:45:32.071Z"
   },
   {
    "duration": 183,
    "start_time": "2024-09-20T17:50:52.509Z"
   },
   {
    "duration": 182,
    "start_time": "2024-09-20T17:51:34.988Z"
   },
   {
    "duration": 239,
    "start_time": "2024-09-20T17:53:19.165Z"
   },
   {
    "duration": 247,
    "start_time": "2024-09-20T17:53:47.626Z"
   },
   {
    "duration": 126,
    "start_time": "2024-09-20T17:54:15.171Z"
   },
   {
    "duration": 261,
    "start_time": "2024-09-20T17:54:19.692Z"
   },
   {
    "duration": 382,
    "start_time": "2024-09-20T17:54:58.489Z"
   },
   {
    "duration": 240,
    "start_time": "2024-09-20T17:55:13.367Z"
   },
   {
    "duration": 468,
    "start_time": "2024-09-20T17:55:41.866Z"
   },
   {
    "duration": 236,
    "start_time": "2024-09-20T17:55:55.306Z"
   },
   {
    "duration": 243,
    "start_time": "2024-09-20T17:58:24.543Z"
   },
   {
    "duration": 237,
    "start_time": "2024-09-20T17:59:18.731Z"
   },
   {
    "duration": 169,
    "start_time": "2024-09-20T18:00:30.790Z"
   },
   {
    "duration": 170,
    "start_time": "2024-09-20T18:01:58.044Z"
   },
   {
    "duration": 242,
    "start_time": "2024-09-20T18:02:35.031Z"
   },
   {
    "duration": 280,
    "start_time": "2024-09-20T18:04:23.116Z"
   },
   {
    "duration": 274,
    "start_time": "2024-09-20T18:05:00.872Z"
   },
   {
    "duration": 191,
    "start_time": "2024-09-20T18:06:14.685Z"
   },
   {
    "duration": 13,
    "start_time": "2024-09-20T18:13:14.131Z"
   },
   {
    "duration": 4,
    "start_time": "2024-09-20T18:18:19.525Z"
   },
   {
    "duration": 12,
    "start_time": "2024-09-20T18:35:13.563Z"
   },
   {
    "duration": 6,
    "start_time": "2024-09-20T18:35:19.346Z"
   },
   {
    "duration": 6,
    "start_time": "2024-09-20T18:35:39.810Z"
   },
   {
    "duration": 159,
    "start_time": "2024-09-20T18:42:58.552Z"
   },
   {
    "duration": 451,
    "start_time": "2024-09-20T18:43:05.438Z"
   },
   {
    "duration": 1056,
    "start_time": "2024-09-20T18:43:05.892Z"
   },
   {
    "duration": 12,
    "start_time": "2024-09-20T18:43:06.949Z"
   },
   {
    "duration": 10,
    "start_time": "2024-09-20T18:43:06.962Z"
   },
   {
    "duration": 8,
    "start_time": "2024-09-20T18:43:06.974Z"
   },
   {
    "duration": 7,
    "start_time": "2024-09-20T18:43:06.984Z"
   },
   {
    "duration": 7,
    "start_time": "2024-09-20T18:43:06.992Z"
   },
   {
    "duration": 100,
    "start_time": "2024-09-20T18:43:07.032Z"
   },
   {
    "duration": 127,
    "start_time": "2024-09-20T18:43:07.134Z"
   },
   {
    "duration": 147,
    "start_time": "2024-09-20T18:43:07.263Z"
   },
   {
    "duration": 153,
    "start_time": "2024-09-20T18:43:07.412Z"
   },
   {
    "duration": 44,
    "start_time": "2024-09-20T18:43:07.567Z"
   },
   {
    "duration": 30,
    "start_time": "2024-09-20T18:43:07.613Z"
   },
   {
    "duration": 7,
    "start_time": "2024-09-20T18:43:07.648Z"
   },
   {
    "duration": 28,
    "start_time": "2024-09-20T18:43:07.658Z"
   },
   {
    "duration": 13,
    "start_time": "2024-09-20T18:43:07.688Z"
   },
   {
    "duration": 29,
    "start_time": "2024-09-20T18:43:07.703Z"
   },
   {
    "duration": 14,
    "start_time": "2024-09-20T18:43:07.735Z"
   },
   {
    "duration": 4,
    "start_time": "2024-09-20T18:43:07.751Z"
   },
   {
    "duration": 9,
    "start_time": "2024-09-20T18:43:07.759Z"
   },
   {
    "duration": 952,
    "start_time": "2024-09-20T18:43:07.770Z"
   },
   {
    "duration": 1777,
    "start_time": "2024-09-20T18:43:08.724Z"
   },
   {
    "duration": 6,
    "start_time": "2024-09-20T18:43:10.503Z"
   },
   {
    "duration": 21,
    "start_time": "2024-09-20T18:43:10.510Z"
   },
   {
    "duration": 6,
    "start_time": "2024-09-20T18:43:10.533Z"
   },
   {
    "duration": 10,
    "start_time": "2024-09-20T18:43:10.541Z"
   },
   {
    "duration": 5,
    "start_time": "2024-09-20T18:43:10.552Z"
   },
   {
    "duration": 5,
    "start_time": "2024-09-20T18:43:10.559Z"
   },
   {
    "duration": 658,
    "start_time": "2024-09-20T18:43:10.565Z"
   },
   {
    "duration": 19,
    "start_time": "2024-09-20T18:43:11.225Z"
   },
   {
    "duration": 30,
    "start_time": "2024-09-20T18:43:11.246Z"
   },
   {
    "duration": 14,
    "start_time": "2024-09-20T18:43:11.278Z"
   },
   {
    "duration": 6,
    "start_time": "2024-09-20T18:43:11.294Z"
   },
   {
    "duration": 37,
    "start_time": "2024-09-20T18:43:11.302Z"
   },
   {
    "duration": 6,
    "start_time": "2024-09-20T18:43:11.341Z"
   },
   {
    "duration": 271,
    "start_time": "2024-09-20T18:43:11.349Z"
   },
   {
    "duration": 215,
    "start_time": "2024-09-20T18:43:11.632Z"
   },
   {
    "duration": 298,
    "start_time": "2024-09-20T18:43:11.849Z"
   },
   {
    "duration": 268,
    "start_time": "2024-09-20T18:43:12.150Z"
   },
   {
    "duration": 217,
    "start_time": "2024-09-20T18:43:12.420Z"
   },
   {
    "duration": 449,
    "start_time": "2024-09-20T18:48:16.155Z"
   },
   {
    "duration": 1054,
    "start_time": "2024-09-20T18:48:16.606Z"
   },
   {
    "duration": 14,
    "start_time": "2024-09-20T18:48:17.662Z"
   },
   {
    "duration": 10,
    "start_time": "2024-09-20T18:48:17.678Z"
   },
   {
    "duration": 7,
    "start_time": "2024-09-20T18:48:17.689Z"
   },
   {
    "duration": 7,
    "start_time": "2024-09-20T18:48:17.698Z"
   },
   {
    "duration": 30,
    "start_time": "2024-09-20T18:48:17.706Z"
   },
   {
    "duration": 107,
    "start_time": "2024-09-20T18:48:17.737Z"
   },
   {
    "duration": 108,
    "start_time": "2024-09-20T18:48:17.846Z"
   },
   {
    "duration": 121,
    "start_time": "2024-09-20T18:48:17.957Z"
   },
   {
    "duration": 114,
    "start_time": "2024-09-20T18:48:18.082Z"
   },
   {
    "duration": 39,
    "start_time": "2024-09-20T18:48:18.198Z"
   },
   {
    "duration": 13,
    "start_time": "2024-09-20T18:48:18.239Z"
   },
   {
    "duration": 3,
    "start_time": "2024-09-20T18:48:18.253Z"
   },
   {
    "duration": 18,
    "start_time": "2024-09-20T18:48:18.258Z"
   },
   {
    "duration": 11,
    "start_time": "2024-09-20T18:48:18.278Z"
   },
   {
    "duration": 3,
    "start_time": "2024-09-20T18:48:18.291Z"
   },
   {
    "duration": 45,
    "start_time": "2024-09-20T18:48:18.296Z"
   },
   {
    "duration": 5,
    "start_time": "2024-09-20T18:48:18.343Z"
   },
   {
    "duration": 8,
    "start_time": "2024-09-20T18:48:18.349Z"
   },
   {
    "duration": 917,
    "start_time": "2024-09-20T18:48:18.359Z"
   },
   {
    "duration": 1756,
    "start_time": "2024-09-20T18:48:19.277Z"
   },
   {
    "duration": 7,
    "start_time": "2024-09-20T18:48:21.035Z"
   },
   {
    "duration": 9,
    "start_time": "2024-09-20T18:48:21.043Z"
   },
   {
    "duration": 7,
    "start_time": "2024-09-20T18:48:21.053Z"
   },
   {
    "duration": 9,
    "start_time": "2024-09-20T18:48:21.062Z"
   },
   {
    "duration": 5,
    "start_time": "2024-09-20T18:48:21.073Z"
   },
   {
    "duration": 5,
    "start_time": "2024-09-20T18:48:21.081Z"
   },
   {
    "duration": 674,
    "start_time": "2024-09-20T18:48:21.088Z"
   },
   {
    "duration": 16,
    "start_time": "2024-09-20T18:48:21.764Z"
   },
   {
    "duration": 31,
    "start_time": "2024-09-20T18:48:21.781Z"
   },
   {
    "duration": 14,
    "start_time": "2024-09-20T18:48:21.831Z"
   },
   {
    "duration": 5,
    "start_time": "2024-09-20T18:48:21.847Z"
   },
   {
    "duration": 11,
    "start_time": "2024-09-20T18:48:21.854Z"
   },
   {
    "duration": 6,
    "start_time": "2024-09-20T18:48:21.866Z"
   },
   {
    "duration": 285,
    "start_time": "2024-09-20T18:48:21.874Z"
   },
   {
    "duration": 189,
    "start_time": "2024-09-20T18:48:22.161Z"
   },
   {
    "duration": 283,
    "start_time": "2024-09-20T18:48:22.353Z"
   },
   {
    "duration": 236,
    "start_time": "2024-09-20T18:48:22.638Z"
   },
   {
    "duration": 201,
    "start_time": "2024-09-20T18:48:22.876Z"
   },
   {
    "duration": 200,
    "start_time": "2024-09-20T18:51:48.076Z"
   },
   {
    "duration": 833,
    "start_time": "2024-09-20T18:58:32.962Z"
   },
   {
    "duration": 5,
    "start_time": "2024-09-20T18:58:52.707Z"
   },
   {
    "duration": 6,
    "start_time": "2024-09-20T19:10:13.050Z"
   },
   {
    "duration": 377,
    "start_time": "2024-09-20T19:10:59.572Z"
   },
   {
    "duration": 1008,
    "start_time": "2024-09-20T19:12:09.861Z"
   },
   {
    "duration": 1031,
    "start_time": "2024-09-20T19:12:28.322Z"
   },
   {
    "duration": 4,
    "start_time": "2024-09-20T19:14:57.969Z"
   },
   {
    "duration": 5,
    "start_time": "2024-09-20T19:15:08.065Z"
   },
   {
    "duration": 2,
    "start_time": "2024-09-20T19:15:34.657Z"
   },
   {
    "duration": 49,
    "start_time": "2024-09-20T19:17:21.508Z"
   },
   {
    "duration": 63,
    "start_time": "2024-09-20T19:17:33.572Z"
   },
   {
    "duration": 137,
    "start_time": "2024-09-20T19:18:31.490Z"
   },
   {
    "duration": 129,
    "start_time": "2024-09-20T19:19:36.831Z"
   },
   {
    "duration": 133,
    "start_time": "2024-09-20T19:19:58.116Z"
   },
   {
    "duration": 151,
    "start_time": "2024-09-20T19:21:00.707Z"
   },
   {
    "duration": 151,
    "start_time": "2024-09-20T19:21:49.333Z"
   },
   {
    "duration": 486,
    "start_time": "2024-09-20T19:24:58.245Z"
   },
   {
    "duration": 21,
    "start_time": "2024-09-20T19:28:53.224Z"
   },
   {
    "duration": 3,
    "start_time": "2024-09-20T19:29:00.807Z"
   },
   {
    "duration": 194,
    "start_time": "2024-09-20T19:36:02.156Z"
   },
   {
    "duration": 5,
    "start_time": "2024-09-20T19:39:39.165Z"
   },
   {
    "duration": 199,
    "start_time": "2024-09-20T19:39:59.181Z"
   },
   {
    "duration": 198,
    "start_time": "2024-09-20T19:40:36.069Z"
   },
   {
    "duration": 465,
    "start_time": "2024-09-20T19:41:19.625Z"
   },
   {
    "duration": 340,
    "start_time": "2024-09-20T19:41:43.400Z"
   },
   {
    "duration": 337,
    "start_time": "2024-09-20T19:41:49.489Z"
   },
   {
    "duration": 371,
    "start_time": "2024-09-20T19:42:02.034Z"
   },
   {
    "duration": 182,
    "start_time": "2024-09-20T19:42:09.365Z"
   },
   {
    "duration": 310,
    "start_time": "2024-09-20T19:42:50.370Z"
   },
   {
    "duration": 309,
    "start_time": "2024-09-20T19:43:12.364Z"
   },
   {
    "duration": 157,
    "start_time": "2024-09-20T20:58:45.188Z"
   },
   {
    "duration": 2143,
    "start_time": "2024-09-20T20:58:56.195Z"
   },
   {
    "duration": 1074,
    "start_time": "2024-09-20T20:58:58.341Z"
   },
   {
    "duration": 16,
    "start_time": "2024-09-20T20:58:59.417Z"
   },
   {
    "duration": 9,
    "start_time": "2024-09-20T20:58:59.435Z"
   },
   {
    "duration": 8,
    "start_time": "2024-09-20T20:58:59.447Z"
   },
   {
    "duration": 8,
    "start_time": "2024-09-20T20:58:59.456Z"
   },
   {
    "duration": 6,
    "start_time": "2024-09-20T20:58:59.465Z"
   },
   {
    "duration": 134,
    "start_time": "2024-09-20T20:58:59.473Z"
   },
   {
    "duration": 110,
    "start_time": "2024-09-20T20:58:59.609Z"
   },
   {
    "duration": 123,
    "start_time": "2024-09-20T20:58:59.721Z"
   },
   {
    "duration": 107,
    "start_time": "2024-09-20T20:58:59.846Z"
   },
   {
    "duration": 36,
    "start_time": "2024-09-20T20:58:59.955Z"
   },
   {
    "duration": 12,
    "start_time": "2024-09-20T20:58:59.993Z"
   },
   {
    "duration": 3,
    "start_time": "2024-09-20T20:59:00.008Z"
   },
   {
    "duration": 18,
    "start_time": "2024-09-20T20:59:00.030Z"
   },
   {
    "duration": 12,
    "start_time": "2024-09-20T20:59:00.050Z"
   },
   {
    "duration": 4,
    "start_time": "2024-09-20T20:59:00.063Z"
   },
   {
    "duration": 9,
    "start_time": "2024-09-20T20:59:00.068Z"
   },
   {
    "duration": 4,
    "start_time": "2024-09-20T20:59:00.079Z"
   },
   {
    "duration": 47,
    "start_time": "2024-09-20T20:59:00.085Z"
   },
   {
    "duration": 887,
    "start_time": "2024-09-20T20:59:00.134Z"
   },
   {
    "duration": 1681,
    "start_time": "2024-09-20T20:59:01.023Z"
   },
   {
    "duration": 5,
    "start_time": "2024-09-20T20:59:02.706Z"
   },
   {
    "duration": 18,
    "start_time": "2024-09-20T20:59:02.713Z"
   },
   {
    "duration": 6,
    "start_time": "2024-09-20T20:59:02.733Z"
   },
   {
    "duration": 10,
    "start_time": "2024-09-20T20:59:02.741Z"
   },
   {
    "duration": 5,
    "start_time": "2024-09-20T20:59:02.753Z"
   },
   {
    "duration": 7,
    "start_time": "2024-09-20T20:59:02.760Z"
   },
   {
    "duration": 650,
    "start_time": "2024-09-20T20:59:02.769Z"
   },
   {
    "duration": 19,
    "start_time": "2024-09-20T20:59:03.421Z"
   },
   {
    "duration": 30,
    "start_time": "2024-09-20T20:59:03.442Z"
   },
   {
    "duration": 13,
    "start_time": "2024-09-20T20:59:03.474Z"
   },
   {
    "duration": 7,
    "start_time": "2024-09-20T20:59:03.489Z"
   },
   {
    "duration": 43,
    "start_time": "2024-09-20T20:59:03.498Z"
   },
   {
    "duration": 6,
    "start_time": "2024-09-20T20:59:03.543Z"
   },
   {
    "duration": 281,
    "start_time": "2024-09-20T20:59:03.550Z"
   },
   {
    "duration": 180,
    "start_time": "2024-09-20T20:59:03.833Z"
   },
   {
    "duration": 318,
    "start_time": "2024-09-20T20:59:04.015Z"
   },
   {
    "duration": 237,
    "start_time": "2024-09-20T20:59:04.334Z"
   },
   {
    "duration": 204,
    "start_time": "2024-09-20T20:59:04.573Z"
   },
   {
    "duration": 120,
    "start_time": "2024-09-20T20:59:04.781Z"
   },
   {
    "duration": 773,
    "start_time": "2024-09-20T21:10:47.668Z"
   },
   {
    "duration": 1552,
    "start_time": "2024-09-20T21:12:41.133Z"
   },
   {
    "duration": 780,
    "start_time": "2024-09-20T21:13:01.116Z"
   },
   {
    "duration": 1532,
    "start_time": "2024-09-20T21:13:18.817Z"
   },
   {
    "duration": 1812,
    "start_time": "2024-09-20T21:16:44.930Z"
   },
   {
    "duration": 2147,
    "start_time": "2024-09-20T21:18:03.297Z"
   },
   {
    "duration": 1783,
    "start_time": "2024-09-20T21:19:00.683Z"
   },
   {
    "duration": 1866,
    "start_time": "2024-09-20T21:20:07.713Z"
   },
   {
    "duration": 1917,
    "start_time": "2024-09-20T21:28:05.708Z"
   },
   {
    "duration": 1926,
    "start_time": "2024-09-20T21:30:25.109Z"
   },
   {
    "duration": 157,
    "start_time": "2024-09-21T15:25:49.057Z"
   },
   {
    "duration": 2129,
    "start_time": "2024-09-21T15:25:56.650Z"
   },
   {
    "duration": 1027,
    "start_time": "2024-09-21T15:25:58.781Z"
   },
   {
    "duration": 12,
    "start_time": "2024-09-21T15:25:59.812Z"
   },
   {
    "duration": 10,
    "start_time": "2024-09-21T15:25:59.826Z"
   },
   {
    "duration": 7,
    "start_time": "2024-09-21T15:25:59.839Z"
   },
   {
    "duration": 9,
    "start_time": "2024-09-21T15:25:59.847Z"
   },
   {
    "duration": 9,
    "start_time": "2024-09-21T15:25:59.858Z"
   },
   {
    "duration": 146,
    "start_time": "2024-09-21T15:25:59.869Z"
   },
   {
    "duration": 111,
    "start_time": "2024-09-21T15:26:00.017Z"
   },
   {
    "duration": 121,
    "start_time": "2024-09-21T15:26:00.130Z"
   },
   {
    "duration": 105,
    "start_time": "2024-09-21T15:26:00.253Z"
   },
   {
    "duration": 33,
    "start_time": "2024-09-21T15:26:00.360Z"
   },
   {
    "duration": 25,
    "start_time": "2024-09-21T15:26:00.395Z"
   },
   {
    "duration": 4,
    "start_time": "2024-09-21T15:26:00.423Z"
   },
   {
    "duration": 18,
    "start_time": "2024-09-21T15:26:00.429Z"
   },
   {
    "duration": 11,
    "start_time": "2024-09-21T15:26:00.450Z"
   },
   {
    "duration": 4,
    "start_time": "2024-09-21T15:26:00.462Z"
   },
   {
    "duration": 9,
    "start_time": "2024-09-21T15:26:00.467Z"
   },
   {
    "duration": 4,
    "start_time": "2024-09-21T15:26:00.511Z"
   },
   {
    "duration": 9,
    "start_time": "2024-09-21T15:26:00.517Z"
   },
   {
    "duration": 904,
    "start_time": "2024-09-21T15:26:00.528Z"
   },
   {
    "duration": 1668,
    "start_time": "2024-09-21T15:26:01.434Z"
   },
   {
    "duration": 10,
    "start_time": "2024-09-21T15:26:03.104Z"
   },
   {
    "duration": 9,
    "start_time": "2024-09-21T15:26:03.115Z"
   },
   {
    "duration": 6,
    "start_time": "2024-09-21T15:26:03.126Z"
   },
   {
    "duration": 10,
    "start_time": "2024-09-21T15:26:03.134Z"
   },
   {
    "duration": 6,
    "start_time": "2024-09-21T15:26:03.145Z"
   },
   {
    "duration": 6,
    "start_time": "2024-09-21T15:26:03.152Z"
   },
   {
    "duration": 677,
    "start_time": "2024-09-21T15:26:03.159Z"
   },
   {
    "duration": 15,
    "start_time": "2024-09-21T15:26:03.838Z"
   },
   {
    "duration": 30,
    "start_time": "2024-09-21T15:26:03.855Z"
   },
   {
    "duration": 31,
    "start_time": "2024-09-21T15:26:03.886Z"
   },
   {
    "duration": 6,
    "start_time": "2024-09-21T15:26:03.919Z"
   },
   {
    "duration": 13,
    "start_time": "2024-09-21T15:26:03.926Z"
   },
   {
    "duration": 5,
    "start_time": "2024-09-21T15:26:03.941Z"
   },
   {
    "duration": 333,
    "start_time": "2024-09-21T15:26:03.947Z"
   },
   {
    "duration": 183,
    "start_time": "2024-09-21T15:26:04.282Z"
   },
   {
    "duration": 292,
    "start_time": "2024-09-21T15:26:04.467Z"
   },
   {
    "duration": 251,
    "start_time": "2024-09-21T15:26:04.761Z"
   },
   {
    "duration": 211,
    "start_time": "2024-09-21T15:26:05.013Z"
   },
   {
    "duration": 1950,
    "start_time": "2024-09-21T15:26:05.228Z"
   },
   {
    "duration": 8,
    "start_time": "2024-09-21T15:26:07.181Z"
   },
   {
    "duration": 181,
    "start_time": "2024-09-21T15:26:25.535Z"
   },
   {
    "duration": 2777,
    "start_time": "2024-09-21T15:26:40.314Z"
   },
   {
    "duration": 8,
    "start_time": "2024-09-21T15:27:53.314Z"
   },
   {
    "duration": 183,
    "start_time": "2024-09-21T15:28:58.205Z"
   },
   {
    "duration": 175,
    "start_time": "2024-09-21T15:29:18.685Z"
   },
   {
    "duration": 1804,
    "start_time": "2024-09-21T15:34:24.019Z"
   },
   {
    "duration": 1960,
    "start_time": "2024-09-21T15:35:24.399Z"
   },
   {
    "duration": 542,
    "start_time": "2024-09-21T15:49:48.337Z"
   },
   {
    "duration": 414,
    "start_time": "2024-09-21T15:50:41.602Z"
   },
   {
    "duration": 900,
    "start_time": "2024-09-21T15:50:42.019Z"
   },
   {
    "duration": 11,
    "start_time": "2024-09-21T15:50:42.921Z"
   },
   {
    "duration": 9,
    "start_time": "2024-09-21T15:50:42.935Z"
   },
   {
    "duration": 10,
    "start_time": "2024-09-21T15:50:42.945Z"
   },
   {
    "duration": 8,
    "start_time": "2024-09-21T15:50:42.956Z"
   },
   {
    "duration": 6,
    "start_time": "2024-09-21T15:50:42.966Z"
   },
   {
    "duration": 129,
    "start_time": "2024-09-21T15:50:42.973Z"
   },
   {
    "duration": 107,
    "start_time": "2024-09-21T15:50:43.105Z"
   },
   {
    "duration": 113,
    "start_time": "2024-09-21T15:50:43.215Z"
   },
   {
    "duration": 111,
    "start_time": "2024-09-21T15:50:43.329Z"
   },
   {
    "duration": 33,
    "start_time": "2024-09-21T15:50:43.442Z"
   },
   {
    "duration": 12,
    "start_time": "2024-09-21T15:50:43.477Z"
   },
   {
    "duration": 23,
    "start_time": "2024-09-21T15:50:43.491Z"
   },
   {
    "duration": 18,
    "start_time": "2024-09-21T15:50:43.517Z"
   },
   {
    "duration": 11,
    "start_time": "2024-09-21T15:50:43.537Z"
   },
   {
    "duration": 4,
    "start_time": "2024-09-21T15:50:43.550Z"
   },
   {
    "duration": 8,
    "start_time": "2024-09-21T15:50:43.556Z"
   },
   {
    "duration": 3,
    "start_time": "2024-09-21T15:50:43.566Z"
   },
   {
    "duration": 46,
    "start_time": "2024-09-21T15:50:43.570Z"
   },
   {
    "duration": 891,
    "start_time": "2024-09-21T15:50:43.617Z"
   },
   {
    "duration": 1669,
    "start_time": "2024-09-21T15:50:44.512Z"
   },
   {
    "duration": 5,
    "start_time": "2024-09-21T15:50:46.183Z"
   },
   {
    "duration": 22,
    "start_time": "2024-09-21T15:50:46.190Z"
   },
   {
    "duration": 6,
    "start_time": "2024-09-21T15:50:46.213Z"
   },
   {
    "duration": 11,
    "start_time": "2024-09-21T15:50:46.220Z"
   },
   {
    "duration": 6,
    "start_time": "2024-09-21T15:50:46.232Z"
   },
   {
    "duration": 5,
    "start_time": "2024-09-21T15:50:46.242Z"
   },
   {
    "duration": 651,
    "start_time": "2024-09-21T15:50:46.248Z"
   },
   {
    "duration": 20,
    "start_time": "2024-09-21T15:50:46.901Z"
   },
   {
    "duration": 30,
    "start_time": "2024-09-21T15:50:46.923Z"
   },
   {
    "duration": 13,
    "start_time": "2024-09-21T15:50:46.955Z"
   },
   {
    "duration": 6,
    "start_time": "2024-09-21T15:50:46.969Z"
   },
   {
    "duration": 40,
    "start_time": "2024-09-21T15:50:46.977Z"
   },
   {
    "duration": 5,
    "start_time": "2024-09-21T15:50:47.019Z"
   },
   {
    "duration": 262,
    "start_time": "2024-09-21T15:50:47.025Z"
   },
   {
    "duration": 183,
    "start_time": "2024-09-21T15:50:47.289Z"
   },
   {
    "duration": 274,
    "start_time": "2024-09-21T15:50:47.474Z"
   },
   {
    "duration": 238,
    "start_time": "2024-09-21T15:50:47.751Z"
   },
   {
    "duration": 781,
    "start_time": "2024-09-21T15:50:47.991Z"
   },
   {
    "duration": 0,
    "start_time": "2024-09-21T15:50:48.774Z"
   },
   {
    "duration": 0,
    "start_time": "2024-09-21T15:50:48.775Z"
   },
   {
    "duration": 0,
    "start_time": "2024-09-21T15:50:48.777Z"
   },
   {
    "duration": 219,
    "start_time": "2024-09-21T15:51:45.724Z"
   },
   {
    "duration": 191,
    "start_time": "2024-09-21T15:52:01.231Z"
   },
   {
    "duration": 47,
    "start_time": "2024-09-21T15:52:31.992Z"
   },
   {
    "duration": 51,
    "start_time": "2024-09-21T15:53:53.223Z"
   },
   {
    "duration": 48,
    "start_time": "2024-09-21T15:54:05.664Z"
   },
   {
    "duration": 3,
    "start_time": "2024-09-21T15:56:11.066Z"
   },
   {
    "duration": 407,
    "start_time": "2024-09-21T15:56:20.761Z"
   },
   {
    "duration": 195,
    "start_time": "2024-09-21T15:57:24.727Z"
   },
   {
    "duration": 112,
    "start_time": "2024-09-21T15:57:45.331Z"
   },
   {
    "duration": 116,
    "start_time": "2024-09-21T15:58:04.191Z"
   },
   {
    "duration": 48,
    "start_time": "2024-09-21T15:58:46.455Z"
   },
   {
    "duration": 41,
    "start_time": "2024-09-21T15:59:18.133Z"
   },
   {
    "duration": 79,
    "start_time": "2024-09-21T15:59:32.723Z"
   },
   {
    "duration": 157,
    "start_time": "2024-09-21T16:03:01.601Z"
   },
   {
    "duration": 40,
    "start_time": "2024-09-21T16:03:44.441Z"
   },
   {
    "duration": 53,
    "start_time": "2024-09-21T16:04:08.582Z"
   },
   {
    "duration": 54,
    "start_time": "2024-09-21T16:04:51.883Z"
   },
   {
    "duration": 40,
    "start_time": "2024-09-21T16:06:45.439Z"
   },
   {
    "duration": 48,
    "start_time": "2024-09-21T16:07:09.259Z"
   },
   {
    "duration": 54,
    "start_time": "2024-09-21T16:07:25.955Z"
   },
   {
    "duration": 18,
    "start_time": "2024-09-21T16:07:51.284Z"
   },
   {
    "duration": 18,
    "start_time": "2024-09-21T16:07:58.534Z"
   },
   {
    "duration": 17,
    "start_time": "2024-09-21T16:08:14.920Z"
   },
   {
    "duration": 49,
    "start_time": "2024-09-21T16:10:19.057Z"
   },
   {
    "duration": 49,
    "start_time": "2024-09-21T16:11:07.958Z"
   },
   {
    "duration": 51,
    "start_time": "2024-09-21T16:11:19.670Z"
   },
   {
    "duration": 47,
    "start_time": "2024-09-21T16:12:37.090Z"
   },
   {
    "duration": 105,
    "start_time": "2024-09-21T16:13:33.196Z"
   },
   {
    "duration": 107,
    "start_time": "2024-09-21T16:14:12.128Z"
   },
   {
    "duration": 108,
    "start_time": "2024-09-21T16:15:09.432Z"
   },
   {
    "duration": 3,
    "start_time": "2024-09-21T16:15:35.884Z"
   },
   {
    "duration": 109,
    "start_time": "2024-09-21T16:15:51.745Z"
   },
   {
    "duration": 135,
    "start_time": "2024-09-21T16:19:01.049Z"
   },
   {
    "duration": 107,
    "start_time": "2024-09-21T16:19:21.033Z"
   },
   {
    "duration": 47,
    "start_time": "2024-09-21T16:20:21.336Z"
   },
   {
    "duration": 91,
    "start_time": "2024-09-21T16:21:16.003Z"
   },
   {
    "duration": 6,
    "start_time": "2024-09-21T16:36:30.582Z"
   },
   {
    "duration": 244,
    "start_time": "2024-09-21T16:36:45.221Z"
   },
   {
    "duration": 171,
    "start_time": "2024-09-21T16:37:05.862Z"
   },
   {
    "duration": 268,
    "start_time": "2024-09-21T16:43:45.526Z"
   },
   {
    "duration": 336,
    "start_time": "2024-09-21T16:44:31.750Z"
   },
   {
    "duration": 191,
    "start_time": "2024-09-21T16:45:21.525Z"
   },
   {
    "duration": 157,
    "start_time": "2024-09-21T18:02:43.833Z"
   },
   {
    "duration": 13,
    "start_time": "2024-09-21T18:02:56.677Z"
   },
   {
    "duration": 2130,
    "start_time": "2024-09-21T18:03:05.413Z"
   },
   {
    "duration": 1095,
    "start_time": "2024-09-21T18:03:07.545Z"
   },
   {
    "duration": 11,
    "start_time": "2024-09-21T18:03:08.642Z"
   },
   {
    "duration": 9,
    "start_time": "2024-09-21T18:03:08.655Z"
   },
   {
    "duration": 7,
    "start_time": "2024-09-21T18:03:08.667Z"
   },
   {
    "duration": 8,
    "start_time": "2024-09-21T18:03:08.676Z"
   },
   {
    "duration": 7,
    "start_time": "2024-09-21T18:03:08.711Z"
   },
   {
    "duration": 103,
    "start_time": "2024-09-21T18:03:08.720Z"
   },
   {
    "duration": 107,
    "start_time": "2024-09-21T18:03:08.825Z"
   },
   {
    "duration": 128,
    "start_time": "2024-09-21T18:03:08.936Z"
   },
   {
    "duration": 109,
    "start_time": "2024-09-21T18:03:09.066Z"
   },
   {
    "duration": 44,
    "start_time": "2024-09-21T18:03:09.177Z"
   },
   {
    "duration": 13,
    "start_time": "2024-09-21T18:03:09.223Z"
   },
   {
    "duration": 4,
    "start_time": "2024-09-21T18:03:09.238Z"
   },
   {
    "duration": 17,
    "start_time": "2024-09-21T18:03:09.244Z"
   },
   {
    "duration": 13,
    "start_time": "2024-09-21T18:03:09.263Z"
   },
   {
    "duration": 37,
    "start_time": "2024-09-21T18:03:09.278Z"
   },
   {
    "duration": 9,
    "start_time": "2024-09-21T18:03:09.317Z"
   },
   {
    "duration": 4,
    "start_time": "2024-09-21T18:03:09.327Z"
   },
   {
    "duration": 9,
    "start_time": "2024-09-21T18:03:09.332Z"
   },
   {
    "duration": 935,
    "start_time": "2024-09-21T18:03:09.343Z"
   },
   {
    "duration": 1689,
    "start_time": "2024-09-21T18:03:10.280Z"
   },
   {
    "duration": 6,
    "start_time": "2024-09-21T18:03:11.971Z"
   },
   {
    "duration": 9,
    "start_time": "2024-09-21T18:03:11.979Z"
   },
   {
    "duration": 26,
    "start_time": "2024-09-21T18:03:11.989Z"
   },
   {
    "duration": 11,
    "start_time": "2024-09-21T18:03:12.016Z"
   },
   {
    "duration": 6,
    "start_time": "2024-09-21T18:03:12.029Z"
   },
   {
    "duration": 5,
    "start_time": "2024-09-21T18:03:12.039Z"
   },
   {
    "duration": 648,
    "start_time": "2024-09-21T18:03:12.046Z"
   },
   {
    "duration": 24,
    "start_time": "2024-09-21T18:03:12.696Z"
   },
   {
    "duration": 29,
    "start_time": "2024-09-21T18:03:12.722Z"
   },
   {
    "duration": 14,
    "start_time": "2024-09-21T18:03:12.753Z"
   },
   {
    "duration": 7,
    "start_time": "2024-09-21T18:03:12.769Z"
   },
   {
    "duration": 40,
    "start_time": "2024-09-21T18:03:12.778Z"
   },
   {
    "duration": 6,
    "start_time": "2024-09-21T18:03:12.820Z"
   },
   {
    "duration": 260,
    "start_time": "2024-09-21T18:03:12.828Z"
   },
   {
    "duration": 179,
    "start_time": "2024-09-21T18:03:13.090Z"
   },
   {
    "duration": 314,
    "start_time": "2024-09-21T18:03:13.271Z"
   },
   {
    "duration": 236,
    "start_time": "2024-09-21T18:03:13.587Z"
   },
   {
    "duration": 197,
    "start_time": "2024-09-21T18:03:13.824Z"
   },
   {
    "duration": 1919,
    "start_time": "2024-09-21T18:03:14.023Z"
   },
   {
    "duration": 9,
    "start_time": "2024-09-21T18:12:33.623Z"
   },
   {
    "duration": 7,
    "start_time": "2024-09-21T18:12:56.697Z"
   },
   {
    "duration": 6,
    "start_time": "2024-09-21T18:15:03.578Z"
   },
   {
    "duration": 9,
    "start_time": "2024-09-21T18:16:26.162Z"
   },
   {
    "duration": 6,
    "start_time": "2024-09-21T18:17:05.280Z"
   },
   {
    "duration": 6,
    "start_time": "2024-09-21T18:21:32.924Z"
   },
   {
    "duration": 6,
    "start_time": "2024-09-21T18:25:34.084Z"
   },
   {
    "duration": 8,
    "start_time": "2024-09-21T18:25:56.739Z"
   },
   {
    "duration": 5,
    "start_time": "2024-09-21T18:26:06.472Z"
   },
   {
    "duration": 8,
    "start_time": "2024-09-21T18:33:33.141Z"
   },
   {
    "duration": 10,
    "start_time": "2024-09-21T18:33:54.218Z"
   },
   {
    "duration": 10,
    "start_time": "2024-09-21T18:40:21.837Z"
   },
   {
    "duration": 9,
    "start_time": "2024-09-21T18:41:40.568Z"
   },
   {
    "duration": 10,
    "start_time": "2024-09-21T18:41:58.554Z"
   },
   {
    "duration": 363,
    "start_time": "2024-09-21T18:43:05.434Z"
   },
   {
    "duration": 31,
    "start_time": "2024-09-21T18:44:05.336Z"
   },
   {
    "duration": 7,
    "start_time": "2024-09-21T18:44:40.587Z"
   },
   {
    "duration": 30,
    "start_time": "2024-09-21T18:47:17.421Z"
   },
   {
    "duration": 18,
    "start_time": "2024-09-21T18:47:49.969Z"
   },
   {
    "duration": 7,
    "start_time": "2024-09-21T18:47:55.424Z"
   },
   {
    "duration": 10,
    "start_time": "2024-09-21T18:48:32.640Z"
   },
   {
    "duration": 9,
    "start_time": "2024-09-21T18:51:18.030Z"
   },
   {
    "duration": 9,
    "start_time": "2024-09-21T18:52:02.876Z"
   },
   {
    "duration": 8,
    "start_time": "2024-09-21T18:52:13.560Z"
   },
   {
    "duration": 17,
    "start_time": "2024-09-21T18:53:18.294Z"
   },
   {
    "duration": 31,
    "start_time": "2024-09-21T18:53:31.954Z"
   },
   {
    "duration": 11,
    "start_time": "2024-09-21T18:53:51.698Z"
   },
   {
    "duration": 6,
    "start_time": "2024-09-21T18:56:05.725Z"
   },
   {
    "duration": 390,
    "start_time": "2024-09-21T18:56:14.811Z"
   },
   {
    "duration": 6,
    "start_time": "2024-09-21T19:00:16.210Z"
   },
   {
    "duration": 7,
    "start_time": "2024-09-21T19:00:32.532Z"
   },
   {
    "duration": 3,
    "start_time": "2024-09-21T19:01:29.363Z"
   },
   {
    "duration": 206,
    "start_time": "2024-09-21T19:01:49.208Z"
   },
   {
    "duration": 8,
    "start_time": "2024-09-21T19:02:37.798Z"
   },
   {
    "duration": 44,
    "start_time": "2024-09-21T19:03:56.193Z"
   },
   {
    "duration": 15,
    "start_time": "2024-09-21T19:04:43.599Z"
   },
   {
    "duration": 6,
    "start_time": "2024-09-21T19:07:21.471Z"
   },
   {
    "duration": 8,
    "start_time": "2024-09-21T19:18:41.716Z"
   },
   {
    "duration": 7,
    "start_time": "2024-09-21T19:18:47.706Z"
   },
   {
    "duration": 8,
    "start_time": "2024-09-21T19:23:52.786Z"
   },
   {
    "duration": 7,
    "start_time": "2024-09-21T19:24:03.323Z"
   },
   {
    "duration": 12,
    "start_time": "2024-09-21T19:24:44.349Z"
   },
   {
    "duration": 3,
    "start_time": "2024-09-21T19:25:59.932Z"
   },
   {
    "duration": 6,
    "start_time": "2024-09-21T19:26:07.109Z"
   },
   {
    "duration": 14,
    "start_time": "2024-09-21T19:29:01.617Z"
   },
   {
    "duration": 6,
    "start_time": "2024-09-21T19:29:39.770Z"
   },
   {
    "duration": 6,
    "start_time": "2024-09-21T19:37:02.801Z"
   },
   {
    "duration": 5,
    "start_time": "2024-09-21T19:37:11.033Z"
   },
   {
    "duration": 9,
    "start_time": "2024-09-21T19:38:26.232Z"
   },
   {
    "duration": 8,
    "start_time": "2024-09-21T19:39:27.424Z"
   },
   {
    "duration": 13,
    "start_time": "2024-09-21T19:40:31.931Z"
   },
   {
    "duration": 13,
    "start_time": "2024-09-21T19:44:17.906Z"
   },
   {
    "duration": 8,
    "start_time": "2024-09-21T19:44:36.932Z"
   },
   {
    "duration": 11,
    "start_time": "2024-09-21T19:45:18.109Z"
   },
   {
    "duration": 14,
    "start_time": "2024-09-21T19:46:17.576Z"
   },
   {
    "duration": 12,
    "start_time": "2024-09-21T19:46:33.557Z"
   },
   {
    "duration": 7,
    "start_time": "2024-09-21T19:46:53.391Z"
   },
   {
    "duration": 8,
    "start_time": "2024-09-21T19:47:13.072Z"
   },
   {
    "duration": 2,
    "start_time": "2024-09-21T19:47:23.774Z"
   },
   {
    "duration": 7,
    "start_time": "2024-09-21T19:47:29.771Z"
   },
   {
    "duration": 450,
    "start_time": "2024-09-21T19:48:06.641Z"
   },
   {
    "duration": 903,
    "start_time": "2024-09-21T19:48:07.094Z"
   },
   {
    "duration": 16,
    "start_time": "2024-09-21T19:48:07.999Z"
   },
   {
    "duration": 12,
    "start_time": "2024-09-21T19:48:08.018Z"
   },
   {
    "duration": 11,
    "start_time": "2024-09-21T19:48:08.031Z"
   },
   {
    "duration": 7,
    "start_time": "2024-09-21T19:48:08.044Z"
   },
   {
    "duration": 6,
    "start_time": "2024-09-21T19:48:08.053Z"
   },
   {
    "duration": 126,
    "start_time": "2024-09-21T19:48:08.061Z"
   },
   {
    "duration": 102,
    "start_time": "2024-09-21T19:48:08.189Z"
   },
   {
    "duration": 112,
    "start_time": "2024-09-21T19:48:08.295Z"
   },
   {
    "duration": 105,
    "start_time": "2024-09-21T19:48:08.409Z"
   },
   {
    "duration": 34,
    "start_time": "2024-09-21T19:48:08.516Z"
   },
   {
    "duration": 12,
    "start_time": "2024-09-21T19:48:08.552Z"
   },
   {
    "duration": 4,
    "start_time": "2024-09-21T19:48:08.565Z"
   },
   {
    "duration": 40,
    "start_time": "2024-09-21T19:48:08.571Z"
   },
   {
    "duration": 13,
    "start_time": "2024-09-21T19:48:08.613Z"
   },
   {
    "duration": 4,
    "start_time": "2024-09-21T19:48:08.628Z"
   },
   {
    "duration": 9,
    "start_time": "2024-09-21T19:48:08.634Z"
   },
   {
    "duration": 3,
    "start_time": "2024-09-21T19:48:08.645Z"
   },
   {
    "duration": 9,
    "start_time": "2024-09-21T19:48:08.650Z"
   },
   {
    "duration": 925,
    "start_time": "2024-09-21T19:48:08.662Z"
   },
   {
    "duration": 1700,
    "start_time": "2024-09-21T19:48:09.588Z"
   },
   {
    "duration": 6,
    "start_time": "2024-09-21T19:48:11.291Z"
   },
   {
    "duration": 18,
    "start_time": "2024-09-21T19:48:11.299Z"
   },
   {
    "duration": 6,
    "start_time": "2024-09-21T19:48:11.319Z"
   },
   {
    "duration": 9,
    "start_time": "2024-09-21T19:48:11.327Z"
   },
   {
    "duration": 2,
    "start_time": "2024-09-21T19:48:11.338Z"
   },
   {
    "duration": 5,
    "start_time": "2024-09-21T19:48:11.345Z"
   },
   {
    "duration": 647,
    "start_time": "2024-09-21T19:48:11.352Z"
   },
   {
    "duration": 23,
    "start_time": "2024-09-21T19:48:12.001Z"
   },
   {
    "duration": 32,
    "start_time": "2024-09-21T19:48:12.026Z"
   },
   {
    "duration": 14,
    "start_time": "2024-09-21T19:48:12.060Z"
   },
   {
    "duration": 6,
    "start_time": "2024-09-21T19:48:12.076Z"
   },
   {
    "duration": 38,
    "start_time": "2024-09-21T19:48:12.084Z"
   },
   {
    "duration": 6,
    "start_time": "2024-09-21T19:48:12.123Z"
   },
   {
    "duration": 265,
    "start_time": "2024-09-21T19:48:12.130Z"
   },
   {
    "duration": 178,
    "start_time": "2024-09-21T19:48:12.397Z"
   },
   {
    "duration": 273,
    "start_time": "2024-09-21T19:48:12.577Z"
   },
   {
    "duration": 247,
    "start_time": "2024-09-21T19:48:12.852Z"
   },
   {
    "duration": 222,
    "start_time": "2024-09-21T19:48:13.101Z"
   },
   {
    "duration": 2345,
    "start_time": "2024-09-21T19:48:13.325Z"
   },
   {
    "duration": 9,
    "start_time": "2024-09-21T19:48:48.433Z"
   },
   {
    "duration": 12,
    "start_time": "2024-09-21T19:51:13.496Z"
   },
   {
    "duration": 8,
    "start_time": "2024-09-21T19:51:23.992Z"
   },
   {
    "duration": 6,
    "start_time": "2024-09-21T19:55:41.299Z"
   },
   {
    "duration": 597,
    "start_time": "2024-09-21T19:55:56.940Z"
   },
   {
    "duration": 340,
    "start_time": "2024-09-21T20:06:49.602Z"
   },
   {
    "duration": 372,
    "start_time": "2024-09-21T20:07:50.017Z"
   },
   {
    "duration": 538,
    "start_time": "2024-09-21T20:09:48.040Z"
   },
   {
    "duration": 743,
    "start_time": "2024-09-21T20:13:19.653Z"
   },
   {
    "duration": 6,
    "start_time": "2024-09-21T20:13:47.281Z"
   },
   {
    "duration": 6,
    "start_time": "2024-09-21T20:19:50.392Z"
   },
   {
    "duration": 1670,
    "start_time": "2024-09-21T20:36:46.788Z"
   },
   {
    "duration": 7,
    "start_time": "2024-09-21T20:38:56.069Z"
   },
   {
    "duration": 8,
    "start_time": "2024-09-21T20:42:14.018Z"
   },
   {
    "duration": 9,
    "start_time": "2024-09-21T20:42:36.151Z"
   },
   {
    "duration": 9,
    "start_time": "2024-09-21T20:43:03.120Z"
   },
   {
    "duration": 8,
    "start_time": "2024-09-21T20:43:55.099Z"
   },
   {
    "duration": 249,
    "start_time": "2024-09-21T20:44:57.686Z"
   },
   {
    "duration": 9,
    "start_time": "2024-09-21T20:45:19.690Z"
   },
   {
    "duration": 8,
    "start_time": "2024-09-21T20:46:19.772Z"
   },
   {
    "duration": 5,
    "start_time": "2024-09-21T20:46:55.218Z"
   },
   {
    "duration": 7,
    "start_time": "2024-09-21T20:47:03.859Z"
   },
   {
    "duration": 16,
    "start_time": "2024-09-21T20:50:57.124Z"
   },
   {
    "duration": 8,
    "start_time": "2024-09-21T20:51:52.135Z"
   },
   {
    "duration": 14,
    "start_time": "2024-09-21T20:55:33.612Z"
   },
   {
    "duration": 5,
    "start_time": "2024-09-21T20:57:41.979Z"
   },
   {
    "duration": 15,
    "start_time": "2024-09-21T20:58:04.848Z"
   },
   {
    "duration": 7,
    "start_time": "2024-09-21T20:58:55.188Z"
   },
   {
    "duration": 14,
    "start_time": "2024-09-21T21:00:20.148Z"
   },
   {
    "duration": 6,
    "start_time": "2024-09-21T21:00:39.744Z"
   },
   {
    "duration": 7,
    "start_time": "2024-09-21T21:00:47.583Z"
   },
   {
    "duration": 272,
    "start_time": "2024-09-21T21:02:00.471Z"
   },
   {
    "duration": 321,
    "start_time": "2024-09-21T21:02:31.385Z"
   },
   {
    "duration": 8,
    "start_time": "2024-09-21T21:02:54.030Z"
   },
   {
    "duration": 7,
    "start_time": "2024-09-21T21:05:02.004Z"
   },
   {
    "duration": 9,
    "start_time": "2024-09-21T21:05:18.961Z"
   },
   {
    "duration": 7,
    "start_time": "2024-09-21T21:06:22.811Z"
   },
   {
    "duration": 8,
    "start_time": "2024-09-21T21:06:54.365Z"
   },
   {
    "duration": 6,
    "start_time": "2024-09-21T21:07:10.922Z"
   },
   {
    "duration": 9,
    "start_time": "2024-09-21T21:07:57.873Z"
   },
   {
    "duration": 8,
    "start_time": "2024-09-21T21:08:08.822Z"
   },
   {
    "duration": 8,
    "start_time": "2024-09-21T21:08:48.380Z"
   },
   {
    "duration": 9,
    "start_time": "2024-09-21T21:09:01.329Z"
   },
   {
    "duration": 8,
    "start_time": "2024-09-21T21:09:35.623Z"
   },
   {
    "duration": 19,
    "start_time": "2024-09-21T21:10:19.793Z"
   },
   {
    "duration": 9,
    "start_time": "2024-09-21T21:10:54.638Z"
   },
   {
    "duration": 9,
    "start_time": "2024-09-21T21:11:38.332Z"
   },
   {
    "duration": 17,
    "start_time": "2024-09-21T21:17:07.192Z"
   },
   {
    "duration": 8,
    "start_time": "2024-09-21T21:17:22.740Z"
   },
   {
    "duration": 15,
    "start_time": "2024-09-21T21:20:17.895Z"
   },
   {
    "duration": 8,
    "start_time": "2024-09-21T21:21:35.568Z"
   },
   {
    "duration": 8,
    "start_time": "2024-09-21T21:24:01.067Z"
   },
   {
    "duration": 8,
    "start_time": "2024-09-21T21:24:11.570Z"
   },
   {
    "duration": 9,
    "start_time": "2024-09-21T21:27:01.628Z"
   },
   {
    "duration": 10,
    "start_time": "2024-09-21T21:27:08.639Z"
   },
   {
    "duration": 1746,
    "start_time": "2024-09-21T22:14:06.623Z"
   },
   {
    "duration": 870,
    "start_time": "2024-09-21T22:15:25.341Z"
   },
   {
    "duration": 292,
    "start_time": "2024-09-21T22:16:28.121Z"
   },
   {
    "duration": 197,
    "start_time": "2024-09-21T22:18:34.622Z"
   },
   {
    "duration": 5,
    "start_time": "2024-09-21T22:19:12.337Z"
   },
   {
    "duration": 190,
    "start_time": "2024-09-21T22:19:19.070Z"
   },
   {
    "duration": 178,
    "start_time": "2024-09-21T22:19:48.754Z"
   },
   {
    "duration": 181,
    "start_time": "2024-09-21T22:20:14.225Z"
   },
   {
    "duration": 187,
    "start_time": "2024-09-21T22:21:02.641Z"
   },
   {
    "duration": 199,
    "start_time": "2024-09-21T22:21:15.967Z"
   },
   {
    "duration": 177,
    "start_time": "2024-09-21T22:21:32.575Z"
   },
   {
    "duration": 173,
    "start_time": "2024-09-21T22:21:47.788Z"
   },
   {
    "duration": 176,
    "start_time": "2024-09-21T22:21:51.617Z"
   },
   {
    "duration": 191,
    "start_time": "2024-09-21T22:22:03.296Z"
   },
   {
    "duration": 175,
    "start_time": "2024-09-21T22:22:15.693Z"
   },
   {
    "duration": 189,
    "start_time": "2024-09-21T22:22:49.100Z"
   },
   {
    "duration": 1739,
    "start_time": "2024-09-21T22:24:46.187Z"
   },
   {
    "duration": 1734,
    "start_time": "2024-09-21T22:25:10.235Z"
   },
   {
    "duration": 6,
    "start_time": "2024-09-21T22:27:53.524Z"
   },
   {
    "duration": 1748,
    "start_time": "2024-09-21T22:29:04.502Z"
   },
   {
    "duration": 279,
    "start_time": "2024-09-21T22:31:52.139Z"
   },
   {
    "duration": 1414,
    "start_time": "2024-09-21T22:34:41.511Z"
   },
   {
    "duration": 1380,
    "start_time": "2024-09-21T22:34:47.854Z"
   },
   {
    "duration": 451,
    "start_time": "2024-09-21T22:35:13.733Z"
   },
   {
    "duration": 914,
    "start_time": "2024-09-21T22:35:14.187Z"
   },
   {
    "duration": 17,
    "start_time": "2024-09-21T22:35:15.105Z"
   },
   {
    "duration": 10,
    "start_time": "2024-09-21T22:35:15.125Z"
   },
   {
    "duration": 7,
    "start_time": "2024-09-21T22:35:15.136Z"
   },
   {
    "duration": 8,
    "start_time": "2024-09-21T22:35:15.145Z"
   },
   {
    "duration": 7,
    "start_time": "2024-09-21T22:35:15.155Z"
   },
   {
    "duration": 127,
    "start_time": "2024-09-21T22:35:15.163Z"
   },
   {
    "duration": 106,
    "start_time": "2024-09-21T22:35:15.292Z"
   },
   {
    "duration": 114,
    "start_time": "2024-09-21T22:35:15.402Z"
   },
   {
    "duration": 111,
    "start_time": "2024-09-21T22:35:15.519Z"
   },
   {
    "duration": 33,
    "start_time": "2024-09-21T22:35:15.632Z"
   },
   {
    "duration": 12,
    "start_time": "2024-09-21T22:35:15.667Z"
   },
   {
    "duration": 4,
    "start_time": "2024-09-21T22:35:15.681Z"
   },
   {
    "duration": 39,
    "start_time": "2024-09-21T22:35:15.687Z"
   },
   {
    "duration": 12,
    "start_time": "2024-09-21T22:35:15.728Z"
   },
   {
    "duration": 3,
    "start_time": "2024-09-21T22:35:15.742Z"
   },
   {
    "duration": 8,
    "start_time": "2024-09-21T22:35:15.747Z"
   },
   {
    "duration": 3,
    "start_time": "2024-09-21T22:35:15.757Z"
   },
   {
    "duration": 8,
    "start_time": "2024-09-21T22:35:15.762Z"
   },
   {
    "duration": 953,
    "start_time": "2024-09-21T22:35:15.771Z"
   },
   {
    "duration": 1699,
    "start_time": "2024-09-21T22:35:16.726Z"
   },
   {
    "duration": 6,
    "start_time": "2024-09-21T22:35:18.427Z"
   },
   {
    "duration": 8,
    "start_time": "2024-09-21T22:35:18.435Z"
   },
   {
    "duration": 7,
    "start_time": "2024-09-21T22:35:18.444Z"
   },
   {
    "duration": 11,
    "start_time": "2024-09-21T22:35:18.453Z"
   },
   {
    "duration": 10,
    "start_time": "2024-09-21T22:35:18.465Z"
   },
   {
    "duration": 6,
    "start_time": "2024-09-21T22:35:18.513Z"
   },
   {
    "duration": 643,
    "start_time": "2024-09-21T22:35:18.521Z"
   },
   {
    "duration": 17,
    "start_time": "2024-09-21T22:35:19.166Z"
   },
   {
    "duration": 47,
    "start_time": "2024-09-21T22:35:19.185Z"
   },
   {
    "duration": 14,
    "start_time": "2024-09-21T22:35:19.233Z"
   },
   {
    "duration": 7,
    "start_time": "2024-09-21T22:35:19.249Z"
   },
   {
    "duration": 773,
    "start_time": "2024-09-21T22:35:19.258Z"
   },
   {
    "duration": 6,
    "start_time": "2024-09-21T22:35:20.033Z"
   },
   {
    "duration": 273,
    "start_time": "2024-09-21T22:35:20.041Z"
   },
   {
    "duration": 171,
    "start_time": "2024-09-21T22:35:20.316Z"
   },
   {
    "duration": 274,
    "start_time": "2024-09-21T22:35:20.490Z"
   },
   {
    "duration": 247,
    "start_time": "2024-09-21T22:35:20.766Z"
   },
   {
    "duration": 198,
    "start_time": "2024-09-21T22:35:21.015Z"
   },
   {
    "duration": 1577,
    "start_time": "2024-09-21T22:35:21.215Z"
   },
   {
    "duration": 1396,
    "start_time": "2024-09-21T22:36:09.768Z"
   },
   {
    "duration": 1719,
    "start_time": "2024-09-21T22:36:25.145Z"
   },
   {
    "duration": 1707,
    "start_time": "2024-09-21T22:36:40.815Z"
   },
   {
    "duration": 1718,
    "start_time": "2024-09-21T22:59:40.915Z"
   },
   {
    "duration": 1706,
    "start_time": "2024-09-21T23:00:05.697Z"
   },
   {
    "duration": 5,
    "start_time": "2024-09-21T23:07:55.465Z"
   },
   {
    "duration": 597,
    "start_time": "2024-09-21T23:20:43.803Z"
   },
   {
    "duration": 6,
    "start_time": "2024-09-21T23:21:04.330Z"
   },
   {
    "duration": 521,
    "start_time": "2024-09-21T23:29:31.029Z"
   },
   {
    "duration": 318,
    "start_time": "2024-09-21T23:32:03.570Z"
   },
   {
    "duration": 8,
    "start_time": "2024-09-21T23:32:35.087Z"
   },
   {
    "duration": 17,
    "start_time": "2024-09-21T23:33:39.225Z"
   },
   {
    "duration": 15,
    "start_time": "2024-09-21T23:34:06.461Z"
   },
   {
    "duration": 659,
    "start_time": "2024-09-21T23:38:32.523Z"
   },
   {
    "duration": 15,
    "start_time": "2024-09-21T23:40:32.561Z"
   },
   {
    "duration": 3,
    "start_time": "2024-09-21T23:42:20.997Z"
   },
   {
    "duration": 4,
    "start_time": "2024-09-21T23:43:27.947Z"
   },
   {
    "duration": 5,
    "start_time": "2024-09-21T23:44:01.080Z"
   },
   {
    "duration": 18,
    "start_time": "2024-09-21T23:44:08.164Z"
   },
   {
    "duration": 14,
    "start_time": "2024-09-21T23:45:28.745Z"
   },
   {
    "duration": 15,
    "start_time": "2024-09-21T23:45:46.651Z"
   },
   {
    "duration": 36,
    "start_time": "2024-09-21T23:50:29.427Z"
   },
   {
    "duration": 35,
    "start_time": "2024-09-21T23:51:40.424Z"
   },
   {
    "duration": 34,
    "start_time": "2024-09-21T23:51:48.943Z"
   },
   {
    "duration": 4,
    "start_time": "2024-09-21T23:52:13.849Z"
   },
   {
    "duration": 38,
    "start_time": "2024-09-21T23:52:20.225Z"
   },
   {
    "duration": 5,
    "start_time": "2024-09-21T23:55:33.678Z"
   },
   {
    "duration": 36,
    "start_time": "2024-09-21T23:55:38.288Z"
   },
   {
    "duration": 190,
    "start_time": "2024-09-21T23:56:15.505Z"
   },
   {
    "duration": 156,
    "start_time": "2024-09-22T00:00:46.864Z"
   },
   {
    "duration": 216,
    "start_time": "2024-09-22T00:01:18.827Z"
   },
   {
    "duration": 191,
    "start_time": "2024-09-22T00:01:37.681Z"
   },
   {
    "duration": 35,
    "start_time": "2024-09-22T00:03:02.990Z"
   },
   {
    "duration": 37,
    "start_time": "2024-09-22T00:03:16.687Z"
   },
   {
    "duration": 34,
    "start_time": "2024-09-22T00:04:51.244Z"
   },
   {
    "duration": 154,
    "start_time": "2024-09-22T00:05:48.949Z"
   },
   {
    "duration": 181,
    "start_time": "2024-09-22T00:06:15.409Z"
   },
   {
    "duration": 155,
    "start_time": "2024-09-22T00:06:32.601Z"
   },
   {
    "duration": 171,
    "start_time": "2024-09-22T00:06:40.627Z"
   },
   {
    "duration": 174,
    "start_time": "2024-09-22T00:06:51.813Z"
   },
   {
    "duration": 171,
    "start_time": "2024-09-22T00:07:09.195Z"
   },
   {
    "duration": 165,
    "start_time": "2024-09-22T00:07:20.992Z"
   },
   {
    "duration": 163,
    "start_time": "2024-09-22T00:07:26.776Z"
   },
   {
    "duration": 168,
    "start_time": "2024-09-22T00:08:48.543Z"
   },
   {
    "duration": 167,
    "start_time": "2024-09-22T00:08:57.417Z"
   },
   {
    "duration": 177,
    "start_time": "2024-09-22T00:10:38.251Z"
   },
   {
    "duration": 369,
    "start_time": "2024-09-22T00:10:50.994Z"
   },
   {
    "duration": 170,
    "start_time": "2024-09-22T00:11:06.233Z"
   },
   {
    "duration": 162,
    "start_time": "2024-09-22T00:13:07.749Z"
   },
   {
    "duration": 160,
    "start_time": "2024-09-22T00:13:32.576Z"
   },
   {
    "duration": 162,
    "start_time": "2024-09-22T00:13:43.658Z"
   },
   {
    "duration": 144,
    "start_time": "2024-09-22T00:14:46.050Z"
   },
   {
    "duration": 175,
    "start_time": "2024-09-22T00:14:59.897Z"
   },
   {
    "duration": 174,
    "start_time": "2024-09-22T00:15:16.979Z"
   },
   {
    "duration": 166,
    "start_time": "2024-09-22T00:15:25.276Z"
   },
   {
    "duration": 163,
    "start_time": "2024-09-22T00:16:12.461Z"
   },
   {
    "duration": 155,
    "start_time": "2024-09-22T00:18:29.055Z"
   },
   {
    "duration": 164,
    "start_time": "2024-09-22T00:18:50.196Z"
   },
   {
    "duration": 253,
    "start_time": "2024-09-22T00:19:21.669Z"
   },
   {
    "duration": 164,
    "start_time": "2024-09-22T00:20:09.363Z"
   },
   {
    "duration": 180,
    "start_time": "2024-09-22T00:20:23.108Z"
   },
   {
    "duration": 163,
    "start_time": "2024-09-22T00:21:01.182Z"
   },
   {
    "duration": 161,
    "start_time": "2024-09-22T00:35:55.913Z"
   },
   {
    "duration": 161,
    "start_time": "2024-09-22T00:36:08.795Z"
   },
   {
    "duration": 156,
    "start_time": "2024-09-22T00:36:26.479Z"
   },
   {
    "duration": 164,
    "start_time": "2024-09-22T00:36:37.342Z"
   },
   {
    "duration": 170,
    "start_time": "2024-09-22T00:41:22.198Z"
   },
   {
    "duration": 171,
    "start_time": "2024-09-22T00:45:45.100Z"
   },
   {
    "duration": 174,
    "start_time": "2024-09-22T00:46:20.225Z"
   },
   {
    "duration": 170,
    "start_time": "2024-09-22T00:46:31.971Z"
   },
   {
    "duration": 11,
    "start_time": "2024-09-22T00:53:44.571Z"
   },
   {
    "duration": 6,
    "start_time": "2024-09-22T00:53:52.204Z"
   },
   {
    "duration": 20,
    "start_time": "2024-09-22T00:58:33.538Z"
   },
   {
    "duration": 6,
    "start_time": "2024-09-22T01:01:25.100Z"
   },
   {
    "duration": 1755,
    "start_time": "2024-09-22T01:01:53.601Z"
   },
   {
    "duration": 8,
    "start_time": "2024-09-22T01:03:48.368Z"
   },
   {
    "duration": 798,
    "start_time": "2024-09-22T01:08:27.490Z"
   },
   {
    "duration": 696,
    "start_time": "2024-09-22T01:08:55.573Z"
   },
   {
    "duration": 1758,
    "start_time": "2024-09-22T01:09:37.958Z"
   },
   {
    "duration": 1677,
    "start_time": "2024-09-22T01:21:29.413Z"
   },
   {
    "duration": 1707,
    "start_time": "2024-09-22T01:22:36.885Z"
   },
   {
    "duration": 104,
    "start_time": "2024-09-22T01:25:05.987Z"
   },
   {
    "duration": 87,
    "start_time": "2024-09-22T01:26:32.740Z"
   },
   {
    "duration": 132,
    "start_time": "2024-09-22T01:28:40.829Z"
   },
   {
    "duration": 134,
    "start_time": "2024-09-22T01:28:49.921Z"
   },
   {
    "duration": 136,
    "start_time": "2024-09-22T01:31:02.278Z"
   },
   {
    "duration": 131,
    "start_time": "2024-09-22T01:31:46.592Z"
   },
   {
    "duration": 247,
    "start_time": "2024-09-22T01:37:21.464Z"
   },
   {
    "duration": 219,
    "start_time": "2024-09-22T01:37:48.365Z"
   },
   {
    "duration": 241,
    "start_time": "2024-09-22T01:39:15.065Z"
   },
   {
    "duration": 912,
    "start_time": "2024-09-22T01:39:54.202Z"
   },
   {
    "duration": 889,
    "start_time": "2024-09-22T01:40:13.701Z"
   },
   {
    "duration": 856,
    "start_time": "2024-09-22T01:44:53.667Z"
   },
   {
    "duration": 1749,
    "start_time": "2024-09-22T01:47:44.654Z"
   },
   {
    "duration": 799,
    "start_time": "2024-09-22T01:49:01.529Z"
   },
   {
    "duration": 244,
    "start_time": "2024-09-22T01:57:25.062Z"
   },
   {
    "duration": 806,
    "start_time": "2024-09-22T01:57:48.241Z"
   },
   {
    "duration": 5,
    "start_time": "2024-09-22T02:03:13.994Z"
   },
   {
    "duration": 172,
    "start_time": "2024-09-22T02:04:18.863Z"
   },
   {
    "duration": 1872,
    "start_time": "2024-09-22T02:15:12.162Z"
   },
   {
    "duration": 1953,
    "start_time": "2024-09-22T02:15:50.506Z"
   },
   {
    "duration": 1809,
    "start_time": "2024-09-22T02:16:15.086Z"
   },
   {
    "duration": 2015,
    "start_time": "2024-09-22T02:17:06.907Z"
   },
   {
    "duration": 1968,
    "start_time": "2024-09-22T02:17:33.317Z"
   },
   {
    "duration": 1959,
    "start_time": "2024-09-22T02:18:07.840Z"
   },
   {
    "duration": 1101,
    "start_time": "2024-09-22T02:22:45.216Z"
   },
   {
    "duration": 1181,
    "start_time": "2024-09-22T02:23:35.061Z"
   },
   {
    "duration": 1167,
    "start_time": "2024-09-22T02:24:24.082Z"
   },
   {
    "duration": 1194,
    "start_time": "2024-09-22T02:24:48.318Z"
   },
   {
    "duration": 4,
    "start_time": "2024-09-22T02:26:45.553Z"
   },
   {
    "duration": 1073,
    "start_time": "2024-09-22T02:26:55.584Z"
   },
   {
    "duration": 1285,
    "start_time": "2024-09-22T02:27:09.501Z"
   },
   {
    "duration": 1173,
    "start_time": "2024-09-22T02:27:19.624Z"
   },
   {
    "duration": 1232,
    "start_time": "2024-09-22T02:27:47.453Z"
   },
   {
    "duration": 1064,
    "start_time": "2024-09-22T02:29:23.009Z"
   },
   {
    "duration": 1237,
    "start_time": "2024-09-22T02:32:56.212Z"
   },
   {
    "duration": 1206,
    "start_time": "2024-09-22T02:33:12.886Z"
   },
   {
    "duration": 1199,
    "start_time": "2024-09-22T02:33:43.952Z"
   },
   {
    "duration": 1194,
    "start_time": "2024-09-22T02:34:55.767Z"
   },
   {
    "duration": 1197,
    "start_time": "2024-09-22T02:35:12.070Z"
   },
   {
    "duration": 1211,
    "start_time": "2024-09-22T02:36:11.507Z"
   },
   {
    "duration": 4,
    "start_time": "2024-09-22T03:55:20.989Z"
   },
   {
    "duration": 4,
    "start_time": "2024-09-22T04:27:00.459Z"
   },
   {
    "duration": 1345,
    "start_time": "2024-09-22T04:28:35.326Z"
   },
   {
    "duration": 1693,
    "start_time": "2024-09-22T04:35:12.700Z"
   },
   {
    "duration": 11,
    "start_time": "2024-09-22T04:36:18.509Z"
   },
   {
    "duration": 1144,
    "start_time": "2024-09-22T04:40:01.687Z"
   },
   {
    "duration": 307,
    "start_time": "2024-09-22T04:43:17.098Z"
   },
   {
    "duration": 180,
    "start_time": "2024-09-22T04:43:23.103Z"
   },
   {
    "duration": 5,
    "start_time": "2024-09-22T04:44:21.311Z"
   },
   {
    "duration": 76,
    "start_time": "2024-09-22T04:44:48.261Z"
   },
   {
    "duration": 76,
    "start_time": "2024-09-22T04:45:02.251Z"
   },
   {
    "duration": 76,
    "start_time": "2024-09-22T04:45:18.022Z"
   },
   {
    "duration": 3,
    "start_time": "2024-09-22T04:45:37.426Z"
   },
   {
    "duration": 77,
    "start_time": "2024-09-22T04:46:49.278Z"
   },
   {
    "duration": 36,
    "start_time": "2024-09-22T04:47:18.530Z"
   },
   {
    "duration": 76,
    "start_time": "2024-09-22T04:48:20.779Z"
   },
   {
    "duration": 38,
    "start_time": "2024-09-22T04:49:01.945Z"
   },
   {
    "duration": 78,
    "start_time": "2024-09-22T04:50:09.982Z"
   },
   {
    "duration": 37,
    "start_time": "2024-09-22T04:50:51.492Z"
   },
   {
    "duration": 37,
    "start_time": "2024-09-22T04:51:56.825Z"
   },
   {
    "duration": 176,
    "start_time": "2024-09-22T04:52:41.735Z"
   },
   {
    "duration": 40,
    "start_time": "2024-09-22T04:53:22.493Z"
   },
   {
    "duration": 172,
    "start_time": "2024-09-22T04:54:14.254Z"
   },
   {
    "duration": 191,
    "start_time": "2024-09-22T04:55:59.526Z"
   },
   {
    "duration": 170,
    "start_time": "2024-09-22T04:56:04.054Z"
   },
   {
    "duration": 174,
    "start_time": "2024-09-22T04:57:17.293Z"
   },
   {
    "duration": 1194,
    "start_time": "2024-09-22T04:58:42.433Z"
   },
   {
    "duration": 1126,
    "start_time": "2024-09-22T05:00:45.233Z"
   },
   {
    "duration": 1109,
    "start_time": "2024-09-22T05:04:22.030Z"
   },
   {
    "duration": 1124,
    "start_time": "2024-09-22T05:04:46.111Z"
   },
   {
    "duration": 1101,
    "start_time": "2024-09-22T05:05:02.200Z"
   },
   {
    "duration": 1165,
    "start_time": "2024-09-22T05:05:18.889Z"
   },
   {
    "duration": 1212,
    "start_time": "2024-09-22T05:06:04.708Z"
   },
   {
    "duration": 5,
    "start_time": "2024-09-22T05:10:00.942Z"
   },
   {
    "duration": 1234,
    "start_time": "2024-09-22T05:13:19.411Z"
   },
   {
    "duration": 1360,
    "start_time": "2024-09-22T05:15:22.381Z"
   },
   {
    "duration": 1252,
    "start_time": "2024-09-22T05:15:50.089Z"
   },
   {
    "duration": 1262,
    "start_time": "2024-09-22T05:16:30.620Z"
   },
   {
    "duration": 1239,
    "start_time": "2024-09-22T05:17:12.207Z"
   },
   {
    "duration": 1309,
    "start_time": "2024-09-22T05:22:36.715Z"
   },
   {
    "duration": 1213,
    "start_time": "2024-09-22T05:23:22.737Z"
   },
   {
    "duration": 2857,
    "start_time": "2024-09-22T05:25:54.479Z"
   },
   {
    "duration": 2708,
    "start_time": "2024-09-22T05:27:06.426Z"
   },
   {
    "duration": 1253,
    "start_time": "2024-09-22T05:28:06.559Z"
   },
   {
    "duration": 1316,
    "start_time": "2024-09-22T05:30:04.702Z"
   },
   {
    "duration": 1323,
    "start_time": "2024-09-22T05:30:35.135Z"
   },
   {
    "duration": 1504,
    "start_time": "2024-09-22T05:37:17.409Z"
   },
   {
    "duration": 1140,
    "start_time": "2024-09-22T05:37:41.763Z"
   },
   {
    "duration": 127,
    "start_time": "2024-09-22T05:37:50.818Z"
   },
   {
    "duration": 127,
    "start_time": "2024-09-22T05:46:33.199Z"
   },
   {
    "duration": 205,
    "start_time": "2024-09-22T05:50:13.146Z"
   },
   {
    "duration": 124,
    "start_time": "2024-09-22T05:53:16.371Z"
   },
   {
    "duration": 123,
    "start_time": "2024-09-22T05:53:56.309Z"
   },
   {
    "duration": 124,
    "start_time": "2024-09-22T05:54:12.966Z"
   },
   {
    "duration": 125,
    "start_time": "2024-09-22T05:54:45.751Z"
   },
   {
    "duration": 130,
    "start_time": "2024-09-22T06:06:18.281Z"
   },
   {
    "duration": 125,
    "start_time": "2024-09-22T06:07:25.954Z"
   },
   {
    "duration": 1195,
    "start_time": "2024-09-22T06:09:19.862Z"
   },
   {
    "duration": 1211,
    "start_time": "2024-09-22T06:11:42.016Z"
   },
   {
    "duration": 129,
    "start_time": "2024-09-22T06:12:18.963Z"
   },
   {
    "duration": 121,
    "start_time": "2024-09-22T06:12:46.954Z"
   },
   {
    "duration": 1220,
    "start_time": "2024-09-22T06:13:32.087Z"
   },
   {
    "duration": 126,
    "start_time": "2024-09-22T06:13:37.906Z"
   },
   {
    "duration": 109,
    "start_time": "2024-09-22T06:21:22.770Z"
   },
   {
    "duration": 111,
    "start_time": "2024-09-22T06:22:08.838Z"
   },
   {
    "duration": 127,
    "start_time": "2024-09-22T06:22:29.584Z"
   },
   {
    "duration": 123,
    "start_time": "2024-09-22T06:24:54.436Z"
   },
   {
    "duration": 1194,
    "start_time": "2024-09-22T06:25:46.164Z"
   },
   {
    "duration": 1106,
    "start_time": "2024-09-22T06:28:40.800Z"
   },
   {
    "duration": 134,
    "start_time": "2024-09-22T06:28:43.534Z"
   },
   {
    "duration": 1132,
    "start_time": "2024-09-22T06:29:10.703Z"
   },
   {
    "duration": 1245,
    "start_time": "2024-09-22T06:29:59.557Z"
   },
   {
    "duration": 1171,
    "start_time": "2024-09-22T06:30:14.262Z"
   },
   {
    "duration": 1206,
    "start_time": "2024-09-22T06:30:42.847Z"
   },
   {
    "duration": 1192,
    "start_time": "2024-09-22T06:31:15.433Z"
   },
   {
    "duration": 1153,
    "start_time": "2024-09-22T06:31:51.397Z"
   },
   {
    "duration": 1187,
    "start_time": "2024-09-22T06:32:10.675Z"
   },
   {
    "duration": 133,
    "start_time": "2024-09-22T06:32:13.814Z"
   },
   {
    "duration": 1212,
    "start_time": "2024-09-22T06:37:37.550Z"
   },
   {
    "duration": 1236,
    "start_time": "2024-09-22T06:40:41.920Z"
   },
   {
    "duration": 1246,
    "start_time": "2024-09-22T06:41:23.711Z"
   },
   {
    "duration": 1277,
    "start_time": "2024-09-22T06:42:38.358Z"
   },
   {
    "duration": 1245,
    "start_time": "2024-09-22T06:43:20.541Z"
   },
   {
    "duration": 1197,
    "start_time": "2024-09-22T06:45:15.290Z"
   },
   {
    "duration": 1212,
    "start_time": "2024-09-22T06:47:59.934Z"
   },
   {
    "duration": 1292,
    "start_time": "2024-09-22T06:48:29.481Z"
   },
   {
    "duration": 1288,
    "start_time": "2024-09-22T06:49:01.018Z"
   },
   {
    "duration": 1253,
    "start_time": "2024-09-22T06:49:18.663Z"
   },
   {
    "duration": 1150,
    "start_time": "2024-09-22T06:52:09.613Z"
   },
   {
    "duration": 1095,
    "start_time": "2024-09-22T06:54:50.302Z"
   },
   {
    "duration": 1166,
    "start_time": "2024-09-22T06:59:05.994Z"
   },
   {
    "duration": 14,
    "start_time": "2024-09-22T06:59:24.242Z"
   },
   {
    "duration": 11,
    "start_time": "2024-09-22T06:59:43.930Z"
   },
   {
    "duration": 13,
    "start_time": "2024-09-22T07:00:25.476Z"
   },
   {
    "duration": 1182,
    "start_time": "2024-09-22T07:01:23.398Z"
   },
   {
    "duration": 126,
    "start_time": "2024-09-22T07:04:06.203Z"
   },
   {
    "duration": 1160,
    "start_time": "2024-09-22T07:06:08.418Z"
   },
   {
    "duration": 1227,
    "start_time": "2024-09-22T07:06:24.373Z"
   },
   {
    "duration": 1243,
    "start_time": "2024-09-22T07:06:54.310Z"
   },
   {
    "duration": 1204,
    "start_time": "2024-09-22T07:06:58.682Z"
   },
   {
    "duration": 133,
    "start_time": "2024-09-22T07:07:03.582Z"
   },
   {
    "duration": 1199,
    "start_time": "2024-09-22T07:07:25.195Z"
   },
   {
    "duration": 128,
    "start_time": "2024-09-22T07:07:58.655Z"
   },
   {
    "duration": 288,
    "start_time": "2024-09-22T07:10:39.114Z"
   },
   {
    "duration": 66,
    "start_time": "2024-09-22T07:15:02.774Z"
   },
   {
    "duration": 135,
    "start_time": "2024-09-22T07:15:35.882Z"
   },
   {
    "duration": 127,
    "start_time": "2024-09-22T07:16:17.284Z"
   },
   {
    "duration": 135,
    "start_time": "2024-09-22T07:16:49.894Z"
   },
   {
    "duration": 127,
    "start_time": "2024-09-22T07:18:01.692Z"
   },
   {
    "duration": 1180,
    "start_time": "2024-09-22T07:18:14.802Z"
   },
   {
    "duration": 126,
    "start_time": "2024-09-22T07:18:41.785Z"
   },
   {
    "duration": 126,
    "start_time": "2024-09-22T07:19:02.333Z"
   },
   {
    "duration": 5,
    "start_time": "2024-09-22T07:22:49.092Z"
   },
   {
    "duration": 4,
    "start_time": "2024-09-22T07:29:02.401Z"
   },
   {
    "duration": 264,
    "start_time": "2024-09-22T07:29:42.192Z"
   },
   {
    "duration": 4,
    "start_time": "2024-09-22T07:31:47.131Z"
   },
   {
    "duration": 178,
    "start_time": "2024-09-22T14:34:11.374Z"
   },
   {
    "duration": 2142,
    "start_time": "2024-09-22T14:34:19.901Z"
   },
   {
    "duration": 1047,
    "start_time": "2024-09-22T14:34:22.047Z"
   },
   {
    "duration": 14,
    "start_time": "2024-09-22T14:34:23.096Z"
   },
   {
    "duration": 23,
    "start_time": "2024-09-22T14:34:23.112Z"
   },
   {
    "duration": 7,
    "start_time": "2024-09-22T14:34:23.136Z"
   },
   {
    "duration": 13,
    "start_time": "2024-09-22T14:34:23.145Z"
   },
   {
    "duration": 8,
    "start_time": "2024-09-22T14:34:23.160Z"
   },
   {
    "duration": 114,
    "start_time": "2024-09-22T14:34:23.170Z"
   },
   {
    "duration": 109,
    "start_time": "2024-09-22T14:34:23.286Z"
   },
   {
    "duration": 131,
    "start_time": "2024-09-22T14:34:23.399Z"
   },
   {
    "duration": 100,
    "start_time": "2024-09-22T14:34:23.532Z"
   },
   {
    "duration": 45,
    "start_time": "2024-09-22T14:34:23.634Z"
   },
   {
    "duration": 17,
    "start_time": "2024-09-22T14:34:23.681Z"
   },
   {
    "duration": 4,
    "start_time": "2024-09-22T14:34:23.699Z"
   },
   {
    "duration": 40,
    "start_time": "2024-09-22T14:34:23.705Z"
   },
   {
    "duration": 15,
    "start_time": "2024-09-22T14:34:23.747Z"
   },
   {
    "duration": 6,
    "start_time": "2024-09-22T14:34:23.763Z"
   },
   {
    "duration": 10,
    "start_time": "2024-09-22T14:34:23.771Z"
   },
   {
    "duration": 3,
    "start_time": "2024-09-22T14:34:23.784Z"
   },
   {
    "duration": 10,
    "start_time": "2024-09-22T14:34:23.789Z"
   },
   {
    "duration": 925,
    "start_time": "2024-09-22T14:34:23.801Z"
   },
   {
    "duration": 1681,
    "start_time": "2024-09-22T14:34:24.731Z"
   },
   {
    "duration": 17,
    "start_time": "2024-09-22T14:34:26.414Z"
   },
   {
    "duration": 10,
    "start_time": "2024-09-22T14:34:26.433Z"
   },
   {
    "duration": 7,
    "start_time": "2024-09-22T14:34:26.444Z"
   },
   {
    "duration": 10,
    "start_time": "2024-09-22T14:34:26.453Z"
   },
   {
    "duration": 13,
    "start_time": "2024-09-22T14:34:26.466Z"
   },
   {
    "duration": 6,
    "start_time": "2024-09-22T14:34:26.484Z"
   },
   {
    "duration": 46,
    "start_time": "2024-09-22T14:34:26.492Z"
   },
   {
    "duration": 18,
    "start_time": "2024-09-22T14:34:26.542Z"
   },
   {
    "duration": 32,
    "start_time": "2024-09-22T14:34:26.562Z"
   },
   {
    "duration": 36,
    "start_time": "2024-09-22T14:34:26.595Z"
   },
   {
    "duration": 10,
    "start_time": "2024-09-22T14:34:26.633Z"
   },
   {
    "duration": 723,
    "start_time": "2024-09-22T14:34:26.645Z"
   },
   {
    "duration": 9,
    "start_time": "2024-09-22T14:34:27.370Z"
   },
   {
    "duration": 279,
    "start_time": "2024-09-22T14:34:27.381Z"
   },
   {
    "duration": 221,
    "start_time": "2024-09-22T14:34:27.663Z"
   },
   {
    "duration": 286,
    "start_time": "2024-09-22T14:34:27.886Z"
   },
   {
    "duration": 253,
    "start_time": "2024-09-22T14:34:28.173Z"
   },
   {
    "duration": 183,
    "start_time": "2024-09-22T14:34:28.432Z"
   },
   {
    "duration": 1740,
    "start_time": "2024-09-22T14:34:28.618Z"
   },
   {
    "duration": 1282,
    "start_time": "2024-09-22T14:34:30.360Z"
   },
   {
    "duration": 149,
    "start_time": "2024-09-22T14:34:31.646Z"
   },
   {
    "duration": 7,
    "start_time": "2024-09-22T14:34:31.797Z"
   },
   {
    "duration": 200,
    "start_time": "2024-09-22T14:36:01.918Z"
   },
   {
    "duration": 6,
    "start_time": "2024-09-22T14:36:20.412Z"
   },
   {
    "duration": 7,
    "start_time": "2024-09-22T14:38:11.563Z"
   },
   {
    "duration": 360,
    "start_time": "2024-09-22T14:46:37.013Z"
   },
   {
    "duration": 364,
    "start_time": "2024-09-22T14:47:16.213Z"
   },
   {
    "duration": 1487,
    "start_time": "2024-09-22T14:47:54.572Z"
   },
   {
    "duration": 335,
    "start_time": "2024-09-22T14:48:17.221Z"
   },
   {
    "duration": 346,
    "start_time": "2024-09-22T14:50:09.381Z"
   },
   {
    "duration": 348,
    "start_time": "2024-09-22T14:53:46.419Z"
   },
   {
    "duration": 334,
    "start_time": "2024-09-22T14:54:32.957Z"
   },
   {
    "duration": 1626,
    "start_time": "2024-09-22T14:55:52.297Z"
   },
   {
    "duration": 8,
    "start_time": "2024-09-22T15:16:38.517Z"
   },
   {
    "duration": 335,
    "start_time": "2024-09-22T15:18:19.058Z"
   },
   {
    "duration": 178,
    "start_time": "2024-09-22T17:38:06.773Z"
   },
   {
    "duration": 2182,
    "start_time": "2024-09-22T17:38:15.419Z"
   },
   {
    "duration": 1023,
    "start_time": "2024-09-22T17:38:17.604Z"
   },
   {
    "duration": 12,
    "start_time": "2024-09-22T17:38:18.628Z"
   },
   {
    "duration": 9,
    "start_time": "2024-09-22T17:38:18.643Z"
   },
   {
    "duration": 7,
    "start_time": "2024-09-22T17:38:18.670Z"
   },
   {
    "duration": 7,
    "start_time": "2024-09-22T17:38:18.679Z"
   },
   {
    "duration": 7,
    "start_time": "2024-09-22T17:38:18.688Z"
   },
   {
    "duration": 123,
    "start_time": "2024-09-22T17:38:18.696Z"
   },
   {
    "duration": 107,
    "start_time": "2024-09-22T17:38:18.821Z"
   },
   {
    "duration": 116,
    "start_time": "2024-09-22T17:38:18.932Z"
   },
   {
    "duration": 104,
    "start_time": "2024-09-22T17:38:19.049Z"
   },
   {
    "duration": 48,
    "start_time": "2024-09-22T17:38:19.155Z"
   },
   {
    "duration": 13,
    "start_time": "2024-09-22T17:38:19.205Z"
   },
   {
    "duration": 3,
    "start_time": "2024-09-22T17:38:19.220Z"
   },
   {
    "duration": 17,
    "start_time": "2024-09-22T17:38:19.225Z"
   },
   {
    "duration": 32,
    "start_time": "2024-09-22T17:38:19.244Z"
   },
   {
    "duration": 4,
    "start_time": "2024-09-22T17:38:19.277Z"
   },
   {
    "duration": 9,
    "start_time": "2024-09-22T17:38:19.282Z"
   },
   {
    "duration": 4,
    "start_time": "2024-09-22T17:38:19.292Z"
   },
   {
    "duration": 8,
    "start_time": "2024-09-22T17:38:19.297Z"
   },
   {
    "duration": 909,
    "start_time": "2024-09-22T17:38:19.307Z"
   },
   {
    "duration": 1692,
    "start_time": "2024-09-22T17:38:20.218Z"
   },
   {
    "duration": 8,
    "start_time": "2024-09-22T17:38:21.911Z"
   },
   {
    "duration": 9,
    "start_time": "2024-09-22T17:38:21.920Z"
   },
   {
    "duration": 5,
    "start_time": "2024-09-22T17:38:21.931Z"
   },
   {
    "duration": 32,
    "start_time": "2024-09-22T17:38:21.938Z"
   },
   {
    "duration": 10,
    "start_time": "2024-09-22T17:38:21.972Z"
   },
   {
    "duration": 7,
    "start_time": "2024-09-22T17:38:21.986Z"
   },
   {
    "duration": 18,
    "start_time": "2024-09-22T17:38:21.994Z"
   },
   {
    "duration": 17,
    "start_time": "2024-09-22T17:38:22.014Z"
   },
   {
    "duration": 58,
    "start_time": "2024-09-22T17:38:22.033Z"
   },
   {
    "duration": 15,
    "start_time": "2024-09-22T17:38:22.093Z"
   },
   {
    "duration": 7,
    "start_time": "2024-09-22T17:38:22.110Z"
   },
   {
    "duration": 721,
    "start_time": "2024-09-22T17:38:22.120Z"
   },
   {
    "duration": 6,
    "start_time": "2024-09-22T17:38:22.843Z"
   },
   {
    "duration": 258,
    "start_time": "2024-09-22T17:38:22.851Z"
   },
   {
    "duration": 219,
    "start_time": "2024-09-22T17:38:23.111Z"
   },
   {
    "duration": 270,
    "start_time": "2024-09-22T17:38:23.332Z"
   },
   {
    "duration": 241,
    "start_time": "2024-09-22T17:38:23.604Z"
   },
   {
    "duration": 182,
    "start_time": "2024-09-22T17:38:23.847Z"
   },
   {
    "duration": 1728,
    "start_time": "2024-09-22T17:38:24.031Z"
   },
   {
    "duration": 1228,
    "start_time": "2024-09-22T17:38:25.761Z"
   },
   {
    "duration": 137,
    "start_time": "2024-09-22T17:38:26.991Z"
   },
   {
    "duration": 124,
    "start_time": "2024-09-22T17:40:54.860Z"
   },
   {
    "duration": 126,
    "start_time": "2024-09-22T17:41:01.329Z"
   },
   {
    "duration": 157,
    "start_time": "2024-09-22T21:47:47.768Z"
   },
   {
    "duration": 2066,
    "start_time": "2024-09-22T21:47:54.930Z"
   },
   {
    "duration": 1057,
    "start_time": "2024-09-22T21:47:56.999Z"
   },
   {
    "duration": 11,
    "start_time": "2024-09-22T21:47:58.058Z"
   },
   {
    "duration": 10,
    "start_time": "2024-09-22T21:47:58.071Z"
   },
   {
    "duration": 7,
    "start_time": "2024-09-22T21:47:58.082Z"
   },
   {
    "duration": 8,
    "start_time": "2024-09-22T21:47:58.091Z"
   },
   {
    "duration": 7,
    "start_time": "2024-09-22T21:47:58.101Z"
   },
   {
    "duration": 90,
    "start_time": "2024-09-22T21:47:58.144Z"
   },
   {
    "duration": 106,
    "start_time": "2024-09-22T21:47:58.236Z"
   },
   {
    "duration": 112,
    "start_time": "2024-09-22T21:47:58.346Z"
   },
   {
    "duration": 105,
    "start_time": "2024-09-22T21:47:58.460Z"
   },
   {
    "duration": 35,
    "start_time": "2024-09-22T21:47:58.568Z"
   },
   {
    "duration": 12,
    "start_time": "2024-09-22T21:47:58.605Z"
   },
   {
    "duration": 4,
    "start_time": "2024-09-22T21:47:58.619Z"
   },
   {
    "duration": 18,
    "start_time": "2024-09-22T21:47:58.643Z"
   },
   {
    "duration": 12,
    "start_time": "2024-09-22T21:47:58.662Z"
   },
   {
    "duration": 3,
    "start_time": "2024-09-22T21:47:58.676Z"
   },
   {
    "duration": 8,
    "start_time": "2024-09-22T21:47:58.681Z"
   },
   {
    "duration": 3,
    "start_time": "2024-09-22T21:47:58.691Z"
   },
   {
    "duration": 9,
    "start_time": "2024-09-22T21:47:58.696Z"
   },
   {
    "duration": 862,
    "start_time": "2024-09-22T21:47:58.742Z"
   },
   {
    "duration": 1676,
    "start_time": "2024-09-22T21:47:59.607Z"
   },
   {
    "duration": 6,
    "start_time": "2024-09-22T21:48:01.286Z"
   },
   {
    "duration": 10,
    "start_time": "2024-09-22T21:48:01.293Z"
   },
   {
    "duration": 6,
    "start_time": "2024-09-22T21:48:01.304Z"
   },
   {
    "duration": 36,
    "start_time": "2024-09-22T21:48:01.312Z"
   },
   {
    "duration": 11,
    "start_time": "2024-09-22T21:48:01.350Z"
   },
   {
    "duration": 5,
    "start_time": "2024-09-22T21:48:01.364Z"
   },
   {
    "duration": 20,
    "start_time": "2024-09-22T21:48:01.371Z"
   },
   {
    "duration": 16,
    "start_time": "2024-09-22T21:48:01.393Z"
   },
   {
    "duration": 59,
    "start_time": "2024-09-22T21:48:01.411Z"
   },
   {
    "duration": 14,
    "start_time": "2024-09-22T21:48:01.472Z"
   },
   {
    "duration": 8,
    "start_time": "2024-09-22T21:48:01.488Z"
   },
   {
    "duration": 713,
    "start_time": "2024-09-22T21:48:01.497Z"
   },
   {
    "duration": 5,
    "start_time": "2024-09-22T21:48:02.212Z"
   },
   {
    "duration": 256,
    "start_time": "2024-09-22T21:48:02.219Z"
   },
   {
    "duration": 173,
    "start_time": "2024-09-22T21:48:02.477Z"
   },
   {
    "duration": 299,
    "start_time": "2024-09-22T21:48:02.652Z"
   },
   {
    "duration": 238,
    "start_time": "2024-09-22T21:48:02.953Z"
   },
   {
    "duration": 180,
    "start_time": "2024-09-22T21:48:03.194Z"
   },
   {
    "duration": 1716,
    "start_time": "2024-09-22T21:48:03.376Z"
   },
   {
    "duration": 1221,
    "start_time": "2024-09-22T21:48:05.093Z"
   },
   {
    "duration": 135,
    "start_time": "2024-09-22T21:48:06.316Z"
   },
   {
    "duration": 8,
    "start_time": "2024-09-22T21:48:06.473Z"
   },
   {
    "duration": 156,
    "start_time": "2024-09-23T18:31:18.642Z"
   },
   {
    "duration": 2148,
    "start_time": "2024-09-23T18:31:25.693Z"
   },
   {
    "duration": 1051,
    "start_time": "2024-09-23T18:31:27.843Z"
   },
   {
    "duration": 18,
    "start_time": "2024-09-23T18:31:28.895Z"
   },
   {
    "duration": 8,
    "start_time": "2024-09-23T18:31:28.916Z"
   },
   {
    "duration": 7,
    "start_time": "2024-09-23T18:31:28.926Z"
   },
   {
    "duration": 7,
    "start_time": "2024-09-23T18:31:28.935Z"
   },
   {
    "duration": 6,
    "start_time": "2024-09-23T18:31:28.944Z"
   },
   {
    "duration": 124,
    "start_time": "2024-09-23T18:31:28.952Z"
   },
   {
    "duration": 105,
    "start_time": "2024-09-23T18:31:29.078Z"
   },
   {
    "duration": 107,
    "start_time": "2024-09-23T18:31:29.186Z"
   },
   {
    "duration": 100,
    "start_time": "2024-09-23T18:31:29.295Z"
   },
   {
    "duration": 41,
    "start_time": "2024-09-23T18:31:29.397Z"
   },
   {
    "duration": 12,
    "start_time": "2024-09-23T18:31:29.440Z"
   },
   {
    "duration": 3,
    "start_time": "2024-09-23T18:31:29.453Z"
   },
   {
    "duration": 17,
    "start_time": "2024-09-23T18:31:29.457Z"
   },
   {
    "duration": 37,
    "start_time": "2024-09-23T18:31:29.476Z"
   },
   {
    "duration": 4,
    "start_time": "2024-09-23T18:31:29.514Z"
   },
   {
    "duration": 8,
    "start_time": "2024-09-23T18:31:29.519Z"
   },
   {
    "duration": 3,
    "start_time": "2024-09-23T18:31:29.529Z"
   },
   {
    "duration": 8,
    "start_time": "2024-09-23T18:31:29.533Z"
   },
   {
    "duration": 985,
    "start_time": "2024-09-23T18:31:29.542Z"
   },
   {
    "duration": 1628,
    "start_time": "2024-09-23T18:31:30.528Z"
   },
   {
    "duration": 6,
    "start_time": "2024-09-23T18:31:32.158Z"
   },
   {
    "duration": 15,
    "start_time": "2024-09-23T18:31:32.166Z"
   },
   {
    "duration": 6,
    "start_time": "2024-09-23T18:31:32.182Z"
   },
   {
    "duration": 10,
    "start_time": "2024-09-23T18:31:32.208Z"
   },
   {
    "duration": 11,
    "start_time": "2024-09-23T18:31:32.220Z"
   },
   {
    "duration": 5,
    "start_time": "2024-09-23T18:31:32.235Z"
   },
   {
    "duration": 17,
    "start_time": "2024-09-23T18:31:32.242Z"
   },
   {
    "duration": 47,
    "start_time": "2024-09-23T18:31:32.262Z"
   },
   {
    "duration": 31,
    "start_time": "2024-09-23T18:31:32.311Z"
   },
   {
    "duration": 14,
    "start_time": "2024-09-23T18:31:32.344Z"
   },
   {
    "duration": 10,
    "start_time": "2024-09-23T18:31:32.360Z"
   },
   {
    "duration": 712,
    "start_time": "2024-09-23T18:31:32.372Z"
   },
   {
    "duration": 6,
    "start_time": "2024-09-23T18:31:33.086Z"
   },
   {
    "duration": 265,
    "start_time": "2024-09-23T18:31:33.094Z"
   },
   {
    "duration": 177,
    "start_time": "2024-09-23T18:31:33.361Z"
   },
   {
    "duration": 306,
    "start_time": "2024-09-23T18:31:33.540Z"
   },
   {
    "duration": 242,
    "start_time": "2024-09-23T18:31:33.847Z"
   },
   {
    "duration": 185,
    "start_time": "2024-09-23T18:31:34.091Z"
   },
   {
    "duration": 1695,
    "start_time": "2024-09-23T18:31:34.279Z"
   },
   {
    "duration": 1173,
    "start_time": "2024-09-23T18:31:35.976Z"
   },
   {
    "duration": 154,
    "start_time": "2024-09-23T18:31:37.151Z"
   },
   {
    "duration": 193,
    "start_time": "2024-09-23T18:31:37.306Z"
   },
   {
    "duration": 0,
    "start_time": "2024-09-23T18:31:37.501Z"
   },
   {
    "duration": 209,
    "start_time": "2024-09-23T18:31:58.974Z"
   },
   {
    "duration": 114,
    "start_time": "2024-09-23T18:32:24.064Z"
   },
   {
    "duration": 112,
    "start_time": "2024-09-23T18:32:29.641Z"
   },
   {
    "duration": 453,
    "start_time": "2024-09-23T18:39:26.703Z"
   },
   {
    "duration": 8,
    "start_time": "2024-09-23T18:39:39.391Z"
   },
   {
    "duration": 155,
    "start_time": "2024-09-23T18:40:20.245Z"
   },
   {
    "duration": 7,
    "start_time": "2024-09-23T18:41:07.267Z"
   },
   {
    "duration": 163,
    "start_time": "2024-09-23T18:41:16.751Z"
   },
   {
    "duration": 135,
    "start_time": "2024-09-23T18:41:57.183Z"
   },
   {
    "duration": 142,
    "start_time": "2024-09-23T18:42:06.421Z"
   },
   {
    "duration": 449,
    "start_time": "2024-09-23T18:42:22.876Z"
   },
   {
    "duration": 161,
    "start_time": "2024-09-23T18:43:12.181Z"
   },
   {
    "duration": 21,
    "start_time": "2024-09-23T18:43:17.173Z"
   },
   {
    "duration": 13,
    "start_time": "2024-09-23T18:45:04.496Z"
   },
   {
    "duration": 447,
    "start_time": "2024-09-23T18:45:10.412Z"
   },
   {
    "duration": 1115,
    "start_time": "2024-09-23T18:45:10.861Z"
   },
   {
    "duration": 12,
    "start_time": "2024-09-23T18:45:11.978Z"
   },
   {
    "duration": 17,
    "start_time": "2024-09-23T18:45:11.993Z"
   },
   {
    "duration": 7,
    "start_time": "2024-09-23T18:45:12.013Z"
   },
   {
    "duration": 8,
    "start_time": "2024-09-23T18:45:12.022Z"
   },
   {
    "duration": 7,
    "start_time": "2024-09-23T18:45:12.032Z"
   },
   {
    "duration": 124,
    "start_time": "2024-09-23T18:45:12.041Z"
   },
   {
    "duration": 112,
    "start_time": "2024-09-23T18:45:12.167Z"
   },
   {
    "duration": 117,
    "start_time": "2024-09-23T18:45:12.281Z"
   },
   {
    "duration": 98,
    "start_time": "2024-09-23T18:45:12.400Z"
   },
   {
    "duration": 33,
    "start_time": "2024-09-23T18:45:12.509Z"
   },
   {
    "duration": 13,
    "start_time": "2024-09-23T18:45:12.544Z"
   },
   {
    "duration": 4,
    "start_time": "2024-09-23T18:45:12.560Z"
   },
   {
    "duration": 17,
    "start_time": "2024-09-23T18:45:12.566Z"
   },
   {
    "duration": 11,
    "start_time": "2024-09-23T18:45:12.609Z"
   },
   {
    "duration": 4,
    "start_time": "2024-09-23T18:45:12.623Z"
   },
   {
    "duration": 9,
    "start_time": "2024-09-23T18:45:12.629Z"
   },
   {
    "duration": 3,
    "start_time": "2024-09-23T18:45:12.640Z"
   },
   {
    "duration": 8,
    "start_time": "2024-09-23T18:45:12.645Z"
   },
   {
    "duration": 872,
    "start_time": "2024-09-23T18:45:12.655Z"
   },
   {
    "duration": 1680,
    "start_time": "2024-09-23T18:45:13.529Z"
   },
   {
    "duration": 6,
    "start_time": "2024-09-23T18:45:15.211Z"
   },
   {
    "duration": 10,
    "start_time": "2024-09-23T18:45:15.218Z"
   },
   {
    "duration": 7,
    "start_time": "2024-09-23T18:45:15.229Z"
   },
   {
    "duration": 10,
    "start_time": "2024-09-23T18:45:15.238Z"
   },
   {
    "duration": 11,
    "start_time": "2024-09-23T18:45:15.250Z"
   },
   {
    "duration": 7,
    "start_time": "2024-09-23T18:45:15.263Z"
   },
   {
    "duration": 54,
    "start_time": "2024-09-23T18:45:15.272Z"
   },
   {
    "duration": 18,
    "start_time": "2024-09-23T18:45:15.328Z"
   },
   {
    "duration": 32,
    "start_time": "2024-09-23T18:45:15.347Z"
   },
   {
    "duration": 39,
    "start_time": "2024-09-23T18:45:15.381Z"
   },
   {
    "duration": 9,
    "start_time": "2024-09-23T18:45:15.422Z"
   },
   {
    "duration": 702,
    "start_time": "2024-09-23T18:45:15.432Z"
   },
   {
    "duration": 6,
    "start_time": "2024-09-23T18:45:16.136Z"
   },
   {
    "duration": 268,
    "start_time": "2024-09-23T18:45:16.144Z"
   },
   {
    "duration": 176,
    "start_time": "2024-09-23T18:45:16.414Z"
   },
   {
    "duration": 273,
    "start_time": "2024-09-23T18:45:16.592Z"
   },
   {
    "duration": 237,
    "start_time": "2024-09-23T18:45:16.867Z"
   },
   {
    "duration": 217,
    "start_time": "2024-09-23T18:45:17.109Z"
   },
   {
    "duration": 1715,
    "start_time": "2024-09-23T18:45:17.330Z"
   },
   {
    "duration": 1236,
    "start_time": "2024-09-23T18:45:19.047Z"
   },
   {
    "duration": 140,
    "start_time": "2024-09-23T18:45:20.285Z"
   },
   {
    "duration": 8,
    "start_time": "2024-09-23T18:45:21.009Z"
   },
   {
    "duration": 490,
    "start_time": "2024-09-23T18:45:21.019Z"
   },
   {
    "duration": 3,
    "start_time": "2024-09-23T18:52:25.201Z"
   },
   {
    "duration": 4,
    "start_time": "2024-09-23T18:53:20.063Z"
   },
   {
    "duration": 937,
    "start_time": "2024-09-23T18:55:34.172Z"
   },
   {
    "duration": 430,
    "start_time": "2024-09-23T19:04:27.893Z"
   },
   {
    "duration": 417,
    "start_time": "2024-09-23T19:05:11.873Z"
   },
   {
    "duration": 449,
    "start_time": "2024-09-23T19:06:43.315Z"
   },
   {
    "duration": 429,
    "start_time": "2024-09-23T19:06:56.052Z"
   },
   {
    "duration": 425,
    "start_time": "2024-09-23T19:08:12.884Z"
   },
   {
    "duration": 432,
    "start_time": "2024-09-23T19:08:41.339Z"
   },
   {
    "duration": 7,
    "start_time": "2024-09-23T19:09:24.936Z"
   },
   {
    "duration": 429,
    "start_time": "2024-09-23T19:09:31.152Z"
   },
   {
    "duration": 426,
    "start_time": "2024-09-23T19:09:58.904Z"
   },
   {
    "duration": 437,
    "start_time": "2024-09-23T19:12:03.933Z"
   },
   {
    "duration": 428,
    "start_time": "2024-09-23T19:13:16.558Z"
   },
   {
    "duration": 440,
    "start_time": "2024-09-23T19:13:25.103Z"
   },
   {
    "duration": 1518,
    "start_time": "2024-09-23T19:13:55.168Z"
   },
   {
    "duration": 1687,
    "start_time": "2024-09-23T19:15:34.928Z"
   },
   {
    "duration": 1499,
    "start_time": "2024-09-23T19:16:20.548Z"
   },
   {
    "duration": 1521,
    "start_time": "2024-09-23T19:16:55.221Z"
   },
   {
    "duration": 1510,
    "start_time": "2024-09-23T19:17:11.034Z"
   },
   {
    "duration": 1514,
    "start_time": "2024-09-23T19:17:32.899Z"
   },
   {
    "duration": 1562,
    "start_time": "2024-09-23T19:17:41.641Z"
   },
   {
    "duration": 508,
    "start_time": "2024-09-23T19:18:22.053Z"
   },
   {
    "duration": 7,
    "start_time": "2024-09-23T19:32:51.021Z"
   },
   {
    "duration": 131,
    "start_time": "2024-09-23T19:35:52.872Z"
   },
   {
    "duration": 134,
    "start_time": "2024-09-23T19:37:04.183Z"
   },
   {
    "duration": 409,
    "start_time": "2024-09-23T19:38:01.116Z"
   },
   {
    "duration": 407,
    "start_time": "2024-09-23T19:38:32.552Z"
   },
   {
    "duration": 127,
    "start_time": "2024-09-23T19:38:56.773Z"
   },
   {
    "duration": 128,
    "start_time": "2024-09-23T19:39:16.349Z"
   },
   {
    "duration": 399,
    "start_time": "2024-09-23T19:40:04.684Z"
   },
   {
    "duration": 129,
    "start_time": "2024-09-23T19:41:00.796Z"
   },
   {
    "duration": 116,
    "start_time": "2024-09-23T19:45:38.805Z"
   },
   {
    "duration": 102,
    "start_time": "2024-09-23T19:46:41.415Z"
   },
   {
    "duration": 102,
    "start_time": "2024-09-23T20:15:54.139Z"
   },
   {
    "duration": 5,
    "start_time": "2024-09-23T20:17:19.485Z"
   },
   {
    "duration": 17,
    "start_time": "2024-09-23T20:17:29.619Z"
   },
   {
    "duration": 18,
    "start_time": "2024-09-23T20:17:36.828Z"
   },
   {
    "duration": 4,
    "start_time": "2024-09-23T20:18:08.661Z"
   },
   {
    "duration": 5,
    "start_time": "2024-09-23T20:18:23.059Z"
   },
   {
    "duration": 460,
    "start_time": "2024-09-23T20:24:32.181Z"
   },
   {
    "duration": 8,
    "start_time": "2024-09-23T21:48:16.267Z"
   },
   {
    "duration": 515,
    "start_time": "2024-09-23T21:54:48.993Z"
   },
   {
    "duration": 342,
    "start_time": "2024-09-23T21:55:01.205Z"
   },
   {
    "duration": 352,
    "start_time": "2024-09-23T21:58:33.265Z"
   },
   {
    "duration": 371,
    "start_time": "2024-09-23T21:59:50.664Z"
   },
   {
    "duration": 389,
    "start_time": "2024-09-23T22:00:52.364Z"
   },
   {
    "duration": 312,
    "start_time": "2024-09-23T22:03:56.938Z"
   },
   {
    "duration": 5,
    "start_time": "2024-09-23T22:11:00.767Z"
   },
   {
    "duration": 369,
    "start_time": "2024-09-23T22:11:15.965Z"
   },
   {
    "duration": 41,
    "start_time": "2024-09-23T22:24:53.450Z"
   },
   {
    "duration": 6,
    "start_time": "2024-09-23T22:25:12.984Z"
   },
   {
    "duration": 41,
    "start_time": "2024-09-23T22:25:26.908Z"
   },
   {
    "duration": 41,
    "start_time": "2024-09-23T22:25:48.530Z"
   },
   {
    "duration": 87,
    "start_time": "2024-09-23T22:26:20.376Z"
   },
   {
    "duration": 365,
    "start_time": "2024-09-23T22:27:17.857Z"
   },
   {
    "duration": 372,
    "start_time": "2024-09-23T22:28:59.877Z"
   },
   {
    "duration": 353,
    "start_time": "2024-09-23T22:30:43.240Z"
   },
   {
    "duration": 381,
    "start_time": "2024-09-23T22:32:06.979Z"
   },
   {
    "duration": 366,
    "start_time": "2024-09-23T22:32:31.447Z"
   },
   {
    "duration": 354,
    "start_time": "2024-09-23T22:32:41.927Z"
   },
   {
    "duration": 350,
    "start_time": "2024-09-23T22:34:16.759Z"
   },
   {
    "duration": 350,
    "start_time": "2024-09-23T22:34:35.466Z"
   },
   {
    "duration": 346,
    "start_time": "2024-09-23T22:35:16.399Z"
   },
   {
    "duration": 5,
    "start_time": "2024-09-23T22:38:53.169Z"
   },
   {
    "duration": 271,
    "start_time": "2024-09-23T22:39:03.525Z"
   },
   {
    "duration": 380,
    "start_time": "2024-09-23T22:39:36.512Z"
   },
   {
    "duration": 366,
    "start_time": "2024-09-23T22:39:41.306Z"
   },
   {
    "duration": 362,
    "start_time": "2024-09-23T22:41:37.993Z"
   },
   {
    "duration": 393,
    "start_time": "2024-09-23T22:46:56.746Z"
   },
   {
    "duration": 375,
    "start_time": "2024-09-23T22:48:47.592Z"
   },
   {
    "duration": 366,
    "start_time": "2024-09-23T22:50:13.038Z"
   },
   {
    "duration": 367,
    "start_time": "2024-09-23T22:50:39.232Z"
   },
   {
    "duration": 358,
    "start_time": "2024-09-23T22:50:48.386Z"
   },
   {
    "duration": 355,
    "start_time": "2024-09-23T22:52:42.817Z"
   },
   {
    "duration": 383,
    "start_time": "2024-09-23T22:53:02.798Z"
   },
   {
    "duration": 392,
    "start_time": "2024-09-23T22:53:15.551Z"
   },
   {
    "duration": 348,
    "start_time": "2024-09-23T22:53:36.552Z"
   },
   {
    "duration": 6,
    "start_time": "2024-09-23T22:55:22.965Z"
   },
   {
    "duration": 368,
    "start_time": "2024-09-23T22:55:27.803Z"
   },
   {
    "duration": 360,
    "start_time": "2024-09-23T22:56:53.004Z"
   },
   {
    "duration": 399,
    "start_time": "2024-09-23T22:57:36.747Z"
   },
   {
    "duration": 353,
    "start_time": "2024-09-23T22:58:56.059Z"
   },
   {
    "duration": 370,
    "start_time": "2024-09-23T23:01:42.282Z"
   },
   {
    "duration": 358,
    "start_time": "2024-09-23T23:01:58.331Z"
   },
   {
    "duration": 382,
    "start_time": "2024-09-23T23:02:24.993Z"
   },
   {
    "duration": 376,
    "start_time": "2024-09-23T23:02:35.090Z"
   },
   {
    "duration": 374,
    "start_time": "2024-09-23T23:03:12.044Z"
   },
   {
    "duration": 358,
    "start_time": "2024-09-23T23:03:21.463Z"
   },
   {
    "duration": 368,
    "start_time": "2024-09-23T23:03:39.114Z"
   },
   {
    "duration": 364,
    "start_time": "2024-09-23T23:03:54.815Z"
   },
   {
    "duration": 365,
    "start_time": "2024-09-23T23:04:08.763Z"
   },
   {
    "duration": 352,
    "start_time": "2024-09-23T23:06:12.669Z"
   },
   {
    "duration": 470,
    "start_time": "2024-09-23T23:10:19.561Z"
   },
   {
    "duration": 161,
    "start_time": "2024-09-24T03:51:56.494Z"
   },
   {
    "duration": 2218,
    "start_time": "2024-09-24T03:52:12.156Z"
   },
   {
    "duration": 1019,
    "start_time": "2024-09-24T03:52:14.376Z"
   },
   {
    "duration": 15,
    "start_time": "2024-09-24T03:52:15.396Z"
   },
   {
    "duration": 11,
    "start_time": "2024-09-24T03:52:15.413Z"
   },
   {
    "duration": 8,
    "start_time": "2024-09-24T03:52:15.425Z"
   },
   {
    "duration": 7,
    "start_time": "2024-09-24T03:52:15.435Z"
   },
   {
    "duration": 7,
    "start_time": "2024-09-24T03:52:15.444Z"
   },
   {
    "duration": 127,
    "start_time": "2024-09-24T03:52:15.453Z"
   },
   {
    "duration": 105,
    "start_time": "2024-09-24T03:52:15.583Z"
   },
   {
    "duration": 117,
    "start_time": "2024-09-24T03:52:15.692Z"
   },
   {
    "duration": 101,
    "start_time": "2024-09-24T03:52:15.810Z"
   },
   {
    "duration": 35,
    "start_time": "2024-09-24T03:52:15.913Z"
   },
   {
    "duration": 12,
    "start_time": "2024-09-24T03:52:15.950Z"
   },
   {
    "duration": 4,
    "start_time": "2024-09-24T03:52:15.964Z"
   },
   {
    "duration": 43,
    "start_time": "2024-09-24T03:52:15.969Z"
   },
   {
    "duration": 14,
    "start_time": "2024-09-24T03:52:16.014Z"
   },
   {
    "duration": 5,
    "start_time": "2024-09-24T03:52:16.030Z"
   },
   {
    "duration": 8,
    "start_time": "2024-09-24T03:52:16.037Z"
   },
   {
    "duration": 3,
    "start_time": "2024-09-24T03:52:16.048Z"
   },
   {
    "duration": 8,
    "start_time": "2024-09-24T03:52:16.052Z"
   },
   {
    "duration": 973,
    "start_time": "2024-09-24T03:52:16.062Z"
   },
   {
    "duration": 1770,
    "start_time": "2024-09-24T03:52:17.037Z"
   },
   {
    "duration": 5,
    "start_time": "2024-09-24T03:52:18.809Z"
   },
   {
    "duration": 9,
    "start_time": "2024-09-24T03:52:18.816Z"
   },
   {
    "duration": 6,
    "start_time": "2024-09-24T03:52:18.826Z"
   },
   {
    "duration": 10,
    "start_time": "2024-09-24T03:52:18.834Z"
   },
   {
    "duration": 10,
    "start_time": "2024-09-24T03:52:18.846Z"
   },
   {
    "duration": 5,
    "start_time": "2024-09-24T03:52:18.860Z"
   },
   {
    "duration": 19,
    "start_time": "2024-09-24T03:52:18.904Z"
   },
   {
    "duration": 18,
    "start_time": "2024-09-24T03:52:18.924Z"
   },
   {
    "duration": 32,
    "start_time": "2024-09-24T03:52:18.943Z"
   },
   {
    "duration": 39,
    "start_time": "2024-09-24T03:52:18.977Z"
   },
   {
    "duration": 67,
    "start_time": "2024-09-24T03:52:19.018Z"
   },
   {
    "duration": 706,
    "start_time": "2024-09-24T03:52:19.086Z"
   },
   {
    "duration": 14,
    "start_time": "2024-09-24T03:52:19.794Z"
   },
   {
    "duration": 269,
    "start_time": "2024-09-24T03:52:19.810Z"
   },
   {
    "duration": 179,
    "start_time": "2024-09-24T03:52:20.081Z"
   },
   {
    "duration": 290,
    "start_time": "2024-09-24T03:52:20.262Z"
   },
   {
    "duration": 244,
    "start_time": "2024-09-24T03:52:20.554Z"
   },
   {
    "duration": 234,
    "start_time": "2024-09-24T03:52:20.800Z"
   },
   {
    "duration": 1844,
    "start_time": "2024-09-24T03:52:21.037Z"
   },
   {
    "duration": 1332,
    "start_time": "2024-09-24T03:52:22.882Z"
   },
   {
    "duration": 131,
    "start_time": "2024-09-24T03:52:24.215Z"
   },
   {
    "duration": 463,
    "start_time": "2024-09-24T03:52:24.348Z"
   },
   {
    "duration": 454,
    "start_time": "2024-09-24T03:52:24.813Z"
   },
   {
    "duration": 493,
    "start_time": "2024-09-24T03:52:25.269Z"
   },
   {
    "duration": 282,
    "start_time": "2024-09-24T04:07:24.833Z"
   },
   {
    "duration": 8,
    "start_time": "2024-09-24T04:09:53.368Z"
   },
   {
    "duration": 15,
    "start_time": "2024-09-24T04:14:31.248Z"
   },
   {
    "duration": 101,
    "start_time": "2024-09-24T04:24:48.903Z"
   },
   {
    "duration": 821,
    "start_time": "2024-09-24T04:29:51.599Z"
   },
   {
    "duration": 91,
    "start_time": "2024-09-24T04:32:34.781Z"
   },
   {
    "duration": 668,
    "start_time": "2024-09-24T04:36:12.607Z"
   },
   {
    "duration": 636,
    "start_time": "2024-09-24T04:38:03.652Z"
   },
   {
    "duration": 702,
    "start_time": "2024-09-24T04:38:27.121Z"
   },
   {
    "duration": 633,
    "start_time": "2024-09-24T04:39:46.246Z"
   },
   {
    "duration": 644,
    "start_time": "2024-09-24T04:42:28.742Z"
   },
   {
    "duration": 721,
    "start_time": "2024-09-24T04:42:39.816Z"
   },
   {
    "duration": 389,
    "start_time": "2024-09-24T04:46:19.216Z"
   },
   {
    "duration": 981,
    "start_time": "2024-09-24T04:50:00.218Z"
   },
   {
    "duration": 406,
    "start_time": "2024-09-24T04:52:50.962Z"
   },
   {
    "duration": 394,
    "start_time": "2024-09-24T04:53:09.973Z"
   },
   {
    "duration": 404,
    "start_time": "2024-09-24T04:53:49.876Z"
   },
   {
    "duration": 1096,
    "start_time": "2024-09-24T04:58:47.275Z"
   },
   {
    "duration": 406,
    "start_time": "2024-09-24T04:59:23.941Z"
   },
   {
    "duration": 426,
    "start_time": "2024-09-24T05:03:51.781Z"
   },
   {
    "duration": 410,
    "start_time": "2024-09-24T05:04:03.400Z"
   },
   {
    "duration": 410,
    "start_time": "2024-09-24T05:04:57.623Z"
   },
   {
    "duration": 408,
    "start_time": "2024-09-24T05:06:26.827Z"
   },
   {
    "duration": 446,
    "start_time": "2024-09-24T05:10:29.859Z"
   },
   {
    "duration": 424,
    "start_time": "2024-09-24T05:10:54.131Z"
   },
   {
    "duration": 407,
    "start_time": "2024-09-24T05:11:10.442Z"
   },
   {
    "duration": 437,
    "start_time": "2024-09-24T05:12:25.997Z"
   },
   {
    "duration": 1250,
    "start_time": "2024-09-24T05:13:22.889Z"
   },
   {
    "duration": 401,
    "start_time": "2024-09-24T05:14:14.884Z"
   },
   {
    "duration": 1768,
    "start_time": "2024-09-24T05:15:40.082Z"
   },
   {
    "duration": 1355,
    "start_time": "2024-09-24T05:16:02.883Z"
   },
   {
    "duration": 1536,
    "start_time": "2024-09-24T05:17:27.231Z"
   },
   {
    "duration": 1279,
    "start_time": "2024-09-24T05:18:06.012Z"
   },
   {
    "duration": 1340,
    "start_time": "2024-09-24T05:18:28.176Z"
   },
   {
    "duration": 1192,
    "start_time": "2024-09-24T05:19:23.156Z"
   },
   {
    "duration": 1221,
    "start_time": "2024-09-24T05:20:12.522Z"
   },
   {
    "duration": 1288,
    "start_time": "2024-09-24T05:20:43.502Z"
   },
   {
    "duration": 6,
    "start_time": "2024-09-24T16:33:49.460Z"
   },
   {
    "duration": 7,
    "start_time": "2024-09-24T16:34:29.034Z"
   },
   {
    "duration": 4,
    "start_time": "2024-09-24T16:34:39.444Z"
   },
   {
    "duration": 4,
    "start_time": "2024-09-24T16:35:16.291Z"
   },
   {
    "duration": 3,
    "start_time": "2024-09-24T16:35:53.535Z"
   },
   {
    "duration": 4,
    "start_time": "2024-09-24T16:38:36.915Z"
   },
   {
    "duration": 4,
    "start_time": "2024-09-24T16:51:35.755Z"
   },
   {
    "duration": 3,
    "start_time": "2024-09-24T16:52:03.175Z"
   },
   {
    "duration": 4,
    "start_time": "2024-09-24T16:55:55.332Z"
   },
   {
    "duration": 2127,
    "start_time": "2024-09-24T17:03:42.204Z"
   },
   {
    "duration": 187,
    "start_time": "2024-09-24T17:35:51.473Z"
   },
   {
    "duration": 3,
    "start_time": "2024-09-24T17:36:04.549Z"
   },
   {
    "duration": 996,
    "start_time": "2024-09-24T17:36:05.085Z"
   },
   {
    "duration": 12,
    "start_time": "2024-09-24T17:36:06.429Z"
   },
   {
    "duration": 10,
    "start_time": "2024-09-24T17:36:07.077Z"
   },
   {
    "duration": 8,
    "start_time": "2024-09-24T17:36:07.717Z"
   },
   {
    "duration": 9,
    "start_time": "2024-09-24T17:36:08.532Z"
   },
   {
    "duration": 7,
    "start_time": "2024-09-24T17:36:09.507Z"
   },
   {
    "duration": 3,
    "start_time": "2024-09-24T17:36:15.688Z"
   },
   {
    "duration": 386,
    "start_time": "2024-09-24T18:49:35.053Z"
   },
   {
    "duration": 5,
    "start_time": "2024-09-24T18:50:51.108Z"
   },
   {
    "duration": 4,
    "start_time": "2024-09-24T18:52:11.719Z"
   },
   {
    "duration": 4,
    "start_time": "2024-09-24T18:54:43.904Z"
   },
   {
    "duration": 3,
    "start_time": "2024-09-24T18:54:55.342Z"
   },
   {
    "duration": 14,
    "start_time": "2024-09-24T19:05:08.316Z"
   },
   {
    "duration": 17,
    "start_time": "2024-09-24T19:06:30.555Z"
   },
   {
    "duration": 19,
    "start_time": "2024-09-24T19:07:06.946Z"
   },
   {
    "duration": 12,
    "start_time": "2024-09-24T19:09:31.066Z"
   },
   {
    "duration": 3,
    "start_time": "2024-09-24T19:25:58.230Z"
   },
   {
    "duration": 4,
    "start_time": "2024-09-24T19:50:24.302Z"
   },
   {
    "duration": 15,
    "start_time": "2024-09-24T20:09:04.205Z"
   },
   {
    "duration": 454,
    "start_time": "2024-09-24T20:09:12.434Z"
   },
   {
    "duration": 916,
    "start_time": "2024-09-24T20:09:12.891Z"
   },
   {
    "duration": 11,
    "start_time": "2024-09-24T20:09:13.808Z"
   },
   {
    "duration": 9,
    "start_time": "2024-09-24T20:09:13.831Z"
   },
   {
    "duration": 6,
    "start_time": "2024-09-24T20:09:13.842Z"
   },
   {
    "duration": 9,
    "start_time": "2024-09-24T20:09:13.850Z"
   },
   {
    "duration": 7,
    "start_time": "2024-09-24T20:09:13.861Z"
   },
   {
    "duration": 124,
    "start_time": "2024-09-24T20:09:13.870Z"
   },
   {
    "duration": 112,
    "start_time": "2024-09-24T20:09:13.996Z"
   },
   {
    "duration": 120,
    "start_time": "2024-09-24T20:09:14.111Z"
   },
   {
    "duration": 114,
    "start_time": "2024-09-24T20:09:14.232Z"
   },
   {
    "duration": 34,
    "start_time": "2024-09-24T20:09:14.348Z"
   },
   {
    "duration": 12,
    "start_time": "2024-09-24T20:09:14.384Z"
   },
   {
    "duration": 3,
    "start_time": "2024-09-24T20:09:14.398Z"
   },
   {
    "duration": 42,
    "start_time": "2024-09-24T20:09:14.403Z"
   },
   {
    "duration": 12,
    "start_time": "2024-09-24T20:09:14.447Z"
   },
   {
    "duration": 4,
    "start_time": "2024-09-24T20:09:14.461Z"
   },
   {
    "duration": 4,
    "start_time": "2024-09-24T20:09:14.466Z"
   },
   {
    "duration": 4,
    "start_time": "2024-09-24T20:09:14.472Z"
   },
   {
    "duration": 4,
    "start_time": "2024-09-24T20:09:14.477Z"
   },
   {
    "duration": 892,
    "start_time": "2024-09-24T20:09:14.482Z"
   },
   {
    "duration": 1696,
    "start_time": "2024-09-24T20:09:15.376Z"
   },
   {
    "duration": 5,
    "start_time": "2024-09-24T20:09:17.075Z"
   },
   {
    "duration": 9,
    "start_time": "2024-09-24T20:09:17.083Z"
   },
   {
    "duration": 6,
    "start_time": "2024-09-24T20:09:17.094Z"
   },
   {
    "duration": 38,
    "start_time": "2024-09-24T20:09:17.102Z"
   },
   {
    "duration": 11,
    "start_time": "2024-09-24T20:09:17.142Z"
   },
   {
    "duration": 5,
    "start_time": "2024-09-24T20:09:17.156Z"
   },
   {
    "duration": 17,
    "start_time": "2024-09-24T20:09:17.163Z"
   },
   {
    "duration": 16,
    "start_time": "2024-09-24T20:09:17.182Z"
   },
   {
    "duration": 60,
    "start_time": "2024-09-24T20:09:17.200Z"
   },
   {
    "duration": 14,
    "start_time": "2024-09-24T20:09:17.261Z"
   },
   {
    "duration": 82,
    "start_time": "2024-09-24T20:09:17.277Z"
   },
   {
    "duration": 721,
    "start_time": "2024-09-24T20:09:17.360Z"
   },
   {
    "duration": 7,
    "start_time": "2024-09-24T20:09:18.083Z"
   },
   {
    "duration": 272,
    "start_time": "2024-09-24T20:09:18.092Z"
   },
   {
    "duration": 175,
    "start_time": "2024-09-24T20:09:18.366Z"
   },
   {
    "duration": 261,
    "start_time": "2024-09-24T20:09:18.543Z"
   },
   {
    "duration": 235,
    "start_time": "2024-09-24T20:09:18.806Z"
   },
   {
    "duration": 190,
    "start_time": "2024-09-24T20:09:19.043Z"
   },
   {
    "duration": 1757,
    "start_time": "2024-09-24T20:09:19.235Z"
   },
   {
    "duration": 1237,
    "start_time": "2024-09-24T20:09:20.994Z"
   },
   {
    "duration": 132,
    "start_time": "2024-09-24T20:09:22.233Z"
   },
   {
    "duration": 441,
    "start_time": "2024-09-24T20:09:22.367Z"
   },
   {
    "duration": 423,
    "start_time": "2024-09-24T20:09:22.810Z"
   },
   {
    "duration": 463,
    "start_time": "2024-09-24T20:09:23.235Z"
   },
   {
    "duration": 1277,
    "start_time": "2024-09-24T20:09:23.700Z"
   },
   {
    "duration": 462,
    "start_time": "2024-09-24T20:09:24.979Z"
   },
   {
    "duration": 6,
    "start_time": "2024-09-24T20:59:24.937Z"
   },
   {
    "duration": 356,
    "start_time": "2024-09-24T22:09:54.537Z"
   },
   {
    "duration": 401,
    "start_time": "2024-09-24T22:10:06.167Z"
   },
   {
    "duration": 1233,
    "start_time": "2024-09-24T22:10:26.110Z"
   },
   {
    "duration": 393,
    "start_time": "2024-09-24T22:10:55.972Z"
   },
   {
    "duration": 345,
    "start_time": "2024-09-24T22:18:39.304Z"
   },
   {
    "duration": 405,
    "start_time": "2024-09-24T22:18:57.670Z"
   },
   {
    "duration": 1250,
    "start_time": "2024-09-24T22:19:20.008Z"
   },
   {
    "duration": 2,
    "start_time": "2024-09-24T22:22:22.155Z"
   },
   {
    "duration": 7,
    "start_time": "2024-09-24T22:23:22.225Z"
   },
   {
    "duration": 125,
    "start_time": "2024-09-24T23:00:18.795Z"
   },
   {
    "duration": 1275,
    "start_time": "2024-09-24T23:00:30.822Z"
   },
   {
    "duration": 237,
    "start_time": "2024-09-24T23:02:50.023Z"
   },
   {
    "duration": 168,
    "start_time": "2024-09-24T23:02:59.483Z"
   },
   {
    "duration": 202,
    "start_time": "2024-09-24T23:29:13.104Z"
   },
   {
    "duration": 19,
    "start_time": "2024-09-24T23:29:47.818Z"
   },
   {
    "duration": 450,
    "start_time": "2024-09-24T23:30:00.357Z"
   },
   {
    "duration": 933,
    "start_time": "2024-09-24T23:30:00.809Z"
   },
   {
    "duration": 16,
    "start_time": "2024-09-24T23:30:01.744Z"
   },
   {
    "duration": 10,
    "start_time": "2024-09-24T23:30:01.764Z"
   },
   {
    "duration": 10,
    "start_time": "2024-09-24T23:30:01.776Z"
   },
   {
    "duration": 11,
    "start_time": "2024-09-24T23:30:01.790Z"
   },
   {
    "duration": 33,
    "start_time": "2024-09-24T23:30:01.803Z"
   },
   {
    "duration": 115,
    "start_time": "2024-09-24T23:30:01.838Z"
   },
   {
    "duration": 107,
    "start_time": "2024-09-24T23:30:01.955Z"
   },
   {
    "duration": 118,
    "start_time": "2024-09-24T23:30:02.065Z"
   },
   {
    "duration": 108,
    "start_time": "2024-09-24T23:30:02.185Z"
   },
   {
    "duration": 37,
    "start_time": "2024-09-24T23:30:02.295Z"
   },
   {
    "duration": 12,
    "start_time": "2024-09-24T23:30:02.334Z"
   },
   {
    "duration": 4,
    "start_time": "2024-09-24T23:30:02.348Z"
   },
   {
    "duration": 17,
    "start_time": "2024-09-24T23:30:02.353Z"
   },
   {
    "duration": 12,
    "start_time": "2024-09-24T23:30:02.371Z"
   },
   {
    "duration": 4,
    "start_time": "2024-09-24T23:30:02.385Z"
   },
   {
    "duration": 4,
    "start_time": "2024-09-24T23:30:02.390Z"
   },
   {
    "duration": 3,
    "start_time": "2024-09-24T23:30:02.431Z"
   },
   {
    "duration": 3,
    "start_time": "2024-09-24T23:30:02.436Z"
   },
   {
    "duration": 902,
    "start_time": "2024-09-24T23:30:02.441Z"
   },
   {
    "duration": 1714,
    "start_time": "2024-09-24T23:30:03.344Z"
   },
   {
    "duration": 6,
    "start_time": "2024-09-24T23:30:05.060Z"
   },
   {
    "duration": 12,
    "start_time": "2024-09-24T23:30:05.067Z"
   },
   {
    "duration": 7,
    "start_time": "2024-09-24T23:30:05.081Z"
   },
   {
    "duration": 19,
    "start_time": "2024-09-24T23:30:05.089Z"
   },
   {
    "duration": 12,
    "start_time": "2024-09-24T23:30:05.130Z"
   },
   {
    "duration": 6,
    "start_time": "2024-09-24T23:30:05.147Z"
   },
   {
    "duration": 17,
    "start_time": "2024-09-24T23:30:05.154Z"
   },
   {
    "duration": 18,
    "start_time": "2024-09-24T23:30:05.174Z"
   },
   {
    "duration": 61,
    "start_time": "2024-09-24T23:30:05.194Z"
   },
   {
    "duration": 14,
    "start_time": "2024-09-24T23:30:05.257Z"
   },
   {
    "duration": 142,
    "start_time": "2024-09-24T23:30:05.273Z"
   },
   {
    "duration": 732,
    "start_time": "2024-09-24T23:30:05.416Z"
   },
   {
    "duration": 7,
    "start_time": "2024-09-24T23:30:06.150Z"
   },
   {
    "duration": 258,
    "start_time": "2024-09-24T23:30:06.159Z"
   },
   {
    "duration": 178,
    "start_time": "2024-09-24T23:30:06.419Z"
   },
   {
    "duration": 265,
    "start_time": "2024-09-24T23:30:06.598Z"
   },
   {
    "duration": 240,
    "start_time": "2024-09-24T23:30:06.865Z"
   },
   {
    "duration": 184,
    "start_time": "2024-09-24T23:30:07.107Z"
   },
   {
    "duration": 1778,
    "start_time": "2024-09-24T23:30:07.293Z"
   },
   {
    "duration": 1309,
    "start_time": "2024-09-24T23:30:09.073Z"
   },
   {
    "duration": 439,
    "start_time": "2024-09-24T23:30:10.384Z"
   },
   {
    "duration": 436,
    "start_time": "2024-09-24T23:30:10.825Z"
   },
   {
    "duration": 470,
    "start_time": "2024-09-24T23:30:11.262Z"
   },
   {
    "duration": 1342,
    "start_time": "2024-09-24T23:30:11.733Z"
   },
   {
    "duration": 478,
    "start_time": "2024-09-24T23:30:13.077Z"
   },
   {
    "duration": 247,
    "start_time": "2024-09-24T23:31:10.359Z"
   },
   {
    "duration": 433,
    "start_time": "2024-09-24T23:31:18.031Z"
   },
   {
    "duration": 901,
    "start_time": "2024-09-24T23:31:18.466Z"
   },
   {
    "duration": 12,
    "start_time": "2024-09-24T23:31:19.369Z"
   },
   {
    "duration": 9,
    "start_time": "2024-09-24T23:31:19.382Z"
   },
   {
    "duration": 7,
    "start_time": "2024-09-24T23:31:19.394Z"
   },
   {
    "duration": 30,
    "start_time": "2024-09-24T23:31:19.403Z"
   },
   {
    "duration": 6,
    "start_time": "2024-09-24T23:31:19.435Z"
   },
   {
    "duration": 109,
    "start_time": "2024-09-24T23:31:19.443Z"
   },
   {
    "duration": 108,
    "start_time": "2024-09-24T23:31:19.555Z"
   },
   {
    "duration": 122,
    "start_time": "2024-09-24T23:31:19.665Z"
   },
   {
    "duration": 114,
    "start_time": "2024-09-24T23:31:19.789Z"
   },
   {
    "duration": 39,
    "start_time": "2024-09-24T23:31:19.905Z"
   },
   {
    "duration": 13,
    "start_time": "2024-09-24T23:31:19.946Z"
   },
   {
    "duration": 3,
    "start_time": "2024-09-24T23:31:19.962Z"
   },
   {
    "duration": 17,
    "start_time": "2024-09-24T23:31:19.967Z"
   },
   {
    "duration": 12,
    "start_time": "2024-09-24T23:31:19.986Z"
   },
   {
    "duration": 33,
    "start_time": "2024-09-24T23:31:20.000Z"
   },
   {
    "duration": 4,
    "start_time": "2024-09-24T23:31:20.035Z"
   },
   {
    "duration": 4,
    "start_time": "2024-09-24T23:31:20.041Z"
   },
   {
    "duration": 4,
    "start_time": "2024-09-24T23:31:20.047Z"
   },
   {
    "duration": 909,
    "start_time": "2024-09-24T23:31:20.055Z"
   },
   {
    "duration": 1705,
    "start_time": "2024-09-24T23:31:20.966Z"
   },
   {
    "duration": 7,
    "start_time": "2024-09-24T23:31:22.673Z"
   },
   {
    "duration": 9,
    "start_time": "2024-09-24T23:31:22.681Z"
   },
   {
    "duration": 5,
    "start_time": "2024-09-24T23:31:22.692Z"
   },
   {
    "duration": 35,
    "start_time": "2024-09-24T23:31:22.699Z"
   },
   {
    "duration": 12,
    "start_time": "2024-09-24T23:31:22.735Z"
   },
   {
    "duration": 5,
    "start_time": "2024-09-24T23:31:22.750Z"
   },
   {
    "duration": 15,
    "start_time": "2024-09-24T23:31:22.757Z"
   },
   {
    "duration": 17,
    "start_time": "2024-09-24T23:31:22.774Z"
   },
   {
    "duration": 55,
    "start_time": "2024-09-24T23:31:22.793Z"
   },
   {
    "duration": 15,
    "start_time": "2024-09-24T23:31:22.850Z"
   },
   {
    "duration": 143,
    "start_time": "2024-09-24T23:31:22.866Z"
   },
   {
    "duration": 726,
    "start_time": "2024-09-24T23:31:23.011Z"
   },
   {
    "duration": 7,
    "start_time": "2024-09-24T23:31:23.738Z"
   },
   {
    "duration": 291,
    "start_time": "2024-09-24T23:31:23.747Z"
   },
   {
    "duration": 184,
    "start_time": "2024-09-24T23:31:24.040Z"
   },
   {
    "duration": 321,
    "start_time": "2024-09-24T23:31:24.226Z"
   },
   {
    "duration": 233,
    "start_time": "2024-09-24T23:31:24.551Z"
   },
   {
    "duration": 186,
    "start_time": "2024-09-24T23:31:24.786Z"
   },
   {
    "duration": 1750,
    "start_time": "2024-09-24T23:31:24.978Z"
   },
   {
    "duration": 1386,
    "start_time": "2024-09-24T23:31:26.730Z"
   },
   {
    "duration": 450,
    "start_time": "2024-09-24T23:31:28.118Z"
   },
   {
    "duration": 437,
    "start_time": "2024-09-24T23:31:28.570Z"
   },
   {
    "duration": 454,
    "start_time": "2024-09-24T23:31:29.009Z"
   },
   {
    "duration": 1303,
    "start_time": "2024-09-24T23:31:29.465Z"
   },
   {
    "duration": 453,
    "start_time": "2024-09-24T23:31:30.770Z"
   },
   {
    "duration": 241,
    "start_time": "2024-09-24T23:34:12.568Z"
   },
   {
    "duration": 406,
    "start_time": "2024-09-24T23:34:20.491Z"
   },
   {
    "duration": 904,
    "start_time": "2024-09-24T23:34:20.900Z"
   },
   {
    "duration": 11,
    "start_time": "2024-09-24T23:34:21.806Z"
   },
   {
    "duration": 18,
    "start_time": "2024-09-24T23:34:21.820Z"
   },
   {
    "duration": 7,
    "start_time": "2024-09-24T23:34:21.839Z"
   },
   {
    "duration": 7,
    "start_time": "2024-09-24T23:34:21.848Z"
   },
   {
    "duration": 6,
    "start_time": "2024-09-24T23:34:21.857Z"
   },
   {
    "duration": 139,
    "start_time": "2024-09-24T23:34:21.865Z"
   },
   {
    "duration": 106,
    "start_time": "2024-09-24T23:34:22.006Z"
   },
   {
    "duration": 150,
    "start_time": "2024-09-24T23:34:22.116Z"
   },
   {
    "duration": 118,
    "start_time": "2024-09-24T23:34:22.268Z"
   },
   {
    "duration": 31,
    "start_time": "2024-09-24T23:34:22.388Z"
   },
   {
    "duration": 12,
    "start_time": "2024-09-24T23:34:22.431Z"
   },
   {
    "duration": 4,
    "start_time": "2024-09-24T23:34:22.444Z"
   },
   {
    "duration": 20,
    "start_time": "2024-09-24T23:34:22.450Z"
   },
   {
    "duration": 11,
    "start_time": "2024-09-24T23:34:22.472Z"
   },
   {
    "duration": 3,
    "start_time": "2024-09-24T23:34:22.485Z"
   },
   {
    "duration": 3,
    "start_time": "2024-09-24T23:34:22.490Z"
   },
   {
    "duration": 37,
    "start_time": "2024-09-24T23:34:22.495Z"
   },
   {
    "duration": 4,
    "start_time": "2024-09-24T23:34:22.533Z"
   },
   {
    "duration": 903,
    "start_time": "2024-09-24T23:34:22.538Z"
   },
   {
    "duration": 1689,
    "start_time": "2024-09-24T23:34:23.442Z"
   },
   {
    "duration": 5,
    "start_time": "2024-09-24T23:34:25.133Z"
   },
   {
    "duration": 9,
    "start_time": "2024-09-24T23:34:25.140Z"
   },
   {
    "duration": 6,
    "start_time": "2024-09-24T23:34:25.151Z"
   },
   {
    "duration": 11,
    "start_time": "2024-09-24T23:34:25.158Z"
   },
   {
    "duration": 12,
    "start_time": "2024-09-24T23:34:25.170Z"
   },
   {
    "duration": 5,
    "start_time": "2024-09-24T23:34:25.187Z"
   },
   {
    "duration": 56,
    "start_time": "2024-09-24T23:34:25.194Z"
   },
   {
    "duration": 17,
    "start_time": "2024-09-24T23:34:25.251Z"
   },
   {
    "duration": 31,
    "start_time": "2024-09-24T23:34:25.270Z"
   },
   {
    "duration": 40,
    "start_time": "2024-09-24T23:34:25.303Z"
   },
   {
    "duration": 67,
    "start_time": "2024-09-24T23:34:25.345Z"
   },
   {
    "duration": 712,
    "start_time": "2024-09-24T23:34:25.413Z"
   },
   {
    "duration": 7,
    "start_time": "2024-09-24T23:34:26.127Z"
   },
   {
    "duration": 261,
    "start_time": "2024-09-24T23:34:26.136Z"
   },
   {
    "duration": 180,
    "start_time": "2024-09-24T23:34:26.399Z"
   },
   {
    "duration": 270,
    "start_time": "2024-09-24T23:34:26.581Z"
   },
   {
    "duration": 239,
    "start_time": "2024-09-24T23:34:26.853Z"
   },
   {
    "duration": 186,
    "start_time": "2024-09-24T23:34:27.094Z"
   },
   {
    "duration": 1804,
    "start_time": "2024-09-24T23:34:27.282Z"
   },
   {
    "duration": 1378,
    "start_time": "2024-09-24T23:34:29.087Z"
   },
   {
    "duration": 444,
    "start_time": "2024-09-24T23:34:30.467Z"
   },
   {
    "duration": 453,
    "start_time": "2024-09-24T23:34:30.913Z"
   },
   {
    "duration": 474,
    "start_time": "2024-09-24T23:34:31.368Z"
   },
   {
    "duration": 1309,
    "start_time": "2024-09-24T23:34:31.844Z"
   },
   {
    "duration": 456,
    "start_time": "2024-09-24T23:34:33.154Z"
   },
   {
    "duration": 242,
    "start_time": "2024-09-24T23:34:47.244Z"
   },
   {
    "duration": 410,
    "start_time": "2024-09-24T23:34:55.998Z"
   },
   {
    "duration": 896,
    "start_time": "2024-09-24T23:34:56.410Z"
   },
   {
    "duration": 12,
    "start_time": "2024-09-24T23:34:57.307Z"
   },
   {
    "duration": 9,
    "start_time": "2024-09-24T23:34:57.330Z"
   },
   {
    "duration": 7,
    "start_time": "2024-09-24T23:34:57.341Z"
   },
   {
    "duration": 8,
    "start_time": "2024-09-24T23:34:57.350Z"
   },
   {
    "duration": 7,
    "start_time": "2024-09-24T23:34:57.359Z"
   },
   {
    "duration": 129,
    "start_time": "2024-09-24T23:34:57.367Z"
   },
   {
    "duration": 110,
    "start_time": "2024-09-24T23:34:57.497Z"
   },
   {
    "duration": 130,
    "start_time": "2024-09-24T23:34:57.611Z"
   },
   {
    "duration": 109,
    "start_time": "2024-09-24T23:34:57.744Z"
   },
   {
    "duration": 34,
    "start_time": "2024-09-24T23:34:57.855Z"
   },
   {
    "duration": 13,
    "start_time": "2024-09-24T23:34:57.890Z"
   },
   {
    "duration": 4,
    "start_time": "2024-09-24T23:34:57.904Z"
   },
   {
    "duration": 38,
    "start_time": "2024-09-24T23:34:57.910Z"
   },
   {
    "duration": 11,
    "start_time": "2024-09-24T23:34:57.950Z"
   },
   {
    "duration": 4,
    "start_time": "2024-09-24T23:34:57.963Z"
   },
   {
    "duration": 3,
    "start_time": "2024-09-24T23:34:57.969Z"
   },
   {
    "duration": 4,
    "start_time": "2024-09-24T23:34:57.975Z"
   },
   {
    "duration": 3,
    "start_time": "2024-09-24T23:34:57.981Z"
   },
   {
    "duration": 925,
    "start_time": "2024-09-24T23:34:57.986Z"
   },
   {
    "duration": 1707,
    "start_time": "2024-09-24T23:34:58.913Z"
   },
   {
    "duration": 14,
    "start_time": "2024-09-24T23:35:00.621Z"
   },
   {
    "duration": 8,
    "start_time": "2024-09-24T23:35:00.637Z"
   },
   {
    "duration": 6,
    "start_time": "2024-09-24T23:35:00.647Z"
   },
   {
    "duration": 11,
    "start_time": "2024-09-24T23:35:00.654Z"
   },
   {
    "duration": 11,
    "start_time": "2024-09-24T23:35:00.667Z"
   },
   {
    "duration": 6,
    "start_time": "2024-09-24T23:35:00.683Z"
   },
   {
    "duration": 52,
    "start_time": "2024-09-24T23:35:00.691Z"
   },
   {
    "duration": 17,
    "start_time": "2024-09-24T23:35:00.745Z"
   },
   {
    "duration": 31,
    "start_time": "2024-09-24T23:35:00.763Z"
   },
   {
    "duration": 39,
    "start_time": "2024-09-24T23:35:00.796Z"
   },
   {
    "duration": 65,
    "start_time": "2024-09-24T23:35:00.836Z"
   },
   {
    "duration": 709,
    "start_time": "2024-09-24T23:35:00.903Z"
   },
   {
    "duration": 5,
    "start_time": "2024-09-24T23:35:01.614Z"
   },
   {
    "duration": 251,
    "start_time": "2024-09-24T23:35:01.632Z"
   },
   {
    "duration": 182,
    "start_time": "2024-09-24T23:35:01.885Z"
   },
   {
    "duration": 284,
    "start_time": "2024-09-24T23:35:02.068Z"
   },
   {
    "duration": 246,
    "start_time": "2024-09-24T23:35:02.354Z"
   },
   {
    "duration": 185,
    "start_time": "2024-09-24T23:35:02.602Z"
   },
   {
    "duration": 1769,
    "start_time": "2024-09-24T23:35:02.789Z"
   },
   {
    "duration": 1428,
    "start_time": "2024-09-24T23:35:04.560Z"
   },
   {
    "duration": 441,
    "start_time": "2024-09-24T23:35:05.990Z"
   },
   {
    "duration": 442,
    "start_time": "2024-09-24T23:35:06.433Z"
   },
   {
    "duration": 467,
    "start_time": "2024-09-24T23:35:06.877Z"
   },
   {
    "duration": 1299,
    "start_time": "2024-09-24T23:35:07.345Z"
   },
   {
    "duration": 474,
    "start_time": "2024-09-24T23:35:08.646Z"
   },
   {
    "duration": 153,
    "start_time": "2024-09-26T03:48:04.791Z"
   },
   {
    "duration": 2128,
    "start_time": "2024-09-26T03:48:15.227Z"
   },
   {
    "duration": 1033,
    "start_time": "2024-09-26T03:48:17.357Z"
   },
   {
    "duration": 13,
    "start_time": "2024-09-26T03:48:18.392Z"
   },
   {
    "duration": 9,
    "start_time": "2024-09-26T03:48:18.408Z"
   },
   {
    "duration": 7,
    "start_time": "2024-09-26T03:48:18.418Z"
   },
   {
    "duration": 8,
    "start_time": "2024-09-26T03:48:18.427Z"
   },
   {
    "duration": 6,
    "start_time": "2024-09-26T03:48:18.436Z"
   },
   {
    "duration": 123,
    "start_time": "2024-09-26T03:48:18.444Z"
   },
   {
    "duration": 103,
    "start_time": "2024-09-26T03:48:18.569Z"
   },
   {
    "duration": 3,
    "start_time": "2024-09-26T03:48:18.676Z"
   },
   {
    "duration": 117,
    "start_time": "2024-09-26T03:48:18.680Z"
   },
   {
    "duration": 98,
    "start_time": "2024-09-26T03:48:18.798Z"
   },
   {
    "duration": 38,
    "start_time": "2024-09-26T03:48:18.897Z"
   },
   {
    "duration": 14,
    "start_time": "2024-09-26T03:48:18.936Z"
   },
   {
    "duration": 4,
    "start_time": "2024-09-26T03:48:18.951Z"
   },
   {
    "duration": 16,
    "start_time": "2024-09-26T03:48:18.957Z"
   },
   {
    "duration": 35,
    "start_time": "2024-09-26T03:48:18.975Z"
   },
   {
    "duration": 3,
    "start_time": "2024-09-26T03:48:19.012Z"
   },
   {
    "duration": 4,
    "start_time": "2024-09-26T03:48:19.017Z"
   },
   {
    "duration": 4,
    "start_time": "2024-09-26T03:48:19.023Z"
   },
   {
    "duration": 4,
    "start_time": "2024-09-26T03:48:19.028Z"
   },
   {
    "duration": 923,
    "start_time": "2024-09-26T03:48:19.034Z"
   },
   {
    "duration": 1703,
    "start_time": "2024-09-26T03:48:19.959Z"
   },
   {
    "duration": 5,
    "start_time": "2024-09-26T03:48:21.664Z"
   },
   {
    "duration": 9,
    "start_time": "2024-09-26T03:48:21.670Z"
   },
   {
    "duration": 27,
    "start_time": "2024-09-26T03:48:21.680Z"
   },
   {
    "duration": 12,
    "start_time": "2024-09-26T03:48:21.708Z"
   },
   {
    "duration": 12,
    "start_time": "2024-09-26T03:48:21.724Z"
   },
   {
    "duration": 6,
    "start_time": "2024-09-26T03:48:21.737Z"
   },
   {
    "duration": 16,
    "start_time": "2024-09-26T03:48:21.744Z"
   },
   {
    "duration": 50,
    "start_time": "2024-09-26T03:48:21.762Z"
   },
   {
    "duration": 32,
    "start_time": "2024-09-26T03:48:21.813Z"
   },
   {
    "duration": 14,
    "start_time": "2024-09-26T03:48:21.847Z"
   },
   {
    "duration": 85,
    "start_time": "2024-09-26T03:48:21.863Z"
   },
   {
    "duration": 729,
    "start_time": "2024-09-26T03:48:21.950Z"
   },
   {
    "duration": 6,
    "start_time": "2024-09-26T03:48:22.681Z"
   },
   {
    "duration": 298,
    "start_time": "2024-09-26T03:48:22.690Z"
   },
   {
    "duration": 179,
    "start_time": "2024-09-26T03:48:22.990Z"
   },
   {
    "duration": 290,
    "start_time": "2024-09-26T03:48:23.171Z"
   },
   {
    "duration": 232,
    "start_time": "2024-09-26T03:48:23.462Z"
   },
   {
    "duration": 183,
    "start_time": "2024-09-26T03:48:23.696Z"
   },
   {
    "duration": 1770,
    "start_time": "2024-09-26T03:48:23.880Z"
   },
   {
    "duration": 1355,
    "start_time": "2024-09-26T03:48:25.653Z"
   },
   {
    "duration": 437,
    "start_time": "2024-09-26T03:48:27.009Z"
   },
   {
    "duration": 544,
    "start_time": "2024-09-26T03:48:27.448Z"
   },
   {
    "duration": 512,
    "start_time": "2024-09-26T03:48:27.994Z"
   },
   {
    "duration": 1361,
    "start_time": "2024-09-26T03:48:28.508Z"
   },
   {
    "duration": 474,
    "start_time": "2024-09-26T03:48:29.871Z"
   },
   {
    "duration": 5,
    "start_time": "2024-09-26T03:50:49.476Z"
   },
   {
    "duration": 72,
    "start_time": "2024-09-26T03:51:30.197Z"
   },
   {
    "duration": 74,
    "start_time": "2024-09-26T03:54:46.017Z"
   },
   {
    "duration": 7,
    "start_time": "2024-09-26T03:58:13.045Z"
   },
   {
    "duration": 7,
    "start_time": "2024-09-26T04:08:08.218Z"
   },
   {
    "duration": 5,
    "start_time": "2024-09-26T04:08:59.162Z"
   },
   {
    "duration": 6,
    "start_time": "2024-09-26T04:15:46.899Z"
   },
   {
    "duration": 243,
    "start_time": "2024-09-26T04:16:07.873Z"
   },
   {
    "duration": 14,
    "start_time": "2024-09-26T04:16:33.285Z"
   },
   {
    "duration": 5,
    "start_time": "2024-09-26T04:17:03.268Z"
   },
   {
    "duration": 4,
    "start_time": "2024-09-26T04:18:41.186Z"
   },
   {
    "duration": 5,
    "start_time": "2024-09-26T04:19:52.272Z"
   },
   {
    "duration": 5,
    "start_time": "2024-09-26T04:20:47.600Z"
   },
   {
    "duration": 4,
    "start_time": "2024-09-26T04:32:18.099Z"
   },
   {
    "duration": 157,
    "start_time": "2024-09-26T04:33:37.063Z"
   },
   {
    "duration": 441,
    "start_time": "2024-09-26T04:34:14.357Z"
   },
   {
    "duration": 1084,
    "start_time": "2024-09-26T04:34:14.800Z"
   },
   {
    "duration": 11,
    "start_time": "2024-09-26T04:34:15.886Z"
   },
   {
    "duration": 9,
    "start_time": "2024-09-26T04:34:15.907Z"
   },
   {
    "duration": 7,
    "start_time": "2024-09-26T04:34:15.917Z"
   },
   {
    "duration": 8,
    "start_time": "2024-09-26T04:34:15.926Z"
   },
   {
    "duration": 7,
    "start_time": "2024-09-26T04:34:15.936Z"
   },
   {
    "duration": 125,
    "start_time": "2024-09-26T04:34:15.944Z"
   },
   {
    "duration": 108,
    "start_time": "2024-09-26T04:34:16.071Z"
   },
   {
    "duration": 8,
    "start_time": "2024-09-26T04:34:16.183Z"
   },
   {
    "duration": 123,
    "start_time": "2024-09-26T04:34:16.193Z"
   },
   {
    "duration": 106,
    "start_time": "2024-09-26T04:34:16.318Z"
   },
   {
    "duration": 33,
    "start_time": "2024-09-26T04:34:16.426Z"
   },
   {
    "duration": 13,
    "start_time": "2024-09-26T04:34:16.461Z"
   },
   {
    "duration": 3,
    "start_time": "2024-09-26T04:34:16.475Z"
   },
   {
    "duration": 40,
    "start_time": "2024-09-26T04:34:16.480Z"
   },
   {
    "duration": 15,
    "start_time": "2024-09-26T04:34:16.522Z"
   },
   {
    "duration": 4,
    "start_time": "2024-09-26T04:34:16.539Z"
   },
   {
    "duration": 5,
    "start_time": "2024-09-26T04:34:16.544Z"
   },
   {
    "duration": 4,
    "start_time": "2024-09-26T04:34:16.550Z"
   },
   {
    "duration": 4,
    "start_time": "2024-09-26T04:34:16.555Z"
   },
   {
    "duration": 927,
    "start_time": "2024-09-26T04:34:16.561Z"
   },
   {
    "duration": 1689,
    "start_time": "2024-09-26T04:34:17.490Z"
   },
   {
    "duration": 7,
    "start_time": "2024-09-26T04:34:19.180Z"
   },
   {
    "duration": 22,
    "start_time": "2024-09-26T04:34:19.188Z"
   },
   {
    "duration": 6,
    "start_time": "2024-09-26T04:34:19.211Z"
   },
   {
    "duration": 11,
    "start_time": "2024-09-26T04:34:19.219Z"
   },
   {
    "duration": 10,
    "start_time": "2024-09-26T04:34:19.234Z"
   },
   {
    "duration": 6,
    "start_time": "2024-09-26T04:34:19.246Z"
   },
   {
    "duration": 16,
    "start_time": "2024-09-26T04:34:19.253Z"
   },
   {
    "duration": 17,
    "start_time": "2024-09-26T04:34:19.305Z"
   },
   {
    "duration": 33,
    "start_time": "2024-09-26T04:34:19.324Z"
   },
   {
    "duration": 14,
    "start_time": "2024-09-26T04:34:19.359Z"
   },
   {
    "duration": 87,
    "start_time": "2024-09-26T04:34:19.375Z"
   },
   {
    "duration": 720,
    "start_time": "2024-09-26T04:34:19.464Z"
   },
   {
    "duration": 6,
    "start_time": "2024-09-26T04:34:20.186Z"
   },
   {
    "duration": 14,
    "start_time": "2024-09-26T04:34:20.193Z"
   },
   {
    "duration": 5,
    "start_time": "2024-09-26T04:34:20.208Z"
   },
   {
    "duration": 266,
    "start_time": "2024-09-26T04:34:20.215Z"
   },
   {
    "duration": 174,
    "start_time": "2024-09-26T04:34:20.482Z"
   },
   {
    "duration": 277,
    "start_time": "2024-09-26T04:34:20.657Z"
   },
   {
    "duration": 239,
    "start_time": "2024-09-26T04:34:20.936Z"
   },
   {
    "duration": 184,
    "start_time": "2024-09-26T04:34:21.177Z"
   },
   {
    "duration": 1793,
    "start_time": "2024-09-26T04:34:21.363Z"
   },
   {
    "duration": 1359,
    "start_time": "2024-09-26T04:34:23.158Z"
   },
   {
    "duration": 451,
    "start_time": "2024-09-26T04:34:24.520Z"
   },
   {
    "duration": 435,
    "start_time": "2024-09-26T04:34:24.972Z"
   },
   {
    "duration": 411,
    "start_time": "2024-09-26T04:38:59.181Z"
   },
   {
    "duration": 1038,
    "start_time": "2024-09-26T04:38:59.594Z"
   },
   {
    "duration": 12,
    "start_time": "2024-09-26T04:39:00.633Z"
   },
   {
    "duration": 9,
    "start_time": "2024-09-26T04:39:00.647Z"
   },
   {
    "duration": 8,
    "start_time": "2024-09-26T04:39:00.657Z"
   },
   {
    "duration": 8,
    "start_time": "2024-09-26T04:39:00.667Z"
   },
   {
    "duration": 8,
    "start_time": "2024-09-26T04:39:00.704Z"
   },
   {
    "duration": 113,
    "start_time": "2024-09-26T04:39:00.714Z"
   },
   {
    "duration": 105,
    "start_time": "2024-09-26T04:39:00.829Z"
   },
   {
    "duration": 7,
    "start_time": "2024-09-26T04:39:00.938Z"
   },
   {
    "duration": 126,
    "start_time": "2024-09-26T04:39:00.947Z"
   },
   {
    "duration": 105,
    "start_time": "2024-09-26T04:39:01.075Z"
   },
   {
    "duration": 41,
    "start_time": "2024-09-26T04:39:01.182Z"
   },
   {
    "duration": 12,
    "start_time": "2024-09-26T04:39:01.225Z"
   },
   {
    "duration": 4,
    "start_time": "2024-09-26T04:39:01.239Z"
   },
   {
    "duration": 22,
    "start_time": "2024-09-26T04:39:01.244Z"
   },
   {
    "duration": 37,
    "start_time": "2024-09-26T04:39:01.268Z"
   },
   {
    "duration": 4,
    "start_time": "2024-09-26T04:39:01.307Z"
   },
   {
    "duration": 4,
    "start_time": "2024-09-26T04:39:01.312Z"
   },
   {
    "duration": 3,
    "start_time": "2024-09-26T04:39:01.318Z"
   },
   {
    "duration": 4,
    "start_time": "2024-09-26T04:39:01.322Z"
   },
   {
    "duration": 921,
    "start_time": "2024-09-26T04:39:01.327Z"
   },
   {
    "duration": 1775,
    "start_time": "2024-09-26T04:39:02.250Z"
   },
   {
    "duration": 5,
    "start_time": "2024-09-26T04:39:04.027Z"
   },
   {
    "duration": 8,
    "start_time": "2024-09-26T04:39:04.034Z"
   },
   {
    "duration": 6,
    "start_time": "2024-09-26T04:39:04.044Z"
   },
   {
    "duration": 11,
    "start_time": "2024-09-26T04:39:04.051Z"
   },
   {
    "duration": 44,
    "start_time": "2024-09-26T04:39:04.067Z"
   },
   {
    "duration": 6,
    "start_time": "2024-09-26T04:39:04.113Z"
   },
   {
    "duration": 21,
    "start_time": "2024-09-26T04:39:04.120Z"
   },
   {
    "duration": 21,
    "start_time": "2024-09-26T04:39:04.143Z"
   },
   {
    "duration": 64,
    "start_time": "2024-09-26T04:39:04.167Z"
   },
   {
    "duration": 15,
    "start_time": "2024-09-26T04:39:04.233Z"
   },
   {
    "duration": 77,
    "start_time": "2024-09-26T04:39:04.250Z"
   },
   {
    "duration": 720,
    "start_time": "2024-09-26T04:39:04.329Z"
   },
   {
    "duration": 6,
    "start_time": "2024-09-26T04:39:05.051Z"
   },
   {
    "duration": 4,
    "start_time": "2024-09-26T04:39:05.059Z"
   },
   {
    "duration": 5,
    "start_time": "2024-09-26T04:39:05.064Z"
   },
   {
    "duration": 269,
    "start_time": "2024-09-26T04:39:05.071Z"
   },
   {
    "duration": 174,
    "start_time": "2024-09-26T04:39:05.342Z"
   },
   {
    "duration": 266,
    "start_time": "2024-09-26T04:39:05.517Z"
   },
   {
    "duration": 235,
    "start_time": "2024-09-26T04:39:05.785Z"
   },
   {
    "duration": 183,
    "start_time": "2024-09-26T04:39:06.022Z"
   },
   {
    "duration": 1768,
    "start_time": "2024-09-26T04:39:06.207Z"
   },
   {
    "duration": 1360,
    "start_time": "2024-09-26T04:39:07.977Z"
   },
   {
    "duration": 450,
    "start_time": "2024-09-26T04:39:09.339Z"
   },
   {
    "duration": 430,
    "start_time": "2024-09-26T04:39:09.790Z"
   },
   {
    "duration": 156,
    "start_time": "2024-09-26T04:46:13.685Z"
   },
   {
    "duration": 420,
    "start_time": "2024-09-26T04:46:41.585Z"
   },
   {
    "duration": 1099,
    "start_time": "2024-09-26T04:46:42.007Z"
   },
   {
    "duration": 13,
    "start_time": "2024-09-26T04:46:43.110Z"
   },
   {
    "duration": 9,
    "start_time": "2024-09-26T04:46:43.125Z"
   },
   {
    "duration": 7,
    "start_time": "2024-09-26T04:46:43.136Z"
   },
   {
    "duration": 8,
    "start_time": "2024-09-26T04:46:43.145Z"
   },
   {
    "duration": 8,
    "start_time": "2024-09-26T04:46:43.154Z"
   },
   {
    "duration": 134,
    "start_time": "2024-09-26T04:46:43.163Z"
   },
   {
    "duration": 109,
    "start_time": "2024-09-26T04:46:43.298Z"
   },
   {
    "duration": 7,
    "start_time": "2024-09-26T04:46:43.409Z"
   },
   {
    "duration": 124,
    "start_time": "2024-09-26T04:46:43.418Z"
   },
   {
    "duration": 105,
    "start_time": "2024-09-26T04:46:43.544Z"
   },
   {
    "duration": 33,
    "start_time": "2024-09-26T04:46:43.651Z"
   },
   {
    "duration": 25,
    "start_time": "2024-09-26T04:46:43.689Z"
   },
   {
    "duration": 3,
    "start_time": "2024-09-26T04:46:43.716Z"
   },
   {
    "duration": 16,
    "start_time": "2024-09-26T04:46:43.721Z"
   },
   {
    "duration": 11,
    "start_time": "2024-09-26T04:46:43.739Z"
   },
   {
    "duration": 3,
    "start_time": "2024-09-26T04:46:43.752Z"
   },
   {
    "duration": 3,
    "start_time": "2024-09-26T04:46:43.757Z"
   },
   {
    "duration": 4,
    "start_time": "2024-09-26T04:46:43.762Z"
   },
   {
    "duration": 3,
    "start_time": "2024-09-26T04:46:43.806Z"
   },
   {
    "duration": 894,
    "start_time": "2024-09-26T04:46:43.811Z"
   },
   {
    "duration": 1716,
    "start_time": "2024-09-26T04:46:44.707Z"
   },
   {
    "duration": 6,
    "start_time": "2024-09-26T04:46:46.425Z"
   },
   {
    "duration": 8,
    "start_time": "2024-09-26T04:46:46.432Z"
   },
   {
    "duration": 6,
    "start_time": "2024-09-26T04:46:46.442Z"
   },
   {
    "duration": 11,
    "start_time": "2024-09-26T04:46:46.450Z"
   },
   {
    "duration": 43,
    "start_time": "2024-09-26T04:46:46.462Z"
   },
   {
    "duration": 8,
    "start_time": "2024-09-26T04:46:46.507Z"
   },
   {
    "duration": 16,
    "start_time": "2024-09-26T04:46:46.516Z"
   },
   {
    "duration": 17,
    "start_time": "2024-09-26T04:46:46.534Z"
   },
   {
    "duration": 55,
    "start_time": "2024-09-26T04:46:46.553Z"
   },
   {
    "duration": 14,
    "start_time": "2024-09-26T04:46:46.611Z"
   },
   {
    "duration": 81,
    "start_time": "2024-09-26T04:46:46.627Z"
   },
   {
    "duration": 719,
    "start_time": "2024-09-26T04:46:46.710Z"
   },
   {
    "duration": 9,
    "start_time": "2024-09-26T04:46:47.432Z"
   },
   {
    "duration": 4,
    "start_time": "2024-09-26T04:46:47.445Z"
   },
   {
    "duration": 5,
    "start_time": "2024-09-26T04:46:47.451Z"
   },
   {
    "duration": 258,
    "start_time": "2024-09-26T04:46:47.458Z"
   },
   {
    "duration": 175,
    "start_time": "2024-09-26T04:46:47.718Z"
   },
   {
    "duration": 270,
    "start_time": "2024-09-26T04:46:47.897Z"
   },
   {
    "duration": 238,
    "start_time": "2024-09-26T04:46:48.168Z"
   },
   {
    "duration": 196,
    "start_time": "2024-09-26T04:46:48.409Z"
   },
   {
    "duration": 1775,
    "start_time": "2024-09-26T04:46:48.607Z"
   },
   {
    "duration": 1369,
    "start_time": "2024-09-26T04:46:50.383Z"
   },
   {
    "duration": 451,
    "start_time": "2024-09-26T04:46:51.754Z"
   },
   {
    "duration": 459,
    "start_time": "2024-09-26T04:46:52.207Z"
   },
   {
    "duration": 7,
    "start_time": "2024-09-26T04:54:16.358Z"
   },
   {
    "duration": 3,
    "start_time": "2024-09-26T04:54:22.966Z"
   },
   {
    "duration": 4,
    "start_time": "2024-09-26T04:55:01.783Z"
   },
   {
    "duration": 4,
    "start_time": "2024-09-26T04:55:52.348Z"
   },
   {
    "duration": 160,
    "start_time": "2024-09-26T04:56:13.941Z"
   },
   {
    "duration": 446,
    "start_time": "2024-09-26T04:57:04.901Z"
   },
   {
    "duration": 1033,
    "start_time": "2024-09-26T04:57:06.786Z"
   },
   {
    "duration": 11,
    "start_time": "2024-09-26T04:57:08.156Z"
   },
   {
    "duration": 11,
    "start_time": "2024-09-26T04:57:12.770Z"
   },
   {
    "duration": 8,
    "start_time": "2024-09-26T04:57:17.644Z"
   },
   {
    "duration": 8,
    "start_time": "2024-09-26T04:57:20.203Z"
   },
   {
    "duration": 7,
    "start_time": "2024-09-26T04:57:22.930Z"
   },
   {
    "duration": 41,
    "start_time": "2024-09-26T04:57:35.143Z"
   },
   {
    "duration": 407,
    "start_time": "2024-09-26T04:57:45.966Z"
   },
   {
    "duration": 912,
    "start_time": "2024-09-26T04:57:46.375Z"
   },
   {
    "duration": 18,
    "start_time": "2024-09-26T04:57:47.288Z"
   },
   {
    "duration": 9,
    "start_time": "2024-09-26T04:57:47.308Z"
   },
   {
    "duration": 6,
    "start_time": "2024-09-26T04:57:47.319Z"
   },
   {
    "duration": 7,
    "start_time": "2024-09-26T04:57:47.327Z"
   },
   {
    "duration": 6,
    "start_time": "2024-09-26T04:57:47.336Z"
   },
   {
    "duration": 125,
    "start_time": "2024-09-26T04:57:47.344Z"
   },
   {
    "duration": 110,
    "start_time": "2024-09-26T04:57:47.472Z"
   },
   {
    "duration": 8,
    "start_time": "2024-09-26T04:57:47.585Z"
   },
   {
    "duration": 126,
    "start_time": "2024-09-26T04:57:47.595Z"
   },
   {
    "duration": 109,
    "start_time": "2024-09-26T04:57:47.723Z"
   },
   {
    "duration": 33,
    "start_time": "2024-09-26T04:57:47.834Z"
   },
   {
    "duration": 12,
    "start_time": "2024-09-26T04:57:47.869Z"
   },
   {
    "duration": 24,
    "start_time": "2024-09-26T04:57:47.882Z"
   },
   {
    "duration": 17,
    "start_time": "2024-09-26T04:57:47.907Z"
   },
   {
    "duration": 11,
    "start_time": "2024-09-26T04:57:47.926Z"
   },
   {
    "duration": 3,
    "start_time": "2024-09-26T04:57:47.939Z"
   },
   {
    "duration": 3,
    "start_time": "2024-09-26T04:57:47.944Z"
   },
   {
    "duration": 4,
    "start_time": "2024-09-26T04:57:47.949Z"
   },
   {
    "duration": 4,
    "start_time": "2024-09-26T04:57:47.954Z"
   },
   {
    "duration": 946,
    "start_time": "2024-09-26T04:57:47.960Z"
   },
   {
    "duration": 1719,
    "start_time": "2024-09-26T04:57:48.908Z"
   },
   {
    "duration": 6,
    "start_time": "2024-09-26T04:57:50.629Z"
   },
   {
    "duration": 8,
    "start_time": "2024-09-26T04:57:50.636Z"
   },
   {
    "duration": 6,
    "start_time": "2024-09-26T04:57:50.646Z"
   },
   {
    "duration": 10,
    "start_time": "2024-09-26T04:57:50.653Z"
   },
   {
    "duration": 44,
    "start_time": "2024-09-26T04:57:50.667Z"
   },
   {
    "duration": 7,
    "start_time": "2024-09-26T04:57:50.714Z"
   },
   {
    "duration": 16,
    "start_time": "2024-09-26T04:57:50.725Z"
   },
   {
    "duration": 18,
    "start_time": "2024-09-26T04:57:50.743Z"
   },
   {
    "duration": 57,
    "start_time": "2024-09-26T04:57:50.762Z"
   },
   {
    "duration": 16,
    "start_time": "2024-09-26T04:57:50.821Z"
   },
   {
    "duration": 82,
    "start_time": "2024-09-26T04:57:50.838Z"
   },
   {
    "duration": 714,
    "start_time": "2024-09-26T04:57:50.922Z"
   },
   {
    "duration": 6,
    "start_time": "2024-09-26T04:57:51.637Z"
   },
   {
    "duration": 4,
    "start_time": "2024-09-26T04:57:51.644Z"
   },
   {
    "duration": 4,
    "start_time": "2024-09-26T04:57:51.650Z"
   },
   {
    "duration": 271,
    "start_time": "2024-09-26T04:57:51.656Z"
   },
   {
    "duration": 169,
    "start_time": "2024-09-26T04:57:51.929Z"
   },
   {
    "duration": 268,
    "start_time": "2024-09-26T04:57:52.105Z"
   },
   {
    "duration": 254,
    "start_time": "2024-09-26T04:57:52.375Z"
   },
   {
    "duration": 197,
    "start_time": "2024-09-26T04:57:52.631Z"
   },
   {
    "duration": 1807,
    "start_time": "2024-09-26T04:57:52.831Z"
   },
   {
    "duration": 1366,
    "start_time": "2024-09-26T04:57:54.640Z"
   },
   {
    "duration": 436,
    "start_time": "2024-09-26T04:57:56.008Z"
   },
   {
    "duration": 446,
    "start_time": "2024-09-26T04:57:56.446Z"
   },
   {
    "duration": 166,
    "start_time": "2024-09-26T05:05:52.535Z"
   },
   {
    "duration": 426,
    "start_time": "2024-09-26T05:06:13.799Z"
   },
   {
    "duration": 1125,
    "start_time": "2024-09-26T05:06:14.227Z"
   },
   {
    "duration": 12,
    "start_time": "2024-09-26T05:06:15.353Z"
   },
   {
    "duration": 9,
    "start_time": "2024-09-26T05:06:15.368Z"
   },
   {
    "duration": 26,
    "start_time": "2024-09-26T05:06:15.379Z"
   },
   {
    "duration": 8,
    "start_time": "2024-09-26T05:06:15.406Z"
   },
   {
    "duration": 7,
    "start_time": "2024-09-26T05:06:15.416Z"
   },
   {
    "duration": 118,
    "start_time": "2024-09-26T05:06:15.425Z"
   },
   {
    "duration": 105,
    "start_time": "2024-09-26T05:06:15.544Z"
   },
   {
    "duration": 8,
    "start_time": "2024-09-26T05:06:15.652Z"
   },
   {
    "duration": 125,
    "start_time": "2024-09-26T05:06:15.661Z"
   },
   {
    "duration": 108,
    "start_time": "2024-09-26T05:06:15.787Z"
   },
   {
    "duration": 40,
    "start_time": "2024-09-26T05:06:15.897Z"
   },
   {
    "duration": 12,
    "start_time": "2024-09-26T05:06:15.939Z"
   },
   {
    "duration": 3,
    "start_time": "2024-09-26T05:06:15.953Z"
   },
   {
    "duration": 17,
    "start_time": "2024-09-26T05:06:15.957Z"
   },
   {
    "duration": 41,
    "start_time": "2024-09-26T05:06:15.975Z"
   },
   {
    "duration": 5,
    "start_time": "2024-09-26T05:06:16.018Z"
   },
   {
    "duration": 3,
    "start_time": "2024-09-26T05:06:16.025Z"
   },
   {
    "duration": 3,
    "start_time": "2024-09-26T05:06:16.031Z"
   },
   {
    "duration": 4,
    "start_time": "2024-09-26T05:06:16.036Z"
   },
   {
    "duration": 941,
    "start_time": "2024-09-26T05:06:16.042Z"
   },
   {
    "duration": 1767,
    "start_time": "2024-09-26T05:06:16.985Z"
   },
   {
    "duration": 6,
    "start_time": "2024-09-26T05:06:18.753Z"
   },
   {
    "duration": 8,
    "start_time": "2024-09-26T05:06:18.760Z"
   },
   {
    "duration": 6,
    "start_time": "2024-09-26T05:06:18.769Z"
   },
   {
    "duration": 34,
    "start_time": "2024-09-26T05:06:18.776Z"
   },
   {
    "duration": 12,
    "start_time": "2024-09-26T05:06:18.813Z"
   },
   {
    "duration": 6,
    "start_time": "2024-09-26T05:06:18.826Z"
   },
   {
    "duration": 16,
    "start_time": "2024-09-26T05:06:18.833Z"
   },
   {
    "duration": 17,
    "start_time": "2024-09-26T05:06:18.851Z"
   },
   {
    "duration": 57,
    "start_time": "2024-09-26T05:06:18.870Z"
   },
   {
    "duration": 15,
    "start_time": "2024-09-26T05:06:18.929Z"
   },
   {
    "duration": 86,
    "start_time": "2024-09-26T05:06:18.946Z"
   },
   {
    "duration": 740,
    "start_time": "2024-09-26T05:06:19.034Z"
   },
   {
    "duration": 6,
    "start_time": "2024-09-26T05:06:19.775Z"
   },
   {
    "duration": 4,
    "start_time": "2024-09-26T05:06:19.783Z"
   },
   {
    "duration": 16,
    "start_time": "2024-09-26T05:06:19.789Z"
   },
   {
    "duration": 259,
    "start_time": "2024-09-26T05:06:19.807Z"
   },
   {
    "duration": 182,
    "start_time": "2024-09-26T05:06:20.067Z"
   },
   {
    "duration": 268,
    "start_time": "2024-09-26T05:06:20.251Z"
   },
   {
    "duration": 249,
    "start_time": "2024-09-26T05:06:20.521Z"
   },
   {
    "duration": 182,
    "start_time": "2024-09-26T05:06:20.772Z"
   },
   {
    "duration": 1820,
    "start_time": "2024-09-26T05:06:20.956Z"
   },
   {
    "duration": 1416,
    "start_time": "2024-09-26T05:06:22.778Z"
   },
   {
    "duration": 452,
    "start_time": "2024-09-26T05:06:24.196Z"
   },
   {
    "duration": 446,
    "start_time": "2024-09-26T05:06:24.650Z"
   },
   {
    "duration": 424561,
    "start_time": "2024-09-26T05:06:25.098Z"
   },
   {
    "duration": 6,
    "start_time": "2024-09-26T05:15:24.900Z"
   },
   {
    "duration": 163,
    "start_time": "2024-09-26T05:15:47.276Z"
   },
   {
    "duration": 13,
    "start_time": "2024-09-26T05:16:00.777Z"
   },
   {
    "duration": 463,
    "start_time": "2024-09-26T05:16:12.368Z"
   },
   {
    "duration": 1114,
    "start_time": "2024-09-26T05:16:13.783Z"
   },
   {
    "duration": 11,
    "start_time": "2024-09-26T05:16:16.393Z"
   },
   {
    "duration": 9,
    "start_time": "2024-09-26T05:16:16.993Z"
   },
   {
    "duration": 9,
    "start_time": "2024-09-26T05:16:17.967Z"
   },
   {
    "duration": 9,
    "start_time": "2024-09-26T05:16:18.713Z"
   },
   {
    "duration": 42,
    "start_time": "2024-09-26T05:16:38.157Z"
   },
   {
    "duration": 15,
    "start_time": "2024-09-26T05:18:16.823Z"
   },
   {
    "duration": 415,
    "start_time": "2024-09-26T05:18:29.855Z"
   },
   {
    "duration": 940,
    "start_time": "2024-09-26T05:18:30.272Z"
   },
   {
    "duration": 14,
    "start_time": "2024-09-26T05:18:31.214Z"
   },
   {
    "duration": 10,
    "start_time": "2024-09-26T05:18:31.230Z"
   },
   {
    "duration": 14,
    "start_time": "2024-09-26T05:18:31.243Z"
   },
   {
    "duration": 11,
    "start_time": "2024-09-26T05:18:31.262Z"
   },
   {
    "duration": 10,
    "start_time": "2024-09-26T05:18:31.275Z"
   },
   {
    "duration": 133,
    "start_time": "2024-09-26T05:18:31.306Z"
   },
   {
    "duration": 112,
    "start_time": "2024-09-26T05:18:31.440Z"
   },
   {
    "duration": 9,
    "start_time": "2024-09-26T05:18:31.553Z"
   },
   {
    "duration": 121,
    "start_time": "2024-09-26T05:18:31.563Z"
   },
   {
    "duration": 111,
    "start_time": "2024-09-26T05:18:31.686Z"
   },
   {
    "duration": 32,
    "start_time": "2024-09-26T05:18:31.799Z"
   },
   {
    "duration": 12,
    "start_time": "2024-09-26T05:18:31.835Z"
   },
   {
    "duration": 3,
    "start_time": "2024-09-26T05:18:31.849Z"
   },
   {
    "duration": 16,
    "start_time": "2024-09-26T05:18:31.854Z"
   },
   {
    "duration": 36,
    "start_time": "2024-09-26T05:18:31.872Z"
   },
   {
    "duration": 3,
    "start_time": "2024-09-26T05:18:31.910Z"
   },
   {
    "duration": 4,
    "start_time": "2024-09-26T05:18:31.915Z"
   },
   {
    "duration": 4,
    "start_time": "2024-09-26T05:18:31.920Z"
   },
   {
    "duration": 4,
    "start_time": "2024-09-26T05:18:31.926Z"
   },
   {
    "duration": 950,
    "start_time": "2024-09-26T05:18:31.931Z"
   },
   {
    "duration": 1741,
    "start_time": "2024-09-26T05:18:32.882Z"
   },
   {
    "duration": 6,
    "start_time": "2024-09-26T05:18:34.625Z"
   },
   {
    "duration": 8,
    "start_time": "2024-09-26T05:18:34.633Z"
   },
   {
    "duration": 5,
    "start_time": "2024-09-26T05:18:34.643Z"
   },
   {
    "duration": 10,
    "start_time": "2024-09-26T05:18:34.650Z"
   },
   {
    "duration": 44,
    "start_time": "2024-09-26T05:18:34.662Z"
   },
   {
    "duration": 7,
    "start_time": "2024-09-26T05:18:34.707Z"
   },
   {
    "duration": 18,
    "start_time": "2024-09-26T05:18:34.716Z"
   },
   {
    "duration": 16,
    "start_time": "2024-09-26T05:18:34.736Z"
   },
   {
    "duration": 56,
    "start_time": "2024-09-26T05:18:34.753Z"
   },
   {
    "duration": 16,
    "start_time": "2024-09-26T05:18:34.811Z"
   },
   {
    "duration": 78,
    "start_time": "2024-09-26T05:18:34.829Z"
   },
   {
    "duration": 712,
    "start_time": "2024-09-26T05:18:34.909Z"
   },
   {
    "duration": 6,
    "start_time": "2024-09-26T05:18:35.622Z"
   },
   {
    "duration": 4,
    "start_time": "2024-09-26T05:18:35.630Z"
   },
   {
    "duration": 4,
    "start_time": "2024-09-26T05:18:35.636Z"
   },
   {
    "duration": 271,
    "start_time": "2024-09-26T05:18:35.642Z"
   },
   {
    "duration": 168,
    "start_time": "2024-09-26T05:18:35.915Z"
   },
   {
    "duration": 270,
    "start_time": "2024-09-26T05:18:36.087Z"
   },
   {
    "duration": 250,
    "start_time": "2024-09-26T05:18:36.359Z"
   },
   {
    "duration": 184,
    "start_time": "2024-09-26T05:18:36.611Z"
   },
   {
    "duration": 1803,
    "start_time": "2024-09-26T05:18:36.797Z"
   },
   {
    "duration": 1381,
    "start_time": "2024-09-26T05:18:38.606Z"
   },
   {
    "duration": 453,
    "start_time": "2024-09-26T05:18:39.989Z"
   },
   {
    "duration": 440,
    "start_time": "2024-09-26T05:18:40.444Z"
   },
   {
    "duration": 156,
    "start_time": "2024-09-26T05:27:28.919Z"
   },
   {
    "duration": 408,
    "start_time": "2024-09-26T05:27:36.701Z"
   },
   {
    "duration": 994,
    "start_time": "2024-09-26T05:27:37.111Z"
   },
   {
    "duration": 11,
    "start_time": "2024-09-26T05:27:38.106Z"
   },
   {
    "duration": 9,
    "start_time": "2024-09-26T05:27:38.119Z"
   },
   {
    "duration": 8,
    "start_time": "2024-09-26T05:27:38.131Z"
   },
   {
    "duration": 8,
    "start_time": "2024-09-26T05:27:38.140Z"
   },
   {
    "duration": 7,
    "start_time": "2024-09-26T05:27:38.149Z"
   },
   {
    "duration": 136,
    "start_time": "2024-09-26T05:27:38.157Z"
   },
   {
    "duration": 109,
    "start_time": "2024-09-26T05:27:38.295Z"
   },
   {
    "duration": 8,
    "start_time": "2024-09-26T05:27:38.406Z"
   },
   {
    "duration": 121,
    "start_time": "2024-09-26T05:27:38.415Z"
   },
   {
    "duration": 109,
    "start_time": "2024-09-26T05:27:38.538Z"
   },
   {
    "duration": 33,
    "start_time": "2024-09-26T05:27:38.649Z"
   },
   {
    "duration": 24,
    "start_time": "2024-09-26T05:27:38.686Z"
   },
   {
    "duration": 4,
    "start_time": "2024-09-26T05:27:38.712Z"
   },
   {
    "duration": 16,
    "start_time": "2024-09-26T05:27:38.718Z"
   },
   {
    "duration": 11,
    "start_time": "2024-09-26T05:27:38.736Z"
   },
   {
    "duration": 3,
    "start_time": "2024-09-26T05:27:38.749Z"
   },
   {
    "duration": 3,
    "start_time": "2024-09-26T05:27:38.754Z"
   },
   {
    "duration": 5,
    "start_time": "2024-09-26T05:27:38.758Z"
   },
   {
    "duration": 3,
    "start_time": "2024-09-26T05:27:38.765Z"
   },
   {
    "duration": 881,
    "start_time": "2024-09-26T05:27:38.806Z"
   },
   {
    "duration": 1734,
    "start_time": "2024-09-26T05:27:39.689Z"
   },
   {
    "duration": 6,
    "start_time": "2024-09-26T05:27:41.424Z"
   },
   {
    "duration": 8,
    "start_time": "2024-09-26T05:27:41.432Z"
   },
   {
    "duration": 6,
    "start_time": "2024-09-26T05:27:41.442Z"
   },
   {
    "duration": 10,
    "start_time": "2024-09-26T05:27:41.450Z"
   },
   {
    "duration": 45,
    "start_time": "2024-09-26T05:27:41.461Z"
   },
   {
    "duration": 6,
    "start_time": "2024-09-26T05:27:41.508Z"
   },
   {
    "duration": 19,
    "start_time": "2024-09-26T05:27:41.515Z"
   },
   {
    "duration": 17,
    "start_time": "2024-09-26T05:27:41.535Z"
   },
   {
    "duration": 56,
    "start_time": "2024-09-26T05:27:41.554Z"
   },
   {
    "duration": 14,
    "start_time": "2024-09-26T05:27:41.612Z"
   },
   {
    "duration": 81,
    "start_time": "2024-09-26T05:27:41.629Z"
   },
   {
    "duration": 715,
    "start_time": "2024-09-26T05:27:41.712Z"
   },
   {
    "duration": 10,
    "start_time": "2024-09-26T05:27:42.429Z"
   },
   {
    "duration": 5,
    "start_time": "2024-09-26T05:27:42.441Z"
   },
   {
    "duration": 5,
    "start_time": "2024-09-26T05:27:42.447Z"
   },
   {
    "duration": 281,
    "start_time": "2024-09-26T05:27:42.453Z"
   },
   {
    "duration": 178,
    "start_time": "2024-09-26T05:27:42.737Z"
   },
   {
    "duration": 276,
    "start_time": "2024-09-26T05:27:42.919Z"
   },
   {
    "duration": 233,
    "start_time": "2024-09-26T05:27:43.205Z"
   },
   {
    "duration": 182,
    "start_time": "2024-09-26T05:27:43.440Z"
   },
   {
    "duration": 1811,
    "start_time": "2024-09-26T05:27:43.623Z"
   },
   {
    "duration": 1386,
    "start_time": "2024-09-26T05:27:45.436Z"
   },
   {
    "duration": 445,
    "start_time": "2024-09-26T05:27:46.824Z"
   },
   {
    "duration": 436,
    "start_time": "2024-09-26T05:27:47.271Z"
   },
   {
    "duration": 159,
    "start_time": "2024-09-26T05:30:00.066Z"
   },
   {
    "duration": 431,
    "start_time": "2024-09-26T05:30:09.946Z"
   },
   {
    "duration": 1020,
    "start_time": "2024-09-26T05:30:10.379Z"
   },
   {
    "duration": 12,
    "start_time": "2024-09-26T05:30:11.401Z"
   },
   {
    "duration": 9,
    "start_time": "2024-09-26T05:30:11.415Z"
   },
   {
    "duration": 7,
    "start_time": "2024-09-26T05:30:11.426Z"
   },
   {
    "duration": 7,
    "start_time": "2024-09-26T05:30:11.435Z"
   },
   {
    "duration": 6,
    "start_time": "2024-09-26T05:30:11.444Z"
   },
   {
    "duration": 128,
    "start_time": "2024-09-26T05:30:11.452Z"
   },
   {
    "duration": 104,
    "start_time": "2024-09-26T05:30:11.581Z"
   },
   {
    "duration": 19,
    "start_time": "2024-09-26T05:30:11.690Z"
   },
   {
    "duration": 116,
    "start_time": "2024-09-26T05:30:11.711Z"
   },
   {
    "duration": 105,
    "start_time": "2024-09-26T05:30:11.828Z"
   },
   {
    "duration": 33,
    "start_time": "2024-09-26T05:30:11.935Z"
   },
   {
    "duration": 12,
    "start_time": "2024-09-26T05:30:11.970Z"
   },
   {
    "duration": 24,
    "start_time": "2024-09-26T05:30:11.983Z"
   },
   {
    "duration": 18,
    "start_time": "2024-09-26T05:30:12.008Z"
   },
   {
    "duration": 17,
    "start_time": "2024-09-26T05:30:12.027Z"
   },
   {
    "duration": 4,
    "start_time": "2024-09-26T05:30:12.045Z"
   },
   {
    "duration": 3,
    "start_time": "2024-09-26T05:30:12.051Z"
   },
   {
    "duration": 3,
    "start_time": "2024-09-26T05:30:12.056Z"
   },
   {
    "duration": 3,
    "start_time": "2024-09-26T05:30:12.061Z"
   },
   {
    "duration": 939,
    "start_time": "2024-09-26T05:30:12.066Z"
   },
   {
    "duration": 1751,
    "start_time": "2024-09-26T05:30:13.007Z"
   },
   {
    "duration": 6,
    "start_time": "2024-09-26T05:30:14.759Z"
   },
   {
    "duration": 8,
    "start_time": "2024-09-26T05:30:14.767Z"
   },
   {
    "duration": 6,
    "start_time": "2024-09-26T05:30:14.777Z"
   },
   {
    "duration": 11,
    "start_time": "2024-09-26T05:30:14.805Z"
   },
   {
    "duration": 10,
    "start_time": "2024-09-26T05:30:14.822Z"
   },
   {
    "duration": 6,
    "start_time": "2024-09-26T05:30:14.834Z"
   },
   {
    "duration": 16,
    "start_time": "2024-09-26T05:30:14.841Z"
   },
   {
    "duration": 50,
    "start_time": "2024-09-26T05:30:14.859Z"
   },
   {
    "duration": 33,
    "start_time": "2024-09-26T05:30:14.911Z"
   },
   {
    "duration": 14,
    "start_time": "2024-09-26T05:30:14.945Z"
   },
   {
    "duration": 85,
    "start_time": "2024-09-26T05:30:14.961Z"
   },
   {
    "duration": 728,
    "start_time": "2024-09-26T05:30:15.048Z"
   },
   {
    "duration": 6,
    "start_time": "2024-09-26T05:30:15.777Z"
   },
   {
    "duration": 4,
    "start_time": "2024-09-26T05:30:15.785Z"
   },
   {
    "duration": 18,
    "start_time": "2024-09-26T05:30:15.790Z"
   },
   {
    "duration": 265,
    "start_time": "2024-09-26T05:30:15.810Z"
   },
   {
    "duration": 191,
    "start_time": "2024-09-26T05:30:16.077Z"
   },
   {
    "duration": 273,
    "start_time": "2024-09-26T05:30:16.270Z"
   },
   {
    "duration": 265,
    "start_time": "2024-09-26T05:30:16.545Z"
   },
   {
    "duration": 213,
    "start_time": "2024-09-26T05:30:16.811Z"
   },
   {
    "duration": 1887,
    "start_time": "2024-09-26T05:30:17.025Z"
   },
   {
    "duration": 1418,
    "start_time": "2024-09-26T05:30:18.914Z"
   },
   {
    "duration": 441,
    "start_time": "2024-09-26T05:30:20.334Z"
   },
   {
    "duration": 448,
    "start_time": "2024-09-26T05:30:20.777Z"
   },
   {
    "duration": 158,
    "start_time": "2024-09-26T05:33:55.762Z"
   },
   {
    "duration": 440,
    "start_time": "2024-09-26T05:34:08.133Z"
   },
   {
    "duration": 887,
    "start_time": "2024-09-26T05:34:08.576Z"
   },
   {
    "duration": 11,
    "start_time": "2024-09-26T05:34:09.465Z"
   },
   {
    "duration": 9,
    "start_time": "2024-09-26T05:34:09.479Z"
   },
   {
    "duration": 21,
    "start_time": "2024-09-26T05:34:09.490Z"
   },
   {
    "duration": 7,
    "start_time": "2024-09-26T05:34:09.513Z"
   },
   {
    "duration": 6,
    "start_time": "2024-09-26T05:34:09.522Z"
   },
   {
    "duration": 121,
    "start_time": "2024-09-26T05:34:09.530Z"
   },
   {
    "duration": 105,
    "start_time": "2024-09-26T05:34:09.654Z"
   },
   {
    "duration": 7,
    "start_time": "2024-09-26T05:34:09.762Z"
   },
   {
    "duration": 122,
    "start_time": "2024-09-26T05:34:09.770Z"
   },
   {
    "duration": 105,
    "start_time": "2024-09-26T05:34:09.893Z"
   },
   {
    "duration": 34,
    "start_time": "2024-09-26T05:34:10.005Z"
   },
   {
    "duration": 12,
    "start_time": "2024-09-26T05:34:10.041Z"
   },
   {
    "duration": 3,
    "start_time": "2024-09-26T05:34:10.055Z"
   },
   {
    "duration": 17,
    "start_time": "2024-09-26T05:34:10.060Z"
   },
   {
    "duration": 13,
    "start_time": "2024-09-26T05:34:10.104Z"
   },
   {
    "duration": 5,
    "start_time": "2024-09-26T05:34:10.119Z"
   },
   {
    "duration": 4,
    "start_time": "2024-09-26T05:34:10.126Z"
   },
   {
    "duration": 4,
    "start_time": "2024-09-26T05:34:10.132Z"
   },
   {
    "duration": 4,
    "start_time": "2024-09-26T05:34:10.137Z"
   },
   {
    "duration": 931,
    "start_time": "2024-09-26T05:34:10.143Z"
   },
   {
    "duration": 1752,
    "start_time": "2024-09-26T05:34:11.076Z"
   },
   {
    "duration": 6,
    "start_time": "2024-09-26T05:34:12.830Z"
   },
   {
    "duration": 7,
    "start_time": "2024-09-26T05:34:12.839Z"
   },
   {
    "duration": 7,
    "start_time": "2024-09-26T05:34:12.848Z"
   },
   {
    "duration": 11,
    "start_time": "2024-09-26T05:34:12.856Z"
   },
   {
    "duration": 40,
    "start_time": "2024-09-26T05:34:12.871Z"
   },
   {
    "duration": 7,
    "start_time": "2024-09-26T05:34:12.913Z"
   },
   {
    "duration": 16,
    "start_time": "2024-09-26T05:34:12.922Z"
   },
   {
    "duration": 18,
    "start_time": "2024-09-26T05:34:12.940Z"
   },
   {
    "duration": 59,
    "start_time": "2024-09-26T05:34:12.959Z"
   },
   {
    "duration": 15,
    "start_time": "2024-09-26T05:34:13.019Z"
   },
   {
    "duration": 82,
    "start_time": "2024-09-26T05:34:13.036Z"
   },
   {
    "duration": 720,
    "start_time": "2024-09-26T05:34:13.120Z"
   },
   {
    "duration": 6,
    "start_time": "2024-09-26T05:34:13.842Z"
   },
   {
    "duration": 4,
    "start_time": "2024-09-26T05:34:13.850Z"
   },
   {
    "duration": 5,
    "start_time": "2024-09-26T05:34:13.856Z"
   },
   {
    "duration": 281,
    "start_time": "2024-09-26T05:34:13.863Z"
   },
   {
    "duration": 179,
    "start_time": "2024-09-26T05:34:14.147Z"
   },
   {
    "duration": 268,
    "start_time": "2024-09-26T05:34:14.328Z"
   },
   {
    "duration": 238,
    "start_time": "2024-09-26T05:34:14.597Z"
   },
   {
    "duration": 184,
    "start_time": "2024-09-26T05:34:14.837Z"
   },
   {
    "duration": 1812,
    "start_time": "2024-09-26T05:34:15.022Z"
   },
   {
    "duration": 1364,
    "start_time": "2024-09-26T05:34:16.836Z"
   },
   {
    "duration": 453,
    "start_time": "2024-09-26T05:34:18.205Z"
   },
   {
    "duration": 434,
    "start_time": "2024-09-26T05:34:18.660Z"
   },
   {
    "duration": 155,
    "start_time": "2024-09-26T05:46:46.025Z"
   },
   {
    "duration": 482,
    "start_time": "2024-09-26T05:46:57.414Z"
   },
   {
    "duration": 1097,
    "start_time": "2024-09-26T05:46:57.898Z"
   },
   {
    "duration": 16,
    "start_time": "2024-09-26T05:46:58.998Z"
   },
   {
    "duration": 11,
    "start_time": "2024-09-26T05:46:59.305Z"
   },
   {
    "duration": 8,
    "start_time": "2024-09-26T05:46:59.804Z"
   },
   {
    "duration": 7,
    "start_time": "2024-09-26T05:47:00.259Z"
   },
   {
    "duration": 44,
    "start_time": "2024-09-26T05:47:11.699Z"
   },
   {
    "duration": 12,
    "start_time": "2024-09-26T05:47:39.111Z"
   },
   {
    "duration": 14,
    "start_time": "2024-09-26T05:47:49.792Z"
   },
   {
    "duration": 444,
    "start_time": "2024-09-26T05:48:02.531Z"
   },
   {
    "duration": 929,
    "start_time": "2024-09-26T05:48:02.977Z"
   },
   {
    "duration": 11,
    "start_time": "2024-09-26T05:48:03.908Z"
   },
   {
    "duration": 11,
    "start_time": "2024-09-26T05:48:03.920Z"
   },
   {
    "duration": 7,
    "start_time": "2024-09-26T05:48:03.934Z"
   },
   {
    "duration": 8,
    "start_time": "2024-09-26T05:48:03.943Z"
   },
   {
    "duration": 7,
    "start_time": "2024-09-26T05:48:03.952Z"
   },
   {
    "duration": 135,
    "start_time": "2024-09-26T05:48:03.960Z"
   },
   {
    "duration": 119,
    "start_time": "2024-09-26T05:48:04.098Z"
   },
   {
    "duration": 8,
    "start_time": "2024-09-26T05:48:04.218Z"
   },
   {
    "duration": 118,
    "start_time": "2024-09-26T05:48:04.228Z"
   },
   {
    "duration": 108,
    "start_time": "2024-09-26T05:48:04.347Z"
   },
   {
    "duration": 34,
    "start_time": "2024-09-26T05:48:04.458Z"
   },
   {
    "duration": 12,
    "start_time": "2024-09-26T05:48:04.504Z"
   },
   {
    "duration": 4,
    "start_time": "2024-09-26T05:48:04.519Z"
   },
   {
    "duration": 16,
    "start_time": "2024-09-26T05:48:04.524Z"
   },
   {
    "duration": 13,
    "start_time": "2024-09-26T05:48:04.542Z"
   },
   {
    "duration": 4,
    "start_time": "2024-09-26T05:48:04.556Z"
   },
   {
    "duration": 7,
    "start_time": "2024-09-26T05:48:04.562Z"
   },
   {
    "duration": 36,
    "start_time": "2024-09-26T05:48:04.570Z"
   },
   {
    "duration": 3,
    "start_time": "2024-09-26T05:48:04.608Z"
   },
   {
    "duration": 895,
    "start_time": "2024-09-26T05:48:04.613Z"
   },
   {
    "duration": 1714,
    "start_time": "2024-09-26T05:48:05.509Z"
   },
   {
    "duration": 6,
    "start_time": "2024-09-26T05:48:07.225Z"
   },
   {
    "duration": 8,
    "start_time": "2024-09-26T05:48:07.233Z"
   },
   {
    "duration": 5,
    "start_time": "2024-09-26T05:48:07.243Z"
   },
   {
    "duration": 10,
    "start_time": "2024-09-26T05:48:07.250Z"
   },
   {
    "duration": 43,
    "start_time": "2024-09-26T05:48:07.262Z"
   },
   {
    "duration": 6,
    "start_time": "2024-09-26T05:48:07.306Z"
   },
   {
    "duration": 16,
    "start_time": "2024-09-26T05:48:07.314Z"
   },
   {
    "duration": 17,
    "start_time": "2024-09-26T05:48:07.332Z"
   },
   {
    "duration": 56,
    "start_time": "2024-09-26T05:48:07.350Z"
   },
   {
    "duration": 15,
    "start_time": "2024-09-26T05:48:07.408Z"
   },
   {
    "duration": 82,
    "start_time": "2024-09-26T05:48:07.425Z"
   },
   {
    "duration": 707,
    "start_time": "2024-09-26T05:48:07.509Z"
   },
   {
    "duration": 6,
    "start_time": "2024-09-26T05:48:08.218Z"
   },
   {
    "duration": 5,
    "start_time": "2024-09-26T05:48:08.225Z"
   },
   {
    "duration": 5,
    "start_time": "2024-09-26T05:48:08.231Z"
   },
   {
    "duration": 272,
    "start_time": "2024-09-26T05:48:08.238Z"
   },
   {
    "duration": 178,
    "start_time": "2024-09-26T05:48:08.512Z"
   },
   {
    "duration": 273,
    "start_time": "2024-09-26T05:48:08.694Z"
   },
   {
    "duration": 245,
    "start_time": "2024-09-26T05:48:08.969Z"
   },
   {
    "duration": 181,
    "start_time": "2024-09-26T05:48:09.215Z"
   },
   {
    "duration": 1770,
    "start_time": "2024-09-26T05:48:09.398Z"
   },
   {
    "duration": 1359,
    "start_time": "2024-09-26T05:48:11.170Z"
   },
   {
    "duration": 461,
    "start_time": "2024-09-26T05:48:12.531Z"
   },
   {
    "duration": 443,
    "start_time": "2024-09-26T05:48:12.993Z"
   },
   {
    "duration": 6,
    "start_time": "2024-09-26T05:48:13.438Z"
   },
   {
    "duration": 465,
    "start_time": "2024-09-26T05:48:13.446Z"
   },
   {
    "duration": 1300,
    "start_time": "2024-09-26T05:48:13.913Z"
   },
   {
    "duration": 459,
    "start_time": "2024-09-26T05:48:15.215Z"
   },
   {
    "duration": 160,
    "start_time": "2024-09-26T05:50:11.789Z"
   },
   {
    "duration": 157,
    "start_time": "2024-09-26T05:50:53.598Z"
   },
   {
    "duration": 464,
    "start_time": "2024-09-26T05:51:19.420Z"
   },
   {
    "duration": 1131,
    "start_time": "2024-09-26T05:51:19.886Z"
   },
   {
    "duration": 11,
    "start_time": "2024-09-26T05:51:21.019Z"
   },
   {
    "duration": 9,
    "start_time": "2024-09-26T05:51:21.031Z"
   },
   {
    "duration": 8,
    "start_time": "2024-09-26T05:51:21.042Z"
   },
   {
    "duration": 7,
    "start_time": "2024-09-26T05:51:21.052Z"
   },
   {
    "duration": 7,
    "start_time": "2024-09-26T05:51:21.061Z"
   },
   {
    "duration": 126,
    "start_time": "2024-09-26T05:51:21.070Z"
   },
   {
    "duration": 106,
    "start_time": "2024-09-26T05:51:21.205Z"
   },
   {
    "duration": 7,
    "start_time": "2024-09-26T05:51:21.314Z"
   },
   {
    "duration": 122,
    "start_time": "2024-09-26T05:51:21.322Z"
   },
   {
    "duration": 106,
    "start_time": "2024-09-26T05:51:21.446Z"
   },
   {
    "duration": 33,
    "start_time": "2024-09-26T05:51:21.554Z"
   },
   {
    "duration": 26,
    "start_time": "2024-09-26T05:51:21.589Z"
   },
   {
    "duration": 5,
    "start_time": "2024-09-26T05:51:21.617Z"
   },
   {
    "duration": 19,
    "start_time": "2024-09-26T05:51:21.623Z"
   },
   {
    "duration": 12,
    "start_time": "2024-09-26T05:51:21.644Z"
   },
   {
    "duration": 3,
    "start_time": "2024-09-26T05:51:21.657Z"
   },
   {
    "duration": 3,
    "start_time": "2024-09-26T05:51:21.662Z"
   },
   {
    "duration": 3,
    "start_time": "2024-09-26T05:51:21.667Z"
   },
   {
    "duration": 4,
    "start_time": "2024-09-26T05:51:21.704Z"
   },
   {
    "duration": 908,
    "start_time": "2024-09-26T05:51:21.710Z"
   },
   {
    "duration": 1728,
    "start_time": "2024-09-26T05:51:22.620Z"
   },
   {
    "duration": 5,
    "start_time": "2024-09-26T05:51:24.351Z"
   },
   {
    "duration": 8,
    "start_time": "2024-09-26T05:51:24.358Z"
   },
   {
    "duration": 6,
    "start_time": "2024-09-26T05:51:24.367Z"
   },
   {
    "duration": 34,
    "start_time": "2024-09-26T05:51:24.375Z"
   },
   {
    "duration": 11,
    "start_time": "2024-09-26T05:51:24.414Z"
   },
   {
    "duration": 6,
    "start_time": "2024-09-26T05:51:24.426Z"
   },
   {
    "duration": 17,
    "start_time": "2024-09-26T05:51:24.434Z"
   },
   {
    "duration": 18,
    "start_time": "2024-09-26T05:51:24.452Z"
   },
   {
    "duration": 62,
    "start_time": "2024-09-26T05:51:24.472Z"
   },
   {
    "duration": 15,
    "start_time": "2024-09-26T05:51:24.536Z"
   },
   {
    "duration": 82,
    "start_time": "2024-09-26T05:51:24.553Z"
   },
   {
    "duration": 713,
    "start_time": "2024-09-26T05:51:24.637Z"
   },
   {
    "duration": 6,
    "start_time": "2024-09-26T05:51:25.352Z"
   },
   {
    "duration": 5,
    "start_time": "2024-09-26T05:51:25.359Z"
   },
   {
    "duration": 5,
    "start_time": "2024-09-26T05:51:25.365Z"
   },
   {
    "duration": 275,
    "start_time": "2024-09-26T05:51:25.372Z"
   },
   {
    "duration": 174,
    "start_time": "2024-09-26T05:51:25.648Z"
   },
   {
    "duration": 264,
    "start_time": "2024-09-26T05:51:25.825Z"
   },
   {
    "duration": 237,
    "start_time": "2024-09-26T05:51:26.091Z"
   },
   {
    "duration": 183,
    "start_time": "2024-09-26T05:51:26.330Z"
   },
   {
    "duration": 1791,
    "start_time": "2024-09-26T05:51:26.514Z"
   },
   {
    "duration": 1384,
    "start_time": "2024-09-26T05:51:28.307Z"
   },
   {
    "duration": 450,
    "start_time": "2024-09-26T05:51:29.693Z"
   },
   {
    "duration": 565,
    "start_time": "2024-09-26T05:51:30.144Z"
   },
   {
    "duration": 160,
    "start_time": "2024-09-26T05:59:06.549Z"
   },
   {
    "duration": 16,
    "start_time": "2024-09-26T05:59:27.772Z"
   },
   {
    "duration": 14,
    "start_time": "2024-09-26T05:59:58.299Z"
   },
   {
    "duration": 465,
    "start_time": "2024-09-26T06:00:24.845Z"
   },
   {
    "duration": 1229,
    "start_time": "2024-09-26T06:00:25.402Z"
   },
   {
    "duration": 10,
    "start_time": "2024-09-26T06:00:26.842Z"
   },
   {
    "duration": 13,
    "start_time": "2024-09-26T06:00:27.514Z"
   },
   {
    "duration": 9,
    "start_time": "2024-09-26T06:00:28.138Z"
   },
   {
    "duration": 8,
    "start_time": "2024-09-26T06:00:28.911Z"
   },
   {
    "duration": 7,
    "start_time": "2024-09-26T06:00:29.653Z"
   },
   {
    "duration": 43,
    "start_time": "2024-09-26T06:00:50.105Z"
   },
   {
    "duration": 15,
    "start_time": "2024-09-26T06:01:10.375Z"
   },
   {
    "duration": 402,
    "start_time": "2024-09-26T06:01:18.569Z"
   },
   {
    "duration": 921,
    "start_time": "2024-09-26T06:01:18.974Z"
   },
   {
    "duration": 12,
    "start_time": "2024-09-26T06:01:19.897Z"
   },
   {
    "duration": 9,
    "start_time": "2024-09-26T06:01:19.912Z"
   },
   {
    "duration": 7,
    "start_time": "2024-09-26T06:01:19.923Z"
   },
   {
    "duration": 7,
    "start_time": "2024-09-26T06:01:19.931Z"
   },
   {
    "duration": 6,
    "start_time": "2024-09-26T06:01:19.940Z"
   },
   {
    "duration": 139,
    "start_time": "2024-09-26T06:01:19.947Z"
   },
   {
    "duration": 117,
    "start_time": "2024-09-26T06:01:20.088Z"
   },
   {
    "duration": 9,
    "start_time": "2024-09-26T06:01:20.208Z"
   },
   {
    "duration": 121,
    "start_time": "2024-09-26T06:01:20.219Z"
   },
   {
    "duration": 103,
    "start_time": "2024-09-26T06:01:20.342Z"
   },
   {
    "duration": 31,
    "start_time": "2024-09-26T06:01:20.447Z"
   },
   {
    "duration": 25,
    "start_time": "2024-09-26T06:01:20.480Z"
   },
   {
    "duration": 4,
    "start_time": "2024-09-26T06:01:20.507Z"
   },
   {
    "duration": 18,
    "start_time": "2024-09-26T06:01:20.513Z"
   },
   {
    "duration": 12,
    "start_time": "2024-09-26T06:01:20.534Z"
   },
   {
    "duration": 5,
    "start_time": "2024-09-26T06:01:20.548Z"
   },
   {
    "duration": 3,
    "start_time": "2024-09-26T06:01:20.555Z"
   },
   {
    "duration": 3,
    "start_time": "2024-09-26T06:01:20.561Z"
   },
   {
    "duration": 41,
    "start_time": "2024-09-26T06:01:20.565Z"
   },
   {
    "duration": 884,
    "start_time": "2024-09-26T06:01:20.607Z"
   },
   {
    "duration": 1790,
    "start_time": "2024-09-26T06:01:21.492Z"
   },
   {
    "duration": 6,
    "start_time": "2024-09-26T06:01:23.284Z"
   },
   {
    "duration": 18,
    "start_time": "2024-09-26T06:01:23.291Z"
   },
   {
    "duration": 5,
    "start_time": "2024-09-26T06:01:23.310Z"
   },
   {
    "duration": 11,
    "start_time": "2024-09-26T06:01:23.317Z"
   },
   {
    "duration": 14,
    "start_time": "2024-09-26T06:01:23.332Z"
   },
   {
    "duration": 7,
    "start_time": "2024-09-26T06:01:23.347Z"
   },
   {
    "duration": 50,
    "start_time": "2024-09-26T06:01:23.355Z"
   },
   {
    "duration": 18,
    "start_time": "2024-09-26T06:01:23.407Z"
   },
   {
    "duration": 31,
    "start_time": "2024-09-26T06:01:23.427Z"
   },
   {
    "duration": 14,
    "start_time": "2024-09-26T06:01:23.460Z"
   },
   {
    "duration": 86,
    "start_time": "2024-09-26T06:01:23.477Z"
   },
   {
    "duration": 720,
    "start_time": "2024-09-26T06:01:23.565Z"
   },
   {
    "duration": 6,
    "start_time": "2024-09-26T06:01:24.287Z"
   },
   {
    "duration": 6,
    "start_time": "2024-09-26T06:01:24.304Z"
   },
   {
    "duration": 5,
    "start_time": "2024-09-26T06:01:24.311Z"
   },
   {
    "duration": 262,
    "start_time": "2024-09-26T06:01:24.317Z"
   },
   {
    "duration": 183,
    "start_time": "2024-09-26T06:01:24.581Z"
   },
   {
    "duration": 271,
    "start_time": "2024-09-26T06:01:24.766Z"
   },
   {
    "duration": 236,
    "start_time": "2024-09-26T06:01:25.039Z"
   },
   {
    "duration": 181,
    "start_time": "2024-09-26T06:01:25.277Z"
   },
   {
    "duration": 1918,
    "start_time": "2024-09-26T06:01:25.460Z"
   },
   {
    "duration": 1389,
    "start_time": "2024-09-26T06:01:27.380Z"
   },
   {
    "duration": 456,
    "start_time": "2024-09-26T06:01:28.770Z"
   },
   {
    "duration": 498,
    "start_time": "2024-09-26T06:01:29.229Z"
   },
   {
    "duration": 8,
    "start_time": "2024-09-26T06:14:38.707Z"
   },
   {
    "duration": 4,
    "start_time": "2024-09-26T06:14:59.706Z"
   },
   {
    "duration": 2095,
    "start_time": "2024-09-26T11:41:22.873Z"
   },
   {
    "duration": 1083,
    "start_time": "2024-09-26T11:41:24.970Z"
   },
   {
    "duration": 11,
    "start_time": "2024-09-26T11:41:26.056Z"
   },
   {
    "duration": 10,
    "start_time": "2024-09-26T11:41:26.151Z"
   },
   {
    "duration": 8,
    "start_time": "2024-09-26T11:41:27.728Z"
   },
   {
    "duration": 8,
    "start_time": "2024-09-26T11:41:28.716Z"
   },
   {
    "duration": 6,
    "start_time": "2024-09-26T11:41:29.795Z"
   },
   {
    "duration": 184,
    "start_time": "2024-09-26T11:41:50.233Z"
   },
   {
    "duration": 416,
    "start_time": "2024-09-26T11:42:08.615Z"
   },
   {
    "duration": 896,
    "start_time": "2024-09-26T11:42:09.033Z"
   },
   {
    "duration": 11,
    "start_time": "2024-09-26T11:42:09.930Z"
   },
   {
    "duration": 8,
    "start_time": "2024-09-26T11:42:09.944Z"
   },
   {
    "duration": 7,
    "start_time": "2024-09-26T11:42:09.954Z"
   },
   {
    "duration": 8,
    "start_time": "2024-09-26T11:42:09.962Z"
   },
   {
    "duration": 6,
    "start_time": "2024-09-26T11:42:09.971Z"
   },
   {
    "duration": 121,
    "start_time": "2024-09-26T11:42:09.979Z"
   },
   {
    "duration": 108,
    "start_time": "2024-09-26T11:42:10.102Z"
   },
   {
    "duration": 12,
    "start_time": "2024-09-26T11:42:10.214Z"
   },
   {
    "duration": 115,
    "start_time": "2024-09-26T11:42:10.227Z"
   },
   {
    "duration": 106,
    "start_time": "2024-09-26T11:42:10.344Z"
   },
   {
    "duration": 33,
    "start_time": "2024-09-26T11:42:10.452Z"
   },
   {
    "duration": 12,
    "start_time": "2024-09-26T11:42:10.488Z"
   },
   {
    "duration": 3,
    "start_time": "2024-09-26T11:42:10.502Z"
   },
   {
    "duration": 33,
    "start_time": "2024-09-26T11:42:10.507Z"
   },
   {
    "duration": 11,
    "start_time": "2024-09-26T11:42:10.541Z"
   },
   {
    "duration": 3,
    "start_time": "2024-09-26T11:42:10.554Z"
   },
   {
    "duration": 4,
    "start_time": "2024-09-26T11:42:10.558Z"
   },
   {
    "duration": 5,
    "start_time": "2024-09-26T11:42:10.563Z"
   },
   {
    "duration": 3,
    "start_time": "2024-09-26T11:42:10.569Z"
   },
   {
    "duration": 898,
    "start_time": "2024-09-26T11:42:10.574Z"
   },
   {
    "duration": 1640,
    "start_time": "2024-09-26T11:42:11.474Z"
   },
   {
    "duration": 12,
    "start_time": "2024-09-26T11:42:13.116Z"
   },
   {
    "duration": 9,
    "start_time": "2024-09-26T11:42:13.129Z"
   },
   {
    "duration": 9,
    "start_time": "2024-09-26T11:42:13.140Z"
   },
   {
    "duration": 12,
    "start_time": "2024-09-26T11:42:13.151Z"
   },
   {
    "duration": 10,
    "start_time": "2024-09-26T11:42:13.169Z"
   },
   {
    "duration": 5,
    "start_time": "2024-09-26T11:42:13.181Z"
   },
   {
    "duration": 51,
    "start_time": "2024-09-26T11:42:13.188Z"
   },
   {
    "duration": 19,
    "start_time": "2024-09-26T11:42:13.241Z"
   },
   {
    "duration": 31,
    "start_time": "2024-09-26T11:42:13.264Z"
   },
   {
    "duration": 37,
    "start_time": "2024-09-26T11:42:13.298Z"
   },
   {
    "duration": 66,
    "start_time": "2024-09-26T11:42:13.336Z"
   },
   {
    "duration": 729,
    "start_time": "2024-09-26T11:42:13.403Z"
   },
   {
    "duration": 6,
    "start_time": "2024-09-26T11:42:14.135Z"
   },
   {
    "duration": 5,
    "start_time": "2024-09-26T11:42:14.142Z"
   },
   {
    "duration": 5,
    "start_time": "2024-09-26T11:42:14.148Z"
   },
   {
    "duration": 265,
    "start_time": "2024-09-26T11:42:14.154Z"
   },
   {
    "duration": 170,
    "start_time": "2024-09-26T11:42:14.424Z"
   },
   {
    "duration": 270,
    "start_time": "2024-09-26T11:42:14.596Z"
   },
   {
    "duration": 239,
    "start_time": "2024-09-26T11:42:14.867Z"
   },
   {
    "duration": 178,
    "start_time": "2024-09-26T11:42:15.107Z"
   },
   {
    "duration": 1685,
    "start_time": "2024-09-26T11:42:15.287Z"
   },
   {
    "duration": 1353,
    "start_time": "2024-09-26T11:42:16.974Z"
   },
   {
    "duration": 438,
    "start_time": "2024-09-26T11:42:18.329Z"
   },
   {
    "duration": 424,
    "start_time": "2024-09-26T11:42:18.769Z"
   },
   {
    "duration": 1294,
    "start_time": "2024-09-26T11:43:08.321Z"
   },
   {
    "duration": 5225,
    "start_time": "2024-09-26T11:43:09.616Z"
   },
   {
    "duration": 0,
    "start_time": "2024-09-26T11:43:14.843Z"
   },
   {
    "duration": 0,
    "start_time": "2024-09-26T11:43:14.845Z"
   },
   {
    "duration": 0,
    "start_time": "2024-09-26T11:43:14.846Z"
   },
   {
    "duration": 0,
    "start_time": "2024-09-26T11:43:14.847Z"
   },
   {
    "duration": 409,
    "start_time": "2024-09-26T11:43:33.879Z"
   },
   {
    "duration": 461,
    "start_time": "2024-09-26T11:43:44.100Z"
   },
   {
    "duration": 43855,
    "start_time": "2024-09-26T11:45:41.812Z"
   },
   {
    "duration": 3,
    "start_time": "2024-09-26T11:46:27.374Z"
   },
   {
    "duration": 161,
    "start_time": "2024-09-26T11:48:27.195Z"
   },
   {
    "duration": 460,
    "start_time": "2024-09-26T11:48:46.134Z"
   },
   {
    "duration": 1056,
    "start_time": "2024-09-26T11:48:46.596Z"
   },
   {
    "duration": 11,
    "start_time": "2024-09-26T11:48:47.654Z"
   },
   {
    "duration": 10,
    "start_time": "2024-09-26T11:48:47.667Z"
   },
   {
    "duration": 8,
    "start_time": "2024-09-26T11:48:47.678Z"
   },
   {
    "duration": 7,
    "start_time": "2024-09-26T11:48:47.687Z"
   },
   {
    "duration": 32,
    "start_time": "2024-09-26T11:48:47.696Z"
   },
   {
    "duration": 107,
    "start_time": "2024-09-26T11:48:47.730Z"
   },
   {
    "duration": 106,
    "start_time": "2024-09-26T11:48:47.839Z"
   },
   {
    "duration": 7,
    "start_time": "2024-09-26T11:48:47.948Z"
   },
   {
    "duration": 116,
    "start_time": "2024-09-26T11:48:47.956Z"
   },
   {
    "duration": 105,
    "start_time": "2024-09-26T11:48:48.073Z"
   },
   {
    "duration": 33,
    "start_time": "2024-09-26T11:48:48.179Z"
   },
   {
    "duration": 16,
    "start_time": "2024-09-26T11:48:48.224Z"
   },
   {
    "duration": 4,
    "start_time": "2024-09-26T11:48:48.241Z"
   },
   {
    "duration": 17,
    "start_time": "2024-09-26T11:48:48.247Z"
   },
   {
    "duration": 11,
    "start_time": "2024-09-26T11:48:48.266Z"
   },
   {
    "duration": 4,
    "start_time": "2024-09-26T11:48:48.280Z"
   },
   {
    "duration": 3,
    "start_time": "2024-09-26T11:48:48.286Z"
   },
   {
    "duration": 4,
    "start_time": "2024-09-26T11:48:48.324Z"
   },
   {
    "duration": 3,
    "start_time": "2024-09-26T11:48:48.330Z"
   },
   {
    "duration": 869,
    "start_time": "2024-09-26T11:48:48.335Z"
   },
   {
    "duration": 1627,
    "start_time": "2024-09-26T11:48:49.206Z"
   },
   {
    "duration": 6,
    "start_time": "2024-09-26T11:48:50.835Z"
   },
   {
    "duration": 8,
    "start_time": "2024-09-26T11:48:50.842Z"
   },
   {
    "duration": 6,
    "start_time": "2024-09-26T11:48:50.852Z"
   },
   {
    "duration": 10,
    "start_time": "2024-09-26T11:48:50.860Z"
   },
   {
    "duration": 10,
    "start_time": "2024-09-26T11:48:50.874Z"
   },
   {
    "duration": 39,
    "start_time": "2024-09-26T11:48:50.885Z"
   },
   {
    "duration": 16,
    "start_time": "2024-09-26T11:48:50.925Z"
   },
   {
    "duration": 16,
    "start_time": "2024-09-26T11:48:50.943Z"
   },
   {
    "duration": 30,
    "start_time": "2024-09-26T11:48:50.961Z"
   },
   {
    "duration": 42,
    "start_time": "2024-09-26T11:48:50.993Z"
   },
   {
    "duration": 66,
    "start_time": "2024-09-26T11:48:51.037Z"
   },
   {
    "duration": 719,
    "start_time": "2024-09-26T11:48:51.105Z"
   },
   {
    "duration": 6,
    "start_time": "2024-09-26T11:48:51.826Z"
   },
   {
    "duration": 4,
    "start_time": "2024-09-26T11:48:51.834Z"
   },
   {
    "duration": 5,
    "start_time": "2024-09-26T11:48:51.839Z"
   },
   {
    "duration": 279,
    "start_time": "2024-09-26T11:48:51.846Z"
   },
   {
    "duration": 182,
    "start_time": "2024-09-26T11:48:52.127Z"
   },
   {
    "duration": 267,
    "start_time": "2024-09-26T11:48:52.311Z"
   },
   {
    "duration": 243,
    "start_time": "2024-09-26T11:48:52.580Z"
   },
   {
    "duration": 177,
    "start_time": "2024-09-26T11:48:52.825Z"
   },
   {
    "duration": 1685,
    "start_time": "2024-09-26T11:48:53.003Z"
   },
   {
    "duration": 1326,
    "start_time": "2024-09-26T11:48:54.690Z"
   },
   {
    "duration": 432,
    "start_time": "2024-09-26T11:48:56.024Z"
   },
   {
    "duration": 414,
    "start_time": "2024-09-26T11:48:56.458Z"
   },
   {
    "duration": 48335,
    "start_time": "2024-09-26T11:48:56.874Z"
   },
   {
    "duration": 453,
    "start_time": "2024-09-26T11:49:45.211Z"
   },
   {
    "duration": 1281,
    "start_time": "2024-09-26T11:49:45.666Z"
   },
   {
    "duration": 0,
    "start_time": "2024-09-26T11:49:52.182Z"
   },
   {
    "duration": 0,
    "start_time": "2024-09-26T11:49:52.183Z"
   },
   {
    "duration": 0,
    "start_time": "2024-09-26T11:49:52.187Z"
   },
   {
    "duration": 45445,
    "start_time": "2024-09-26T11:54:43.634Z"
   },
   {
    "duration": 45539,
    "start_time": "2024-09-26T11:56:07.464Z"
   },
   {
    "duration": 45613,
    "start_time": "2024-09-26T11:59:13.947Z"
   },
   {
    "duration": 6,
    "start_time": "2024-09-26T11:59:59.570Z"
   },
   {
    "duration": 45467,
    "start_time": "2024-09-26T12:01:57.336Z"
   },
   {
    "duration": 423,
    "start_time": "2024-09-26T12:07:58.169Z"
   },
   {
    "duration": 905,
    "start_time": "2024-09-26T12:07:58.594Z"
   },
   {
    "duration": 11,
    "start_time": "2024-09-26T12:07:59.501Z"
   },
   {
    "duration": 14,
    "start_time": "2024-09-26T12:07:59.515Z"
   },
   {
    "duration": 8,
    "start_time": "2024-09-26T12:07:59.530Z"
   },
   {
    "duration": 7,
    "start_time": "2024-09-26T12:07:59.540Z"
   },
   {
    "duration": 6,
    "start_time": "2024-09-26T12:07:59.548Z"
   },
   {
    "duration": 121,
    "start_time": "2024-09-26T12:07:59.555Z"
   },
   {
    "duration": 107,
    "start_time": "2024-09-26T12:07:59.678Z"
   },
   {
    "duration": 8,
    "start_time": "2024-09-26T12:07:59.789Z"
   },
   {
    "duration": 133,
    "start_time": "2024-09-26T12:07:59.798Z"
   },
   {
    "duration": 109,
    "start_time": "2024-09-26T12:07:59.933Z"
   },
   {
    "duration": 35,
    "start_time": "2024-09-26T12:08:00.044Z"
   },
   {
    "duration": 12,
    "start_time": "2024-09-26T12:08:00.081Z"
   },
   {
    "duration": 4,
    "start_time": "2024-09-26T12:08:00.095Z"
   },
   {
    "duration": 21,
    "start_time": "2024-09-26T12:08:00.124Z"
   },
   {
    "duration": 12,
    "start_time": "2024-09-26T12:08:00.147Z"
   },
   {
    "duration": 4,
    "start_time": "2024-09-26T12:08:00.160Z"
   },
   {
    "duration": 5,
    "start_time": "2024-09-26T12:08:00.165Z"
   },
   {
    "duration": 4,
    "start_time": "2024-09-26T12:08:00.171Z"
   },
   {
    "duration": 3,
    "start_time": "2024-09-26T12:08:00.177Z"
   },
   {
    "duration": 897,
    "start_time": "2024-09-26T12:08:00.182Z"
   },
   {
    "duration": 1671,
    "start_time": "2024-09-26T12:08:01.081Z"
   },
   {
    "duration": 6,
    "start_time": "2024-09-26T12:08:02.753Z"
   },
   {
    "duration": 7,
    "start_time": "2024-09-26T12:08:02.761Z"
   },
   {
    "duration": 6,
    "start_time": "2024-09-26T12:08:02.770Z"
   },
   {
    "duration": 10,
    "start_time": "2024-09-26T12:08:02.777Z"
   },
   {
    "duration": 42,
    "start_time": "2024-09-26T12:08:02.791Z"
   },
   {
    "duration": 5,
    "start_time": "2024-09-26T12:08:02.834Z"
   },
   {
    "duration": 15,
    "start_time": "2024-09-26T12:08:02.841Z"
   },
   {
    "duration": 17,
    "start_time": "2024-09-26T12:08:02.858Z"
   },
   {
    "duration": 55,
    "start_time": "2024-09-26T12:08:02.877Z"
   },
   {
    "duration": 14,
    "start_time": "2024-09-26T12:08:02.934Z"
   },
   {
    "duration": 83,
    "start_time": "2024-09-26T12:08:02.949Z"
   },
   {
    "duration": 708,
    "start_time": "2024-09-26T12:08:03.033Z"
   },
   {
    "duration": 6,
    "start_time": "2024-09-26T12:08:03.743Z"
   },
   {
    "duration": 5,
    "start_time": "2024-09-26T12:08:03.750Z"
   },
   {
    "duration": 5,
    "start_time": "2024-09-26T12:08:03.756Z"
   },
   {
    "duration": 275,
    "start_time": "2024-09-26T12:08:03.762Z"
   },
   {
    "duration": 173,
    "start_time": "2024-09-26T12:08:04.039Z"
   },
   {
    "duration": 266,
    "start_time": "2024-09-26T12:08:04.214Z"
   },
   {
    "duration": 227,
    "start_time": "2024-09-26T12:08:04.483Z"
   },
   {
    "duration": 181,
    "start_time": "2024-09-26T12:08:04.712Z"
   },
   {
    "duration": 1714,
    "start_time": "2024-09-26T12:08:04.895Z"
   },
   {
    "duration": 1373,
    "start_time": "2024-09-26T12:08:06.611Z"
   },
   {
    "duration": 441,
    "start_time": "2024-09-26T12:08:07.986Z"
   },
   {
    "duration": 427,
    "start_time": "2024-09-26T12:08:08.431Z"
   },
   {
    "duration": 157,
    "start_time": "2024-09-26T12:15:17.007Z"
   },
   {
    "duration": 427,
    "start_time": "2024-09-26T12:15:25.868Z"
   },
   {
    "duration": 1050,
    "start_time": "2024-09-26T12:15:26.297Z"
   },
   {
    "duration": 14,
    "start_time": "2024-09-26T12:15:27.349Z"
   },
   {
    "duration": 10,
    "start_time": "2024-09-26T12:15:27.365Z"
   },
   {
    "duration": 7,
    "start_time": "2024-09-26T12:15:27.376Z"
   },
   {
    "duration": 7,
    "start_time": "2024-09-26T12:15:27.385Z"
   },
   {
    "duration": 33,
    "start_time": "2024-09-26T12:15:27.393Z"
   },
   {
    "duration": 112,
    "start_time": "2024-09-26T12:15:27.427Z"
   },
   {
    "duration": 112,
    "start_time": "2024-09-26T12:15:27.540Z"
   },
   {
    "duration": 7,
    "start_time": "2024-09-26T12:15:27.655Z"
   },
   {
    "duration": 120,
    "start_time": "2024-09-26T12:15:27.664Z"
   },
   {
    "duration": 106,
    "start_time": "2024-09-26T12:15:27.785Z"
   },
   {
    "duration": 43,
    "start_time": "2024-09-26T12:15:27.893Z"
   },
   {
    "duration": 12,
    "start_time": "2024-09-26T12:15:27.937Z"
   },
   {
    "duration": 4,
    "start_time": "2024-09-26T12:15:27.951Z"
   },
   {
    "duration": 17,
    "start_time": "2024-09-26T12:15:27.956Z"
   },
   {
    "duration": 12,
    "start_time": "2024-09-26T12:15:27.974Z"
   },
   {
    "duration": 3,
    "start_time": "2024-09-26T12:15:27.987Z"
   },
   {
    "duration": 3,
    "start_time": "2024-09-26T12:15:28.024Z"
   },
   {
    "duration": 5,
    "start_time": "2024-09-26T12:15:28.028Z"
   },
   {
    "duration": 4,
    "start_time": "2024-09-26T12:15:28.034Z"
   },
   {
    "duration": 877,
    "start_time": "2024-09-26T12:15:28.040Z"
   },
   {
    "duration": 1628,
    "start_time": "2024-09-26T12:15:28.924Z"
   },
   {
    "duration": 5,
    "start_time": "2024-09-26T12:15:30.554Z"
   },
   {
    "duration": 7,
    "start_time": "2024-09-26T12:15:30.561Z"
   },
   {
    "duration": 6,
    "start_time": "2024-09-26T12:15:30.570Z"
   },
   {
    "duration": 10,
    "start_time": "2024-09-26T12:15:30.578Z"
   },
   {
    "duration": 38,
    "start_time": "2024-09-26T12:15:30.592Z"
   },
   {
    "duration": 5,
    "start_time": "2024-09-26T12:15:30.632Z"
   },
   {
    "duration": 15,
    "start_time": "2024-09-26T12:15:30.638Z"
   },
   {
    "duration": 18,
    "start_time": "2024-09-26T12:15:30.655Z"
   },
   {
    "duration": 54,
    "start_time": "2024-09-26T12:15:30.675Z"
   },
   {
    "duration": 13,
    "start_time": "2024-09-26T12:15:30.731Z"
   },
   {
    "duration": 78,
    "start_time": "2024-09-26T12:15:30.746Z"
   },
   {
    "duration": 707,
    "start_time": "2024-09-26T12:15:30.826Z"
   },
   {
    "duration": 5,
    "start_time": "2024-09-26T12:15:31.535Z"
   },
   {
    "duration": 4,
    "start_time": "2024-09-26T12:15:31.542Z"
   },
   {
    "duration": 4,
    "start_time": "2024-09-26T12:15:31.548Z"
   },
   {
    "duration": 266,
    "start_time": "2024-09-26T12:15:31.554Z"
   },
   {
    "duration": 169,
    "start_time": "2024-09-26T12:15:31.824Z"
   },
   {
    "duration": 269,
    "start_time": "2024-09-26T12:15:31.995Z"
   },
   {
    "duration": 237,
    "start_time": "2024-09-26T12:15:32.266Z"
   },
   {
    "duration": 181,
    "start_time": "2024-09-26T12:15:32.505Z"
   },
   {
    "duration": 1686,
    "start_time": "2024-09-26T12:15:32.688Z"
   },
   {
    "duration": 1321,
    "start_time": "2024-09-26T12:15:34.375Z"
   },
   {
    "duration": 434,
    "start_time": "2024-09-26T12:15:35.697Z"
   },
   {
    "duration": 433,
    "start_time": "2024-09-26T12:15:36.133Z"
   },
   {
    "duration": 163,
    "start_time": "2024-09-26T12:24:28.967Z"
   },
   {
    "duration": 413,
    "start_time": "2024-09-26T12:24:36.903Z"
   },
   {
    "duration": 1104,
    "start_time": "2024-09-26T12:24:37.318Z"
   },
   {
    "duration": 10,
    "start_time": "2024-09-26T12:24:38.424Z"
   },
   {
    "duration": 9,
    "start_time": "2024-09-26T12:24:38.436Z"
   },
   {
    "duration": 7,
    "start_time": "2024-09-26T12:24:38.447Z"
   },
   {
    "duration": 8,
    "start_time": "2024-09-26T12:24:38.456Z"
   },
   {
    "duration": 7,
    "start_time": "2024-09-26T12:24:38.465Z"
   },
   {
    "duration": 128,
    "start_time": "2024-09-26T12:24:38.473Z"
   },
   {
    "duration": 103,
    "start_time": "2024-09-26T12:24:38.603Z"
   },
   {
    "duration": 16,
    "start_time": "2024-09-26T12:24:38.709Z"
   },
   {
    "duration": 108,
    "start_time": "2024-09-26T12:24:38.727Z"
   },
   {
    "duration": 105,
    "start_time": "2024-09-26T12:24:38.836Z"
   },
   {
    "duration": 31,
    "start_time": "2024-09-26T12:24:38.943Z"
   },
   {
    "duration": 12,
    "start_time": "2024-09-26T12:24:38.976Z"
   },
   {
    "duration": 4,
    "start_time": "2024-09-26T12:24:38.989Z"
   },
   {
    "duration": 37,
    "start_time": "2024-09-26T12:24:38.995Z"
   },
   {
    "duration": 11,
    "start_time": "2024-09-26T12:24:39.034Z"
   },
   {
    "duration": 4,
    "start_time": "2024-09-26T12:24:39.047Z"
   },
   {
    "duration": 4,
    "start_time": "2024-09-26T12:24:39.052Z"
   },
   {
    "duration": 3,
    "start_time": "2024-09-26T12:24:39.058Z"
   },
   {
    "duration": 4,
    "start_time": "2024-09-26T12:24:39.062Z"
   },
   {
    "duration": 885,
    "start_time": "2024-09-26T12:24:39.068Z"
   },
   {
    "duration": 1658,
    "start_time": "2024-09-26T12:24:39.955Z"
   },
   {
    "duration": 12,
    "start_time": "2024-09-26T12:24:41.616Z"
   },
   {
    "duration": 9,
    "start_time": "2024-09-26T12:24:41.629Z"
   },
   {
    "duration": 6,
    "start_time": "2024-09-26T12:24:41.639Z"
   },
   {
    "duration": 10,
    "start_time": "2024-09-26T12:24:41.646Z"
   },
   {
    "duration": 11,
    "start_time": "2024-09-26T12:24:41.661Z"
   },
   {
    "duration": 5,
    "start_time": "2024-09-26T12:24:41.673Z"
   },
   {
    "duration": 58,
    "start_time": "2024-09-26T12:24:41.680Z"
   },
   {
    "duration": 16,
    "start_time": "2024-09-26T12:24:41.739Z"
   },
   {
    "duration": 30,
    "start_time": "2024-09-26T12:24:41.757Z"
   },
   {
    "duration": 14,
    "start_time": "2024-09-26T12:24:41.789Z"
   },
   {
    "duration": 65,
    "start_time": "2024-09-26T12:24:41.825Z"
   },
   {
    "duration": 709,
    "start_time": "2024-09-26T12:24:41.891Z"
   },
   {
    "duration": 6,
    "start_time": "2024-09-26T12:24:42.602Z"
   },
   {
    "duration": 5,
    "start_time": "2024-09-26T12:24:42.623Z"
   },
   {
    "duration": 5,
    "start_time": "2024-09-26T12:24:42.630Z"
   },
   {
    "duration": 256,
    "start_time": "2024-09-26T12:24:42.637Z"
   },
   {
    "duration": 168,
    "start_time": "2024-09-26T12:24:42.894Z"
   },
   {
    "duration": 271,
    "start_time": "2024-09-26T12:24:43.064Z"
   },
   {
    "duration": 236,
    "start_time": "2024-09-26T12:24:43.337Z"
   },
   {
    "duration": 180,
    "start_time": "2024-09-26T12:24:43.575Z"
   },
   {
    "duration": 1899,
    "start_time": "2024-09-26T12:24:43.757Z"
   },
   {
    "duration": 1319,
    "start_time": "2024-09-26T12:24:45.658Z"
   },
   {
    "duration": 433,
    "start_time": "2024-09-26T12:24:46.979Z"
   },
   {
    "duration": 447,
    "start_time": "2024-09-26T12:24:47.413Z"
   },
   {
    "duration": 159,
    "start_time": "2024-09-26T12:34:10.184Z"
   },
   {
    "duration": 2141,
    "start_time": "2024-09-26T14:30:52.236Z"
   },
   {
    "duration": 1009,
    "start_time": "2024-09-26T14:30:54.380Z"
   },
   {
    "duration": 11,
    "start_time": "2024-09-26T14:30:55.391Z"
   },
   {
    "duration": 9,
    "start_time": "2024-09-26T14:30:55.404Z"
   },
   {
    "duration": 21,
    "start_time": "2024-09-26T14:30:55.415Z"
   },
   {
    "duration": 7,
    "start_time": "2024-09-26T14:30:55.438Z"
   },
   {
    "duration": 8,
    "start_time": "2024-09-26T14:30:55.446Z"
   },
   {
    "duration": 110,
    "start_time": "2024-09-26T14:30:55.455Z"
   },
   {
    "duration": 99,
    "start_time": "2024-09-26T14:30:55.567Z"
   },
   {
    "duration": 9,
    "start_time": "2024-09-26T14:30:55.670Z"
   },
   {
    "duration": 116,
    "start_time": "2024-09-26T14:30:55.680Z"
   },
   {
    "duration": 102,
    "start_time": "2024-09-26T14:30:55.798Z"
   },
   {
    "duration": 42,
    "start_time": "2024-09-26T14:30:55.902Z"
   },
   {
    "duration": 13,
    "start_time": "2024-09-26T14:30:55.946Z"
   },
   {
    "duration": 4,
    "start_time": "2024-09-26T14:30:55.961Z"
   },
   {
    "duration": 18,
    "start_time": "2024-09-26T14:30:55.966Z"
   },
   {
    "duration": 13,
    "start_time": "2024-09-26T14:30:55.985Z"
   },
   {
    "duration": 34,
    "start_time": "2024-09-26T14:30:55.999Z"
   },
   {
    "duration": 4,
    "start_time": "2024-09-26T14:30:56.034Z"
   },
   {
    "duration": 4,
    "start_time": "2024-09-26T14:30:56.040Z"
   },
   {
    "duration": 5,
    "start_time": "2024-09-26T14:30:56.045Z"
   },
   {
    "duration": 853,
    "start_time": "2024-09-26T14:30:56.052Z"
   },
   {
    "duration": 1650,
    "start_time": "2024-09-26T14:30:56.906Z"
   },
   {
    "duration": 5,
    "start_time": "2024-09-26T14:30:58.559Z"
   },
   {
    "duration": 17,
    "start_time": "2024-09-26T14:30:58.565Z"
   },
   {
    "duration": 7,
    "start_time": "2024-09-26T14:30:58.583Z"
   },
   {
    "duration": 11,
    "start_time": "2024-09-26T14:30:58.592Z"
   },
   {
    "duration": 32,
    "start_time": "2024-09-26T14:30:58.608Z"
   },
   {
    "duration": 6,
    "start_time": "2024-09-26T14:30:58.641Z"
   },
   {
    "duration": 16,
    "start_time": "2024-09-26T14:30:58.649Z"
   },
   {
    "duration": 17,
    "start_time": "2024-09-26T14:30:58.666Z"
   },
   {
    "duration": 59,
    "start_time": "2024-09-26T14:30:58.685Z"
   },
   {
    "duration": 14,
    "start_time": "2024-09-26T14:30:58.746Z"
   },
   {
    "duration": 78,
    "start_time": "2024-09-26T14:30:58.761Z"
   },
   {
    "duration": 690,
    "start_time": "2024-09-26T14:30:58.841Z"
   },
   {
    "duration": 5,
    "start_time": "2024-09-26T14:30:59.533Z"
   },
   {
    "duration": 5,
    "start_time": "2024-09-26T14:30:59.540Z"
   },
   {
    "duration": 5,
    "start_time": "2024-09-26T14:30:59.546Z"
   },
   {
    "duration": 269,
    "start_time": "2024-09-26T14:30:59.553Z"
   },
   {
    "duration": 172,
    "start_time": "2024-09-26T14:30:59.824Z"
   },
   {
    "duration": 312,
    "start_time": "2024-09-26T14:30:59.998Z"
   },
   {
    "duration": 243,
    "start_time": "2024-09-26T14:31:00.312Z"
   },
   {
    "duration": 181,
    "start_time": "2024-09-26T14:31:00.557Z"
   },
   {
    "duration": 1677,
    "start_time": "2024-09-26T14:31:00.741Z"
   },
   {
    "duration": 1304,
    "start_time": "2024-09-26T14:31:02.420Z"
   },
   {
    "duration": 434,
    "start_time": "2024-09-26T14:31:03.726Z"
   },
   {
    "duration": 435,
    "start_time": "2024-09-26T14:31:04.162Z"
   },
   {
    "duration": 158,
    "start_time": "2024-09-26T14:40:21.115Z"
   },
   {
    "duration": 422,
    "start_time": "2024-09-26T14:40:43.581Z"
   },
   {
    "duration": 894,
    "start_time": "2024-09-26T14:40:44.005Z"
   },
   {
    "duration": 11,
    "start_time": "2024-09-26T14:40:44.900Z"
   },
   {
    "duration": 18,
    "start_time": "2024-09-26T14:40:44.913Z"
   },
   {
    "duration": 8,
    "start_time": "2024-09-26T14:40:44.933Z"
   },
   {
    "duration": 7,
    "start_time": "2024-09-26T14:40:44.943Z"
   },
   {
    "duration": 7,
    "start_time": "2024-09-26T14:40:44.952Z"
   },
   {
    "duration": 115,
    "start_time": "2024-09-26T14:40:44.960Z"
   },
   {
    "duration": 99,
    "start_time": "2024-09-26T14:40:45.077Z"
   },
   {
    "duration": 7,
    "start_time": "2024-09-26T14:40:45.179Z"
   },
   {
    "duration": 118,
    "start_time": "2024-09-26T14:40:45.188Z"
   },
   {
    "duration": 101,
    "start_time": "2024-09-26T14:40:45.307Z"
   },
   {
    "duration": 41,
    "start_time": "2024-09-26T14:40:45.410Z"
   },
   {
    "duration": 13,
    "start_time": "2024-09-26T14:40:45.452Z"
   },
   {
    "duration": 4,
    "start_time": "2024-09-26T14:40:45.466Z"
   },
   {
    "duration": 17,
    "start_time": "2024-09-26T14:40:45.471Z"
   },
   {
    "duration": 12,
    "start_time": "2024-09-26T14:40:45.489Z"
   },
   {
    "duration": 3,
    "start_time": "2024-09-26T14:40:45.532Z"
   },
   {
    "duration": 4,
    "start_time": "2024-09-26T14:40:45.537Z"
   },
   {
    "duration": 4,
    "start_time": "2024-09-26T14:40:45.542Z"
   },
   {
    "duration": 3,
    "start_time": "2024-09-26T14:40:45.548Z"
   },
   {
    "duration": 887,
    "start_time": "2024-09-26T14:40:45.553Z"
   },
   {
    "duration": 1620,
    "start_time": "2024-09-26T14:40:46.443Z"
   },
   {
    "duration": 5,
    "start_time": "2024-09-26T14:40:48.065Z"
   },
   {
    "duration": 7,
    "start_time": "2024-09-26T14:40:48.072Z"
   },
   {
    "duration": 5,
    "start_time": "2024-09-26T14:40:48.081Z"
   },
   {
    "duration": 11,
    "start_time": "2024-09-26T14:40:48.088Z"
   },
   {
    "duration": 13,
    "start_time": "2024-09-26T14:40:48.131Z"
   },
   {
    "duration": 6,
    "start_time": "2024-09-26T14:40:48.146Z"
   },
   {
    "duration": 16,
    "start_time": "2024-09-26T14:40:48.154Z"
   },
   {
    "duration": 17,
    "start_time": "2024-09-26T14:40:48.172Z"
   },
   {
    "duration": 60,
    "start_time": "2024-09-26T14:40:48.190Z"
   },
   {
    "duration": 14,
    "start_time": "2024-09-26T14:40:48.252Z"
   },
   {
    "duration": 83,
    "start_time": "2024-09-26T14:40:48.268Z"
   },
   {
    "duration": 710,
    "start_time": "2024-09-26T14:40:48.353Z"
   },
   {
    "duration": 6,
    "start_time": "2024-09-26T14:40:49.065Z"
   },
   {
    "duration": 5,
    "start_time": "2024-09-26T14:40:49.073Z"
   },
   {
    "duration": 5,
    "start_time": "2024-09-26T14:40:49.080Z"
   },
   {
    "duration": 274,
    "start_time": "2024-09-26T14:40:49.086Z"
   },
   {
    "duration": 178,
    "start_time": "2024-09-26T14:40:49.362Z"
   },
   {
    "duration": 302,
    "start_time": "2024-09-26T14:40:49.542Z"
   },
   {
    "duration": 234,
    "start_time": "2024-09-26T14:40:49.846Z"
   },
   {
    "duration": 185,
    "start_time": "2024-09-26T14:40:50.081Z"
   },
   {
    "duration": 1723,
    "start_time": "2024-09-26T14:40:50.267Z"
   },
   {
    "duration": 1303,
    "start_time": "2024-09-26T14:40:51.991Z"
   },
   {
    "duration": 435,
    "start_time": "2024-09-26T14:40:53.296Z"
   },
   {
    "duration": 421,
    "start_time": "2024-09-26T14:40:53.733Z"
   },
   {
    "duration": 455,
    "start_time": "2024-09-26T14:40:54.157Z"
   },
   {
    "duration": 1262,
    "start_time": "2024-09-26T14:40:54.614Z"
   },
   {
    "duration": 461,
    "start_time": "2024-09-26T14:40:55.878Z"
   },
   {
    "duration": 40539,
    "start_time": "2024-09-26T14:41:01.598Z"
   },
   {
    "duration": 415,
    "start_time": "2024-09-26T14:44:12.902Z"
   },
   {
    "duration": 903,
    "start_time": "2024-09-26T14:44:13.319Z"
   },
   {
    "duration": 15,
    "start_time": "2024-09-26T14:44:14.224Z"
   },
   {
    "duration": 9,
    "start_time": "2024-09-26T14:44:14.241Z"
   },
   {
    "duration": 8,
    "start_time": "2024-09-26T14:44:14.251Z"
   },
   {
    "duration": 8,
    "start_time": "2024-09-26T14:44:14.260Z"
   },
   {
    "duration": 6,
    "start_time": "2024-09-26T14:44:14.270Z"
   },
   {
    "duration": 130,
    "start_time": "2024-09-26T14:44:14.278Z"
   },
   {
    "duration": 103,
    "start_time": "2024-09-26T14:44:14.410Z"
   },
   {
    "duration": 15,
    "start_time": "2024-09-26T14:44:14.516Z"
   },
   {
    "duration": 111,
    "start_time": "2024-09-26T14:44:14.533Z"
   },
   {
    "duration": 108,
    "start_time": "2024-09-26T14:44:14.646Z"
   },
   {
    "duration": 35,
    "start_time": "2024-09-26T14:44:14.756Z"
   },
   {
    "duration": 12,
    "start_time": "2024-09-26T14:44:14.793Z"
   },
   {
    "duration": 3,
    "start_time": "2024-09-26T14:44:14.807Z"
   },
   {
    "duration": 17,
    "start_time": "2024-09-26T14:44:14.831Z"
   },
   {
    "duration": 12,
    "start_time": "2024-09-26T14:44:14.850Z"
   },
   {
    "duration": 3,
    "start_time": "2024-09-26T14:44:14.864Z"
   },
   {
    "duration": 4,
    "start_time": "2024-09-26T14:44:14.868Z"
   },
   {
    "duration": 3,
    "start_time": "2024-09-26T14:44:14.874Z"
   },
   {
    "duration": 4,
    "start_time": "2024-09-26T14:44:14.879Z"
   },
   {
    "duration": 861,
    "start_time": "2024-09-26T14:44:14.885Z"
   },
   {
    "duration": 1659,
    "start_time": "2024-09-26T14:44:15.747Z"
   },
   {
    "duration": 6,
    "start_time": "2024-09-26T14:44:17.408Z"
   },
   {
    "duration": 21,
    "start_time": "2024-09-26T14:44:17.415Z"
   },
   {
    "duration": 6,
    "start_time": "2024-09-26T14:44:17.437Z"
   },
   {
    "duration": 11,
    "start_time": "2024-09-26T14:44:17.444Z"
   },
   {
    "duration": 10,
    "start_time": "2024-09-26T14:44:17.460Z"
   },
   {
    "duration": 5,
    "start_time": "2024-09-26T14:44:17.472Z"
   },
   {
    "duration": 15,
    "start_time": "2024-09-26T14:44:17.479Z"
   },
   {
    "duration": 50,
    "start_time": "2024-09-26T14:44:17.496Z"
   },
   {
    "duration": 31,
    "start_time": "2024-09-26T14:44:17.547Z"
   },
   {
    "duration": 13,
    "start_time": "2024-09-26T14:44:17.580Z"
   },
   {
    "duration": 93,
    "start_time": "2024-09-26T14:44:17.595Z"
   },
   {
    "duration": 718,
    "start_time": "2024-09-26T14:44:17.690Z"
   },
   {
    "duration": 5,
    "start_time": "2024-09-26T14:44:18.410Z"
   },
   {
    "duration": 5,
    "start_time": "2024-09-26T14:44:18.416Z"
   },
   {
    "duration": 13,
    "start_time": "2024-09-26T14:44:18.422Z"
   },
   {
    "duration": 261,
    "start_time": "2024-09-26T14:44:18.437Z"
   },
   {
    "duration": 186,
    "start_time": "2024-09-26T14:44:18.700Z"
   },
   {
    "duration": 267,
    "start_time": "2024-09-26T14:44:18.888Z"
   },
   {
    "duration": 239,
    "start_time": "2024-09-26T14:44:19.157Z"
   },
   {
    "duration": 185,
    "start_time": "2024-09-26T14:44:19.397Z"
   },
   {
    "duration": 1741,
    "start_time": "2024-09-26T14:44:19.583Z"
   },
   {
    "duration": 1307,
    "start_time": "2024-09-26T14:44:21.326Z"
   },
   {
    "duration": 445,
    "start_time": "2024-09-26T14:44:22.635Z"
   },
   {
    "duration": 416,
    "start_time": "2024-09-26T14:44:23.081Z"
   },
   {
    "duration": 453,
    "start_time": "2024-09-26T14:44:23.499Z"
   },
   {
    "duration": 1295,
    "start_time": "2024-09-26T14:44:23.954Z"
   },
   {
    "duration": 454,
    "start_time": "2024-09-26T14:44:25.251Z"
   },
   {
    "duration": 46006,
    "start_time": "2024-09-26T14:45:57.407Z"
   },
   {
    "duration": 268,
    "start_time": "2024-09-26T14:47:16.433Z"
   },
   {
    "duration": 4569,
    "start_time": "2024-09-26T14:48:29.671Z"
   },
   {
    "duration": 326,
    "start_time": "2024-09-26T14:49:27.897Z"
   },
   {
    "duration": 287,
    "start_time": "2024-09-26T14:49:38.705Z"
   },
   {
    "duration": 313,
    "start_time": "2024-09-26T14:51:12.347Z"
   },
   {
    "duration": 160,
    "start_time": "2024-09-26T14:57:50.115Z"
   },
   {
    "duration": 412,
    "start_time": "2024-09-26T14:58:07.007Z"
   },
   {
    "duration": 1292,
    "start_time": "2024-09-26T14:58:07.421Z"
   },
   {
    "duration": 11,
    "start_time": "2024-09-26T14:58:08.715Z"
   },
   {
    "duration": 9,
    "start_time": "2024-09-26T14:58:08.732Z"
   },
   {
    "duration": 8,
    "start_time": "2024-09-26T14:58:08.743Z"
   },
   {
    "duration": 11,
    "start_time": "2024-09-26T14:58:08.753Z"
   },
   {
    "duration": 8,
    "start_time": "2024-09-26T14:58:08.765Z"
   },
   {
    "duration": 129,
    "start_time": "2024-09-26T14:58:08.778Z"
   },
   {
    "duration": 111,
    "start_time": "2024-09-26T14:58:08.908Z"
   },
   {
    "duration": 11,
    "start_time": "2024-09-26T14:58:09.021Z"
   },
   {
    "duration": 116,
    "start_time": "2024-09-26T14:58:09.034Z"
   },
   {
    "duration": 112,
    "start_time": "2024-09-26T14:58:09.151Z"
   },
   {
    "duration": 34,
    "start_time": "2024-09-26T14:58:09.265Z"
   },
   {
    "duration": 13,
    "start_time": "2024-09-26T14:58:09.302Z"
   },
   {
    "duration": 16,
    "start_time": "2024-09-26T14:58:09.316Z"
   },
   {
    "duration": 17,
    "start_time": "2024-09-26T14:58:09.334Z"
   },
   {
    "duration": 12,
    "start_time": "2024-09-26T14:58:09.352Z"
   },
   {
    "duration": 4,
    "start_time": "2024-09-26T14:58:09.365Z"
   },
   {
    "duration": 4,
    "start_time": "2024-09-26T14:58:09.370Z"
   },
   {
    "duration": 4,
    "start_time": "2024-09-26T14:58:09.376Z"
   },
   {
    "duration": 4,
    "start_time": "2024-09-26T14:58:09.381Z"
   },
   {
    "duration": 1360,
    "start_time": "2024-09-26T14:58:09.386Z"
   },
   {
    "duration": 1696,
    "start_time": "2024-09-26T14:58:10.747Z"
   },
   {
    "duration": 6,
    "start_time": "2024-09-26T14:58:12.445Z"
   },
   {
    "duration": 9,
    "start_time": "2024-09-26T14:58:12.453Z"
   },
   {
    "duration": 6,
    "start_time": "2024-09-26T14:58:12.463Z"
   },
   {
    "duration": 11,
    "start_time": "2024-09-26T14:58:12.471Z"
   },
   {
    "duration": 11,
    "start_time": "2024-09-26T14:58:12.483Z"
   },
   {
    "duration": 40,
    "start_time": "2024-09-26T14:58:12.495Z"
   },
   {
    "duration": 16,
    "start_time": "2024-09-26T14:58:12.537Z"
   },
   {
    "duration": 17,
    "start_time": "2024-09-26T14:58:12.555Z"
   },
   {
    "duration": 31,
    "start_time": "2024-09-26T14:58:12.574Z"
   },
   {
    "duration": 14,
    "start_time": "2024-09-26T14:58:12.631Z"
   },
   {
    "duration": 65,
    "start_time": "2024-09-26T14:58:12.647Z"
   },
   {
    "duration": 820,
    "start_time": "2024-09-26T14:58:12.714Z"
   },
   {
    "duration": 6,
    "start_time": "2024-09-26T14:58:13.536Z"
   },
   {
    "duration": 5,
    "start_time": "2024-09-26T14:58:13.544Z"
   },
   {
    "duration": 6,
    "start_time": "2024-09-26T14:58:13.550Z"
   },
   {
    "duration": 273,
    "start_time": "2024-09-26T14:58:13.559Z"
   },
   {
    "duration": 177,
    "start_time": "2024-09-26T14:58:13.834Z"
   },
   {
    "duration": 285,
    "start_time": "2024-09-26T14:58:14.016Z"
   },
   {
    "duration": 245,
    "start_time": "2024-09-26T14:58:14.303Z"
   },
   {
    "duration": 183,
    "start_time": "2024-09-26T14:58:14.550Z"
   },
   {
    "duration": 1759,
    "start_time": "2024-09-26T14:58:14.735Z"
   },
   {
    "duration": 1368,
    "start_time": "2024-09-26T14:58:16.496Z"
   },
   {
    "duration": 453,
    "start_time": "2024-09-26T14:58:17.865Z"
   },
   {
    "duration": 426,
    "start_time": "2024-09-26T14:58:18.320Z"
   },
   {
    "duration": 267,
    "start_time": "2024-09-26T14:58:18.748Z"
   },
   {
    "duration": 685,
    "start_time": "2024-09-26T14:58:19.017Z"
   },
   {
    "duration": 0,
    "start_time": "2024-09-26T14:58:19.704Z"
   },
   {
    "duration": 0,
    "start_time": "2024-09-26T14:58:19.705Z"
   },
   {
    "duration": 0,
    "start_time": "2024-09-26T14:58:19.706Z"
   },
   {
    "duration": 0,
    "start_time": "2024-09-26T14:58:19.707Z"
   },
   {
    "duration": 444,
    "start_time": "2024-09-26T14:59:03.041Z"
   },
   {
    "duration": 1331,
    "start_time": "2024-09-26T14:59:32.281Z"
   },
   {
    "duration": 256,
    "start_time": "2024-09-26T14:59:39.150Z"
   },
   {
    "duration": 470,
    "start_time": "2024-09-26T14:59:46.922Z"
   },
   {
    "duration": 314,
    "start_time": "2024-09-26T14:59:53.062Z"
   },
   {
    "duration": 264,
    "start_time": "2024-09-26T15:01:36.280Z"
   },
   {
    "duration": 7,
    "start_time": "2024-09-26T15:03:38.356Z"
   },
   {
    "duration": 3,
    "start_time": "2024-09-26T15:04:33.965Z"
   },
   {
    "duration": 176,
    "start_time": "2024-10-13T21:37:20.847Z"
   },
   {
    "duration": 441,
    "start_time": "2024-10-13T21:37:38.108Z"
   },
   {
    "duration": 1069,
    "start_time": "2024-10-13T21:37:38.551Z"
   },
   {
    "duration": 11,
    "start_time": "2024-10-13T21:37:39.622Z"
   },
   {
    "duration": 9,
    "start_time": "2024-10-13T21:37:39.636Z"
   },
   {
    "duration": 8,
    "start_time": "2024-10-13T21:37:39.647Z"
   },
   {
    "duration": 8,
    "start_time": "2024-10-13T21:37:39.657Z"
   },
   {
    "duration": 39,
    "start_time": "2024-10-13T21:37:39.666Z"
   },
   {
    "duration": 114,
    "start_time": "2024-10-13T21:37:39.707Z"
   },
   {
    "duration": 112,
    "start_time": "2024-10-13T21:37:39.824Z"
   },
   {
    "duration": 8,
    "start_time": "2024-10-13T21:37:39.940Z"
   },
   {
    "duration": 125,
    "start_time": "2024-10-13T21:37:39.950Z"
   },
   {
    "duration": 106,
    "start_time": "2024-10-13T21:37:40.077Z"
   },
   {
    "duration": 44,
    "start_time": "2024-10-13T21:37:40.185Z"
   },
   {
    "duration": 12,
    "start_time": "2024-10-13T21:37:40.231Z"
   },
   {
    "duration": 4,
    "start_time": "2024-10-13T21:37:40.245Z"
   },
   {
    "duration": 19,
    "start_time": "2024-10-13T21:37:40.250Z"
   },
   {
    "duration": 37,
    "start_time": "2024-10-13T21:37:40.271Z"
   },
   {
    "duration": 3,
    "start_time": "2024-10-13T21:37:40.310Z"
   },
   {
    "duration": 4,
    "start_time": "2024-10-13T21:37:40.315Z"
   },
   {
    "duration": 4,
    "start_time": "2024-10-13T21:37:40.320Z"
   },
   {
    "duration": 4,
    "start_time": "2024-10-13T21:37:40.326Z"
   },
   {
    "duration": 954,
    "start_time": "2024-10-13T21:37:40.332Z"
   },
   {
    "duration": 1764,
    "start_time": "2024-10-13T21:37:41.287Z"
   },
   {
    "duration": 6,
    "start_time": "2024-10-13T21:37:43.053Z"
   },
   {
    "duration": 10,
    "start_time": "2024-10-13T21:37:43.060Z"
   },
   {
    "duration": 7,
    "start_time": "2024-10-13T21:37:43.071Z"
   },
   {
    "duration": 221,
    "start_time": "2024-10-13T21:37:43.080Z"
   },
   {
    "duration": 0,
    "start_time": "2024-10-13T21:37:43.306Z"
   },
   {
    "duration": 0,
    "start_time": "2024-10-13T21:37:43.307Z"
   },
   {
    "duration": 0,
    "start_time": "2024-10-13T21:37:43.309Z"
   },
   {
    "duration": 0,
    "start_time": "2024-10-13T21:37:43.310Z"
   },
   {
    "duration": 0,
    "start_time": "2024-10-13T21:37:43.311Z"
   },
   {
    "duration": 0,
    "start_time": "2024-10-13T21:37:43.312Z"
   },
   {
    "duration": 0,
    "start_time": "2024-10-13T21:37:43.313Z"
   },
   {
    "duration": 0,
    "start_time": "2024-10-13T21:37:43.315Z"
   },
   {
    "duration": 0,
    "start_time": "2024-10-13T21:37:43.316Z"
   },
   {
    "duration": 0,
    "start_time": "2024-10-13T21:37:43.318Z"
   },
   {
    "duration": 0,
    "start_time": "2024-10-13T21:37:43.322Z"
   },
   {
    "duration": 0,
    "start_time": "2024-10-13T21:37:43.323Z"
   },
   {
    "duration": 0,
    "start_time": "2024-10-13T21:37:43.325Z"
   },
   {
    "duration": 0,
    "start_time": "2024-10-13T21:37:43.326Z"
   },
   {
    "duration": 1,
    "start_time": "2024-10-13T21:37:43.326Z"
   },
   {
    "duration": 1,
    "start_time": "2024-10-13T21:37:43.329Z"
   },
   {
    "duration": 0,
    "start_time": "2024-10-13T21:37:43.331Z"
   },
   {
    "duration": 0,
    "start_time": "2024-10-13T21:37:43.332Z"
   },
   {
    "duration": 0,
    "start_time": "2024-10-13T21:37:43.333Z"
   },
   {
    "duration": 0,
    "start_time": "2024-10-13T21:37:43.335Z"
   },
   {
    "duration": 0,
    "start_time": "2024-10-13T21:37:43.336Z"
   },
   {
    "duration": 0,
    "start_time": "2024-10-13T21:37:43.337Z"
   },
   {
    "duration": 0,
    "start_time": "2024-10-13T21:37:43.338Z"
   },
   {
    "duration": 0,
    "start_time": "2024-10-13T21:37:43.340Z"
   },
   {
    "duration": 0,
    "start_time": "2024-10-13T21:37:43.341Z"
   },
   {
    "duration": 0,
    "start_time": "2024-10-13T21:37:43.343Z"
   },
   {
    "duration": 0,
    "start_time": "2024-10-13T21:37:43.344Z"
   },
   {
    "duration": 408,
    "start_time": "2024-10-13T21:38:19.786Z"
   },
   {
    "duration": 910,
    "start_time": "2024-10-13T21:38:20.196Z"
   },
   {
    "duration": 12,
    "start_time": "2024-10-13T21:38:21.107Z"
   },
   {
    "duration": 9,
    "start_time": "2024-10-13T21:38:21.121Z"
   },
   {
    "duration": 7,
    "start_time": "2024-10-13T21:38:21.132Z"
   },
   {
    "duration": 8,
    "start_time": "2024-10-13T21:38:21.141Z"
   },
   {
    "duration": 6,
    "start_time": "2024-10-13T21:38:21.151Z"
   },
   {
    "duration": 131,
    "start_time": "2024-10-13T21:38:21.159Z"
   },
   {
    "duration": 113,
    "start_time": "2024-10-13T21:38:21.292Z"
   },
   {
    "duration": 8,
    "start_time": "2024-10-13T21:38:21.408Z"
   },
   {
    "duration": 121,
    "start_time": "2024-10-13T21:38:21.417Z"
   },
   {
    "duration": 115,
    "start_time": "2024-10-13T21:38:21.540Z"
   },
   {
    "duration": 38,
    "start_time": "2024-10-13T21:38:21.657Z"
   },
   {
    "duration": 15,
    "start_time": "2024-10-13T21:38:21.706Z"
   },
   {
    "duration": 4,
    "start_time": "2024-10-13T21:38:21.723Z"
   },
   {
    "duration": 18,
    "start_time": "2024-10-13T21:38:21.729Z"
   },
   {
    "duration": 12,
    "start_time": "2024-10-13T21:38:21.748Z"
   },
   {
    "duration": 4,
    "start_time": "2024-10-13T21:38:21.762Z"
   },
   {
    "duration": 37,
    "start_time": "2024-10-13T21:38:21.768Z"
   },
   {
    "duration": 4,
    "start_time": "2024-10-13T21:38:21.807Z"
   },
   {
    "duration": 5,
    "start_time": "2024-10-13T21:38:21.813Z"
   },
   {
    "duration": 969,
    "start_time": "2024-10-13T21:38:21.820Z"
   },
   {
    "duration": 1749,
    "start_time": "2024-10-13T21:38:22.791Z"
   },
   {
    "duration": 6,
    "start_time": "2024-10-13T21:38:24.542Z"
   },
   {
    "duration": 9,
    "start_time": "2024-10-13T21:38:24.549Z"
   },
   {
    "duration": 6,
    "start_time": "2024-10-13T21:38:24.559Z"
   },
   {
    "duration": 213,
    "start_time": "2024-10-13T21:38:24.567Z"
   },
   {
    "duration": 0,
    "start_time": "2024-10-13T21:38:24.783Z"
   },
   {
    "duration": 0,
    "start_time": "2024-10-13T21:38:24.784Z"
   },
   {
    "duration": 0,
    "start_time": "2024-10-13T21:38:24.785Z"
   },
   {
    "duration": 0,
    "start_time": "2024-10-13T21:38:24.787Z"
   },
   {
    "duration": 0,
    "start_time": "2024-10-13T21:38:24.788Z"
   },
   {
    "duration": 0,
    "start_time": "2024-10-13T21:38:24.789Z"
   },
   {
    "duration": 0,
    "start_time": "2024-10-13T21:38:24.790Z"
   },
   {
    "duration": 0,
    "start_time": "2024-10-13T21:38:24.792Z"
   },
   {
    "duration": 0,
    "start_time": "2024-10-13T21:38:24.793Z"
   },
   {
    "duration": 0,
    "start_time": "2024-10-13T21:38:24.793Z"
   },
   {
    "duration": 0,
    "start_time": "2024-10-13T21:38:24.794Z"
   },
   {
    "duration": 0,
    "start_time": "2024-10-13T21:38:24.794Z"
   },
   {
    "duration": 0,
    "start_time": "2024-10-13T21:38:24.795Z"
   },
   {
    "duration": 0,
    "start_time": "2024-10-13T21:38:24.796Z"
   },
   {
    "duration": 0,
    "start_time": "2024-10-13T21:38:24.806Z"
   },
   {
    "duration": 0,
    "start_time": "2024-10-13T21:38:24.808Z"
   },
   {
    "duration": 0,
    "start_time": "2024-10-13T21:38:24.810Z"
   },
   {
    "duration": 0,
    "start_time": "2024-10-13T21:38:24.811Z"
   },
   {
    "duration": 0,
    "start_time": "2024-10-13T21:38:24.813Z"
   },
   {
    "duration": 0,
    "start_time": "2024-10-13T21:38:24.815Z"
   },
   {
    "duration": 0,
    "start_time": "2024-10-13T21:38:24.816Z"
   },
   {
    "duration": 0,
    "start_time": "2024-10-13T21:38:24.818Z"
   },
   {
    "duration": 0,
    "start_time": "2024-10-13T21:38:24.819Z"
   },
   {
    "duration": 0,
    "start_time": "2024-10-13T21:38:24.821Z"
   },
   {
    "duration": 0,
    "start_time": "2024-10-13T21:38:24.822Z"
   },
   {
    "duration": 0,
    "start_time": "2024-10-13T21:38:24.823Z"
   },
   {
    "duration": 0,
    "start_time": "2024-10-13T21:38:24.824Z"
   },
   {
    "duration": 16,
    "start_time": "2024-10-13T21:38:50.109Z"
   },
   {
    "duration": 7,
    "start_time": "2024-10-13T21:38:52.503Z"
   },
   {
    "duration": 14,
    "start_time": "2024-10-13T21:38:58.846Z"
   },
   {
    "duration": 19,
    "start_time": "2024-10-13T21:39:13.001Z"
   },
   {
    "duration": 15,
    "start_time": "2024-10-13T21:39:55.702Z"
   },
   {
    "duration": 14,
    "start_time": "2024-10-13T21:40:22.790Z"
   },
   {
    "duration": 15,
    "start_time": "2024-10-13T21:40:29.506Z"
   },
   {
    "duration": 14,
    "start_time": "2024-10-13T21:40:34.191Z"
   },
   {
    "duration": 14,
    "start_time": "2024-10-13T21:40:42.450Z"
   },
   {
    "duration": 13,
    "start_time": "2024-10-13T21:41:06.240Z"
   },
   {
    "duration": 12,
    "start_time": "2024-10-13T21:41:59.504Z"
   },
   {
    "duration": 8,
    "start_time": "2024-10-13T21:42:03.861Z"
   },
   {
    "duration": 17,
    "start_time": "2024-10-13T21:42:09.464Z"
   },
   {
    "duration": 31,
    "start_time": "2024-10-13T21:42:11.317Z"
   },
   {
    "duration": 15,
    "start_time": "2024-10-13T21:42:12.244Z"
   },
   {
    "duration": 66,
    "start_time": "2024-10-13T21:42:13.254Z"
   },
   {
    "duration": 695,
    "start_time": "2024-10-13T21:42:14.759Z"
   },
   {
    "duration": 6,
    "start_time": "2024-10-13T21:42:22.989Z"
   },
   {
    "duration": 5,
    "start_time": "2024-10-13T21:42:24.790Z"
   },
   {
    "duration": 5,
    "start_time": "2024-10-13T21:42:25.474Z"
   },
   {
    "duration": 256,
    "start_time": "2024-10-13T21:42:27.663Z"
   },
   {
    "duration": 170,
    "start_time": "2024-10-13T21:42:30.157Z"
   },
   {
    "duration": 284,
    "start_time": "2024-10-13T21:42:31.754Z"
   },
   {
    "duration": 232,
    "start_time": "2024-10-13T21:42:33.817Z"
   },
   {
    "duration": 233,
    "start_time": "2024-10-13T21:42:35.531Z"
   },
   {
    "duration": 1762,
    "start_time": "2024-10-13T21:42:37.336Z"
   },
   {
    "duration": 1375,
    "start_time": "2024-10-13T21:42:39.855Z"
   },
   {
    "duration": 436,
    "start_time": "2024-10-13T21:42:43.684Z"
   },
   {
    "duration": 424,
    "start_time": "2024-10-13T21:42:44.671Z"
   },
   {
    "duration": 248,
    "start_time": "2024-10-13T21:42:46.741Z"
   },
   {
    "duration": 468,
    "start_time": "2024-10-13T21:42:51.241Z"
   },
   {
    "duration": 294,
    "start_time": "2024-10-13T21:42:52.493Z"
   },
   {
    "duration": 1326,
    "start_time": "2024-10-13T21:42:54.042Z"
   },
   {
    "duration": 273,
    "start_time": "2024-10-13T21:42:55.907Z"
   },
   {
    "duration": 493,
    "start_time": "2024-10-13T21:42:57.382Z"
   },
   {
    "duration": 342,
    "start_time": "2024-10-13T21:42:58.596Z"
   },
   {
    "duration": 18,
    "start_time": "2024-10-13T21:43:31.637Z"
   },
   {
    "duration": 13,
    "start_time": "2024-10-13T21:48:08.519Z"
   },
   {
    "duration": 13,
    "start_time": "2024-10-13T21:48:19.748Z"
   },
   {
    "duration": 13,
    "start_time": "2024-10-13T21:51:28.453Z"
   },
   {
    "duration": 3,
    "start_time": "2024-10-13T21:51:39.429Z"
   },
   {
    "duration": 14,
    "start_time": "2024-10-13T21:51:43.435Z"
   },
   {
    "duration": 12,
    "start_time": "2024-10-13T21:53:26.622Z"
   }
  ],
  "colab": {
   "provenance": []
  },
  "kernelspec": {
   "display_name": "Python 3 (ipykernel)",
   "language": "python",
   "name": "python3"
  },
  "language_info": {
   "codemirror_mode": {
    "name": "ipython",
    "version": 3
   },
   "file_extension": ".py",
   "mimetype": "text/x-python",
   "name": "python",
   "nbconvert_exporter": "python",
   "pygments_lexer": "ipython3",
   "version": "3.10.12"
  },
  "toc": {
   "base_numbering": 1,
   "nav_menu": {},
   "number_sections": true,
   "sideBar": true,
   "skip_h1_title": true,
   "title_cell": "Diccionario de datos",
   "title_sidebar": "Contents",
   "toc_cell": true,
   "toc_position": {
    "height": "calc(100% - 180px)",
    "left": "10px",
    "top": "150px",
    "width": "407.986px"
   },
   "toc_section_display": true,
   "toc_window_display": false
  },
  "vscode": {
   "interpreter": {
    "hash": "01a7be9ec63e704a62cefc5fe7a4756944464ee731be31632bdf42a4cb4688cf"
   }
  }
 },
 "nbformat": 4,
 "nbformat_minor": 5
}
