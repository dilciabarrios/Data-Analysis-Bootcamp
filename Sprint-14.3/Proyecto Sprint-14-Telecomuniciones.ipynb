{
 "cells": [
  {
   "cell_type": "markdown",
   "metadata": {},
   "source": [
    "## 📌 Presentación en PDF \n",
    "\n",
    "✅ Link de google drive: https://drive.google.com/file/d/1-l-Y2rzk8ck7KRwueDZei4or2aMRejRn/view?usp=drive_link\n",
    "\n",
    "## 📌 Acceso a Tableau\n",
    "\n",
    "✅ Link a Tableau: https://public.tableau.com/app/profile/dilcia.barrios/viz/Proyecto-Final_17415502953220/CallMeMaybe?publish=yes\n",
    "\n",
    "## 📌 Lista de fuentes\n",
    "\n",
    "✅https://codificandobits.com/blog/manejo-de-valores-extremos-outliers/\n",
    "\n",
    "✅https://www.datacamp.com/es/tutorial/chi-square-test-r\n",
    "\n",
    "✅https://www.questionpro.com/blog/es/prueba-u-de-mann-whitney/\n",
    "\n",
    "✅https://www.clubbenchmarking.com/quartiles\n",
    "\n",
    "✅https://es.wikipedia.org/wiki/Tabla_de_contingencia"
   ]
  },
  {
   "cell_type": "markdown",
   "metadata": {},
   "source": [
    "# Servicio de telefonía virtual CallMeMaybe "
   ]
  },
  {
   "cell_type": "markdown",
   "metadata": {},
   "source": [
    "El servicio de telefonía virtual CallMeMaybe está desarrollando una nueva función que brindará a los supervisores y las supervisores información sobre los operadores con oportunidades de mejora (bajo desempeño). Se considera que un operador con bajo desempeño, si tiene una gran cantidad de llamadas entrantes perdidas (internas y externas) y un tiempo de espera prolongado para las llamadas entrantes. Además, si se supone que un operador debe realizar llamadas salientes, un número reducido de ellas también será un signo de bajo desempeño."
   ]
  },
  {
   "cell_type": "markdown",
   "metadata": {},
   "source": [
    "## 📌**Objetivo**\n",
    "\n",
    "- Identificar operadores con oportunidades de mejora en el servicio de telefonía virtual CallMeMaybe.\n",
    "  \n",
    "## **Etapas del Proyecto**\n",
    "\n",
    "### 📌1. **Preprocesamiento de Datos**\n",
    "\n",
    "Objetivo: Cargar, limpiar y preparar los datos para el análisis.\n",
    "\n",
    "- Estudiar valores ausentes.\n",
    "- Estudiar valores duplicados.\n",
    "- Comprobar la exactitud de los nombres de columnas.\n",
    "- Reemplazar valores ausentes.\n",
    "- Convertir las fechas y horas de las llamadas a un formato adecuado para el análisis.\n",
    "\n",
    "### 📌2. **Análisis Exploratorio de Datos (EDA)**\n",
    "\n",
    "Objetivo: Entender la distribución de las llamadas y detectar posibles problemas.\n",
    "    \n",
    "- Distribución de llamadas por tipo.\n",
    "- Cantidad de llamadas perdidas.\n",
    "- Análisis de tiempos de espera.\n",
    "    \n",
    "### 📌3. **Identificación de Operadores con Oportunidades de Mejora**\n",
    "\n",
    "Objetivo: Determinar qué operadores tienen un rendiemiento bajo de desempeño.\n",
    "\n",
    "- Tasa de llamadas perdidas.\n",
    "- Tiempo de espera promedio. \n",
    "- Cantidad de llamadas salientes realizadas.\n",
    "\n",
    "***Operadores con oportunidades de mejora:***\n",
    "\n",
    "1. Tasa de llamadas perdidas > percentil 75.\n",
    "2. Tiempo de espera promedio > percentil 75.\n",
    "    \n",
    "***Operadores con un alto ranking de productividad:***\n",
    "\n",
    "1. Tasa de llamadas perdidas < percentil 25.\n",
    "2. Tiempo de espera promedio < percentil 25.\n",
    "\n",
    "\n",
    "### 📌4.**Hipótesis a Evaluar**\n",
    "\n",
    "Objetivo: Validar si las diferencias entre operadores con oportunidades de mejoras y operadores con un alto ranking, son estadísticamente significativas.\n",
    " \n",
    "- Comparación de tiempos de espera:\n",
    "        Prueba de Mann-Whitney, para evaluar operadores con oportunidades de mejora vs operadores con un alto ranking de productividad.\n",
    "    \n",
    "- Comparación de llamadas perdidas:\n",
    "        Prueba de chi-cuadrado para analizar si las llamadas perdidas es significativamente diferente. Extraer llamadas de ambos grupos: Operadores con oportunidades de mejora vs Operadores con un alto ranking de productividad.\n",
    "\n",
    "\n",
    "### 5.📌**Otros Gráficos a Realizar (Dashboard)**\n",
    "\n",
    "1. Trazar un histograma para la duración de la llamada.\n",
    "2. Trazar un gráfico circular que muestre la participación de las llamadas internas y externa.\n",
    "\n",
    "\n",
    "### 6.📌**Conclusiones y Recomendaciones**\n",
    "\n",
    "- Resumen de los hallazgos más importantes.\n",
    "- Sugerencias para la toma de decisiones."
   ]
  },
  {
   "cell_type": "code",
   "execution_count": 1,
   "metadata": {},
   "outputs": [],
   "source": [
    "import pandas as pd\n",
    "import numpy as np\n",
    "import math\n",
    "import seaborn as sns\n",
    "import matplotlib.pyplot as plt\n",
    "from scipy.stats import ttest_ind\n",
    "from scipy import stats\n",
    "import datetime as dt\n",
    "from scipy.stats import chi2_contingency\n",
    "from scipy.stats import mannwhitneyu\n"
   ]
  },
  {
   "cell_type": "code",
   "execution_count": 2,
   "metadata": {},
   "outputs": [],
   "source": [
    "# Leer los archivos CSV y asignarles nombres\n",
    "\n",
    "data = pd.read_csv('/home/dilcia/Documentos/Proyectos Data Analist/data-analysis/Sprint-14/telecom_dataset_us.csv') \n",
    "clientes = pd.read_csv('/home/dilcia/Documentos/Proyectos Data Analist/data-analysis/Sprint-14/telecom_clients_us.csv') "
   ]
  },
  {
   "cell_type": "markdown",
   "metadata": {},
   "source": [
    "# 📌 1. **Preprocesamiento de Datos**"
   ]
  },
  {
   "cell_type": "code",
   "execution_count": 3,
   "metadata": {},
   "outputs": [
    {
     "data": {
      "text/html": [
       "<div>\n",
       "<style scoped>\n",
       "    .dataframe tbody tr th:only-of-type {\n",
       "        vertical-align: middle;\n",
       "    }\n",
       "\n",
       "    .dataframe tbody tr th {\n",
       "        vertical-align: top;\n",
       "    }\n",
       "\n",
       "    .dataframe thead th {\n",
       "        text-align: right;\n",
       "    }\n",
       "</style>\n",
       "<table border=\"1\" class=\"dataframe\">\n",
       "  <thead>\n",
       "    <tr style=\"text-align: right;\">\n",
       "      <th></th>\n",
       "      <th>user_id</th>\n",
       "      <th>date</th>\n",
       "      <th>direction</th>\n",
       "      <th>internal</th>\n",
       "      <th>operator_id</th>\n",
       "      <th>is_missed_call</th>\n",
       "      <th>calls_count</th>\n",
       "      <th>call_duration</th>\n",
       "      <th>total_call_duration</th>\n",
       "    </tr>\n",
       "  </thead>\n",
       "  <tbody>\n",
       "    <tr>\n",
       "      <th>0</th>\n",
       "      <td>166377</td>\n",
       "      <td>2019-08-04 00:00:00+03:00</td>\n",
       "      <td>in</td>\n",
       "      <td>False</td>\n",
       "      <td>NaN</td>\n",
       "      <td>True</td>\n",
       "      <td>2</td>\n",
       "      <td>0</td>\n",
       "      <td>4</td>\n",
       "    </tr>\n",
       "    <tr>\n",
       "      <th>1</th>\n",
       "      <td>166377</td>\n",
       "      <td>2019-08-05 00:00:00+03:00</td>\n",
       "      <td>out</td>\n",
       "      <td>True</td>\n",
       "      <td>880022.0</td>\n",
       "      <td>True</td>\n",
       "      <td>3</td>\n",
       "      <td>0</td>\n",
       "      <td>5</td>\n",
       "    </tr>\n",
       "    <tr>\n",
       "      <th>2</th>\n",
       "      <td>166377</td>\n",
       "      <td>2019-08-05 00:00:00+03:00</td>\n",
       "      <td>out</td>\n",
       "      <td>True</td>\n",
       "      <td>880020.0</td>\n",
       "      <td>True</td>\n",
       "      <td>1</td>\n",
       "      <td>0</td>\n",
       "      <td>1</td>\n",
       "    </tr>\n",
       "    <tr>\n",
       "      <th>3</th>\n",
       "      <td>166377</td>\n",
       "      <td>2019-08-05 00:00:00+03:00</td>\n",
       "      <td>out</td>\n",
       "      <td>True</td>\n",
       "      <td>880020.0</td>\n",
       "      <td>False</td>\n",
       "      <td>1</td>\n",
       "      <td>10</td>\n",
       "      <td>18</td>\n",
       "    </tr>\n",
       "    <tr>\n",
       "      <th>4</th>\n",
       "      <td>166377</td>\n",
       "      <td>2019-08-05 00:00:00+03:00</td>\n",
       "      <td>out</td>\n",
       "      <td>False</td>\n",
       "      <td>880022.0</td>\n",
       "      <td>True</td>\n",
       "      <td>3</td>\n",
       "      <td>0</td>\n",
       "      <td>25</td>\n",
       "    </tr>\n",
       "    <tr>\n",
       "      <th>...</th>\n",
       "      <td>...</td>\n",
       "      <td>...</td>\n",
       "      <td>...</td>\n",
       "      <td>...</td>\n",
       "      <td>...</td>\n",
       "      <td>...</td>\n",
       "      <td>...</td>\n",
       "      <td>...</td>\n",
       "      <td>...</td>\n",
       "    </tr>\n",
       "    <tr>\n",
       "      <th>53897</th>\n",
       "      <td>168606</td>\n",
       "      <td>2019-11-10 00:00:00+03:00</td>\n",
       "      <td>out</td>\n",
       "      <td>True</td>\n",
       "      <td>957922.0</td>\n",
       "      <td>True</td>\n",
       "      <td>1</td>\n",
       "      <td>0</td>\n",
       "      <td>38</td>\n",
       "    </tr>\n",
       "    <tr>\n",
       "      <th>53898</th>\n",
       "      <td>168606</td>\n",
       "      <td>2019-11-11 00:00:00+03:00</td>\n",
       "      <td>out</td>\n",
       "      <td>True</td>\n",
       "      <td>957922.0</td>\n",
       "      <td>False</td>\n",
       "      <td>2</td>\n",
       "      <td>479</td>\n",
       "      <td>501</td>\n",
       "    </tr>\n",
       "    <tr>\n",
       "      <th>53899</th>\n",
       "      <td>168606</td>\n",
       "      <td>2019-11-15 00:00:00+03:00</td>\n",
       "      <td>out</td>\n",
       "      <td>True</td>\n",
       "      <td>957922.0</td>\n",
       "      <td>False</td>\n",
       "      <td>4</td>\n",
       "      <td>3130</td>\n",
       "      <td>3190</td>\n",
       "    </tr>\n",
       "    <tr>\n",
       "      <th>53900</th>\n",
       "      <td>168606</td>\n",
       "      <td>2019-11-15 00:00:00+03:00</td>\n",
       "      <td>out</td>\n",
       "      <td>True</td>\n",
       "      <td>957922.0</td>\n",
       "      <td>False</td>\n",
       "      <td>4</td>\n",
       "      <td>3130</td>\n",
       "      <td>3190</td>\n",
       "    </tr>\n",
       "    <tr>\n",
       "      <th>53901</th>\n",
       "      <td>168606</td>\n",
       "      <td>2019-11-19 00:00:00+03:00</td>\n",
       "      <td>in</td>\n",
       "      <td>False</td>\n",
       "      <td>NaN</td>\n",
       "      <td>True</td>\n",
       "      <td>2</td>\n",
       "      <td>0</td>\n",
       "      <td>64</td>\n",
       "    </tr>\n",
       "  </tbody>\n",
       "</table>\n",
       "<p>53902 rows × 9 columns</p>\n",
       "</div>"
      ],
      "text/plain": [
       "       user_id                       date direction internal  operator_id  \\\n",
       "0       166377  2019-08-04 00:00:00+03:00        in    False          NaN   \n",
       "1       166377  2019-08-05 00:00:00+03:00       out     True     880022.0   \n",
       "2       166377  2019-08-05 00:00:00+03:00       out     True     880020.0   \n",
       "3       166377  2019-08-05 00:00:00+03:00       out     True     880020.0   \n",
       "4       166377  2019-08-05 00:00:00+03:00       out    False     880022.0   \n",
       "...        ...                        ...       ...      ...          ...   \n",
       "53897   168606  2019-11-10 00:00:00+03:00       out     True     957922.0   \n",
       "53898   168606  2019-11-11 00:00:00+03:00       out     True     957922.0   \n",
       "53899   168606  2019-11-15 00:00:00+03:00       out     True     957922.0   \n",
       "53900   168606  2019-11-15 00:00:00+03:00       out     True     957922.0   \n",
       "53901   168606  2019-11-19 00:00:00+03:00        in    False          NaN   \n",
       "\n",
       "       is_missed_call  calls_count  call_duration  total_call_duration  \n",
       "0                True            2              0                    4  \n",
       "1                True            3              0                    5  \n",
       "2                True            1              0                    1  \n",
       "3               False            1             10                   18  \n",
       "4                True            3              0                   25  \n",
       "...               ...          ...            ...                  ...  \n",
       "53897            True            1              0                   38  \n",
       "53898           False            2            479                  501  \n",
       "53899           False            4           3130                 3190  \n",
       "53900           False            4           3130                 3190  \n",
       "53901            True            2              0                   64  \n",
       "\n",
       "[53902 rows x 9 columns]"
      ]
     },
     "metadata": {},
     "output_type": "display_data"
    }
   ],
   "source": [
    "display(data)"
   ]
  },
  {
   "cell_type": "code",
   "execution_count": 4,
   "metadata": {},
   "outputs": [
    {
     "data": {
      "text/plain": [
       "np.int64(4900)"
      ]
     },
     "execution_count": 4,
     "metadata": {},
     "output_type": "execute_result"
    }
   ],
   "source": [
    "# Contar cantidad de duplicados\n",
    "data.duplicated(['user_id', 'date', 'direction', 'internal', 'operator_id', 'is_missed_call','calls_count','call_duration','total_call_duration']).sum()\n"
   ]
  },
  {
   "cell_type": "code",
   "execution_count": 5,
   "metadata": {},
   "outputs": [
    {
     "data": {
      "text/html": [
       "<div>\n",
       "<style scoped>\n",
       "    .dataframe tbody tr th:only-of-type {\n",
       "        vertical-align: middle;\n",
       "    }\n",
       "\n",
       "    .dataframe tbody tr th {\n",
       "        vertical-align: top;\n",
       "    }\n",
       "\n",
       "    .dataframe thead th {\n",
       "        text-align: right;\n",
       "    }\n",
       "</style>\n",
       "<table border=\"1\" class=\"dataframe\">\n",
       "  <thead>\n",
       "    <tr style=\"text-align: right;\">\n",
       "      <th></th>\n",
       "      <th>user_id</th>\n",
       "      <th>tariff_plan</th>\n",
       "      <th>date_start</th>\n",
       "    </tr>\n",
       "  </thead>\n",
       "  <tbody>\n",
       "    <tr>\n",
       "      <th>0</th>\n",
       "      <td>166713</td>\n",
       "      <td>A</td>\n",
       "      <td>2019-08-15</td>\n",
       "    </tr>\n",
       "    <tr>\n",
       "      <th>1</th>\n",
       "      <td>166901</td>\n",
       "      <td>A</td>\n",
       "      <td>2019-08-23</td>\n",
       "    </tr>\n",
       "    <tr>\n",
       "      <th>2</th>\n",
       "      <td>168527</td>\n",
       "      <td>A</td>\n",
       "      <td>2019-10-29</td>\n",
       "    </tr>\n",
       "    <tr>\n",
       "      <th>3</th>\n",
       "      <td>167097</td>\n",
       "      <td>A</td>\n",
       "      <td>2019-09-01</td>\n",
       "    </tr>\n",
       "    <tr>\n",
       "      <th>4</th>\n",
       "      <td>168193</td>\n",
       "      <td>A</td>\n",
       "      <td>2019-10-16</td>\n",
       "    </tr>\n",
       "    <tr>\n",
       "      <th>...</th>\n",
       "      <td>...</td>\n",
       "      <td>...</td>\n",
       "      <td>...</td>\n",
       "    </tr>\n",
       "    <tr>\n",
       "      <th>727</th>\n",
       "      <td>166554</td>\n",
       "      <td>B</td>\n",
       "      <td>2019-08-08</td>\n",
       "    </tr>\n",
       "    <tr>\n",
       "      <th>728</th>\n",
       "      <td>166911</td>\n",
       "      <td>B</td>\n",
       "      <td>2019-08-23</td>\n",
       "    </tr>\n",
       "    <tr>\n",
       "      <th>729</th>\n",
       "      <td>167012</td>\n",
       "      <td>B</td>\n",
       "      <td>2019-08-28</td>\n",
       "    </tr>\n",
       "    <tr>\n",
       "      <th>730</th>\n",
       "      <td>166867</td>\n",
       "      <td>B</td>\n",
       "      <td>2019-08-22</td>\n",
       "    </tr>\n",
       "    <tr>\n",
       "      <th>731</th>\n",
       "      <td>166565</td>\n",
       "      <td>B</td>\n",
       "      <td>2019-08-08</td>\n",
       "    </tr>\n",
       "  </tbody>\n",
       "</table>\n",
       "<p>732 rows × 3 columns</p>\n",
       "</div>"
      ],
      "text/plain": [
       "     user_id tariff_plan  date_start\n",
       "0     166713           A  2019-08-15\n",
       "1     166901           A  2019-08-23\n",
       "2     168527           A  2019-10-29\n",
       "3     167097           A  2019-09-01\n",
       "4     168193           A  2019-10-16\n",
       "..       ...         ...         ...\n",
       "727   166554           B  2019-08-08\n",
       "728   166911           B  2019-08-23\n",
       "729   167012           B  2019-08-28\n",
       "730   166867           B  2019-08-22\n",
       "731   166565           B  2019-08-08\n",
       "\n",
       "[732 rows x 3 columns]"
      ]
     },
     "metadata": {},
     "output_type": "display_data"
    }
   ],
   "source": [
    "display(clientes)"
   ]
  },
  {
   "cell_type": "code",
   "execution_count": 6,
   "metadata": {},
   "outputs": [
    {
     "name": "stdout",
     "output_type": "stream",
     "text": [
      "<class 'pandas.core.frame.DataFrame'>\n",
      "RangeIndex: 53902 entries, 0 to 53901\n",
      "Data columns (total 9 columns):\n",
      " #   Column               Non-Null Count  Dtype  \n",
      "---  ------               --------------  -----  \n",
      " 0   user_id              53902 non-null  int64  \n",
      " 1   date                 53902 non-null  object \n",
      " 2   direction            53902 non-null  object \n",
      " 3   internal             53785 non-null  object \n",
      " 4   operator_id          45730 non-null  float64\n",
      " 5   is_missed_call       53902 non-null  bool   \n",
      " 6   calls_count          53902 non-null  int64  \n",
      " 7   call_duration        53902 non-null  int64  \n",
      " 8   total_call_duration  53902 non-null  int64  \n",
      "dtypes: bool(1), float64(1), int64(4), object(3)\n",
      "memory usage: 3.3+ MB\n"
     ]
    }
   ],
   "source": [
    "data.info()"
   ]
  },
  {
   "cell_type": "code",
   "execution_count": 7,
   "metadata": {},
   "outputs": [
    {
     "name": "stdout",
     "output_type": "stream",
     "text": [
      "<class 'pandas.core.frame.DataFrame'>\n",
      "RangeIndex: 732 entries, 0 to 731\n",
      "Data columns (total 3 columns):\n",
      " #   Column       Non-Null Count  Dtype \n",
      "---  ------       --------------  ----- \n",
      " 0   user_id      732 non-null    int64 \n",
      " 1   tariff_plan  732 non-null    object\n",
      " 2   date_start   732 non-null    object\n",
      "dtypes: int64(1), object(2)\n",
      "memory usage: 17.3+ KB\n"
     ]
    }
   ],
   "source": [
    "clientes.info()"
   ]
  },
  {
   "cell_type": "code",
   "execution_count": 8,
   "metadata": {},
   "outputs": [
    {
     "data": {
      "text/plain": [
       "user_id                   0\n",
       "date                      0\n",
       "direction                 0\n",
       "internal                117\n",
       "operator_id            8172\n",
       "is_missed_call            0\n",
       "calls_count               0\n",
       "call_duration             0\n",
       "total_call_duration       0\n",
       "dtype: int64"
      ]
     },
     "metadata": {},
     "output_type": "display_data"
    }
   ],
   "source": [
    "# Verificar valores ausentes\n",
    "display(data.isnull().sum())"
   ]
  },
  {
   "cell_type": "markdown",
   "metadata": {},
   "source": [
    "**Comentario:** En el caso de internal ya que represanta la cantidad de nulos menos de 1% los eliminaremos. Para el caso de los operator_id ya que represanta un 15% de mis datos, se rellenará con 0, (asignaremos a operadores desconocido)."
   ]
  },
  {
   "cell_type": "code",
   "execution_count": 9,
   "metadata": {},
   "outputs": [],
   "source": [
    "# Rellenar ausentes \n",
    "data_clean = data.copy()\n",
    "data_clean['operator_id'] = data_clean['operator_id'].fillna(-1)"
   ]
  },
  {
   "cell_type": "code",
   "execution_count": 10,
   "metadata": {},
   "outputs": [],
   "source": [
    "# Eliminando ausentes del campo internal\n",
    "data_clean = data_clean.dropna(subset=['internal'])"
   ]
  },
  {
   "cell_type": "code",
   "execution_count": 11,
   "metadata": {},
   "outputs": [
    {
     "data": {
      "text/plain": [
       "user_id                0\n",
       "date                   0\n",
       "direction              0\n",
       "internal               0\n",
       "operator_id            0\n",
       "is_missed_call         0\n",
       "calls_count            0\n",
       "call_duration          0\n",
       "total_call_duration    0\n",
       "dtype: int64"
      ]
     },
     "metadata": {},
     "output_type": "display_data"
    }
   ],
   "source": [
    "# Verificando valores ausentes nuevamente\n",
    "display(data_clean.isnull().sum())"
   ]
  },
  {
   "cell_type": "code",
   "execution_count": 12,
   "metadata": {},
   "outputs": [
    {
     "name": "stdout",
     "output_type": "stream",
     "text": [
      "4893\n"
     ]
    }
   ],
   "source": [
    "# Evaluando duplicados\n",
    "\n",
    "print(data_clean.duplicated().sum())"
   ]
  },
  {
   "cell_type": "code",
   "execution_count": 13,
   "metadata": {},
   "outputs": [
    {
     "data": {
      "text/html": [
       "<div>\n",
       "<style scoped>\n",
       "    .dataframe tbody tr th:only-of-type {\n",
       "        vertical-align: middle;\n",
       "    }\n",
       "\n",
       "    .dataframe tbody tr th {\n",
       "        vertical-align: top;\n",
       "    }\n",
       "\n",
       "    .dataframe thead th {\n",
       "        text-align: right;\n",
       "    }\n",
       "</style>\n",
       "<table border=\"1\" class=\"dataframe\">\n",
       "  <thead>\n",
       "    <tr style=\"text-align: right;\">\n",
       "      <th></th>\n",
       "      <th>user_id</th>\n",
       "      <th>date</th>\n",
       "      <th>direction</th>\n",
       "      <th>internal</th>\n",
       "      <th>operator_id</th>\n",
       "      <th>is_missed_call</th>\n",
       "      <th>calls_count</th>\n",
       "      <th>call_duration</th>\n",
       "      <th>total_call_duration</th>\n",
       "    </tr>\n",
       "  </thead>\n",
       "  <tbody>\n",
       "    <tr>\n",
       "      <th>8</th>\n",
       "      <td>166377</td>\n",
       "      <td>2019-08-05 00:00:00+03:00</td>\n",
       "      <td>out</td>\n",
       "      <td>False</td>\n",
       "      <td>880020.0</td>\n",
       "      <td>True</td>\n",
       "      <td>8</td>\n",
       "      <td>0</td>\n",
       "      <td>50</td>\n",
       "    </tr>\n",
       "    <tr>\n",
       "      <th>28</th>\n",
       "      <td>166377</td>\n",
       "      <td>2019-08-12 00:00:00+03:00</td>\n",
       "      <td>in</td>\n",
       "      <td>False</td>\n",
       "      <td>-1.0</td>\n",
       "      <td>True</td>\n",
       "      <td>2</td>\n",
       "      <td>0</td>\n",
       "      <td>34</td>\n",
       "    </tr>\n",
       "    <tr>\n",
       "      <th>44</th>\n",
       "      <td>166377</td>\n",
       "      <td>2019-08-14 00:00:00+03:00</td>\n",
       "      <td>out</td>\n",
       "      <td>False</td>\n",
       "      <td>880026.0</td>\n",
       "      <td>False</td>\n",
       "      <td>10</td>\n",
       "      <td>1567</td>\n",
       "      <td>1654</td>\n",
       "    </tr>\n",
       "    <tr>\n",
       "      <th>45</th>\n",
       "      <td>166377</td>\n",
       "      <td>2019-08-14 00:00:00+03:00</td>\n",
       "      <td>in</td>\n",
       "      <td>False</td>\n",
       "      <td>-1.0</td>\n",
       "      <td>True</td>\n",
       "      <td>1</td>\n",
       "      <td>0</td>\n",
       "      <td>3</td>\n",
       "    </tr>\n",
       "    <tr>\n",
       "      <th>51</th>\n",
       "      <td>166377</td>\n",
       "      <td>2019-08-15 00:00:00+03:00</td>\n",
       "      <td>out</td>\n",
       "      <td>False</td>\n",
       "      <td>880026.0</td>\n",
       "      <td>False</td>\n",
       "      <td>11</td>\n",
       "      <td>1413</td>\n",
       "      <td>1473</td>\n",
       "    </tr>\n",
       "    <tr>\n",
       "      <th>...</th>\n",
       "      <td>...</td>\n",
       "      <td>...</td>\n",
       "      <td>...</td>\n",
       "      <td>...</td>\n",
       "      <td>...</td>\n",
       "      <td>...</td>\n",
       "      <td>...</td>\n",
       "      <td>...</td>\n",
       "      <td>...</td>\n",
       "    </tr>\n",
       "    <tr>\n",
       "      <th>53869</th>\n",
       "      <td>168601</td>\n",
       "      <td>2019-11-25 00:00:00+03:00</td>\n",
       "      <td>in</td>\n",
       "      <td>False</td>\n",
       "      <td>952914.0</td>\n",
       "      <td>False</td>\n",
       "      <td>7</td>\n",
       "      <td>1229</td>\n",
       "      <td>1282</td>\n",
       "    </tr>\n",
       "    <tr>\n",
       "      <th>53874</th>\n",
       "      <td>168601</td>\n",
       "      <td>2019-11-26 00:00:00+03:00</td>\n",
       "      <td>in</td>\n",
       "      <td>False</td>\n",
       "      <td>952914.0</td>\n",
       "      <td>False</td>\n",
       "      <td>4</td>\n",
       "      <td>539</td>\n",
       "      <td>562</td>\n",
       "    </tr>\n",
       "    <tr>\n",
       "      <th>53875</th>\n",
       "      <td>168601</td>\n",
       "      <td>2019-11-26 00:00:00+03:00</td>\n",
       "      <td>in</td>\n",
       "      <td>False</td>\n",
       "      <td>-1.0</td>\n",
       "      <td>True</td>\n",
       "      <td>3</td>\n",
       "      <td>0</td>\n",
       "      <td>35</td>\n",
       "    </tr>\n",
       "    <tr>\n",
       "      <th>53885</th>\n",
       "      <td>168603</td>\n",
       "      <td>2019-11-20 00:00:00+03:00</td>\n",
       "      <td>out</td>\n",
       "      <td>False</td>\n",
       "      <td>959118.0</td>\n",
       "      <td>True</td>\n",
       "      <td>3</td>\n",
       "      <td>0</td>\n",
       "      <td>89</td>\n",
       "    </tr>\n",
       "    <tr>\n",
       "      <th>53900</th>\n",
       "      <td>168606</td>\n",
       "      <td>2019-11-15 00:00:00+03:00</td>\n",
       "      <td>out</td>\n",
       "      <td>True</td>\n",
       "      <td>957922.0</td>\n",
       "      <td>False</td>\n",
       "      <td>4</td>\n",
       "      <td>3130</td>\n",
       "      <td>3190</td>\n",
       "    </tr>\n",
       "  </tbody>\n",
       "</table>\n",
       "<p>4893 rows × 9 columns</p>\n",
       "</div>"
      ],
      "text/plain": [
       "       user_id                       date direction internal  operator_id  \\\n",
       "8       166377  2019-08-05 00:00:00+03:00       out    False     880020.0   \n",
       "28      166377  2019-08-12 00:00:00+03:00        in    False         -1.0   \n",
       "44      166377  2019-08-14 00:00:00+03:00       out    False     880026.0   \n",
       "45      166377  2019-08-14 00:00:00+03:00        in    False         -1.0   \n",
       "51      166377  2019-08-15 00:00:00+03:00       out    False     880026.0   \n",
       "...        ...                        ...       ...      ...          ...   \n",
       "53869   168601  2019-11-25 00:00:00+03:00        in    False     952914.0   \n",
       "53874   168601  2019-11-26 00:00:00+03:00        in    False     952914.0   \n",
       "53875   168601  2019-11-26 00:00:00+03:00        in    False         -1.0   \n",
       "53885   168603  2019-11-20 00:00:00+03:00       out    False     959118.0   \n",
       "53900   168606  2019-11-15 00:00:00+03:00       out     True     957922.0   \n",
       "\n",
       "       is_missed_call  calls_count  call_duration  total_call_duration  \n",
       "8                True            8              0                   50  \n",
       "28               True            2              0                   34  \n",
       "44              False           10           1567                 1654  \n",
       "45               True            1              0                    3  \n",
       "51              False           11           1413                 1473  \n",
       "...               ...          ...            ...                  ...  \n",
       "53869           False            7           1229                 1282  \n",
       "53874           False            4            539                  562  \n",
       "53875            True            3              0                   35  \n",
       "53885            True            3              0                   89  \n",
       "53900           False            4           3130                 3190  \n",
       "\n",
       "[4893 rows x 9 columns]"
      ]
     },
     "execution_count": 13,
     "metadata": {},
     "output_type": "execute_result"
    }
   ],
   "source": [
    "data_clean[data_clean.duplicated()]\n"
   ]
  },
  {
   "cell_type": "markdown",
   "metadata": {},
   "source": [
    "**Nota:** Hay registros con in y out, lo que sugiere que representa acciones diferentes en sistema. No se eliminara duplicados\n",
    "ya que estos forma parte del proceso natural de datos."
   ]
  },
  {
   "cell_type": "code",
   "execution_count": 14,
   "metadata": {},
   "outputs": [
    {
     "data": {
      "text/plain": [
       "user_id        0\n",
       "tariff_plan    0\n",
       "date_start     0\n",
       "dtype: int64"
      ]
     },
     "metadata": {},
     "output_type": "display_data"
    }
   ],
   "source": [
    "# Verificar valores ausentes de clientes\n",
    "display(clientes.isnull().sum())"
   ]
  },
  {
   "cell_type": "code",
   "execution_count": 15,
   "metadata": {},
   "outputs": [
    {
     "name": "stdout",
     "output_type": "stream",
     "text": [
      "0\n"
     ]
    }
   ],
   "source": [
    "# Evaluando duplicados\n",
    "print(clientes.duplicated().sum())"
   ]
  },
  {
   "cell_type": "code",
   "execution_count": 16,
   "metadata": {},
   "outputs": [],
   "source": [
    "# Convertir a Datetime los campos de fecha\n",
    "data['date']=  pd.to_datetime(data['date'])\n",
    "clientes['date_start']=  pd.to_datetime(data['date'])"
   ]
  },
  {
   "cell_type": "code",
   "execution_count": 17,
   "metadata": {},
   "outputs": [
    {
     "data": {
      "text/html": [
       "<div>\n",
       "<style scoped>\n",
       "    .dataframe tbody tr th:only-of-type {\n",
       "        vertical-align: middle;\n",
       "    }\n",
       "\n",
       "    .dataframe tbody tr th {\n",
       "        vertical-align: top;\n",
       "    }\n",
       "\n",
       "    .dataframe thead th {\n",
       "        text-align: right;\n",
       "    }\n",
       "</style>\n",
       "<table border=\"1\" class=\"dataframe\">\n",
       "  <thead>\n",
       "    <tr style=\"text-align: right;\">\n",
       "      <th></th>\n",
       "      <th>user_id</th>\n",
       "      <th>date</th>\n",
       "      <th>direction</th>\n",
       "      <th>internal</th>\n",
       "      <th>operator_id</th>\n",
       "      <th>is_missed_call</th>\n",
       "      <th>calls_count</th>\n",
       "      <th>call_duration</th>\n",
       "      <th>total_call_duration</th>\n",
       "      <th>tariff_plan</th>\n",
       "      <th>date_start</th>\n",
       "    </tr>\n",
       "  </thead>\n",
       "  <tbody>\n",
       "    <tr>\n",
       "      <th>0</th>\n",
       "      <td>166377</td>\n",
       "      <td>2019-08-04 00:00:00+03:00</td>\n",
       "      <td>in</td>\n",
       "      <td>False</td>\n",
       "      <td>-1.0</td>\n",
       "      <td>True</td>\n",
       "      <td>2</td>\n",
       "      <td>0</td>\n",
       "      <td>4</td>\n",
       "      <td>B</td>\n",
       "      <td>2019-11-05 00:00:00+03:00</td>\n",
       "    </tr>\n",
       "    <tr>\n",
       "      <th>1</th>\n",
       "      <td>166377</td>\n",
       "      <td>2019-08-05 00:00:00+03:00</td>\n",
       "      <td>out</td>\n",
       "      <td>True</td>\n",
       "      <td>880022.0</td>\n",
       "      <td>True</td>\n",
       "      <td>3</td>\n",
       "      <td>0</td>\n",
       "      <td>5</td>\n",
       "      <td>B</td>\n",
       "      <td>2019-11-05 00:00:00+03:00</td>\n",
       "    </tr>\n",
       "    <tr>\n",
       "      <th>2</th>\n",
       "      <td>166377</td>\n",
       "      <td>2019-08-05 00:00:00+03:00</td>\n",
       "      <td>out</td>\n",
       "      <td>True</td>\n",
       "      <td>880020.0</td>\n",
       "      <td>True</td>\n",
       "      <td>1</td>\n",
       "      <td>0</td>\n",
       "      <td>1</td>\n",
       "      <td>B</td>\n",
       "      <td>2019-11-05 00:00:00+03:00</td>\n",
       "    </tr>\n",
       "    <tr>\n",
       "      <th>3</th>\n",
       "      <td>166377</td>\n",
       "      <td>2019-08-05 00:00:00+03:00</td>\n",
       "      <td>out</td>\n",
       "      <td>True</td>\n",
       "      <td>880020.0</td>\n",
       "      <td>False</td>\n",
       "      <td>1</td>\n",
       "      <td>10</td>\n",
       "      <td>18</td>\n",
       "      <td>B</td>\n",
       "      <td>2019-11-05 00:00:00+03:00</td>\n",
       "    </tr>\n",
       "    <tr>\n",
       "      <th>4</th>\n",
       "      <td>166377</td>\n",
       "      <td>2019-08-05 00:00:00+03:00</td>\n",
       "      <td>out</td>\n",
       "      <td>False</td>\n",
       "      <td>880022.0</td>\n",
       "      <td>True</td>\n",
       "      <td>3</td>\n",
       "      <td>0</td>\n",
       "      <td>25</td>\n",
       "      <td>B</td>\n",
       "      <td>2019-11-05 00:00:00+03:00</td>\n",
       "    </tr>\n",
       "    <tr>\n",
       "      <th>...</th>\n",
       "      <td>...</td>\n",
       "      <td>...</td>\n",
       "      <td>...</td>\n",
       "      <td>...</td>\n",
       "      <td>...</td>\n",
       "      <td>...</td>\n",
       "      <td>...</td>\n",
       "      <td>...</td>\n",
       "      <td>...</td>\n",
       "      <td>...</td>\n",
       "      <td>...</td>\n",
       "    </tr>\n",
       "    <tr>\n",
       "      <th>53780</th>\n",
       "      <td>168606</td>\n",
       "      <td>2019-11-10 00:00:00+03:00</td>\n",
       "      <td>out</td>\n",
       "      <td>True</td>\n",
       "      <td>957922.0</td>\n",
       "      <td>True</td>\n",
       "      <td>1</td>\n",
       "      <td>0</td>\n",
       "      <td>38</td>\n",
       "      <td>C</td>\n",
       "      <td>2019-09-02 00:00:00+03:00</td>\n",
       "    </tr>\n",
       "    <tr>\n",
       "      <th>53781</th>\n",
       "      <td>168606</td>\n",
       "      <td>2019-11-11 00:00:00+03:00</td>\n",
       "      <td>out</td>\n",
       "      <td>True</td>\n",
       "      <td>957922.0</td>\n",
       "      <td>False</td>\n",
       "      <td>2</td>\n",
       "      <td>479</td>\n",
       "      <td>501</td>\n",
       "      <td>C</td>\n",
       "      <td>2019-09-02 00:00:00+03:00</td>\n",
       "    </tr>\n",
       "    <tr>\n",
       "      <th>53782</th>\n",
       "      <td>168606</td>\n",
       "      <td>2019-11-15 00:00:00+03:00</td>\n",
       "      <td>out</td>\n",
       "      <td>True</td>\n",
       "      <td>957922.0</td>\n",
       "      <td>False</td>\n",
       "      <td>4</td>\n",
       "      <td>3130</td>\n",
       "      <td>3190</td>\n",
       "      <td>C</td>\n",
       "      <td>2019-09-02 00:00:00+03:00</td>\n",
       "    </tr>\n",
       "    <tr>\n",
       "      <th>53783</th>\n",
       "      <td>168606</td>\n",
       "      <td>2019-11-15 00:00:00+03:00</td>\n",
       "      <td>out</td>\n",
       "      <td>True</td>\n",
       "      <td>957922.0</td>\n",
       "      <td>False</td>\n",
       "      <td>4</td>\n",
       "      <td>3130</td>\n",
       "      <td>3190</td>\n",
       "      <td>C</td>\n",
       "      <td>2019-09-02 00:00:00+03:00</td>\n",
       "    </tr>\n",
       "    <tr>\n",
       "      <th>53784</th>\n",
       "      <td>168606</td>\n",
       "      <td>2019-11-19 00:00:00+03:00</td>\n",
       "      <td>in</td>\n",
       "      <td>False</td>\n",
       "      <td>-1.0</td>\n",
       "      <td>True</td>\n",
       "      <td>2</td>\n",
       "      <td>0</td>\n",
       "      <td>64</td>\n",
       "      <td>C</td>\n",
       "      <td>2019-09-02 00:00:00+03:00</td>\n",
       "    </tr>\n",
       "  </tbody>\n",
       "</table>\n",
       "<p>53785 rows × 11 columns</p>\n",
       "</div>"
      ],
      "text/plain": [
       "       user_id                       date direction internal  operator_id  \\\n",
       "0       166377  2019-08-04 00:00:00+03:00        in    False         -1.0   \n",
       "1       166377  2019-08-05 00:00:00+03:00       out     True     880022.0   \n",
       "2       166377  2019-08-05 00:00:00+03:00       out     True     880020.0   \n",
       "3       166377  2019-08-05 00:00:00+03:00       out     True     880020.0   \n",
       "4       166377  2019-08-05 00:00:00+03:00       out    False     880022.0   \n",
       "...        ...                        ...       ...      ...          ...   \n",
       "53780   168606  2019-11-10 00:00:00+03:00       out     True     957922.0   \n",
       "53781   168606  2019-11-11 00:00:00+03:00       out     True     957922.0   \n",
       "53782   168606  2019-11-15 00:00:00+03:00       out     True     957922.0   \n",
       "53783   168606  2019-11-15 00:00:00+03:00       out     True     957922.0   \n",
       "53784   168606  2019-11-19 00:00:00+03:00        in    False         -1.0   \n",
       "\n",
       "       is_missed_call  calls_count  call_duration  total_call_duration  \\\n",
       "0                True            2              0                    4   \n",
       "1                True            3              0                    5   \n",
       "2                True            1              0                    1   \n",
       "3               False            1             10                   18   \n",
       "4                True            3              0                   25   \n",
       "...               ...          ...            ...                  ...   \n",
       "53780            True            1              0                   38   \n",
       "53781           False            2            479                  501   \n",
       "53782           False            4           3130                 3190   \n",
       "53783           False            4           3130                 3190   \n",
       "53784            True            2              0                   64   \n",
       "\n",
       "      tariff_plan                date_start  \n",
       "0               B 2019-11-05 00:00:00+03:00  \n",
       "1               B 2019-11-05 00:00:00+03:00  \n",
       "2               B 2019-11-05 00:00:00+03:00  \n",
       "3               B 2019-11-05 00:00:00+03:00  \n",
       "4               B 2019-11-05 00:00:00+03:00  \n",
       "...           ...                       ...  \n",
       "53780           C 2019-09-02 00:00:00+03:00  \n",
       "53781           C 2019-09-02 00:00:00+03:00  \n",
       "53782           C 2019-09-02 00:00:00+03:00  \n",
       "53783           C 2019-09-02 00:00:00+03:00  \n",
       "53784           C 2019-09-02 00:00:00+03:00  \n",
       "\n",
       "[53785 rows x 11 columns]"
      ]
     },
     "metadata": {},
     "output_type": "display_data"
    }
   ],
   "source": [
    "# Realizar la unión con INNER JOIN con 'user_id' (solo los que tienen coincidencia en ambos dataframe)\n",
    "merged_data = pd.merge(data_clean, clientes, on='user_id', how='inner')\n",
    "display(merged_data)"
   ]
  },
  {
   "cell_type": "code",
   "execution_count": 18,
   "metadata": {},
   "outputs": [
    {
     "name": "stdout",
     "output_type": "stream",
     "text": [
      "<class 'pandas.core.frame.DataFrame'>\n",
      "RangeIndex: 53785 entries, 0 to 53784\n",
      "Data columns (total 11 columns):\n",
      " #   Column               Non-Null Count  Dtype                    \n",
      "---  ------               --------------  -----                    \n",
      " 0   user_id              53785 non-null  int64                    \n",
      " 1   date                 53785 non-null  object                   \n",
      " 2   direction            53785 non-null  object                   \n",
      " 3   internal             53785 non-null  object                   \n",
      " 4   operator_id          53785 non-null  float64                  \n",
      " 5   is_missed_call       53785 non-null  bool                     \n",
      " 6   calls_count          53785 non-null  int64                    \n",
      " 7   call_duration        53785 non-null  int64                    \n",
      " 8   total_call_duration  53785 non-null  int64                    \n",
      " 9   tariff_plan          53785 non-null  object                   \n",
      " 10  date_start           53785 non-null  datetime64[ns, UTC+03:00]\n",
      "dtypes: bool(1), datetime64[ns, UTC+03:00](1), float64(1), int64(4), object(4)\n",
      "memory usage: 4.2+ MB\n"
     ]
    }
   ],
   "source": [
    "merged_data.info()"
   ]
  },
  {
   "cell_type": "code",
   "execution_count": 43,
   "metadata": {},
   "outputs": [
    {
     "name": "stdout",
     "output_type": "stream",
     "text": [
      "0         True\n",
      "1        False\n",
      "2        False\n",
      "3        False\n",
      "4        False\n",
      "         ...  \n",
      "53780    False\n",
      "53781    False\n",
      "53782    False\n",
      "53783    False\n",
      "53784     True\n",
      "Name: direction, Length: 53785, dtype: bool\n"
     ]
    }
   ],
   "source": [
    "print(merged_data[\"direction\"] == \"in\")"
   ]
  },
  {
   "cell_type": "code",
   "execution_count": 19,
   "metadata": {},
   "outputs": [
    {
     "name": "stdout",
     "output_type": "stream",
     "text": [
      "/home/dilcia/Documentos/Proyectos Data Analist/data-analysis/Sprint-14\n"
     ]
    }
   ],
   "source": [
    "# Descargar mi archivo limpio \n",
    "\n",
    "merged_data.to_csv('merged_data.csv', index=False, encoding='utf-8')\n",
    "\n",
    "# Para ver donde se guardo\n",
    "\n",
    "import os\n",
    "\n",
    "print(os.getcwd())"
   ]
  },
  {
   "cell_type": "markdown",
   "metadata": {},
   "source": [
    "# 📌 2. Análisis Exploratorio de Datos (EDA)"
   ]
  },
  {
   "cell_type": "markdown",
   "metadata": {},
   "source": [
    "### 📍 Distribución de llamadas por tipo (direction = in/out)"
   ]
  },
  {
   "cell_type": "code",
   "execution_count": 20,
   "metadata": {},
   "outputs": [
    {
     "data": {
      "image/png": "[encoded data removed]",
      "text/plain": [
       "<Figure size 600x400 with 1 Axes>"
      ]
     },
     "metadata": {},
     "output_type": "display_data"
    },
    {
     "data": {
      "text/plain": [
       "direction\n",
       "out    31915\n",
       "in     21870\n",
       "Name: count, dtype: int64"
      ]
     },
     "execution_count": 20,
     "metadata": {},
     "output_type": "execute_result"
    }
   ],
   "source": [
    "# Contar la cantidad de llamadas por tipo de dirección (in / out)\n",
    "call_direction_counts = merged_data['direction'].value_counts()\n",
    "\n",
    "# Visualización de la distribución de llamadas por tipo\n",
    "plt.figure(figsize=(6,4))\n",
    "call_direction_counts.plot(kind='bar', color=['pink', 'hotpink'])\n",
    "plt.title('Distribución de llamadas por tipo (in/out)')\n",
    "plt.xlabel('Tipo de llamada')\n",
    "plt.ylabel('Cantidad de llamadas')\n",
    "plt.xticks(rotation=0)\n",
    "plt.grid(axis='y', linestyle='--', alpha=0.7)\n",
    "plt.show()\n",
    "\n",
    "# Mostrar los valores de la distribución\n",
    "call_direction_counts\n"
   ]
  },
  {
   "cell_type": "markdown",
   "metadata": {},
   "source": [
    "### 📌 **Observaciones:**\n",
    "\n",
    "- Total de llamadas salientes: 31915\n",
    "- Total de llamadas entrantes: 21870"
   ]
  },
  {
   "cell_type": "markdown",
   "metadata": {},
   "source": [
    "### 📍 Cantidad de llamadas perdidas (is_missed_call)."
   ]
  },
  {
   "cell_type": "code",
   "execution_count": 21,
   "metadata": {},
   "outputs": [
    {
     "data": {
      "image/png": "[encoded data removed]",
      "text/plain": [
       "<Figure size 600x400 with 1 Axes>"
      ]
     },
     "metadata": {},
     "output_type": "display_data"
    },
    {
     "data": {
      "text/plain": [
       "is_missed_call\n",
       "False    30275\n",
       "True     23510\n",
       "Name: count, dtype: int64"
      ]
     },
     "execution_count": 21,
     "metadata": {},
     "output_type": "execute_result"
    }
   ],
   "source": [
    "# Contar la cantidad de llamadas perdidas y no perdidas\n",
    "missed_calls_counts = merged_data['is_missed_call'].value_counts()\n",
    "\n",
    "# Visualización de la cantidad de llamadas perdidas\n",
    "plt.figure(figsize=(6,4))\n",
    "missed_calls_counts.plot(kind='bar', color=['pink', 'hotpink'])\n",
    "plt.title('Cantidad de llamadas perdidas')\n",
    "plt.xlabel('Llamada perdida')\n",
    "plt.ylabel('Cantidad de llamadas')\n",
    "plt.xticks(ticks=[0,1], labels=['No', 'Sí'], rotation=0)\n",
    "plt.grid(axis='y', linestyle='--', alpha=0.7)\n",
    "plt.show()\n",
    "\n",
    "# Mostrar los valores de la distribución\n",
    "missed_calls_counts\n"
   ]
  },
  {
   "cell_type": "markdown",
   "metadata": {},
   "source": [
    "### 📌 **Observaciones:**\n",
    "\n",
    "- Es menor el total de llamadas perdidas 23510 en comparación a las no perdidas, la diferencia es de un 22.35%."
   ]
  },
  {
   "cell_type": "markdown",
   "metadata": {},
   "source": [
    "### 📍 Análisis de tiempos de espera"
   ]
  },
  {
   "cell_type": "code",
   "execution_count": 22,
   "metadata": {},
   "outputs": [
    {
     "data": {
      "image/png": "[encoded data removed]",
      "text/plain": [
       "<Figure size 800x800 with 2 Axes>"
      ]
     },
     "metadata": {},
     "output_type": "display_data"
    }
   ],
   "source": [
    "# Crear una nueva columna de tiempo de espera (diferencia entre total y duración real)\n",
    "merged_data['wait_time'] = merged_data['total_call_duration'] - merged_data['call_duration']\n",
    "\n",
    "fig, axes = plt.subplots(2, 1, figsize=(8, 8), sharex=True)\n",
    "\n",
    "# Histograma de tiempo de espera\n",
    "axes[0].hist(merged_data['wait_time'], bins=30, color='pink', alpha=0.7, edgecolor='black')\n",
    "axes[0].set_title('Distribución de tiempo de espera', fontsize=12)\n",
    "axes[0].set_ylabel('Frecuencia', fontsize=11)\n",
    "axes[0].grid(axis='y', linestyle='--', alpha=0.7)\n",
    "\n",
    "# Histograma de duración de llamada\n",
    "axes[1].hist(merged_data['call_duration'], bins=30, color='hotpink', alpha=0.7, edgecolor='black')\n",
    "axes[1].set_title('Distribución de duración de llamada', fontsize=12)\n",
    "axes[1].set_xlabel('Tiempo (segundos)', fontsize=11)\n",
    "axes[1].set_ylabel('Frecuencia', fontsize=11)\n",
    "axes[1].grid(axis='y', linestyle='--', alpha=0.7)\n",
    "\n",
    "plt.tight_layout()\n",
    "plt.show()\n"
   ]
  },
  {
   "cell_type": "markdown",
   "metadata": {},
   "source": [
    "### 📌 **Observaciones:**\n",
    "\n",
    "- Los gráficos indican que hay valores extremadamente grandes y pequeños en \"tiempo de espera\" y \"duración de la llamada\", lo que causa que la mayoría de los datos queden comprimidos en un solo lado del histograma (cercano a cero).\n",
    "- La escala del eje X está afectando la visualización, ya que los valores extremos hacen que todo lo demás parezca muy pequeño.\n",
    "- Posible valores atipicos."
   ]
  },
  {
   "cell_type": "markdown",
   "metadata": {},
   "source": [
    "### 📍 Analizando valores atípicos"
   ]
  },
  {
   "cell_type": "code",
   "execution_count": 23,
   "metadata": {},
   "outputs": [
    {
     "data": {
      "image/png": "[encoded data removed]",
      "text/plain": [
       "<Figure size 800x500 with 1 Axes>"
      ]
     },
     "metadata": {},
     "output_type": "display_data"
    }
   ],
   "source": [
    "# Crear un boxplot para el tiempo de espera\n",
    "plt.figure(figsize=(8, 5))\n",
    "plt.boxplot(merged_data['wait_time'], vert=False)\n",
    "plt.xlabel('Tiempo de Espera (segundos)')\n",
    "plt.title('Boxplot del Tiempo de Espera Promedio')\n",
    "plt.grid(axis=\"x\", linestyle=\"--\", alpha=0.7)\n",
    "plt.show()"
   ]
  },
  {
   "cell_type": "code",
   "execution_count": 24,
   "metadata": {},
   "outputs": [
    {
     "data": {
      "image/png": "[encoded data removed]",
      "text/plain": [
       "<Figure size 800x500 with 1 Axes>"
      ]
     },
     "metadata": {},
     "output_type": "display_data"
    }
   ],
   "source": [
    "# Crear un boxplot para la duración de llamada\n",
    "plt.figure(figsize=(8, 5))\n",
    "plt.boxplot(merged_data['call_duration'], vert=False)\n",
    "plt.xlabel('Tiempo de Espera (segundos)')\n",
    "plt.title('Boxplot Duración de llamada')\n",
    "plt.grid(axis=\"x\", linestyle=\"--\", alpha=0.7)\n",
    "plt.show()"
   ]
  },
  {
   "cell_type": "markdown",
   "metadata": {},
   "source": [
    "### 📌 **Observaciones:**\n",
    "\n",
    "El boxplot muestra claramente que existen valores atípicos (outliers) en ambas variables:\n",
    "\n",
    "Tiempo de espera (wait_time):\n",
    "- La mayoría de los valores están cerca de 0, pero hay un gran número de valores atípicos por encima de 20,000 segundos.\n",
    "\n",
    "Duración de la llamada (call_duration):\n",
    "- También tiene valores extremos, algunos por encima de 80,000, alcanzando valores hasta 140,000 segundos."
   ]
  },
  {
   "cell_type": "code",
   "execution_count": 25,
   "metadata": {},
   "outputs": [
    {
     "data": {
      "text/html": [
       "<div>\n",
       "<style scoped>\n",
       "    .dataframe tbody tr th:only-of-type {\n",
       "        vertical-align: middle;\n",
       "    }\n",
       "\n",
       "    .dataframe tbody tr th {\n",
       "        vertical-align: top;\n",
       "    }\n",
       "\n",
       "    .dataframe thead th {\n",
       "        text-align: right;\n",
       "    }\n",
       "</style>\n",
       "<table border=\"1\" class=\"dataframe\">\n",
       "  <thead>\n",
       "    <tr style=\"text-align: right;\">\n",
       "      <th></th>\n",
       "      <th>call_duration</th>\n",
       "      <th>total_call_duration</th>\n",
       "      <th>wait_time</th>\n",
       "    </tr>\n",
       "  </thead>\n",
       "  <tbody>\n",
       "    <tr>\n",
       "      <th>count</th>\n",
       "      <td>53785.000000</td>\n",
       "      <td>53785.000000</td>\n",
       "      <td>53785.000000</td>\n",
       "    </tr>\n",
       "    <tr>\n",
       "      <th>mean</th>\n",
       "      <td>868.436162</td>\n",
       "      <td>1159.476174</td>\n",
       "      <td>291.040011</td>\n",
       "    </tr>\n",
       "    <tr>\n",
       "      <th>std</th>\n",
       "      <td>3735.653323</td>\n",
       "      <td>4407.963966</td>\n",
       "      <td>1129.059868</td>\n",
       "    </tr>\n",
       "    <tr>\n",
       "      <th>min</th>\n",
       "      <td>0.000000</td>\n",
       "      <td>0.000000</td>\n",
       "      <td>0.000000</td>\n",
       "    </tr>\n",
       "    <tr>\n",
       "      <th>25%</th>\n",
       "      <td>0.000000</td>\n",
       "      <td>47.000000</td>\n",
       "      <td>17.000000</td>\n",
       "    </tr>\n",
       "    <tr>\n",
       "      <th>50%</th>\n",
       "      <td>38.000000</td>\n",
       "      <td>211.000000</td>\n",
       "      <td>55.000000</td>\n",
       "    </tr>\n",
       "    <tr>\n",
       "      <th>75%</th>\n",
       "      <td>574.000000</td>\n",
       "      <td>905.000000</td>\n",
       "      <td>202.000000</td>\n",
       "    </tr>\n",
       "    <tr>\n",
       "      <th>max</th>\n",
       "      <td>144395.000000</td>\n",
       "      <td>166155.000000</td>\n",
       "      <td>46474.000000</td>\n",
       "    </tr>\n",
       "  </tbody>\n",
       "</table>\n",
       "</div>"
      ],
      "text/plain": [
       "       call_duration  total_call_duration     wait_time\n",
       "count   53785.000000         53785.000000  53785.000000\n",
       "mean      868.436162          1159.476174    291.040011\n",
       "std      3735.653323          4407.963966   1129.059868\n",
       "min         0.000000             0.000000      0.000000\n",
       "25%         0.000000            47.000000     17.000000\n",
       "50%        38.000000           211.000000     55.000000\n",
       "75%       574.000000           905.000000    202.000000\n",
       "max    144395.000000        166155.000000  46474.000000"
      ]
     },
     "execution_count": 25,
     "metadata": {},
     "output_type": "execute_result"
    }
   ],
   "source": [
    "# Estadísticas descriptivas para cada tipo de duración\n",
    "wait_time_stats = merged_data[['call_duration', 'total_call_duration', 'wait_time']].describe()\n",
    "\n",
    "# Mostrar estadísticas descriptivas\n",
    "wait_time_stats"
   ]
  },
  {
   "cell_type": "markdown",
   "metadata": {},
   "source": [
    "### 📌 **Observaciones estadisticas descriptivas:**\n",
    "\n",
    "- Observamos que call_duration tiene una media de 868.4 segundos, pero con una desviación estándar muy alta (3735.65 segundos), lo que sugiere la presencia de valores atípicos extremadamente altos. El máximo es 144,395 segundos, lo cual parece anómalo para una llamada.\n",
    "\n",
    "- Observamos tambien que en total_call_duration sigue un patrón similar, con una media de 1159.47 segundos y una desviación estándar de 4407.96 segundos. El valor máximo es 166,155 segundos, lo que refuerza la hipótesis de valores atípicos.\n",
    "\n",
    "- El percentil 75 es significativamente alto en todas las variables, lo que indica que una minoría de llamadas presentan tiempos excesivos en comparación con la mayoría.\n"
   ]
  },
  {
   "cell_type": "markdown",
   "metadata": {},
   "source": [
    "### 📌 **Observaciones finales sobre el manejo de valores atípicos**\n",
    "\n",
    "- Si consideramos que nuestros datos provienen de una fuente legítima, y dado que en el estudio que estamos realizando se esta analizando el comportamiento de los operadores, y los valores extremos contienen información importante (duración de llamadas y tiempos de esperas), que resultan esenciales para entender el comportamiento de los datos y para fases posteriores del proyecto.\n",
    "\n",
    "- Preservamores y usaremos como herramienta en la toma de decisiones en el proyecto."
   ]
  },
  {
   "cell_type": "markdown",
   "metadata": {},
   "source": [
    "# 📌 3. Identificación de Operadores con Oportunidades de Mejora"
   ]
  },
  {
   "cell_type": "markdown",
   "metadata": {},
   "source": [
    "#### 📍Tasa de llamadas perdidas\n",
    "#### 📍Tiempo de espera promedio\n",
    "#### 📍Cantidad de llamadas salientes realizadas"
   ]
  },
  {
   "cell_type": "code",
   "execution_count": 26,
   "metadata": {},
   "outputs": [
    {
     "data": {
      "text/html": [
       "<div>\n",
       "<style scoped>\n",
       "    .dataframe tbody tr th:only-of-type {\n",
       "        vertical-align: middle;\n",
       "    }\n",
       "\n",
       "    .dataframe tbody tr th {\n",
       "        vertical-align: top;\n",
       "    }\n",
       "\n",
       "    .dataframe thead th {\n",
       "        text-align: right;\n",
       "    }\n",
       "</style>\n",
       "<table border=\"1\" class=\"dataframe\">\n",
       "  <thead>\n",
       "    <tr style=\"text-align: right;\">\n",
       "      <th></th>\n",
       "      <th>operator_id</th>\n",
       "      <th>total_calls</th>\n",
       "      <th>missed_calls</th>\n",
       "      <th>avg_wait_time</th>\n",
       "      <th>total_call_duration</th>\n",
       "      <th>in_calls</th>\n",
       "      <th>out_calls</th>\n",
       "      <th>missed_calls_ratio</th>\n",
       "    </tr>\n",
       "  </thead>\n",
       "  <tbody>\n",
       "    <tr>\n",
       "      <th>0</th>\n",
       "      <td>-1.0</td>\n",
       "      <td>113547</td>\n",
       "      <td>7993</td>\n",
       "      <td>235.266051</td>\n",
       "      <td>1909184</td>\n",
       "      <td>7917</td>\n",
       "      <td>198</td>\n",
       "      <td>7.039376</td>\n",
       "    </tr>\n",
       "    <tr>\n",
       "      <th>1</th>\n",
       "      <td>879896.0</td>\n",
       "      <td>1131</td>\n",
       "      <td>50</td>\n",
       "      <td>761.148438</td>\n",
       "      <td>97427</td>\n",
       "      <td>23</td>\n",
       "      <td>105</td>\n",
       "      <td>4.420866</td>\n",
       "    </tr>\n",
       "    <tr>\n",
       "      <th>2</th>\n",
       "      <td>879898.0</td>\n",
       "      <td>7973</td>\n",
       "      <td>100</td>\n",
       "      <td>1567.364000</td>\n",
       "      <td>391841</td>\n",
       "      <td>63</td>\n",
       "      <td>187</td>\n",
       "      <td>1.254233</td>\n",
       "    </tr>\n",
       "    <tr>\n",
       "      <th>3</th>\n",
       "      <td>880020.0</td>\n",
       "      <td>54</td>\n",
       "      <td>7</td>\n",
       "      <td>119.272727</td>\n",
       "      <td>2624</td>\n",
       "      <td>8</td>\n",
       "      <td>14</td>\n",
       "      <td>12.962963</td>\n",
       "    </tr>\n",
       "    <tr>\n",
       "      <th>4</th>\n",
       "      <td>880022.0</td>\n",
       "      <td>219</td>\n",
       "      <td>33</td>\n",
       "      <td>298.407895</td>\n",
       "      <td>22679</td>\n",
       "      <td>8</td>\n",
       "      <td>68</td>\n",
       "      <td>15.068493</td>\n",
       "    </tr>\n",
       "    <tr>\n",
       "      <th>...</th>\n",
       "      <td>...</td>\n",
       "      <td>...</td>\n",
       "      <td>...</td>\n",
       "      <td>...</td>\n",
       "      <td>...</td>\n",
       "      <td>...</td>\n",
       "      <td>...</td>\n",
       "      <td>...</td>\n",
       "    </tr>\n",
       "    <tr>\n",
       "      <th>1088</th>\n",
       "      <td>972410.0</td>\n",
       "      <td>77</td>\n",
       "      <td>2</td>\n",
       "      <td>1318.750000</td>\n",
       "      <td>5275</td>\n",
       "      <td>0</td>\n",
       "      <td>4</td>\n",
       "      <td>2.597403</td>\n",
       "    </tr>\n",
       "    <tr>\n",
       "      <th>1089</th>\n",
       "      <td>972412.0</td>\n",
       "      <td>61</td>\n",
       "      <td>2</td>\n",
       "      <td>909.600000</td>\n",
       "      <td>4548</td>\n",
       "      <td>1</td>\n",
       "      <td>4</td>\n",
       "      <td>3.278689</td>\n",
       "    </tr>\n",
       "    <tr>\n",
       "      <th>1090</th>\n",
       "      <td>972460.0</td>\n",
       "      <td>70</td>\n",
       "      <td>3</td>\n",
       "      <td>346.888889</td>\n",
       "      <td>3122</td>\n",
       "      <td>2</td>\n",
       "      <td>7</td>\n",
       "      <td>4.285714</td>\n",
       "    </tr>\n",
       "    <tr>\n",
       "      <th>1091</th>\n",
       "      <td>973120.0</td>\n",
       "      <td>3</td>\n",
       "      <td>1</td>\n",
       "      <td>12.500000</td>\n",
       "      <td>25</td>\n",
       "      <td>0</td>\n",
       "      <td>2</td>\n",
       "      <td>33.333333</td>\n",
       "    </tr>\n",
       "    <tr>\n",
       "      <th>1092</th>\n",
       "      <td>973286.0</td>\n",
       "      <td>2</td>\n",
       "      <td>0</td>\n",
       "      <td>105.000000</td>\n",
       "      <td>105</td>\n",
       "      <td>1</td>\n",
       "      <td>0</td>\n",
       "      <td>0.000000</td>\n",
       "    </tr>\n",
       "  </tbody>\n",
       "</table>\n",
       "<p>1093 rows × 8 columns</p>\n",
       "</div>"
      ],
      "text/plain": [
       "      operator_id  total_calls  missed_calls  avg_wait_time  \\\n",
       "0            -1.0       113547          7993     235.266051   \n",
       "1        879896.0         1131            50     761.148438   \n",
       "2        879898.0         7973           100    1567.364000   \n",
       "3        880020.0           54             7     119.272727   \n",
       "4        880022.0          219            33     298.407895   \n",
       "...           ...          ...           ...            ...   \n",
       "1088     972410.0           77             2    1318.750000   \n",
       "1089     972412.0           61             2     909.600000   \n",
       "1090     972460.0           70             3     346.888889   \n",
       "1091     973120.0            3             1      12.500000   \n",
       "1092     973286.0            2             0     105.000000   \n",
       "\n",
       "      total_call_duration  in_calls  out_calls  missed_calls_ratio  \n",
       "0                 1909184      7917        198            7.039376  \n",
       "1                   97427        23        105            4.420866  \n",
       "2                  391841        63        187            1.254233  \n",
       "3                    2624         8         14           12.962963  \n",
       "4                   22679         8         68           15.068493  \n",
       "...                   ...       ...        ...                 ...  \n",
       "1088                 5275         0          4            2.597403  \n",
       "1089                 4548         1          4            3.278689  \n",
       "1090                 3122         2          7            4.285714  \n",
       "1091                   25         0          2           33.333333  \n",
       "1092                  105         1          0            0.000000  \n",
       "\n",
       "[1093 rows x 8 columns]"
      ]
     },
     "metadata": {},
     "output_type": "display_data"
    }
   ],
   "source": [
    "# Agrupar por operador y calcular las métricas clave\n",
    "\n",
    "operator_performance = merged_data.groupby('operator_id').agg(\n",
    "    total_calls=('calls_count', 'sum'),\n",
    "    missed_calls=('is_missed_call', 'sum'),\n",
    "    avg_wait_time=('total_call_duration', 'mean'),\n",
    "    total_call_duration=('total_call_duration', 'sum'),\n",
    "    in_calls=('direction', lambda x: (x == 'in').sum()),\n",
    "    out_calls=('direction', lambda x: (x == 'out').sum())\n",
    "    \n",
    ").reset_index()\n",
    "\n",
    "# Calcular la tasa de llamadas perdidas\n",
    "operator_performance['missed_calls_ratio'] = (operator_performance['missed_calls'] / operator_performance['total_calls']) * 100\n",
    "\n",
    "# Mostrar los resultados\n",
    "display(operator_performance)\n"
   ]
  },
  {
   "cell_type": "code",
   "execution_count": 27,
   "metadata": {},
   "outputs": [
    {
     "data": {
      "text/html": [
       "<div>\n",
       "<style scoped>\n",
       "    .dataframe tbody tr th:only-of-type {\n",
       "        vertical-align: middle;\n",
       "    }\n",
       "\n",
       "    .dataframe tbody tr th {\n",
       "        vertical-align: top;\n",
       "    }\n",
       "\n",
       "    .dataframe thead th {\n",
       "        text-align: right;\n",
       "    }\n",
       "</style>\n",
       "<table border=\"1\" class=\"dataframe\">\n",
       "  <thead>\n",
       "    <tr style=\"text-align: right;\">\n",
       "      <th></th>\n",
       "      <th>operator_id</th>\n",
       "      <th>outgoing_calls</th>\n",
       "    </tr>\n",
       "  </thead>\n",
       "  <tbody>\n",
       "    <tr>\n",
       "      <th>0</th>\n",
       "      <td>-1.0</td>\n",
       "      <td>543</td>\n",
       "    </tr>\n",
       "    <tr>\n",
       "      <th>1</th>\n",
       "      <td>879896.0</td>\n",
       "      <td>1071</td>\n",
       "    </tr>\n",
       "    <tr>\n",
       "      <th>2</th>\n",
       "      <td>879898.0</td>\n",
       "      <td>7856</td>\n",
       "    </tr>\n",
       "    <tr>\n",
       "      <th>3</th>\n",
       "      <td>880020.0</td>\n",
       "      <td>46</td>\n",
       "    </tr>\n",
       "    <tr>\n",
       "      <th>4</th>\n",
       "      <td>880022.0</td>\n",
       "      <td>211</td>\n",
       "    </tr>\n",
       "    <tr>\n",
       "      <th>...</th>\n",
       "      <td>...</td>\n",
       "      <td>...</td>\n",
       "    </tr>\n",
       "    <tr>\n",
       "      <th>878</th>\n",
       "      <td>972408.0</td>\n",
       "      <td>8</td>\n",
       "    </tr>\n",
       "    <tr>\n",
       "      <th>879</th>\n",
       "      <td>972410.0</td>\n",
       "      <td>77</td>\n",
       "    </tr>\n",
       "    <tr>\n",
       "      <th>880</th>\n",
       "      <td>972412.0</td>\n",
       "      <td>60</td>\n",
       "    </tr>\n",
       "    <tr>\n",
       "      <th>881</th>\n",
       "      <td>972460.0</td>\n",
       "      <td>68</td>\n",
       "    </tr>\n",
       "    <tr>\n",
       "      <th>882</th>\n",
       "      <td>973120.0</td>\n",
       "      <td>3</td>\n",
       "    </tr>\n",
       "  </tbody>\n",
       "</table>\n",
       "<p>883 rows × 2 columns</p>\n",
       "</div>"
      ],
      "text/plain": [
       "     operator_id  outgoing_calls\n",
       "0           -1.0             543\n",
       "1       879896.0            1071\n",
       "2       879898.0            7856\n",
       "3       880020.0              46\n",
       "4       880022.0             211\n",
       "..           ...             ...\n",
       "878     972408.0               8\n",
       "879     972410.0              77\n",
       "880     972412.0              60\n",
       "881     972460.0              68\n",
       "882     973120.0               3\n",
       "\n",
       "[883 rows x 2 columns]"
      ]
     },
     "metadata": {},
     "output_type": "display_data"
    }
   ],
   "source": [
    "# Filtrar solo llamadas salientes y calcular la cantidad de llamadas salientes realizadas por operador\n",
    "outgoing_calls_per_operator = merged_data[merged_data['direction'] == 'out'].groupby('operator_id')['calls_count'].sum().reset_index()\n",
    "outgoing_calls_per_operator.rename(columns={'calls_count': 'outgoing_calls'}, inplace=True)\n",
    "\n",
    "# Mostrar los resultados \n",
    "display(outgoing_calls_per_operator)"
   ]
  },
  {
   "cell_type": "code",
   "execution_count": 28,
   "metadata": {},
   "outputs": [
    {
     "data": {
      "text/html": [
       "<div>\n",
       "<style scoped>\n",
       "    .dataframe tbody tr th:only-of-type {\n",
       "        vertical-align: middle;\n",
       "    }\n",
       "\n",
       "    .dataframe tbody tr th {\n",
       "        vertical-align: top;\n",
       "    }\n",
       "\n",
       "    .dataframe thead th {\n",
       "        text-align: right;\n",
       "    }\n",
       "</style>\n",
       "<table border=\"1\" class=\"dataframe\">\n",
       "  <thead>\n",
       "    <tr style=\"text-align: right;\">\n",
       "      <th></th>\n",
       "      <th>operator_id</th>\n",
       "      <th>total_calls</th>\n",
       "      <th>missed_calls</th>\n",
       "      <th>avg_wait_time</th>\n",
       "      <th>total_call_duration</th>\n",
       "      <th>in_calls</th>\n",
       "      <th>out_calls</th>\n",
       "      <th>missed_calls_ratio</th>\n",
       "      <th>outgoing_calls</th>\n",
       "    </tr>\n",
       "  </thead>\n",
       "  <tbody>\n",
       "    <tr>\n",
       "      <th>0</th>\n",
       "      <td>-1.0</td>\n",
       "      <td>113547</td>\n",
       "      <td>7993</td>\n",
       "      <td>235.266051</td>\n",
       "      <td>1909184</td>\n",
       "      <td>7917</td>\n",
       "      <td>198</td>\n",
       "      <td>7.039376</td>\n",
       "      <td>543.0</td>\n",
       "    </tr>\n",
       "    <tr>\n",
       "      <th>1</th>\n",
       "      <td>879896.0</td>\n",
       "      <td>1131</td>\n",
       "      <td>50</td>\n",
       "      <td>761.148438</td>\n",
       "      <td>97427</td>\n",
       "      <td>23</td>\n",
       "      <td>105</td>\n",
       "      <td>4.420866</td>\n",
       "      <td>1071.0</td>\n",
       "    </tr>\n",
       "    <tr>\n",
       "      <th>2</th>\n",
       "      <td>879898.0</td>\n",
       "      <td>7973</td>\n",
       "      <td>100</td>\n",
       "      <td>1567.364000</td>\n",
       "      <td>391841</td>\n",
       "      <td>63</td>\n",
       "      <td>187</td>\n",
       "      <td>1.254233</td>\n",
       "      <td>7856.0</td>\n",
       "    </tr>\n",
       "    <tr>\n",
       "      <th>3</th>\n",
       "      <td>880020.0</td>\n",
       "      <td>54</td>\n",
       "      <td>7</td>\n",
       "      <td>119.272727</td>\n",
       "      <td>2624</td>\n",
       "      <td>8</td>\n",
       "      <td>14</td>\n",
       "      <td>12.962963</td>\n",
       "      <td>46.0</td>\n",
       "    </tr>\n",
       "    <tr>\n",
       "      <th>4</th>\n",
       "      <td>880022.0</td>\n",
       "      <td>219</td>\n",
       "      <td>33</td>\n",
       "      <td>298.407895</td>\n",
       "      <td>22679</td>\n",
       "      <td>8</td>\n",
       "      <td>68</td>\n",
       "      <td>15.068493</td>\n",
       "      <td>211.0</td>\n",
       "    </tr>\n",
       "    <tr>\n",
       "      <th>...</th>\n",
       "      <td>...</td>\n",
       "      <td>...</td>\n",
       "      <td>...</td>\n",
       "      <td>...</td>\n",
       "      <td>...</td>\n",
       "      <td>...</td>\n",
       "      <td>...</td>\n",
       "      <td>...</td>\n",
       "      <td>...</td>\n",
       "    </tr>\n",
       "    <tr>\n",
       "      <th>1088</th>\n",
       "      <td>972410.0</td>\n",
       "      <td>77</td>\n",
       "      <td>2</td>\n",
       "      <td>1318.750000</td>\n",
       "      <td>5275</td>\n",
       "      <td>0</td>\n",
       "      <td>4</td>\n",
       "      <td>2.597403</td>\n",
       "      <td>77.0</td>\n",
       "    </tr>\n",
       "    <tr>\n",
       "      <th>1089</th>\n",
       "      <td>972412.0</td>\n",
       "      <td>61</td>\n",
       "      <td>2</td>\n",
       "      <td>909.600000</td>\n",
       "      <td>4548</td>\n",
       "      <td>1</td>\n",
       "      <td>4</td>\n",
       "      <td>3.278689</td>\n",
       "      <td>60.0</td>\n",
       "    </tr>\n",
       "    <tr>\n",
       "      <th>1090</th>\n",
       "      <td>972460.0</td>\n",
       "      <td>70</td>\n",
       "      <td>3</td>\n",
       "      <td>346.888889</td>\n",
       "      <td>3122</td>\n",
       "      <td>2</td>\n",
       "      <td>7</td>\n",
       "      <td>4.285714</td>\n",
       "      <td>68.0</td>\n",
       "    </tr>\n",
       "    <tr>\n",
       "      <th>1091</th>\n",
       "      <td>973120.0</td>\n",
       "      <td>3</td>\n",
       "      <td>1</td>\n",
       "      <td>12.500000</td>\n",
       "      <td>25</td>\n",
       "      <td>0</td>\n",
       "      <td>2</td>\n",
       "      <td>33.333333</td>\n",
       "      <td>3.0</td>\n",
       "    </tr>\n",
       "    <tr>\n",
       "      <th>1092</th>\n",
       "      <td>973286.0</td>\n",
       "      <td>2</td>\n",
       "      <td>0</td>\n",
       "      <td>105.000000</td>\n",
       "      <td>105</td>\n",
       "      <td>1</td>\n",
       "      <td>0</td>\n",
       "      <td>0.000000</td>\n",
       "      <td>0.0</td>\n",
       "    </tr>\n",
       "  </tbody>\n",
       "</table>\n",
       "<p>1093 rows × 9 columns</p>\n",
       "</div>"
      ],
      "text/plain": [
       "      operator_id  total_calls  missed_calls  avg_wait_time  \\\n",
       "0            -1.0       113547          7993     235.266051   \n",
       "1        879896.0         1131            50     761.148438   \n",
       "2        879898.0         7973           100    1567.364000   \n",
       "3        880020.0           54             7     119.272727   \n",
       "4        880022.0          219            33     298.407895   \n",
       "...           ...          ...           ...            ...   \n",
       "1088     972410.0           77             2    1318.750000   \n",
       "1089     972412.0           61             2     909.600000   \n",
       "1090     972460.0           70             3     346.888889   \n",
       "1091     973120.0            3             1      12.500000   \n",
       "1092     973286.0            2             0     105.000000   \n",
       "\n",
       "      total_call_duration  in_calls  out_calls  missed_calls_ratio  \\\n",
       "0                 1909184      7917        198            7.039376   \n",
       "1                   97427        23        105            4.420866   \n",
       "2                  391841        63        187            1.254233   \n",
       "3                    2624         8         14           12.962963   \n",
       "4                   22679         8         68           15.068493   \n",
       "...                   ...       ...        ...                 ...   \n",
       "1088                 5275         0          4            2.597403   \n",
       "1089                 4548         1          4            3.278689   \n",
       "1090                 3122         2          7            4.285714   \n",
       "1091                   25         0          2           33.333333   \n",
       "1092                  105         1          0            0.000000   \n",
       "\n",
       "      outgoing_calls  \n",
       "0              543.0  \n",
       "1             1071.0  \n",
       "2             7856.0  \n",
       "3               46.0  \n",
       "4              211.0  \n",
       "...              ...  \n",
       "1088            77.0  \n",
       "1089            60.0  \n",
       "1090            68.0  \n",
       "1091             3.0  \n",
       "1092             0.0  \n",
       "\n",
       "[1093 rows x 9 columns]"
      ]
     },
     "metadata": {},
     "output_type": "display_data"
    }
   ],
   "source": [
    "# Unir los datos de desempeño general con las llamadas salientes\n",
    "operator_performance = operator_performance.merge(outgoing_calls_per_operator, on='operator_id', how='left')\n",
    "operator_performance['outgoing_calls'] = operator_performance['outgoing_calls'].fillna(0)\n",
    "\n",
    "# Mostrar los resultados \n",
    "display(operator_performance)"
   ]
  },
  {
   "cell_type": "markdown",
   "metadata": {},
   "source": [
    "✅ **Operadores con un alto ranking de productividad:**\n",
    "\n",
    "- Tasa de llamadas perdidas < percentil 25\n",
    "→ Indica que estos operadores pierden muchas menos llamadas que el resto, lo que sugiere eficiencia en la gestión de llamadas.\n",
    "\n",
    "- Tiempo de espera promedio < percentil 25\n",
    "→ Si el tiempo de espera es muy bajo, significa que estos operadores atienden rápidamente, lo que mejora la satisfacción del cliente.\n",
    "\n",
    "**Razón para elegirlo:** Se identifican los operadores con el mejor desempeño."
   ]
  },
  {
   "cell_type": "markdown",
   "metadata": {},
   "source": [
    "✅  **Operadores con oportunidades de mejora:**\n",
    "\n",
    "- Tasa de llamadas perdidas > percentil 75\n",
    "→ Indica que estos operadores tienen una tasa de abandono de llamadas más alta que el 75% de sus colegas, lo que sugiere problemas en la gestión del tiempo o la disponibilidad.\n",
    "\n",
    "- Tiempo de espera promedio > percentil 75\n",
    "→ Si el tiempo de espera está en el 25% más alto, significa que los clientes de estos operadores esperan mucho más que la mayoría, lo que puede indicar problemas en la velocidad de atención.\n",
    "\n",
    "**Razón para elegirlo:** Se identifican los operadores con el rendimiento más bajo, pero sin eliminar valores extremos que podrían ser casos excepcionales."
   ]
  },
  {
   "cell_type": "code",
   "execution_count": 29,
   "metadata": {},
   "outputs": [],
   "source": [
    "# Calcular los percentiles 25 y 75 para 'missed_calls_ratio' y 'avg_wait_time'\n",
    "p25_missed = operator_performance['missed_calls_ratio'].quantile(0.25)\n",
    "p75_missed = operator_performance['missed_calls_ratio'].quantile(0.75)\n",
    "\n",
    "p25_wait = operator_performance['avg_wait_time'].quantile(0.25)\n",
    "p75_wait = operator_performance['avg_wait_time'].quantile(0.75)\n",
    "\n",
    "# Filtrar operadores con oportunidades de mejora.\n",
    "group1_operators = operator_performance[\n",
    "    (operator_performance['missed_calls_ratio'] > p75_missed) &\n",
    "    (operator_performance['avg_wait_time'] > p75_wait)\n",
    "]\n",
    "\n",
    "# Filtrar operadores con un alto ranking de productividad.\n",
    "group2_operators = operator_performance[\n",
    "    (operator_performance['missed_calls_ratio'] < p25_missed) &\n",
    "    (operator_performance['avg_wait_time'] < p25_wait)\n",
    "]"
   ]
  },
  {
   "cell_type": "markdown",
   "metadata": {},
   "source": [
    "#### 📍 Operadores con oportunidades de mejora:"
   ]
  },
  {
   "cell_type": "code",
   "execution_count": 30,
   "metadata": {},
   "outputs": [
    {
     "data": {
      "text/html": [
       "<div>\n",
       "<style scoped>\n",
       "    .dataframe tbody tr th:only-of-type {\n",
       "        vertical-align: middle;\n",
       "    }\n",
       "\n",
       "    .dataframe tbody tr th {\n",
       "        vertical-align: top;\n",
       "    }\n",
       "\n",
       "    .dataframe thead th {\n",
       "        text-align: right;\n",
       "    }\n",
       "</style>\n",
       "<table border=\"1\" class=\"dataframe\">\n",
       "  <thead>\n",
       "    <tr style=\"text-align: right;\">\n",
       "      <th></th>\n",
       "      <th>operator_id</th>\n",
       "      <th>total_calls</th>\n",
       "      <th>missed_calls</th>\n",
       "      <th>avg_wait_time</th>\n",
       "      <th>total_call_duration</th>\n",
       "      <th>in_calls</th>\n",
       "      <th>out_calls</th>\n",
       "      <th>missed_calls_ratio</th>\n",
       "      <th>outgoing_calls</th>\n",
       "    </tr>\n",
       "  </thead>\n",
       "  <tbody>\n",
       "    <tr>\n",
       "      <th>70</th>\n",
       "      <td>891158.0</td>\n",
       "      <td>305</td>\n",
       "      <td>40</td>\n",
       "      <td>1064.431193</td>\n",
       "      <td>116023</td>\n",
       "      <td>0</td>\n",
       "      <td>109</td>\n",
       "      <td>13.114754</td>\n",
       "      <td>305.0</td>\n",
       "    </tr>\n",
       "    <tr>\n",
       "      <th>921</th>\n",
       "      <td>950444.0</td>\n",
       "      <td>95</td>\n",
       "      <td>14</td>\n",
       "      <td>1005.033333</td>\n",
       "      <td>30151</td>\n",
       "      <td>0</td>\n",
       "      <td>30</td>\n",
       "      <td>14.736842</td>\n",
       "      <td>95.0</td>\n",
       "    </tr>\n",
       "    <tr>\n",
       "      <th>1000</th>\n",
       "      <td>957922.0</td>\n",
       "      <td>23</td>\n",
       "      <td>3</td>\n",
       "      <td>861.700000</td>\n",
       "      <td>8617</td>\n",
       "      <td>2</td>\n",
       "      <td>8</td>\n",
       "      <td>13.043478</td>\n",
       "      <td>20.0</td>\n",
       "    </tr>\n",
       "  </tbody>\n",
       "</table>\n",
       "</div>"
      ],
      "text/plain": [
       "      operator_id  total_calls  missed_calls  avg_wait_time  \\\n",
       "70       891158.0          305            40    1064.431193   \n",
       "921      950444.0           95            14    1005.033333   \n",
       "1000     957922.0           23             3     861.700000   \n",
       "\n",
       "      total_call_duration  in_calls  out_calls  missed_calls_ratio  \\\n",
       "70                 116023         0        109           13.114754   \n",
       "921                 30151         0         30           14.736842   \n",
       "1000                 8617         2          8           13.043478   \n",
       "\n",
       "      outgoing_calls  \n",
       "70             305.0  \n",
       "921             95.0  \n",
       "1000            20.0  "
      ]
     },
     "metadata": {},
     "output_type": "display_data"
    }
   ],
   "source": [
    "display(group1_operators)\n"
   ]
  },
  {
   "cell_type": "code",
   "execution_count": 31,
   "metadata": {},
   "outputs": [
    {
     "data": {
      "image/png": "[encoded data removed]",
      "text/plain": [
       "<Figure size 800x500 with 1 Axes>"
      ]
     },
     "metadata": {},
     "output_type": "display_data"
    },
    {
     "data": {
      "image/png": "[encoded data removed]",
      "text/plain": [
       "<Figure size 800x500 with 1 Axes>"
      ]
     },
     "metadata": {},
     "output_type": "display_data"
    }
   ],
   "source": [
    "# Crear un boxplot para el tiempo de espera\n",
    "plt.figure(figsize=(8, 5))\n",
    "plt.boxplot(group1_operators['avg_wait_time'], vert=False)\n",
    "plt.xlabel('Tiempo de Espera (segundos)')\n",
    "plt.title('Boxplot del Tiempo de Espera Promedio')\n",
    "plt.grid(axis=\"x\", linestyle=\"--\", alpha=0.7)\n",
    "plt.show()\n",
    "\n",
    "# Crear un diagrama de dispersión de llamadas perdidas vs tiempo de espera\n",
    "plt.figure(figsize=(8, 5))\n",
    "plt.scatter(group1_operators['missed_calls'], group1_operators['avg_wait_time'], color='hotpink', alpha=0.7)\n",
    "plt.xlabel('Llamadas Perdidas')\n",
    "plt.ylabel('Tiempo de Espera (segundos)')\n",
    "plt.title('Relación entre Llamadas Perdidas y Tiempo de Espera')\n",
    "plt.grid(True, linestyle=\"--\", alpha=0.7)\n",
    "plt.show()"
   ]
  },
  {
   "cell_type": "markdown",
   "metadata": {},
   "source": [
    "### 📌 **Observaciones:**\n",
    "\n",
    "- La evaluación en este ***percentil > 75***, arrojó al menos 3 operadores que estan muy por debajo del resto.\n",
    "\n",
    "***Id de Operadores:***\n",
    "\n",
    "- 891158.0 → 40 llamadas perdidas y 305 llamadas salientes\n",
    "- 950444.0 → 14 llamadas perdidas y 95 llamadas salientes\n",
    "- 957922.0 → 3 llamadas perdidas y 20 llamadas salientes\n",
    "\n",
    "Tiempo de espera alto y consistente: Todos los valores están entre aproximadamente 875 y 1075 segundos (14 a 17 minutos), indicando una distribución concentrada de los tiempos de espera."
   ]
  },
  {
   "cell_type": "markdown",
   "metadata": {},
   "source": [
    "#### 📍 Operadores con un alto ranking de productividad:"
   ]
  },
  {
   "cell_type": "code",
   "execution_count": 32,
   "metadata": {},
   "outputs": [
    {
     "data": {
      "text/html": [
       "<div>\n",
       "<style scoped>\n",
       "    .dataframe tbody tr th:only-of-type {\n",
       "        vertical-align: middle;\n",
       "    }\n",
       "\n",
       "    .dataframe tbody tr th {\n",
       "        vertical-align: top;\n",
       "    }\n",
       "\n",
       "    .dataframe thead th {\n",
       "        text-align: right;\n",
       "    }\n",
       "</style>\n",
       "<table border=\"1\" class=\"dataframe\">\n",
       "  <thead>\n",
       "    <tr style=\"text-align: right;\">\n",
       "      <th></th>\n",
       "      <th>operator_id</th>\n",
       "      <th>total_calls</th>\n",
       "      <th>missed_calls</th>\n",
       "      <th>avg_wait_time</th>\n",
       "      <th>total_call_duration</th>\n",
       "      <th>in_calls</th>\n",
       "      <th>out_calls</th>\n",
       "      <th>missed_calls_ratio</th>\n",
       "      <th>outgoing_calls</th>\n",
       "    </tr>\n",
       "  </thead>\n",
       "  <tbody>\n",
       "    <tr>\n",
       "      <th>9</th>\n",
       "      <td>882476.0</td>\n",
       "      <td>3</td>\n",
       "      <td>0</td>\n",
       "      <td>95.666667</td>\n",
       "      <td>287</td>\n",
       "      <td>3</td>\n",
       "      <td>0</td>\n",
       "      <td>0.0</td>\n",
       "      <td>0.0</td>\n",
       "    </tr>\n",
       "    <tr>\n",
       "      <th>17</th>\n",
       "      <td>883898.0</td>\n",
       "      <td>1</td>\n",
       "      <td>0</td>\n",
       "      <td>80.000000</td>\n",
       "      <td>80</td>\n",
       "      <td>0</td>\n",
       "      <td>1</td>\n",
       "      <td>0.0</td>\n",
       "      <td>1.0</td>\n",
       "    </tr>\n",
       "    <tr>\n",
       "      <th>20</th>\n",
       "      <td>884294.0</td>\n",
       "      <td>1</td>\n",
       "      <td>0</td>\n",
       "      <td>11.000000</td>\n",
       "      <td>11</td>\n",
       "      <td>1</td>\n",
       "      <td>0</td>\n",
       "      <td>0.0</td>\n",
       "      <td>0.0</td>\n",
       "    </tr>\n",
       "    <tr>\n",
       "      <th>26</th>\n",
       "      <td>884524.0</td>\n",
       "      <td>3</td>\n",
       "      <td>0</td>\n",
       "      <td>36.333333</td>\n",
       "      <td>109</td>\n",
       "      <td>3</td>\n",
       "      <td>0</td>\n",
       "      <td>0.0</td>\n",
       "      <td>0.0</td>\n",
       "    </tr>\n",
       "    <tr>\n",
       "      <th>32</th>\n",
       "      <td>886674.0</td>\n",
       "      <td>14</td>\n",
       "      <td>0</td>\n",
       "      <td>34.363636</td>\n",
       "      <td>378</td>\n",
       "      <td>11</td>\n",
       "      <td>0</td>\n",
       "      <td>0.0</td>\n",
       "      <td>0.0</td>\n",
       "    </tr>\n",
       "    <tr>\n",
       "      <th>...</th>\n",
       "      <td>...</td>\n",
       "      <td>...</td>\n",
       "      <td>...</td>\n",
       "      <td>...</td>\n",
       "      <td>...</td>\n",
       "      <td>...</td>\n",
       "      <td>...</td>\n",
       "      <td>...</td>\n",
       "      <td>...</td>\n",
       "    </tr>\n",
       "    <tr>\n",
       "      <th>1063</th>\n",
       "      <td>968368.0</td>\n",
       "      <td>2</td>\n",
       "      <td>0</td>\n",
       "      <td>46.000000</td>\n",
       "      <td>92</td>\n",
       "      <td>2</td>\n",
       "      <td>0</td>\n",
       "      <td>0.0</td>\n",
       "      <td>0.0</td>\n",
       "    </tr>\n",
       "    <tr>\n",
       "      <th>1064</th>\n",
       "      <td>968520.0</td>\n",
       "      <td>10</td>\n",
       "      <td>0</td>\n",
       "      <td>38.000000</td>\n",
       "      <td>76</td>\n",
       "      <td>2</td>\n",
       "      <td>0</td>\n",
       "      <td>0.0</td>\n",
       "      <td>0.0</td>\n",
       "    </tr>\n",
       "    <tr>\n",
       "      <th>1066</th>\n",
       "      <td>969268.0</td>\n",
       "      <td>5</td>\n",
       "      <td>0</td>\n",
       "      <td>94.500000</td>\n",
       "      <td>189</td>\n",
       "      <td>0</td>\n",
       "      <td>2</td>\n",
       "      <td>0.0</td>\n",
       "      <td>5.0</td>\n",
       "    </tr>\n",
       "    <tr>\n",
       "      <th>1084</th>\n",
       "      <td>971100.0</td>\n",
       "      <td>3</td>\n",
       "      <td>0</td>\n",
       "      <td>86.000000</td>\n",
       "      <td>172</td>\n",
       "      <td>2</td>\n",
       "      <td>0</td>\n",
       "      <td>0.0</td>\n",
       "      <td>0.0</td>\n",
       "    </tr>\n",
       "    <tr>\n",
       "      <th>1092</th>\n",
       "      <td>973286.0</td>\n",
       "      <td>2</td>\n",
       "      <td>0</td>\n",
       "      <td>105.000000</td>\n",
       "      <td>105</td>\n",
       "      <td>1</td>\n",
       "      <td>0</td>\n",
       "      <td>0.0</td>\n",
       "      <td>0.0</td>\n",
       "    </tr>\n",
       "  </tbody>\n",
       "</table>\n",
       "<p>97 rows × 9 columns</p>\n",
       "</div>"
      ],
      "text/plain": [
       "      operator_id  total_calls  missed_calls  avg_wait_time  \\\n",
       "9        882476.0            3             0      95.666667   \n",
       "17       883898.0            1             0      80.000000   \n",
       "20       884294.0            1             0      11.000000   \n",
       "26       884524.0            3             0      36.333333   \n",
       "32       886674.0           14             0      34.363636   \n",
       "...           ...          ...           ...            ...   \n",
       "1063     968368.0            2             0      46.000000   \n",
       "1064     968520.0           10             0      38.000000   \n",
       "1066     969268.0            5             0      94.500000   \n",
       "1084     971100.0            3             0      86.000000   \n",
       "1092     973286.0            2             0     105.000000   \n",
       "\n",
       "      total_call_duration  in_calls  out_calls  missed_calls_ratio  \\\n",
       "9                     287         3          0                 0.0   \n",
       "17                     80         0          1                 0.0   \n",
       "20                     11         1          0                 0.0   \n",
       "26                    109         3          0                 0.0   \n",
       "32                    378        11          0                 0.0   \n",
       "...                   ...       ...        ...                 ...   \n",
       "1063                   92         2          0                 0.0   \n",
       "1064                   76         2          0                 0.0   \n",
       "1066                  189         0          2                 0.0   \n",
       "1084                  172         2          0                 0.0   \n",
       "1092                  105         1          0                 0.0   \n",
       "\n",
       "      outgoing_calls  \n",
       "9                0.0  \n",
       "17               1.0  \n",
       "20               0.0  \n",
       "26               0.0  \n",
       "32               0.0  \n",
       "...              ...  \n",
       "1063             0.0  \n",
       "1064             0.0  \n",
       "1066             5.0  \n",
       "1084             0.0  \n",
       "1092             0.0  \n",
       "\n",
       "[97 rows x 9 columns]"
      ]
     },
     "metadata": {},
     "output_type": "display_data"
    }
   ],
   "source": [
    "display(group2_operators)"
   ]
  },
  {
   "cell_type": "code",
   "execution_count": 33,
   "metadata": {},
   "outputs": [
    {
     "name": "stdout",
     "output_type": "stream",
     "text": [
      "Promedio de tasa de llamadas perdidas (Operadores con un alto ranking de productividad:): 0.0\n"
     ]
    }
   ],
   "source": [
    "missed_calls_mean = group2_operators['missed_calls_ratio'].mean().round(2)\n",
    "print('Promedio de tasa de llamadas perdidas (Operadores con un alto ranking de productividad:):',missed_calls_mean)"
   ]
  },
  {
   "cell_type": "code",
   "execution_count": 34,
   "metadata": {},
   "outputs": [
    {
     "name": "stdout",
     "output_type": "stream",
     "text": [
      "Promedio de tiempo de espera promedio (Operadores con un alto ranking de productividad:): 59.05\n"
     ]
    }
   ],
   "source": [
    "wait_time_mean = group2_operators['avg_wait_time'].mean().round(2)\n",
    "print('Promedio de tiempo de espera promedio (Operadores con un alto ranking de productividad:):',wait_time_mean)"
   ]
  },
  {
   "cell_type": "code",
   "execution_count": 35,
   "metadata": {},
   "outputs": [
    {
     "data": {
      "image/png": "[encoded data removed]",
      "text/plain": [
       "<Figure size 800x500 with 1 Axes>"
      ]
     },
     "metadata": {},
     "output_type": "display_data"
    },
    {
     "data": {
      "image/png": "[encoded data removed]",
      "text/plain": [
       "<Figure size 800x500 with 1 Axes>"
      ]
     },
     "metadata": {},
     "output_type": "display_data"
    }
   ],
   "source": [
    "# Crear un boxplot para el tiempo de espera\n",
    "plt.figure(figsize=(8, 5))\n",
    "plt.boxplot(group2_operators['avg_wait_time'], vert=False)\n",
    "plt.xlabel('Tiempo de Espera (segundos)')\n",
    "plt.title('Boxplot del Tiempo de Espera Promedio')\n",
    "plt.grid(axis=\"x\", linestyle=\"--\", alpha=0.7)\n",
    "plt.show()\n",
    "\n",
    "# Crear un diagrama de dispersión de llamadas perdidas vs tiempo de espera\n",
    "plt.figure(figsize=(8, 5))\n",
    "plt.scatter(group2_operators['missed_calls'], group2_operators['avg_wait_time'], color='hotpink', alpha=0.7)\n",
    "plt.xlabel('Llamadas Perdidas')\n",
    "plt.ylabel('Tiempo de Espera (segundos)')\n",
    "plt.title('Relación entre Llamadas Perdidas y Tiempo de Espera')\n",
    "plt.grid(True, linestyle=\"--\", alpha=0.7)\n",
    "plt.show()\n"
   ]
  },
  {
   "cell_type": "markdown",
   "metadata": {},
   "source": [
    "### 📌 **Observaciones:**\n",
    "\n",
    "- La evaluación en este ***percentil < 25***, arrojó al menos 97 operadores que arrojaron un buen desempeño.\n",
    "- No se observan llamadas perdidas.\n",
    "- En este caso, la caja está entre aproximadamente 30 y 80 segundos (entre medio minuto y minuto y medio), lo que indica que la mayoría de los tiempos de espera están en ese rango.\n"
   ]
  },
  {
   "cell_type": "markdown",
   "metadata": {},
   "source": [
    "***Listado de Operadores de este grupo:***"
   ]
  },
  {
   "cell_type": "code",
   "execution_count": 36,
   "metadata": {},
   "outputs": [
    {
     "name": "stdout",
     "output_type": "stream",
     "text": [
      "[882476. 883898. 884294. 884524. 886674. 889638. 889640. 890234. 891254.\n",
      " 891646. 891948. 895170. 895782. 898676. 899892. 903390. 903974. 903976.\n",
      " 904058. 904372. 905082. 905470. 905478. 907618. 907998. 908130. 908180.\n",
      " 909894. 909896. 910224. 911152. 911214. 914172. 914266. 917876. 919956.\n",
      " 919958. 920930. 922154. 923646. 923744. 923944. 924662. 925808. 928022.\n",
      " 928142. 930582. 930692. 930820. 934424. 935268. 935870. 937428. 937720.\n",
      " 937880. 939698. 940512. 940514. 940610. 940842. 941816. 942214. 944564.\n",
      " 944908. 945274. 945710. 946020. 946032. 946468. 947306. 947596. 948282.\n",
      " 948284. 948524. 950632. 950634. 951118. 952126. 952666. 952954. 952968.\n",
      " 952982. 953940. 954616. 955086. 955094. 956292. 956664. 962062. 962168.\n",
      " 963716. 964518. 968368. 968520. 969268. 971100. 973286.]\n"
     ]
    }
   ],
   "source": [
    "# Obtener operadores unicos de este grupo\n",
    "operarators_unique = group2_operators['operator_id'].unique()\n",
    "print(operarators_unique)"
   ]
  },
  {
   "cell_type": "markdown",
   "metadata": {},
   "source": [
    "# 📌 4. Hipótesis a Evaluar"
   ]
  },
  {
   "cell_type": "markdown",
   "metadata": {},
   "source": [
    "### 📊 Prueba de Mann-Whitney, para evaluar operadores con oportunidades de mejora vs operadores con un alto ranking de productividad."
   ]
  },
  {
   "cell_type": "markdown",
   "metadata": {},
   "source": [
    "### 📌 **Observaciones:**\n",
    "\n",
    "Realizar prueba de Mann-Whitney: En este caso usaremos esta prueba, ya que los valores atípicos no suelen afectar directamente la prueba, no siendo necesario que los datos se distribuyan normalmente. "
   ]
  },
  {
   "cell_type": "markdown",
   "metadata": {},
   "source": [
    "<div class=\"alert alert-block alert-info\">\n",
    "<b>Hipótesis</b>\n",
    "<b>Nula (H₀): El tiempo de espera promedio son iguales para ambos grupos.\n",
    "Alternativa (H₁): El tiempo de espera promedio son diferentes. Nivel de significancia: α = 0.05</b> <a class=\"tocSkip\"></a>\n",
    "</div>"
   ]
  },
  {
   "cell_type": "code",
   "execution_count": 37,
   "metadata": {},
   "outputs": [
    {
     "name": "stdout",
     "output_type": "stream",
     "text": [
      "Estadística U: 291.0\n",
      "Valor p: 0.003389276171924829\n",
      "Rechazamos la hipótesis nula: El tiempo de espera promedio para ambos son significativamente diferentes.\n"
     ]
    }
   ],
   "source": [
    "# Extraer los tiempos de espera promedio para ambos grupos\n",
    "wait_time_group1 = group1_operators['avg_wait_time']\n",
    "wait_time_group2 = group2_operators['avg_wait_time']\n",
    "\n",
    "\n",
    "# Realizar la prueba de Mann-Whitney U (no paramétrica)\n",
    "t_stat, p_value = mannwhitneyu(wait_time_group1,wait_time_group2, alternative='two-sided')\n",
    "\n",
    "# Resultados\n",
    "print('Estadística U:', t_stat)\n",
    "print('Valor p:', p_value)\n",
    "\n",
    "# Interpretación del resultado\n",
    "alpha = 0.05\n",
    "\n",
    "if p_value < alpha:\n",
    "    print(\"Rechazamos la hipótesis nula: El tiempo de espera promedio para ambos son significativamente diferentes.\")\n",
    "else:\n",
    "    print(\"No podemos rechazar la hipótesis nula: No hay suficiente evidencia estadística para concluir el tiempo de espera promedio son iguales para ambos grupos.\")\n"
   ]
  },
  {
   "cell_type": "markdown",
   "metadata": {},
   "source": [
    "### 📌 **Observaciones** \n",
    "\n",
    "Si existe un diferencia significativa entre los tiempos de espera de ambos grupos."
   ]
  },
  {
   "cell_type": "markdown",
   "metadata": {},
   "source": [
    "### 📊 Prueba de chi-cuadrado para analizar si las llamadas perdidas es significativamente diferente. Extraer llamadas de ambos grupos: Operadores con oportunidades de mejora vs Operadores con un alto ranking de productividad."
   ]
  },
  {
   "cell_type": "code",
   "execution_count": 38,
   "metadata": {},
   "outputs": [
    {
     "name": "stdout",
     "output_type": "stream",
     "text": [
      "📊 Estadístico de Chi-cuadrado: 64.4601\n",
      "📉 Valor p: 0.000000\n",
      "📏 Grados de libertad: 1\n",
      "📋 Valores esperados:\n",
      "                    Operadores con oportunidades de mejora  \\\n",
      "Llamadas Perdidas                                27.213318   \n",
      "Llamadas Atendidas                              395.786682   \n",
      "\n",
      "                    Operadores con alto ranking de productividad  \n",
      "Llamadas Perdidas                                      29.786682  \n",
      "Llamadas Atendidas                                    433.213318  \n"
     ]
    }
   ],
   "source": [
    "# Calcular la suma de llamadas perdidas y atendidas para cada grupo\n",
    "missed_calls_g1 = group1_operators['missed_calls'].sum()\n",
    "attended_calls_g1 = group1_operators['total_calls'].sum() - missed_calls_g1\n",
    "\n",
    "missed_calls_g2 = group2_operators['missed_calls'].sum()\n",
    "attended_calls_g2 = group2_operators['total_calls'].sum() - missed_calls_g2\n",
    "\n",
    "# Crear tabla de contingencia\n",
    "missed_calls_table = pd.DataFrame({\n",
    "    'Operadores con oportunidades de mejora': [missed_calls_g1, attended_calls_g1],\n",
    "    'Operadores con alto ranking de productividad': [missed_calls_g2, attended_calls_g2]\n",
    "}, index=['Llamadas Perdidas', 'Llamadas Atendidas'])\n",
    "\n",
    "# Prueba de chi-cuadrado\n",
    "chi2_stat, p_value, dof, expected = chi2_contingency(missed_calls_table)\n",
    "\n",
    "# Mostrar los resultados con mejor formato\n",
    "print(f\"📊 Estadístico de Chi-cuadrado: {chi2_stat:.4f}\")\n",
    "print(f\"📉 Valor p: {p_value:.6f}\")\n",
    "print(f\"📏 Grados de libertad: {dof}\")\n",
    "\n",
    "print('📋 Valores esperados:')\n",
    "print(pd.DataFrame(expected, index=missed_calls_table.index, columns=missed_calls_table.columns))\n"
   ]
  },
  {
   "cell_type": "markdown",
   "metadata": {},
   "source": [
    "### 📌 **Observaciones**\n",
    "\n",
    "Como el valor p es mucho menor que 0.05, hay una diferencia significativa en las llamadas perdidas entre los grupos."
   ]
  },
  {
   "cell_type": "markdown",
   "metadata": {},
   "source": [
    "# 📌 5. Otros Gráficos a Realizar "
   ]
  },
  {
   "cell_type": "code",
   "execution_count": 39,
   "metadata": {},
   "outputs": [
    {
     "data": {
      "image/png": "[encoded data removed]",
      "text/plain": [
       "<Figure size 1000x600 with 1 Axes>"
      ]
     },
     "metadata": {},
     "output_type": "display_data"
    }
   ],
   "source": [
    "# Seleccionar la columna de duración total de llamadas\n",
    "durations = merged_data[\"total_call_duration\"]\n",
    "\n",
    "# Crear el histograma\n",
    "plt.figure(figsize=(10, 6))\n",
    "plt.hist(durations, bins=80, edgecolor='black', color='hotpink' , alpha=0.7)\n",
    "plt.xlabel('Duración total de llamadas')\n",
    "plt.ylabel('Frecuencia')\n",
    "plt.title('Histograma de duración total de llamadas')\n",
    "plt.grid(axis=\"y\", linestyle=\"--\", alpha=0.7)\n",
    "plt.xlim(0, 20000)  # Ajusta según los datos\n",
    "\n",
    "# Mostrar el histograma\n",
    "plt.show()"
   ]
  },
  {
   "cell_type": "markdown",
   "metadata": {},
   "source": [
    "### 📌 **Observaciones**\n",
    "\n",
    "✅ La mayoría de las llamadas tienen una duración corta\n",
    "\n",
    "Se observa que la mayor parte de las llamadas están concentradas en el extremo izquierdo del histograma, con duraciones menores a 2500 segundos (~41 minutos).\n",
    "Esto sugiere que la mayoría de las interacciones con los operadores son relativamente rápidas.\n",
    "\n",
    "✅ Existen valores extremos de duración de llamada\n",
    "\n",
    "Aunque la mayoría de las llamadas están por debajo de 2500 segundos, hay llamadas con duraciones mucho mayores.\n",
    "Algunas llamadas superan los 10,000 - 15,000 segundos (más de 2.5 - 4 horas), lo que podría indicar casos especiales.\n",
    "\n",
    "✅ La distribución es altamente asimétrica (sesgo positivo)\n",
    "\n",
    "La forma del histograma muestra una concentración fuerte en los valores más bajos y una cola larga hacia la derecha.\n",
    "Esto sugiere que la mayoría de las llamadas tienen una duración relativamente corta, pero hay algunas llamadas extremadamente largas que afectan la distribución."
   ]
  },
  {
   "cell_type": "code",
   "execution_count": 46,
   "metadata": {},
   "outputs": [
    {
     "data": {
      "image/png": "[encoded data removed]",
      "text/plain": [
       "<Figure size 800x800 with 1 Axes>"
      ]
     },
     "metadata": {},
     "output_type": "display_data"
    }
   ],
   "source": [
    "# Calcular la suma total de llamadas internas y externas\n",
    "total_in_calls = merged_data.loc[merged_data['direction'] == 'in', 'calls_count'].sum()\n",
    "total_out_calls = merged_data.loc[merged_data['direction'] == 'out', 'calls_count'].sum()\n",
    "\n",
    "# Definir los datos para el gráfico\n",
    "sizes = [total_in_calls, total_out_calls]\n",
    "labels = ['Llamadas Internas', 'Llamadas Externas']\n",
    "colors = ['pink', 'hotpink']  # Definir los colores\n",
    "\n",
    "# Crear el gráfico circular\n",
    "plt.figure(figsize=(8, 8))\n",
    "plt.pie(sizes, labels=labels, autopct=\"%1.1f%%\", startangle=90, colors=colors, wedgeprops={'edgecolor': 'black'})\n",
    "plt.title('Participación de llamadas internas y externas')\n",
    "\n",
    "# Mostrar el gráfico\n",
    "plt.show()\n"
   ]
  },
  {
   "cell_type": "code",
   "execution_count": 49,
   "metadata": {},
   "outputs": [
    {
     "name": "stdout",
     "output_type": "stream",
     "text": [
      "Total de Llamadas Internas: 216635\n",
      "Total de Llamadas Externas: 669886\n"
     ]
    }
   ],
   "source": [
    "print('Total de Llamadas Internas:',total_in_calls)\n",
    "print('Total de Llamadas Externas:',total_out_calls)"
   ]
  },
  {
   "cell_type": "markdown",
   "metadata": {},
   "source": [
    "### 📌 **Observaciones**\n",
    "\n",
    "✅ Las llamadas externas representan la mayor parte del tráfico.\n",
    "\n",
    "El 75.6% de las llamadas son externas, lo que indica que la mayoría de la comunicación se realiza con clientes o contactos fuera de la organización.\n",
    "Esto puede sugerir que el centro de llamadas se enfoca en atención al cliente, ventas o soporte técnico externo.\n",
    "\n",
    "✅ Las llamadas internas no representan una parte tan grande como las llamadas externas. \n",
    "\n",
    "Las llamadas internas constituyen el 24.4% del total.\n"
   ]
  },
  {
   "cell_type": "markdown",
   "metadata": {},
   "source": [
    "# 📌 6.Conclusiones"
   ]
  },
  {
   "cell_type": "markdown",
   "metadata": {},
   "source": [
    "📝 **Conclusiones:**\n",
    "\n",
    "- Hay una diferencia significativa entre los operadores de alto rendimiento y los operadores con oportunidades de mejora.\n",
    "- La prueba de Mann-Whitney muestra que los tiempos de espera entre ambos grupos son estadísticamente diferentes.\n",
    "- La prueba de Chi-cuadrado indica una diferencia significativa en la cantidad de llamadas perdidas entre ambos grupos.\n",
    "- Se observó que la mayor parte de las llamadas están concentradas en el extremo izquierdo del histograma, con duraciones menores a 2500 segundos (~41 minutos). Esto sugiere que la mayoría de las interacciones con los operadores son relativamente rápidas.\n",
    "- El 75.6% de las llamadas son externas, lo que indica que la mayoría de la comunicación se realiza con clientes o contactos fuera de la organización. Esto puede sugerir que el centro de llamadas se enfoca en atención al cliente, ventas o soporte técnico externo.\n",
    "- Las llamadas internas solo constituyen el 24.4% del total.\n",
    "\n",
    "  \n",
    "✅ Operadores con un alto ranking de productividad:\n",
    "\n",
    "- Los operadores con alta productividad manejan mejor el tiempo y la tasa de llamadas perdidas.\n",
    "- La tasa de llamadas perdidas en este grupo está por debajo del percentil 25.\n",
    "- El tiempo de espera promedio es significativamente menor, lo que mejora la experiencia del cliente.\n",
    "- 97 operadores presentan un desempeño óptimo con tiempos de espera entre 30 y 80 segundos.\n",
    "\n",
    "✅ Operadores con oportunidades de mejora:\n",
    "\n",
    "- Se identificaron 3 operadores con baja productividad.\n",
    "- Sus tiempos de espera están consistentemente entre 875 y 1075 segundos (14 a 17 minutos).\n",
    "- Presentan una tasa de llamadas perdidas por encima del percentil 75, lo que indica un bajo rendimiento en la gestión del tiempo.\n",
    "    - Operador 891158.0: 40 llamadas perdidas, 305 llamadas salientes.\n",
    "    - Operador 950444.0: 14 llamadas perdidas, 95 llamadas salientes.\n",
    "    - Operador 957922.0: 3 llamadas perdidas, 20 llamadas salientes.\n",
    "\n"
   ]
  },
  {
   "cell_type": "markdown",
   "metadata": {},
   "source": [
    "📝 **Sugerencias para la toma de decisiones:**\n",
    "\n",
    "- Optimizar la gestión de llamadas y tiempos de espera.\n",
    "\n",
    "✅ Acciones para operadores con un alto ranking de productividad:\n",
    "\n",
    "- Identificar las estrategias utilizadas por los 97 operadores de alto rendimiento y aplicarlas a otros grupos.\n",
    "\n",
    "✅ Acciones para operadores con oportunidades de mejora:\n",
    "\n",
    "- Implementar un sistema de monitoreo en tiempo real para alertar sobre tiempos de espera prolongados.\n",
    "- Implementar programas de capacitación basados en el modelo de operadores exitosos.\n",
    "- Revisar las causas de los altos tiempos de espera (problemas en el sistema, sobrecarga de trabajo, falta de capacitación, etc.).\n",
    "- Diseñar un plan de mejora personalizado para los tres operadores con bajo rendimiento."
   ]
  }
 ],
 "metadata": {
  "kernelspec": {
   "display_name": "Python (base)",
   "language": "python",
   "name": "base"
  },
  "language_info": {
   "codemirror_mode": {
    "name": "ipython",
    "version": 3
   },
   "file_extension": ".py",
   "mimetype": "text/x-python",
   "name": "python",
   "nbconvert_exporter": "python",
   "pygments_lexer": "ipython3",
   "version": "3.11.7"
  }
 },
 "nbformat": 4,
 "nbformat_minor": 4
}
