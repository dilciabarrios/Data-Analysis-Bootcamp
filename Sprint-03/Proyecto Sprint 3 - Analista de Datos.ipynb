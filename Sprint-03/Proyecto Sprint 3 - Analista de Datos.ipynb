{
 "cells": [
  {
   "cell_type": "markdown",
   "metadata": {
    "id": "E0vqbgi9ay0H"
   },
   "source": [
    "# Déjame escuchar la música"
   ]
  },
  {
   "cell_type": "markdown",
   "metadata": {
    "id": "fhq_eyov_Zcs"
   },
   "source": [
    "# Contenido <a id='back'></a>\n",
    "\n",
    "* [Introducción](#intro)\n",
    "* [Etapa 1. Descripción de los datos](#data_review)\n",
    "    * [Conclusiones](#data_review_conclusions)\n",
    "* [Etapa 2. Preprocesamiento de datos](#data_preprocessing)\n",
    "    * [2.1 Estilo del encabezado](#header_style)\n",
    "    * [2.2 Valores ausentes](#missing_values)\n",
    "    * [2.3 Duplicados](#duplicates)\n",
    "    * [2.4 Conclusiones](#data_preprocessing_conclusions)\n",
    "* [Etapa 3. Prueba de hipótesis](#hypothesis)\n",
    "    * [3.1 Hipótesis 1: actividad de los usuarios y las usuarias en las dos ciudades](#activity)\n",
    "* [Conclusiones](#end)"
   ]
  },
  {
   "cell_type": "markdown",
   "metadata": {
    "id": "VUC88oWjTJw2"
   },
   "source": [
    "## Introducción <a id='intro'></a>\n",
    "Como analista de datos, tu trabajo consiste en analizar datos para extraer información valiosa y tomar decisiones basadas en ellos. Esto implica diferentes etapas, como la descripción general de los datos, el preprocesamiento y la prueba de hipótesis.\n",
    "\n",
    "Siempre que investigamos, necesitamos formular hipótesis que después podamos probar. A veces aceptamos estas hipótesis; otras veces, las rechazamos. Para tomar las decisiones correctas, una empresa debe ser capaz de entender si está haciendo las suposiciones correctas.\n",
    "\n",
    "En este proyecto, compararás las preferencias musicales de las ciudades de Springfield y Shelbyville. Estudiarás datos reales de transmisión de música online para probar la hipótesis a continuación y comparar el comportamiento de los usuarios y las usuarias de estas dos ciudades.\n",
    "\n",
    "### Objetivo:\n",
    "Prueba la hipótesis:\n",
    "1. La actividad de los usuarios y las usuarias difiere según el día de la semana y dependiendo de la ciudad.\n",
    "\n",
    "\n",
    "### Etapas\n",
    "Los datos del comportamiento del usuario se almacenan en el archivo `/datasets/music_project_en.csv`. No hay ninguna información sobre la calidad de los datos, así que necesitarás examinarlos antes de probar la hipótesis.\n",
    "\n",
    "Primero, evaluarás la calidad de los datos y verás si los problemas son significativos. Entonces, durante el preprocesamiento de datos, tomarás en cuenta los problemas más críticos.\n",
    "\n",
    "Tu proyecto consistirá en tres etapas:\n",
    " 1. Descripción de los datos.\n",
    " 2. Preprocesamiento de datos.\n",
    " 3. Prueba de hipótesis.\n",
    "\n",
    "\n",
    "\n",
    "\n",
    "\n",
    "\n"
   ]
  },
  {
   "cell_type": "markdown",
   "metadata": {
    "id": "hDt6pg-Rw-1U"
   },
   "source": [
    "[Volver a Contenidos](#back)"
   ]
  },
  {
   "cell_type": "markdown",
   "metadata": {
    "id": "Ml1hmfXC_Zcs"
   },
   "source": [
    "## Etapa 1. Descripción de los datos <a id='data_review'></a>\n",
    "\n",
    "Abre los datos y examínalos."
   ]
  },
  {
   "cell_type": "markdown",
   "metadata": {
    "id": "57eAOGIz_Zcs"
   },
   "source": [
    "Necesitarás `pandas`, así que impórtalo."
   ]
  },
  {
   "cell_type": "code",
   "execution_count": 2,
   "metadata": {
    "id": "AXN7PHPN_Zcs"
   },
   "outputs": [],
   "source": [
    "# Importar pandas\n",
    "\n",
    "import pandas as pd\n"
   ]
  },
  {
   "cell_type": "markdown",
   "metadata": {
    "id": "SG23P8tt_Zcs"
   },
   "source": [
    "Lee el archivo `music_project_en.csv` de la carpeta `/datasets/` y guárdalo en la variable `df`:"
   ]
  },
  {
   "cell_type": "code",
   "execution_count": 3,
   "metadata": {
    "id": "fFVu7vqh_Zct"
   },
   "outputs": [],
   "source": [
    "# Leer el archivo y almacenarlo en df\n",
    "\n",
    "import pandas as pd\n",
    "\n",
    "df = pd.read_csv('/datasets/music_project_en.csv')\n"
   ]
  },
  {
   "cell_type": "markdown",
   "metadata": {
    "id": "rDoOMd3uTqnZ"
   },
   "source": [
    "Muestra las 10 primeras filas de la tabla:"
   ]
  },
  {
   "cell_type": "code",
   "execution_count": 4,
   "metadata": {
    "id": "oWTVX3gW_Zct"
   },
   "outputs": [
    {
     "name": "stdout",
     "output_type": "stream",
     "text": [
      "     userID                        Track            artist   genre  \\\n",
      "0  FFB692EC            Kamigata To Boots  The Mass Missile    rock   \n",
      "1  55204538  Delayed Because of Accident  Andreas Rönnberg    rock   \n",
      "2    20EC38            Funiculì funiculà       Mario Lanza     pop   \n",
      "3  A3DD03C9        Dragons in the Sunset        Fire + Ice    folk   \n",
      "4  E2DC1FAE                  Soul People        Space Echo   dance   \n",
      "5  842029A1                       Chains          Obladaet  rusrap   \n",
      "6  4CB90AA5                         True      Roman Messer   dance   \n",
      "7  F03E1C1F             Feeling This Way   Polina Griffith   dance   \n",
      "8  8FA1D3BE                     L’estate       Julia Dalia  ruspop   \n",
      "9  E772D5C0                    Pessimist               NaN   dance   \n",
      "\n",
      "        City        time        Day  \n",
      "0  Shelbyville  20:28:33  Wednesday  \n",
      "1  Springfield  14:07:09     Friday  \n",
      "2  Shelbyville  20:58:07  Wednesday  \n",
      "3  Shelbyville  08:37:09     Monday  \n",
      "4  Springfield  08:34:34     Monday  \n",
      "5  Shelbyville  13:09:41     Friday  \n",
      "6  Springfield  13:00:07  Wednesday  \n",
      "7  Springfield  20:47:49  Wednesday  \n",
      "8  Springfield  09:17:40     Friday  \n",
      "9  Shelbyville  21:20:49  Wednesday  \n"
     ]
    }
   ],
   "source": [
    "# Obtener las 10 primeras filas de la tabla df\n",
    "\n",
    "df = pd.read_csv('/datasets/music_project_en.csv')\n",
    "\n",
    "print(df.head(10))\n"
   ]
  },
  {
   "cell_type": "markdown",
   "metadata": {
    "id": "EO73Kwic_Zct"
   },
   "source": [
    "Obtén la información general sobre la tabla con un comando. Conoces el método que muestra la información general que necesitamos."
   ]
  },
  {
   "cell_type": "code",
   "execution_count": 5,
   "metadata": {
    "id": "DSf2kIb-_Zct"
   },
   "outputs": [
    {
     "name": "stdout",
     "output_type": "stream",
     "text": [
      "<class 'pandas.core.frame.DataFrame'>\n",
      "RangeIndex: 65079 entries, 0 to 65078\n",
      "Data columns (total 7 columns):\n",
      " #   Column    Non-Null Count  Dtype \n",
      "---  ------    --------------  ----- \n",
      " 0     userID  65079 non-null  object\n",
      " 1   Track     63736 non-null  object\n",
      " 2   artist    57512 non-null  object\n",
      " 3   genre     63881 non-null  object\n",
      " 4     City    65079 non-null  object\n",
      " 5   time      65079 non-null  object\n",
      " 6   Day       65079 non-null  object\n",
      "dtypes: object(7)\n",
      "memory usage: 3.5+ MB\n"
     ]
    }
   ],
   "source": [
    "# Obtener la información general sobre nuestros datos\n",
    "\n",
    "df.info()\n"
   ]
  },
  {
   "cell_type": "markdown",
   "metadata": {
    "id": "TaQ2Iwbr_Zct"
   },
   "source": [
    "Estas son nuestras observaciones sobre la tabla. Contiene siete columnas. Almacenan los mismos tipos de datos: `object`.\n",
    "\n",
    "Según la documentación:\n",
    "- `' userID'`: identificador del usuario o la usuaria;\n",
    "- `'Track'`: título de la canción;\n",
    "- `'artist'`: nombre del artista;\n",
    "- `'genre'`: género de la pista;\n",
    "- `'City'`: ciudad del usuario o la usuaria;\n",
    "- `'time'`: la hora exacta en la que se reprodujo la canción;\n",
    "- `'Day'`: día de la semana.\n",
    "\n",
    "Podemos ver tres problemas con el estilo en los encabezados de la tabla:\n",
    "1. Algunos encabezados están en mayúsculas, otros en minúsculas.\n",
    "2. Hay espacios en algunos encabezados.\n",
    "3. `Detecta el tercer problema por tu cuenta y descríbelo aquí`.\n",
    "\n",
    "\n"
   ]
  },
  {
   "cell_type": "markdown",
   "metadata": {
    "id": "MCB6-dXG_Zct"
   },
   "source": [
    "### Escribe observaciones de tu parte. Estas son algunas de las preguntas que pueden ser útiles: <a id='data_review_conclusions'></a>\n",
    "\n",
    "`1.   ¿Qué tipo de datos tenemos a nuestra disposición en las filas? ¿Y cómo podemos entender lo que almacenan las columnas?` R: Tenemos datos de tipo object, en el metodo info() podemos observar que en dtypes, nos especifica que las 7 columnas son de este tipo, por lo que todas las columnas almacenan cadenas de tipo string. La columna Time tambien esta almacenada como tipo object, se puede transformar en un datatime a traves de el metodo to_datetime() posteriormente si asi fuera necesario.\n",
    "\n",
    "`2.   ¿Hay suficientes datos para proporcionar respuestas a nuestra hipótesis o necesitamos más información?`\n",
    "R: Si tenemos suficiente información.\n",
    "\n",
    "`3.   ¿Notaste algún problema en los datos, como valores ausentes, duplicados o tipos de datos incorrectos?`\n",
    "R: Hay valores ausentes en la columna:'Track', 'artist', 'genre', para saber si hay duplicados debemos aplicar otro método. La columna time deberia seria de tipo datatime, se puede transformar con un método de igual manera. "
   ]
  },
  {
   "cell_type": "markdown",
   "metadata": {
    "id": "3eL__vcwViOi"
   },
   "source": [
    "[Volver a Contenidos](#back)"
   ]
  },
  {
   "cell_type": "markdown",
   "metadata": {
    "id": "SjYF6Ub9_Zct"
   },
   "source": [
    "## Etapa 2. Preprocesamiento de datos <a id='data_preprocessing'></a>\n",
    "\n",
    "El objetivo aquí es preparar los datos para que sean analizados.\n",
    "El primer paso es resolver cualquier problema con los encabezados. Luego podemos avanzar a los valores ausentes y duplicados. Empecemos.\n",
    "\n",
    "Corrige el formato en los encabezados de la tabla.\n"
   ]
  },
  {
   "cell_type": "markdown",
   "metadata": {
    "id": "dIaKXr29_Zct"
   },
   "source": [
    "### Estilo del encabezado <a id='header_style'></a>\n",
    "Muestra los encabezados de la tabla (los nombres de las columnas):"
   ]
  },
  {
   "cell_type": "code",
   "execution_count": 6,
   "metadata": {
    "id": "oKOTdF_Q_Zct"
   },
   "outputs": [
    {
     "name": "stdout",
     "output_type": "stream",
     "text": [
      "Index(['  userID', 'Track', 'artist', 'genre', '  City  ', 'time', 'Day'], dtype='object')\n"
     ]
    }
   ],
   "source": [
    "# Muestra los nombres de las columnas\n",
    "\n",
    "print(df.columns)\n"
   ]
  },
  {
   "cell_type": "markdown",
   "metadata": {
    "id": "zj5534cv_Zct"
   },
   "source": [
    "Cambia los encabezados de la tabla de acuerdo con las reglas del buen estilo:\n",
    "* Todos los caracteres deben ser minúsculas.\n",
    "* Elimina los espacios.\n",
    "* Si el nombre tiene varias palabras, utiliza snake_case."
   ]
  },
  {
   "cell_type": "markdown",
   "metadata": {
    "id": "Xu0zkfe5zNJe"
   },
   "source": [
    "Anteriormente, aprendiste acerca de la forma automática de cambiar el nombre de las columnas. Vamos a aplicarla ahora. Utiliza el bucle for para iterar sobre los nombres de las columnas y poner todos los caracteres en minúsculas. Cuando hayas terminado, vuelve a mostrar los encabezados de la tabla:"
   ]
  },
  {
   "cell_type": "code",
   "execution_count": 7,
   "metadata": {
    "id": "6I_RwwMhzM4e"
   },
   "outputs": [
    {
     "name": "stdout",
     "output_type": "stream",
     "text": [
      "Index(['  userid', 'track', 'artist', 'genre', '  city  ', 'time', 'day'], dtype='object')\n"
     ]
    }
   ],
   "source": [
    "# Bucle en los encabezados poniendo todo en minúsculas\n",
    "\n",
    "new_columns = []\n",
    "\n",
    "for old_col in df.columns:\n",
    "    name_columns = old_col.lower()\n",
    "    new_columns.append(name_columns)\n",
    "    \n",
    "df.columns = new_columns     \n",
    "print(df.columns)"
   ]
  },
  {
   "cell_type": "markdown",
   "metadata": {
    "id": "pweIRxjSzPYW"
   },
   "source": [
    "Ahora, utilizando el mismo método, elimina los espacios al principio y al final de los nombres de las columnas e imprime los nombres de las columnas nuevamente:"
   ]
  },
  {
   "cell_type": "code",
   "execution_count": 8,
   "metadata": {
    "id": "vVQXbFyJzSYl"
   },
   "outputs": [
    {
     "name": "stdout",
     "output_type": "stream",
     "text": [
      "Index(['userid', 'track', 'artist', 'genre', 'city', 'time', 'day'], dtype='object')\n"
     ]
    }
   ],
   "source": [
    "# Bucle en los encabezados eliminando los espacios\n",
    "\n",
    "new_columns = []\n",
    "\n",
    "for old_col in df.columns:\n",
    "    name_columns = old_col.lower()\n",
    "    name_strip =  name_columns.strip()\n",
    "    new_columns.append(name_strip)\n",
    "    \n",
    "df.columns = new_columns     \n",
    "print(df.columns)\n"
   ]
  },
  {
   "cell_type": "markdown",
   "metadata": {
    "id": "yCb8MW1JzURd"
   },
   "source": [
    "Necesitamos aplicar la regla de snake_case a la columna `userid`. Debe ser `user_id`. Cambia el nombre de esta columna y muestra los nombres de todas las columnas cuando hayas terminado."
   ]
  },
  {
   "cell_type": "code",
   "execution_count": 9,
   "metadata": {
    "id": "ISlFqs5y_Zct"
   },
   "outputs": [
    {
     "name": "stdout",
     "output_type": "stream",
     "text": [
      "Index(['user_id', 'track', 'artist', 'genre', 'city', 'time', 'day'], dtype='object')\n"
     ]
    }
   ],
   "source": [
    "# Cambiar el nombre de la columna \"userid\"\n",
    "\n",
    "new_columns = []\n",
    "\n",
    "for old_col in df.columns:\n",
    "    name_columns = old_col.lower()\n",
    "    name_strip =  name_columns.strip()\n",
    "    name_replace = name_strip.replace('userid','user_id')\n",
    "    new_columns.append(name_replace)\n",
    "    \n",
    "df.columns = new_columns \n",
    "print(df.columns)\n"
   ]
  },
  {
   "cell_type": "markdown",
   "metadata": {
    "id": "1dqbh00J_Zct"
   },
   "source": [
    "Comprueba el resultado. Muestra los encabezados una vez más:"
   ]
  },
  {
   "cell_type": "code",
   "execution_count": 10,
   "metadata": {
    "id": "d4NOAmTW_Zct"
   },
   "outputs": [
    {
     "name": "stdout",
     "output_type": "stream",
     "text": [
      "['user_id', 'track', 'artist', 'genre', 'city', 'time', 'day']\n"
     ]
    }
   ],
   "source": [
    "# Comprobar el resultado: la lista de encabezados\n",
    "\n",
    "print(new_columns)\n"
   ]
  },
  {
   "cell_type": "markdown",
   "metadata": {
    "id": "xYJk6ksJVpOl"
   },
   "source": [
    "[Volver a Contenidos](#back)"
   ]
  },
  {
   "cell_type": "markdown",
   "metadata": {
    "id": "5ISfbcfY_Zct"
   },
   "source": [
    "### Valores ausentes <a id='missing_values'></a>\n",
    " Primero, encuentra el número de valores ausentes en la tabla. Debes utilizar dos métodos en una secuencia para obtener el número de valores ausentes."
   ]
  },
  {
   "cell_type": "code",
   "execution_count": 11,
   "metadata": {
    "id": "RskX29qr_Zct"
   },
   "outputs": [
    {
     "name": "stdout",
     "output_type": "stream",
     "text": [
      "user_id       0\n",
      "track      1343\n",
      "artist     7567\n",
      "genre      1198\n",
      "city          0\n",
      "time          0\n",
      "day           0\n",
      "dtype: int64\n"
     ]
    }
   ],
   "source": [
    "# Calcular el número de valores ausentes\n",
    "\n",
    "valores_ausentes = df.isna().sum()\n",
    "\n",
    "print(valores_ausentes)\n"
   ]
  },
  {
   "cell_type": "markdown",
   "metadata": {
    "id": "qubhgnlO_Zct"
   },
   "source": [
    "No todos los valores ausentes afectan a la investigación. Por ejemplo, los valores ausentes en `track` y `artist` no son cruciales. Simplemente puedes reemplazarlos con valores predeterminados como el string `'unknown'` (desconocido).\n",
    "\n",
    "Pero los valores ausentes en `'genre'` pueden afectar la comparación entre las preferencias musicales de Springfield y Shelbyville. En la vida real, sería útil saber las razones por las cuales hay datos ausentes e intentar recuperarlos. Pero no tenemos esa oportunidad en este proyecto. Así que tendrás que:\n",
    "* rellenar estos valores ausentes con un valor predeterminado;\n",
    "* evaluar cuánto podrían afectar los valores ausentes a tus cómputos;"
   ]
  },
  {
   "cell_type": "markdown",
   "metadata": {
    "id": "fSv2laPA_Zct"
   },
   "source": [
    "Reemplazar los valores ausentes en las columnas `'track'`, `'artist'` y `'genre'` con el string `'unknown'`. Como mostramos anteriormente en las lecciones, la mejor forma de hacerlo es crear una lista que almacene los nombres de las columnas donde se necesita el reemplazo. Luego, utiliza esta lista e itera sobre las columnas donde se necesita el reemplazo haciendo el propio reemplazo."
   ]
  },
  {
   "cell_type": "code",
   "execution_count": 12,
   "metadata": {
    "id": "KplB5qWs_Zct"
   },
   "outputs": [],
   "source": [
    "# Bucle en los encabezados reemplazando los valores ausentes con 'unknown'\n",
    "\n",
    "columns_replace = ['track', 'artist', 'genre']\n",
    "\n",
    "for col in columns_replace:\n",
    "    \n",
    "    df[col] = df[col].fillna('unknown')\n"
   ]
  },
  {
   "cell_type": "markdown",
   "metadata": {
    "id": "Ilsm-MZo_Zct"
   },
   "source": [
    "Ahora comprueba el resultado para asegurarte de que después del reemplazo no haya valores ausentes en el conjunto de datos. Para hacer esto, cuenta los valores ausentes nuevamente."
   ]
  },
  {
   "cell_type": "code",
   "execution_count": 13,
   "metadata": {
    "id": "Tq4nYRX4_Zct"
   },
   "outputs": [
    {
     "name": "stdout",
     "output_type": "stream",
     "text": [
      "user_id    0\n",
      "track      0\n",
      "artist     0\n",
      "genre      0\n",
      "city       0\n",
      "time       0\n",
      "day        0\n",
      "dtype: int64\n"
     ]
    }
   ],
   "source": [
    "# Contar valores ausentes\n",
    "\n",
    "print(df.isna().sum())\n"
   ]
  },
  {
   "cell_type": "markdown",
   "metadata": {
    "id": "74ZIBmq9VrsK"
   },
   "source": [
    "[Volver a Contenidos](#back)"
   ]
  },
  {
   "cell_type": "markdown",
   "metadata": {
    "id": "BWKRtBJ3_Zct"
   },
   "source": [
    "### Duplicados <a id='duplicates'></a>\n",
    "Encuentra el número de duplicados explícitos en la tabla. Una vez más, debes aplicar dos métodos en una secuencia para obtener la cantidad de duplicados explícitos."
   ]
  },
  {
   "cell_type": "code",
   "execution_count": 14,
   "metadata": {
    "id": "36eES_S0_Zct"
   },
   "outputs": [
    {
     "name": "stdout",
     "output_type": "stream",
     "text": [
      "3826\n"
     ]
    }
   ],
   "source": [
    "# Contar duplicados explícitos\n",
    "\n",
    "duplicados = df.duplicated().sum()\n",
    "print(duplicados)"
   ]
  },
  {
   "cell_type": "markdown",
   "metadata": {
    "id": "Ot25h6XR_Zct"
   },
   "source": [
    "Ahora, elimina todos los duplicados. Para ello, llama al método que hace exactamente esto."
   ]
  },
  {
   "cell_type": "code",
   "execution_count": 15,
   "metadata": {
    "id": "exFHq6tt_Zct"
   },
   "outputs": [
    {
     "name": "stdout",
     "output_type": "stream",
     "text": [
      "        user_id                              track            artist  \\\n",
      "0      FFB692EC                  Kamigata To Boots  The Mass Missile   \n",
      "1      55204538        Delayed Because of Accident  Andreas Rönnberg   \n",
      "2        20EC38                  Funiculì funiculà       Mario Lanza   \n",
      "3      A3DD03C9              Dragons in the Sunset        Fire + Ice   \n",
      "4      E2DC1FAE                        Soul People        Space Echo   \n",
      "...         ...                                ...               ...   \n",
      "65074  729CBB09                            My Name            McLean   \n",
      "65075  D08D4A55  Maybe One Day (feat. Black Spade)       Blu & Exile   \n",
      "65076  C5E3A0D5                          Jalopiina           unknown   \n",
      "65077  321D0506                      Freight Train     Chas McDevitt   \n",
      "65078  3A64EF84          Tell Me Sweet Little Lies      Monica Lopez   \n",
      "\n",
      "            genre         city      time        day  \n",
      "0            rock  Shelbyville  20:28:33  Wednesday  \n",
      "1            rock  Springfield  14:07:09     Friday  \n",
      "2             pop  Shelbyville  20:58:07  Wednesday  \n",
      "3            folk  Shelbyville  08:37:09     Monday  \n",
      "4           dance  Springfield  08:34:34     Monday  \n",
      "...           ...          ...       ...        ...  \n",
      "65074         rnb  Springfield  13:32:28  Wednesday  \n",
      "65075         hip  Shelbyville  10:00:00     Monday  \n",
      "65076  industrial  Springfield  20:09:26     Friday  \n",
      "65077        rock  Springfield  21:43:59     Friday  \n",
      "65078     country  Springfield  21:59:46     Friday  \n",
      "\n",
      "[61253 rows x 7 columns]\n"
     ]
    }
   ],
   "source": [
    "# Eliminar duplicados explícitos\n",
    "\n",
    "df_clean = df.drop_duplicates()\n",
    "print(df_clean)"
   ]
  },
  {
   "cell_type": "markdown",
   "metadata": {
    "id": "Im2YwBEG_Zct"
   },
   "source": [
    "Comprobemos ahora si eliminamos con éxito todos los duplicados. Cuenta los duplicados explícitos una vez más para asegurarte de haberlos eliminado todos:"
   ]
  },
  {
   "cell_type": "code",
   "execution_count": 16,
   "metadata": {
    "id": "-8PuNWQ0_Zct"
   },
   "outputs": [
    {
     "name": "stdout",
     "output_type": "stream",
     "text": [
      "user_id    FFB692EC5520453820EC38A3DD03C9E2DC1FAE842029A1...\n",
      "track      Kamigata To BootsDelayed Because of AccidentFu...\n",
      "artist     The Mass MissileAndreas RönnbergMario LanzaFir...\n",
      "genre      rockrockpopfolkdancerusrapdancedanceruspopdanc...\n",
      "city       ShelbyvilleSpringfieldShelbyvilleShelbyvilleSp...\n",
      "time       20:28:3314:07:0920:58:0708:37:0908:34:3413:09:...\n",
      "day        WednesdayFridayWednesdayMondayMondayFridayWedn...\n",
      "dtype: object\n"
     ]
    }
   ],
   "source": [
    "# Comprobar de nuevo si hay duplicados\n",
    "\n",
    "print(df_clean.sum())\n"
   ]
  },
  {
   "cell_type": "markdown",
   "metadata": {
    "id": "QlFBsxAr_Zct"
   },
   "source": [
    "Ahora queremos deshacernos de los duplicados implícitos en la columna `genre`. Por ejemplo, el nombre de un género se puede escribir de varias formas. Dichos errores también pueden afectar al resultado."
   ]
  },
  {
   "cell_type": "markdown",
   "metadata": {
    "id": "eSjWwsOh_Zct"
   },
   "source": [
    "Para hacerlo, primero mostremos una lista de nombres de género únicos, ordenados en orden alfabético. Para ello:\n",
    "* Extrae la columna `genre` del DataFrame.\n",
    "* Llama al método que devolverá todos los valores únicos en la columna extraída.\n"
   ]
  },
  {
   "cell_type": "code",
   "execution_count": 17,
   "metadata": {
    "id": "JIUcqzZN_Zct"
   },
   "outputs": [
    {
     "name": "stdout",
     "output_type": "stream",
     "text": [
      "['rock' 'pop' 'folk' 'dance' 'rusrap' 'ruspop' 'world' 'electronic'\n",
      " 'unknown' 'alternative' 'children' 'rnb' 'hip' 'jazz' 'postrock' 'latin'\n",
      " 'classical' 'metal' 'reggae' 'triphop' 'blues' 'instrumental' 'rusrock'\n",
      " 'dnb' 'türk' 'post' 'country' 'psychedelic' 'conjazz' 'indie'\n",
      " 'posthardcore' 'local' 'avantgarde' 'punk' 'videogame' 'techno' 'house'\n",
      " 'christmas' 'melodic' 'caucasian' 'reggaeton' 'soundtrack' 'singer' 'ska'\n",
      " 'salsa' 'ambient' 'film' 'western' 'rap' 'beats' \"hard'n'heavy\"\n",
      " 'progmetal' 'minimal' 'tropical' 'contemporary' 'new' 'soul' 'holiday'\n",
      " 'german' 'jpop' 'spiritual' 'urban' 'gospel' 'nujazz' 'folkmetal'\n",
      " 'trance' 'miscellaneous' 'anime' 'hardcore' 'progressive' 'korean'\n",
      " 'numetal' 'vocal' 'estrada' 'tango' 'loungeelectronic' 'classicmetal'\n",
      " 'dubstep' 'club' 'deep' 'southern' 'black' 'folkrock' 'fitness' 'french'\n",
      " 'disco' 'religious' 'hiphop' 'drum' 'extrememetal' 'türkçe'\n",
      " 'experimental' 'easy' 'metalcore' 'modern' 'argentinetango' 'old' 'swing'\n",
      " 'breaks' 'eurofolk' 'stonerrock' 'industrial' 'funk' 'middle' 'variété'\n",
      " 'other' 'adult' 'christian' 'thrash' 'gothic' 'international' 'muslim'\n",
      " 'relax' 'schlager' 'caribbean' 'nu' 'breakbeat' 'comedy' 'chill' 'newage'\n",
      " 'specialty' 'uzbek' 'k-pop' 'balkan' 'chinese' 'meditative' 'dub' 'power'\n",
      " 'death' 'grime' 'arabesk' 'romance' 'flamenco' 'leftfield' 'european'\n",
      " 'tech' 'newwave' 'dancehall' 'mpb' 'piano' 'top' 'bigroom' 'opera'\n",
      " 'celtic' 'tradjazz' 'acoustic' 'epicmetal' 'hip-hop' 'historisch'\n",
      " 'downbeat' 'downtempo' 'africa' 'audiobook' 'jewish' 'sängerportrait'\n",
      " 'deutschrock' 'eastern' 'action' 'future' 'electropop' 'folklore'\n",
      " 'bollywood' 'marschmusik' 'rnr' 'karaoke' 'indian' 'rancheras'\n",
      " 'afrikaans' 'rhythm' 'sound' 'deutschspr' 'trip' 'lovers' 'choral'\n",
      " 'dancepop' 'retro' 'smooth' 'mexican' 'brazilian' 'ïîï' 'mood' 'surf'\n",
      " 'gangsta' 'inspirational' 'idm' 'ethnic' 'bluegrass' 'broadway'\n",
      " 'animated' 'americana' 'karadeniz' 'rockabilly' 'colombian' 'self' 'hop'\n",
      " 'sertanejo' 'japanese' 'canzone' 'lounge' 'sport' 'ragga' 'traditional'\n",
      " 'gitarre' 'frankreich' 'emo' 'laiko' 'cantopop' 'glitch' 'documentary'\n",
      " 'oceania' 'popeurodance' 'dark' 'vi' 'grunge' 'hardstyle' 'samba'\n",
      " 'garage' 'art' 'folktronica' 'entehno' 'mediterranean' 'chamber' 'cuban'\n",
      " 'taraftar' 'gypsy' 'hardtechno' 'shoegazing' 'bossa' 'latino' 'worldbeat'\n",
      " 'malaysian' 'baile' 'ghazal' 'arabic' 'popelectronic' 'acid' 'kayokyoku'\n",
      " 'neoklassik' 'tribal' 'tanzorchester' 'native' 'independent' 'cantautori'\n",
      " 'handsup' 'punjabi' 'synthpop' 'rave' 'französisch' 'quebecois' 'speech'\n",
      " 'soulful' 'jam' 'ram' 'horror' 'orchestral' 'neue' 'roots' 'slow'\n",
      " 'jungle' 'indipop' 'axé' 'fado' 'showtunes' 'arena' 'irish' 'mandopop'\n",
      " 'forró' 'dirty' 'regional']\n"
     ]
    }
   ],
   "source": [
    "# Inspeccionar los nombres de géneros únicos\n",
    "\n",
    "generos = df['genre'].unique()\n",
    "print(generos)"
   ]
  },
  {
   "cell_type": "markdown",
   "metadata": {
    "id": "qej-Qmuo_Zct"
   },
   "source": [
    "Busca en la lista para encontrar duplicados implícitos del género `hiphop`. Estos pueden ser nombres escritos incorrectamente o nombres alternativos para el mismo género.\n",
    "\n",
    "Verás los siguientes duplicados implícitos:\n",
    "* `hip`\n",
    "* `hop`\n",
    "* `hip-hop`\n",
    "\n",
    "Para deshacerte de ellos, crea una función llamada `replace_wrong_genres()` con dos parámetros:\n",
    "* `wrong_genres=`: esta es una lista que contiene todos los valores que necesitas reemplazar.\n",
    "* `correct_genre=`: este es un string que vas a utilizar como reemplazo.\n",
    "\n",
    "Como resultado, la función debería corregir los nombres en la columna `'genre'` de la tabla `df`, es decir, remplazar cada valor de la lista `wrong_genres` por el valor en `correct_genre`.\n",
    "\n",
    "Dentro del cuerpo de la función, utiliza un bucle `'for'` para iterar sobre la lista de géneros incorrectos, extrae la columna `'genre'` y aplica el método `replace` para hacer correcciones."
   ]
  },
  {
   "cell_type": "code",
   "execution_count": 18,
   "metadata": {
    "id": "ErNDkmns_Zct"
   },
   "outputs": [],
   "source": [
    "# Función para reemplazar duplicados implícitos\n",
    "\n",
    "def replace_wrong_genres(df, genre, wrong_genres,correct_genre):\n",
    "    \n",
    "    for wrong_genre in wrong_genres:\n",
    "        df[genre]= df[genre].replace(wrong_genre,correct_genre)\n",
    "    return df\n",
    "    \n",
    "\n",
    "wrong_genres = ['hip','hop','hip-hop']\n",
    "correct_genre ='hiphop'\n",
    "df_generos = replace_wrong_genres(df,'genre',wrong_genres,correct_genre)\n"
   ]
  },
  {
   "cell_type": "markdown",
   "metadata": {
    "id": "aDoBJxbA_Zct"
   },
   "source": [
    "Ahora, llama a `replace_wrong_genres()` y pásale tales argumentos para que retire los duplicados implícitos (`hip`, `hop` y `hip-hop`) y los reemplace por `hiphop`:"
   ]
  },
  {
   "cell_type": "code",
   "execution_count": 19,
   "metadata": {
    "id": "YN5i2hpmSo09"
   },
   "outputs": [],
   "source": [
    "# Eliminar duplicados implícitos\n",
    "\n",
    "df_generos = df.drop_duplicates(subset='genre')"
   ]
  },
  {
   "cell_type": "markdown",
   "metadata": {
    "id": "zQKF16_RG15m"
   },
   "source": [
    "Asegúrate de que los nombres duplicados han sido eliminados. Muestra la lista de valores únicos de la columna `'genre'` una vez más:"
   ]
  },
  {
   "cell_type": "code",
   "execution_count": 20,
   "metadata": {
    "id": "wvixALnFG15m"
   },
   "outputs": [
    {
     "name": "stdout",
     "output_type": "stream",
     "text": [
      "['rock' 'pop' 'folk' 'dance' 'rusrap' 'ruspop' 'world' 'electronic'\n",
      " 'unknown' 'alternative' 'children' 'rnb' 'hiphop' 'jazz' 'postrock'\n",
      " 'latin' 'classical' 'metal' 'reggae' 'triphop' 'blues' 'instrumental'\n",
      " 'rusrock' 'dnb' 'türk' 'post' 'country' 'psychedelic' 'conjazz' 'indie'\n",
      " 'posthardcore' 'local' 'avantgarde' 'punk' 'videogame' 'techno' 'house'\n",
      " 'christmas' 'melodic' 'caucasian' 'reggaeton' 'soundtrack' 'singer' 'ska'\n",
      " 'salsa' 'ambient' 'film' 'western' 'rap' 'beats' \"hard'n'heavy\"\n",
      " 'progmetal' 'minimal' 'tropical' 'contemporary' 'new' 'soul' 'holiday'\n",
      " 'german' 'jpop' 'spiritual' 'urban' 'gospel' 'nujazz' 'folkmetal'\n",
      " 'trance' 'miscellaneous' 'anime' 'hardcore' 'progressive' 'korean'\n",
      " 'numetal' 'vocal' 'estrada' 'tango' 'loungeelectronic' 'classicmetal'\n",
      " 'dubstep' 'club' 'deep' 'southern' 'black' 'folkrock' 'fitness' 'french'\n",
      " 'disco' 'religious' 'drum' 'extrememetal' 'türkçe' 'experimental' 'easy'\n",
      " 'metalcore' 'modern' 'argentinetango' 'old' 'swing' 'breaks' 'eurofolk'\n",
      " 'stonerrock' 'industrial' 'funk' 'middle' 'variété' 'other' 'adult'\n",
      " 'christian' 'thrash' 'gothic' 'international' 'muslim' 'relax' 'schlager'\n",
      " 'caribbean' 'nu' 'breakbeat' 'comedy' 'chill' 'newage' 'specialty'\n",
      " 'uzbek' 'k-pop' 'balkan' 'chinese' 'meditative' 'dub' 'power' 'death'\n",
      " 'grime' 'arabesk' 'romance' 'flamenco' 'leftfield' 'european' 'tech'\n",
      " 'newwave' 'dancehall' 'mpb' 'piano' 'top' 'bigroom' 'opera' 'celtic'\n",
      " 'tradjazz' 'acoustic' 'epicmetal' 'historisch' 'downbeat' 'downtempo'\n",
      " 'africa' 'audiobook' 'jewish' 'sängerportrait' 'deutschrock' 'eastern'\n",
      " 'action' 'future' 'electropop' 'folklore' 'bollywood' 'marschmusik' 'rnr'\n",
      " 'karaoke' 'indian' 'rancheras' 'afrikaans' 'rhythm' 'sound' 'deutschspr'\n",
      " 'trip' 'lovers' 'choral' 'dancepop' 'retro' 'smooth' 'mexican'\n",
      " 'brazilian' 'ïîï' 'mood' 'surf' 'gangsta' 'inspirational' 'idm' 'ethnic'\n",
      " 'bluegrass' 'broadway' 'animated' 'americana' 'karadeniz' 'rockabilly'\n",
      " 'colombian' 'self' 'sertanejo' 'japanese' 'canzone' 'lounge' 'sport'\n",
      " 'ragga' 'traditional' 'gitarre' 'frankreich' 'emo' 'laiko' 'cantopop'\n",
      " 'glitch' 'documentary' 'oceania' 'popeurodance' 'dark' 'vi' 'grunge'\n",
      " 'hardstyle' 'samba' 'garage' 'art' 'folktronica' 'entehno'\n",
      " 'mediterranean' 'chamber' 'cuban' 'taraftar' 'gypsy' 'hardtechno'\n",
      " 'shoegazing' 'bossa' 'latino' 'worldbeat' 'malaysian' 'baile' 'ghazal'\n",
      " 'arabic' 'popelectronic' 'acid' 'kayokyoku' 'neoklassik' 'tribal'\n",
      " 'tanzorchester' 'native' 'independent' 'cantautori' 'handsup' 'punjabi'\n",
      " 'synthpop' 'rave' 'französisch' 'quebecois' 'speech' 'soulful' 'jam'\n",
      " 'ram' 'horror' 'orchestral' 'neue' 'roots' 'slow' 'jungle' 'indipop'\n",
      " 'axé' 'fado' 'showtunes' 'arena' 'irish' 'mandopop' 'forró' 'dirty'\n",
      " 'regional']\n"
     ]
    }
   ],
   "source": [
    "# Comprobación de duplicados implícitos\n",
    "\n",
    "genero_unique = df_generos['genre'].unique()\n",
    "print(genero_unique)\n"
   ]
  },
  {
   "cell_type": "markdown",
   "metadata": {
    "id": "ALgNbvF3VtPA"
   },
   "source": [
    "[Volver a Contenidos](#back)"
   ]
  },
  {
   "cell_type": "markdown",
   "metadata": {
    "id": "jz6a9-7HQUDd"
   },
   "source": [
    "### Tus observaciones <a id='data_preprocessing_conclusions'></a>\n",
    "\n",
    "Pudimos reemplazar hip, hop, hip-hip por \"hiphop\" en los 3 casos, pudimos abordarlos a través de la creación de una función que nos permitiera iterar sobre la tabla que contiene el genero y nos permitiera reemplazar esos 3 generos, por la cadena string que establecimos en otra variable, la cual nos arrojó el resultado deseado. Sin embargo considero que hay otros generos que pudieran ser reemplazados por la palabra 'unknown', ya que son generos que no nos dicen nada como por ejemplo: 'ïîï' entre otros.\n",
    "\n"
   ]
  },
  {
   "cell_type": "markdown",
   "metadata": {
    "id": "eK1es74rVujj"
   },
   "source": [
    "[Volver a Contenidos](#back)"
   ]
  },
  {
   "cell_type": "markdown",
   "metadata": {
    "id": "WttZHXH0SqKk"
   },
   "source": [
    "## Etapa 3. Prueba de hipótesis <a id='hypothesis'></a>"
   ]
  },
  {
   "cell_type": "markdown",
   "metadata": {
    "id": "Im936VVi_Zcu"
   },
   "source": [
    "### Hipótesis: comparar el comportamiento del usuario o la usuaria en las dos ciudades <a id='activity'></a>"
   ]
  },
  {
   "cell_type": "markdown",
   "metadata": {
    "id": "nwt_MuaL_Zcu"
   },
   "source": [
    "La hipótesis afirma que existen diferencias en la forma en que los usuarios y las usuarias de Springfield y Shelbyville consumen música. Para comprobar esto, usa los datos de tres días de la semana: lunes, miércoles y viernes.\n",
    "\n",
    "* Agrupa a los usuarios y las usuarias por ciudad.\n",
    "* Compara el número de canciones que cada grupo reprodujo el lunes, el miércoles y el viernes.\n"
   ]
  },
  {
   "cell_type": "markdown",
   "metadata": {
    "id": "8Dw_YMmT_Zcu"
   },
   "source": [
    "Realiza cada cálculo por separado.\n",
    "\n",
    "El primer paso es evaluar la actividad del usuario en cada ciudad. Recuerda las etapas dividir-aplicar-combinar de las que hablamos anteriormente en la lección. Tu objetivo ahora es agrupar los datos por ciudad, aplicar el método apropiado para contar durante la etapa de aplicación y luego encontrar la cantidad de canciones reproducidas en cada grupo especificando la columna para obtener el recuento.\n",
    "\n",
    "A continuación se muestra un ejemplo de cómo debería verse el resultado final:\n",
    "`df.groupby(by='....')['column'].method()`Realiza cada cálculo por separado.\n",
    "\n",
    "Para evaluar la actividad de los usuarios y las usuarias en cada ciudad, agrupa los datos por ciudad y encuentra la cantidad de canciones reproducidas en cada grupo.\n",
    "\n"
   ]
  },
  {
   "cell_type": "code",
   "execution_count": 21,
   "metadata": {
    "id": "0_Qs96oh_Zcu"
   },
   "outputs": [
    {
     "name": "stdout",
     "output_type": "stream",
     "text": [
      "city\n",
      "Shelbyville    19719\n",
      "Springfield    45360\n",
      "Name: track, dtype: int64\n"
     ]
    }
   ],
   "source": [
    "# Contar las canciones reproducidas en cada ciudad\n",
    "\n",
    "track_por_ciudad = df.groupby('city')['track'].count()\n",
    "print(track_por_ciudad)\n"
   ]
  },
  {
   "cell_type": "markdown",
   "metadata": {
    "id": "t_Qx-3NewAnK"
   },
   "source": [
    "**Comentarios:** Podemos observar que la ciudad donde hay más canciones reproducidas es Springfield con 44434 canciones. Esto podría deberse a 3 razones:\n",
    "\n",
    "1. Que exista mayor cantidad de usuarios en esa ciudad.\n",
    "\n",
    "2. Tambien que el estilo de vida se encuentra más orientado al consumo digital.\n",
    "\n",
    "3. Podria existir un patrón con respecto al genero que se escucha en esa ciudad, es un dato interesante a estudiar y con los datos que tenemos en nuestro DataFrame podemos realizarlo."
   ]
  },
  {
   "cell_type": "markdown",
   "metadata": {
    "id": "dzli3w8o_Zcu"
   },
   "source": [
    "Ahora agrupemos los datos por día de la semana y encontremos el número de canciones reproducidas el lunes, miércoles y viernes. Utiliza el mismo método que antes, pero ahora necesitamos una agrupación diferente.\n"
   ]
  },
  {
   "cell_type": "code",
   "execution_count": 22,
   "metadata": {
    "id": "uZMKjiJz_Zcu"
   },
   "outputs": [
    {
     "name": "stdout",
     "output_type": "stream",
     "text": [
      "day\n",
      "Friday       23149\n",
      "Monday       22697\n",
      "Wednesday    19233\n",
      "Name: track, dtype: int64\n"
     ]
    }
   ],
   "source": [
    "# Calcular las canciones reproducidas en cada uno de los tres días\n",
    "\n",
    "track_por_day = df.groupby('day')['track'].count()\n",
    "print(track_por_day)\n"
   ]
  },
  {
   "cell_type": "markdown",
   "metadata": {
    "id": "cC2tNrlL_Zcu"
   },
   "source": [
    "**Comentarios:** Observamos que los dias viernes, es el dia donde hay más afluencia de reproducción. Esto podría reflejar un patrón de comportamiento de los usuarios, donde se incrementa la escucha de música al acercarse el fin de semana, esto podria deberse a que es un dia donde la gente suele relajarse más. De igual manera los dias lunes vemos una afluencia parecida, esto podría deberser a que comienzan su semana laboral o escolar el lunes, lo que puede hacer que busquen música para motivarse o mejorar su estado de ánimo mientras retoman sus actividades de la semana."
   ]
  },
  {
   "cell_type": "markdown",
   "metadata": {
    "id": "POzs8bGa_Zcu"
   },
   "source": [
    "Ya sabes cómo contar entradas agrupándolas por ciudad o día. Ahora necesitas escribir una función que pueda contar entradas según ambos criterios simultáneamente.\n",
    "\n",
    "Crea la función `number_tracks()` para calcular el número de canciones reproducidas en un determinado día **y** ciudad. La función debe aceptar dos parámetros:\n",
    "\n",
    "- `day`: un día de la semana para filtrar. Por ejemplo, `'Monday'` (lunes).\n",
    "- `city`: una ciudad para filtrar. Por ejemplo, `'Springfield'`.\n",
    "\n",
    "Dentro de la función, aplicarás un filtrado consecutivo con indexación lógica.\n",
    "\n",
    "Primero filtra los datos por día y luego filtra la tabla resultante por ciudad.\n",
    "\n",
    "Después de filtrar los datos por dos criterios, cuenta el número de valores de la columna 'user_id' en la tabla resultante. Este recuento representa el número de entradas que estás buscando. Guarda el resultado en una nueva variable y devuélvelo desde la función."
   ]
  },
  {
   "cell_type": "code",
   "execution_count": 23,
   "metadata": {
    "id": "Nz3GdQB1_Zcu"
   },
   "outputs": [
    {
     "name": "stdout",
     "output_type": "stream",
     "text": [
      "Número de valores de la columna user_id es de: 16715\n"
     ]
    }
   ],
   "source": [
    "# limpieza de datos \n",
    "\n",
    "new_columns = []\n",
    "\n",
    "for old_col in df.columns:\n",
    "    name_columns = old_col.lower()\n",
    "    name_strip =  name_columns.strip()\n",
    "    name_replace = name_strip.replace('userid','user_id')\n",
    "    new_columns.append(name_replace)\n",
    "    \n",
    "df.columns = new_columns  \n",
    "\n",
    "day = 'day'\n",
    "city = 'city'\n",
    "\n",
    "day_value = 'Monday'\n",
    "city_value = 'Springfield'\n",
    "\n",
    "# Declara la función number_tracks() con dos parámetros: day= y city=.\n",
    "\n",
    "def number_tracks(df,day,city):\n",
    "\n",
    "   # Almacena las filas del DataFrame donde el valor en la columna 'day' es igual al parámetro day=\n",
    "\n",
    "    filtered_day = df[df['day'] == day_value]\n",
    "\n",
    "  # Filtra las filas donde el valor en la columna 'city' es igual al parámetro city=\n",
    "\n",
    "    filtered_city = filtered_day[filtered_day['city'] == city_value]\n",
    "    \n",
    "  # Extrae la columna 'user_id' de la tabla filtrada y aplica el método count()\n",
    "\n",
    "    filtered_user_id = filtered_city['user_id'].count()\n",
    "    \n",
    "  # Devolve el número de valores de la columna 'user_id'\n",
    "    \n",
    "    return filtered_user_id\n",
    "\n",
    "\n",
    "filtered_result = number_tracks(df,day='day',city='city')\n",
    "\n",
    "\n",
    "print('Número de valores de la columna user_id es de:',filtered_result)\n",
    "\n",
    "\n"
   ]
  },
  {
   "cell_type": "markdown",
   "metadata": {
    "id": "ytf7xFrFJQ2r"
   },
   "source": [
    "Llama a `number_tracks()` seis veces, cambiando los valores de los parámetros para que recuperes los datos de ambas ciudades para cada uno de los tres días."
   ]
  },
  {
   "cell_type": "code",
   "execution_count": 24,
   "metadata": {
    "id": "rJcRATNQ_Zcu"
   },
   "outputs": [
    {
     "name": "stdout",
     "output_type": "stream",
     "text": [
      "El número de canciones reproducidas es: 16715\n"
     ]
    }
   ],
   "source": [
    "# El número de canciones reproducidas en Springfield el lunes\n",
    "\n",
    "day_value = 'Monday'\n",
    "city_value = 'Springfield'\n",
    "\n",
    "filtered_result = number_tracks(df,day='day',city='city')\n",
    "\n",
    "print('El número de canciones reproducidas es:',filtered_result)\n"
   ]
  },
  {
   "cell_type": "code",
   "execution_count": 25,
   "metadata": {
    "id": "hq_ncZ5T_Zcu"
   },
   "outputs": [
    {
     "name": "stdout",
     "output_type": "stream",
     "text": [
      "El número de canciones reproducidas es: 5982\n"
     ]
    }
   ],
   "source": [
    "# El número de canciones reproducidas en Shelbyville el lunes\n",
    "\n",
    "day_value = 'Monday'\n",
    "city_value = 'Shelbyville'\n",
    "\n",
    "filtered_result = number_tracks(df,day='day',city='city')\n",
    "\n",
    "print('El número de canciones reproducidas es:',filtered_result)\n"
   ]
  },
  {
   "cell_type": "code",
   "execution_count": 13,
   "metadata": {
    "id": "_NTy2VPU_Zcu"
   },
   "outputs": [
    {
     "name": "stdout",
     "output_type": "stream",
     "text": [
      "El número de canciones reproducidas es: 11755\n"
     ]
    }
   ],
   "source": [
    "# El número de canciones reproducidas en Springfield el miércoles\n",
    "\n",
    "day_value = 'Wednesday'\n",
    "city_value = 'Springfield'\n",
    "\n",
    "filtered_result = number_tracks(df,day='day',city='city')\n",
    "\n",
    "print('El número de canciones reproducidas es:',filtered_result)\n"
   ]
  },
  {
   "cell_type": "code",
   "execution_count": 14,
   "metadata": {
    "id": "j2y3TAwo_Zcu"
   },
   "outputs": [
    {
     "name": "stdout",
     "output_type": "stream",
     "text": [
      "El número de canciones reproducidas es: 7478\n"
     ]
    }
   ],
   "source": [
    "# El número de canciones reproducidas en Shelbyville el miércoles\n",
    "\n",
    "day_value = 'Wednesday'\n",
    "city_value = 'Shelbyville'\n",
    "\n",
    "filtered_result = number_tracks(df,day='day',city='city')\n",
    "\n",
    "print('El número de canciones reproducidas es:',filtered_result)\n",
    "\n"
   ]
  },
  {
   "cell_type": "code",
   "execution_count": 15,
   "metadata": {
    "id": "vYDw5u_K_Zcu"
   },
   "outputs": [
    {
     "name": "stdout",
     "output_type": "stream",
     "text": [
      "El número de canciones reproducidas es: 16890\n"
     ]
    }
   ],
   "source": [
    "# El número de canciones reproducidas en Springfield el viernes\n",
    "\n",
    "day_value = 'Friday'\n",
    "city_value = 'Springfield'\n",
    "\n",
    "filtered_result = number_tracks(df,day='day',city='city')\n",
    "\n",
    "print('El número de canciones reproducidas es:',filtered_result)\n"
   ]
  },
  {
   "cell_type": "code",
   "execution_count": 16,
   "metadata": {
    "id": "8_yzFtW3_Zcu"
   },
   "outputs": [
    {
     "name": "stdout",
     "output_type": "stream",
     "text": [
      "El número de canciones reproducidas es: 6259\n"
     ]
    }
   ],
   "source": [
    "# El número de canciones reproducidas en Shelbyville el viernes\n",
    "\n",
    "day_value = 'Friday'\n",
    "city_value = 'Shelbyville'\n",
    "\n",
    "filtered_result = number_tracks(df,day='day',city='city')\n",
    "\n",
    "print('El número de canciones reproducidas es:',filtered_result)\n"
   ]
  },
  {
   "cell_type": "markdown",
   "metadata": {
    "id": "-EgPIHYu_Zcu"
   },
   "source": [
    "# Conclusiones <a id='end'></a>\n",
    "\n",
    "La hipótesis es correcta. Existe variaciones en el compartamiento de las personas esos dias en cuanto la frecuencia de reproducción. Realmente auque la diferencia por ejemplo del día viernes con respecto al lunes, es pequeña la diferencia, pero con respecto al día miercoles si hay mucha diferencia de variación. Como comente más arriba esto podría deberse a 3 razones ya mencionadas:\n",
    "\n",
    "1. Que exista mayor cantidad de usuarios en esa ciudad.\n",
    "\n",
    "2. Tambien que el estilo de vida se encuentra más orientado al consumo digital.\n",
    "\n",
    "3. Podria existir un patrón con respecto al genero que se escucha en esa ciudad, cuyo dato si lo tenemos en nuestro DataFrame.\n",
    "\n",
    "Sin embargo si se quiese respaldar más aun la hipótesis, se podría realizar un estudio de la actividad de los usuarios en cada ciudad como: \n",
    "\n",
    "1. Eventos que se realizan de manera local y de forma estacional.\n",
    "2. Datos sobre el uso de tecnología en cada ciudad, datos sobre el acceso a internet, uso de smartphones y suscripciones a plataformas de streaming en cada ciudad. \n",
    "3. Datos demográficos, para conocer la edad, nivel de educación, entre otros datos. "
   ]
  },
  {
   "cell_type": "markdown",
   "metadata": {
    "id": "p7nFQajCVw5B"
   },
   "source": [
    "[Volver a Contenidos](#back)"
   ]
  },
  {
   "cell_type": "markdown",
   "metadata": {
    "id": "azLHu64yOIp7"
   },
   "source": [
    "### Nota\n",
    "En proyectos de investigación reales, la prueba de hipótesis estadística es más precisa y cuantitativa. También ten en cuenta que no siempre se pueden sacar conclusiones sobre una ciudad entera a partir de datos de una sola fuente.\n",
    "\n",
    "Aprenderás más sobre la prueba de hipótesis en el sprint de análisis estadístico de datos."
   ]
  },
  {
   "cell_type": "markdown",
   "metadata": {
    "id": "Ju4AHDSgV1FE"
   },
   "source": [
    "[Volver a Contenidos](#back)"
   ]
  }
 ],
 "metadata": {
  "ExecuteTimeLog": [
   {
    "duration": 161,
    "start_time": "2024-09-07T16:55:22.477Z"
   },
   {
    "duration": 400,
    "start_time": "2024-09-07T16:55:39.037Z"
   },
   {
    "duration": 96,
    "start_time": "2024-09-07T16:57:36.257Z"
   },
   {
    "duration": 96,
    "start_time": "2024-09-07T16:58:02.829Z"
   },
   {
    "duration": 0,
    "start_time": "2024-09-07T19:04:01.725Z"
   },
   {
    "duration": 12,
    "start_time": "2024-09-07T19:04:06.647Z"
   },
   {
    "duration": 13,
    "start_time": "2024-09-07T19:04:42.723Z"
   },
   {
    "duration": 11,
    "start_time": "2024-09-07T19:06:22.870Z"
   },
   {
    "duration": 441,
    "start_time": "2024-09-07T19:06:49.698Z"
   },
   {
    "duration": 95,
    "start_time": "2024-09-07T19:07:13.055Z"
   },
   {
    "duration": 91,
    "start_time": "2024-09-07T19:07:18.795Z"
   },
   {
    "duration": 91,
    "start_time": "2024-09-07T19:07:21.346Z"
   },
   {
    "duration": 128,
    "start_time": "2024-09-07T20:03:40.142Z"
   },
   {
    "duration": 92,
    "start_time": "2024-09-07T20:04:24.581Z"
   },
   {
    "duration": 96,
    "start_time": "2024-09-07T20:08:28.519Z"
   },
   {
    "duration": 95,
    "start_time": "2024-09-07T20:08:54.962Z"
   },
   {
    "duration": 3,
    "start_time": "2024-09-07T20:11:10.635Z"
   },
   {
    "duration": 22,
    "start_time": "2024-09-07T20:11:30.851Z"
   },
   {
    "duration": 12,
    "start_time": "2024-09-07T20:12:31.718Z"
   },
   {
    "duration": 3,
    "start_time": "2024-09-07T20:12:56.594Z"
   },
   {
    "duration": 3,
    "start_time": "2024-09-07T20:14:01.001Z"
   },
   {
    "duration": 3,
    "start_time": "2024-09-07T20:14:03.702Z"
   },
   {
    "duration": 3,
    "start_time": "2024-09-07T20:14:22.076Z"
   },
   {
    "duration": 3,
    "start_time": "2024-09-07T20:14:27.680Z"
   },
   {
    "duration": 3,
    "start_time": "2024-09-07T20:15:24.693Z"
   },
   {
    "duration": 4,
    "start_time": "2024-09-07T20:17:44.305Z"
   },
   {
    "duration": 3,
    "start_time": "2024-09-07T20:17:55.656Z"
   },
   {
    "duration": 12,
    "start_time": "2024-09-07T20:19:14.642Z"
   },
   {
    "duration": 3,
    "start_time": "2024-09-07T20:19:23.131Z"
   },
   {
    "duration": 3,
    "start_time": "2024-09-07T20:19:25.532Z"
   },
   {
    "duration": 12,
    "start_time": "2024-09-07T20:20:27.565Z"
   },
   {
    "duration": 344,
    "start_time": "2024-09-07T20:20:39.031Z"
   },
   {
    "duration": 28,
    "start_time": "2024-09-07T20:21:10.203Z"
   },
   {
    "duration": 4,
    "start_time": "2024-09-07T20:21:56.032Z"
   },
   {
    "duration": 4,
    "start_time": "2024-09-07T20:22:05.255Z"
   },
   {
    "duration": 4,
    "start_time": "2024-09-07T20:22:20.907Z"
   },
   {
    "duration": 4,
    "start_time": "2024-09-07T20:22:32.604Z"
   },
   {
    "duration": 4,
    "start_time": "2024-09-07T20:22:37.353Z"
   },
   {
    "duration": 5,
    "start_time": "2024-09-07T20:23:09.930Z"
   },
   {
    "duration": 28,
    "start_time": "2024-09-07T20:24:05.754Z"
   },
   {
    "duration": 31,
    "start_time": "2024-09-07T20:24:40.365Z"
   },
   {
    "duration": 28,
    "start_time": "2024-09-07T20:25:04.106Z"
   },
   {
    "duration": 5,
    "start_time": "2024-09-07T20:27:56.779Z"
   },
   {
    "duration": 4,
    "start_time": "2024-09-07T20:29:40.000Z"
   },
   {
    "duration": 4,
    "start_time": "2024-09-07T20:31:11.543Z"
   },
   {
    "duration": 3,
    "start_time": "2024-09-07T20:32:02.792Z"
   },
   {
    "duration": 18,
    "start_time": "2024-09-07T20:37:21.986Z"
   },
   {
    "duration": 20,
    "start_time": "2024-09-07T20:37:25.042Z"
   },
   {
    "duration": 22,
    "start_time": "2024-09-07T20:37:37.762Z"
   },
   {
    "duration": 19,
    "start_time": "2024-09-07T20:37:49.412Z"
   },
   {
    "duration": 20,
    "start_time": "2024-09-07T20:38:58.032Z"
   },
   {
    "duration": 15,
    "start_time": "2024-09-07T20:45:25.333Z"
   },
   {
    "duration": 5,
    "start_time": "2024-09-07T20:45:31.877Z"
   },
   {
    "duration": 29,
    "start_time": "2024-09-07T20:49:03.884Z"
   },
   {
    "duration": 12,
    "start_time": "2024-09-07T20:49:26.366Z"
   },
   {
    "duration": 21,
    "start_time": "2024-09-07T20:49:32.011Z"
   },
   {
    "duration": 47,
    "start_time": "2024-09-07T21:25:41.942Z"
   },
   {
    "duration": 41,
    "start_time": "2024-09-07T21:26:10.672Z"
   },
   {
    "duration": 11,
    "start_time": "2024-09-07T21:32:30.865Z"
   },
   {
    "duration": 10,
    "start_time": "2024-09-07T21:32:33.792Z"
   },
   {
    "duration": 48,
    "start_time": "2024-09-07T21:32:45.808Z"
   },
   {
    "duration": 7,
    "start_time": "2024-09-07T21:34:05.396Z"
   },
   {
    "duration": 47,
    "start_time": "2024-09-07T21:34:30.293Z"
   },
   {
    "duration": 40,
    "start_time": "2024-09-07T21:36:01.042Z"
   },
   {
    "duration": 13,
    "start_time": "2024-09-07T21:37:05.494Z"
   },
   {
    "duration": 5163,
    "start_time": "2024-09-07T21:37:36.836Z"
   },
   {
    "duration": 3,
    "start_time": "2024-09-07T21:38:04.618Z"
   },
   {
    "duration": 7,
    "start_time": "2024-09-07T21:39:18.006Z"
   },
   {
    "duration": 2,
    "start_time": "2024-09-07T21:39:30.974Z"
   },
   {
    "duration": 4,
    "start_time": "2024-09-07T21:41:59.356Z"
   },
   {
    "duration": 9,
    "start_time": "2024-09-07T21:42:21.332Z"
   },
   {
    "duration": 6,
    "start_time": "2024-09-07T21:42:43.318Z"
   },
   {
    "duration": 4,
    "start_time": "2024-09-07T22:04:58.265Z"
   },
   {
    "duration": 244,
    "start_time": "2024-09-07T22:05:14.422Z"
   },
   {
    "duration": 3,
    "start_time": "2024-09-07T22:06:53.317Z"
   },
   {
    "duration": 4,
    "start_time": "2024-09-07T22:16:51.295Z"
   },
   {
    "duration": 2,
    "start_time": "2024-09-07T22:17:30.305Z"
   },
   {
    "duration": 5,
    "start_time": "2024-09-07T22:33:27.959Z"
   },
   {
    "duration": 4,
    "start_time": "2024-09-07T22:33:30.731Z"
   },
   {
    "duration": 5,
    "start_time": "2024-09-07T22:34:26.896Z"
   },
   {
    "duration": 4,
    "start_time": "2024-09-07T22:34:48.167Z"
   },
   {
    "duration": 14,
    "start_time": "2024-09-07T22:35:07.240Z"
   },
   {
    "duration": 14,
    "start_time": "2024-09-07T22:41:51.636Z"
   },
   {
    "duration": 14,
    "start_time": "2024-09-07T22:42:52.168Z"
   },
   {
    "duration": 14,
    "start_time": "2024-09-07T22:43:56.806Z"
   },
   {
    "duration": 15,
    "start_time": "2024-09-07T22:56:28.514Z"
   },
   {
    "duration": 13,
    "start_time": "2024-09-07T23:23:42.719Z"
   },
   {
    "duration": 15,
    "start_time": "2024-09-07T23:25:31.526Z"
   },
   {
    "duration": 13,
    "start_time": "2024-09-07T23:25:38.846Z"
   },
   {
    "duration": 156,
    "start_time": "2024-09-07T23:30:34.849Z"
   },
   {
    "duration": 14,
    "start_time": "2024-09-07T23:32:14.034Z"
   },
   {
    "duration": 12,
    "start_time": "2024-09-07T23:32:44.814Z"
   },
   {
    "duration": 11,
    "start_time": "2024-09-07T23:41:42.509Z"
   },
   {
    "duration": 11,
    "start_time": "2024-09-07T23:42:24.518Z"
   },
   {
    "duration": 11,
    "start_time": "2024-09-07T23:42:30.110Z"
   },
   {
    "duration": 12,
    "start_time": "2024-09-07T23:42:48.066Z"
   },
   {
    "duration": 358,
    "start_time": "2024-09-07T23:43:29.948Z"
   },
   {
    "duration": 124,
    "start_time": "2024-09-07T23:43:57.785Z"
   },
   {
    "duration": 97,
    "start_time": "2024-09-07T23:44:07.614Z"
   },
   {
    "duration": 97,
    "start_time": "2024-09-07T23:44:59.974Z"
   },
   {
    "duration": 103,
    "start_time": "2024-09-07T23:45:37.569Z"
   },
   {
    "duration": 105,
    "start_time": "2024-09-07T23:46:06.811Z"
   },
   {
    "duration": 103,
    "start_time": "2024-09-07T23:50:55.736Z"
   },
   {
    "duration": 92,
    "start_time": "2024-09-07T23:52:44.809Z"
   },
   {
    "duration": 99,
    "start_time": "2024-09-07T23:55:13.777Z"
   },
   {
    "duration": 91,
    "start_time": "2024-09-07T23:56:55.623Z"
   },
   {
    "duration": 93,
    "start_time": "2024-09-07T23:56:57.833Z"
   },
   {
    "duration": 95,
    "start_time": "2024-09-07T23:56:59.960Z"
   },
   {
    "duration": 98,
    "start_time": "2024-09-07T23:57:28.201Z"
   },
   {
    "duration": 110,
    "start_time": "2024-09-07T23:58:03.015Z"
   },
   {
    "duration": 99,
    "start_time": "2024-09-07T23:58:30.992Z"
   },
   {
    "duration": 341,
    "start_time": "2024-09-07T23:59:42.598Z"
   },
   {
    "duration": 143,
    "start_time": "2024-09-07T23:59:53.584Z"
   },
   {
    "duration": 30,
    "start_time": "2024-09-08T00:00:11.839Z"
   },
   {
    "duration": 2,
    "start_time": "2024-09-08T00:00:21.449Z"
   },
   {
    "duration": 31,
    "start_time": "2024-09-08T00:00:37.630Z"
   },
   {
    "duration": 14,
    "start_time": "2024-09-08T00:04:27.525Z"
   },
   {
    "duration": 5,
    "start_time": "2024-09-08T00:04:45.797Z"
   },
   {
    "duration": 5,
    "start_time": "2024-09-08T00:05:06.499Z"
   },
   {
    "duration": 33,
    "start_time": "2024-09-08T00:06:11.879Z"
   },
   {
    "duration": 5,
    "start_time": "2024-09-08T00:06:58.477Z"
   },
   {
    "duration": 19,
    "start_time": "2024-09-08T00:07:41.982Z"
   },
   {
    "duration": 32,
    "start_time": "2024-09-08T00:08:01.085Z"
   },
   {
    "duration": 5,
    "start_time": "2024-09-08T00:08:57.413Z"
   },
   {
    "duration": 12,
    "start_time": "2024-09-08T00:10:07.014Z"
   },
   {
    "duration": 13,
    "start_time": "2024-09-08T00:10:14.671Z"
   },
   {
    "duration": 19,
    "start_time": "2024-09-08T00:15:15.947Z"
   },
   {
    "duration": 19,
    "start_time": "2024-09-08T00:17:16.834Z"
   },
   {
    "duration": 2,
    "start_time": "2024-09-08T00:17:26.442Z"
   },
   {
    "duration": 19,
    "start_time": "2024-09-08T00:17:49.312Z"
   },
   {
    "duration": 12,
    "start_time": "2024-09-08T00:22:45.624Z"
   },
   {
    "duration": 2,
    "start_time": "2024-09-08T00:23:00.303Z"
   },
   {
    "duration": 14,
    "start_time": "2024-09-08T00:23:48.637Z"
   },
   {
    "duration": 5,
    "start_time": "2024-09-08T00:24:00.785Z"
   },
   {
    "duration": 12,
    "start_time": "2024-09-08T00:24:11.489Z"
   },
   {
    "duration": 12,
    "start_time": "2024-09-08T00:24:18.003Z"
   },
   {
    "duration": 4,
    "start_time": "2024-09-08T00:25:30.140Z"
   },
   {
    "duration": 305,
    "start_time": "2024-09-08T00:25:38.595Z"
   },
   {
    "duration": 3,
    "start_time": "2024-09-08T00:25:53.349Z"
   },
   {
    "duration": 14,
    "start_time": "2024-09-08T00:26:26.805Z"
   },
   {
    "duration": 5,
    "start_time": "2024-09-08T00:31:00.208Z"
   },
   {
    "duration": 5,
    "start_time": "2024-09-08T00:50:59.581Z"
   },
   {
    "duration": 17,
    "start_time": "2024-09-08T00:51:32.682Z"
   },
   {
    "duration": 12,
    "start_time": "2024-09-08T00:52:58.532Z"
   },
   {
    "duration": 3,
    "start_time": "2024-09-08T00:53:33.669Z"
   },
   {
    "duration": 5,
    "start_time": "2024-09-08T00:53:56.814Z"
   },
   {
    "duration": 24,
    "start_time": "2024-09-08T00:54:24.869Z"
   },
   {
    "duration": 22,
    "start_time": "2024-09-08T00:54:38.235Z"
   },
   {
    "duration": 109,
    "start_time": "2024-09-08T00:55:37.963Z"
   },
   {
    "duration": 19,
    "start_time": "2024-09-08T01:02:24.280Z"
   },
   {
    "duration": 15,
    "start_time": "2024-09-08T01:04:14.976Z"
   },
   {
    "duration": 21,
    "start_time": "2024-09-08T01:05:01.837Z"
   },
   {
    "duration": 11,
    "start_time": "2024-09-08T01:08:21.015Z"
   },
   {
    "duration": 2,
    "start_time": "2024-09-08T01:09:11.811Z"
   },
   {
    "duration": 6,
    "start_time": "2024-09-08T01:09:14.600Z"
   },
   {
    "duration": 98,
    "start_time": "2024-09-08T01:09:56.704Z"
   },
   {
    "duration": 90,
    "start_time": "2024-09-08T01:10:32.891Z"
   },
   {
    "duration": 6,
    "start_time": "2024-09-08T01:14:11.597Z"
   },
   {
    "duration": 19,
    "start_time": "2024-09-08T01:16:31.142Z"
   },
   {
    "duration": 5,
    "start_time": "2024-09-08T01:22:43.063Z"
   },
   {
    "duration": 1879,
    "start_time": "2024-09-08T01:25:30.896Z"
   },
   {
    "duration": 1848,
    "start_time": "2024-09-08T01:25:33.327Z"
   },
   {
    "duration": 1860,
    "start_time": "2024-09-08T01:25:35.569Z"
   },
   {
    "duration": 5,
    "start_time": "2024-09-08T01:26:03.970Z"
   },
   {
    "duration": 1834,
    "start_time": "2024-09-08T01:26:59.901Z"
   },
   {
    "duration": 1824,
    "start_time": "2024-09-08T01:27:13.869Z"
   },
   {
    "duration": 1824,
    "start_time": "2024-09-08T01:27:18.582Z"
   },
   {
    "duration": 13,
    "start_time": "2024-09-08T01:28:00.078Z"
   },
   {
    "duration": 15,
    "start_time": "2024-09-08T01:28:45.844Z"
   },
   {
    "duration": 22,
    "start_time": "2024-09-08T01:29:57.351Z"
   },
   {
    "duration": 19,
    "start_time": "2024-09-08T01:30:32.221Z"
   },
   {
    "duration": 17,
    "start_time": "2024-09-08T01:31:17.259Z"
   },
   {
    "duration": 10,
    "start_time": "2024-09-08T01:32:01.664Z"
   },
   {
    "duration": 10,
    "start_time": "2024-09-08T01:32:04.049Z"
   },
   {
    "duration": 10,
    "start_time": "2024-09-08T01:32:11.318Z"
   },
   {
    "duration": 10,
    "start_time": "2024-09-08T01:32:13.489Z"
   },
   {
    "duration": 16,
    "start_time": "2024-09-08T01:32:42.853Z"
   },
   {
    "duration": 1873,
    "start_time": "2024-09-08T01:33:05.153Z"
   },
   {
    "duration": 6,
    "start_time": "2024-09-08T01:34:11.266Z"
   },
   {
    "duration": 15,
    "start_time": "2024-09-08T01:34:22.462Z"
   },
   {
    "duration": 11,
    "start_time": "2024-09-08T01:36:02.807Z"
   },
   {
    "duration": 11,
    "start_time": "2024-09-08T01:36:15.825Z"
   },
   {
    "duration": 8,
    "start_time": "2024-09-08T01:48:30.163Z"
   },
   {
    "duration": 5,
    "start_time": "2024-09-08T01:48:39.703Z"
   },
   {
    "duration": 2,
    "start_time": "2024-09-08T01:51:52.064Z"
   },
   {
    "duration": 17,
    "start_time": "2024-09-08T01:54:46.374Z"
   },
   {
    "duration": 6,
    "start_time": "2024-09-08T01:55:50.068Z"
   },
   {
    "duration": 6,
    "start_time": "2024-09-08T01:55:52.249Z"
   },
   {
    "duration": 4,
    "start_time": "2024-09-08T01:56:32.977Z"
   },
   {
    "duration": 242,
    "start_time": "2024-09-08T01:58:42.867Z"
   },
   {
    "duration": 8,
    "start_time": "2024-09-08T02:00:50.867Z"
   },
   {
    "duration": 18,
    "start_time": "2024-09-08T02:01:03.322Z"
   },
   {
    "duration": 7,
    "start_time": "2024-09-08T02:01:35.962Z"
   },
   {
    "duration": 14,
    "start_time": "2024-09-08T02:04:06.184Z"
   },
   {
    "duration": 5,
    "start_time": "2024-09-08T02:04:57.467Z"
   },
   {
    "duration": 3,
    "start_time": "2024-09-08T02:07:06.318Z"
   },
   {
    "duration": 5,
    "start_time": "2024-09-08T02:13:19.900Z"
   },
   {
    "duration": 175,
    "start_time": "2024-09-08T02:16:27.050Z"
   },
   {
    "duration": 2,
    "start_time": "2024-09-08T02:16:53.794Z"
   },
   {
    "duration": 156,
    "start_time": "2024-09-08T02:22:04.630Z"
   },
   {
    "duration": 41,
    "start_time": "2024-09-08T02:22:41.447Z"
   },
   {
    "duration": 3,
    "start_time": "2024-09-08T02:23:30.325Z"
   },
   {
    "duration": 4,
    "start_time": "2024-09-08T02:24:26.379Z"
   },
   {
    "duration": 809,
    "start_time": "2024-09-08T02:24:53.851Z"
   },
   {
    "duration": 114,
    "start_time": "2024-09-08T02:25:57.727Z"
   },
   {
    "duration": 11,
    "start_time": "2024-09-08T02:26:35.233Z"
   },
   {
    "duration": 11,
    "start_time": "2024-09-08T02:26:38.328Z"
   },
   {
    "duration": 10,
    "start_time": "2024-09-08T02:26:43.347Z"
   },
   {
    "duration": 11,
    "start_time": "2024-09-08T02:26:47.541Z"
   },
   {
    "duration": 20,
    "start_time": "2024-09-08T02:27:01.586Z"
   },
   {
    "duration": 11,
    "start_time": "2024-09-08T02:27:41.868Z"
   },
   {
    "duration": 10,
    "start_time": "2024-09-08T02:31:17.994Z"
   },
   {
    "duration": 10,
    "start_time": "2024-09-08T02:32:09.427Z"
   },
   {
    "duration": 10,
    "start_time": "2024-09-08T02:34:08.883Z"
   },
   {
    "duration": 159,
    "start_time": "2024-09-08T04:04:59.353Z"
   },
   {
    "duration": 15,
    "start_time": "2024-09-08T04:05:54.128Z"
   },
   {
    "duration": 13,
    "start_time": "2024-09-08T04:08:45.392Z"
   },
   {
    "duration": 21,
    "start_time": "2024-09-08T04:09:01.673Z"
   },
   {
    "duration": 14,
    "start_time": "2024-09-08T04:09:38.277Z"
   },
   {
    "duration": 12,
    "start_time": "2024-09-08T04:14:40.881Z"
   },
   {
    "duration": 33,
    "start_time": "2024-09-08T04:20:13.376Z"
   },
   {
    "duration": 11,
    "start_time": "2024-09-08T04:27:23.842Z"
   },
   {
    "duration": 12,
    "start_time": "2024-09-08T04:28:47.123Z"
   },
   {
    "duration": 333,
    "start_time": "2024-09-08T04:29:08.924Z"
   },
   {
    "duration": 13,
    "start_time": "2024-09-08T04:30:07.035Z"
   },
   {
    "duration": 394,
    "start_time": "2024-09-08T04:31:29.482Z"
   },
   {
    "duration": 125,
    "start_time": "2024-09-08T04:32:44.042Z"
   },
   {
    "duration": 116,
    "start_time": "2024-09-08T04:34:03.516Z"
   },
   {
    "duration": 93,
    "start_time": "2024-09-08T04:34:34.502Z"
   },
   {
    "duration": 3,
    "start_time": "2024-09-08T04:35:49.238Z"
   },
   {
    "duration": 3,
    "start_time": "2024-09-08T04:36:10.732Z"
   },
   {
    "duration": 2,
    "start_time": "2024-09-08T04:36:42.549Z"
   },
   {
    "duration": 2,
    "start_time": "2024-09-08T04:36:55.510Z"
   },
   {
    "duration": 3,
    "start_time": "2024-09-08T04:36:58.455Z"
   },
   {
    "duration": 14,
    "start_time": "2024-09-08T04:37:34.287Z"
   },
   {
    "duration": 3,
    "start_time": "2024-09-08T04:37:42.394Z"
   },
   {
    "duration": 2,
    "start_time": "2024-09-08T04:37:58.666Z"
   },
   {
    "duration": 98,
    "start_time": "2024-09-08T04:38:25.448Z"
   },
   {
    "duration": 89,
    "start_time": "2024-09-08T04:39:11.915Z"
   },
   {
    "duration": 126,
    "start_time": "2024-09-08T04:39:47.376Z"
   },
   {
    "duration": 87,
    "start_time": "2024-09-08T04:39:57.237Z"
   },
   {
    "duration": 88,
    "start_time": "2024-09-08T04:39:59.836Z"
   },
   {
    "duration": 89,
    "start_time": "2024-09-08T04:40:15.874Z"
   },
   {
    "duration": 3,
    "start_time": "2024-09-08T04:40:21.843Z"
   },
   {
    "duration": 29,
    "start_time": "2024-09-08T04:40:33.577Z"
   },
   {
    "duration": 23,
    "start_time": "2024-09-08T04:43:17.184Z"
   },
   {
    "duration": 24,
    "start_time": "2024-09-08T04:45:20.917Z"
   },
   {
    "duration": 7,
    "start_time": "2024-09-08T04:45:44.274Z"
   },
   {
    "duration": 23,
    "start_time": "2024-09-08T04:52:32.427Z"
   },
   {
    "duration": 10,
    "start_time": "2024-09-08T04:52:41.047Z"
   },
   {
    "duration": 7,
    "start_time": "2024-09-08T04:52:48.593Z"
   },
   {
    "duration": 270,
    "start_time": "2024-09-08T04:59:24.385Z"
   },
   {
    "duration": 38,
    "start_time": "2024-09-08T05:00:07.815Z"
   },
   {
    "duration": 5,
    "start_time": "2024-09-08T05:01:28.290Z"
   },
   {
    "duration": 7,
    "start_time": "2024-09-08T05:01:46.853Z"
   },
   {
    "duration": 6,
    "start_time": "2024-09-08T05:02:05.759Z"
   },
   {
    "duration": 8,
    "start_time": "2024-09-08T05:02:21.969Z"
   },
   {
    "duration": 35,
    "start_time": "2024-09-08T05:04:16.418Z"
   },
   {
    "duration": 32,
    "start_time": "2024-09-08T05:04:56.402Z"
   },
   {
    "duration": 45,
    "start_time": "2024-09-08T05:13:49.434Z"
   },
   {
    "duration": 276,
    "start_time": "2024-09-08T05:14:55.407Z"
   },
   {
    "duration": 46,
    "start_time": "2024-09-08T05:17:48.533Z"
   },
   {
    "duration": 15,
    "start_time": "2024-09-08T05:20:35.669Z"
   },
   {
    "duration": 73,
    "start_time": "2024-09-08T05:24:53.107Z"
   },
   {
    "duration": 10,
    "start_time": "2024-09-08T05:28:45.968Z"
   },
   {
    "duration": 20,
    "start_time": "2024-09-08T05:29:44.796Z"
   },
   {
    "duration": 9,
    "start_time": "2024-09-08T05:30:27.700Z"
   },
   {
    "duration": 19,
    "start_time": "2024-09-08T05:31:00.306Z"
   },
   {
    "duration": 35,
    "start_time": "2024-09-08T05:32:12.214Z"
   },
   {
    "duration": 19,
    "start_time": "2024-09-08T05:32:58.700Z"
   },
   {
    "duration": 9,
    "start_time": "2024-09-08T05:33:51.093Z"
   },
   {
    "duration": 8,
    "start_time": "2024-09-08T05:34:34.545Z"
   },
   {
    "duration": 9,
    "start_time": "2024-09-08T05:34:37.115Z"
   },
   {
    "duration": 9,
    "start_time": "2024-09-08T05:35:13.191Z"
   },
   {
    "duration": 9,
    "start_time": "2024-09-08T05:36:19.605Z"
   },
   {
    "duration": 46,
    "start_time": "2024-09-08T05:37:15.958Z"
   },
   {
    "duration": 9,
    "start_time": "2024-09-08T05:37:30.049Z"
   },
   {
    "duration": 46,
    "start_time": "2024-09-08T05:42:45.829Z"
   },
   {
    "duration": 9,
    "start_time": "2024-09-08T05:44:03.564Z"
   },
   {
    "duration": 14,
    "start_time": "2024-09-08T05:45:48.594Z"
   },
   {
    "duration": 10,
    "start_time": "2024-09-08T05:46:03.005Z"
   },
   {
    "duration": 9,
    "start_time": "2024-09-08T05:47:35.807Z"
   },
   {
    "duration": 16,
    "start_time": "2024-09-08T05:48:39.690Z"
   },
   {
    "duration": 3,
    "start_time": "2024-09-08T05:49:08.672Z"
   },
   {
    "duration": 34,
    "start_time": "2024-09-08T05:51:15.679Z"
   },
   {
    "duration": 36,
    "start_time": "2024-09-08T05:51:51.563Z"
   },
   {
    "duration": 9,
    "start_time": "2024-09-08T05:52:03.176Z"
   },
   {
    "duration": 12,
    "start_time": "2024-09-08T05:57:13.860Z"
   },
   {
    "duration": 47,
    "start_time": "2024-09-08T05:58:58.474Z"
   },
   {
    "duration": 19,
    "start_time": "2024-09-08T05:59:18.745Z"
   },
   {
    "duration": 10,
    "start_time": "2024-09-08T05:59:24.279Z"
   },
   {
    "duration": 17,
    "start_time": "2024-09-08T06:02:22.148Z"
   },
   {
    "duration": 9,
    "start_time": "2024-09-08T06:02:45.621Z"
   },
   {
    "duration": 15,
    "start_time": "2024-09-08T06:03:04.609Z"
   },
   {
    "duration": 10,
    "start_time": "2024-09-08T06:04:35.096Z"
   },
   {
    "duration": 15,
    "start_time": "2024-09-08T06:04:48.280Z"
   },
   {
    "duration": 19,
    "start_time": "2024-09-08T06:05:55.170Z"
   },
   {
    "duration": 24,
    "start_time": "2024-09-08T06:06:19.730Z"
   },
   {
    "duration": 6,
    "start_time": "2024-09-08T06:11:30.686Z"
   },
   {
    "duration": 23,
    "start_time": "2024-09-08T06:11:55.273Z"
   },
   {
    "duration": 3,
    "start_time": "2024-09-08T06:16:44.090Z"
   },
   {
    "duration": 21,
    "start_time": "2024-09-08T06:19:52.468Z"
   },
   {
    "duration": 4,
    "start_time": "2024-09-08T06:20:48.328Z"
   },
   {
    "duration": 4,
    "start_time": "2024-09-08T06:21:24.642Z"
   },
   {
    "duration": 4,
    "start_time": "2024-09-08T06:22:19.806Z"
   },
   {
    "duration": 5,
    "start_time": "2024-09-08T06:23:11.028Z"
   },
   {
    "duration": 3,
    "start_time": "2024-09-08T06:24:31.641Z"
   },
   {
    "duration": 68,
    "start_time": "2024-09-08T06:25:09.763Z"
   },
   {
    "duration": 6,
    "start_time": "2024-09-08T06:25:15.893Z"
   },
   {
    "duration": 21,
    "start_time": "2024-09-08T06:25:30.727Z"
   },
   {
    "duration": 18,
    "start_time": "2024-09-08T06:29:59.742Z"
   },
   {
    "duration": 17,
    "start_time": "2024-09-08T06:32:21.074Z"
   },
   {
    "duration": 6,
    "start_time": "2024-09-08T06:33:03.832Z"
   },
   {
    "duration": 16,
    "start_time": "2024-09-08T06:34:38.304Z"
   },
   {
    "duration": 17,
    "start_time": "2024-09-08T06:36:18.864Z"
   },
   {
    "duration": 5,
    "start_time": "2024-09-08T06:37:47.638Z"
   },
   {
    "duration": 6,
    "start_time": "2024-09-08T06:38:37.164Z"
   },
   {
    "duration": 17,
    "start_time": "2024-09-08T06:39:00.580Z"
   },
   {
    "duration": 17,
    "start_time": "2024-09-08T06:41:41.162Z"
   },
   {
    "duration": 16,
    "start_time": "2024-09-08T06:42:11.829Z"
   },
   {
    "duration": 17,
    "start_time": "2024-09-08T06:42:54.469Z"
   },
   {
    "duration": 18,
    "start_time": "2024-09-08T06:43:26.872Z"
   },
   {
    "duration": 15,
    "start_time": "2024-09-08T06:43:52.223Z"
   },
   {
    "duration": 15,
    "start_time": "2024-09-08T06:44:54.322Z"
   },
   {
    "duration": 14,
    "start_time": "2024-09-08T06:45:19.570Z"
   },
   {
    "duration": 18,
    "start_time": "2024-09-08T06:46:19.057Z"
   },
   {
    "duration": 14,
    "start_time": "2024-09-08T06:46:50.281Z"
   },
   {
    "duration": 12,
    "start_time": "2024-09-08T06:52:25.240Z"
   },
   {
    "duration": 7,
    "start_time": "2024-09-08T06:53:21.245Z"
   },
   {
    "duration": 7,
    "start_time": "2024-09-08T06:54:53.992Z"
   },
   {
    "duration": 12,
    "start_time": "2024-09-08T06:55:14.466Z"
   },
   {
    "duration": 12,
    "start_time": "2024-09-08T06:55:17.310Z"
   },
   {
    "duration": 13,
    "start_time": "2024-09-08T06:56:28.832Z"
   },
   {
    "duration": 13,
    "start_time": "2024-09-08T06:57:06.728Z"
   },
   {
    "duration": 13,
    "start_time": "2024-09-08T06:57:42.217Z"
   },
   {
    "duration": 15,
    "start_time": "2024-09-08T07:02:27.011Z"
   },
   {
    "duration": 158,
    "start_time": "2024-09-08T16:41:34.389Z"
   },
   {
    "duration": 13,
    "start_time": "2024-09-08T16:42:09.375Z"
   },
   {
    "duration": 13,
    "start_time": "2024-09-08T16:42:32.133Z"
   },
   {
    "duration": 12,
    "start_time": "2024-09-08T16:43:01.245Z"
   },
   {
    "duration": 12,
    "start_time": "2024-09-08T16:43:54.897Z"
   },
   {
    "duration": 16,
    "start_time": "2024-09-08T16:46:04.652Z"
   },
   {
    "duration": 38,
    "start_time": "2024-09-08T16:46:08.177Z"
   },
   {
    "duration": 17,
    "start_time": "2024-09-08T16:46:41.411Z"
   },
   {
    "duration": 424,
    "start_time": "2024-09-08T16:46:55.997Z"
   },
   {
    "duration": 13,
    "start_time": "2024-09-08T16:47:13.584Z"
   },
   {
    "duration": 14,
    "start_time": "2024-09-08T16:47:34.776Z"
   },
   {
    "duration": 16,
    "start_time": "2024-09-08T16:47:52.008Z"
   },
   {
    "duration": 14,
    "start_time": "2024-09-08T16:48:04.794Z"
   },
   {
    "duration": 12,
    "start_time": "2024-09-08T16:48:18.232Z"
   },
   {
    "duration": 13,
    "start_time": "2024-09-08T16:48:28.446Z"
   },
   {
    "duration": 13,
    "start_time": "2024-09-08T16:48:37.295Z"
   },
   {
    "duration": 10,
    "start_time": "2024-09-09T02:56:54.094Z"
   },
   {
    "duration": 344,
    "start_time": "2024-09-09T02:57:00.309Z"
   },
   {
    "duration": 167,
    "start_time": "2024-09-09T02:57:00.655Z"
   },
   {
    "duration": 97,
    "start_time": "2024-09-09T02:57:00.824Z"
   },
   {
    "duration": 29,
    "start_time": "2024-09-09T02:57:00.923Z"
   },
   {
    "duration": 2,
    "start_time": "2024-09-09T02:57:00.955Z"
   },
   {
    "duration": 4,
    "start_time": "2024-09-09T02:57:00.959Z"
   },
   {
    "duration": 23,
    "start_time": "2024-09-09T02:57:00.965Z"
   },
   {
    "duration": 4,
    "start_time": "2024-09-09T02:57:00.990Z"
   },
   {
    "duration": 3,
    "start_time": "2024-09-09T02:57:00.995Z"
   },
   {
    "duration": 17,
    "start_time": "2024-09-09T02:57:01.000Z"
   },
   {
    "duration": 12,
    "start_time": "2024-09-09T02:57:01.018Z"
   },
   {
    "duration": 16,
    "start_time": "2024-09-09T02:57:01.031Z"
   },
   {
    "duration": 75,
    "start_time": "2024-09-09T02:57:01.049Z"
   },
   {
    "duration": 43,
    "start_time": "2024-09-09T02:57:01.127Z"
   },
   {
    "duration": 5164,
    "start_time": "2024-09-09T02:57:01.171Z"
   },
   {
    "duration": 6,
    "start_time": "2024-09-09T02:57:06.337Z"
   },
   {
    "duration": 8,
    "start_time": "2024-09-09T02:57:06.345Z"
   },
   {
    "duration": 6,
    "start_time": "2024-09-09T02:57:06.355Z"
   },
   {
    "duration": 25,
    "start_time": "2024-09-09T02:57:06.363Z"
   },
   {
    "duration": 8,
    "start_time": "2024-09-09T02:57:06.390Z"
   },
   {
    "duration": 7,
    "start_time": "2024-09-09T02:57:06.400Z"
   },
   {
    "duration": 15,
    "start_time": "2024-09-09T02:57:09.672Z"
   },
   {
    "duration": 13,
    "start_time": "2024-09-09T02:57:11.761Z"
   },
   {
    "duration": 12,
    "start_time": "2024-09-09T02:57:38.034Z"
   }
  ],
  "colab": {
   "collapsed_sections": [
    "E0vqbgi9ay0H",
    "VUC88oWjTJw2"
   ],
   "provenance": []
  },
  "kernelspec": {
   "display_name": "Python 3 (ipykernel)",
   "language": "python",
   "name": "python3"
  },
  "language_info": {
   "codemirror_mode": {
    "name": "ipython",
    "version": 3
   },
   "file_extension": ".py",
   "mimetype": "text/x-python",
   "name": "python",
   "nbconvert_exporter": "python",
   "pygments_lexer": "ipython3",
   "version": "3.10.12"
  },
  "toc": {
   "base_numbering": 1,
   "nav_menu": {},
   "number_sections": true,
   "sideBar": true,
   "skip_h1_title": true,
   "title_cell": "Table of Contents",
   "title_sidebar": "Contents",
   "toc_cell": false,
   "toc_position": {},
   "toc_section_display": true,
   "toc_window_display": false
  }
 },
 "nbformat": 4,
 "nbformat_minor": 4
}
