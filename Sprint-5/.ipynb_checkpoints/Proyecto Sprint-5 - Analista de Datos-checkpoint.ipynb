{
 "cells": [
  {
   "cell_type": "markdown",
   "metadata": {
    "id": "3rYiDeEH0q0f"
   },
   "source": [
    "# ¿Cuál es la mejor tarifa?\n",
    "\n",
    "Trabajas como analista para el operador de telecomunicaciones Megaline. La empresa ofrece a sus clientes dos tarifas de prepago, Surf y Ultimate. El departamento comercial quiere saber cuál de las tarifas genera más ingresos para poder ajustar el presupuesto de publicidad.\n",
    "\n",
    "Vas a realizar un análisis preliminar de las tarifas basado en una selección de clientes relativamente pequeña. Tendrás los datos de 500 clientes de Megaline: quiénes son los clientes, de dónde son, qué tarifa usan, así como la cantidad de llamadas que hicieron y los mensajes de texto que enviaron en 2018. Tu trabajo es analizar el comportamiento de los clientes y determinar qué tarifa de prepago genera más ingresos."
   ]
  },
  {
   "cell_type": "markdown",
   "metadata": {
    "id": "VNddPNRQ0q0w"
   },
   "source": [
    "[Te proporcionamos algunos comentarios para orientarte mientras completas este proyecto. Pero debes asegurarte de eliminar todos los comentarios entre corchetes antes de entregar tu proyecto.]\n",
    "\n",
    "[Antes de sumergirte en el análisis de datos, explica por tu propia cuenta el propósito del proyecto y las acciones que planeas realizar.]\n",
    "\n",
    "[Ten en cuenta que estudiar, modificar y analizar datos es un proceso iterativo. Es normal volver a los pasos anteriores y corregirlos/ampliarlos para permitir nuevos pasos.]"
   ]
  },
  {
   "cell_type": "markdown",
   "metadata": {},
   "source": [
    "## Propósito del proyecto y como abordar"
   ]
  },
  {
   "cell_type": "markdown",
   "metadata": {},
   "source": [
    "Tenemos la empresa de telecomunicaciones Megaline, el cual ofrece ofrece a sus clientes dos tarifas de prepago, Surf y Ultimate. Debemos determinar qué plan en promedio, aporta más ingresos, para ello antes de comenzar a realizar alguna análisis, realizaré una visualización previa de cada una de los dataframes, evaluar si existen valores nulos, duplicados, y si es necesario cambiar algún tipo de dato, de algún campo de nuestro dataframe. A medida que se vaya realizando dicha limpieza, ir haciendo la unión respectiva de los dataframes necesarios para poder llevar acabo el analisis respectivo, de esta menera poder recopilar toda la información para que nuestro dataframe final contenga toda la información de consumo de nuestros usuarios, y poder contar con los ingresos mensuales que genera cada uno de los usuarios, de esta manera ir estudiando el compartamiento de los mismos. Se quiere evaluar el compartamiento de los usuarios tanto para el consumo que realizan en mensajes enviados, duración de llamadas, y gigabytes consumidos mensualmente. Realizar gráficos de barras, de distribución y de caja para nuestro estudio, esto con el fin de visualizar de manera clara y más atractiva la información generada de dichos comportamientos, y finalmente poder concluir con la comprobación de hipótesis."
   ]
  },
  {
   "cell_type": "markdown",
   "metadata": {
    "id": "MQi4IPy70q0y"
   },
   "source": [
    "## Inicialización <a id='inicio'></a>"
   ]
  },
  {
   "cell_type": "code",
   "execution_count": 1,
   "metadata": {
    "id": "MtYIuBxu0q0z"
   },
   "outputs": [],
   "source": [
    "# Cargar todas las librerías\n",
    "\n",
    "import pandas as pd\n",
    "import numpy as np\n",
    "import math as mt\n",
    "import seaborn as sns\n",
    "from matplotlib import pyplot as plt \n",
    "from scipy import stats\n",
    "from matplotlib.ticker import MultipleLocator\n",
    "from scipy.stats import ttest_ind\n",
    "from scipy.stats import mannwhitneyu\n"
   ]
  },
  {
   "cell_type": "markdown",
   "metadata": {
    "id": "4ysWWC5i0q00"
   },
   "source": [
    "## Cargar datos"
   ]
  },
  {
   "cell_type": "code",
   "execution_count": 2,
   "metadata": {
    "id": "CCqPW7rS0q01"
   },
   "outputs": [],
   "source": [
    "# Carga los archivos de datos en diferentes DataFrames\n",
    "\n",
    "calls = pd.read_csv('/datasets/megaline_calls.csv')\n",
    "internet = pd.read_csv('/datasets/megaline_internet.csv')\n",
    "messages = pd.read_csv('/datasets/megaline_messages.csv')\n",
    "plans = pd.read_csv('/datasets/megaline_plans.csv')\n",
    "users = pd.read_csv('/datasets/megaline_users.csv')\n"
   ]
  },
  {
   "cell_type": "markdown",
   "metadata": {
    "id": "69qqoJ3r0q01"
   },
   "source": [
    "## Preparar los datos"
   ]
  },
  {
   "cell_type": "markdown",
   "metadata": {
    "id": "ohBhimvH0q01"
   },
   "source": [
    "## Tarifas"
   ]
  },
  {
   "cell_type": "code",
   "execution_count": 3,
   "metadata": {
    "id": "GptqP3Q40q02"
   },
   "outputs": [
    {
     "name": "stdout",
     "output_type": "stream",
     "text": [
      "<class 'pandas.core.frame.DataFrame'>\n",
      "RangeIndex: 2 entries, 0 to 1\n",
      "Data columns (total 8 columns):\n",
      " #   Column                 Non-Null Count  Dtype  \n",
      "---  ------                 --------------  -----  \n",
      " 0   messages_included      2 non-null      int64  \n",
      " 1   mb_per_month_included  2 non-null      int64  \n",
      " 2   minutes_included       2 non-null      int64  \n",
      " 3   usd_monthly_pay        2 non-null      int64  \n",
      " 4   usd_per_gb             2 non-null      int64  \n",
      " 5   usd_per_message        2 non-null      float64\n",
      " 6   usd_per_minute         2 non-null      float64\n",
      " 7   plan_name              2 non-null      object \n",
      "dtypes: float64(2), int64(5), object(1)\n",
      "memory usage: 256.0+ bytes\n"
     ]
    }
   ],
   "source": [
    "# Imprime la información general/resumida sobre el DataFrame de las tarifas\n",
    "\n",
    "plans.info()\n"
   ]
  },
  {
   "cell_type": "code",
   "execution_count": 4,
   "metadata": {
    "id": "64xzjwL70q02"
   },
   "outputs": [
    {
     "data": {
      "text/html": [
       "<div>\n",
       "<style scoped>\n",
       "    .dataframe tbody tr th:only-of-type {\n",
       "        vertical-align: middle;\n",
       "    }\n",
       "\n",
       "    .dataframe tbody tr th {\n",
       "        vertical-align: top;\n",
       "    }\n",
       "\n",
       "    .dataframe thead th {\n",
       "        text-align: right;\n",
       "    }\n",
       "</style>\n",
       "<table border=\"1\" class=\"dataframe\">\n",
       "  <thead>\n",
       "    <tr style=\"text-align: right;\">\n",
       "      <th></th>\n",
       "      <th>messages_included</th>\n",
       "      <th>mb_per_month_included</th>\n",
       "      <th>minutes_included</th>\n",
       "      <th>usd_monthly_pay</th>\n",
       "      <th>usd_per_gb</th>\n",
       "      <th>usd_per_message</th>\n",
       "      <th>usd_per_minute</th>\n",
       "      <th>plan_name</th>\n",
       "    </tr>\n",
       "  </thead>\n",
       "  <tbody>\n",
       "    <tr>\n",
       "      <th>0</th>\n",
       "      <td>50</td>\n",
       "      <td>15360</td>\n",
       "      <td>500</td>\n",
       "      <td>20</td>\n",
       "      <td>10</td>\n",
       "      <td>0.03</td>\n",
       "      <td>0.03</td>\n",
       "      <td>surf</td>\n",
       "    </tr>\n",
       "    <tr>\n",
       "      <th>1</th>\n",
       "      <td>1000</td>\n",
       "      <td>30720</td>\n",
       "      <td>3000</td>\n",
       "      <td>70</td>\n",
       "      <td>7</td>\n",
       "      <td>0.01</td>\n",
       "      <td>0.01</td>\n",
       "      <td>ultimate</td>\n",
       "    </tr>\n",
       "  </tbody>\n",
       "</table>\n",
       "</div>"
      ],
      "text/plain": [
       "   messages_included  mb_per_month_included  minutes_included  \\\n",
       "0                 50                  15360               500   \n",
       "1               1000                  30720              3000   \n",
       "\n",
       "   usd_monthly_pay  usd_per_gb  usd_per_message  usd_per_minute plan_name  \n",
       "0               20          10             0.03            0.03      surf  \n",
       "1               70           7             0.01            0.01  ultimate  "
      ]
     },
     "execution_count": 4,
     "metadata": {},
     "output_type": "execute_result"
    }
   ],
   "source": [
    "# Imprime una muestra de los datos para las tarifas\n",
    "\n",
    "plans.head()\n"
   ]
  },
  {
   "cell_type": "markdown",
   "metadata": {
    "id": "mEc_3_hs0q02"
   },
   "source": [
    "**Comentarios:** Observamos que existen solos 2 planes, y nos muestra lo que incluye cada plan, tanto en  cantidad de mensajes incluidos, megabytes incluidos, minutos incluidos, costo del plan, precio por gigabytes, precio por mensaje,  precio por minuto y nombre del plan. Podemos observar de forma preliminar que vamos a necesitar en consumo por gigabytes de nuestros clientes, ya que tenemos precio por gigabytes y no en megabytes, y vamos a requerirlo para calcular el ingreso que genera cada uno de nuestros clientes mensualmente en su plan."
   ]
  },
  {
   "cell_type": "markdown",
   "metadata": {},
   "source": [
    "### Corregir Datos"
   ]
  },
  {
   "cell_type": "markdown",
   "metadata": {},
   "source": [
    "**Comentario:** En este caso solo contamos 2 filas para esta tabla, los tipos de datos se encuentra bien como estan, no es necesario realizar algún cambio de momento para esta dataframe."
   ]
  },
  {
   "cell_type": "markdown",
   "metadata": {},
   "source": [
    "### Enriquecer Datos"
   ]
  },
  {
   "cell_type": "markdown",
   "metadata": {},
   "source": [
    "**Comentario:** En este caso solo contamos 2 filas para esta tabla, los tipos de datos se encuentra bien como estan, no es necesario realizar algún cambio de momento para esta dataframe."
   ]
  },
  {
   "cell_type": "markdown",
   "metadata": {
    "id": "1n2X6WXf0q04"
   },
   "source": [
    "## Usuarios/as"
   ]
  },
  {
   "cell_type": "code",
   "execution_count": 5,
   "metadata": {
    "id": "2NgjWFqx0q05"
   },
   "outputs": [
    {
     "name": "stdout",
     "output_type": "stream",
     "text": [
      "<class 'pandas.core.frame.DataFrame'>\n",
      "RangeIndex: 500 entries, 0 to 499\n",
      "Data columns (total 8 columns):\n",
      " #   Column      Non-Null Count  Dtype \n",
      "---  ------      --------------  ----- \n",
      " 0   user_id     500 non-null    int64 \n",
      " 1   first_name  500 non-null    object\n",
      " 2   last_name   500 non-null    object\n",
      " 3   age         500 non-null    int64 \n",
      " 4   city        500 non-null    object\n",
      " 5   reg_date    500 non-null    object\n",
      " 6   plan        500 non-null    object\n",
      " 7   churn_date  34 non-null     object\n",
      "dtypes: int64(2), object(6)\n",
      "memory usage: 31.4+ KB\n"
     ]
    }
   ],
   "source": [
    "# Imprime la información general/resumida sobre el DataFrame de usuarios\n",
    "\n",
    "users.info()"
   ]
  },
  {
   "cell_type": "code",
   "execution_count": 6,
   "metadata": {
    "id": "1IN1L9uh0q05"
   },
   "outputs": [
    {
     "data": {
      "text/html": [
       "<div>\n",
       "<style scoped>\n",
       "    .dataframe tbody tr th:only-of-type {\n",
       "        vertical-align: middle;\n",
       "    }\n",
       "\n",
       "    .dataframe tbody tr th {\n",
       "        vertical-align: top;\n",
       "    }\n",
       "\n",
       "    .dataframe thead th {\n",
       "        text-align: right;\n",
       "    }\n",
       "</style>\n",
       "<table border=\"1\" class=\"dataframe\">\n",
       "  <thead>\n",
       "    <tr style=\"text-align: right;\">\n",
       "      <th></th>\n",
       "      <th>user_id</th>\n",
       "      <th>first_name</th>\n",
       "      <th>last_name</th>\n",
       "      <th>age</th>\n",
       "      <th>city</th>\n",
       "      <th>reg_date</th>\n",
       "      <th>plan</th>\n",
       "      <th>churn_date</th>\n",
       "    </tr>\n",
       "  </thead>\n",
       "  <tbody>\n",
       "    <tr>\n",
       "      <th>0</th>\n",
       "      <td>1000</td>\n",
       "      <td>Anamaria</td>\n",
       "      <td>Bauer</td>\n",
       "      <td>45</td>\n",
       "      <td>Atlanta-Sandy Springs-Roswell, GA MSA</td>\n",
       "      <td>2018-12-24</td>\n",
       "      <td>ultimate</td>\n",
       "      <td>NaN</td>\n",
       "    </tr>\n",
       "    <tr>\n",
       "      <th>1</th>\n",
       "      <td>1001</td>\n",
       "      <td>Mickey</td>\n",
       "      <td>Wilkerson</td>\n",
       "      <td>28</td>\n",
       "      <td>Seattle-Tacoma-Bellevue, WA MSA</td>\n",
       "      <td>2018-08-13</td>\n",
       "      <td>surf</td>\n",
       "      <td>NaN</td>\n",
       "    </tr>\n",
       "    <tr>\n",
       "      <th>2</th>\n",
       "      <td>1002</td>\n",
       "      <td>Carlee</td>\n",
       "      <td>Hoffman</td>\n",
       "      <td>36</td>\n",
       "      <td>Las Vegas-Henderson-Paradise, NV MSA</td>\n",
       "      <td>2018-10-21</td>\n",
       "      <td>surf</td>\n",
       "      <td>NaN</td>\n",
       "    </tr>\n",
       "    <tr>\n",
       "      <th>3</th>\n",
       "      <td>1003</td>\n",
       "      <td>Reynaldo</td>\n",
       "      <td>Jenkins</td>\n",
       "      <td>52</td>\n",
       "      <td>Tulsa, OK MSA</td>\n",
       "      <td>2018-01-28</td>\n",
       "      <td>surf</td>\n",
       "      <td>NaN</td>\n",
       "    </tr>\n",
       "    <tr>\n",
       "      <th>4</th>\n",
       "      <td>1004</td>\n",
       "      <td>Leonila</td>\n",
       "      <td>Thompson</td>\n",
       "      <td>40</td>\n",
       "      <td>Seattle-Tacoma-Bellevue, WA MSA</td>\n",
       "      <td>2018-05-23</td>\n",
       "      <td>surf</td>\n",
       "      <td>NaN</td>\n",
       "    </tr>\n",
       "    <tr>\n",
       "      <th>5</th>\n",
       "      <td>1005</td>\n",
       "      <td>Livia</td>\n",
       "      <td>Shields</td>\n",
       "      <td>31</td>\n",
       "      <td>Dallas-Fort Worth-Arlington, TX MSA</td>\n",
       "      <td>2018-11-29</td>\n",
       "      <td>surf</td>\n",
       "      <td>NaN</td>\n",
       "    </tr>\n",
       "    <tr>\n",
       "      <th>6</th>\n",
       "      <td>1006</td>\n",
       "      <td>Jesusa</td>\n",
       "      <td>Bradford</td>\n",
       "      <td>73</td>\n",
       "      <td>San Francisco-Oakland-Berkeley, CA MSA</td>\n",
       "      <td>2018-11-27</td>\n",
       "      <td>ultimate</td>\n",
       "      <td>2018-12-18</td>\n",
       "    </tr>\n",
       "    <tr>\n",
       "      <th>7</th>\n",
       "      <td>1007</td>\n",
       "      <td>Eusebio</td>\n",
       "      <td>Welch</td>\n",
       "      <td>42</td>\n",
       "      <td>Grand Rapids-Kentwood, MI MSA</td>\n",
       "      <td>2018-07-11</td>\n",
       "      <td>surf</td>\n",
       "      <td>NaN</td>\n",
       "    </tr>\n",
       "    <tr>\n",
       "      <th>8</th>\n",
       "      <td>1008</td>\n",
       "      <td>Emely</td>\n",
       "      <td>Hoffman</td>\n",
       "      <td>53</td>\n",
       "      <td>Orlando-Kissimmee-Sanford, FL MSA</td>\n",
       "      <td>2018-08-03</td>\n",
       "      <td>ultimate</td>\n",
       "      <td>NaN</td>\n",
       "    </tr>\n",
       "    <tr>\n",
       "      <th>9</th>\n",
       "      <td>1009</td>\n",
       "      <td>Gerry</td>\n",
       "      <td>Little</td>\n",
       "      <td>19</td>\n",
       "      <td>San Jose-Sunnyvale-Santa Clara, CA MSA</td>\n",
       "      <td>2018-04-22</td>\n",
       "      <td>surf</td>\n",
       "      <td>NaN</td>\n",
       "    </tr>\n",
       "    <tr>\n",
       "      <th>10</th>\n",
       "      <td>1010</td>\n",
       "      <td>Wilber</td>\n",
       "      <td>Blair</td>\n",
       "      <td>52</td>\n",
       "      <td>Dallas-Fort Worth-Arlington, TX MSA</td>\n",
       "      <td>2018-03-09</td>\n",
       "      <td>surf</td>\n",
       "      <td>NaN</td>\n",
       "    </tr>\n",
       "    <tr>\n",
       "      <th>11</th>\n",
       "      <td>1011</td>\n",
       "      <td>Halina</td>\n",
       "      <td>Henry</td>\n",
       "      <td>73</td>\n",
       "      <td>Cleveland-Elyria, OH MSA</td>\n",
       "      <td>2018-01-18</td>\n",
       "      <td>ultimate</td>\n",
       "      <td>NaN</td>\n",
       "    </tr>\n",
       "    <tr>\n",
       "      <th>12</th>\n",
       "      <td>1012</td>\n",
       "      <td>Jonelle</td>\n",
       "      <td>Mcbride</td>\n",
       "      <td>59</td>\n",
       "      <td>Chicago-Naperville-Elgin, IL-IN-WI MSA</td>\n",
       "      <td>2018-06-28</td>\n",
       "      <td>surf</td>\n",
       "      <td>2018-11-16</td>\n",
       "    </tr>\n",
       "    <tr>\n",
       "      <th>13</th>\n",
       "      <td>1013</td>\n",
       "      <td>Nicolas</td>\n",
       "      <td>Snider</td>\n",
       "      <td>50</td>\n",
       "      <td>Knoxville, TN MSA</td>\n",
       "      <td>2018-12-01</td>\n",
       "      <td>ultimate</td>\n",
       "      <td>NaN</td>\n",
       "    </tr>\n",
       "    <tr>\n",
       "      <th>14</th>\n",
       "      <td>1014</td>\n",
       "      <td>Edmundo</td>\n",
       "      <td>Simon</td>\n",
       "      <td>61</td>\n",
       "      <td>New York-Newark-Jersey City, NY-NJ-PA MSA</td>\n",
       "      <td>2018-11-25</td>\n",
       "      <td>surf</td>\n",
       "      <td>NaN</td>\n",
       "    </tr>\n",
       "    <tr>\n",
       "      <th>15</th>\n",
       "      <td>1015</td>\n",
       "      <td>Beata</td>\n",
       "      <td>Carpenter</td>\n",
       "      <td>26</td>\n",
       "      <td>Pittsburgh, PA MSA</td>\n",
       "      <td>2018-12-05</td>\n",
       "      <td>surf</td>\n",
       "      <td>NaN</td>\n",
       "    </tr>\n",
       "    <tr>\n",
       "      <th>16</th>\n",
       "      <td>1016</td>\n",
       "      <td>Jann</td>\n",
       "      <td>Salinas</td>\n",
       "      <td>30</td>\n",
       "      <td>Fresno, CA MSA</td>\n",
       "      <td>2018-10-25</td>\n",
       "      <td>surf</td>\n",
       "      <td>NaN</td>\n",
       "    </tr>\n",
       "    <tr>\n",
       "      <th>17</th>\n",
       "      <td>1017</td>\n",
       "      <td>Boris</td>\n",
       "      <td>Gates</td>\n",
       "      <td>61</td>\n",
       "      <td>Washington-Arlington-Alexandria, DC-VA-MD-WV MSA</td>\n",
       "      <td>2018-08-26</td>\n",
       "      <td>surf</td>\n",
       "      <td>NaN</td>\n",
       "    </tr>\n",
       "    <tr>\n",
       "      <th>18</th>\n",
       "      <td>1018</td>\n",
       "      <td>Dennis</td>\n",
       "      <td>Grimes</td>\n",
       "      <td>70</td>\n",
       "      <td>Indianapolis-Carmel-Anderson, IN MSA</td>\n",
       "      <td>2018-10-17</td>\n",
       "      <td>surf</td>\n",
       "      <td>NaN</td>\n",
       "    </tr>\n",
       "    <tr>\n",
       "      <th>19</th>\n",
       "      <td>1019</td>\n",
       "      <td>Shizue</td>\n",
       "      <td>Landry</td>\n",
       "      <td>34</td>\n",
       "      <td>Jacksonville, FL MSA</td>\n",
       "      <td>2018-01-16</td>\n",
       "      <td>surf</td>\n",
       "      <td>NaN</td>\n",
       "    </tr>\n",
       "  </tbody>\n",
       "</table>\n",
       "</div>"
      ],
      "text/plain": [
       "    user_id first_name  last_name  age  \\\n",
       "0      1000   Anamaria      Bauer   45   \n",
       "1      1001     Mickey  Wilkerson   28   \n",
       "2      1002     Carlee    Hoffman   36   \n",
       "3      1003   Reynaldo    Jenkins   52   \n",
       "4      1004    Leonila   Thompson   40   \n",
       "5      1005      Livia    Shields   31   \n",
       "6      1006     Jesusa   Bradford   73   \n",
       "7      1007    Eusebio      Welch   42   \n",
       "8      1008      Emely    Hoffman   53   \n",
       "9      1009      Gerry     Little   19   \n",
       "10     1010     Wilber      Blair   52   \n",
       "11     1011     Halina      Henry   73   \n",
       "12     1012    Jonelle    Mcbride   59   \n",
       "13     1013    Nicolas     Snider   50   \n",
       "14     1014    Edmundo      Simon   61   \n",
       "15     1015      Beata  Carpenter   26   \n",
       "16     1016       Jann    Salinas   30   \n",
       "17     1017      Boris      Gates   61   \n",
       "18     1018     Dennis     Grimes   70   \n",
       "19     1019     Shizue     Landry   34   \n",
       "\n",
       "                                                city    reg_date      plan  \\\n",
       "0              Atlanta-Sandy Springs-Roswell, GA MSA  2018-12-24  ultimate   \n",
       "1                    Seattle-Tacoma-Bellevue, WA MSA  2018-08-13      surf   \n",
       "2               Las Vegas-Henderson-Paradise, NV MSA  2018-10-21      surf   \n",
       "3                                      Tulsa, OK MSA  2018-01-28      surf   \n",
       "4                    Seattle-Tacoma-Bellevue, WA MSA  2018-05-23      surf   \n",
       "5                Dallas-Fort Worth-Arlington, TX MSA  2018-11-29      surf   \n",
       "6             San Francisco-Oakland-Berkeley, CA MSA  2018-11-27  ultimate   \n",
       "7                      Grand Rapids-Kentwood, MI MSA  2018-07-11      surf   \n",
       "8                  Orlando-Kissimmee-Sanford, FL MSA  2018-08-03  ultimate   \n",
       "9             San Jose-Sunnyvale-Santa Clara, CA MSA  2018-04-22      surf   \n",
       "10               Dallas-Fort Worth-Arlington, TX MSA  2018-03-09      surf   \n",
       "11                          Cleveland-Elyria, OH MSA  2018-01-18  ultimate   \n",
       "12            Chicago-Naperville-Elgin, IL-IN-WI MSA  2018-06-28      surf   \n",
       "13                                 Knoxville, TN MSA  2018-12-01  ultimate   \n",
       "14         New York-Newark-Jersey City, NY-NJ-PA MSA  2018-11-25      surf   \n",
       "15                                Pittsburgh, PA MSA  2018-12-05      surf   \n",
       "16                                    Fresno, CA MSA  2018-10-25      surf   \n",
       "17  Washington-Arlington-Alexandria, DC-VA-MD-WV MSA  2018-08-26      surf   \n",
       "18              Indianapolis-Carmel-Anderson, IN MSA  2018-10-17      surf   \n",
       "19                              Jacksonville, FL MSA  2018-01-16      surf   \n",
       "\n",
       "    churn_date  \n",
       "0          NaN  \n",
       "1          NaN  \n",
       "2          NaN  \n",
       "3          NaN  \n",
       "4          NaN  \n",
       "5          NaN  \n",
       "6   2018-12-18  \n",
       "7          NaN  \n",
       "8          NaN  \n",
       "9          NaN  \n",
       "10         NaN  \n",
       "11         NaN  \n",
       "12  2018-11-16  \n",
       "13         NaN  \n",
       "14         NaN  \n",
       "15         NaN  \n",
       "16         NaN  \n",
       "17         NaN  \n",
       "18         NaN  \n",
       "19         NaN  "
      ]
     },
     "execution_count": 6,
     "metadata": {},
     "output_type": "execute_result"
    }
   ],
   "source": [
    "# Imprime una muestra de datos para usuarios\n",
    "\n",
    "users.head(n=20)"
   ]
  },
  {
   "cell_type": "markdown",
   "metadata": {
    "id": "dCZoUq4f0q06"
   },
   "source": [
    "**Comentario:** En este caso los valores nulos, representa aquellos usuarios con servicio activo (no han abandonando el servicio), son usuarios activos. Sin embargo haremos ajuste a estos valores nulos más adelante, para nuestra tabla final, ya que tenemos que realizar uniones primeramente entre algunas tablas."
   ]
  },
  {
   "cell_type": "markdown",
   "metadata": {
    "id": "BX5FQh_I0q06"
   },
   "source": [
    "### Corregir los datos"
   ]
  },
  {
   "cell_type": "code",
   "execution_count": 7,
   "metadata": {},
   "outputs": [
    {
     "data": {
      "text/plain": [
       "0"
      ]
     },
     "execution_count": 7,
     "metadata": {},
     "output_type": "execute_result"
    }
   ],
   "source": [
    "#Verificando si hay duplicados\n",
    "\n",
    "users.duplicated(keep=False).sum()"
   ]
  },
  {
   "cell_type": "code",
   "execution_count": 8,
   "metadata": {},
   "outputs": [
    {
     "data": {
      "text/plain": [
       "user_id         0\n",
       "first_name      0\n",
       "last_name       0\n",
       "age             0\n",
       "city            0\n",
       "reg_date        0\n",
       "plan            0\n",
       "churn_date    466\n",
       "dtype: int64"
      ]
     },
     "execution_count": 8,
     "metadata": {},
     "output_type": "execute_result"
    }
   ],
   "source": [
    "#Verificando si hay valores nulos\n",
    "\n",
    "users.isna().sum()"
   ]
  },
  {
   "cell_type": "markdown",
   "metadata": {},
   "source": [
    "**Comentario:** En este caso los valores nulos, representa aquellos usuarios con servicio activo (no han abandonando el servicio), son usuarios activos. Sin embargo haremos ajuste a estos valores nulos más adelante, para nuestra tabla final, ya que tenemos que realizar uniones primeramente entre algunas tablas."
   ]
  },
  {
   "cell_type": "code",
   "execution_count": 9,
   "metadata": {
    "id": "yUqX-K0C0q07"
   },
   "outputs": [
    {
     "data": {
      "text/html": [
       "<div>\n",
       "<style scoped>\n",
       "    .dataframe tbody tr th:only-of-type {\n",
       "        vertical-align: middle;\n",
       "    }\n",
       "\n",
       "    .dataframe tbody tr th {\n",
       "        vertical-align: top;\n",
       "    }\n",
       "\n",
       "    .dataframe thead th {\n",
       "        text-align: right;\n",
       "    }\n",
       "</style>\n",
       "<table border=\"1\" class=\"dataframe\">\n",
       "  <thead>\n",
       "    <tr style=\"text-align: right;\">\n",
       "      <th></th>\n",
       "      <th>user_id</th>\n",
       "      <th>first_name</th>\n",
       "      <th>last_name</th>\n",
       "      <th>age</th>\n",
       "      <th>city</th>\n",
       "      <th>reg_date</th>\n",
       "      <th>plan</th>\n",
       "      <th>churn_date</th>\n",
       "    </tr>\n",
       "  </thead>\n",
       "  <tbody>\n",
       "    <tr>\n",
       "      <th>0</th>\n",
       "      <td>1000</td>\n",
       "      <td>Anamaria</td>\n",
       "      <td>Bauer</td>\n",
       "      <td>45</td>\n",
       "      <td>Atlanta-Sandy Springs-Roswell, GA MSA</td>\n",
       "      <td>2018-12-24</td>\n",
       "      <td>ultimate</td>\n",
       "      <td>NaN</td>\n",
       "    </tr>\n",
       "    <tr>\n",
       "      <th>1</th>\n",
       "      <td>1001</td>\n",
       "      <td>Mickey</td>\n",
       "      <td>Wilkerson</td>\n",
       "      <td>28</td>\n",
       "      <td>Seattle-Tacoma-Bellevue, WA MSA</td>\n",
       "      <td>2018-08-13</td>\n",
       "      <td>surf</td>\n",
       "      <td>NaN</td>\n",
       "    </tr>\n",
       "    <tr>\n",
       "      <th>2</th>\n",
       "      <td>1002</td>\n",
       "      <td>Carlee</td>\n",
       "      <td>Hoffman</td>\n",
       "      <td>36</td>\n",
       "      <td>Las Vegas-Henderson-Paradise, NV MSA</td>\n",
       "      <td>2018-10-21</td>\n",
       "      <td>surf</td>\n",
       "      <td>NaN</td>\n",
       "    </tr>\n",
       "    <tr>\n",
       "      <th>3</th>\n",
       "      <td>1003</td>\n",
       "      <td>Reynaldo</td>\n",
       "      <td>Jenkins</td>\n",
       "      <td>52</td>\n",
       "      <td>Tulsa, OK MSA</td>\n",
       "      <td>2018-01-28</td>\n",
       "      <td>surf</td>\n",
       "      <td>NaN</td>\n",
       "    </tr>\n",
       "    <tr>\n",
       "      <th>4</th>\n",
       "      <td>1004</td>\n",
       "      <td>Leonila</td>\n",
       "      <td>Thompson</td>\n",
       "      <td>40</td>\n",
       "      <td>Seattle-Tacoma-Bellevue, WA MSA</td>\n",
       "      <td>2018-05-23</td>\n",
       "      <td>surf</td>\n",
       "      <td>NaN</td>\n",
       "    </tr>\n",
       "    <tr>\n",
       "      <th>...</th>\n",
       "      <td>...</td>\n",
       "      <td>...</td>\n",
       "      <td>...</td>\n",
       "      <td>...</td>\n",
       "      <td>...</td>\n",
       "      <td>...</td>\n",
       "      <td>...</td>\n",
       "      <td>...</td>\n",
       "    </tr>\n",
       "    <tr>\n",
       "      <th>495</th>\n",
       "      <td>1495</td>\n",
       "      <td>Fidel</td>\n",
       "      <td>Sharpe</td>\n",
       "      <td>67</td>\n",
       "      <td>New York-Newark-Jersey City, NY-NJ-PA MSA</td>\n",
       "      <td>2018-09-04</td>\n",
       "      <td>surf</td>\n",
       "      <td>NaN</td>\n",
       "    </tr>\n",
       "    <tr>\n",
       "      <th>496</th>\n",
       "      <td>1496</td>\n",
       "      <td>Ariel</td>\n",
       "      <td>Shepherd</td>\n",
       "      <td>49</td>\n",
       "      <td>New Orleans-Metairie, LA MSA</td>\n",
       "      <td>2018-02-20</td>\n",
       "      <td>surf</td>\n",
       "      <td>NaN</td>\n",
       "    </tr>\n",
       "    <tr>\n",
       "      <th>497</th>\n",
       "      <td>1497</td>\n",
       "      <td>Donte</td>\n",
       "      <td>Barrera</td>\n",
       "      <td>49</td>\n",
       "      <td>Los Angeles-Long Beach-Anaheim, CA MSA</td>\n",
       "      <td>2018-12-10</td>\n",
       "      <td>ultimate</td>\n",
       "      <td>NaN</td>\n",
       "    </tr>\n",
       "    <tr>\n",
       "      <th>498</th>\n",
       "      <td>1498</td>\n",
       "      <td>Scot</td>\n",
       "      <td>Williamson</td>\n",
       "      <td>51</td>\n",
       "      <td>New York-Newark-Jersey City, NY-NJ-PA MSA</td>\n",
       "      <td>2018-02-04</td>\n",
       "      <td>surf</td>\n",
       "      <td>NaN</td>\n",
       "    </tr>\n",
       "    <tr>\n",
       "      <th>499</th>\n",
       "      <td>1499</td>\n",
       "      <td>Shena</td>\n",
       "      <td>Dickson</td>\n",
       "      <td>37</td>\n",
       "      <td>Orlando-Kissimmee-Sanford, FL MSA</td>\n",
       "      <td>2018-05-06</td>\n",
       "      <td>surf</td>\n",
       "      <td>NaN</td>\n",
       "    </tr>\n",
       "  </tbody>\n",
       "</table>\n",
       "<p>500 rows × 8 columns</p>\n",
       "</div>"
      ],
      "text/plain": [
       "     user_id first_name   last_name  age  \\\n",
       "0       1000   Anamaria       Bauer   45   \n",
       "1       1001     Mickey   Wilkerson   28   \n",
       "2       1002     Carlee     Hoffman   36   \n",
       "3       1003   Reynaldo     Jenkins   52   \n",
       "4       1004    Leonila    Thompson   40   \n",
       "..       ...        ...         ...  ...   \n",
       "495     1495      Fidel      Sharpe   67   \n",
       "496     1496      Ariel    Shepherd   49   \n",
       "497     1497      Donte     Barrera   49   \n",
       "498     1498       Scot  Williamson   51   \n",
       "499     1499      Shena     Dickson   37   \n",
       "\n",
       "                                          city   reg_date      plan churn_date  \n",
       "0        Atlanta-Sandy Springs-Roswell, GA MSA 2018-12-24  ultimate        NaN  \n",
       "1              Seattle-Tacoma-Bellevue, WA MSA 2018-08-13      surf        NaN  \n",
       "2         Las Vegas-Henderson-Paradise, NV MSA 2018-10-21      surf        NaN  \n",
       "3                                Tulsa, OK MSA 2018-01-28      surf        NaN  \n",
       "4              Seattle-Tacoma-Bellevue, WA MSA 2018-05-23      surf        NaN  \n",
       "..                                         ...        ...       ...        ...  \n",
       "495  New York-Newark-Jersey City, NY-NJ-PA MSA 2018-09-04      surf        NaN  \n",
       "496               New Orleans-Metairie, LA MSA 2018-02-20      surf        NaN  \n",
       "497     Los Angeles-Long Beach-Anaheim, CA MSA 2018-12-10  ultimate        NaN  \n",
       "498  New York-Newark-Jersey City, NY-NJ-PA MSA 2018-02-04      surf        NaN  \n",
       "499          Orlando-Kissimmee-Sanford, FL MSA 2018-05-06      surf        NaN  \n",
       "\n",
       "[500 rows x 8 columns]"
      ]
     },
     "metadata": {},
     "output_type": "display_data"
    }
   ],
   "source": [
    "users_conv = users.copy()\n",
    "\n",
    "# Convertimos campo 'reg_date' en datetime\n",
    "\n",
    "users_conv['reg_date'] = pd.to_datetime(users_conv['reg_date'])\n",
    "\n",
    "display(users_conv)\n"
   ]
  },
  {
   "cell_type": "markdown",
   "metadata": {
    "id": "ycwuARJp0q07"
   },
   "source": [
    "### Enriquecer los datos"
   ]
  },
  {
   "cell_type": "code",
   "execution_count": 10,
   "metadata": {},
   "outputs": [],
   "source": [
    "# Creamos columna nueva llamada plan_name\n",
    "\n",
    "users_conv['plan_name'] = users_conv['plan']\n",
    "\n",
    "# Eliminamos columna plan, ya que creamos una nueva llamada plan_name\n",
    "\n",
    "users_conv=users_conv.drop('plan',axis=1)"
   ]
  },
  {
   "cell_type": "markdown",
   "metadata": {},
   "source": [
    "**Comentario:** Realizamos cambio de nombre del campo plan, ya que el dataframe de plan(donde se encuentra las tarifas)\n",
    "    este campo se llama plan, y para realizar a futuro alguna union entre dataframes deseamos que se llamen de la misma manera."
   ]
  },
  {
   "cell_type": "code",
   "execution_count": 11,
   "metadata": {},
   "outputs": [],
   "source": [
    "#Convertimos campo 'churn_date' en fecha, sin alterar los existentes\n",
    "\n",
    "users_conv['churn_date']= pd.to_datetime(users_conv['churn_date'])\n"
   ]
  },
  {
   "cell_type": "code",
   "execution_count": 12,
   "metadata": {},
   "outputs": [
    {
     "data": {
      "text/html": [
       "<div>\n",
       "<style scoped>\n",
       "    .dataframe tbody tr th:only-of-type {\n",
       "        vertical-align: middle;\n",
       "    }\n",
       "\n",
       "    .dataframe tbody tr th {\n",
       "        vertical-align: top;\n",
       "    }\n",
       "\n",
       "    .dataframe thead th {\n",
       "        text-align: right;\n",
       "    }\n",
       "</style>\n",
       "<table border=\"1\" class=\"dataframe\">\n",
       "  <thead>\n",
       "    <tr style=\"text-align: right;\">\n",
       "      <th></th>\n",
       "      <th>user_id</th>\n",
       "      <th>first_name</th>\n",
       "      <th>last_name</th>\n",
       "      <th>age</th>\n",
       "      <th>city</th>\n",
       "      <th>reg_date</th>\n",
       "      <th>churn_date</th>\n",
       "      <th>plan_name</th>\n",
       "    </tr>\n",
       "  </thead>\n",
       "  <tbody>\n",
       "    <tr>\n",
       "      <th>0</th>\n",
       "      <td>1000</td>\n",
       "      <td>Anamaria</td>\n",
       "      <td>Bauer</td>\n",
       "      <td>45</td>\n",
       "      <td>Atlanta-Sandy Springs-Roswell, GA MSA</td>\n",
       "      <td>2018-12-24</td>\n",
       "      <td>NaT</td>\n",
       "      <td>ultimate</td>\n",
       "    </tr>\n",
       "    <tr>\n",
       "      <th>1</th>\n",
       "      <td>1001</td>\n",
       "      <td>Mickey</td>\n",
       "      <td>Wilkerson</td>\n",
       "      <td>28</td>\n",
       "      <td>Seattle-Tacoma-Bellevue, WA MSA</td>\n",
       "      <td>2018-08-13</td>\n",
       "      <td>NaT</td>\n",
       "      <td>surf</td>\n",
       "    </tr>\n",
       "    <tr>\n",
       "      <th>2</th>\n",
       "      <td>1002</td>\n",
       "      <td>Carlee</td>\n",
       "      <td>Hoffman</td>\n",
       "      <td>36</td>\n",
       "      <td>Las Vegas-Henderson-Paradise, NV MSA</td>\n",
       "      <td>2018-10-21</td>\n",
       "      <td>NaT</td>\n",
       "      <td>surf</td>\n",
       "    </tr>\n",
       "    <tr>\n",
       "      <th>3</th>\n",
       "      <td>1003</td>\n",
       "      <td>Reynaldo</td>\n",
       "      <td>Jenkins</td>\n",
       "      <td>52</td>\n",
       "      <td>Tulsa, OK MSA</td>\n",
       "      <td>2018-01-28</td>\n",
       "      <td>NaT</td>\n",
       "      <td>surf</td>\n",
       "    </tr>\n",
       "    <tr>\n",
       "      <th>4</th>\n",
       "      <td>1004</td>\n",
       "      <td>Leonila</td>\n",
       "      <td>Thompson</td>\n",
       "      <td>40</td>\n",
       "      <td>Seattle-Tacoma-Bellevue, WA MSA</td>\n",
       "      <td>2018-05-23</td>\n",
       "      <td>NaT</td>\n",
       "      <td>surf</td>\n",
       "    </tr>\n",
       "    <tr>\n",
       "      <th>5</th>\n",
       "      <td>1005</td>\n",
       "      <td>Livia</td>\n",
       "      <td>Shields</td>\n",
       "      <td>31</td>\n",
       "      <td>Dallas-Fort Worth-Arlington, TX MSA</td>\n",
       "      <td>2018-11-29</td>\n",
       "      <td>NaT</td>\n",
       "      <td>surf</td>\n",
       "    </tr>\n",
       "    <tr>\n",
       "      <th>6</th>\n",
       "      <td>1006</td>\n",
       "      <td>Jesusa</td>\n",
       "      <td>Bradford</td>\n",
       "      <td>73</td>\n",
       "      <td>San Francisco-Oakland-Berkeley, CA MSA</td>\n",
       "      <td>2018-11-27</td>\n",
       "      <td>2018-12-18</td>\n",
       "      <td>ultimate</td>\n",
       "    </tr>\n",
       "    <tr>\n",
       "      <th>7</th>\n",
       "      <td>1007</td>\n",
       "      <td>Eusebio</td>\n",
       "      <td>Welch</td>\n",
       "      <td>42</td>\n",
       "      <td>Grand Rapids-Kentwood, MI MSA</td>\n",
       "      <td>2018-07-11</td>\n",
       "      <td>NaT</td>\n",
       "      <td>surf</td>\n",
       "    </tr>\n",
       "    <tr>\n",
       "      <th>8</th>\n",
       "      <td>1008</td>\n",
       "      <td>Emely</td>\n",
       "      <td>Hoffman</td>\n",
       "      <td>53</td>\n",
       "      <td>Orlando-Kissimmee-Sanford, FL MSA</td>\n",
       "      <td>2018-08-03</td>\n",
       "      <td>NaT</td>\n",
       "      <td>ultimate</td>\n",
       "    </tr>\n",
       "    <tr>\n",
       "      <th>9</th>\n",
       "      <td>1009</td>\n",
       "      <td>Gerry</td>\n",
       "      <td>Little</td>\n",
       "      <td>19</td>\n",
       "      <td>San Jose-Sunnyvale-Santa Clara, CA MSA</td>\n",
       "      <td>2018-04-22</td>\n",
       "      <td>NaT</td>\n",
       "      <td>surf</td>\n",
       "    </tr>\n",
       "  </tbody>\n",
       "</table>\n",
       "</div>"
      ],
      "text/plain": [
       "   user_id first_name  last_name  age                                    city  \\\n",
       "0     1000   Anamaria      Bauer   45   Atlanta-Sandy Springs-Roswell, GA MSA   \n",
       "1     1001     Mickey  Wilkerson   28         Seattle-Tacoma-Bellevue, WA MSA   \n",
       "2     1002     Carlee    Hoffman   36    Las Vegas-Henderson-Paradise, NV MSA   \n",
       "3     1003   Reynaldo    Jenkins   52                           Tulsa, OK MSA   \n",
       "4     1004    Leonila   Thompson   40         Seattle-Tacoma-Bellevue, WA MSA   \n",
       "5     1005      Livia    Shields   31     Dallas-Fort Worth-Arlington, TX MSA   \n",
       "6     1006     Jesusa   Bradford   73  San Francisco-Oakland-Berkeley, CA MSA   \n",
       "7     1007    Eusebio      Welch   42           Grand Rapids-Kentwood, MI MSA   \n",
       "8     1008      Emely    Hoffman   53       Orlando-Kissimmee-Sanford, FL MSA   \n",
       "9     1009      Gerry     Little   19  San Jose-Sunnyvale-Santa Clara, CA MSA   \n",
       "\n",
       "    reg_date churn_date plan_name  \n",
       "0 2018-12-24        NaT  ultimate  \n",
       "1 2018-08-13        NaT      surf  \n",
       "2 2018-10-21        NaT      surf  \n",
       "3 2018-01-28        NaT      surf  \n",
       "4 2018-05-23        NaT      surf  \n",
       "5 2018-11-29        NaT      surf  \n",
       "6 2018-11-27 2018-12-18  ultimate  \n",
       "7 2018-07-11        NaT      surf  \n",
       "8 2018-08-03        NaT  ultimate  \n",
       "9 2018-04-22        NaT      surf  "
      ]
     },
     "execution_count": 12,
     "metadata": {},
     "output_type": "execute_result"
    }
   ],
   "source": [
    "users_clean = users_conv\n",
    "users_clean.head(n=10)"
   ]
  },
  {
   "cell_type": "markdown",
   "metadata": {},
   "source": [
    "**Comentario:** En te caso se generaron valores NaT en churn_date esto puede generarse cuando se trabaja con pd.to_datetime. De igual manera estos valores NaT seran tratados en nuestra tabla final que contendra todo los campos necesarios para estudiar el compartamiento de los usuarios."
   ]
  },
  {
   "cell_type": "code",
   "execution_count": 13,
   "metadata": {},
   "outputs": [
    {
     "data": {
      "text/html": [
       "<div>\n",
       "<style scoped>\n",
       "    .dataframe tbody tr th:only-of-type {\n",
       "        vertical-align: middle;\n",
       "    }\n",
       "\n",
       "    .dataframe tbody tr th {\n",
       "        vertical-align: top;\n",
       "    }\n",
       "\n",
       "    .dataframe thead th {\n",
       "        text-align: right;\n",
       "    }\n",
       "</style>\n",
       "<table border=\"1\" class=\"dataframe\">\n",
       "  <thead>\n",
       "    <tr style=\"text-align: right;\">\n",
       "      <th></th>\n",
       "      <th>user_id</th>\n",
       "      <th>first_name</th>\n",
       "      <th>last_name</th>\n",
       "      <th>age</th>\n",
       "      <th>city</th>\n",
       "      <th>reg_date</th>\n",
       "      <th>churn_date</th>\n",
       "      <th>plan_name</th>\n",
       "      <th>messages_included</th>\n",
       "      <th>mb_per_month_included</th>\n",
       "      <th>minutes_included</th>\n",
       "      <th>usd_monthly_pay</th>\n",
       "      <th>usd_per_gb</th>\n",
       "      <th>usd_per_message</th>\n",
       "      <th>usd_per_minute</th>\n",
       "    </tr>\n",
       "  </thead>\n",
       "  <tbody>\n",
       "    <tr>\n",
       "      <th>0</th>\n",
       "      <td>1000</td>\n",
       "      <td>Anamaria</td>\n",
       "      <td>Bauer</td>\n",
       "      <td>45</td>\n",
       "      <td>Atlanta-Sandy Springs-Roswell, GA MSA</td>\n",
       "      <td>2018-12-24</td>\n",
       "      <td>NaT</td>\n",
       "      <td>ultimate</td>\n",
       "      <td>1000</td>\n",
       "      <td>30720</td>\n",
       "      <td>3000</td>\n",
       "      <td>70</td>\n",
       "      <td>7</td>\n",
       "      <td>0.01</td>\n",
       "      <td>0.01</td>\n",
       "    </tr>\n",
       "    <tr>\n",
       "      <th>1</th>\n",
       "      <td>1006</td>\n",
       "      <td>Jesusa</td>\n",
       "      <td>Bradford</td>\n",
       "      <td>73</td>\n",
       "      <td>San Francisco-Oakland-Berkeley, CA MSA</td>\n",
       "      <td>2018-11-27</td>\n",
       "      <td>2018-12-18</td>\n",
       "      <td>ultimate</td>\n",
       "      <td>1000</td>\n",
       "      <td>30720</td>\n",
       "      <td>3000</td>\n",
       "      <td>70</td>\n",
       "      <td>7</td>\n",
       "      <td>0.01</td>\n",
       "      <td>0.01</td>\n",
       "    </tr>\n",
       "    <tr>\n",
       "      <th>2</th>\n",
       "      <td>1008</td>\n",
       "      <td>Emely</td>\n",
       "      <td>Hoffman</td>\n",
       "      <td>53</td>\n",
       "      <td>Orlando-Kissimmee-Sanford, FL MSA</td>\n",
       "      <td>2018-08-03</td>\n",
       "      <td>NaT</td>\n",
       "      <td>ultimate</td>\n",
       "      <td>1000</td>\n",
       "      <td>30720</td>\n",
       "      <td>3000</td>\n",
       "      <td>70</td>\n",
       "      <td>7</td>\n",
       "      <td>0.01</td>\n",
       "      <td>0.01</td>\n",
       "    </tr>\n",
       "    <tr>\n",
       "      <th>3</th>\n",
       "      <td>1011</td>\n",
       "      <td>Halina</td>\n",
       "      <td>Henry</td>\n",
       "      <td>73</td>\n",
       "      <td>Cleveland-Elyria, OH MSA</td>\n",
       "      <td>2018-01-18</td>\n",
       "      <td>NaT</td>\n",
       "      <td>ultimate</td>\n",
       "      <td>1000</td>\n",
       "      <td>30720</td>\n",
       "      <td>3000</td>\n",
       "      <td>70</td>\n",
       "      <td>7</td>\n",
       "      <td>0.01</td>\n",
       "      <td>0.01</td>\n",
       "    </tr>\n",
       "    <tr>\n",
       "      <th>4</th>\n",
       "      <td>1013</td>\n",
       "      <td>Nicolas</td>\n",
       "      <td>Snider</td>\n",
       "      <td>50</td>\n",
       "      <td>Knoxville, TN MSA</td>\n",
       "      <td>2018-12-01</td>\n",
       "      <td>NaT</td>\n",
       "      <td>ultimate</td>\n",
       "      <td>1000</td>\n",
       "      <td>30720</td>\n",
       "      <td>3000</td>\n",
       "      <td>70</td>\n",
       "      <td>7</td>\n",
       "      <td>0.01</td>\n",
       "      <td>0.01</td>\n",
       "    </tr>\n",
       "    <tr>\n",
       "      <th>5</th>\n",
       "      <td>1025</td>\n",
       "      <td>Jess</td>\n",
       "      <td>Wilkinson</td>\n",
       "      <td>64</td>\n",
       "      <td>Atlanta-Sandy Springs-Roswell, GA MSA</td>\n",
       "      <td>2018-10-28</td>\n",
       "      <td>NaT</td>\n",
       "      <td>ultimate</td>\n",
       "      <td>1000</td>\n",
       "      <td>30720</td>\n",
       "      <td>3000</td>\n",
       "      <td>70</td>\n",
       "      <td>7</td>\n",
       "      <td>0.01</td>\n",
       "      <td>0.01</td>\n",
       "    </tr>\n",
       "    <tr>\n",
       "      <th>6</th>\n",
       "      <td>1026</td>\n",
       "      <td>Meggan</td>\n",
       "      <td>Hamilton</td>\n",
       "      <td>49</td>\n",
       "      <td>Houston-The Woodlands-Sugar Land, TX MSA</td>\n",
       "      <td>2018-07-20</td>\n",
       "      <td>NaT</td>\n",
       "      <td>ultimate</td>\n",
       "      <td>1000</td>\n",
       "      <td>30720</td>\n",
       "      <td>3000</td>\n",
       "      <td>70</td>\n",
       "      <td>7</td>\n",
       "      <td>0.01</td>\n",
       "      <td>0.01</td>\n",
       "    </tr>\n",
       "    <tr>\n",
       "      <th>7</th>\n",
       "      <td>1028</td>\n",
       "      <td>Jefferey</td>\n",
       "      <td>Rasmussen</td>\n",
       "      <td>57</td>\n",
       "      <td>Philadelphia-Camden-Wilmington, PA-NJ-DE-MD MSA</td>\n",
       "      <td>2018-02-21</td>\n",
       "      <td>NaT</td>\n",
       "      <td>ultimate</td>\n",
       "      <td>1000</td>\n",
       "      <td>30720</td>\n",
       "      <td>3000</td>\n",
       "      <td>70</td>\n",
       "      <td>7</td>\n",
       "      <td>0.01</td>\n",
       "      <td>0.01</td>\n",
       "    </tr>\n",
       "    <tr>\n",
       "      <th>8</th>\n",
       "      <td>1030</td>\n",
       "      <td>Chase</td>\n",
       "      <td>Kane</td>\n",
       "      <td>30</td>\n",
       "      <td>Chicago-Naperville-Elgin, IL-IN-WI MSA</td>\n",
       "      <td>2018-02-14</td>\n",
       "      <td>NaT</td>\n",
       "      <td>ultimate</td>\n",
       "      <td>1000</td>\n",
       "      <td>30720</td>\n",
       "      <td>3000</td>\n",
       "      <td>70</td>\n",
       "      <td>7</td>\n",
       "      <td>0.01</td>\n",
       "      <td>0.01</td>\n",
       "    </tr>\n",
       "    <tr>\n",
       "      <th>9</th>\n",
       "      <td>1031</td>\n",
       "      <td>Lane</td>\n",
       "      <td>Martin</td>\n",
       "      <td>52</td>\n",
       "      <td>New York-Newark-Jersey City, NY-NJ-PA MSA</td>\n",
       "      <td>2018-07-15</td>\n",
       "      <td>NaT</td>\n",
       "      <td>ultimate</td>\n",
       "      <td>1000</td>\n",
       "      <td>30720</td>\n",
       "      <td>3000</td>\n",
       "      <td>70</td>\n",
       "      <td>7</td>\n",
       "      <td>0.01</td>\n",
       "      <td>0.01</td>\n",
       "    </tr>\n",
       "  </tbody>\n",
       "</table>\n",
       "</div>"
      ],
      "text/plain": [
       "   user_id first_name  last_name  age  \\\n",
       "0     1000   Anamaria      Bauer   45   \n",
       "1     1006     Jesusa   Bradford   73   \n",
       "2     1008      Emely    Hoffman   53   \n",
       "3     1011     Halina      Henry   73   \n",
       "4     1013    Nicolas     Snider   50   \n",
       "5     1025       Jess  Wilkinson   64   \n",
       "6     1026     Meggan   Hamilton   49   \n",
       "7     1028   Jefferey  Rasmussen   57   \n",
       "8     1030      Chase       Kane   30   \n",
       "9     1031       Lane     Martin   52   \n",
       "\n",
       "                                              city   reg_date churn_date  \\\n",
       "0            Atlanta-Sandy Springs-Roswell, GA MSA 2018-12-24        NaT   \n",
       "1           San Francisco-Oakland-Berkeley, CA MSA 2018-11-27 2018-12-18   \n",
       "2                Orlando-Kissimmee-Sanford, FL MSA 2018-08-03        NaT   \n",
       "3                         Cleveland-Elyria, OH MSA 2018-01-18        NaT   \n",
       "4                                Knoxville, TN MSA 2018-12-01        NaT   \n",
       "5            Atlanta-Sandy Springs-Roswell, GA MSA 2018-10-28        NaT   \n",
       "6         Houston-The Woodlands-Sugar Land, TX MSA 2018-07-20        NaT   \n",
       "7  Philadelphia-Camden-Wilmington, PA-NJ-DE-MD MSA 2018-02-21        NaT   \n",
       "8           Chicago-Naperville-Elgin, IL-IN-WI MSA 2018-02-14        NaT   \n",
       "9        New York-Newark-Jersey City, NY-NJ-PA MSA 2018-07-15        NaT   \n",
       "\n",
       "  plan_name  messages_included  mb_per_month_included  minutes_included  \\\n",
       "0  ultimate               1000                  30720              3000   \n",
       "1  ultimate               1000                  30720              3000   \n",
       "2  ultimate               1000                  30720              3000   \n",
       "3  ultimate               1000                  30720              3000   \n",
       "4  ultimate               1000                  30720              3000   \n",
       "5  ultimate               1000                  30720              3000   \n",
       "6  ultimate               1000                  30720              3000   \n",
       "7  ultimate               1000                  30720              3000   \n",
       "8  ultimate               1000                  30720              3000   \n",
       "9  ultimate               1000                  30720              3000   \n",
       "\n",
       "   usd_monthly_pay  usd_per_gb  usd_per_message  usd_per_minute  \n",
       "0               70           7             0.01            0.01  \n",
       "1               70           7             0.01            0.01  \n",
       "2               70           7             0.01            0.01  \n",
       "3               70           7             0.01            0.01  \n",
       "4               70           7             0.01            0.01  \n",
       "5               70           7             0.01            0.01  \n",
       "6               70           7             0.01            0.01  \n",
       "7               70           7             0.01            0.01  \n",
       "8               70           7             0.01            0.01  \n",
       "9               70           7             0.01            0.01  "
      ]
     },
     "execution_count": 13,
     "metadata": {},
     "output_type": "execute_result"
    }
   ],
   "source": [
    "# Realizamos union de la dataframe users_clean con plans de tipo how='outer', ya que nos interesa toda la informacion \n",
    "# de ambos dataframes sin excluir ninguna informacion\n",
    "\n",
    "users_plans = pd.merge(users_clean, plans, on='plan_name', how='outer')\n",
    "\n",
    "users_plans.head(n=10)"
   ]
  },
  {
   "cell_type": "markdown",
   "metadata": {
    "id": "o7MeKCid0q08"
   },
   "source": [
    "## Llamadas"
   ]
  },
  {
   "cell_type": "code",
   "execution_count": 14,
   "metadata": {
    "id": "6dDlnoDm0q08"
   },
   "outputs": [
    {
     "name": "stdout",
     "output_type": "stream",
     "text": [
      "<class 'pandas.core.frame.DataFrame'>\n",
      "RangeIndex: 137735 entries, 0 to 137734\n",
      "Data columns (total 4 columns):\n",
      " #   Column     Non-Null Count   Dtype  \n",
      "---  ------     --------------   -----  \n",
      " 0   id         137735 non-null  object \n",
      " 1   user_id    137735 non-null  int64  \n",
      " 2   call_date  137735 non-null  object \n",
      " 3   duration   137735 non-null  float64\n",
      "dtypes: float64(1), int64(1), object(2)\n",
      "memory usage: 4.2+ MB\n"
     ]
    }
   ],
   "source": [
    "# Imprime la información general/resumida sobre el DataFrame de las llamadas\n",
    "\n",
    "calls.info()"
   ]
  },
  {
   "cell_type": "code",
   "execution_count": 15,
   "metadata": {
    "id": "kuh1vlNB0q09"
   },
   "outputs": [
    {
     "data": {
      "text/html": [
       "<div>\n",
       "<style scoped>\n",
       "    .dataframe tbody tr th:only-of-type {\n",
       "        vertical-align: middle;\n",
       "    }\n",
       "\n",
       "    .dataframe tbody tr th {\n",
       "        vertical-align: top;\n",
       "    }\n",
       "\n",
       "    .dataframe thead th {\n",
       "        text-align: right;\n",
       "    }\n",
       "</style>\n",
       "<table border=\"1\" class=\"dataframe\">\n",
       "  <thead>\n",
       "    <tr style=\"text-align: right;\">\n",
       "      <th></th>\n",
       "      <th>id</th>\n",
       "      <th>user_id</th>\n",
       "      <th>call_date</th>\n",
       "      <th>duration</th>\n",
       "    </tr>\n",
       "  </thead>\n",
       "  <tbody>\n",
       "    <tr>\n",
       "      <th>0</th>\n",
       "      <td>1000_93</td>\n",
       "      <td>1000</td>\n",
       "      <td>2018-12-27</td>\n",
       "      <td>8.52</td>\n",
       "    </tr>\n",
       "    <tr>\n",
       "      <th>1</th>\n",
       "      <td>1000_145</td>\n",
       "      <td>1000</td>\n",
       "      <td>2018-12-27</td>\n",
       "      <td>13.66</td>\n",
       "    </tr>\n",
       "    <tr>\n",
       "      <th>2</th>\n",
       "      <td>1000_247</td>\n",
       "      <td>1000</td>\n",
       "      <td>2018-12-27</td>\n",
       "      <td>14.48</td>\n",
       "    </tr>\n",
       "    <tr>\n",
       "      <th>3</th>\n",
       "      <td>1000_309</td>\n",
       "      <td>1000</td>\n",
       "      <td>2018-12-28</td>\n",
       "      <td>5.76</td>\n",
       "    </tr>\n",
       "    <tr>\n",
       "      <th>4</th>\n",
       "      <td>1000_380</td>\n",
       "      <td>1000</td>\n",
       "      <td>2018-12-30</td>\n",
       "      <td>4.22</td>\n",
       "    </tr>\n",
       "    <tr>\n",
       "      <th>5</th>\n",
       "      <td>1000_388</td>\n",
       "      <td>1000</td>\n",
       "      <td>2018-12-31</td>\n",
       "      <td>2.20</td>\n",
       "    </tr>\n",
       "    <tr>\n",
       "      <th>6</th>\n",
       "      <td>1000_510</td>\n",
       "      <td>1000</td>\n",
       "      <td>2018-12-27</td>\n",
       "      <td>5.75</td>\n",
       "    </tr>\n",
       "    <tr>\n",
       "      <th>7</th>\n",
       "      <td>1000_521</td>\n",
       "      <td>1000</td>\n",
       "      <td>2018-12-28</td>\n",
       "      <td>14.18</td>\n",
       "    </tr>\n",
       "    <tr>\n",
       "      <th>8</th>\n",
       "      <td>1000_530</td>\n",
       "      <td>1000</td>\n",
       "      <td>2018-12-28</td>\n",
       "      <td>5.77</td>\n",
       "    </tr>\n",
       "    <tr>\n",
       "      <th>9</th>\n",
       "      <td>1000_544</td>\n",
       "      <td>1000</td>\n",
       "      <td>2018-12-26</td>\n",
       "      <td>4.40</td>\n",
       "    </tr>\n",
       "    <tr>\n",
       "      <th>10</th>\n",
       "      <td>1000_693</td>\n",
       "      <td>1000</td>\n",
       "      <td>2018-12-31</td>\n",
       "      <td>4.31</td>\n",
       "    </tr>\n",
       "    <tr>\n",
       "      <th>11</th>\n",
       "      <td>1000_705</td>\n",
       "      <td>1000</td>\n",
       "      <td>2018-12-31</td>\n",
       "      <td>12.78</td>\n",
       "    </tr>\n",
       "    <tr>\n",
       "      <th>12</th>\n",
       "      <td>1000_735</td>\n",
       "      <td>1000</td>\n",
       "      <td>2018-12-29</td>\n",
       "      <td>1.70</td>\n",
       "    </tr>\n",
       "    <tr>\n",
       "      <th>13</th>\n",
       "      <td>1000_778</td>\n",
       "      <td>1000</td>\n",
       "      <td>2018-12-28</td>\n",
       "      <td>3.29</td>\n",
       "    </tr>\n",
       "    <tr>\n",
       "      <th>14</th>\n",
       "      <td>1000_826</td>\n",
       "      <td>1000</td>\n",
       "      <td>2018-12-26</td>\n",
       "      <td>9.96</td>\n",
       "    </tr>\n",
       "    <tr>\n",
       "      <th>15</th>\n",
       "      <td>1000_842</td>\n",
       "      <td>1000</td>\n",
       "      <td>2018-12-27</td>\n",
       "      <td>5.85</td>\n",
       "    </tr>\n",
       "    <tr>\n",
       "      <th>16</th>\n",
       "      <td>1001_0</td>\n",
       "      <td>1001</td>\n",
       "      <td>2018-09-06</td>\n",
       "      <td>10.06</td>\n",
       "    </tr>\n",
       "    <tr>\n",
       "      <th>17</th>\n",
       "      <td>1001_1</td>\n",
       "      <td>1001</td>\n",
       "      <td>2018-10-12</td>\n",
       "      <td>1.00</td>\n",
       "    </tr>\n",
       "    <tr>\n",
       "      <th>18</th>\n",
       "      <td>1001_2</td>\n",
       "      <td>1001</td>\n",
       "      <td>2018-10-17</td>\n",
       "      <td>15.83</td>\n",
       "    </tr>\n",
       "    <tr>\n",
       "      <th>19</th>\n",
       "      <td>1001_4</td>\n",
       "      <td>1001</td>\n",
       "      <td>2018-12-05</td>\n",
       "      <td>0.00</td>\n",
       "    </tr>\n",
       "  </tbody>\n",
       "</table>\n",
       "</div>"
      ],
      "text/plain": [
       "          id  user_id   call_date  duration\n",
       "0    1000_93     1000  2018-12-27      8.52\n",
       "1   1000_145     1000  2018-12-27     13.66\n",
       "2   1000_247     1000  2018-12-27     14.48\n",
       "3   1000_309     1000  2018-12-28      5.76\n",
       "4   1000_380     1000  2018-12-30      4.22\n",
       "5   1000_388     1000  2018-12-31      2.20\n",
       "6   1000_510     1000  2018-12-27      5.75\n",
       "7   1000_521     1000  2018-12-28     14.18\n",
       "8   1000_530     1000  2018-12-28      5.77\n",
       "9   1000_544     1000  2018-12-26      4.40\n",
       "10  1000_693     1000  2018-12-31      4.31\n",
       "11  1000_705     1000  2018-12-31     12.78\n",
       "12  1000_735     1000  2018-12-29      1.70\n",
       "13  1000_778     1000  2018-12-28      3.29\n",
       "14  1000_826     1000  2018-12-26      9.96\n",
       "15  1000_842     1000  2018-12-27      5.85\n",
       "16    1001_0     1001  2018-09-06     10.06\n",
       "17    1001_1     1001  2018-10-12      1.00\n",
       "18    1001_2     1001  2018-10-17     15.83\n",
       "19    1001_4     1001  2018-12-05      0.00"
      ]
     },
     "execution_count": 15,
     "metadata": {},
     "output_type": "execute_result"
    }
   ],
   "source": [
    "# Imprime una muestra de datos para las llamadas\n",
    "\n",
    "calls.head(n=20)"
   ]
  },
  {
   "cell_type": "markdown",
   "metadata": {
    "id": "DOAxYJSx0q09"
   },
   "source": [
    "**Comentario:** Duración de llamadas seran redondeadas más adelante, en nuestra tabla final, ya que tratemos los valores nulos o NaT de nuestro dataframe definitivo.\n"
   ]
  },
  {
   "cell_type": "markdown",
   "metadata": {
    "id": "S7hzxmbX0q0-"
   },
   "source": [
    "### Corregir los datos"
   ]
  },
  {
   "cell_type": "code",
   "execution_count": 16,
   "metadata": {},
   "outputs": [
    {
     "data": {
      "text/plain": [
       "0"
      ]
     },
     "execution_count": 16,
     "metadata": {},
     "output_type": "execute_result"
    }
   ],
   "source": [
    "# Verificando si hay duplicados\n",
    "\n",
    "calls.duplicated(keep=False).sum()"
   ]
  },
  {
   "cell_type": "code",
   "execution_count": 17,
   "metadata": {},
   "outputs": [
    {
     "data": {
      "text/plain": [
       "id           0\n",
       "user_id      0\n",
       "call_date    0\n",
       "duration     0\n",
       "dtype: int64"
      ]
     },
     "execution_count": 17,
     "metadata": {},
     "output_type": "execute_result"
    }
   ],
   "source": [
    "# Verificando si hay valores nulos\n",
    "\n",
    "calls.isna().sum()"
   ]
  },
  {
   "cell_type": "code",
   "execution_count": 18,
   "metadata": {},
   "outputs": [],
   "source": [
    "# Convertimos campo 'call_date' en datetime\n",
    "\n",
    "calls_clean = calls.copy()\n",
    "\n",
    "calls_clean['call_date'] = pd.to_datetime(calls_clean['call_date'])"
   ]
  },
  {
   "cell_type": "markdown",
   "metadata": {
    "id": "KrMgTrlG0q0_"
   },
   "source": [
    "### Enriquecer los datos"
   ]
  },
  {
   "cell_type": "code",
   "execution_count": 19,
   "metadata": {
    "id": "iZ1avpA_0q0_"
   },
   "outputs": [
    {
     "name": "stdout",
     "output_type": "stream",
     "text": [
      "<class 'pandas.core.frame.DataFrame'>\n",
      "RangeIndex: 137735 entries, 0 to 137734\n",
      "Data columns (total 4 columns):\n",
      " #   Column     Non-Null Count   Dtype         \n",
      "---  ------     --------------   -----         \n",
      " 0   id         137735 non-null  object        \n",
      " 1   user_id    137735 non-null  int64         \n",
      " 2   call_date  137735 non-null  datetime64[ns]\n",
      " 3   duration   137735 non-null  float64       \n",
      "dtypes: datetime64[ns](1), float64(1), int64(1), object(1)\n",
      "memory usage: 4.2+ MB\n"
     ]
    }
   ],
   "source": [
    "# Verificando los cambios en el tipo de datos \n",
    "\n",
    "calls_clean.info()"
   ]
  },
  {
   "cell_type": "code",
   "execution_count": 20,
   "metadata": {},
   "outputs": [
    {
     "data": {
      "text/html": [
       "<div>\n",
       "<style scoped>\n",
       "    .dataframe tbody tr th:only-of-type {\n",
       "        vertical-align: middle;\n",
       "    }\n",
       "\n",
       "    .dataframe tbody tr th {\n",
       "        vertical-align: top;\n",
       "    }\n",
       "\n",
       "    .dataframe thead th {\n",
       "        text-align: right;\n",
       "    }\n",
       "</style>\n",
       "<table border=\"1\" class=\"dataframe\">\n",
       "  <thead>\n",
       "    <tr style=\"text-align: right;\">\n",
       "      <th></th>\n",
       "      <th>user_id</th>\n",
       "      <th>first_name</th>\n",
       "      <th>last_name</th>\n",
       "      <th>age</th>\n",
       "      <th>city</th>\n",
       "      <th>reg_date</th>\n",
       "      <th>churn_date</th>\n",
       "      <th>plan_name</th>\n",
       "      <th>id</th>\n",
       "      <th>call_date</th>\n",
       "      <th>duration</th>\n",
       "    </tr>\n",
       "  </thead>\n",
       "  <tbody>\n",
       "    <tr>\n",
       "      <th>0</th>\n",
       "      <td>1000</td>\n",
       "      <td>Anamaria</td>\n",
       "      <td>Bauer</td>\n",
       "      <td>45</td>\n",
       "      <td>Atlanta-Sandy Springs-Roswell, GA MSA</td>\n",
       "      <td>2018-12-24</td>\n",
       "      <td>NaT</td>\n",
       "      <td>ultimate</td>\n",
       "      <td>1000_93</td>\n",
       "      <td>2018-12-27</td>\n",
       "      <td>8.52</td>\n",
       "    </tr>\n",
       "    <tr>\n",
       "      <th>1</th>\n",
       "      <td>1000</td>\n",
       "      <td>Anamaria</td>\n",
       "      <td>Bauer</td>\n",
       "      <td>45</td>\n",
       "      <td>Atlanta-Sandy Springs-Roswell, GA MSA</td>\n",
       "      <td>2018-12-24</td>\n",
       "      <td>NaT</td>\n",
       "      <td>ultimate</td>\n",
       "      <td>1000_145</td>\n",
       "      <td>2018-12-27</td>\n",
       "      <td>13.66</td>\n",
       "    </tr>\n",
       "    <tr>\n",
       "      <th>2</th>\n",
       "      <td>1000</td>\n",
       "      <td>Anamaria</td>\n",
       "      <td>Bauer</td>\n",
       "      <td>45</td>\n",
       "      <td>Atlanta-Sandy Springs-Roswell, GA MSA</td>\n",
       "      <td>2018-12-24</td>\n",
       "      <td>NaT</td>\n",
       "      <td>ultimate</td>\n",
       "      <td>1000_247</td>\n",
       "      <td>2018-12-27</td>\n",
       "      <td>14.48</td>\n",
       "    </tr>\n",
       "    <tr>\n",
       "      <th>3</th>\n",
       "      <td>1000</td>\n",
       "      <td>Anamaria</td>\n",
       "      <td>Bauer</td>\n",
       "      <td>45</td>\n",
       "      <td>Atlanta-Sandy Springs-Roswell, GA MSA</td>\n",
       "      <td>2018-12-24</td>\n",
       "      <td>NaT</td>\n",
       "      <td>ultimate</td>\n",
       "      <td>1000_309</td>\n",
       "      <td>2018-12-28</td>\n",
       "      <td>5.76</td>\n",
       "    </tr>\n",
       "    <tr>\n",
       "      <th>4</th>\n",
       "      <td>1000</td>\n",
       "      <td>Anamaria</td>\n",
       "      <td>Bauer</td>\n",
       "      <td>45</td>\n",
       "      <td>Atlanta-Sandy Springs-Roswell, GA MSA</td>\n",
       "      <td>2018-12-24</td>\n",
       "      <td>NaT</td>\n",
       "      <td>ultimate</td>\n",
       "      <td>1000_380</td>\n",
       "      <td>2018-12-30</td>\n",
       "      <td>4.22</td>\n",
       "    </tr>\n",
       "    <tr>\n",
       "      <th>5</th>\n",
       "      <td>1000</td>\n",
       "      <td>Anamaria</td>\n",
       "      <td>Bauer</td>\n",
       "      <td>45</td>\n",
       "      <td>Atlanta-Sandy Springs-Roswell, GA MSA</td>\n",
       "      <td>2018-12-24</td>\n",
       "      <td>NaT</td>\n",
       "      <td>ultimate</td>\n",
       "      <td>1000_388</td>\n",
       "      <td>2018-12-31</td>\n",
       "      <td>2.20</td>\n",
       "    </tr>\n",
       "    <tr>\n",
       "      <th>6</th>\n",
       "      <td>1000</td>\n",
       "      <td>Anamaria</td>\n",
       "      <td>Bauer</td>\n",
       "      <td>45</td>\n",
       "      <td>Atlanta-Sandy Springs-Roswell, GA MSA</td>\n",
       "      <td>2018-12-24</td>\n",
       "      <td>NaT</td>\n",
       "      <td>ultimate</td>\n",
       "      <td>1000_510</td>\n",
       "      <td>2018-12-27</td>\n",
       "      <td>5.75</td>\n",
       "    </tr>\n",
       "    <tr>\n",
       "      <th>7</th>\n",
       "      <td>1000</td>\n",
       "      <td>Anamaria</td>\n",
       "      <td>Bauer</td>\n",
       "      <td>45</td>\n",
       "      <td>Atlanta-Sandy Springs-Roswell, GA MSA</td>\n",
       "      <td>2018-12-24</td>\n",
       "      <td>NaT</td>\n",
       "      <td>ultimate</td>\n",
       "      <td>1000_521</td>\n",
       "      <td>2018-12-28</td>\n",
       "      <td>14.18</td>\n",
       "    </tr>\n",
       "    <tr>\n",
       "      <th>8</th>\n",
       "      <td>1000</td>\n",
       "      <td>Anamaria</td>\n",
       "      <td>Bauer</td>\n",
       "      <td>45</td>\n",
       "      <td>Atlanta-Sandy Springs-Roswell, GA MSA</td>\n",
       "      <td>2018-12-24</td>\n",
       "      <td>NaT</td>\n",
       "      <td>ultimate</td>\n",
       "      <td>1000_530</td>\n",
       "      <td>2018-12-28</td>\n",
       "      <td>5.77</td>\n",
       "    </tr>\n",
       "    <tr>\n",
       "      <th>9</th>\n",
       "      <td>1000</td>\n",
       "      <td>Anamaria</td>\n",
       "      <td>Bauer</td>\n",
       "      <td>45</td>\n",
       "      <td>Atlanta-Sandy Springs-Roswell, GA MSA</td>\n",
       "      <td>2018-12-24</td>\n",
       "      <td>NaT</td>\n",
       "      <td>ultimate</td>\n",
       "      <td>1000_544</td>\n",
       "      <td>2018-12-26</td>\n",
       "      <td>4.40</td>\n",
       "    </tr>\n",
       "  </tbody>\n",
       "</table>\n",
       "</div>"
      ],
      "text/plain": [
       "   user_id first_name last_name  age                                   city  \\\n",
       "0     1000   Anamaria     Bauer   45  Atlanta-Sandy Springs-Roswell, GA MSA   \n",
       "1     1000   Anamaria     Bauer   45  Atlanta-Sandy Springs-Roswell, GA MSA   \n",
       "2     1000   Anamaria     Bauer   45  Atlanta-Sandy Springs-Roswell, GA MSA   \n",
       "3     1000   Anamaria     Bauer   45  Atlanta-Sandy Springs-Roswell, GA MSA   \n",
       "4     1000   Anamaria     Bauer   45  Atlanta-Sandy Springs-Roswell, GA MSA   \n",
       "5     1000   Anamaria     Bauer   45  Atlanta-Sandy Springs-Roswell, GA MSA   \n",
       "6     1000   Anamaria     Bauer   45  Atlanta-Sandy Springs-Roswell, GA MSA   \n",
       "7     1000   Anamaria     Bauer   45  Atlanta-Sandy Springs-Roswell, GA MSA   \n",
       "8     1000   Anamaria     Bauer   45  Atlanta-Sandy Springs-Roswell, GA MSA   \n",
       "9     1000   Anamaria     Bauer   45  Atlanta-Sandy Springs-Roswell, GA MSA   \n",
       "\n",
       "    reg_date churn_date plan_name        id  call_date  duration  \n",
       "0 2018-12-24        NaT  ultimate   1000_93 2018-12-27      8.52  \n",
       "1 2018-12-24        NaT  ultimate  1000_145 2018-12-27     13.66  \n",
       "2 2018-12-24        NaT  ultimate  1000_247 2018-12-27     14.48  \n",
       "3 2018-12-24        NaT  ultimate  1000_309 2018-12-28      5.76  \n",
       "4 2018-12-24        NaT  ultimate  1000_380 2018-12-30      4.22  \n",
       "5 2018-12-24        NaT  ultimate  1000_388 2018-12-31      2.20  \n",
       "6 2018-12-24        NaT  ultimate  1000_510 2018-12-27      5.75  \n",
       "7 2018-12-24        NaT  ultimate  1000_521 2018-12-28     14.18  \n",
       "8 2018-12-24        NaT  ultimate  1000_530 2018-12-28      5.77  \n",
       "9 2018-12-24        NaT  ultimate  1000_544 2018-12-26      4.40  "
      ]
     },
     "execution_count": 20,
     "metadata": {},
     "output_type": "execute_result"
    }
   ],
   "source": [
    "# Realizar un merge de users y calls para nuestro análisis futuro, de igual manera que en casos anteriores de tipo\n",
    "# outer, para no excluir informacion de ambos dataframes\n",
    "\n",
    "users_calls = pd.merge(users_clean, calls_clean, on='user_id', how='outer')\n",
    "\n",
    "users_calls.head(n=10)"
   ]
  },
  {
   "cell_type": "markdown",
   "metadata": {
    "id": "mOUZSi180q0_"
   },
   "source": [
    "## Mensajes"
   ]
  },
  {
   "cell_type": "code",
   "execution_count": 21,
   "metadata": {
    "id": "R-bYJpdV0q1A"
   },
   "outputs": [
    {
     "name": "stdout",
     "output_type": "stream",
     "text": [
      "<class 'pandas.core.frame.DataFrame'>\n",
      "RangeIndex: 76051 entries, 0 to 76050\n",
      "Data columns (total 3 columns):\n",
      " #   Column        Non-Null Count  Dtype \n",
      "---  ------        --------------  ----- \n",
      " 0   id            76051 non-null  object\n",
      " 1   user_id       76051 non-null  int64 \n",
      " 2   message_date  76051 non-null  object\n",
      "dtypes: int64(1), object(2)\n",
      "memory usage: 1.7+ MB\n"
     ]
    }
   ],
   "source": [
    "# Imprime la información general/resumida sobre el DataFrame de los mensajes\n",
    "\n",
    "messages.info()"
   ]
  },
  {
   "cell_type": "code",
   "execution_count": 22,
   "metadata": {
    "id": "mCEl2iGE0q1A"
   },
   "outputs": [
    {
     "data": {
      "text/html": [
       "<div>\n",
       "<style scoped>\n",
       "    .dataframe tbody tr th:only-of-type {\n",
       "        vertical-align: middle;\n",
       "    }\n",
       "\n",
       "    .dataframe tbody tr th {\n",
       "        vertical-align: top;\n",
       "    }\n",
       "\n",
       "    .dataframe thead th {\n",
       "        text-align: right;\n",
       "    }\n",
       "</style>\n",
       "<table border=\"1\" class=\"dataframe\">\n",
       "  <thead>\n",
       "    <tr style=\"text-align: right;\">\n",
       "      <th></th>\n",
       "      <th>id</th>\n",
       "      <th>user_id</th>\n",
       "      <th>message_date</th>\n",
       "    </tr>\n",
       "  </thead>\n",
       "  <tbody>\n",
       "    <tr>\n",
       "      <th>0</th>\n",
       "      <td>1000_125</td>\n",
       "      <td>1000</td>\n",
       "      <td>2018-12-27</td>\n",
       "    </tr>\n",
       "    <tr>\n",
       "      <th>1</th>\n",
       "      <td>1000_160</td>\n",
       "      <td>1000</td>\n",
       "      <td>2018-12-31</td>\n",
       "    </tr>\n",
       "    <tr>\n",
       "      <th>2</th>\n",
       "      <td>1000_223</td>\n",
       "      <td>1000</td>\n",
       "      <td>2018-12-31</td>\n",
       "    </tr>\n",
       "    <tr>\n",
       "      <th>3</th>\n",
       "      <td>1000_251</td>\n",
       "      <td>1000</td>\n",
       "      <td>2018-12-27</td>\n",
       "    </tr>\n",
       "    <tr>\n",
       "      <th>4</th>\n",
       "      <td>1000_255</td>\n",
       "      <td>1000</td>\n",
       "      <td>2018-12-26</td>\n",
       "    </tr>\n",
       "    <tr>\n",
       "      <th>5</th>\n",
       "      <td>1000_346</td>\n",
       "      <td>1000</td>\n",
       "      <td>2018-12-29</td>\n",
       "    </tr>\n",
       "    <tr>\n",
       "      <th>6</th>\n",
       "      <td>1000_386</td>\n",
       "      <td>1000</td>\n",
       "      <td>2018-12-30</td>\n",
       "    </tr>\n",
       "    <tr>\n",
       "      <th>7</th>\n",
       "      <td>1000_413</td>\n",
       "      <td>1000</td>\n",
       "      <td>2018-12-31</td>\n",
       "    </tr>\n",
       "    <tr>\n",
       "      <th>8</th>\n",
       "      <td>1000_502</td>\n",
       "      <td>1000</td>\n",
       "      <td>2018-12-27</td>\n",
       "    </tr>\n",
       "    <tr>\n",
       "      <th>9</th>\n",
       "      <td>1000_525</td>\n",
       "      <td>1000</td>\n",
       "      <td>2018-12-28</td>\n",
       "    </tr>\n",
       "    <tr>\n",
       "      <th>10</th>\n",
       "      <td>1000_567</td>\n",
       "      <td>1000</td>\n",
       "      <td>2018-12-25</td>\n",
       "    </tr>\n",
       "    <tr>\n",
       "      <th>11</th>\n",
       "      <td>1001_1</td>\n",
       "      <td>1001</td>\n",
       "      <td>2018-11-14</td>\n",
       "    </tr>\n",
       "    <tr>\n",
       "      <th>12</th>\n",
       "      <td>1001_2</td>\n",
       "      <td>1001</td>\n",
       "      <td>2018-08-17</td>\n",
       "    </tr>\n",
       "    <tr>\n",
       "      <th>13</th>\n",
       "      <td>1001_5</td>\n",
       "      <td>1001</td>\n",
       "      <td>2018-12-05</td>\n",
       "    </tr>\n",
       "    <tr>\n",
       "      <th>14</th>\n",
       "      <td>1001_7</td>\n",
       "      <td>1001</td>\n",
       "      <td>2018-11-28</td>\n",
       "    </tr>\n",
       "    <tr>\n",
       "      <th>15</th>\n",
       "      <td>1001_9</td>\n",
       "      <td>1001</td>\n",
       "      <td>2018-10-23</td>\n",
       "    </tr>\n",
       "    <tr>\n",
       "      <th>16</th>\n",
       "      <td>1001_10</td>\n",
       "      <td>1001</td>\n",
       "      <td>2018-09-01</td>\n",
       "    </tr>\n",
       "    <tr>\n",
       "      <th>17</th>\n",
       "      <td>1001_11</td>\n",
       "      <td>1001</td>\n",
       "      <td>2018-11-18</td>\n",
       "    </tr>\n",
       "    <tr>\n",
       "      <th>18</th>\n",
       "      <td>1001_17</td>\n",
       "      <td>1001</td>\n",
       "      <td>2018-12-11</td>\n",
       "    </tr>\n",
       "    <tr>\n",
       "      <th>19</th>\n",
       "      <td>1001_18</td>\n",
       "      <td>1001</td>\n",
       "      <td>2018-10-01</td>\n",
       "    </tr>\n",
       "  </tbody>\n",
       "</table>\n",
       "</div>"
      ],
      "text/plain": [
       "          id  user_id message_date\n",
       "0   1000_125     1000   2018-12-27\n",
       "1   1000_160     1000   2018-12-31\n",
       "2   1000_223     1000   2018-12-31\n",
       "3   1000_251     1000   2018-12-27\n",
       "4   1000_255     1000   2018-12-26\n",
       "5   1000_346     1000   2018-12-29\n",
       "6   1000_386     1000   2018-12-30\n",
       "7   1000_413     1000   2018-12-31\n",
       "8   1000_502     1000   2018-12-27\n",
       "9   1000_525     1000   2018-12-28\n",
       "10  1000_567     1000   2018-12-25\n",
       "11    1001_1     1001   2018-11-14\n",
       "12    1001_2     1001   2018-08-17\n",
       "13    1001_5     1001   2018-12-05\n",
       "14    1001_7     1001   2018-11-28\n",
       "15    1001_9     1001   2018-10-23\n",
       "16   1001_10     1001   2018-09-01\n",
       "17   1001_11     1001   2018-11-18\n",
       "18   1001_17     1001   2018-12-11\n",
       "19   1001_18     1001   2018-10-01"
      ]
     },
     "execution_count": 22,
     "metadata": {},
     "output_type": "execute_result"
    }
   ],
   "source": [
    "# Imprime una muestra de datos para los mensajes\n",
    "\n",
    "messages.head(n=20)"
   ]
  },
  {
   "cell_type": "markdown",
   "metadata": {
    "id": "04xDj7KH0q1A"
   },
   "source": [
    "**Comentario:** Podemos observar que los id de usuarios estan asociados a un id de mensaje, en cual podemos observar realiza una combinación del id de usuario y secuencia de los mensajes que vaya enviando el cliente."
   ]
  },
  {
   "cell_type": "markdown",
   "metadata": {
    "id": "Sprfak900q1B"
   },
   "source": [
    "### Corregir los datos"
   ]
  },
  {
   "cell_type": "code",
   "execution_count": 23,
   "metadata": {
    "id": "vsllvkoa0q1B"
   },
   "outputs": [
    {
     "data": {
      "text/plain": [
       "0"
      ]
     },
     "execution_count": 23,
     "metadata": {},
     "output_type": "execute_result"
    }
   ],
   "source": [
    "# Verificando si hay duplicados\n",
    "\n",
    "messages.duplicated(keep=False).sum()"
   ]
  },
  {
   "cell_type": "code",
   "execution_count": 24,
   "metadata": {},
   "outputs": [
    {
     "data": {
      "text/plain": [
       "id              0\n",
       "user_id         0\n",
       "message_date    0\n",
       "dtype: int64"
      ]
     },
     "execution_count": 24,
     "metadata": {},
     "output_type": "execute_result"
    }
   ],
   "source": [
    "# Verificando si hay valores nulos\n",
    "\n",
    "messages.isna().sum()"
   ]
  },
  {
   "cell_type": "code",
   "execution_count": 25,
   "metadata": {},
   "outputs": [],
   "source": [
    "# Convertimos campo 'message_date' en datetime\n",
    "\n",
    "messages_clean = messages.copy()\n",
    "\n",
    "messages_clean['message_date'] = pd.to_datetime(messages_clean['message_date'])"
   ]
  },
  {
   "cell_type": "markdown",
   "metadata": {
    "id": "HvLid7iD0q1B"
   },
   "source": [
    "### Enriquecer los datos"
   ]
  },
  {
   "cell_type": "code",
   "execution_count": 26,
   "metadata": {},
   "outputs": [
    {
     "name": "stdout",
     "output_type": "stream",
     "text": [
      "<class 'pandas.core.frame.DataFrame'>\n",
      "RangeIndex: 76051 entries, 0 to 76050\n",
      "Data columns (total 3 columns):\n",
      " #   Column        Non-Null Count  Dtype         \n",
      "---  ------        --------------  -----         \n",
      " 0   id            76051 non-null  object        \n",
      " 1   user_id       76051 non-null  int64         \n",
      " 2   message_date  76051 non-null  datetime64[ns]\n",
      "dtypes: datetime64[ns](1), int64(1), object(1)\n",
      "memory usage: 1.7+ MB\n"
     ]
    }
   ],
   "source": [
    "# Verificando los cambios en el tipo de datos \n",
    "\n",
    "messages_clean.info()"
   ]
  },
  {
   "cell_type": "code",
   "execution_count": 27,
   "metadata": {},
   "outputs": [
    {
     "data": {
      "text/html": [
       "<div>\n",
       "<style scoped>\n",
       "    .dataframe tbody tr th:only-of-type {\n",
       "        vertical-align: middle;\n",
       "    }\n",
       "\n",
       "    .dataframe tbody tr th {\n",
       "        vertical-align: top;\n",
       "    }\n",
       "\n",
       "    .dataframe thead th {\n",
       "        text-align: right;\n",
       "    }\n",
       "</style>\n",
       "<table border=\"1\" class=\"dataframe\">\n",
       "  <thead>\n",
       "    <tr style=\"text-align: right;\">\n",
       "      <th></th>\n",
       "      <th>user_id</th>\n",
       "      <th>first_name</th>\n",
       "      <th>last_name</th>\n",
       "      <th>age</th>\n",
       "      <th>city</th>\n",
       "      <th>reg_date</th>\n",
       "      <th>churn_date</th>\n",
       "      <th>plan_name</th>\n",
       "      <th>id</th>\n",
       "      <th>message_date</th>\n",
       "    </tr>\n",
       "  </thead>\n",
       "  <tbody>\n",
       "    <tr>\n",
       "      <th>0</th>\n",
       "      <td>1000</td>\n",
       "      <td>Anamaria</td>\n",
       "      <td>Bauer</td>\n",
       "      <td>45</td>\n",
       "      <td>Atlanta-Sandy Springs-Roswell, GA MSA</td>\n",
       "      <td>2018-12-24</td>\n",
       "      <td>NaT</td>\n",
       "      <td>ultimate</td>\n",
       "      <td>1000_125</td>\n",
       "      <td>2018-12-27</td>\n",
       "    </tr>\n",
       "    <tr>\n",
       "      <th>1</th>\n",
       "      <td>1000</td>\n",
       "      <td>Anamaria</td>\n",
       "      <td>Bauer</td>\n",
       "      <td>45</td>\n",
       "      <td>Atlanta-Sandy Springs-Roswell, GA MSA</td>\n",
       "      <td>2018-12-24</td>\n",
       "      <td>NaT</td>\n",
       "      <td>ultimate</td>\n",
       "      <td>1000_160</td>\n",
       "      <td>2018-12-31</td>\n",
       "    </tr>\n",
       "    <tr>\n",
       "      <th>2</th>\n",
       "      <td>1000</td>\n",
       "      <td>Anamaria</td>\n",
       "      <td>Bauer</td>\n",
       "      <td>45</td>\n",
       "      <td>Atlanta-Sandy Springs-Roswell, GA MSA</td>\n",
       "      <td>2018-12-24</td>\n",
       "      <td>NaT</td>\n",
       "      <td>ultimate</td>\n",
       "      <td>1000_223</td>\n",
       "      <td>2018-12-31</td>\n",
       "    </tr>\n",
       "    <tr>\n",
       "      <th>3</th>\n",
       "      <td>1000</td>\n",
       "      <td>Anamaria</td>\n",
       "      <td>Bauer</td>\n",
       "      <td>45</td>\n",
       "      <td>Atlanta-Sandy Springs-Roswell, GA MSA</td>\n",
       "      <td>2018-12-24</td>\n",
       "      <td>NaT</td>\n",
       "      <td>ultimate</td>\n",
       "      <td>1000_251</td>\n",
       "      <td>2018-12-27</td>\n",
       "    </tr>\n",
       "    <tr>\n",
       "      <th>4</th>\n",
       "      <td>1000</td>\n",
       "      <td>Anamaria</td>\n",
       "      <td>Bauer</td>\n",
       "      <td>45</td>\n",
       "      <td>Atlanta-Sandy Springs-Roswell, GA MSA</td>\n",
       "      <td>2018-12-24</td>\n",
       "      <td>NaT</td>\n",
       "      <td>ultimate</td>\n",
       "      <td>1000_255</td>\n",
       "      <td>2018-12-26</td>\n",
       "    </tr>\n",
       "    <tr>\n",
       "      <th>5</th>\n",
       "      <td>1000</td>\n",
       "      <td>Anamaria</td>\n",
       "      <td>Bauer</td>\n",
       "      <td>45</td>\n",
       "      <td>Atlanta-Sandy Springs-Roswell, GA MSA</td>\n",
       "      <td>2018-12-24</td>\n",
       "      <td>NaT</td>\n",
       "      <td>ultimate</td>\n",
       "      <td>1000_346</td>\n",
       "      <td>2018-12-29</td>\n",
       "    </tr>\n",
       "    <tr>\n",
       "      <th>6</th>\n",
       "      <td>1000</td>\n",
       "      <td>Anamaria</td>\n",
       "      <td>Bauer</td>\n",
       "      <td>45</td>\n",
       "      <td>Atlanta-Sandy Springs-Roswell, GA MSA</td>\n",
       "      <td>2018-12-24</td>\n",
       "      <td>NaT</td>\n",
       "      <td>ultimate</td>\n",
       "      <td>1000_386</td>\n",
       "      <td>2018-12-30</td>\n",
       "    </tr>\n",
       "    <tr>\n",
       "      <th>7</th>\n",
       "      <td>1000</td>\n",
       "      <td>Anamaria</td>\n",
       "      <td>Bauer</td>\n",
       "      <td>45</td>\n",
       "      <td>Atlanta-Sandy Springs-Roswell, GA MSA</td>\n",
       "      <td>2018-12-24</td>\n",
       "      <td>NaT</td>\n",
       "      <td>ultimate</td>\n",
       "      <td>1000_413</td>\n",
       "      <td>2018-12-31</td>\n",
       "    </tr>\n",
       "    <tr>\n",
       "      <th>8</th>\n",
       "      <td>1000</td>\n",
       "      <td>Anamaria</td>\n",
       "      <td>Bauer</td>\n",
       "      <td>45</td>\n",
       "      <td>Atlanta-Sandy Springs-Roswell, GA MSA</td>\n",
       "      <td>2018-12-24</td>\n",
       "      <td>NaT</td>\n",
       "      <td>ultimate</td>\n",
       "      <td>1000_502</td>\n",
       "      <td>2018-12-27</td>\n",
       "    </tr>\n",
       "    <tr>\n",
       "      <th>9</th>\n",
       "      <td>1000</td>\n",
       "      <td>Anamaria</td>\n",
       "      <td>Bauer</td>\n",
       "      <td>45</td>\n",
       "      <td>Atlanta-Sandy Springs-Roswell, GA MSA</td>\n",
       "      <td>2018-12-24</td>\n",
       "      <td>NaT</td>\n",
       "      <td>ultimate</td>\n",
       "      <td>1000_525</td>\n",
       "      <td>2018-12-28</td>\n",
       "    </tr>\n",
       "  </tbody>\n",
       "</table>\n",
       "</div>"
      ],
      "text/plain": [
       "   user_id first_name last_name  age                                   city  \\\n",
       "0     1000   Anamaria     Bauer   45  Atlanta-Sandy Springs-Roswell, GA MSA   \n",
       "1     1000   Anamaria     Bauer   45  Atlanta-Sandy Springs-Roswell, GA MSA   \n",
       "2     1000   Anamaria     Bauer   45  Atlanta-Sandy Springs-Roswell, GA MSA   \n",
       "3     1000   Anamaria     Bauer   45  Atlanta-Sandy Springs-Roswell, GA MSA   \n",
       "4     1000   Anamaria     Bauer   45  Atlanta-Sandy Springs-Roswell, GA MSA   \n",
       "5     1000   Anamaria     Bauer   45  Atlanta-Sandy Springs-Roswell, GA MSA   \n",
       "6     1000   Anamaria     Bauer   45  Atlanta-Sandy Springs-Roswell, GA MSA   \n",
       "7     1000   Anamaria     Bauer   45  Atlanta-Sandy Springs-Roswell, GA MSA   \n",
       "8     1000   Anamaria     Bauer   45  Atlanta-Sandy Springs-Roswell, GA MSA   \n",
       "9     1000   Anamaria     Bauer   45  Atlanta-Sandy Springs-Roswell, GA MSA   \n",
       "\n",
       "    reg_date churn_date plan_name        id message_date  \n",
       "0 2018-12-24        NaT  ultimate  1000_125   2018-12-27  \n",
       "1 2018-12-24        NaT  ultimate  1000_160   2018-12-31  \n",
       "2 2018-12-24        NaT  ultimate  1000_223   2018-12-31  \n",
       "3 2018-12-24        NaT  ultimate  1000_251   2018-12-27  \n",
       "4 2018-12-24        NaT  ultimate  1000_255   2018-12-26  \n",
       "5 2018-12-24        NaT  ultimate  1000_346   2018-12-29  \n",
       "6 2018-12-24        NaT  ultimate  1000_386   2018-12-30  \n",
       "7 2018-12-24        NaT  ultimate  1000_413   2018-12-31  \n",
       "8 2018-12-24        NaT  ultimate  1000_502   2018-12-27  \n",
       "9 2018-12-24        NaT  ultimate  1000_525   2018-12-28  "
      ]
     },
     "execution_count": 27,
     "metadata": {},
     "output_type": "execute_result"
    }
   ],
   "source": [
    "# Realizar un merge de users_clean y messages_clean para nuestro análisis futuro, de igual manera que en casos anteriores de tipo\n",
    "# outer, para no excluir informacion de ambos dataframes\n",
    "\n",
    "users_messages = pd.merge(users_clean, messages_clean, on='user_id', how='outer')\n",
    "\n",
    "users_messages.head(n=10)"
   ]
  },
  {
   "cell_type": "markdown",
   "metadata": {},
   "source": [
    "## Internet"
   ]
  },
  {
   "cell_type": "code",
   "execution_count": 28,
   "metadata": {},
   "outputs": [
    {
     "name": "stdout",
     "output_type": "stream",
     "text": [
      "<class 'pandas.core.frame.DataFrame'>\n",
      "RangeIndex: 104825 entries, 0 to 104824\n",
      "Data columns (total 4 columns):\n",
      " #   Column        Non-Null Count   Dtype  \n",
      "---  ------        --------------   -----  \n",
      " 0   id            104825 non-null  object \n",
      " 1   user_id       104825 non-null  int64  \n",
      " 2   session_date  104825 non-null  object \n",
      " 3   mb_used       104825 non-null  float64\n",
      "dtypes: float64(1), int64(1), object(2)\n",
      "memory usage: 3.2+ MB\n"
     ]
    }
   ],
   "source": [
    "# Imprime la información general/resumida sobre el DataFrame de Internet\n",
    "\n",
    "internet.info()"
   ]
  },
  {
   "cell_type": "code",
   "execution_count": 29,
   "metadata": {
    "id": "9r3x_XLw0q1C"
   },
   "outputs": [
    {
     "data": {
      "text/html": [
       "<div>\n",
       "<style scoped>\n",
       "    .dataframe tbody tr th:only-of-type {\n",
       "        vertical-align: middle;\n",
       "    }\n",
       "\n",
       "    .dataframe tbody tr th {\n",
       "        vertical-align: top;\n",
       "    }\n",
       "\n",
       "    .dataframe thead th {\n",
       "        text-align: right;\n",
       "    }\n",
       "</style>\n",
       "<table border=\"1\" class=\"dataframe\">\n",
       "  <thead>\n",
       "    <tr style=\"text-align: right;\">\n",
       "      <th></th>\n",
       "      <th>id</th>\n",
       "      <th>user_id</th>\n",
       "      <th>session_date</th>\n",
       "      <th>mb_used</th>\n",
       "    </tr>\n",
       "  </thead>\n",
       "  <tbody>\n",
       "    <tr>\n",
       "      <th>0</th>\n",
       "      <td>1000_13</td>\n",
       "      <td>1000</td>\n",
       "      <td>2018-12-29</td>\n",
       "      <td>89.86</td>\n",
       "    </tr>\n",
       "    <tr>\n",
       "      <th>1</th>\n",
       "      <td>1000_204</td>\n",
       "      <td>1000</td>\n",
       "      <td>2018-12-31</td>\n",
       "      <td>0.00</td>\n",
       "    </tr>\n",
       "    <tr>\n",
       "      <th>2</th>\n",
       "      <td>1000_379</td>\n",
       "      <td>1000</td>\n",
       "      <td>2018-12-28</td>\n",
       "      <td>660.40</td>\n",
       "    </tr>\n",
       "    <tr>\n",
       "      <th>3</th>\n",
       "      <td>1000_413</td>\n",
       "      <td>1000</td>\n",
       "      <td>2018-12-26</td>\n",
       "      <td>270.99</td>\n",
       "    </tr>\n",
       "    <tr>\n",
       "      <th>4</th>\n",
       "      <td>1000_442</td>\n",
       "      <td>1000</td>\n",
       "      <td>2018-12-27</td>\n",
       "      <td>880.22</td>\n",
       "    </tr>\n",
       "    <tr>\n",
       "      <th>5</th>\n",
       "      <td>1001_0</td>\n",
       "      <td>1001</td>\n",
       "      <td>2018-08-24</td>\n",
       "      <td>284.68</td>\n",
       "    </tr>\n",
       "    <tr>\n",
       "      <th>6</th>\n",
       "      <td>1001_3</td>\n",
       "      <td>1001</td>\n",
       "      <td>2018-12-09</td>\n",
       "      <td>656.04</td>\n",
       "    </tr>\n",
       "    <tr>\n",
       "      <th>7</th>\n",
       "      <td>1001_4</td>\n",
       "      <td>1001</td>\n",
       "      <td>2018-11-04</td>\n",
       "      <td>16.97</td>\n",
       "    </tr>\n",
       "    <tr>\n",
       "      <th>8</th>\n",
       "      <td>1001_10</td>\n",
       "      <td>1001</td>\n",
       "      <td>2018-11-27</td>\n",
       "      <td>135.18</td>\n",
       "    </tr>\n",
       "    <tr>\n",
       "      <th>9</th>\n",
       "      <td>1001_15</td>\n",
       "      <td>1001</td>\n",
       "      <td>2018-12-13</td>\n",
       "      <td>761.92</td>\n",
       "    </tr>\n",
       "    <tr>\n",
       "      <th>10</th>\n",
       "      <td>1001_16</td>\n",
       "      <td>1001</td>\n",
       "      <td>2018-10-28</td>\n",
       "      <td>501.53</td>\n",
       "    </tr>\n",
       "    <tr>\n",
       "      <th>11</th>\n",
       "      <td>1001_17</td>\n",
       "      <td>1001</td>\n",
       "      <td>2018-09-05</td>\n",
       "      <td>727.29</td>\n",
       "    </tr>\n",
       "    <tr>\n",
       "      <th>12</th>\n",
       "      <td>1001_24</td>\n",
       "      <td>1001</td>\n",
       "      <td>2018-09-05</td>\n",
       "      <td>622.03</td>\n",
       "    </tr>\n",
       "    <tr>\n",
       "      <th>13</th>\n",
       "      <td>1001_25</td>\n",
       "      <td>1001</td>\n",
       "      <td>2018-10-14</td>\n",
       "      <td>310.43</td>\n",
       "    </tr>\n",
       "    <tr>\n",
       "      <th>14</th>\n",
       "      <td>1001_26</td>\n",
       "      <td>1001</td>\n",
       "      <td>2018-09-17</td>\n",
       "      <td>0.00</td>\n",
       "    </tr>\n",
       "    <tr>\n",
       "      <th>15</th>\n",
       "      <td>1001_27</td>\n",
       "      <td>1001</td>\n",
       "      <td>2018-12-13</td>\n",
       "      <td>149.17</td>\n",
       "    </tr>\n",
       "    <tr>\n",
       "      <th>16</th>\n",
       "      <td>1001_28</td>\n",
       "      <td>1001</td>\n",
       "      <td>2018-10-17</td>\n",
       "      <td>0.00</td>\n",
       "    </tr>\n",
       "    <tr>\n",
       "      <th>17</th>\n",
       "      <td>1001_29</td>\n",
       "      <td>1001</td>\n",
       "      <td>2018-10-09</td>\n",
       "      <td>1067.99</td>\n",
       "    </tr>\n",
       "    <tr>\n",
       "      <th>18</th>\n",
       "      <td>1001_30</td>\n",
       "      <td>1001</td>\n",
       "      <td>2018-12-27</td>\n",
       "      <td>157.20</td>\n",
       "    </tr>\n",
       "    <tr>\n",
       "      <th>19</th>\n",
       "      <td>1001_33</td>\n",
       "      <td>1001</td>\n",
       "      <td>2018-09-27</td>\n",
       "      <td>236.40</td>\n",
       "    </tr>\n",
       "  </tbody>\n",
       "</table>\n",
       "</div>"
      ],
      "text/plain": [
       "          id  user_id session_date  mb_used\n",
       "0    1000_13     1000   2018-12-29    89.86\n",
       "1   1000_204     1000   2018-12-31     0.00\n",
       "2   1000_379     1000   2018-12-28   660.40\n",
       "3   1000_413     1000   2018-12-26   270.99\n",
       "4   1000_442     1000   2018-12-27   880.22\n",
       "5     1001_0     1001   2018-08-24   284.68\n",
       "6     1001_3     1001   2018-12-09   656.04\n",
       "7     1001_4     1001   2018-11-04    16.97\n",
       "8    1001_10     1001   2018-11-27   135.18\n",
       "9    1001_15     1001   2018-12-13   761.92\n",
       "10   1001_16     1001   2018-10-28   501.53\n",
       "11   1001_17     1001   2018-09-05   727.29\n",
       "12   1001_24     1001   2018-09-05   622.03\n",
       "13   1001_25     1001   2018-10-14   310.43\n",
       "14   1001_26     1001   2018-09-17     0.00\n",
       "15   1001_27     1001   2018-12-13   149.17\n",
       "16   1001_28     1001   2018-10-17     0.00\n",
       "17   1001_29     1001   2018-10-09  1067.99\n",
       "18   1001_30     1001   2018-12-27   157.20\n",
       "19   1001_33     1001   2018-09-27   236.40"
      ]
     },
     "execution_count": 29,
     "metadata": {},
     "output_type": "execute_result"
    }
   ],
   "source": [
    "# Imprime una muestra de datos para el tráfico de internet\n",
    "\n",
    "internet.head(n=20)"
   ]
  },
  {
   "cell_type": "markdown",
   "metadata": {
    "id": "yA0tkPFg0q1D"
   },
   "source": [
    "### Corregir los datos"
   ]
  },
  {
   "cell_type": "code",
   "execution_count": 30,
   "metadata": {
    "id": "zVeanzdd0q1E"
   },
   "outputs": [
    {
     "data": {
      "text/plain": [
       "0"
      ]
     },
     "execution_count": 30,
     "metadata": {},
     "output_type": "execute_result"
    }
   ],
   "source": [
    "# Verificando si hay duplicados\n",
    "\n",
    "internet.duplicated(keep=False).sum()"
   ]
  },
  {
   "cell_type": "code",
   "execution_count": 31,
   "metadata": {},
   "outputs": [
    {
     "data": {
      "text/plain": [
       "id              0\n",
       "user_id         0\n",
       "session_date    0\n",
       "mb_used         0\n",
       "dtype: int64"
      ]
     },
     "execution_count": 31,
     "metadata": {},
     "output_type": "execute_result"
    }
   ],
   "source": [
    "# Verificando si hay valores nulos\n",
    "\n",
    "internet.isna().sum()"
   ]
  },
  {
   "cell_type": "markdown",
   "metadata": {
    "id": "e8_mLF4a0q1E"
   },
   "source": [
    "### Enriquecer los datos"
   ]
  },
  {
   "cell_type": "code",
   "execution_count": 32,
   "metadata": {
    "id": "ESiYPIEK0q1E"
   },
   "outputs": [],
   "source": [
    "# Convertimos campo 'session_date' en datetime\n",
    "\n",
    "internet_clean = internet.copy()\n",
    "\n",
    "internet_clean['session_date'] = pd.to_datetime(internet_clean['session_date'])"
   ]
  },
  {
   "cell_type": "code",
   "execution_count": 33,
   "metadata": {},
   "outputs": [
    {
     "name": "stdout",
     "output_type": "stream",
     "text": [
      "<class 'pandas.core.frame.DataFrame'>\n",
      "RangeIndex: 104825 entries, 0 to 104824\n",
      "Data columns (total 4 columns):\n",
      " #   Column        Non-Null Count   Dtype         \n",
      "---  ------        --------------   -----         \n",
      " 0   id            104825 non-null  object        \n",
      " 1   user_id       104825 non-null  int64         \n",
      " 2   session_date  104825 non-null  datetime64[ns]\n",
      " 3   mb_used       104825 non-null  float64       \n",
      "dtypes: datetime64[ns](1), float64(1), int64(1), object(1)\n",
      "memory usage: 3.2+ MB\n"
     ]
    }
   ],
   "source": [
    "#Verificando cambios en los tipos de datos\n",
    "\n",
    "internet_clean.info()"
   ]
  },
  {
   "cell_type": "code",
   "execution_count": 34,
   "metadata": {},
   "outputs": [
    {
     "data": {
      "text/html": [
       "<div>\n",
       "<style scoped>\n",
       "    .dataframe tbody tr th:only-of-type {\n",
       "        vertical-align: middle;\n",
       "    }\n",
       "\n",
       "    .dataframe tbody tr th {\n",
       "        vertical-align: top;\n",
       "    }\n",
       "\n",
       "    .dataframe thead th {\n",
       "        text-align: right;\n",
       "    }\n",
       "</style>\n",
       "<table border=\"1\" class=\"dataframe\">\n",
       "  <thead>\n",
       "    <tr style=\"text-align: right;\">\n",
       "      <th></th>\n",
       "      <th>user_id</th>\n",
       "      <th>first_name</th>\n",
       "      <th>last_name</th>\n",
       "      <th>age</th>\n",
       "      <th>city</th>\n",
       "      <th>reg_date</th>\n",
       "      <th>churn_date</th>\n",
       "      <th>plan_name</th>\n",
       "      <th>id</th>\n",
       "      <th>session_date</th>\n",
       "      <th>mb_used</th>\n",
       "    </tr>\n",
       "  </thead>\n",
       "  <tbody>\n",
       "    <tr>\n",
       "      <th>0</th>\n",
       "      <td>1000</td>\n",
       "      <td>Anamaria</td>\n",
       "      <td>Bauer</td>\n",
       "      <td>45</td>\n",
       "      <td>Atlanta-Sandy Springs-Roswell, GA MSA</td>\n",
       "      <td>2018-12-24</td>\n",
       "      <td>NaT</td>\n",
       "      <td>ultimate</td>\n",
       "      <td>1000_13</td>\n",
       "      <td>2018-12-29</td>\n",
       "      <td>89.86</td>\n",
       "    </tr>\n",
       "    <tr>\n",
       "      <th>1</th>\n",
       "      <td>1000</td>\n",
       "      <td>Anamaria</td>\n",
       "      <td>Bauer</td>\n",
       "      <td>45</td>\n",
       "      <td>Atlanta-Sandy Springs-Roswell, GA MSA</td>\n",
       "      <td>2018-12-24</td>\n",
       "      <td>NaT</td>\n",
       "      <td>ultimate</td>\n",
       "      <td>1000_204</td>\n",
       "      <td>2018-12-31</td>\n",
       "      <td>0.00</td>\n",
       "    </tr>\n",
       "    <tr>\n",
       "      <th>2</th>\n",
       "      <td>1000</td>\n",
       "      <td>Anamaria</td>\n",
       "      <td>Bauer</td>\n",
       "      <td>45</td>\n",
       "      <td>Atlanta-Sandy Springs-Roswell, GA MSA</td>\n",
       "      <td>2018-12-24</td>\n",
       "      <td>NaT</td>\n",
       "      <td>ultimate</td>\n",
       "      <td>1000_379</td>\n",
       "      <td>2018-12-28</td>\n",
       "      <td>660.40</td>\n",
       "    </tr>\n",
       "    <tr>\n",
       "      <th>3</th>\n",
       "      <td>1000</td>\n",
       "      <td>Anamaria</td>\n",
       "      <td>Bauer</td>\n",
       "      <td>45</td>\n",
       "      <td>Atlanta-Sandy Springs-Roswell, GA MSA</td>\n",
       "      <td>2018-12-24</td>\n",
       "      <td>NaT</td>\n",
       "      <td>ultimate</td>\n",
       "      <td>1000_413</td>\n",
       "      <td>2018-12-26</td>\n",
       "      <td>270.99</td>\n",
       "    </tr>\n",
       "    <tr>\n",
       "      <th>4</th>\n",
       "      <td>1000</td>\n",
       "      <td>Anamaria</td>\n",
       "      <td>Bauer</td>\n",
       "      <td>45</td>\n",
       "      <td>Atlanta-Sandy Springs-Roswell, GA MSA</td>\n",
       "      <td>2018-12-24</td>\n",
       "      <td>NaT</td>\n",
       "      <td>ultimate</td>\n",
       "      <td>1000_442</td>\n",
       "      <td>2018-12-27</td>\n",
       "      <td>880.22</td>\n",
       "    </tr>\n",
       "    <tr>\n",
       "      <th>5</th>\n",
       "      <td>1001</td>\n",
       "      <td>Mickey</td>\n",
       "      <td>Wilkerson</td>\n",
       "      <td>28</td>\n",
       "      <td>Seattle-Tacoma-Bellevue, WA MSA</td>\n",
       "      <td>2018-08-13</td>\n",
       "      <td>NaT</td>\n",
       "      <td>surf</td>\n",
       "      <td>1001_0</td>\n",
       "      <td>2018-08-24</td>\n",
       "      <td>284.68</td>\n",
       "    </tr>\n",
       "    <tr>\n",
       "      <th>6</th>\n",
       "      <td>1001</td>\n",
       "      <td>Mickey</td>\n",
       "      <td>Wilkerson</td>\n",
       "      <td>28</td>\n",
       "      <td>Seattle-Tacoma-Bellevue, WA MSA</td>\n",
       "      <td>2018-08-13</td>\n",
       "      <td>NaT</td>\n",
       "      <td>surf</td>\n",
       "      <td>1001_3</td>\n",
       "      <td>2018-12-09</td>\n",
       "      <td>656.04</td>\n",
       "    </tr>\n",
       "    <tr>\n",
       "      <th>7</th>\n",
       "      <td>1001</td>\n",
       "      <td>Mickey</td>\n",
       "      <td>Wilkerson</td>\n",
       "      <td>28</td>\n",
       "      <td>Seattle-Tacoma-Bellevue, WA MSA</td>\n",
       "      <td>2018-08-13</td>\n",
       "      <td>NaT</td>\n",
       "      <td>surf</td>\n",
       "      <td>1001_4</td>\n",
       "      <td>2018-11-04</td>\n",
       "      <td>16.97</td>\n",
       "    </tr>\n",
       "    <tr>\n",
       "      <th>8</th>\n",
       "      <td>1001</td>\n",
       "      <td>Mickey</td>\n",
       "      <td>Wilkerson</td>\n",
       "      <td>28</td>\n",
       "      <td>Seattle-Tacoma-Bellevue, WA MSA</td>\n",
       "      <td>2018-08-13</td>\n",
       "      <td>NaT</td>\n",
       "      <td>surf</td>\n",
       "      <td>1001_10</td>\n",
       "      <td>2018-11-27</td>\n",
       "      <td>135.18</td>\n",
       "    </tr>\n",
       "    <tr>\n",
       "      <th>9</th>\n",
       "      <td>1001</td>\n",
       "      <td>Mickey</td>\n",
       "      <td>Wilkerson</td>\n",
       "      <td>28</td>\n",
       "      <td>Seattle-Tacoma-Bellevue, WA MSA</td>\n",
       "      <td>2018-08-13</td>\n",
       "      <td>NaT</td>\n",
       "      <td>surf</td>\n",
       "      <td>1001_15</td>\n",
       "      <td>2018-12-13</td>\n",
       "      <td>761.92</td>\n",
       "    </tr>\n",
       "  </tbody>\n",
       "</table>\n",
       "</div>"
      ],
      "text/plain": [
       "   user_id first_name  last_name  age                                   city  \\\n",
       "0     1000   Anamaria      Bauer   45  Atlanta-Sandy Springs-Roswell, GA MSA   \n",
       "1     1000   Anamaria      Bauer   45  Atlanta-Sandy Springs-Roswell, GA MSA   \n",
       "2     1000   Anamaria      Bauer   45  Atlanta-Sandy Springs-Roswell, GA MSA   \n",
       "3     1000   Anamaria      Bauer   45  Atlanta-Sandy Springs-Roswell, GA MSA   \n",
       "4     1000   Anamaria      Bauer   45  Atlanta-Sandy Springs-Roswell, GA MSA   \n",
       "5     1001     Mickey  Wilkerson   28        Seattle-Tacoma-Bellevue, WA MSA   \n",
       "6     1001     Mickey  Wilkerson   28        Seattle-Tacoma-Bellevue, WA MSA   \n",
       "7     1001     Mickey  Wilkerson   28        Seattle-Tacoma-Bellevue, WA MSA   \n",
       "8     1001     Mickey  Wilkerson   28        Seattle-Tacoma-Bellevue, WA MSA   \n",
       "9     1001     Mickey  Wilkerson   28        Seattle-Tacoma-Bellevue, WA MSA   \n",
       "\n",
       "    reg_date churn_date plan_name        id session_date  mb_used  \n",
       "0 2018-12-24        NaT  ultimate   1000_13   2018-12-29    89.86  \n",
       "1 2018-12-24        NaT  ultimate  1000_204   2018-12-31     0.00  \n",
       "2 2018-12-24        NaT  ultimate  1000_379   2018-12-28   660.40  \n",
       "3 2018-12-24        NaT  ultimate  1000_413   2018-12-26   270.99  \n",
       "4 2018-12-24        NaT  ultimate  1000_442   2018-12-27   880.22  \n",
       "5 2018-08-13        NaT      surf    1001_0   2018-08-24   284.68  \n",
       "6 2018-08-13        NaT      surf    1001_3   2018-12-09   656.04  \n",
       "7 2018-08-13        NaT      surf    1001_4   2018-11-04    16.97  \n",
       "8 2018-08-13        NaT      surf   1001_10   2018-11-27   135.18  \n",
       "9 2018-08-13        NaT      surf   1001_15   2018-12-13   761.92  "
      ]
     },
     "execution_count": 34,
     "metadata": {},
     "output_type": "execute_result"
    }
   ],
   "source": [
    "# Realizar un merge de users_clean e internet_clean para nuestro análisis futuro\n",
    " \n",
    "users_internet = pd.merge(users_clean, internet_clean, on='user_id', how='outer')\n",
    "\n",
    "users_internet.head(n=10)"
   ]
  },
  {
   "cell_type": "markdown",
   "metadata": {
    "id": "3UA2cqIW0q1E"
   },
   "source": [
    "## Estudiar las condiciones de las tarifas"
   ]
  },
  {
   "cell_type": "markdown",
   "metadata": {
    "id": "T86Sqltq0q1F"
   },
   "source": [
    "[Es sumamente importante entender cómo funcionan las tarifas, cómo se les cobra a los usuarios en función de su plan de suscripción. Así que te sugerimos imprimir la información de la tarifa para ver una vez más sus condiciones.]"
   ]
  },
  {
   "cell_type": "code",
   "execution_count": 35,
   "metadata": {
    "id": "i409op8p0q1F"
   },
   "outputs": [
    {
     "data": {
      "text/html": [
       "<div>\n",
       "<style scoped>\n",
       "    .dataframe tbody tr th:only-of-type {\n",
       "        vertical-align: middle;\n",
       "    }\n",
       "\n",
       "    .dataframe tbody tr th {\n",
       "        vertical-align: top;\n",
       "    }\n",
       "\n",
       "    .dataframe thead th {\n",
       "        text-align: right;\n",
       "    }\n",
       "</style>\n",
       "<table border=\"1\" class=\"dataframe\">\n",
       "  <thead>\n",
       "    <tr style=\"text-align: right;\">\n",
       "      <th></th>\n",
       "      <th>messages_included</th>\n",
       "      <th>mb_per_month_included</th>\n",
       "      <th>minutes_included</th>\n",
       "      <th>usd_monthly_pay</th>\n",
       "      <th>usd_per_gb</th>\n",
       "      <th>usd_per_message</th>\n",
       "      <th>usd_per_minute</th>\n",
       "      <th>plan_name</th>\n",
       "    </tr>\n",
       "  </thead>\n",
       "  <tbody>\n",
       "    <tr>\n",
       "      <th>0</th>\n",
       "      <td>50</td>\n",
       "      <td>15360</td>\n",
       "      <td>500</td>\n",
       "      <td>20</td>\n",
       "      <td>10</td>\n",
       "      <td>0.03</td>\n",
       "      <td>0.03</td>\n",
       "      <td>surf</td>\n",
       "    </tr>\n",
       "    <tr>\n",
       "      <th>1</th>\n",
       "      <td>1000</td>\n",
       "      <td>30720</td>\n",
       "      <td>3000</td>\n",
       "      <td>70</td>\n",
       "      <td>7</td>\n",
       "      <td>0.01</td>\n",
       "      <td>0.01</td>\n",
       "      <td>ultimate</td>\n",
       "    </tr>\n",
       "  </tbody>\n",
       "</table>\n",
       "</div>"
      ],
      "text/plain": [
       "   messages_included  mb_per_month_included  minutes_included  \\\n",
       "0                 50                  15360               500   \n",
       "1               1000                  30720              3000   \n",
       "\n",
       "   usd_monthly_pay  usd_per_gb  usd_per_message  usd_per_minute plan_name  \n",
       "0               20          10             0.03            0.03      surf  \n",
       "1               70           7             0.01            0.01  ultimate  "
      ]
     },
     "execution_count": 35,
     "metadata": {},
     "output_type": "execute_result"
    }
   ],
   "source": [
    "# Imprime las condiciones de la tarifa y asegúrate de que te quedan claras\n",
    "\n",
    "plans.head()"
   ]
  },
  {
   "cell_type": "markdown",
   "metadata": {},
   "source": [
    "**Comentario:** Podemos observar que a los clientes de plan ultimate se le cobran 70 dolares por mes, y los del plan surf 20 dolares.\n",
    "    \n",
    "    Clientes por le pago de su plan 'Surf', le incluye:\n",
    "    \n",
    "    1. Un total de 50 mensajes / Costo de 3 centavos por mensaje\n",
    "    2. Un total de 15360 megabytes que equivale a (15 GB) / Costo de 10 dolares por GB\n",
    "    3. Un total de 500 minutos / Costo de 3 centavos por minuto\n",
    "    \n",
    "    Clientes por le pago de su plan 'Ultimate', le incluye:\n",
    "    \n",
    "    1. Un total de 1000 mensajes / Costo de 1 centavo por mensaje\n",
    "    2. Un total de 30720 megabytes que equivale a (30 GB) / Costo de 7 dolares por GB\n",
    "    3. Un total de 3000 minutos / Costo de 3 centavos por minuto\n"
   ]
  },
  {
   "cell_type": "markdown",
   "metadata": {
    "id": "hMR1tP5d0q1F"
   },
   "source": [
    "## Agregar datos por usuario\n",
    "\n",
    "[Ahora que los datos están limpios, agrega los datos por usuario y por periodo para que solo haya un registro por usuario y por periodo. Esto facilitará mucho el análisis posterior.]"
   ]
  },
  {
   "cell_type": "code",
   "execution_count": 36,
   "metadata": {},
   "outputs": [
    {
     "data": {
      "text/html": [
       "<div>\n",
       "<style scoped>\n",
       "    .dataframe tbody tr th:only-of-type {\n",
       "        vertical-align: middle;\n",
       "    }\n",
       "\n",
       "    .dataframe tbody tr th {\n",
       "        vertical-align: top;\n",
       "    }\n",
       "\n",
       "    .dataframe thead th {\n",
       "        text-align: right;\n",
       "    }\n",
       "</style>\n",
       "<table border=\"1\" class=\"dataframe\">\n",
       "  <thead>\n",
       "    <tr style=\"text-align: right;\">\n",
       "      <th></th>\n",
       "      <th>user_id</th>\n",
       "      <th>month</th>\n",
       "      <th>cant_calls</th>\n",
       "    </tr>\n",
       "  </thead>\n",
       "  <tbody>\n",
       "    <tr>\n",
       "      <th>0</th>\n",
       "      <td>1000</td>\n",
       "      <td>12.0</td>\n",
       "      <td>16</td>\n",
       "    </tr>\n",
       "    <tr>\n",
       "      <th>1</th>\n",
       "      <td>1001</td>\n",
       "      <td>8.0</td>\n",
       "      <td>27</td>\n",
       "    </tr>\n",
       "    <tr>\n",
       "      <th>2</th>\n",
       "      <td>1001</td>\n",
       "      <td>9.0</td>\n",
       "      <td>49</td>\n",
       "    </tr>\n",
       "    <tr>\n",
       "      <th>3</th>\n",
       "      <td>1001</td>\n",
       "      <td>10.0</td>\n",
       "      <td>65</td>\n",
       "    </tr>\n",
       "    <tr>\n",
       "      <th>4</th>\n",
       "      <td>1001</td>\n",
       "      <td>11.0</td>\n",
       "      <td>64</td>\n",
       "    </tr>\n",
       "    <tr>\n",
       "      <th>...</th>\n",
       "      <td>...</td>\n",
       "      <td>...</td>\n",
       "      <td>...</td>\n",
       "    </tr>\n",
       "    <tr>\n",
       "      <th>2253</th>\n",
       "      <td>1498</td>\n",
       "      <td>12.0</td>\n",
       "      <td>39</td>\n",
       "    </tr>\n",
       "    <tr>\n",
       "      <th>2254</th>\n",
       "      <td>1499</td>\n",
       "      <td>9.0</td>\n",
       "      <td>41</td>\n",
       "    </tr>\n",
       "    <tr>\n",
       "      <th>2255</th>\n",
       "      <td>1499</td>\n",
       "      <td>10.0</td>\n",
       "      <td>53</td>\n",
       "    </tr>\n",
       "    <tr>\n",
       "      <th>2256</th>\n",
       "      <td>1499</td>\n",
       "      <td>11.0</td>\n",
       "      <td>45</td>\n",
       "    </tr>\n",
       "    <tr>\n",
       "      <th>2257</th>\n",
       "      <td>1499</td>\n",
       "      <td>12.0</td>\n",
       "      <td>65</td>\n",
       "    </tr>\n",
       "  </tbody>\n",
       "</table>\n",
       "<p>2258 rows × 3 columns</p>\n",
       "</div>"
      ],
      "text/plain": [
       "      user_id  month  cant_calls\n",
       "0        1000   12.0          16\n",
       "1        1001    8.0          27\n",
       "2        1001    9.0          49\n",
       "3        1001   10.0          65\n",
       "4        1001   11.0          64\n",
       "...       ...    ...         ...\n",
       "2253     1498   12.0          39\n",
       "2254     1499    9.0          41\n",
       "2255     1499   10.0          53\n",
       "2256     1499   11.0          45\n",
       "2257     1499   12.0          65\n",
       "\n",
       "[2258 rows x 3 columns]"
      ]
     },
     "metadata": {},
     "output_type": "display_data"
    }
   ],
   "source": [
    "# Calcula el número de llamadas realizadas por cada usuario al mes. Guarda el resultado.\n",
    "\n",
    "groupby_calls= users_calls.copy()\n",
    "\n",
    "# Creamos 2 campos nuevos, para extraer año y el mes que nos interesa y como ya tenemos en call_date convertido en datatime\n",
    "\n",
    "groupby_calls['year'] = users_calls['call_date'].dt.year\n",
    "groupby_calls['month'] = users_calls['call_date'].dt.month\n",
    "\n",
    "# Agrupar por 'user_id' y 'month' y contar las calls\n",
    "\n",
    "g_calls = groupby_calls.groupby(['user_id','month'])['call_date'].count().reset_index(name='cant_calls')\n",
    "\n",
    "display(g_calls)"
   ]
  },
  {
   "cell_type": "code",
   "execution_count": 37,
   "metadata": {},
   "outputs": [
    {
     "data": {
      "text/html": [
       "<div>\n",
       "<style scoped>\n",
       "    .dataframe tbody tr th:only-of-type {\n",
       "        vertical-align: middle;\n",
       "    }\n",
       "\n",
       "    .dataframe tbody tr th {\n",
       "        vertical-align: top;\n",
       "    }\n",
       "\n",
       "    .dataframe thead th {\n",
       "        text-align: right;\n",
       "    }\n",
       "</style>\n",
       "<table border=\"1\" class=\"dataframe\">\n",
       "  <thead>\n",
       "    <tr style=\"text-align: right;\">\n",
       "      <th></th>\n",
       "      <th>user_id</th>\n",
       "      <th>month</th>\n",
       "      <th>cant_calls</th>\n",
       "      <th>duration</th>\n",
       "    </tr>\n",
       "  </thead>\n",
       "  <tbody>\n",
       "    <tr>\n",
       "      <th>0</th>\n",
       "      <td>1000</td>\n",
       "      <td>12.0</td>\n",
       "      <td>16</td>\n",
       "      <td>116.83</td>\n",
       "    </tr>\n",
       "    <tr>\n",
       "      <th>1</th>\n",
       "      <td>1001</td>\n",
       "      <td>8.0</td>\n",
       "      <td>27</td>\n",
       "      <td>171.14</td>\n",
       "    </tr>\n",
       "    <tr>\n",
       "      <th>2</th>\n",
       "      <td>1001</td>\n",
       "      <td>9.0</td>\n",
       "      <td>49</td>\n",
       "      <td>297.69</td>\n",
       "    </tr>\n",
       "    <tr>\n",
       "      <th>3</th>\n",
       "      <td>1001</td>\n",
       "      <td>10.0</td>\n",
       "      <td>65</td>\n",
       "      <td>374.11</td>\n",
       "    </tr>\n",
       "    <tr>\n",
       "      <th>4</th>\n",
       "      <td>1001</td>\n",
       "      <td>11.0</td>\n",
       "      <td>64</td>\n",
       "      <td>404.59</td>\n",
       "    </tr>\n",
       "    <tr>\n",
       "      <th>...</th>\n",
       "      <td>...</td>\n",
       "      <td>...</td>\n",
       "      <td>...</td>\n",
       "      <td>...</td>\n",
       "    </tr>\n",
       "    <tr>\n",
       "      <th>2253</th>\n",
       "      <td>1498</td>\n",
       "      <td>12.0</td>\n",
       "      <td>39</td>\n",
       "      <td>324.77</td>\n",
       "    </tr>\n",
       "    <tr>\n",
       "      <th>2254</th>\n",
       "      <td>1499</td>\n",
       "      <td>9.0</td>\n",
       "      <td>41</td>\n",
       "      <td>330.37</td>\n",
       "    </tr>\n",
       "    <tr>\n",
       "      <th>2255</th>\n",
       "      <td>1499</td>\n",
       "      <td>10.0</td>\n",
       "      <td>53</td>\n",
       "      <td>363.28</td>\n",
       "    </tr>\n",
       "    <tr>\n",
       "      <th>2256</th>\n",
       "      <td>1499</td>\n",
       "      <td>11.0</td>\n",
       "      <td>45</td>\n",
       "      <td>288.56</td>\n",
       "    </tr>\n",
       "    <tr>\n",
       "      <th>2257</th>\n",
       "      <td>1499</td>\n",
       "      <td>12.0</td>\n",
       "      <td>65</td>\n",
       "      <td>468.10</td>\n",
       "    </tr>\n",
       "  </tbody>\n",
       "</table>\n",
       "<p>2258 rows × 4 columns</p>\n",
       "</div>"
      ],
      "text/plain": [
       "      user_id  month  cant_calls  duration\n",
       "0        1000   12.0          16    116.83\n",
       "1        1001    8.0          27    171.14\n",
       "2        1001    9.0          49    297.69\n",
       "3        1001   10.0          65    374.11\n",
       "4        1001   11.0          64    404.59\n",
       "...       ...    ...         ...       ...\n",
       "2253     1498   12.0          39    324.77\n",
       "2254     1499    9.0          41    330.37\n",
       "2255     1499   10.0          53    363.28\n",
       "2256     1499   11.0          45    288.56\n",
       "2257     1499   12.0          65    468.10\n",
       "\n",
       "[2258 rows x 4 columns]"
      ]
     },
     "metadata": {},
     "output_type": "display_data"
    }
   ],
   "source": [
    "# Agrupar  por mes, y sumar duration en minutos de las llamadas\n",
    "\n",
    "g_calls_duration = groupby_calls.groupby(['user_id','month'])['duration'].sum().reset_index(name='duration')\n",
    "\n",
    "# Realizar agrupacion por mes user_id y month de los DataFrames g_calls y g_calls_duration\n",
    "\n",
    "g_calls_total = pd.merge(g_calls,g_calls_duration, on=('user_id','month'), how='outer')\n",
    "\n",
    "display(g_calls_total)"
   ]
  },
  {
   "cell_type": "markdown",
   "metadata": {},
   "source": [
    "**Comentario:** La duración de llamadas las requerimos redondeadas, sin embargo realizaremos el redondeo en nuestra tabla final."
   ]
  },
  {
   "cell_type": "code",
   "execution_count": 38,
   "metadata": {
    "id": "CcQvNHn60q1G"
   },
   "outputs": [
    {
     "data": {
      "text/html": [
       "<div>\n",
       "<style scoped>\n",
       "    .dataframe tbody tr th:only-of-type {\n",
       "        vertical-align: middle;\n",
       "    }\n",
       "\n",
       "    .dataframe tbody tr th {\n",
       "        vertical-align: top;\n",
       "    }\n",
       "\n",
       "    .dataframe thead th {\n",
       "        text-align: right;\n",
       "    }\n",
       "</style>\n",
       "<table border=\"1\" class=\"dataframe\">\n",
       "  <thead>\n",
       "    <tr style=\"text-align: right;\">\n",
       "      <th></th>\n",
       "      <th>user_id</th>\n",
       "      <th>month</th>\n",
       "      <th>cant_messages</th>\n",
       "    </tr>\n",
       "  </thead>\n",
       "  <tbody>\n",
       "    <tr>\n",
       "      <th>0</th>\n",
       "      <td>1000</td>\n",
       "      <td>12.0</td>\n",
       "      <td>11</td>\n",
       "    </tr>\n",
       "    <tr>\n",
       "      <th>1</th>\n",
       "      <td>1001</td>\n",
       "      <td>8.0</td>\n",
       "      <td>30</td>\n",
       "    </tr>\n",
       "    <tr>\n",
       "      <th>2</th>\n",
       "      <td>1001</td>\n",
       "      <td>9.0</td>\n",
       "      <td>44</td>\n",
       "    </tr>\n",
       "    <tr>\n",
       "      <th>3</th>\n",
       "      <td>1001</td>\n",
       "      <td>10.0</td>\n",
       "      <td>53</td>\n",
       "    </tr>\n",
       "    <tr>\n",
       "      <th>4</th>\n",
       "      <td>1001</td>\n",
       "      <td>11.0</td>\n",
       "      <td>36</td>\n",
       "    </tr>\n",
       "    <tr>\n",
       "      <th>...</th>\n",
       "      <td>...</td>\n",
       "      <td>...</td>\n",
       "      <td>...</td>\n",
       "    </tr>\n",
       "    <tr>\n",
       "      <th>1801</th>\n",
       "      <td>1496</td>\n",
       "      <td>9.0</td>\n",
       "      <td>21</td>\n",
       "    </tr>\n",
       "    <tr>\n",
       "      <th>1802</th>\n",
       "      <td>1496</td>\n",
       "      <td>10.0</td>\n",
       "      <td>18</td>\n",
       "    </tr>\n",
       "    <tr>\n",
       "      <th>1803</th>\n",
       "      <td>1496</td>\n",
       "      <td>11.0</td>\n",
       "      <td>13</td>\n",
       "    </tr>\n",
       "    <tr>\n",
       "      <th>1804</th>\n",
       "      <td>1496</td>\n",
       "      <td>12.0</td>\n",
       "      <td>11</td>\n",
       "    </tr>\n",
       "    <tr>\n",
       "      <th>1805</th>\n",
       "      <td>1497</td>\n",
       "      <td>12.0</td>\n",
       "      <td>50</td>\n",
       "    </tr>\n",
       "  </tbody>\n",
       "</table>\n",
       "<p>1806 rows × 3 columns</p>\n",
       "</div>"
      ],
      "text/plain": [
       "      user_id  month  cant_messages\n",
       "0        1000   12.0             11\n",
       "1        1001    8.0             30\n",
       "2        1001    9.0             44\n",
       "3        1001   10.0             53\n",
       "4        1001   11.0             36\n",
       "...       ...    ...            ...\n",
       "1801     1496    9.0             21\n",
       "1802     1496   10.0             18\n",
       "1803     1496   11.0             13\n",
       "1804     1496   12.0             11\n",
       "1805     1497   12.0             50\n",
       "\n",
       "[1806 rows x 3 columns]"
      ]
     },
     "metadata": {},
     "output_type": "display_data"
    }
   ],
   "source": [
    "# Calcula el número de mensajes enviados por cada usuario al mes. Guarda el resultado.\n",
    "\n",
    "groupby_messages= users_messages.copy()\n",
    "\n",
    "# Creamos 2 campos nuevos, para extraer año y el mes que nos interesa y como ya tenemos en message_date convertido en datatime\n",
    "\n",
    "groupby_messages['year'] = users_messages['message_date'].dt.year\n",
    "groupby_messages['month'] = users_messages['message_date'].dt.month\n",
    "\n",
    "# Agrupar por 'user_id' y 'month' y contar messages\n",
    "\n",
    "g_messages = groupby_messages.groupby(['user_id','month'])['message_date'].count().reset_index(name='cant_messages')\n",
    "\n",
    "display(g_messages)\n"
   ]
  },
  {
   "cell_type": "code",
   "execution_count": 39,
   "metadata": {
    "id": "H1AqN2eG0q1H"
   },
   "outputs": [
    {
     "data": {
      "text/html": [
       "<div>\n",
       "<style scoped>\n",
       "    .dataframe tbody tr th:only-of-type {\n",
       "        vertical-align: middle;\n",
       "    }\n",
       "\n",
       "    .dataframe tbody tr th {\n",
       "        vertical-align: top;\n",
       "    }\n",
       "\n",
       "    .dataframe thead th {\n",
       "        text-align: right;\n",
       "    }\n",
       "</style>\n",
       "<table border=\"1\" class=\"dataframe\">\n",
       "  <thead>\n",
       "    <tr style=\"text-align: right;\">\n",
       "      <th></th>\n",
       "      <th>user_id</th>\n",
       "      <th>month</th>\n",
       "      <th>sum_mb</th>\n",
       "    </tr>\n",
       "  </thead>\n",
       "  <tbody>\n",
       "    <tr>\n",
       "      <th>0</th>\n",
       "      <td>1000</td>\n",
       "      <td>12.0</td>\n",
       "      <td>1901.47</td>\n",
       "    </tr>\n",
       "    <tr>\n",
       "      <th>1</th>\n",
       "      <td>1001</td>\n",
       "      <td>8.0</td>\n",
       "      <td>6919.15</td>\n",
       "    </tr>\n",
       "    <tr>\n",
       "      <th>2</th>\n",
       "      <td>1001</td>\n",
       "      <td>9.0</td>\n",
       "      <td>13314.82</td>\n",
       "    </tr>\n",
       "    <tr>\n",
       "      <th>3</th>\n",
       "      <td>1001</td>\n",
       "      <td>10.0</td>\n",
       "      <td>22330.49</td>\n",
       "    </tr>\n",
       "    <tr>\n",
       "      <th>4</th>\n",
       "      <td>1001</td>\n",
       "      <td>11.0</td>\n",
       "      <td>18504.30</td>\n",
       "    </tr>\n",
       "    <tr>\n",
       "      <th>...</th>\n",
       "      <td>...</td>\n",
       "      <td>...</td>\n",
       "      <td>...</td>\n",
       "    </tr>\n",
       "    <tr>\n",
       "      <th>2272</th>\n",
       "      <td>1498</td>\n",
       "      <td>12.0</td>\n",
       "      <td>23137.69</td>\n",
       "    </tr>\n",
       "    <tr>\n",
       "      <th>2273</th>\n",
       "      <td>1499</td>\n",
       "      <td>9.0</td>\n",
       "      <td>12984.76</td>\n",
       "    </tr>\n",
       "    <tr>\n",
       "      <th>2274</th>\n",
       "      <td>1499</td>\n",
       "      <td>10.0</td>\n",
       "      <td>19492.43</td>\n",
       "    </tr>\n",
       "    <tr>\n",
       "      <th>2275</th>\n",
       "      <td>1499</td>\n",
       "      <td>11.0</td>\n",
       "      <td>16813.83</td>\n",
       "    </tr>\n",
       "    <tr>\n",
       "      <th>2276</th>\n",
       "      <td>1499</td>\n",
       "      <td>12.0</td>\n",
       "      <td>22059.21</td>\n",
       "    </tr>\n",
       "  </tbody>\n",
       "</table>\n",
       "<p>2277 rows × 3 columns</p>\n",
       "</div>"
      ],
      "text/plain": [
       "      user_id  month    sum_mb\n",
       "0        1000   12.0   1901.47\n",
       "1        1001    8.0   6919.15\n",
       "2        1001    9.0  13314.82\n",
       "3        1001   10.0  22330.49\n",
       "4        1001   11.0  18504.30\n",
       "...       ...    ...       ...\n",
       "2272     1498   12.0  23137.69\n",
       "2273     1499    9.0  12984.76\n",
       "2274     1499   10.0  19492.43\n",
       "2275     1499   11.0  16813.83\n",
       "2276     1499   12.0  22059.21\n",
       "\n",
       "[2277 rows x 3 columns]"
      ]
     },
     "metadata": {},
     "output_type": "display_data"
    }
   ],
   "source": [
    "# Calcula el volumen del tráfico de Internet usado por cada usuario al mes. Guarda el resultado.\n",
    "\n",
    "groupby_internet= users_internet.copy()\n",
    "\n",
    "# Creamos 2 campos nuevos, para extraer año y el mes que nos interesa y como ya tenemos en message_date convertido en datatime\n",
    "\n",
    "groupby_internet['year'] = users_internet['session_date'].dt.year\n",
    "groupby_internet['month'] = users_internet['session_date'].dt.month\n",
    "\n",
    "# Agrupar por 'user_id' y 'month' y sumar megabytes\n",
    "\n",
    "g_internet = groupby_internet.groupby(['user_id','month'])['mb_used'].sum().reset_index(name='sum_mb')\n",
    "\n",
    "display(g_internet)"
   ]
  },
  {
   "cell_type": "code",
   "execution_count": 40,
   "metadata": {},
   "outputs": [],
   "source": [
    "import math \n",
    "\n",
    "g_internet_total = g_internet.copy()\n",
    "\n",
    "# Dividir entre megabytes para obtener consumo en gb\n",
    "\n",
    "g_internet_total['consum_gb'] = (g_internet['sum_mb'] /1024)\n",
    "\n",
    "# Renombrar nombre de la columna megabytes\n",
    "\n",
    "g_internet_total['consum_mb'] = g_internet_total['sum_mb']\n",
    "\n",
    "g_internet_total = g_internet_total.drop('sum_mb', axis=1) #axis=1 para indicar que queremos eliminar columna"
   ]
  },
  {
   "cell_type": "code",
   "execution_count": 41,
   "metadata": {},
   "outputs": [
    {
     "data": {
      "text/html": [
       "<div>\n",
       "<style scoped>\n",
       "    .dataframe tbody tr th:only-of-type {\n",
       "        vertical-align: middle;\n",
       "    }\n",
       "\n",
       "    .dataframe tbody tr th {\n",
       "        vertical-align: top;\n",
       "    }\n",
       "\n",
       "    .dataframe thead th {\n",
       "        text-align: right;\n",
       "    }\n",
       "</style>\n",
       "<table border=\"1\" class=\"dataframe\">\n",
       "  <thead>\n",
       "    <tr style=\"text-align: right;\">\n",
       "      <th></th>\n",
       "      <th>user_id</th>\n",
       "      <th>month</th>\n",
       "      <th>consum_gb</th>\n",
       "      <th>consum_mb</th>\n",
       "    </tr>\n",
       "  </thead>\n",
       "  <tbody>\n",
       "    <tr>\n",
       "      <th>0</th>\n",
       "      <td>1000</td>\n",
       "      <td>12.0</td>\n",
       "      <td>1.856904</td>\n",
       "      <td>1901.47</td>\n",
       "    </tr>\n",
       "    <tr>\n",
       "      <th>1</th>\n",
       "      <td>1001</td>\n",
       "      <td>8.0</td>\n",
       "      <td>6.756982</td>\n",
       "      <td>6919.15</td>\n",
       "    </tr>\n",
       "    <tr>\n",
       "      <th>2</th>\n",
       "      <td>1001</td>\n",
       "      <td>9.0</td>\n",
       "      <td>13.002754</td>\n",
       "      <td>13314.82</td>\n",
       "    </tr>\n",
       "    <tr>\n",
       "      <th>3</th>\n",
       "      <td>1001</td>\n",
       "      <td>10.0</td>\n",
       "      <td>21.807119</td>\n",
       "      <td>22330.49</td>\n",
       "    </tr>\n",
       "    <tr>\n",
       "      <th>4</th>\n",
       "      <td>1001</td>\n",
       "      <td>11.0</td>\n",
       "      <td>18.070605</td>\n",
       "      <td>18504.30</td>\n",
       "    </tr>\n",
       "    <tr>\n",
       "      <th>...</th>\n",
       "      <td>...</td>\n",
       "      <td>...</td>\n",
       "      <td>...</td>\n",
       "      <td>...</td>\n",
       "    </tr>\n",
       "    <tr>\n",
       "      <th>2272</th>\n",
       "      <td>1498</td>\n",
       "      <td>12.0</td>\n",
       "      <td>22.595400</td>\n",
       "      <td>23137.69</td>\n",
       "    </tr>\n",
       "    <tr>\n",
       "      <th>2273</th>\n",
       "      <td>1499</td>\n",
       "      <td>9.0</td>\n",
       "      <td>12.680430</td>\n",
       "      <td>12984.76</td>\n",
       "    </tr>\n",
       "    <tr>\n",
       "      <th>2274</th>\n",
       "      <td>1499</td>\n",
       "      <td>10.0</td>\n",
       "      <td>19.035576</td>\n",
       "      <td>19492.43</td>\n",
       "    </tr>\n",
       "    <tr>\n",
       "      <th>2275</th>\n",
       "      <td>1499</td>\n",
       "      <td>11.0</td>\n",
       "      <td>16.419756</td>\n",
       "      <td>16813.83</td>\n",
       "    </tr>\n",
       "    <tr>\n",
       "      <th>2276</th>\n",
       "      <td>1499</td>\n",
       "      <td>12.0</td>\n",
       "      <td>21.542197</td>\n",
       "      <td>22059.21</td>\n",
       "    </tr>\n",
       "  </tbody>\n",
       "</table>\n",
       "<p>2277 rows × 4 columns</p>\n",
       "</div>"
      ],
      "text/plain": [
       "      user_id  month  consum_gb  consum_mb\n",
       "0        1000   12.0   1.856904    1901.47\n",
       "1        1001    8.0   6.756982    6919.15\n",
       "2        1001    9.0  13.002754   13314.82\n",
       "3        1001   10.0  21.807119   22330.49\n",
       "4        1001   11.0  18.070605   18504.30\n",
       "...       ...    ...        ...        ...\n",
       "2272     1498   12.0  22.595400   23137.69\n",
       "2273     1499    9.0  12.680430   12984.76\n",
       "2274     1499   10.0  19.035576   19492.43\n",
       "2275     1499   11.0  16.419756   16813.83\n",
       "2276     1499   12.0  21.542197   22059.21\n",
       "\n",
       "[2277 rows x 4 columns]"
      ]
     },
     "metadata": {},
     "output_type": "display_data"
    }
   ],
   "source": [
    "# El volumen del tráfico de Internet usado por cada usuario al mes\n",
    "\n",
    "display(g_internet_total)\n"
   ]
  },
  {
   "cell_type": "markdown",
   "metadata": {
    "id": "VDfYXnj80q1H"
   },
   "source": [
    "[Junta los datos agregados en un DataFrame para que haya un registro que represente lo que consumió un usuario único en un mes determinado.]"
   ]
  },
  {
   "cell_type": "code",
   "execution_count": 42,
   "metadata": {
    "id": "FW99ykyf0q1H"
   },
   "outputs": [
    {
     "data": {
      "text/html": [
       "<div>\n",
       "<style scoped>\n",
       "    .dataframe tbody tr th:only-of-type {\n",
       "        vertical-align: middle;\n",
       "    }\n",
       "\n",
       "    .dataframe tbody tr th {\n",
       "        vertical-align: top;\n",
       "    }\n",
       "\n",
       "    .dataframe thead th {\n",
       "        text-align: right;\n",
       "    }\n",
       "</style>\n",
       "<table border=\"1\" class=\"dataframe\">\n",
       "  <thead>\n",
       "    <tr style=\"text-align: right;\">\n",
       "      <th></th>\n",
       "      <th>user_id</th>\n",
       "      <th>month</th>\n",
       "      <th>cant_calls</th>\n",
       "      <th>duration</th>\n",
       "      <th>cant_messages</th>\n",
       "    </tr>\n",
       "  </thead>\n",
       "  <tbody>\n",
       "    <tr>\n",
       "      <th>0</th>\n",
       "      <td>1000</td>\n",
       "      <td>12.0</td>\n",
       "      <td>16.0</td>\n",
       "      <td>116.83</td>\n",
       "      <td>11.0</td>\n",
       "    </tr>\n",
       "    <tr>\n",
       "      <th>1</th>\n",
       "      <td>1001</td>\n",
       "      <td>8.0</td>\n",
       "      <td>27.0</td>\n",
       "      <td>171.14</td>\n",
       "      <td>30.0</td>\n",
       "    </tr>\n",
       "    <tr>\n",
       "      <th>2</th>\n",
       "      <td>1001</td>\n",
       "      <td>9.0</td>\n",
       "      <td>49.0</td>\n",
       "      <td>297.69</td>\n",
       "      <td>44.0</td>\n",
       "    </tr>\n",
       "    <tr>\n",
       "      <th>3</th>\n",
       "      <td>1001</td>\n",
       "      <td>10.0</td>\n",
       "      <td>65.0</td>\n",
       "      <td>374.11</td>\n",
       "      <td>53.0</td>\n",
       "    </tr>\n",
       "    <tr>\n",
       "      <th>4</th>\n",
       "      <td>1001</td>\n",
       "      <td>11.0</td>\n",
       "      <td>64.0</td>\n",
       "      <td>404.59</td>\n",
       "      <td>36.0</td>\n",
       "    </tr>\n",
       "    <tr>\n",
       "      <th>...</th>\n",
       "      <td>...</td>\n",
       "      <td>...</td>\n",
       "      <td>...</td>\n",
       "      <td>...</td>\n",
       "      <td>...</td>\n",
       "    </tr>\n",
       "    <tr>\n",
       "      <th>2286</th>\n",
       "      <td>1349</td>\n",
       "      <td>10.0</td>\n",
       "      <td>NaN</td>\n",
       "      <td>NaN</td>\n",
       "      <td>76.0</td>\n",
       "    </tr>\n",
       "    <tr>\n",
       "      <th>2287</th>\n",
       "      <td>1349</td>\n",
       "      <td>11.0</td>\n",
       "      <td>NaN</td>\n",
       "      <td>NaN</td>\n",
       "      <td>72.0</td>\n",
       "    </tr>\n",
       "    <tr>\n",
       "      <th>2288</th>\n",
       "      <td>1349</td>\n",
       "      <td>12.0</td>\n",
       "      <td>NaN</td>\n",
       "      <td>NaN</td>\n",
       "      <td>61.0</td>\n",
       "    </tr>\n",
       "    <tr>\n",
       "      <th>2289</th>\n",
       "      <td>1361</td>\n",
       "      <td>5.0</td>\n",
       "      <td>NaN</td>\n",
       "      <td>NaN</td>\n",
       "      <td>2.0</td>\n",
       "    </tr>\n",
       "    <tr>\n",
       "      <th>2290</th>\n",
       "      <td>1482</td>\n",
       "      <td>10.0</td>\n",
       "      <td>NaN</td>\n",
       "      <td>NaN</td>\n",
       "      <td>2.0</td>\n",
       "    </tr>\n",
       "  </tbody>\n",
       "</table>\n",
       "<p>2291 rows × 5 columns</p>\n",
       "</div>"
      ],
      "text/plain": [
       "      user_id  month  cant_calls  duration  cant_messages\n",
       "0        1000   12.0        16.0    116.83           11.0\n",
       "1        1001    8.0        27.0    171.14           30.0\n",
       "2        1001    9.0        49.0    297.69           44.0\n",
       "3        1001   10.0        65.0    374.11           53.0\n",
       "4        1001   11.0        64.0    404.59           36.0\n",
       "...       ...    ...         ...       ...            ...\n",
       "2286     1349   10.0         NaN       NaN           76.0\n",
       "2287     1349   11.0         NaN       NaN           72.0\n",
       "2288     1349   12.0         NaN       NaN           61.0\n",
       "2289     1361    5.0         NaN       NaN            2.0\n",
       "2290     1482   10.0         NaN       NaN            2.0\n",
       "\n",
       "[2291 rows x 5 columns]"
      ]
     },
     "metadata": {},
     "output_type": "display_data"
    }
   ],
   "source": [
    "consum_calls_messages = pd.merge(g_calls_total, g_messages, on=['user_id','month'], how='outer')\n",
    "\n",
    "display(consum_calls_messages)"
   ]
  },
  {
   "cell_type": "markdown",
   "metadata": {},
   "source": [
    "**Comentarios:** Para dicha union se presentaran algunas filas con valores NaN, debido a que hay usuarios que enviaron mensajes, pero no realizaron llamadas. Tambien puede darse el caso contrario, pero para nuestros calculos nos interesa tener todos los registros de llamadas y mensajes enviados(no podemos excluir ningun registro)."
   ]
  },
  {
   "cell_type": "code",
   "execution_count": 43,
   "metadata": {},
   "outputs": [
    {
     "data": {
      "text/html": [
       "<div>\n",
       "<style scoped>\n",
       "    .dataframe tbody tr th:only-of-type {\n",
       "        vertical-align: middle;\n",
       "    }\n",
       "\n",
       "    .dataframe tbody tr th {\n",
       "        vertical-align: top;\n",
       "    }\n",
       "\n",
       "    .dataframe thead th {\n",
       "        text-align: right;\n",
       "    }\n",
       "</style>\n",
       "<table border=\"1\" class=\"dataframe\">\n",
       "  <thead>\n",
       "    <tr style=\"text-align: right;\">\n",
       "      <th></th>\n",
       "      <th>user_id</th>\n",
       "      <th>month</th>\n",
       "      <th>cant_calls</th>\n",
       "      <th>duration</th>\n",
       "      <th>cant_messages</th>\n",
       "      <th>consum_gb</th>\n",
       "      <th>consum_mb</th>\n",
       "    </tr>\n",
       "  </thead>\n",
       "  <tbody>\n",
       "    <tr>\n",
       "      <th>0</th>\n",
       "      <td>1000</td>\n",
       "      <td>12.0</td>\n",
       "      <td>16.0</td>\n",
       "      <td>116.83</td>\n",
       "      <td>11.0</td>\n",
       "      <td>1.856904</td>\n",
       "      <td>1901.47</td>\n",
       "    </tr>\n",
       "    <tr>\n",
       "      <th>1</th>\n",
       "      <td>1001</td>\n",
       "      <td>8.0</td>\n",
       "      <td>27.0</td>\n",
       "      <td>171.14</td>\n",
       "      <td>30.0</td>\n",
       "      <td>6.756982</td>\n",
       "      <td>6919.15</td>\n",
       "    </tr>\n",
       "    <tr>\n",
       "      <th>2</th>\n",
       "      <td>1001</td>\n",
       "      <td>9.0</td>\n",
       "      <td>49.0</td>\n",
       "      <td>297.69</td>\n",
       "      <td>44.0</td>\n",
       "      <td>13.002754</td>\n",
       "      <td>13314.82</td>\n",
       "    </tr>\n",
       "    <tr>\n",
       "      <th>3</th>\n",
       "      <td>1001</td>\n",
       "      <td>10.0</td>\n",
       "      <td>65.0</td>\n",
       "      <td>374.11</td>\n",
       "      <td>53.0</td>\n",
       "      <td>21.807119</td>\n",
       "      <td>22330.49</td>\n",
       "    </tr>\n",
       "    <tr>\n",
       "      <th>4</th>\n",
       "      <td>1001</td>\n",
       "      <td>11.0</td>\n",
       "      <td>64.0</td>\n",
       "      <td>404.59</td>\n",
       "      <td>36.0</td>\n",
       "      <td>18.070605</td>\n",
       "      <td>18504.30</td>\n",
       "    </tr>\n",
       "    <tr>\n",
       "      <th>...</th>\n",
       "      <td>...</td>\n",
       "      <td>...</td>\n",
       "      <td>...</td>\n",
       "      <td>...</td>\n",
       "      <td>...</td>\n",
       "      <td>...</td>\n",
       "      <td>...</td>\n",
       "    </tr>\n",
       "    <tr>\n",
       "      <th>2288</th>\n",
       "      <td>1349</td>\n",
       "      <td>12.0</td>\n",
       "      <td>NaN</td>\n",
       "      <td>NaN</td>\n",
       "      <td>61.0</td>\n",
       "      <td>12.734287</td>\n",
       "      <td>13039.91</td>\n",
       "    </tr>\n",
       "    <tr>\n",
       "      <th>2289</th>\n",
       "      <td>1361</td>\n",
       "      <td>5.0</td>\n",
       "      <td>NaN</td>\n",
       "      <td>NaN</td>\n",
       "      <td>2.0</td>\n",
       "      <td>1.484072</td>\n",
       "      <td>1519.69</td>\n",
       "    </tr>\n",
       "    <tr>\n",
       "      <th>2290</th>\n",
       "      <td>1482</td>\n",
       "      <td>10.0</td>\n",
       "      <td>NaN</td>\n",
       "      <td>NaN</td>\n",
       "      <td>2.0</td>\n",
       "      <td>NaN</td>\n",
       "      <td>NaN</td>\n",
       "    </tr>\n",
       "    <tr>\n",
       "      <th>2291</th>\n",
       "      <td>1108</td>\n",
       "      <td>12.0</td>\n",
       "      <td>NaN</td>\n",
       "      <td>NaN</td>\n",
       "      <td>NaN</td>\n",
       "      <td>0.227705</td>\n",
       "      <td>233.17</td>\n",
       "    </tr>\n",
       "    <tr>\n",
       "      <th>2292</th>\n",
       "      <td>1311</td>\n",
       "      <td>6.0</td>\n",
       "      <td>NaN</td>\n",
       "      <td>NaN</td>\n",
       "      <td>NaN</td>\n",
       "      <td>1.463701</td>\n",
       "      <td>1498.83</td>\n",
       "    </tr>\n",
       "  </tbody>\n",
       "</table>\n",
       "<p>2293 rows × 7 columns</p>\n",
       "</div>"
      ],
      "text/plain": [
       "      user_id  month  cant_calls  duration  cant_messages  consum_gb  \\\n",
       "0        1000   12.0        16.0    116.83           11.0   1.856904   \n",
       "1        1001    8.0        27.0    171.14           30.0   6.756982   \n",
       "2        1001    9.0        49.0    297.69           44.0  13.002754   \n",
       "3        1001   10.0        65.0    374.11           53.0  21.807119   \n",
       "4        1001   11.0        64.0    404.59           36.0  18.070605   \n",
       "...       ...    ...         ...       ...            ...        ...   \n",
       "2288     1349   12.0         NaN       NaN           61.0  12.734287   \n",
       "2289     1361    5.0         NaN       NaN            2.0   1.484072   \n",
       "2290     1482   10.0         NaN       NaN            2.0        NaN   \n",
       "2291     1108   12.0         NaN       NaN            NaN   0.227705   \n",
       "2292     1311    6.0         NaN       NaN            NaN   1.463701   \n",
       "\n",
       "      consum_mb  \n",
       "0       1901.47  \n",
       "1       6919.15  \n",
       "2      13314.82  \n",
       "3      22330.49  \n",
       "4      18504.30  \n",
       "...         ...  \n",
       "2288   13039.91  \n",
       "2289    1519.69  \n",
       "2290        NaN  \n",
       "2291     233.17  \n",
       "2292    1498.83  \n",
       "\n",
       "[2293 rows x 7 columns]"
      ]
     },
     "metadata": {},
     "output_type": "display_data"
    }
   ],
   "source": [
    "consum_users = pd.merge(consum_calls_messages, g_internet_total, on=['user_id','month'], how='outer')\n",
    "\n",
    "display(consum_users)"
   ]
  },
  {
   "cell_type": "code",
   "execution_count": 44,
   "metadata": {
    "id": "0dNOXHag0q1H"
   },
   "outputs": [
    {
     "data": {
      "text/html": [
       "<div>\n",
       "<style scoped>\n",
       "    .dataframe tbody tr th:only-of-type {\n",
       "        vertical-align: middle;\n",
       "    }\n",
       "\n",
       "    .dataframe tbody tr th {\n",
       "        vertical-align: top;\n",
       "    }\n",
       "\n",
       "    .dataframe thead th {\n",
       "        text-align: right;\n",
       "    }\n",
       "</style>\n",
       "<table border=\"1\" class=\"dataframe\">\n",
       "  <thead>\n",
       "    <tr style=\"text-align: right;\">\n",
       "      <th></th>\n",
       "      <th>user_id</th>\n",
       "      <th>month</th>\n",
       "      <th>cant_calls</th>\n",
       "      <th>duration</th>\n",
       "      <th>cant_messages</th>\n",
       "      <th>consum_gb</th>\n",
       "      <th>consum_mb</th>\n",
       "      <th>first_name</th>\n",
       "      <th>last_name</th>\n",
       "      <th>age</th>\n",
       "      <th>...</th>\n",
       "      <th>reg_date</th>\n",
       "      <th>churn_date</th>\n",
       "      <th>plan_name</th>\n",
       "      <th>messages_included</th>\n",
       "      <th>mb_per_month_included</th>\n",
       "      <th>minutes_included</th>\n",
       "      <th>usd_monthly_pay</th>\n",
       "      <th>usd_per_gb</th>\n",
       "      <th>usd_per_message</th>\n",
       "      <th>usd_per_minute</th>\n",
       "    </tr>\n",
       "  </thead>\n",
       "  <tbody>\n",
       "    <tr>\n",
       "      <th>0</th>\n",
       "      <td>1000</td>\n",
       "      <td>12.0</td>\n",
       "      <td>16.0</td>\n",
       "      <td>116.83</td>\n",
       "      <td>11.0</td>\n",
       "      <td>1.856904</td>\n",
       "      <td>1901.47</td>\n",
       "      <td>Anamaria</td>\n",
       "      <td>Bauer</td>\n",
       "      <td>45</td>\n",
       "      <td>...</td>\n",
       "      <td>2018-12-24</td>\n",
       "      <td>NaT</td>\n",
       "      <td>ultimate</td>\n",
       "      <td>1000</td>\n",
       "      <td>30720</td>\n",
       "      <td>3000</td>\n",
       "      <td>70</td>\n",
       "      <td>7</td>\n",
       "      <td>0.01</td>\n",
       "      <td>0.01</td>\n",
       "    </tr>\n",
       "    <tr>\n",
       "      <th>1</th>\n",
       "      <td>1001</td>\n",
       "      <td>8.0</td>\n",
       "      <td>27.0</td>\n",
       "      <td>171.14</td>\n",
       "      <td>30.0</td>\n",
       "      <td>6.756982</td>\n",
       "      <td>6919.15</td>\n",
       "      <td>Mickey</td>\n",
       "      <td>Wilkerson</td>\n",
       "      <td>28</td>\n",
       "      <td>...</td>\n",
       "      <td>2018-08-13</td>\n",
       "      <td>NaT</td>\n",
       "      <td>surf</td>\n",
       "      <td>50</td>\n",
       "      <td>15360</td>\n",
       "      <td>500</td>\n",
       "      <td>20</td>\n",
       "      <td>10</td>\n",
       "      <td>0.03</td>\n",
       "      <td>0.03</td>\n",
       "    </tr>\n",
       "    <tr>\n",
       "      <th>2</th>\n",
       "      <td>1001</td>\n",
       "      <td>9.0</td>\n",
       "      <td>49.0</td>\n",
       "      <td>297.69</td>\n",
       "      <td>44.0</td>\n",
       "      <td>13.002754</td>\n",
       "      <td>13314.82</td>\n",
       "      <td>Mickey</td>\n",
       "      <td>Wilkerson</td>\n",
       "      <td>28</td>\n",
       "      <td>...</td>\n",
       "      <td>2018-08-13</td>\n",
       "      <td>NaT</td>\n",
       "      <td>surf</td>\n",
       "      <td>50</td>\n",
       "      <td>15360</td>\n",
       "      <td>500</td>\n",
       "      <td>20</td>\n",
       "      <td>10</td>\n",
       "      <td>0.03</td>\n",
       "      <td>0.03</td>\n",
       "    </tr>\n",
       "    <tr>\n",
       "      <th>3</th>\n",
       "      <td>1001</td>\n",
       "      <td>10.0</td>\n",
       "      <td>65.0</td>\n",
       "      <td>374.11</td>\n",
       "      <td>53.0</td>\n",
       "      <td>21.807119</td>\n",
       "      <td>22330.49</td>\n",
       "      <td>Mickey</td>\n",
       "      <td>Wilkerson</td>\n",
       "      <td>28</td>\n",
       "      <td>...</td>\n",
       "      <td>2018-08-13</td>\n",
       "      <td>NaT</td>\n",
       "      <td>surf</td>\n",
       "      <td>50</td>\n",
       "      <td>15360</td>\n",
       "      <td>500</td>\n",
       "      <td>20</td>\n",
       "      <td>10</td>\n",
       "      <td>0.03</td>\n",
       "      <td>0.03</td>\n",
       "    </tr>\n",
       "    <tr>\n",
       "      <th>4</th>\n",
       "      <td>1001</td>\n",
       "      <td>11.0</td>\n",
       "      <td>64.0</td>\n",
       "      <td>404.59</td>\n",
       "      <td>36.0</td>\n",
       "      <td>18.070605</td>\n",
       "      <td>18504.30</td>\n",
       "      <td>Mickey</td>\n",
       "      <td>Wilkerson</td>\n",
       "      <td>28</td>\n",
       "      <td>...</td>\n",
       "      <td>2018-08-13</td>\n",
       "      <td>NaT</td>\n",
       "      <td>surf</td>\n",
       "      <td>50</td>\n",
       "      <td>15360</td>\n",
       "      <td>500</td>\n",
       "      <td>20</td>\n",
       "      <td>10</td>\n",
       "      <td>0.03</td>\n",
       "      <td>0.03</td>\n",
       "    </tr>\n",
       "    <tr>\n",
       "      <th>...</th>\n",
       "      <td>...</td>\n",
       "      <td>...</td>\n",
       "      <td>...</td>\n",
       "      <td>...</td>\n",
       "      <td>...</td>\n",
       "      <td>...</td>\n",
       "      <td>...</td>\n",
       "      <td>...</td>\n",
       "      <td>...</td>\n",
       "      <td>...</td>\n",
       "      <td>...</td>\n",
       "      <td>...</td>\n",
       "      <td>...</td>\n",
       "      <td>...</td>\n",
       "      <td>...</td>\n",
       "      <td>...</td>\n",
       "      <td>...</td>\n",
       "      <td>...</td>\n",
       "      <td>...</td>\n",
       "      <td>...</td>\n",
       "      <td>...</td>\n",
       "    </tr>\n",
       "    <tr>\n",
       "      <th>2298</th>\n",
       "      <td>1143</td>\n",
       "      <td>NaN</td>\n",
       "      <td>NaN</td>\n",
       "      <td>NaN</td>\n",
       "      <td>NaN</td>\n",
       "      <td>NaN</td>\n",
       "      <td>NaN</td>\n",
       "      <td>Lorina</td>\n",
       "      <td>Stevens</td>\n",
       "      <td>69</td>\n",
       "      <td>...</td>\n",
       "      <td>2018-10-26</td>\n",
       "      <td>NaT</td>\n",
       "      <td>surf</td>\n",
       "      <td>50</td>\n",
       "      <td>15360</td>\n",
       "      <td>500</td>\n",
       "      <td>20</td>\n",
       "      <td>10</td>\n",
       "      <td>0.03</td>\n",
       "      <td>0.03</td>\n",
       "    </tr>\n",
       "    <tr>\n",
       "      <th>2299</th>\n",
       "      <td>1307</td>\n",
       "      <td>NaN</td>\n",
       "      <td>NaN</td>\n",
       "      <td>NaN</td>\n",
       "      <td>NaN</td>\n",
       "      <td>NaN</td>\n",
       "      <td>NaN</td>\n",
       "      <td>Kristopher</td>\n",
       "      <td>Lang</td>\n",
       "      <td>28</td>\n",
       "      <td>...</td>\n",
       "      <td>2018-12-31</td>\n",
       "      <td>NaT</td>\n",
       "      <td>surf</td>\n",
       "      <td>50</td>\n",
       "      <td>15360</td>\n",
       "      <td>500</td>\n",
       "      <td>20</td>\n",
       "      <td>10</td>\n",
       "      <td>0.03</td>\n",
       "      <td>0.03</td>\n",
       "    </tr>\n",
       "    <tr>\n",
       "      <th>2300</th>\n",
       "      <td>1319</td>\n",
       "      <td>NaN</td>\n",
       "      <td>NaN</td>\n",
       "      <td>NaN</td>\n",
       "      <td>NaN</td>\n",
       "      <td>NaN</td>\n",
       "      <td>NaN</td>\n",
       "      <td>Eliseo</td>\n",
       "      <td>Carson</td>\n",
       "      <td>21</td>\n",
       "      <td>...</td>\n",
       "      <td>2018-06-17</td>\n",
       "      <td>NaT</td>\n",
       "      <td>surf</td>\n",
       "      <td>50</td>\n",
       "      <td>15360</td>\n",
       "      <td>500</td>\n",
       "      <td>20</td>\n",
       "      <td>10</td>\n",
       "      <td>0.03</td>\n",
       "      <td>0.03</td>\n",
       "    </tr>\n",
       "    <tr>\n",
       "      <th>2301</th>\n",
       "      <td>1378</td>\n",
       "      <td>NaN</td>\n",
       "      <td>NaN</td>\n",
       "      <td>NaN</td>\n",
       "      <td>NaN</td>\n",
       "      <td>NaN</td>\n",
       "      <td>NaN</td>\n",
       "      <td>Mckinley</td>\n",
       "      <td>Clayton</td>\n",
       "      <td>22</td>\n",
       "      <td>...</td>\n",
       "      <td>2018-12-17</td>\n",
       "      <td>NaT</td>\n",
       "      <td>surf</td>\n",
       "      <td>50</td>\n",
       "      <td>15360</td>\n",
       "      <td>500</td>\n",
       "      <td>20</td>\n",
       "      <td>10</td>\n",
       "      <td>0.03</td>\n",
       "      <td>0.03</td>\n",
       "    </tr>\n",
       "    <tr>\n",
       "      <th>2302</th>\n",
       "      <td>1473</td>\n",
       "      <td>NaN</td>\n",
       "      <td>NaN</td>\n",
       "      <td>NaN</td>\n",
       "      <td>NaN</td>\n",
       "      <td>NaN</td>\n",
       "      <td>NaN</td>\n",
       "      <td>Kirk</td>\n",
       "      <td>Velez</td>\n",
       "      <td>61</td>\n",
       "      <td>...</td>\n",
       "      <td>2018-12-31</td>\n",
       "      <td>NaT</td>\n",
       "      <td>surf</td>\n",
       "      <td>50</td>\n",
       "      <td>15360</td>\n",
       "      <td>500</td>\n",
       "      <td>20</td>\n",
       "      <td>10</td>\n",
       "      <td>0.03</td>\n",
       "      <td>0.03</td>\n",
       "    </tr>\n",
       "  </tbody>\n",
       "</table>\n",
       "<p>2303 rows × 21 columns</p>\n",
       "</div>"
      ],
      "text/plain": [
       "      user_id  month  cant_calls  duration  cant_messages  consum_gb  \\\n",
       "0        1000   12.0        16.0    116.83           11.0   1.856904   \n",
       "1        1001    8.0        27.0    171.14           30.0   6.756982   \n",
       "2        1001    9.0        49.0    297.69           44.0  13.002754   \n",
       "3        1001   10.0        65.0    374.11           53.0  21.807119   \n",
       "4        1001   11.0        64.0    404.59           36.0  18.070605   \n",
       "...       ...    ...         ...       ...            ...        ...   \n",
       "2298     1143    NaN         NaN       NaN            NaN        NaN   \n",
       "2299     1307    NaN         NaN       NaN            NaN        NaN   \n",
       "2300     1319    NaN         NaN       NaN            NaN        NaN   \n",
       "2301     1378    NaN         NaN       NaN            NaN        NaN   \n",
       "2302     1473    NaN         NaN       NaN            NaN        NaN   \n",
       "\n",
       "      consum_mb  first_name  last_name  age  ...   reg_date churn_date  \\\n",
       "0       1901.47    Anamaria      Bauer   45  ... 2018-12-24        NaT   \n",
       "1       6919.15      Mickey  Wilkerson   28  ... 2018-08-13        NaT   \n",
       "2      13314.82      Mickey  Wilkerson   28  ... 2018-08-13        NaT   \n",
       "3      22330.49      Mickey  Wilkerson   28  ... 2018-08-13        NaT   \n",
       "4      18504.30      Mickey  Wilkerson   28  ... 2018-08-13        NaT   \n",
       "...         ...         ...        ...  ...  ...        ...        ...   \n",
       "2298        NaN      Lorina    Stevens   69  ... 2018-10-26        NaT   \n",
       "2299        NaN  Kristopher       Lang   28  ... 2018-12-31        NaT   \n",
       "2300        NaN      Eliseo     Carson   21  ... 2018-06-17        NaT   \n",
       "2301        NaN    Mckinley    Clayton   22  ... 2018-12-17        NaT   \n",
       "2302        NaN        Kirk      Velez   61  ... 2018-12-31        NaT   \n",
       "\n",
       "     plan_name messages_included  mb_per_month_included  minutes_included  \\\n",
       "0     ultimate              1000                  30720              3000   \n",
       "1         surf                50                  15360               500   \n",
       "2         surf                50                  15360               500   \n",
       "3         surf                50                  15360               500   \n",
       "4         surf                50                  15360               500   \n",
       "...        ...               ...                    ...               ...   \n",
       "2298      surf                50                  15360               500   \n",
       "2299      surf                50                  15360               500   \n",
       "2300      surf                50                  15360               500   \n",
       "2301      surf                50                  15360               500   \n",
       "2302      surf                50                  15360               500   \n",
       "\n",
       "      usd_monthly_pay  usd_per_gb  usd_per_message  usd_per_minute  \n",
       "0                  70           7             0.01            0.01  \n",
       "1                  20          10             0.03            0.03  \n",
       "2                  20          10             0.03            0.03  \n",
       "3                  20          10             0.03            0.03  \n",
       "4                  20          10             0.03            0.03  \n",
       "...               ...         ...              ...             ...  \n",
       "2298               20          10             0.03            0.03  \n",
       "2299               20          10             0.03            0.03  \n",
       "2300               20          10             0.03            0.03  \n",
       "2301               20          10             0.03            0.03  \n",
       "2302               20          10             0.03            0.03  \n",
       "\n",
       "[2303 rows x 21 columns]"
      ]
     },
     "metadata": {},
     "output_type": "display_data"
    }
   ],
   "source": [
    "# Añade la información de la tarifa\n",
    "\n",
    "consum_users_plans = pd.merge(consum_users, users_plans, on=['user_id'], how='outer')\n",
    "\n",
    "display(consum_users_plans)\n"
   ]
  },
  {
   "cell_type": "code",
   "execution_count": 45,
   "metadata": {},
   "outputs": [
    {
     "data": {
      "text/html": [
       "<div>\n",
       "<style scoped>\n",
       "    .dataframe tbody tr th:only-of-type {\n",
       "        vertical-align: middle;\n",
       "    }\n",
       "\n",
       "    .dataframe tbody tr th {\n",
       "        vertical-align: top;\n",
       "    }\n",
       "\n",
       "    .dataframe thead th {\n",
       "        text-align: right;\n",
       "    }\n",
       "</style>\n",
       "<table border=\"1\" class=\"dataframe\">\n",
       "  <thead>\n",
       "    <tr style=\"text-align: right;\">\n",
       "      <th></th>\n",
       "      <th>user_id</th>\n",
       "      <th>month</th>\n",
       "      <th>cant_calls</th>\n",
       "      <th>duration</th>\n",
       "      <th>cant_messages</th>\n",
       "      <th>consum_gb</th>\n",
       "      <th>consum_mb</th>\n",
       "      <th>first_name</th>\n",
       "      <th>last_name</th>\n",
       "      <th>age</th>\n",
       "      <th>...</th>\n",
       "      <th>reg_date</th>\n",
       "      <th>churn_date</th>\n",
       "      <th>plan_name</th>\n",
       "      <th>messages_included</th>\n",
       "      <th>mb_per_month_included</th>\n",
       "      <th>minutes_included</th>\n",
       "      <th>usd_monthly_pay</th>\n",
       "      <th>usd_per_gb</th>\n",
       "      <th>usd_per_message</th>\n",
       "      <th>usd_per_minute</th>\n",
       "    </tr>\n",
       "  </thead>\n",
       "  <tbody>\n",
       "    <tr>\n",
       "      <th>0</th>\n",
       "      <td>1000</td>\n",
       "      <td>12</td>\n",
       "      <td>16</td>\n",
       "      <td>117</td>\n",
       "      <td>11</td>\n",
       "      <td>2</td>\n",
       "      <td>1901.47</td>\n",
       "      <td>Anamaria</td>\n",
       "      <td>Bauer</td>\n",
       "      <td>45</td>\n",
       "      <td>...</td>\n",
       "      <td>2018-12-24</td>\n",
       "      <td>0</td>\n",
       "      <td>ultimate</td>\n",
       "      <td>1000</td>\n",
       "      <td>30720</td>\n",
       "      <td>3000</td>\n",
       "      <td>70</td>\n",
       "      <td>7</td>\n",
       "      <td>0.01</td>\n",
       "      <td>0.01</td>\n",
       "    </tr>\n",
       "    <tr>\n",
       "      <th>1</th>\n",
       "      <td>1001</td>\n",
       "      <td>8</td>\n",
       "      <td>27</td>\n",
       "      <td>172</td>\n",
       "      <td>30</td>\n",
       "      <td>7</td>\n",
       "      <td>6919.15</td>\n",
       "      <td>Mickey</td>\n",
       "      <td>Wilkerson</td>\n",
       "      <td>28</td>\n",
       "      <td>...</td>\n",
       "      <td>2018-08-13</td>\n",
       "      <td>0</td>\n",
       "      <td>surf</td>\n",
       "      <td>50</td>\n",
       "      <td>15360</td>\n",
       "      <td>500</td>\n",
       "      <td>20</td>\n",
       "      <td>10</td>\n",
       "      <td>0.03</td>\n",
       "      <td>0.03</td>\n",
       "    </tr>\n",
       "    <tr>\n",
       "      <th>2</th>\n",
       "      <td>1001</td>\n",
       "      <td>9</td>\n",
       "      <td>49</td>\n",
       "      <td>298</td>\n",
       "      <td>44</td>\n",
       "      <td>14</td>\n",
       "      <td>13314.82</td>\n",
       "      <td>Mickey</td>\n",
       "      <td>Wilkerson</td>\n",
       "      <td>28</td>\n",
       "      <td>...</td>\n",
       "      <td>2018-08-13</td>\n",
       "      <td>0</td>\n",
       "      <td>surf</td>\n",
       "      <td>50</td>\n",
       "      <td>15360</td>\n",
       "      <td>500</td>\n",
       "      <td>20</td>\n",
       "      <td>10</td>\n",
       "      <td>0.03</td>\n",
       "      <td>0.03</td>\n",
       "    </tr>\n",
       "    <tr>\n",
       "      <th>3</th>\n",
       "      <td>1001</td>\n",
       "      <td>10</td>\n",
       "      <td>65</td>\n",
       "      <td>375</td>\n",
       "      <td>53</td>\n",
       "      <td>22</td>\n",
       "      <td>22330.49</td>\n",
       "      <td>Mickey</td>\n",
       "      <td>Wilkerson</td>\n",
       "      <td>28</td>\n",
       "      <td>...</td>\n",
       "      <td>2018-08-13</td>\n",
       "      <td>0</td>\n",
       "      <td>surf</td>\n",
       "      <td>50</td>\n",
       "      <td>15360</td>\n",
       "      <td>500</td>\n",
       "      <td>20</td>\n",
       "      <td>10</td>\n",
       "      <td>0.03</td>\n",
       "      <td>0.03</td>\n",
       "    </tr>\n",
       "    <tr>\n",
       "      <th>4</th>\n",
       "      <td>1001</td>\n",
       "      <td>11</td>\n",
       "      <td>64</td>\n",
       "      <td>405</td>\n",
       "      <td>36</td>\n",
       "      <td>19</td>\n",
       "      <td>18504.30</td>\n",
       "      <td>Mickey</td>\n",
       "      <td>Wilkerson</td>\n",
       "      <td>28</td>\n",
       "      <td>...</td>\n",
       "      <td>2018-08-13</td>\n",
       "      <td>0</td>\n",
       "      <td>surf</td>\n",
       "      <td>50</td>\n",
       "      <td>15360</td>\n",
       "      <td>500</td>\n",
       "      <td>20</td>\n",
       "      <td>10</td>\n",
       "      <td>0.03</td>\n",
       "      <td>0.03</td>\n",
       "    </tr>\n",
       "    <tr>\n",
       "      <th>...</th>\n",
       "      <td>...</td>\n",
       "      <td>...</td>\n",
       "      <td>...</td>\n",
       "      <td>...</td>\n",
       "      <td>...</td>\n",
       "      <td>...</td>\n",
       "      <td>...</td>\n",
       "      <td>...</td>\n",
       "      <td>...</td>\n",
       "      <td>...</td>\n",
       "      <td>...</td>\n",
       "      <td>...</td>\n",
       "      <td>...</td>\n",
       "      <td>...</td>\n",
       "      <td>...</td>\n",
       "      <td>...</td>\n",
       "      <td>...</td>\n",
       "      <td>...</td>\n",
       "      <td>...</td>\n",
       "      <td>...</td>\n",
       "      <td>...</td>\n",
       "    </tr>\n",
       "    <tr>\n",
       "      <th>2298</th>\n",
       "      <td>1143</td>\n",
       "      <td>0</td>\n",
       "      <td>0</td>\n",
       "      <td>0</td>\n",
       "      <td>0</td>\n",
       "      <td>0</td>\n",
       "      <td>0.00</td>\n",
       "      <td>Lorina</td>\n",
       "      <td>Stevens</td>\n",
       "      <td>69</td>\n",
       "      <td>...</td>\n",
       "      <td>2018-10-26</td>\n",
       "      <td>0</td>\n",
       "      <td>surf</td>\n",
       "      <td>50</td>\n",
       "      <td>15360</td>\n",
       "      <td>500</td>\n",
       "      <td>20</td>\n",
       "      <td>10</td>\n",
       "      <td>0.03</td>\n",
       "      <td>0.03</td>\n",
       "    </tr>\n",
       "    <tr>\n",
       "      <th>2299</th>\n",
       "      <td>1307</td>\n",
       "      <td>0</td>\n",
       "      <td>0</td>\n",
       "      <td>0</td>\n",
       "      <td>0</td>\n",
       "      <td>0</td>\n",
       "      <td>0.00</td>\n",
       "      <td>Kristopher</td>\n",
       "      <td>Lang</td>\n",
       "      <td>28</td>\n",
       "      <td>...</td>\n",
       "      <td>2018-12-31</td>\n",
       "      <td>0</td>\n",
       "      <td>surf</td>\n",
       "      <td>50</td>\n",
       "      <td>15360</td>\n",
       "      <td>500</td>\n",
       "      <td>20</td>\n",
       "      <td>10</td>\n",
       "      <td>0.03</td>\n",
       "      <td>0.03</td>\n",
       "    </tr>\n",
       "    <tr>\n",
       "      <th>2300</th>\n",
       "      <td>1319</td>\n",
       "      <td>0</td>\n",
       "      <td>0</td>\n",
       "      <td>0</td>\n",
       "      <td>0</td>\n",
       "      <td>0</td>\n",
       "      <td>0.00</td>\n",
       "      <td>Eliseo</td>\n",
       "      <td>Carson</td>\n",
       "      <td>21</td>\n",
       "      <td>...</td>\n",
       "      <td>2018-06-17</td>\n",
       "      <td>0</td>\n",
       "      <td>surf</td>\n",
       "      <td>50</td>\n",
       "      <td>15360</td>\n",
       "      <td>500</td>\n",
       "      <td>20</td>\n",
       "      <td>10</td>\n",
       "      <td>0.03</td>\n",
       "      <td>0.03</td>\n",
       "    </tr>\n",
       "    <tr>\n",
       "      <th>2301</th>\n",
       "      <td>1378</td>\n",
       "      <td>0</td>\n",
       "      <td>0</td>\n",
       "      <td>0</td>\n",
       "      <td>0</td>\n",
       "      <td>0</td>\n",
       "      <td>0.00</td>\n",
       "      <td>Mckinley</td>\n",
       "      <td>Clayton</td>\n",
       "      <td>22</td>\n",
       "      <td>...</td>\n",
       "      <td>2018-12-17</td>\n",
       "      <td>0</td>\n",
       "      <td>surf</td>\n",
       "      <td>50</td>\n",
       "      <td>15360</td>\n",
       "      <td>500</td>\n",
       "      <td>20</td>\n",
       "      <td>10</td>\n",
       "      <td>0.03</td>\n",
       "      <td>0.03</td>\n",
       "    </tr>\n",
       "    <tr>\n",
       "      <th>2302</th>\n",
       "      <td>1473</td>\n",
       "      <td>0</td>\n",
       "      <td>0</td>\n",
       "      <td>0</td>\n",
       "      <td>0</td>\n",
       "      <td>0</td>\n",
       "      <td>0.00</td>\n",
       "      <td>Kirk</td>\n",
       "      <td>Velez</td>\n",
       "      <td>61</td>\n",
       "      <td>...</td>\n",
       "      <td>2018-12-31</td>\n",
       "      <td>0</td>\n",
       "      <td>surf</td>\n",
       "      <td>50</td>\n",
       "      <td>15360</td>\n",
       "      <td>500</td>\n",
       "      <td>20</td>\n",
       "      <td>10</td>\n",
       "      <td>0.03</td>\n",
       "      <td>0.03</td>\n",
       "    </tr>\n",
       "  </tbody>\n",
       "</table>\n",
       "<p>2303 rows × 21 columns</p>\n",
       "</div>"
      ],
      "text/plain": [
       "      user_id  month  cant_calls  duration  cant_messages  consum_gb  \\\n",
       "0        1000     12          16       117             11          2   \n",
       "1        1001      8          27       172             30          7   \n",
       "2        1001      9          49       298             44         14   \n",
       "3        1001     10          65       375             53         22   \n",
       "4        1001     11          64       405             36         19   \n",
       "...       ...    ...         ...       ...            ...        ...   \n",
       "2298     1143      0           0         0              0          0   \n",
       "2299     1307      0           0         0              0          0   \n",
       "2300     1319      0           0         0              0          0   \n",
       "2301     1378      0           0         0              0          0   \n",
       "2302     1473      0           0         0              0          0   \n",
       "\n",
       "      consum_mb  first_name  last_name  age  ...   reg_date churn_date  \\\n",
       "0       1901.47    Anamaria      Bauer   45  ... 2018-12-24          0   \n",
       "1       6919.15      Mickey  Wilkerson   28  ... 2018-08-13          0   \n",
       "2      13314.82      Mickey  Wilkerson   28  ... 2018-08-13          0   \n",
       "3      22330.49      Mickey  Wilkerson   28  ... 2018-08-13          0   \n",
       "4      18504.30      Mickey  Wilkerson   28  ... 2018-08-13          0   \n",
       "...         ...         ...        ...  ...  ...        ...        ...   \n",
       "2298       0.00      Lorina    Stevens   69  ... 2018-10-26          0   \n",
       "2299       0.00  Kristopher       Lang   28  ... 2018-12-31          0   \n",
       "2300       0.00      Eliseo     Carson   21  ... 2018-06-17          0   \n",
       "2301       0.00    Mckinley    Clayton   22  ... 2018-12-17          0   \n",
       "2302       0.00        Kirk      Velez   61  ... 2018-12-31          0   \n",
       "\n",
       "     plan_name messages_included  mb_per_month_included  minutes_included  \\\n",
       "0     ultimate              1000                  30720              3000   \n",
       "1         surf                50                  15360               500   \n",
       "2         surf                50                  15360               500   \n",
       "3         surf                50                  15360               500   \n",
       "4         surf                50                  15360               500   \n",
       "...        ...               ...                    ...               ...   \n",
       "2298      surf                50                  15360               500   \n",
       "2299      surf                50                  15360               500   \n",
       "2300      surf                50                  15360               500   \n",
       "2301      surf                50                  15360               500   \n",
       "2302      surf                50                  15360               500   \n",
       "\n",
       "      usd_monthly_pay  usd_per_gb  usd_per_message  usd_per_minute  \n",
       "0                  70           7             0.01            0.01  \n",
       "1                  20          10             0.03            0.03  \n",
       "2                  20          10             0.03            0.03  \n",
       "3                  20          10             0.03            0.03  \n",
       "4                  20          10             0.03            0.03  \n",
       "...               ...         ...              ...             ...  \n",
       "2298               20          10             0.03            0.03  \n",
       "2299               20          10             0.03            0.03  \n",
       "2300               20          10             0.03            0.03  \n",
       "2301               20          10             0.03            0.03  \n",
       "2302               20          10             0.03            0.03  \n",
       "\n",
       "[2303 rows x 21 columns]"
      ]
     },
     "metadata": {},
     "output_type": "display_data"
    }
   ],
   "source": [
    "consum_users_conv = consum_users_plans.copy()\n",
    "\n",
    "# Rellenando valores nulos del DataFrame\n",
    "\n",
    "consum_users_conv = consum_users_conv.fillna('0')\n",
    "\n",
    "# Realizamos conversion de algunos tipo de datos que no se encontraban de tipo numerico para poder realizar\n",
    "# nuestros calculos correspondientes sin incovenientes\n",
    "\n",
    "consum_users_conv['month'] = consum_users_conv['month'].astype('int')\n",
    "consum_users_conv['consum_gb'] = consum_users_conv['consum_gb'].astype('float')\n",
    "consum_users_conv['consum_mb'] = consum_users_conv['consum_mb'].astype('float')\n",
    "consum_users_conv['duration'] = consum_users_conv['duration'].astype('float')\n",
    "consum_users_conv['cant_calls'] = consum_users_conv['cant_calls'].astype('int')\n",
    "consum_users_conv['cant_messages'] = consum_users_conv['cant_messages'].astype('int')\n",
    "\n",
    "# Redondear duracion de llamada y GB consumidos\n",
    "\n",
    "consum_users_conv['duration'] = consum_users_conv['duration'].apply(math.ceil)\n",
    "consum_users_conv['consum_gb'] = consum_users_conv['consum_gb'].apply(math.ceil)\n",
    "\n",
    "display(consum_users_conv)\n"
   ]
  },
  {
   "cell_type": "code",
   "execution_count": 46,
   "metadata": {},
   "outputs": [
    {
     "data": {
      "text/html": [
       "<div>\n",
       "<style scoped>\n",
       "    .dataframe tbody tr th:only-of-type {\n",
       "        vertical-align: middle;\n",
       "    }\n",
       "\n",
       "    .dataframe tbody tr th {\n",
       "        vertical-align: top;\n",
       "    }\n",
       "\n",
       "    .dataframe thead th {\n",
       "        text-align: right;\n",
       "    }\n",
       "</style>\n",
       "<table border=\"1\" class=\"dataframe\">\n",
       "  <thead>\n",
       "    <tr style=\"text-align: right;\">\n",
       "      <th></th>\n",
       "      <th>user_id</th>\n",
       "      <th>cant_calls</th>\n",
       "      <th>cant_messages</th>\n",
       "      <th>churn_date</th>\n",
       "      <th>city</th>\n",
       "      <th>consum_gb</th>\n",
       "      <th>consum_mb</th>\n",
       "      <th>duration</th>\n",
       "      <th>mb_per_month_included</th>\n",
       "      <th>messages_included</th>\n",
       "      <th>minutes_included</th>\n",
       "      <th>month</th>\n",
       "      <th>plan_name</th>\n",
       "      <th>reg_date</th>\n",
       "      <th>usd_monthly_pay</th>\n",
       "      <th>usd_per_gb</th>\n",
       "      <th>usd_per_message</th>\n",
       "      <th>usd_per_minute</th>\n",
       "    </tr>\n",
       "  </thead>\n",
       "  <tbody>\n",
       "    <tr>\n",
       "      <th>0</th>\n",
       "      <td>1000</td>\n",
       "      <td>16</td>\n",
       "      <td>11</td>\n",
       "      <td>0</td>\n",
       "      <td>Atlanta-Sandy Springs-Roswell, GA MSA</td>\n",
       "      <td>2</td>\n",
       "      <td>1901.47</td>\n",
       "      <td>117</td>\n",
       "      <td>30720</td>\n",
       "      <td>1000</td>\n",
       "      <td>3000</td>\n",
       "      <td>12</td>\n",
       "      <td>ultimate</td>\n",
       "      <td>2018-12-24</td>\n",
       "      <td>70</td>\n",
       "      <td>7</td>\n",
       "      <td>0.01</td>\n",
       "      <td>0.01</td>\n",
       "    </tr>\n",
       "    <tr>\n",
       "      <th>1</th>\n",
       "      <td>1001</td>\n",
       "      <td>27</td>\n",
       "      <td>30</td>\n",
       "      <td>0</td>\n",
       "      <td>Seattle-Tacoma-Bellevue, WA MSA</td>\n",
       "      <td>7</td>\n",
       "      <td>6919.15</td>\n",
       "      <td>172</td>\n",
       "      <td>15360</td>\n",
       "      <td>50</td>\n",
       "      <td>500</td>\n",
       "      <td>8</td>\n",
       "      <td>surf</td>\n",
       "      <td>2018-08-13</td>\n",
       "      <td>20</td>\n",
       "      <td>10</td>\n",
       "      <td>0.03</td>\n",
       "      <td>0.03</td>\n",
       "    </tr>\n",
       "    <tr>\n",
       "      <th>2</th>\n",
       "      <td>1001</td>\n",
       "      <td>49</td>\n",
       "      <td>44</td>\n",
       "      <td>0</td>\n",
       "      <td>Seattle-Tacoma-Bellevue, WA MSA</td>\n",
       "      <td>14</td>\n",
       "      <td>13314.82</td>\n",
       "      <td>298</td>\n",
       "      <td>15360</td>\n",
       "      <td>50</td>\n",
       "      <td>500</td>\n",
       "      <td>9</td>\n",
       "      <td>surf</td>\n",
       "      <td>2018-08-13</td>\n",
       "      <td>20</td>\n",
       "      <td>10</td>\n",
       "      <td>0.03</td>\n",
       "      <td>0.03</td>\n",
       "    </tr>\n",
       "    <tr>\n",
       "      <th>3</th>\n",
       "      <td>1001</td>\n",
       "      <td>65</td>\n",
       "      <td>53</td>\n",
       "      <td>0</td>\n",
       "      <td>Seattle-Tacoma-Bellevue, WA MSA</td>\n",
       "      <td>22</td>\n",
       "      <td>22330.49</td>\n",
       "      <td>375</td>\n",
       "      <td>15360</td>\n",
       "      <td>50</td>\n",
       "      <td>500</td>\n",
       "      <td>10</td>\n",
       "      <td>surf</td>\n",
       "      <td>2018-08-13</td>\n",
       "      <td>20</td>\n",
       "      <td>10</td>\n",
       "      <td>0.03</td>\n",
       "      <td>0.03</td>\n",
       "    </tr>\n",
       "    <tr>\n",
       "      <th>4</th>\n",
       "      <td>1001</td>\n",
       "      <td>64</td>\n",
       "      <td>36</td>\n",
       "      <td>0</td>\n",
       "      <td>Seattle-Tacoma-Bellevue, WA MSA</td>\n",
       "      <td>19</td>\n",
       "      <td>18504.30</td>\n",
       "      <td>405</td>\n",
       "      <td>15360</td>\n",
       "      <td>50</td>\n",
       "      <td>500</td>\n",
       "      <td>11</td>\n",
       "      <td>surf</td>\n",
       "      <td>2018-08-13</td>\n",
       "      <td>20</td>\n",
       "      <td>10</td>\n",
       "      <td>0.03</td>\n",
       "      <td>0.03</td>\n",
       "    </tr>\n",
       "    <tr>\n",
       "      <th>...</th>\n",
       "      <td>...</td>\n",
       "      <td>...</td>\n",
       "      <td>...</td>\n",
       "      <td>...</td>\n",
       "      <td>...</td>\n",
       "      <td>...</td>\n",
       "      <td>...</td>\n",
       "      <td>...</td>\n",
       "      <td>...</td>\n",
       "      <td>...</td>\n",
       "      <td>...</td>\n",
       "      <td>...</td>\n",
       "      <td>...</td>\n",
       "      <td>...</td>\n",
       "      <td>...</td>\n",
       "      <td>...</td>\n",
       "      <td>...</td>\n",
       "      <td>...</td>\n",
       "    </tr>\n",
       "    <tr>\n",
       "      <th>2298</th>\n",
       "      <td>1143</td>\n",
       "      <td>0</td>\n",
       "      <td>0</td>\n",
       "      <td>0</td>\n",
       "      <td>Cincinnati, OH-KY-IN MSA</td>\n",
       "      <td>0</td>\n",
       "      <td>0.00</td>\n",
       "      <td>0</td>\n",
       "      <td>15360</td>\n",
       "      <td>50</td>\n",
       "      <td>500</td>\n",
       "      <td>0</td>\n",
       "      <td>surf</td>\n",
       "      <td>2018-10-26</td>\n",
       "      <td>20</td>\n",
       "      <td>10</td>\n",
       "      <td>0.03</td>\n",
       "      <td>0.03</td>\n",
       "    </tr>\n",
       "    <tr>\n",
       "      <th>2299</th>\n",
       "      <td>1307</td>\n",
       "      <td>0</td>\n",
       "      <td>0</td>\n",
       "      <td>0</td>\n",
       "      <td>Boston-Cambridge-Newton, MA-NH MSA</td>\n",
       "      <td>0</td>\n",
       "      <td>0.00</td>\n",
       "      <td>0</td>\n",
       "      <td>15360</td>\n",
       "      <td>50</td>\n",
       "      <td>500</td>\n",
       "      <td>0</td>\n",
       "      <td>surf</td>\n",
       "      <td>2018-12-31</td>\n",
       "      <td>20</td>\n",
       "      <td>10</td>\n",
       "      <td>0.03</td>\n",
       "      <td>0.03</td>\n",
       "    </tr>\n",
       "    <tr>\n",
       "      <th>2300</th>\n",
       "      <td>1319</td>\n",
       "      <td>0</td>\n",
       "      <td>0</td>\n",
       "      <td>0</td>\n",
       "      <td>Colorado Springs, CO MSA</td>\n",
       "      <td>0</td>\n",
       "      <td>0.00</td>\n",
       "      <td>0</td>\n",
       "      <td>15360</td>\n",
       "      <td>50</td>\n",
       "      <td>500</td>\n",
       "      <td>0</td>\n",
       "      <td>surf</td>\n",
       "      <td>2018-06-17</td>\n",
       "      <td>20</td>\n",
       "      <td>10</td>\n",
       "      <td>0.03</td>\n",
       "      <td>0.03</td>\n",
       "    </tr>\n",
       "    <tr>\n",
       "      <th>2301</th>\n",
       "      <td>1378</td>\n",
       "      <td>0</td>\n",
       "      <td>0</td>\n",
       "      <td>0</td>\n",
       "      <td>Denver-Aurora-Lakewood, CO MSA</td>\n",
       "      <td>0</td>\n",
       "      <td>0.00</td>\n",
       "      <td>0</td>\n",
       "      <td>15360</td>\n",
       "      <td>50</td>\n",
       "      <td>500</td>\n",
       "      <td>0</td>\n",
       "      <td>surf</td>\n",
       "      <td>2018-12-17</td>\n",
       "      <td>20</td>\n",
       "      <td>10</td>\n",
       "      <td>0.03</td>\n",
       "      <td>0.03</td>\n",
       "    </tr>\n",
       "    <tr>\n",
       "      <th>2302</th>\n",
       "      <td>1473</td>\n",
       "      <td>0</td>\n",
       "      <td>0</td>\n",
       "      <td>0</td>\n",
       "      <td>Louisville/Jefferson County, KY-IN MSA</td>\n",
       "      <td>0</td>\n",
       "      <td>0.00</td>\n",
       "      <td>0</td>\n",
       "      <td>15360</td>\n",
       "      <td>50</td>\n",
       "      <td>500</td>\n",
       "      <td>0</td>\n",
       "      <td>surf</td>\n",
       "      <td>2018-12-31</td>\n",
       "      <td>20</td>\n",
       "      <td>10</td>\n",
       "      <td>0.03</td>\n",
       "      <td>0.03</td>\n",
       "    </tr>\n",
       "  </tbody>\n",
       "</table>\n",
       "<p>2303 rows × 18 columns</p>\n",
       "</div>"
      ],
      "text/plain": [
       "      user_id  cant_calls  cant_messages churn_date  \\\n",
       "0        1000          16             11          0   \n",
       "1        1001          27             30          0   \n",
       "2        1001          49             44          0   \n",
       "3        1001          65             53          0   \n",
       "4        1001          64             36          0   \n",
       "...       ...         ...            ...        ...   \n",
       "2298     1143           0              0          0   \n",
       "2299     1307           0              0          0   \n",
       "2300     1319           0              0          0   \n",
       "2301     1378           0              0          0   \n",
       "2302     1473           0              0          0   \n",
       "\n",
       "                                        city  consum_gb  consum_mb  duration  \\\n",
       "0      Atlanta-Sandy Springs-Roswell, GA MSA          2    1901.47       117   \n",
       "1            Seattle-Tacoma-Bellevue, WA MSA          7    6919.15       172   \n",
       "2            Seattle-Tacoma-Bellevue, WA MSA         14   13314.82       298   \n",
       "3            Seattle-Tacoma-Bellevue, WA MSA         22   22330.49       375   \n",
       "4            Seattle-Tacoma-Bellevue, WA MSA         19   18504.30       405   \n",
       "...                                      ...        ...        ...       ...   \n",
       "2298                Cincinnati, OH-KY-IN MSA          0       0.00         0   \n",
       "2299      Boston-Cambridge-Newton, MA-NH MSA          0       0.00         0   \n",
       "2300                Colorado Springs, CO MSA          0       0.00         0   \n",
       "2301          Denver-Aurora-Lakewood, CO MSA          0       0.00         0   \n",
       "2302  Louisville/Jefferson County, KY-IN MSA          0       0.00         0   \n",
       "\n",
       "      mb_per_month_included  messages_included  minutes_included  month  \\\n",
       "0                     30720               1000              3000     12   \n",
       "1                     15360                 50               500      8   \n",
       "2                     15360                 50               500      9   \n",
       "3                     15360                 50               500     10   \n",
       "4                     15360                 50               500     11   \n",
       "...                     ...                ...               ...    ...   \n",
       "2298                  15360                 50               500      0   \n",
       "2299                  15360                 50               500      0   \n",
       "2300                  15360                 50               500      0   \n",
       "2301                  15360                 50               500      0   \n",
       "2302                  15360                 50               500      0   \n",
       "\n",
       "     plan_name   reg_date  usd_monthly_pay  usd_per_gb  usd_per_message  \\\n",
       "0     ultimate 2018-12-24               70           7             0.01   \n",
       "1         surf 2018-08-13               20          10             0.03   \n",
       "2         surf 2018-08-13               20          10             0.03   \n",
       "3         surf 2018-08-13               20          10             0.03   \n",
       "4         surf 2018-08-13               20          10             0.03   \n",
       "...        ...        ...              ...         ...              ...   \n",
       "2298      surf 2018-10-26               20          10             0.03   \n",
       "2299      surf 2018-12-31               20          10             0.03   \n",
       "2300      surf 2018-06-17               20          10             0.03   \n",
       "2301      surf 2018-12-17               20          10             0.03   \n",
       "2302      surf 2018-12-31               20          10             0.03   \n",
       "\n",
       "      usd_per_minute  \n",
       "0               0.01  \n",
       "1               0.03  \n",
       "2               0.03  \n",
       "3               0.03  \n",
       "4               0.03  \n",
       "...              ...  \n",
       "2298            0.03  \n",
       "2299            0.03  \n",
       "2300            0.03  \n",
       "2301            0.03  \n",
       "2302            0.03  \n",
       "\n",
       "[2303 rows x 18 columns]"
      ]
     },
     "metadata": {},
     "output_type": "display_data"
    }
   ],
   "source": [
    "# Filtramos en nuestro DataFrame la información sensible de usuarios\n",
    "\n",
    "consum_users_conv = consum_users_conv.loc[:,consum_users_conv.columns.difference(['first_name', 'last_name', 'age'])]\n",
    "\n",
    "# Reordenar user_id\n",
    "\n",
    "user_id_col = consum_users_conv.pop('user_id')\n",
    "\n",
    "# Insertar en la posicion deseada\n",
    "\n",
    "consum_users_conv.insert(0, 'user_id', user_id_col)\n",
    "\n",
    "display(consum_users_conv)"
   ]
  },
  {
   "cell_type": "markdown",
   "metadata": {
    "id": "1IwGo4wg0q1I"
   },
   "source": [
    "[Calcula los ingresos mensuales por usuario (resta el límite del paquete gratuito del número total de llamadas, mensajes de texto y datos; multiplica el resultado por el valor del plan de llamadas; añade la tarifa mensual en función del plan de llamadas). Nota: Dadas las condiciones del plan, ¡esto podría no ser tan trivial como un par de líneas! Así que no pasa nada si dedicas algo de tiempo a ello.]"
   ]
  },
  {
   "cell_type": "code",
   "execution_count": 47,
   "metadata": {
    "id": "5FGCf_c60q1I"
   },
   "outputs": [],
   "source": [
    "# Calcula calls, messages, gb extras para cada usuario\n",
    "\n",
    "users_datos = consum_users_conv.copy()\n",
    "\n",
    "# Inicializamos las columnas que queremos agregar\n",
    "\n",
    "users_datos['extra_gb'] = 0\n",
    "users_datos['extra_messages'] = 0\n",
    "users_datos['extra_calls'] = 0\n",
    "\n",
    "# Iterar sobre cada fila del DataFrame\n",
    "for index, row in users_datos.iterrows():\n",
    "    \n",
    "    # Datos Extras (en GB)\n",
    "    if row['consum_mb'] > row['mb_per_month_included']:\n",
    "        users_datos.at[index, 'extra_gb'] = (row['consum_mb'] - row['mb_per_month_included']) / 1024  # Convertir a GB\n",
    "    else:\n",
    "        users_datos.at[index, 'extra_gb'] = 0    #  Colocar 0 cuando no exceda\n",
    "\n",
    "    # Mensajes Extras\n",
    "    if row['cant_messages'] > row['messages_included']:\n",
    "        users_datos.at[index, 'extra_messages'] = row['cant_messages'] - row['messages_included']\n",
    "    else:\n",
    "        users_datos.at[index, 'extra_messages'] = 0   #  Colocar 0 cuando no exceda  \n",
    "        \n",
    "    # Minutos Extras\n",
    "    if row['duration'] > row['minutes_included']:\n",
    "        users_datos.at[index, 'extra_calls'] = row['duration'] - row['minutes_included']\n",
    "    else:\n",
    "        users_datos.at[index, 'extra_calls'] = 0  #  Colocar 0 cuando no exceda"
   ]
  },
  {
   "cell_type": "code",
   "execution_count": 48,
   "metadata": {},
   "outputs": [
    {
     "data": {
      "text/html": [
       "<div>\n",
       "<style scoped>\n",
       "    .dataframe tbody tr th:only-of-type {\n",
       "        vertical-align: middle;\n",
       "    }\n",
       "\n",
       "    .dataframe tbody tr th {\n",
       "        vertical-align: top;\n",
       "    }\n",
       "\n",
       "    .dataframe thead th {\n",
       "        text-align: right;\n",
       "    }\n",
       "</style>\n",
       "<table border=\"1\" class=\"dataframe\">\n",
       "  <thead>\n",
       "    <tr style=\"text-align: right;\">\n",
       "      <th></th>\n",
       "      <th>user_id</th>\n",
       "      <th>cant_calls</th>\n",
       "      <th>cant_messages</th>\n",
       "      <th>churn_date</th>\n",
       "      <th>city</th>\n",
       "      <th>consum_gb</th>\n",
       "      <th>consum_mb</th>\n",
       "      <th>duration</th>\n",
       "      <th>mb_per_month_included</th>\n",
       "      <th>messages_included</th>\n",
       "      <th>...</th>\n",
       "      <th>plan_name</th>\n",
       "      <th>reg_date</th>\n",
       "      <th>usd_monthly_pay</th>\n",
       "      <th>usd_per_gb</th>\n",
       "      <th>usd_per_message</th>\n",
       "      <th>usd_per_minute</th>\n",
       "      <th>extra_gb</th>\n",
       "      <th>extra_messages</th>\n",
       "      <th>extra_calls</th>\n",
       "      <th>costo_mensual</th>\n",
       "    </tr>\n",
       "  </thead>\n",
       "  <tbody>\n",
       "    <tr>\n",
       "      <th>0</th>\n",
       "      <td>1000</td>\n",
       "      <td>16</td>\n",
       "      <td>11</td>\n",
       "      <td>0</td>\n",
       "      <td>Atlanta-Sandy Springs-Roswell, GA MSA</td>\n",
       "      <td>2</td>\n",
       "      <td>1901.47</td>\n",
       "      <td>117</td>\n",
       "      <td>30720</td>\n",
       "      <td>1000</td>\n",
       "      <td>...</td>\n",
       "      <td>ultimate</td>\n",
       "      <td>2018-12-24</td>\n",
       "      <td>70</td>\n",
       "      <td>7</td>\n",
       "      <td>0.01</td>\n",
       "      <td>0.01</td>\n",
       "      <td>0</td>\n",
       "      <td>0</td>\n",
       "      <td>0</td>\n",
       "      <td>70.00</td>\n",
       "    </tr>\n",
       "    <tr>\n",
       "      <th>1</th>\n",
       "      <td>1001</td>\n",
       "      <td>27</td>\n",
       "      <td>30</td>\n",
       "      <td>0</td>\n",
       "      <td>Seattle-Tacoma-Bellevue, WA MSA</td>\n",
       "      <td>7</td>\n",
       "      <td>6919.15</td>\n",
       "      <td>172</td>\n",
       "      <td>15360</td>\n",
       "      <td>50</td>\n",
       "      <td>...</td>\n",
       "      <td>surf</td>\n",
       "      <td>2018-08-13</td>\n",
       "      <td>20</td>\n",
       "      <td>10</td>\n",
       "      <td>0.03</td>\n",
       "      <td>0.03</td>\n",
       "      <td>0</td>\n",
       "      <td>0</td>\n",
       "      <td>0</td>\n",
       "      <td>20.00</td>\n",
       "    </tr>\n",
       "    <tr>\n",
       "      <th>2</th>\n",
       "      <td>1001</td>\n",
       "      <td>49</td>\n",
       "      <td>44</td>\n",
       "      <td>0</td>\n",
       "      <td>Seattle-Tacoma-Bellevue, WA MSA</td>\n",
       "      <td>14</td>\n",
       "      <td>13314.82</td>\n",
       "      <td>298</td>\n",
       "      <td>15360</td>\n",
       "      <td>50</td>\n",
       "      <td>...</td>\n",
       "      <td>surf</td>\n",
       "      <td>2018-08-13</td>\n",
       "      <td>20</td>\n",
       "      <td>10</td>\n",
       "      <td>0.03</td>\n",
       "      <td>0.03</td>\n",
       "      <td>0</td>\n",
       "      <td>0</td>\n",
       "      <td>0</td>\n",
       "      <td>20.00</td>\n",
       "    </tr>\n",
       "    <tr>\n",
       "      <th>3</th>\n",
       "      <td>1001</td>\n",
       "      <td>65</td>\n",
       "      <td>53</td>\n",
       "      <td>0</td>\n",
       "      <td>Seattle-Tacoma-Bellevue, WA MSA</td>\n",
       "      <td>22</td>\n",
       "      <td>22330.49</td>\n",
       "      <td>375</td>\n",
       "      <td>15360</td>\n",
       "      <td>50</td>\n",
       "      <td>...</td>\n",
       "      <td>surf</td>\n",
       "      <td>2018-08-13</td>\n",
       "      <td>20</td>\n",
       "      <td>10</td>\n",
       "      <td>0.03</td>\n",
       "      <td>0.03</td>\n",
       "      <td>6</td>\n",
       "      <td>3</td>\n",
       "      <td>0</td>\n",
       "      <td>80.09</td>\n",
       "    </tr>\n",
       "    <tr>\n",
       "      <th>4</th>\n",
       "      <td>1001</td>\n",
       "      <td>64</td>\n",
       "      <td>36</td>\n",
       "      <td>0</td>\n",
       "      <td>Seattle-Tacoma-Bellevue, WA MSA</td>\n",
       "      <td>19</td>\n",
       "      <td>18504.30</td>\n",
       "      <td>405</td>\n",
       "      <td>15360</td>\n",
       "      <td>50</td>\n",
       "      <td>...</td>\n",
       "      <td>surf</td>\n",
       "      <td>2018-08-13</td>\n",
       "      <td>20</td>\n",
       "      <td>10</td>\n",
       "      <td>0.03</td>\n",
       "      <td>0.03</td>\n",
       "      <td>3</td>\n",
       "      <td>0</td>\n",
       "      <td>0</td>\n",
       "      <td>50.00</td>\n",
       "    </tr>\n",
       "    <tr>\n",
       "      <th>...</th>\n",
       "      <td>...</td>\n",
       "      <td>...</td>\n",
       "      <td>...</td>\n",
       "      <td>...</td>\n",
       "      <td>...</td>\n",
       "      <td>...</td>\n",
       "      <td>...</td>\n",
       "      <td>...</td>\n",
       "      <td>...</td>\n",
       "      <td>...</td>\n",
       "      <td>...</td>\n",
       "      <td>...</td>\n",
       "      <td>...</td>\n",
       "      <td>...</td>\n",
       "      <td>...</td>\n",
       "      <td>...</td>\n",
       "      <td>...</td>\n",
       "      <td>...</td>\n",
       "      <td>...</td>\n",
       "      <td>...</td>\n",
       "      <td>...</td>\n",
       "    </tr>\n",
       "    <tr>\n",
       "      <th>2298</th>\n",
       "      <td>1143</td>\n",
       "      <td>0</td>\n",
       "      <td>0</td>\n",
       "      <td>0</td>\n",
       "      <td>Cincinnati, OH-KY-IN MSA</td>\n",
       "      <td>0</td>\n",
       "      <td>0.00</td>\n",
       "      <td>0</td>\n",
       "      <td>15360</td>\n",
       "      <td>50</td>\n",
       "      <td>...</td>\n",
       "      <td>surf</td>\n",
       "      <td>2018-10-26</td>\n",
       "      <td>20</td>\n",
       "      <td>10</td>\n",
       "      <td>0.03</td>\n",
       "      <td>0.03</td>\n",
       "      <td>0</td>\n",
       "      <td>0</td>\n",
       "      <td>0</td>\n",
       "      <td>20.00</td>\n",
       "    </tr>\n",
       "    <tr>\n",
       "      <th>2299</th>\n",
       "      <td>1307</td>\n",
       "      <td>0</td>\n",
       "      <td>0</td>\n",
       "      <td>0</td>\n",
       "      <td>Boston-Cambridge-Newton, MA-NH MSA</td>\n",
       "      <td>0</td>\n",
       "      <td>0.00</td>\n",
       "      <td>0</td>\n",
       "      <td>15360</td>\n",
       "      <td>50</td>\n",
       "      <td>...</td>\n",
       "      <td>surf</td>\n",
       "      <td>2018-12-31</td>\n",
       "      <td>20</td>\n",
       "      <td>10</td>\n",
       "      <td>0.03</td>\n",
       "      <td>0.03</td>\n",
       "      <td>0</td>\n",
       "      <td>0</td>\n",
       "      <td>0</td>\n",
       "      <td>20.00</td>\n",
       "    </tr>\n",
       "    <tr>\n",
       "      <th>2300</th>\n",
       "      <td>1319</td>\n",
       "      <td>0</td>\n",
       "      <td>0</td>\n",
       "      <td>0</td>\n",
       "      <td>Colorado Springs, CO MSA</td>\n",
       "      <td>0</td>\n",
       "      <td>0.00</td>\n",
       "      <td>0</td>\n",
       "      <td>15360</td>\n",
       "      <td>50</td>\n",
       "      <td>...</td>\n",
       "      <td>surf</td>\n",
       "      <td>2018-06-17</td>\n",
       "      <td>20</td>\n",
       "      <td>10</td>\n",
       "      <td>0.03</td>\n",
       "      <td>0.03</td>\n",
       "      <td>0</td>\n",
       "      <td>0</td>\n",
       "      <td>0</td>\n",
       "      <td>20.00</td>\n",
       "    </tr>\n",
       "    <tr>\n",
       "      <th>2301</th>\n",
       "      <td>1378</td>\n",
       "      <td>0</td>\n",
       "      <td>0</td>\n",
       "      <td>0</td>\n",
       "      <td>Denver-Aurora-Lakewood, CO MSA</td>\n",
       "      <td>0</td>\n",
       "      <td>0.00</td>\n",
       "      <td>0</td>\n",
       "      <td>15360</td>\n",
       "      <td>50</td>\n",
       "      <td>...</td>\n",
       "      <td>surf</td>\n",
       "      <td>2018-12-17</td>\n",
       "      <td>20</td>\n",
       "      <td>10</td>\n",
       "      <td>0.03</td>\n",
       "      <td>0.03</td>\n",
       "      <td>0</td>\n",
       "      <td>0</td>\n",
       "      <td>0</td>\n",
       "      <td>20.00</td>\n",
       "    </tr>\n",
       "    <tr>\n",
       "      <th>2302</th>\n",
       "      <td>1473</td>\n",
       "      <td>0</td>\n",
       "      <td>0</td>\n",
       "      <td>0</td>\n",
       "      <td>Louisville/Jefferson County, KY-IN MSA</td>\n",
       "      <td>0</td>\n",
       "      <td>0.00</td>\n",
       "      <td>0</td>\n",
       "      <td>15360</td>\n",
       "      <td>50</td>\n",
       "      <td>...</td>\n",
       "      <td>surf</td>\n",
       "      <td>2018-12-31</td>\n",
       "      <td>20</td>\n",
       "      <td>10</td>\n",
       "      <td>0.03</td>\n",
       "      <td>0.03</td>\n",
       "      <td>0</td>\n",
       "      <td>0</td>\n",
       "      <td>0</td>\n",
       "      <td>20.00</td>\n",
       "    </tr>\n",
       "  </tbody>\n",
       "</table>\n",
       "<p>2303 rows × 22 columns</p>\n",
       "</div>"
      ],
      "text/plain": [
       "      user_id  cant_calls  cant_messages churn_date  \\\n",
       "0        1000          16             11          0   \n",
       "1        1001          27             30          0   \n",
       "2        1001          49             44          0   \n",
       "3        1001          65             53          0   \n",
       "4        1001          64             36          0   \n",
       "...       ...         ...            ...        ...   \n",
       "2298     1143           0              0          0   \n",
       "2299     1307           0              0          0   \n",
       "2300     1319           0              0          0   \n",
       "2301     1378           0              0          0   \n",
       "2302     1473           0              0          0   \n",
       "\n",
       "                                        city  consum_gb  consum_mb  duration  \\\n",
       "0      Atlanta-Sandy Springs-Roswell, GA MSA          2    1901.47       117   \n",
       "1            Seattle-Tacoma-Bellevue, WA MSA          7    6919.15       172   \n",
       "2            Seattle-Tacoma-Bellevue, WA MSA         14   13314.82       298   \n",
       "3            Seattle-Tacoma-Bellevue, WA MSA         22   22330.49       375   \n",
       "4            Seattle-Tacoma-Bellevue, WA MSA         19   18504.30       405   \n",
       "...                                      ...        ...        ...       ...   \n",
       "2298                Cincinnati, OH-KY-IN MSA          0       0.00         0   \n",
       "2299      Boston-Cambridge-Newton, MA-NH MSA          0       0.00         0   \n",
       "2300                Colorado Springs, CO MSA          0       0.00         0   \n",
       "2301          Denver-Aurora-Lakewood, CO MSA          0       0.00         0   \n",
       "2302  Louisville/Jefferson County, KY-IN MSA          0       0.00         0   \n",
       "\n",
       "      mb_per_month_included  messages_included  ...  plan_name   reg_date  \\\n",
       "0                     30720               1000  ...   ultimate 2018-12-24   \n",
       "1                     15360                 50  ...       surf 2018-08-13   \n",
       "2                     15360                 50  ...       surf 2018-08-13   \n",
       "3                     15360                 50  ...       surf 2018-08-13   \n",
       "4                     15360                 50  ...       surf 2018-08-13   \n",
       "...                     ...                ...  ...        ...        ...   \n",
       "2298                  15360                 50  ...       surf 2018-10-26   \n",
       "2299                  15360                 50  ...       surf 2018-12-31   \n",
       "2300                  15360                 50  ...       surf 2018-06-17   \n",
       "2301                  15360                 50  ...       surf 2018-12-17   \n",
       "2302                  15360                 50  ...       surf 2018-12-31   \n",
       "\n",
       "     usd_monthly_pay usd_per_gb  usd_per_message  usd_per_minute  extra_gb  \\\n",
       "0                 70          7             0.01            0.01         0   \n",
       "1                 20         10             0.03            0.03         0   \n",
       "2                 20         10             0.03            0.03         0   \n",
       "3                 20         10             0.03            0.03         6   \n",
       "4                 20         10             0.03            0.03         3   \n",
       "...              ...        ...              ...             ...       ...   \n",
       "2298              20         10             0.03            0.03         0   \n",
       "2299              20         10             0.03            0.03         0   \n",
       "2300              20         10             0.03            0.03         0   \n",
       "2301              20         10             0.03            0.03         0   \n",
       "2302              20         10             0.03            0.03         0   \n",
       "\n",
       "      extra_messages  extra_calls  costo_mensual  \n",
       "0                  0            0          70.00  \n",
       "1                  0            0          20.00  \n",
       "2                  0            0          20.00  \n",
       "3                  3            0          80.09  \n",
       "4                  0            0          50.00  \n",
       "...              ...          ...            ...  \n",
       "2298               0            0          20.00  \n",
       "2299               0            0          20.00  \n",
       "2300               0            0          20.00  \n",
       "2301               0            0          20.00  \n",
       "2302               0            0          20.00  \n",
       "\n",
       "[2303 rows x 22 columns]"
      ]
     },
     "metadata": {},
     "output_type": "display_data"
    }
   ],
   "source": [
    "# Calculo de ingreso mensual por usuario\n",
    "\n",
    "users_datos['costo_mensual'] = users_datos['usd_monthly_pay'] + (users_datos['usd_per_minute']*users_datos['extra_calls']) + (users_datos['extra_gb']*users_datos['usd_per_gb']) + (users_datos['extra_messages']*users_datos['usd_per_message'])\n",
    "\n",
    "display(users_dato)"
   ]
  },
  {
   "cell_type": "markdown",
   "metadata": {
    "id": "-jtyHzJb0q1I"
   },
   "source": [
    "## Estudia el comportamiento de usuario"
   ]
  },
  {
   "cell_type": "markdown",
   "metadata": {
    "id": "AxU3Y0N70q1J"
   },
   "source": [
    "[Calcula algunas estadísticas descriptivas para los datos agregados y fusionados que nos sean útiles y que muestren un panorama general captado por los datos. Dibuja gráficos útiles para facilitar la comprensión. Dado que la tarea principal es comparar las tarifas y decidir cuál es más rentable, las estadísticas y gráficas deben calcularse por tarifa.]\n",
    "\n",
    "[En los comentarios hallarás pistas relevantes para las llamadas, pero no las hay para los mensajes e Internet. Sin embargo, el principio del estudio estadístico que se aplica para ellos es el mismo que para las llamadas.]"
   ]
  },
  {
   "cell_type": "markdown",
   "metadata": {
    "id": "vtW4CJEe0q1J"
   },
   "source": [
    "### Llamadas"
   ]
  },
  {
   "cell_type": "code",
   "execution_count": 49,
   "metadata": {},
   "outputs": [
    {
     "data": {
      "text/html": [
       "<div>\n",
       "<style scoped>\n",
       "    .dataframe tbody tr th:only-of-type {\n",
       "        vertical-align: middle;\n",
       "    }\n",
       "\n",
       "    .dataframe tbody tr th {\n",
       "        vertical-align: top;\n",
       "    }\n",
       "\n",
       "    .dataframe thead th {\n",
       "        text-align: right;\n",
       "    }\n",
       "</style>\n",
       "<table border=\"1\" class=\"dataframe\">\n",
       "  <thead>\n",
       "    <tr style=\"text-align: right;\">\n",
       "      <th></th>\n",
       "      <th>plan_name</th>\n",
       "      <th>month</th>\n",
       "      <th>mean_calls</th>\n",
       "    </tr>\n",
       "  </thead>\n",
       "  <tbody>\n",
       "    <tr>\n",
       "      <th>0</th>\n",
       "      <td>surf</td>\n",
       "      <td>0</td>\n",
       "      <td>0</td>\n",
       "    </tr>\n",
       "    <tr>\n",
       "      <th>1</th>\n",
       "      <td>surf</td>\n",
       "      <td>1</td>\n",
       "      <td>30</td>\n",
       "    </tr>\n",
       "    <tr>\n",
       "      <th>2</th>\n",
       "      <td>surf</td>\n",
       "      <td>2</td>\n",
       "      <td>41</td>\n",
       "    </tr>\n",
       "    <tr>\n",
       "      <th>3</th>\n",
       "      <td>surf</td>\n",
       "      <td>3</td>\n",
       "      <td>47</td>\n",
       "    </tr>\n",
       "    <tr>\n",
       "      <th>4</th>\n",
       "      <td>surf</td>\n",
       "      <td>4</td>\n",
       "      <td>49</td>\n",
       "    </tr>\n",
       "    <tr>\n",
       "      <th>5</th>\n",
       "      <td>surf</td>\n",
       "      <td>5</td>\n",
       "      <td>56</td>\n",
       "    </tr>\n",
       "    <tr>\n",
       "      <th>6</th>\n",
       "      <td>surf</td>\n",
       "      <td>6</td>\n",
       "      <td>60</td>\n",
       "    </tr>\n",
       "    <tr>\n",
       "      <th>7</th>\n",
       "      <td>surf</td>\n",
       "      <td>7</td>\n",
       "      <td>64</td>\n",
       "    </tr>\n",
       "    <tr>\n",
       "      <th>8</th>\n",
       "      <td>surf</td>\n",
       "      <td>8</td>\n",
       "      <td>58</td>\n",
       "    </tr>\n",
       "    <tr>\n",
       "      <th>9</th>\n",
       "      <td>surf</td>\n",
       "      <td>9</td>\n",
       "      <td>59</td>\n",
       "    </tr>\n",
       "    <tr>\n",
       "      <th>10</th>\n",
       "      <td>surf</td>\n",
       "      <td>10</td>\n",
       "      <td>61</td>\n",
       "    </tr>\n",
       "    <tr>\n",
       "      <th>11</th>\n",
       "      <td>surf</td>\n",
       "      <td>11</td>\n",
       "      <td>60</td>\n",
       "    </tr>\n",
       "    <tr>\n",
       "      <th>12</th>\n",
       "      <td>surf</td>\n",
       "      <td>12</td>\n",
       "      <td>66</td>\n",
       "    </tr>\n",
       "    <tr>\n",
       "      <th>13</th>\n",
       "      <td>ultimate</td>\n",
       "      <td>0</td>\n",
       "      <td>0</td>\n",
       "    </tr>\n",
       "    <tr>\n",
       "      <th>14</th>\n",
       "      <td>ultimate</td>\n",
       "      <td>1</td>\n",
       "      <td>28</td>\n",
       "    </tr>\n",
       "    <tr>\n",
       "      <th>15</th>\n",
       "      <td>ultimate</td>\n",
       "      <td>2</td>\n",
       "      <td>59</td>\n",
       "    </tr>\n",
       "    <tr>\n",
       "      <th>16</th>\n",
       "      <td>ultimate</td>\n",
       "      <td>3</td>\n",
       "      <td>46</td>\n",
       "    </tr>\n",
       "    <tr>\n",
       "      <th>17</th>\n",
       "      <td>ultimate</td>\n",
       "      <td>4</td>\n",
       "      <td>48</td>\n",
       "    </tr>\n",
       "    <tr>\n",
       "      <th>18</th>\n",
       "      <td>ultimate</td>\n",
       "      <td>5</td>\n",
       "      <td>58</td>\n",
       "    </tr>\n",
       "    <tr>\n",
       "      <th>19</th>\n",
       "      <td>ultimate</td>\n",
       "      <td>6</td>\n",
       "      <td>53</td>\n",
       "    </tr>\n",
       "    <tr>\n",
       "      <th>20</th>\n",
       "      <td>ultimate</td>\n",
       "      <td>7</td>\n",
       "      <td>59</td>\n",
       "    </tr>\n",
       "    <tr>\n",
       "      <th>21</th>\n",
       "      <td>ultimate</td>\n",
       "      <td>8</td>\n",
       "      <td>61</td>\n",
       "    </tr>\n",
       "    <tr>\n",
       "      <th>22</th>\n",
       "      <td>ultimate</td>\n",
       "      <td>9</td>\n",
       "      <td>62</td>\n",
       "    </tr>\n",
       "    <tr>\n",
       "      <th>23</th>\n",
       "      <td>ultimate</td>\n",
       "      <td>10</td>\n",
       "      <td>64</td>\n",
       "    </tr>\n",
       "    <tr>\n",
       "      <th>24</th>\n",
       "      <td>ultimate</td>\n",
       "      <td>11</td>\n",
       "      <td>63</td>\n",
       "    </tr>\n",
       "    <tr>\n",
       "      <th>25</th>\n",
       "      <td>ultimate</td>\n",
       "      <td>12</td>\n",
       "      <td>65</td>\n",
       "    </tr>\n",
       "  </tbody>\n",
       "</table>\n",
       "</div>"
      ],
      "text/plain": [
       "   plan_name  month  mean_calls\n",
       "0       surf      0           0\n",
       "1       surf      1          30\n",
       "2       surf      2          41\n",
       "3       surf      3          47\n",
       "4       surf      4          49\n",
       "5       surf      5          56\n",
       "6       surf      6          60\n",
       "7       surf      7          64\n",
       "8       surf      8          58\n",
       "9       surf      9          59\n",
       "10      surf     10          61\n",
       "11      surf     11          60\n",
       "12      surf     12          66\n",
       "13  ultimate      0           0\n",
       "14  ultimate      1          28\n",
       "15  ultimate      2          59\n",
       "16  ultimate      3          46\n",
       "17  ultimate      4          48\n",
       "18  ultimate      5          58\n",
       "19  ultimate      6          53\n",
       "20  ultimate      7          59\n",
       "21  ultimate      8          61\n",
       "22  ultimate      9          62\n",
       "23  ultimate     10          64\n",
       "24  ultimate     11          63\n",
       "25  ultimate     12          65"
      ]
     },
     "metadata": {},
     "output_type": "display_data"
    }
   ],
   "source": [
    "# Compara la duración promedio de llamadas por cada plan y por cada mes. Traza un gráfico de barras para visualizarla.\n",
    "\n",
    "# Filtramos de nuestro dataframe los campos que nos interesa\n",
    "\n",
    "calls_filtro_mean = users_datos.loc[:, ['month','cant_calls','plan_name']]\n",
    "\n",
    "# Agrupamos y Calculamos el promedio de la cantidad de llamadas\n",
    "\n",
    "mean_calls = calls_filtro_mean.groupby(['plan_name','month'])['cant_calls'].mean().reset_index(name='mean_calls')\n",
    "\n",
    "# Redondear Llamadas\n",
    "\n",
    "mean_calls['mean_calls'] = mean_calls['mean_calls'].apply(math.ceil)\n",
    "\n",
    "display(mean_calls)\n"
   ]
  },
  {
   "cell_type": "code",
   "execution_count": 50,
   "metadata": {},
   "outputs": [],
   "source": [
    "# Filtrando plan surf\n",
    "\n",
    "mean_calls_surf = mean_calls[mean_calls['plan_name']=='surf']\n",
    "\n",
    "# Filtrando plan ultimate\n",
    "\n",
    "mean_calls_ultimate = mean_calls[mean_calls['plan_name']=='ultimate']"
   ]
  },
  {
   "cell_type": "code",
   "execution_count": 51,
   "metadata": {},
   "outputs": [
    {
     "data": {
      "image/png": "[encoded data removed]",
      "text/plain": [
       "<Figure size 1500x500 with 3 Axes>"
      ]
     },
     "metadata": {},
     "output_type": "display_data"
    }
   ],
   "source": [
    "# Crear la figura y los ejes\n",
    "\n",
    "fig, axs = plt.subplots(1, 3, figsize=(15, 5))\n",
    "\n",
    "colors_plan = ['hotpink','purple']\n",
    "\n",
    "# Gráfico de duración promedio por mes de Plan Surf\n",
    "\n",
    "axs[0].bar(mean_calls_surf ['month'], mean_calls_surf['mean_calls'], color='hotpink')\n",
    "axs[0].set_xlabel('Meses')\n",
    "axs[0].set_ylabel('Duración Promedio Plan Surf (minutos)')\n",
    "axs[0].set_title('Duración Promedio de Llamadas de Plan Surf')\n",
    "axs[0].tick_params(axis='x')\n",
    "\n",
    "\n",
    "# Gráfico de duración promedio por mes de Plan Ultimate\n",
    "\n",
    "axs[1].bar(mean_calls_ultimate['month'], mean_calls_ultimate['mean_calls'], color='purple')\n",
    "axs[1].set_xlabel('Meses')\n",
    "axs[1].set_ylabel('Duración Promedio Plan Ultimate(minutos)')\n",
    "axs[1].set_title('Duración Promedio de Llamadas de Plan Ultimate')\n",
    "axs[1].tick_params(axis='x')\n",
    "\n",
    "# Gráfico de duración promedio por Plan\n",
    "\n",
    "axs[2].bar(mean_calls['plan_name'], mean_calls['mean_calls'], color=colors_plan, width=0.3)\n",
    "axs[2].set_xlabel('Plan Name')\n",
    "axs[2].set_ylabel('Duración Promedio de Llamadas (minutos)')\n",
    "axs[2].set_title('Duración Promedio de Llamadas por Plan')\n",
    "axs[2].tick_params(axis='x')\n",
    "\n",
    "# Ajustar el diseño\n",
    "plt.tight_layout()\n",
    "plt.show()"
   ]
  },
  {
   "cell_type": "markdown",
   "metadata": {},
   "source": [
    "**Comentario:**  En el gráfico (Plan Surf) muestra que la duración promedio de las llamadas  aumenta con el paso de los meses. Al inicio del año (mes 1), la duración promedio es baja, alrededor de 30 minutos, pero va creciendo hasta alcanzar un máximo de 65 minutos en el mes 12. Esto podría indicar un aumento en el uso del plan a lo largo del año.\n",
    "\n",
    "En el gráfico (Plan Ultimate) podemos observar un patrón similar al de surf, comienza a principio de año con un consumo bajo menor a 30 minutos, sin embargo apartir del segundo mes comienza un caida, pero luego se estabiliza entre 50 a 65 minutos, hasta finales del año.\n",
    "\n",
    "Esto nos indica que los usuarios de ambos planes tienden a realizar llamadas de duraciones similares. De hecho sin comparamos el ultimo gráfico barras de ambos planes, las barras se encuentra practicamente a la misma altura, se observa un promedio de  65 minutos para ambos."
   ]
  },
  {
   "cell_type": "code",
   "execution_count": 52,
   "metadata": {
    "id": "QoLqW1S_0q1J"
   },
   "outputs": [
    {
     "data": {
      "text/html": [
       "<div>\n",
       "<style scoped>\n",
       "    .dataframe tbody tr th:only-of-type {\n",
       "        vertical-align: middle;\n",
       "    }\n",
       "\n",
       "    .dataframe tbody tr th {\n",
       "        vertical-align: top;\n",
       "    }\n",
       "\n",
       "    .dataframe thead th {\n",
       "        text-align: right;\n",
       "    }\n",
       "</style>\n",
       "<table border=\"1\" class=\"dataframe\">\n",
       "  <thead>\n",
       "    <tr style=\"text-align: right;\">\n",
       "      <th></th>\n",
       "      <th>user_id</th>\n",
       "      <th>plan_name</th>\n",
       "      <th>sum_minutes_extra_calls</th>\n",
       "    </tr>\n",
       "  </thead>\n",
       "  <tbody>\n",
       "    <tr>\n",
       "      <th>0</th>\n",
       "      <td>1003</td>\n",
       "      <td>surf</td>\n",
       "      <td>541</td>\n",
       "    </tr>\n",
       "    <tr>\n",
       "      <th>1</th>\n",
       "      <td>1007</td>\n",
       "      <td>surf</td>\n",
       "      <td>191</td>\n",
       "    </tr>\n",
       "    <tr>\n",
       "      <th>2</th>\n",
       "      <td>1009</td>\n",
       "      <td>surf</td>\n",
       "      <td>1594</td>\n",
       "    </tr>\n",
       "    <tr>\n",
       "      <th>3</th>\n",
       "      <td>1010</td>\n",
       "      <td>surf</td>\n",
       "      <td>640</td>\n",
       "    </tr>\n",
       "    <tr>\n",
       "      <th>4</th>\n",
       "      <td>1014</td>\n",
       "      <td>surf</td>\n",
       "      <td>551</td>\n",
       "    </tr>\n",
       "    <tr>\n",
       "      <th>...</th>\n",
       "      <td>...</td>\n",
       "      <td>...</td>\n",
       "      <td>...</td>\n",
       "    </tr>\n",
       "    <tr>\n",
       "      <th>156</th>\n",
       "      <td>1483</td>\n",
       "      <td>surf</td>\n",
       "      <td>140</td>\n",
       "    </tr>\n",
       "    <tr>\n",
       "      <th>157</th>\n",
       "      <td>1488</td>\n",
       "      <td>surf</td>\n",
       "      <td>1135</td>\n",
       "    </tr>\n",
       "    <tr>\n",
       "      <th>158</th>\n",
       "      <td>1491</td>\n",
       "      <td>surf</td>\n",
       "      <td>52</td>\n",
       "    </tr>\n",
       "    <tr>\n",
       "      <th>159</th>\n",
       "      <td>1494</td>\n",
       "      <td>surf</td>\n",
       "      <td>86</td>\n",
       "    </tr>\n",
       "    <tr>\n",
       "      <th>160</th>\n",
       "      <td>1495</td>\n",
       "      <td>surf</td>\n",
       "      <td>79</td>\n",
       "    </tr>\n",
       "  </tbody>\n",
       "</table>\n",
       "<p>161 rows × 3 columns</p>\n",
       "</div>"
      ],
      "text/plain": [
       "     user_id plan_name  sum_minutes_extra_calls\n",
       "0       1003      surf                      541\n",
       "1       1007      surf                      191\n",
       "2       1009      surf                     1594\n",
       "3       1010      surf                      640\n",
       "4       1014      surf                      551\n",
       "..       ...       ...                      ...\n",
       "156     1483      surf                      140\n",
       "157     1488      surf                     1135\n",
       "158     1491      surf                       52\n",
       "159     1494      surf                       86\n",
       "160     1495      surf                       79\n",
       "\n",
       "[161 rows x 3 columns]"
      ]
     },
     "metadata": {},
     "output_type": "display_data"
    }
   ],
   "source": [
    "# Compara el número de minutos mensuales que necesitan los usuarios de cada plan. Traza un histograma.\n",
    "\n",
    "calls_users_filtro =  users_datos.loc[:, ['user_id','month','plan_name','extra_calls']]\n",
    "\n",
    "# Filtramos solo a los clientes que se excedieron en minutos \n",
    "\n",
    "calls_filtro = calls_users_filtro.loc[calls_users_filtro['extra_calls'] != 0]\n",
    "\n",
    "# Agrupamos y Calculamos la suma de los minutos extras en llamadas consumido por el usuario\n",
    "\n",
    "sum_minutes_extra_calls = calls_filtro.groupby(['user_id','plan_name'])['extra_calls'].sum().reset_index(name='sum_minutes_extra_calls')\n",
    "\n",
    "display(sum_minutes_extra_calls)\n"
   ]
  },
  {
   "cell_type": "code",
   "execution_count": 53,
   "metadata": {},
   "outputs": [
    {
     "data": {
      "image/png": "[encoded data removed]",
      "text/plain": [
       "<Figure size 640x480 with 1 Axes>"
      ]
     },
     "metadata": {},
     "output_type": "display_data"
    }
   ],
   "source": [
    "# Realizamos Grafico de Histogramas para Llamadas\n",
    "\n",
    "sum_minutes_extra_calls[sum_minutes_extra_calls['plan_name'] == 'surf']['sum_minutes_extra_calls'].plot(kind='hist', color='hotpink', bins=30, alpha=0.7)\n",
    "\n",
    "sum_minutes_extra_calls[sum_minutes_extra_calls['plan_name'] == 'ultimate']['sum_minutes_extra_calls'].plot(kind='hist', color='purple', bins=30, alpha=0.8)\n",
    "\n",
    "plt.ylabel('Frecuencia')\n",
    "plt.legend(['Surf', 'Ultimate']) \n",
    "plt.xlabel('Minutos Requeridos por los Usuarios')\n",
    "plt.show()\n"
   ]
  },
  {
   "cell_type": "markdown",
   "metadata": {},
   "source": [
    "**Comentario:** Podemos observar que los usuarios del plan surf son los unicos que exceden la cantidad de minutos de llamdas.Observamos un sesgo positivo, donde la mayoría de los usuarios consumen pocos minutos. Podemos ver que menos de 20 usuarios requieren 500 minutos. Un grupo muchisimo menor a 10 son los unicos que consumen más de 1000 minutos."
   ]
  },
  {
   "cell_type": "markdown",
   "metadata": {
    "id": "bLS9T8OH0q1K"
   },
   "source": [
    "[Calcula la media y la variable de la duración de las llamadas para averiguar si los usuarios de los distintos planes se comportan de forma diferente al realizar sus llamadas.]"
   ]
  },
  {
   "cell_type": "code",
   "execution_count": 54,
   "metadata": {
    "id": "oSndbAnt0q1K"
   },
   "outputs": [
    {
     "name": "stdout",
     "output_type": "stream",
     "text": [
      "La media en el Plan Surf en Minutos es: 403.7105763141229\n",
      "La varianza en el Plan Surf en Minutos es: 49579.20198566258\n"
     ]
    }
   ],
   "source": [
    "# Calcula la media y la varianza de la duración mensual de llamadas.\n",
    "\n",
    "# Filtramos de nuestro dataframe el campo que nos interesa en este caso para el plan surf\n",
    "\n",
    "filtro_surf = users_datos.query('plan_name == \"surf\"')\n",
    "\n",
    "duration_filtro_surf = filtro_surf.loc[:,'duration'].reset_index()\n",
    "\n",
    "# Calculamos la media de duracion mensual de llamdas\n",
    "\n",
    "duration_mean_surf = duration_filtro_surf.mean()\n",
    "\n",
    "# Calculamos la varianza de duracion mensual de llamdas\n",
    "\n",
    "duration_var_surf = duration_filtro_surf.var()\n",
    "\n",
    "print('La media en el Plan Surf en Minutos es:',duration_mean_surf['duration'])\n",
    "print('La varianza en el Plan Surf en Minutos es:',duration_var_surf['duration'])"
   ]
  },
  {
   "cell_type": "code",
   "execution_count": 55,
   "metadata": {},
   "outputs": [
    {
     "name": "stdout",
     "output_type": "stream",
     "text": [
      "La media en el Plan Ultimate en Minutos es: 404.46132596685084\n",
      "La varianza en el Plan Ultimate en Minutos es: 52275.983287865936\n"
     ]
    }
   ],
   "source": [
    "# Calcula la media y la varianza de la duración mensual de llamadas.\n",
    "\n",
    "# Filtramos de nuestro dataframe el campo que nos interesa en este caso para el plan surf\n",
    "\n",
    "filtro_ultimate = users_datos.query('plan_name == \"ultimate\"')\n",
    "\n",
    "duration_filtro_ultimate = filtro_ultimate.loc[:,'duration'].reset_index()\n",
    "\n",
    "# Calculamos la media de duracion mensual de llamadas\n",
    "\n",
    "duration_mean_ultimate = duration_filtro_ultimate.mean()\n",
    "\n",
    "# Calculamos la varianza de duracion mensual de llamadas\n",
    "\n",
    "duration_var_ultimate = duration_filtro_ultimate.var()\n",
    "\n",
    "print('La media en el Plan Ultimate en Minutos es:',duration_mean_ultimate['duration'])\n",
    "print('La varianza en el Plan Ultimate en Minutos es:',duration_var_ultimate['duration'])"
   ]
  },
  {
   "cell_type": "code",
   "execution_count": 56,
   "metadata": {
    "id": "nZzoRUKc0q1K"
   },
   "outputs": [
    {
     "data": {
      "image/png": "[encoded data removed]",
      "text/plain": [
       "<Figure size 1400x600 with 2 Axes>"
      ]
     },
     "metadata": {},
     "output_type": "display_data"
    }
   ],
   "source": [
    "# Traza un diagrama de caja para visualizar la distribución de la duración mensual de llamadas\n",
    "\n",
    "# Crear un diagrama de caja plan surf\n",
    "\n",
    "fig, axs = plt.subplots(1, 2, figsize=(14, 6)) \n",
    "\n",
    "sns.boxplot(y='duration', data=duration_filtro_surf, color='hotpink',ax=axs[0])\n",
    "axs[0].set_title('Diagrama de Caja - Plan Surf')\n",
    "axs[0].set_ylabel('Duración de Llamadas (minutos)')\n",
    "axs[0].grid()\n",
    "\n",
    "# Crear un diagrama de caja plan ultimate\n",
    "\n",
    "sns.boxplot(y='duration', data=duration_filtro_ultimate, color='purple',ax=axs[1])\n",
    "axs[1].set_title('Diagrama de Caja - Plan Ultimate')\n",
    "axs[1].set_ylabel('Duración de Llamadas (minutos)')\n",
    "axs[1].grid()\n",
    "\n",
    "plt.tight_layout()\n",
    "plt.show()\n"
   ]
  },
  {
   "cell_type": "markdown",
   "metadata": {
    "id": "r627zBO50q1K"
   },
   "source": [
    "**Comentario:** Para el siguiente diagrama, encontramos valores atipicos para ambos casos, tanto para plan surf como ultimate. Los valores atípicos, indican llamadas que duraron significativamente más tiempo, algunas incluso más de 1400 minutos, para el caso del plan surf, y para el plan ultimate 1200 minutos. El rango total de minutos para plan surf va de 0 1000 minutos y en plan ultimate de 0 a 1000 minutos tambien aproximadamente, nuestros valores atipicos exceden ese rango. La linea del medio de la caja nos indica la mediana, y esta se encuentra para ambos casos aproximadamente en 400 minutos lo que nos indica que el valor medio para ambos planes, es decir el 50% de nuestros usuarios mensualmente gastan esta cantidad de minutos. En definitiva nuestros planes tienen una distribución similar. Es interesante conocer esta distribución, ya que nos permite tener en cuenta la cantidad de minutos en la que exceden nuestros usuarios, al menos para el plan surf, ya que los minutos incluidos para este plan es de 500 al mes, y hay usuarios con consumo muchisimo mayor."
   ]
  },
  {
   "cell_type": "markdown",
   "metadata": {
    "id": "8idKy8Wh0q1L"
   },
   "source": [
    "### Mensajes"
   ]
  },
  {
   "cell_type": "code",
   "execution_count": 57,
   "metadata": {
    "id": "NXLxiTit0q1L"
   },
   "outputs": [
    {
     "data": {
      "text/html": [
       "<div>\n",
       "<style scoped>\n",
       "    .dataframe tbody tr th:only-of-type {\n",
       "        vertical-align: middle;\n",
       "    }\n",
       "\n",
       "    .dataframe tbody tr th {\n",
       "        vertical-align: top;\n",
       "    }\n",
       "\n",
       "    .dataframe thead th {\n",
       "        text-align: right;\n",
       "    }\n",
       "</style>\n",
       "<table border=\"1\" class=\"dataframe\">\n",
       "  <thead>\n",
       "    <tr style=\"text-align: right;\">\n",
       "      <th></th>\n",
       "      <th>plan_name</th>\n",
       "      <th>month</th>\n",
       "      <th>mean_messages</th>\n",
       "    </tr>\n",
       "  </thead>\n",
       "  <tbody>\n",
       "    <tr>\n",
       "      <th>0</th>\n",
       "      <td>surf</td>\n",
       "      <td>0</td>\n",
       "      <td>0</td>\n",
       "    </tr>\n",
       "    <tr>\n",
       "      <th>1</th>\n",
       "      <td>surf</td>\n",
       "      <td>1</td>\n",
       "      <td>11</td>\n",
       "    </tr>\n",
       "    <tr>\n",
       "      <th>2</th>\n",
       "      <td>surf</td>\n",
       "      <td>2</td>\n",
       "      <td>12</td>\n",
       "    </tr>\n",
       "    <tr>\n",
       "      <th>3</th>\n",
       "      <td>surf</td>\n",
       "      <td>3</td>\n",
       "      <td>16</td>\n",
       "    </tr>\n",
       "    <tr>\n",
       "      <th>4</th>\n",
       "      <td>surf</td>\n",
       "      <td>4</td>\n",
       "      <td>18</td>\n",
       "    </tr>\n",
       "    <tr>\n",
       "      <th>5</th>\n",
       "      <td>surf</td>\n",
       "      <td>5</td>\n",
       "      <td>25</td>\n",
       "    </tr>\n",
       "    <tr>\n",
       "      <th>6</th>\n",
       "      <td>surf</td>\n",
       "      <td>6</td>\n",
       "      <td>26</td>\n",
       "    </tr>\n",
       "    <tr>\n",
       "      <th>7</th>\n",
       "      <td>surf</td>\n",
       "      <td>7</td>\n",
       "      <td>28</td>\n",
       "    </tr>\n",
       "    <tr>\n",
       "      <th>8</th>\n",
       "      <td>surf</td>\n",
       "      <td>8</td>\n",
       "      <td>29</td>\n",
       "    </tr>\n",
       "    <tr>\n",
       "      <th>9</th>\n",
       "      <td>surf</td>\n",
       "      <td>9</td>\n",
       "      <td>31</td>\n",
       "    </tr>\n",
       "    <tr>\n",
       "      <th>10</th>\n",
       "      <td>surf</td>\n",
       "      <td>10</td>\n",
       "      <td>34</td>\n",
       "    </tr>\n",
       "    <tr>\n",
       "      <th>11</th>\n",
       "      <td>surf</td>\n",
       "      <td>11</td>\n",
       "      <td>33</td>\n",
       "    </tr>\n",
       "    <tr>\n",
       "      <th>12</th>\n",
       "      <td>surf</td>\n",
       "      <td>12</td>\n",
       "      <td>39</td>\n",
       "    </tr>\n",
       "    <tr>\n",
       "      <th>13</th>\n",
       "      <td>ultimate</td>\n",
       "      <td>0</td>\n",
       "      <td>0</td>\n",
       "    </tr>\n",
       "    <tr>\n",
       "      <th>14</th>\n",
       "      <td>ultimate</td>\n",
       "      <td>1</td>\n",
       "      <td>16</td>\n",
       "    </tr>\n",
       "    <tr>\n",
       "      <th>15</th>\n",
       "      <td>ultimate</td>\n",
       "      <td>2</td>\n",
       "      <td>22</td>\n",
       "    </tr>\n",
       "    <tr>\n",
       "      <th>16</th>\n",
       "      <td>ultimate</td>\n",
       "      <td>3</td>\n",
       "      <td>21</td>\n",
       "    </tr>\n",
       "    <tr>\n",
       "      <th>17</th>\n",
       "      <td>ultimate</td>\n",
       "      <td>4</td>\n",
       "      <td>23</td>\n",
       "    </tr>\n",
       "    <tr>\n",
       "      <th>18</th>\n",
       "      <td>ultimate</td>\n",
       "      <td>5</td>\n",
       "      <td>33</td>\n",
       "    </tr>\n",
       "    <tr>\n",
       "      <th>19</th>\n",
       "      <td>ultimate</td>\n",
       "      <td>6</td>\n",
       "      <td>30</td>\n",
       "    </tr>\n",
       "    <tr>\n",
       "      <th>20</th>\n",
       "      <td>ultimate</td>\n",
       "      <td>7</td>\n",
       "      <td>33</td>\n",
       "    </tr>\n",
       "    <tr>\n",
       "      <th>21</th>\n",
       "      <td>ultimate</td>\n",
       "      <td>8</td>\n",
       "      <td>39</td>\n",
       "    </tr>\n",
       "    <tr>\n",
       "      <th>22</th>\n",
       "      <td>ultimate</td>\n",
       "      <td>9</td>\n",
       "      <td>38</td>\n",
       "    </tr>\n",
       "    <tr>\n",
       "      <th>23</th>\n",
       "      <td>ultimate</td>\n",
       "      <td>10</td>\n",
       "      <td>40</td>\n",
       "    </tr>\n",
       "    <tr>\n",
       "      <th>24</th>\n",
       "      <td>ultimate</td>\n",
       "      <td>11</td>\n",
       "      <td>39</td>\n",
       "    </tr>\n",
       "    <tr>\n",
       "      <th>25</th>\n",
       "      <td>ultimate</td>\n",
       "      <td>12</td>\n",
       "      <td>46</td>\n",
       "    </tr>\n",
       "  </tbody>\n",
       "</table>\n",
       "</div>"
      ],
      "text/plain": [
       "   plan_name  month  mean_messages\n",
       "0       surf      0              0\n",
       "1       surf      1             11\n",
       "2       surf      2             12\n",
       "3       surf      3             16\n",
       "4       surf      4             18\n",
       "5       surf      5             25\n",
       "6       surf      6             26\n",
       "7       surf      7             28\n",
       "8       surf      8             29\n",
       "9       surf      9             31\n",
       "10      surf     10             34\n",
       "11      surf     11             33\n",
       "12      surf     12             39\n",
       "13  ultimate      0              0\n",
       "14  ultimate      1             16\n",
       "15  ultimate      2             22\n",
       "16  ultimate      3             21\n",
       "17  ultimate      4             23\n",
       "18  ultimate      5             33\n",
       "19  ultimate      6             30\n",
       "20  ultimate      7             33\n",
       "21  ultimate      8             39\n",
       "22  ultimate      9             38\n",
       "23  ultimate     10             40\n",
       "24  ultimate     11             39\n",
       "25  ultimate     12             46"
      ]
     },
     "metadata": {},
     "output_type": "display_data"
    }
   ],
   "source": [
    "# Comprara el promedio de número de mensajes que tienden a enviar cada mes los usuarios de cada plan\n",
    "\n",
    "# Filtramos de nuestro dataframe los campos que nos interesa\n",
    "\n",
    "messages_filtro_mean = users_datos.loc[:, ['month','cant_messages','plan_name']]\n",
    "\n",
    "# Agrupamos y Calculamos el promedio de la cantidad de mensajes\n",
    "\n",
    "mean_messages = messages_filtro_mean.groupby(['plan_name','month'])['cant_messages'].mean().reset_index(name='mean_messages')\n",
    "\n",
    "# Redondear promedio mensajes\n",
    "\n",
    "mean_messages['mean_messages'] = mean_messages['mean_messages'].apply(math.ceil) \n",
    "\n",
    "display(mean_messages)"
   ]
  },
  {
   "cell_type": "code",
   "execution_count": 58,
   "metadata": {},
   "outputs": [],
   "source": [
    "# Filtrando plan surf\n",
    "\n",
    "mean_messages_surf = mean_messages[mean_messages['plan_name']=='surf']\n",
    "\n",
    "# Filtrando plan ultimate\n",
    "\n",
    "mean_messages_ultimate = mean_messages[mean_messages['plan_name']=='ultimate']"
   ]
  },
  {
   "cell_type": "code",
   "execution_count": 59,
   "metadata": {
    "id": "GRI_R7xF0q1L"
   },
   "outputs": [
    {
     "data": {
      "image/png": "[encoded data removed]",
      "text/plain": [
       "<Figure size 1500x500 with 3 Axes>"
      ]
     },
     "metadata": {},
     "output_type": "display_data"
    }
   ],
   "source": [
    "# Crear la figura y los ejes\n",
    "\n",
    "fig, axs = plt.subplots(1, 3, figsize=(15, 5))\n",
    "\n",
    "colors_plan = ['hotpink','purple']\n",
    "\n",
    "# Gráfico de duración promedio por mes de Plan Surf\n",
    "\n",
    "axs[0].bar(mean_messages_surf['month'], mean_messages_surf['mean_messages'], color='hotpink')\n",
    "axs[0].set_xlabel('Meses')\n",
    "axs[0].set_ylabel('Duración Promedio de Plan Surf (mensajes)')\n",
    "axs[0].set_title('Duración Promedio de Mensajes de Plan Surf')\n",
    "axs[0].tick_params(axis='x')\n",
    "\n",
    "\n",
    "# Gráfico de duración promedio por mes de Plan Ultimate\n",
    "\n",
    "axs[1].bar(mean_messages_ultimate['month'], mean_messages_ultimate['mean_messages'], color='purple')\n",
    "axs[1].set_xlabel('Meses')\n",
    "axs[1].set_ylabel('Duración Promedio de Plan Ultimate(mensajes)')\n",
    "axs[1].set_title('Promedio de Mensajes de Plan Ultimate')\n",
    "axs[1].tick_params(axis='x')\n",
    "\n",
    "# Gráfico de duración promedio por Plan\n",
    "\n",
    "axs[2].bar(mean_calls['plan_name'], mean_messages['mean_messages'], color=colors_plan, width=0.3)\n",
    "axs[2].set_xlabel('Plan Name')\n",
    "axs[2].set_ylabel('Promedio de Mensajes')\n",
    "axs[2].set_title('Promedio de Mensajes por Plan')\n",
    "axs[2].tick_params(axis='x')\n",
    "\n",
    "# Ajustar el diseño\n",
    "plt.tight_layout()\n",
    "plt.show()"
   ]
  },
  {
   "cell_type": "markdown",
   "metadata": {},
   "source": [
    "**Comentario:**  En el gráfico (Plan Surf) muestra un promedio de mensajes que aumenta con el paso de los meses. Va creciendo hasta alcanzar un máximo de 40 mensajes al mes. Esto podría indicar un aumento en el uso del plan a lo largo del año.\n",
    "\n",
    "En el gráfico (Plan Ultimate) podemos observar un patrón similar al de surf, comienza a principio de año con un consumo menor de mensajes (10 mensajes en promedio), sin embargo apartir del segundo mes comienza un caida, pero luego se estabiliza, y supera los 40 mensajes para el ultimo mes.\n",
    "\n",
    "Para nuestro ultimo gráfico, podemos  observar que el promedio de mensajes enviados por los clientes del plan ultimate, supera a los del plan surf. El plan surf casi cerca de los 40 y el plan ultimate con 45."
   ]
  },
  {
   "cell_type": "code",
   "execution_count": 60,
   "metadata": {
    "id": "dtFwCGAp0q1M"
   },
   "outputs": [
    {
     "data": {
      "text/html": [
       "<div>\n",
       "<style scoped>\n",
       "    .dataframe tbody tr th:only-of-type {\n",
       "        vertical-align: middle;\n",
       "    }\n",
       "\n",
       "    .dataframe tbody tr th {\n",
       "        vertical-align: top;\n",
       "    }\n",
       "\n",
       "    .dataframe thead th {\n",
       "        text-align: right;\n",
       "    }\n",
       "</style>\n",
       "<table border=\"1\" class=\"dataframe\">\n",
       "  <thead>\n",
       "    <tr style=\"text-align: right;\">\n",
       "      <th></th>\n",
       "      <th>user_id</th>\n",
       "      <th>plan_name</th>\n",
       "      <th>sum_messages_extras</th>\n",
       "    </tr>\n",
       "  </thead>\n",
       "  <tbody>\n",
       "    <tr>\n",
       "      <th>0</th>\n",
       "      <td>1001</td>\n",
       "      <td>surf</td>\n",
       "      <td>3</td>\n",
       "    </tr>\n",
       "    <tr>\n",
       "      <th>1</th>\n",
       "      <td>1007</td>\n",
       "      <td>surf</td>\n",
       "      <td>10</td>\n",
       "    </tr>\n",
       "    <tr>\n",
       "      <th>2</th>\n",
       "      <td>1014</td>\n",
       "      <td>surf</td>\n",
       "      <td>14</td>\n",
       "    </tr>\n",
       "    <tr>\n",
       "      <th>3</th>\n",
       "      <td>1015</td>\n",
       "      <td>surf</td>\n",
       "      <td>18</td>\n",
       "    </tr>\n",
       "    <tr>\n",
       "      <th>4</th>\n",
       "      <td>1019</td>\n",
       "      <td>surf</td>\n",
       "      <td>78</td>\n",
       "    </tr>\n",
       "    <tr>\n",
       "      <th>...</th>\n",
       "      <td>...</td>\n",
       "      <td>...</td>\n",
       "      <td>...</td>\n",
       "    </tr>\n",
       "    <tr>\n",
       "      <th>108</th>\n",
       "      <td>1470</td>\n",
       "      <td>surf</td>\n",
       "      <td>656</td>\n",
       "    </tr>\n",
       "    <tr>\n",
       "      <th>109</th>\n",
       "      <td>1480</td>\n",
       "      <td>surf</td>\n",
       "      <td>1</td>\n",
       "    </tr>\n",
       "    <tr>\n",
       "      <th>110</th>\n",
       "      <td>1484</td>\n",
       "      <td>surf</td>\n",
       "      <td>33</td>\n",
       "    </tr>\n",
       "    <tr>\n",
       "      <th>111</th>\n",
       "      <td>1489</td>\n",
       "      <td>surf</td>\n",
       "      <td>120</td>\n",
       "    </tr>\n",
       "    <tr>\n",
       "      <th>112</th>\n",
       "      <td>1491</td>\n",
       "      <td>surf</td>\n",
       "      <td>19</td>\n",
       "    </tr>\n",
       "  </tbody>\n",
       "</table>\n",
       "<p>113 rows × 3 columns</p>\n",
       "</div>"
      ],
      "text/plain": [
       "     user_id plan_name  sum_messages_extras\n",
       "0       1001      surf                    3\n",
       "1       1007      surf                   10\n",
       "2       1014      surf                   14\n",
       "3       1015      surf                   18\n",
       "4       1019      surf                   78\n",
       "..       ...       ...                  ...\n",
       "108     1470      surf                  656\n",
       "109     1480      surf                    1\n",
       "110     1484      surf                   33\n",
       "111     1489      surf                  120\n",
       "112     1491      surf                   19\n",
       "\n",
       "[113 rows x 3 columns]"
      ]
     },
     "metadata": {},
     "output_type": "display_data"
    }
   ],
   "source": [
    "# Compara el número de mensajes mensuales que necesitan los usuarios de cada plan. Traza un histograma.\n",
    "\n",
    "menssages_users_filtro =  users_datos.loc[:, ['user_id','month','plan_name','extra_messages']]\n",
    "\n",
    "# Filtramos solo a los clientes que se excedieron en mensajes\n",
    "\n",
    "messages_filtro = menssages_users_filtro.loc[menssages_users_filtro['extra_messages'] != 0]\n",
    "\n",
    "# Agrupamos y Calculamos la suma de los mensajes extras enviados por usuarios\n",
    "\n",
    "sum_messages_extras = messages_filtro.groupby(['user_id','plan_name'])['extra_messages'].sum().reset_index(name='sum_messages_extras')\n",
    "\n",
    "display(sum_messages_extras)"
   ]
  },
  {
   "cell_type": "code",
   "execution_count": 61,
   "metadata": {},
   "outputs": [
    {
     "data": {
      "image/png": "[encoded data removed]",
      "text/plain": [
       "<Figure size 640x480 with 1 Axes>"
      ]
     },
     "metadata": {},
     "output_type": "display_data"
    }
   ],
   "source": [
    "# Realizamos Grafico de Histogramas para Mensajes\n",
    "\n",
    "sum_messages_extras[sum_messages_extras['plan_name'] == 'surf']['sum_messages_extras'].plot(kind='hist', color='hotpink', bins=30, alpha=0.7)\n",
    "\n",
    "sum_messages_extras[sum_messages_extras['plan_name'] == 'ultimate']['sum_messages_extras'].plot(kind='hist', color='purple', bins=30, alpha=0.8)\n",
    "\n",
    "plt.ylabel('Frecuencia')\n",
    "plt.legend(['Surf', 'Ultimate']) \n",
    "plt.xlabel('Mensajes Requeridos por los Usuarios')\n",
    "plt.show()\n"
   ]
  },
  {
   "cell_type": "markdown",
   "metadata": {},
   "source": [
    "**Comentario:** Podemos observar que parecido al patrón en la duración de llamadas, los usuarios del plan surf son los unicos que exceden en la cantidad de mensajes que incluye su plan, aunque esta cantidad de usuarios es pequeña ya que solo 6 usuarios apróximadamente envian 100 mensajes adicionales."
   ]
  },
  {
   "cell_type": "code",
   "execution_count": 62,
   "metadata": {},
   "outputs": [
    {
     "name": "stdout",
     "output_type": "stream",
     "text": [
      "La media en el Plan Surf en Mensajes es: 31.041165294490185\n",
      "La varianza en el Plan Surf en Mensajes es: 1126.1180762077684\n"
     ]
    }
   ],
   "source": [
    "# Calcula la media y la varianza de los mensajes mensual\n",
    "\n",
    "# Filtramos de nuestro dataframe el campo que nos interesa en este caso para el plan surf\n",
    "\n",
    "filtro_surf = users_datos.query('plan_name == \"surf\"')\n",
    "\n",
    "messages_filtro_surf = filtro_surf.loc[:,'cant_messages'].reset_index()\n",
    "\n",
    "# Calculamos la media de mensajes enviados en plan Surf\n",
    "\n",
    "messages_mean_surf = messages_filtro_surf.mean()\n",
    "\n",
    "# Calculamos la varianza de mensajes enviados en Plan Surf\n",
    "\n",
    "messages_var_surf = messages_filtro_surf.var()\n",
    "\n",
    "print('La media en el Plan Surf en Mensajes es:',messages_mean_surf['cant_messages'])\n",
    "print('La varianza en el Plan Surf en Mensajes es:',messages_var_surf['cant_messages'])"
   ]
  },
  {
   "cell_type": "code",
   "execution_count": 63,
   "metadata": {},
   "outputs": [
    {
     "name": "stdout",
     "output_type": "stream",
     "text": [
      "La media en el Plan Surf en Mensajes es: 37.3439226519337\n",
      "La varianza en el Plan Surf en Mensajes es: 1209.8276117007863\n"
     ]
    }
   ],
   "source": [
    "# Filtramos de nuestro dataframe el campo que nos interesa en este caso para el plan surf\n",
    "\n",
    "filtro_ultimate = users_datos.query('plan_name == \"ultimate\"')\n",
    "\n",
    "messages_filtro_ultimate = filtro_ultimate.loc[:,'cant_messages'].reset_index()\n",
    "\n",
    "# Calculamos la media de mensajes enviados en plan Ultimate\n",
    "\n",
    "messages_mean_ultimate = messages_filtro_ultimate.mean()\n",
    "\n",
    "# Calculamos la varianza de mensajes enviados en Plan Ultimate\n",
    "\n",
    "messages_var_ultimate = messages_filtro_ultimate.var()\n",
    "\n",
    "print('La media en el Plan Surf en Mensajes es:',messages_mean_ultimate['cant_messages'])\n",
    "print('La varianza en el Plan Surf en Mensajes es:',messages_var_ultimate['cant_messages'])"
   ]
  },
  {
   "cell_type": "code",
   "execution_count": 64,
   "metadata": {},
   "outputs": [
    {
     "data": {
      "image/png": "[encoded data removed]",
      "text/plain": [
       "<Figure size 1400x600 with 2 Axes>"
      ]
     },
     "metadata": {},
     "output_type": "display_data"
    }
   ],
   "source": [
    "# Traza un diagrama de caja para visualizar la distribución de los mensajes mensualmente\n",
    "\n",
    "# Crear un diagrama de caja plan surf\n",
    "\n",
    "fig, axs = plt.subplots(1, 2, figsize=(14, 6)) \n",
    "\n",
    "sns.boxplot(y='cant_messages', data=messages_filtro_surf, color='hotpink',ax=axs[0])\n",
    "axs[0].set_title('Diagrama de Caja - Plan Surf')\n",
    "axs[0].set_ylabel('Mensajes Enviados')\n",
    "axs[0].grid()\n",
    "\n",
    "# Crear un diagrama de caja plan ultimate\n",
    "\n",
    "sns.boxplot(y='cant_messages', data=messages_filtro_ultimate, color='purple',ax=axs[1])\n",
    "axs[1].set_title('Diagrama de Caja - Plan Ultimate')\n",
    "axs[1].set_ylabel('Mensajes Enviados')\n",
    "axs[1].grid()\n",
    "\n",
    "plt.tight_layout()\n",
    "plt.show()\n"
   ]
  },
  {
   "cell_type": "markdown",
   "metadata": {
    "id": "390SSL480q1M"
   },
   "source": [
    "**Comentario:** Para el siguiente diagrama, encontramos valores atipicos para ambos casos, tanto para plan surf como ultimate. Estos valores atípicos, nos indican la cantidad de mensajes enviados mensualmente por un grupo de usuarios. En el plan surf podemos observar una cantidad de valores atípicos que se situan entre 110 mensajes aproximadamente a 250 mensajes, superando en más del triple la cantidad de mensajes que se incluyen en su plan. Para el plan ultimate los valores atípicos se ubican por arriba de 140 hasta 160 mensajes. El valor medio para el plan surf se ubica en 25 mensajes y el valor medio del plan ultimate esta un poco por arriba de 25 mensajes, lo cual nos indica que el 50% de nuestros usuarios envian 25 mensajes o menos mensualmente, mienstras que el otro grupo restante envian más de 25 mensajes."
   ]
  },
  {
   "cell_type": "markdown",
   "metadata": {
    "id": "42YSypXz0q1M"
   },
   "source": [
    "### Internet"
   ]
  },
  {
   "cell_type": "code",
   "execution_count": 65,
   "metadata": {
    "id": "lSuKPtjh0q1M"
   },
   "outputs": [
    {
     "data": {
      "text/html": [
       "<div>\n",
       "<style scoped>\n",
       "    .dataframe tbody tr th:only-of-type {\n",
       "        vertical-align: middle;\n",
       "    }\n",
       "\n",
       "    .dataframe tbody tr th {\n",
       "        vertical-align: top;\n",
       "    }\n",
       "\n",
       "    .dataframe thead th {\n",
       "        text-align: right;\n",
       "    }\n",
       "</style>\n",
       "<table border=\"1\" class=\"dataframe\">\n",
       "  <thead>\n",
       "    <tr style=\"text-align: right;\">\n",
       "      <th></th>\n",
       "      <th>plan_name</th>\n",
       "      <th>month</th>\n",
       "      <th>mean_consum_gb</th>\n",
       "    </tr>\n",
       "  </thead>\n",
       "  <tbody>\n",
       "    <tr>\n",
       "      <th>0</th>\n",
       "      <td>surf</td>\n",
       "      <td>0</td>\n",
       "      <td>0</td>\n",
       "    </tr>\n",
       "    <tr>\n",
       "      <th>1</th>\n",
       "      <td>surf</td>\n",
       "      <td>1</td>\n",
       "      <td>5</td>\n",
       "    </tr>\n",
       "    <tr>\n",
       "      <th>2</th>\n",
       "      <td>surf</td>\n",
       "      <td>2</td>\n",
       "      <td>13</td>\n",
       "    </tr>\n",
       "    <tr>\n",
       "      <th>3</th>\n",
       "      <td>surf</td>\n",
       "      <td>3</td>\n",
       "      <td>14</td>\n",
       "    </tr>\n",
       "    <tr>\n",
       "      <th>4</th>\n",
       "      <td>surf</td>\n",
       "      <td>4</td>\n",
       "      <td>13</td>\n",
       "    </tr>\n",
       "    <tr>\n",
       "      <th>5</th>\n",
       "      <td>surf</td>\n",
       "      <td>5</td>\n",
       "      <td>15</td>\n",
       "    </tr>\n",
       "    <tr>\n",
       "      <th>6</th>\n",
       "      <td>surf</td>\n",
       "      <td>6</td>\n",
       "      <td>16</td>\n",
       "    </tr>\n",
       "    <tr>\n",
       "      <th>7</th>\n",
       "      <td>surf</td>\n",
       "      <td>7</td>\n",
       "      <td>17</td>\n",
       "    </tr>\n",
       "    <tr>\n",
       "      <th>8</th>\n",
       "      <td>surf</td>\n",
       "      <td>8</td>\n",
       "      <td>17</td>\n",
       "    </tr>\n",
       "    <tr>\n",
       "      <th>9</th>\n",
       "      <td>surf</td>\n",
       "      <td>9</td>\n",
       "      <td>17</td>\n",
       "    </tr>\n",
       "    <tr>\n",
       "      <th>10</th>\n",
       "      <td>surf</td>\n",
       "      <td>10</td>\n",
       "      <td>18</td>\n",
       "    </tr>\n",
       "    <tr>\n",
       "      <th>11</th>\n",
       "      <td>surf</td>\n",
       "      <td>11</td>\n",
       "      <td>17</td>\n",
       "    </tr>\n",
       "    <tr>\n",
       "      <th>12</th>\n",
       "      <td>surf</td>\n",
       "      <td>12</td>\n",
       "      <td>19</td>\n",
       "    </tr>\n",
       "    <tr>\n",
       "      <th>13</th>\n",
       "      <td>ultimate</td>\n",
       "      <td>0</td>\n",
       "      <td>0</td>\n",
       "    </tr>\n",
       "    <tr>\n",
       "      <th>14</th>\n",
       "      <td>ultimate</td>\n",
       "      <td>1</td>\n",
       "      <td>8</td>\n",
       "    </tr>\n",
       "    <tr>\n",
       "      <th>15</th>\n",
       "      <td>ultimate</td>\n",
       "      <td>2</td>\n",
       "      <td>18</td>\n",
       "    </tr>\n",
       "    <tr>\n",
       "      <th>16</th>\n",
       "      <td>ultimate</td>\n",
       "      <td>3</td>\n",
       "      <td>19</td>\n",
       "    </tr>\n",
       "    <tr>\n",
       "      <th>17</th>\n",
       "      <td>ultimate</td>\n",
       "      <td>4</td>\n",
       "      <td>17</td>\n",
       "    </tr>\n",
       "    <tr>\n",
       "      <th>18</th>\n",
       "      <td>ultimate</td>\n",
       "      <td>5</td>\n",
       "      <td>17</td>\n",
       "    </tr>\n",
       "    <tr>\n",
       "      <th>19</th>\n",
       "      <td>ultimate</td>\n",
       "      <td>6</td>\n",
       "      <td>16</td>\n",
       "    </tr>\n",
       "    <tr>\n",
       "      <th>20</th>\n",
       "      <td>ultimate</td>\n",
       "      <td>7</td>\n",
       "      <td>17</td>\n",
       "    </tr>\n",
       "    <tr>\n",
       "      <th>21</th>\n",
       "      <td>ultimate</td>\n",
       "      <td>8</td>\n",
       "      <td>18</td>\n",
       "    </tr>\n",
       "    <tr>\n",
       "      <th>22</th>\n",
       "      <td>ultimate</td>\n",
       "      <td>9</td>\n",
       "      <td>18</td>\n",
       "    </tr>\n",
       "    <tr>\n",
       "      <th>23</th>\n",
       "      <td>ultimate</td>\n",
       "      <td>10</td>\n",
       "      <td>18</td>\n",
       "    </tr>\n",
       "    <tr>\n",
       "      <th>24</th>\n",
       "      <td>ultimate</td>\n",
       "      <td>11</td>\n",
       "      <td>18</td>\n",
       "    </tr>\n",
       "    <tr>\n",
       "      <th>25</th>\n",
       "      <td>ultimate</td>\n",
       "      <td>12</td>\n",
       "      <td>19</td>\n",
       "    </tr>\n",
       "  </tbody>\n",
       "</table>\n",
       "</div>"
      ],
      "text/plain": [
       "   plan_name  month  mean_consum_gb\n",
       "0       surf      0               0\n",
       "1       surf      1               5\n",
       "2       surf      2              13\n",
       "3       surf      3              14\n",
       "4       surf      4              13\n",
       "5       surf      5              15\n",
       "6       surf      6              16\n",
       "7       surf      7              17\n",
       "8       surf      8              17\n",
       "9       surf      9              17\n",
       "10      surf     10              18\n",
       "11      surf     11              17\n",
       "12      surf     12              19\n",
       "13  ultimate      0               0\n",
       "14  ultimate      1               8\n",
       "15  ultimate      2              18\n",
       "16  ultimate      3              19\n",
       "17  ultimate      4              17\n",
       "18  ultimate      5              17\n",
       "19  ultimate      6              16\n",
       "20  ultimate      7              17\n",
       "21  ultimate      8              18\n",
       "22  ultimate      9              18\n",
       "23  ultimate     10              18\n",
       "24  ultimate     11              18\n",
       "25  ultimate     12              19"
      ]
     },
     "metadata": {},
     "output_type": "display_data"
    }
   ],
   "source": [
    "# Compara la cantidad de tráfico de Internet consumido por usuarios por plan\n",
    "\n",
    "# Filtramos de nuestro dataframe los campos que nos interesa\n",
    "\n",
    "gb_filtro_mean = users_datos.loc[:, ['month','consum_gb','plan_name']]\n",
    "\n",
    "# Agrupamos y Calculamos el promedio de la cantidad de GB\n",
    "\n",
    "mean_gb = gb_filtro_mean.groupby(['plan_name','month'])['consum_gb'].mean().reset_index(name='mean_consum_gb')\n",
    "\n",
    "# Redondear promedio GB\n",
    "\n",
    "mean_gb['mean_consum_gb'] = mean_gb['mean_consum_gb'].apply(math.ceil)\n",
    "\n",
    "display(mean_gb)\n"
   ]
  },
  {
   "cell_type": "code",
   "execution_count": 66,
   "metadata": {
    "id": "wnh8jYXi0q1N"
   },
   "outputs": [],
   "source": [
    "# Filtrando plan surf\n",
    "\n",
    "mean_gb_surf = mean_gb[mean_gb['plan_name']=='surf']\n",
    "\n",
    "# Filtrando plan ultimate\n",
    "\n",
    "mean_gb_ultimate = mean_gb[mean_gb['plan_name']=='ultimate']\n"
   ]
  },
  {
   "cell_type": "code",
   "execution_count": 67,
   "metadata": {
    "id": "5VlyJ9ry0q1N"
   },
   "outputs": [
    {
     "data": {
      "image/png": "[encoded data removed]",
      "text/plain": [
       "<Figure size 1500x500 with 3 Axes>"
      ]
     },
     "metadata": {},
     "output_type": "display_data"
    }
   ],
   "source": [
    "# Crear la figura y los ejes\n",
    "\n",
    "fig, axs = plt.subplots(1, 3, figsize=(15, 5))\n",
    "\n",
    "colors_plan = ['hotpink','purple']\n",
    "\n",
    "# Gráfico de duración promedio por mes de Plan Surf\n",
    "\n",
    "axs[0].bar(mean_gb_surf['month'], mean_gb_surf['mean_consum_gb'], color='hotpink')\n",
    "axs[0].set_xlabel('Meses')\n",
    "axs[0].set_ylabel('Duración Promedio Plan Surf (minutos)')\n",
    "axs[0].set_title('Duración Promedio de GB de Plan Surf')\n",
    "axs[0].tick_params(axis='x')\n",
    "\n",
    "# Para que los ticks del eje y sean múltiplos de 5\n",
    "\n",
    "axs[0].yaxis.set_major_locator(MultipleLocator(5))\n",
    "\n",
    "\n",
    "# Gráfico de duración promedio por mes de Plan Ultimate\n",
    "\n",
    "axs[1].bar(mean_gb_ultimate['month'], mean_gb_ultimate['mean_consum_gb'], color='purple')\n",
    "axs[1].set_xlabel('Meses')\n",
    "axs[1].set_ylabel('Duración Promedio Plan Ultimate(minutos)')\n",
    "axs[1].set_title('Duración Promedio de GB de Plan Ultimate')\n",
    "axs[1].tick_params(axis='x')\n",
    "\n",
    "# Para que los ticks del eje y sean múltiplos de 5\n",
    "\n",
    "axs[1].yaxis.set_major_locator(MultipleLocator(5))\n",
    "\n",
    "# Gráfico de duración promedio por Plan\n",
    "\n",
    "axs[2].bar(mean_calls['plan_name'], mean_gb['mean_consum_gb'], color=colors_plan, width=0.3)\n",
    "axs[2].set_xlabel('Plan Name')\n",
    "axs[2].set_ylabel('Duración Promedio de GB')\n",
    "axs[2].set_title('Duración Promedio de GB por Plan')\n",
    "axs[2].tick_params(axis='x')\n",
    "\n",
    "# Para que los ticks del eje y sean múltiplos de 5\n",
    "\n",
    "axs[2].yaxis.set_major_locator(MultipleLocator(5))\n",
    "\n",
    "# Ajustar el diseño\n",
    "plt.tight_layout()\n",
    "plt.show()"
   ]
  },
  {
   "cell_type": "markdown",
   "metadata": {},
   "source": [
    "**Comentario:** En el Gráfico de barras del plan surf, podemos observar un crecimiento ascendente donde el consumo para el mes 1 es de 5GB, culminando en a los 12 meses con 18 GB, solo en los meses 2 y 4 hubo un pequeño descenso, que despues se estabilizó y siguió en aumento.\n",
    "\n",
    "En el Gráfico de barras del plan ultimate, de igual forma incia el consumo para el mes 1 en 8 GB, y para el mes 2 el consumo aumenta en más del doble, manteniendose un poco el consumo con leves variaciones hasta el ultimo mes del año.\n",
    "\n",
    "Para el gráfico final promedio en consumo de GB (para ambos planes) es practicamente el mismo, es decir mensualmente consumen ambos planes 18 GB."
   ]
  },
  {
   "cell_type": "code",
   "execution_count": 68,
   "metadata": {},
   "outputs": [
    {
     "data": {
      "text/html": [
       "<div>\n",
       "<style scoped>\n",
       "    .dataframe tbody tr th:only-of-type {\n",
       "        vertical-align: middle;\n",
       "    }\n",
       "\n",
       "    .dataframe tbody tr th {\n",
       "        vertical-align: top;\n",
       "    }\n",
       "\n",
       "    .dataframe thead th {\n",
       "        text-align: right;\n",
       "    }\n",
       "</style>\n",
       "<table border=\"1\" class=\"dataframe\">\n",
       "  <thead>\n",
       "    <tr style=\"text-align: right;\">\n",
       "      <th></th>\n",
       "      <th>user_id</th>\n",
       "      <th>plan_name</th>\n",
       "      <th>sum_gb_extras</th>\n",
       "    </tr>\n",
       "  </thead>\n",
       "  <tbody>\n",
       "    <tr>\n",
       "      <th>0</th>\n",
       "      <td>1001</td>\n",
       "      <td>surf</td>\n",
       "      <td>12</td>\n",
       "    </tr>\n",
       "    <tr>\n",
       "      <th>1</th>\n",
       "      <td>1002</td>\n",
       "      <td>surf</td>\n",
       "      <td>3</td>\n",
       "    </tr>\n",
       "    <tr>\n",
       "      <th>2</th>\n",
       "      <td>1003</td>\n",
       "      <td>surf</td>\n",
       "      <td>11</td>\n",
       "    </tr>\n",
       "    <tr>\n",
       "      <th>3</th>\n",
       "      <td>1004</td>\n",
       "      <td>surf</td>\n",
       "      <td>39</td>\n",
       "    </tr>\n",
       "    <tr>\n",
       "      <th>4</th>\n",
       "      <td>1005</td>\n",
       "      <td>surf</td>\n",
       "      <td>1</td>\n",
       "    </tr>\n",
       "    <tr>\n",
       "      <th>...</th>\n",
       "      <td>...</td>\n",
       "      <td>...</td>\n",
       "      <td>...</td>\n",
       "    </tr>\n",
       "    <tr>\n",
       "      <th>261</th>\n",
       "      <td>1494</td>\n",
       "      <td>surf</td>\n",
       "      <td>3</td>\n",
       "    </tr>\n",
       "    <tr>\n",
       "      <th>262</th>\n",
       "      <td>1495</td>\n",
       "      <td>surf</td>\n",
       "      <td>35</td>\n",
       "    </tr>\n",
       "    <tr>\n",
       "      <th>263</th>\n",
       "      <td>1496</td>\n",
       "      <td>surf</td>\n",
       "      <td>2</td>\n",
       "    </tr>\n",
       "    <tr>\n",
       "      <th>264</th>\n",
       "      <td>1498</td>\n",
       "      <td>surf</td>\n",
       "      <td>53</td>\n",
       "    </tr>\n",
       "    <tr>\n",
       "      <th>265</th>\n",
       "      <td>1499</td>\n",
       "      <td>surf</td>\n",
       "      <td>11</td>\n",
       "    </tr>\n",
       "  </tbody>\n",
       "</table>\n",
       "<p>266 rows × 3 columns</p>\n",
       "</div>"
      ],
      "text/plain": [
       "     user_id plan_name  sum_gb_extras\n",
       "0       1001      surf             12\n",
       "1       1002      surf              3\n",
       "2       1003      surf             11\n",
       "3       1004      surf             39\n",
       "4       1005      surf              1\n",
       "..       ...       ...            ...\n",
       "261     1494      surf              3\n",
       "262     1495      surf             35\n",
       "263     1496      surf              2\n",
       "264     1498      surf             53\n",
       "265     1499      surf             11\n",
       "\n",
       "[266 rows x 3 columns]"
      ]
     },
     "metadata": {},
     "output_type": "display_data"
    }
   ],
   "source": [
    "# Compara el número de GB mensuales que necesitan los usuarios de cada plan. Traza un histograma.\n",
    "\n",
    "gb_users_filtro =  users_datos.loc[:, ['user_id','month','plan_name','extra_gb']]\n",
    "\n",
    "# Filtramos solo a los clientes que se excedieron en mensajes\n",
    "\n",
    "gb_filtro_extras = gb_users_filtro.loc[gb_users_filtro['extra_gb'] != 0]\n",
    "\n",
    "# Agrupamos y Calculamos la suma de GB extras consumidos por el usuario\n",
    "\n",
    "sum_gb_extras = gb_filtro_extras.groupby(['user_id','plan_name'])['extra_gb'].sum().reset_index(name='sum_gb_extras')\n",
    "\n",
    "display(sum_gb_extras)"
   ]
  },
  {
   "cell_type": "code",
   "execution_count": 69,
   "metadata": {},
   "outputs": [
    {
     "data": {
      "image/png": "[encoded data removed]",
      "text/plain": [
       "<Figure size 640x480 with 1 Axes>"
      ]
     },
     "metadata": {},
     "output_type": "display_data"
    }
   ],
   "source": [
    "# Realizamos Grafico de Histogramas para GB\n",
    "\n",
    "sum_gb_extras[sum_gb_extras['plan_name'] == 'surf']['sum_gb_extras'].plot(kind='hist', color='hotpink', bins=30, alpha=0.7)\n",
    "\n",
    "sum_gb_extras[sum_gb_extras['plan_name'] == 'ultimate']['sum_gb_extras'].plot(kind='hist', color='purple', bins=5, alpha=0.8)\n",
    "\n",
    "plt.ylabel('Frecuencia')\n",
    "plt.legend(['Surf', 'Ultimate']) \n",
    "plt.xlabel('GB Requeridos por los Usuarios')\n",
    "plt.show()"
   ]
  },
  {
   "cell_type": "markdown",
   "metadata": {},
   "source": [
    "**Comentario:** Para siguiente gráfico podemos observar que existen usuarios de ambos planes que consumen GB extras, \n",
    "para el plan surf, podemos observar que para la primera barra un total de 80 usuarios requieren menos de 10 GB, \n",
    "un poco menos de 15 usuarios son los que consumen 20 GB extras al mes. Aunque tambien observamos en distintos intervalos, (hay usuarios hasta en los rangos más altos de 40 a 60 GB, y algunos hasta los 140 GB) pero es una cantidad mucho menor de 5 usuarios con este consumo.\n",
    "\n",
    "Para el caso del plan ultimate, observamos que un total de un poco más de 10 usuarios aproximadamente son los que consumen 10 GB extras mensualmente, y solo hay par de usuarios situados en consumo de 40 y 60 GB extras."
   ]
  },
  {
   "cell_type": "code",
   "execution_count": 70,
   "metadata": {},
   "outputs": [
    {
     "name": "stdout",
     "output_type": "stream",
     "text": [
      "La media en el Plan Surf en GB es: 16.60734642178594\n",
      "La varianza en el Plan Surf en GB es: 62.40212597053694\n"
     ]
    }
   ],
   "source": [
    "# Calcula la media y la varianza de los GB mensual\n",
    "\n",
    "# Filtramos de nuestro dataframe el campo que nos interesa en este caso para el plan surf\n",
    "\n",
    "filtro_surf_gb = users_datos.query('plan_name == \"surf\"')\n",
    "\n",
    "gb_filtro_surf = filtro_surf_gb.loc[:,'consum_gb'].reset_index()\n",
    "\n",
    "# Calculamos la media de GB usados en plan Surf\n",
    "\n",
    "gb_mean_surf = gb_filtro_surf.mean()\n",
    "\n",
    "# Calculamos la varianza de GB usados en plan Surf\n",
    "\n",
    "gb_var_surf = gb_filtro_surf.var()\n",
    "\n",
    "print('La media en el Plan Surf en GB es:',gb_mean_surf ['consum_gb'])\n",
    "print('La varianza en el Plan Surf en GB es:',gb_var_surf ['consum_gb'])"
   ]
  },
  {
   "cell_type": "code",
   "execution_count": 71,
   "metadata": {},
   "outputs": [
    {
     "name": "stdout",
     "output_type": "stream",
     "text": [
      "La media en el Plan Ultimate en GB es: 17.21132596685083\n",
      "La varianza en el Plan Ultimate en GB es: 60.153066565797815\n"
     ]
    }
   ],
   "source": [
    "# Calcula la media y la varianza de los GB mensual\n",
    "\n",
    "# Filtramos de nuestro dataframe el campo que nos interesa en este caso para el plan ultimate\n",
    "\n",
    "filtro_ultimate_gb = users_datos.query('plan_name == \"ultimate\"')\n",
    "\n",
    "gb_filtro_ultimate = filtro_ultimate_gb.loc[:,'consum_gb'].reset_index()\n",
    "\n",
    "# Calculamos la media de GB usados en plan ultimate\n",
    "\n",
    "gb_mean_ultimate = gb_filtro_ultimate.mean()\n",
    "\n",
    "# Calculamos la varianza de GB usados en plan ultimate\n",
    "\n",
    "gb_var_ultimate = gb_filtro_ultimate.var()\n",
    "\n",
    "print('La media en el Plan Ultimate en GB es:',gb_mean_ultimate ['consum_gb'])\n",
    "print('La varianza en el Plan Ultimate en GB es:',gb_var_ultimate ['consum_gb'])"
   ]
  },
  {
   "cell_type": "code",
   "execution_count": 72,
   "metadata": {},
   "outputs": [
    {
     "data": {
      "image/png": "[encoded data removed]",
      "text/plain": [
       "<Figure size 1400x600 with 2 Axes>"
      ]
     },
     "metadata": {},
     "output_type": "display_data"
    }
   ],
   "source": [
    "# Traza un diagrama de caja para visualizar la distribución de los mensajes mensualmente\n",
    "\n",
    "# Crear un diagrama de caja plan surf\n",
    "\n",
    "fig, axs = plt.subplots(1, 2, figsize=(14, 6)) \n",
    "\n",
    "sns.boxplot(y='consum_gb', data=filtro_surf_gb, color='hotpink',ax=axs[0])\n",
    "axs[0].set_title('Diagrama de Caja - Plan Surf')\n",
    "axs[0].set_ylabel('GB Usados')\n",
    "axs[0].grid()\n",
    "\n",
    "# Crear un diagrama de caja plan ultimate\n",
    "\n",
    "sns.boxplot(y='consum_gb', data=filtro_ultimate_gb, color='purple',ax=axs[1])\n",
    "axs[1].set_title('Diagrama de Caja - Plan Ultimate')\n",
    "axs[1].set_ylabel('GB Usados')\n",
    "axs[1].grid()\n",
    "\n",
    "plt.tight_layout()\n",
    "plt.show()\n"
   ]
  },
  {
   "cell_type": "markdown",
   "metadata": {
    "id": "UN9zwuMP0q1N"
   },
   "source": [
    "**Comentario:** Para el siguiente diagrama, tambien observamos valores atípicos, para el plan surf entre 35 GB hasta 70 GB, es mucho más de la cantidad incluida en su paquete, solo 50% consume los 15 GB que incluye el plan.\n",
    "\n",
    "Para el plan ultimate tambien se observan valores atípicos, por arriba de 31 GB hasta casi 50 GB, el valor medio es de 25 GB, es decir el 50% de los usuarios consumen estan cantidad."
   ]
  },
  {
   "cell_type": "markdown",
   "metadata": {
    "id": "tCijq3260q1N"
   },
   "source": [
    "## Ingreso"
   ]
  },
  {
   "cell_type": "markdown",
   "metadata": {
    "id": "9nq5IAcy0q1O"
   },
   "source": [
    "[Del mismo modo que has estudiado el comportamiento de los usuarios, describe estadísticamente los ingresos de los planes.]"
   ]
  },
  {
   "cell_type": "code",
   "execution_count": 73,
   "metadata": {
    "id": "tz-dq_V00q1O"
   },
   "outputs": [
    {
     "data": {
      "text/html": [
       "<div>\n",
       "<style scoped>\n",
       "    .dataframe tbody tr th:only-of-type {\n",
       "        vertical-align: middle;\n",
       "    }\n",
       "\n",
       "    .dataframe tbody tr th {\n",
       "        vertical-align: top;\n",
       "    }\n",
       "\n",
       "    .dataframe thead th {\n",
       "        text-align: right;\n",
       "    }\n",
       "</style>\n",
       "<table border=\"1\" class=\"dataframe\">\n",
       "  <thead>\n",
       "    <tr style=\"text-align: right;\">\n",
       "      <th></th>\n",
       "      <th>plan_name</th>\n",
       "      <th>ingreso_mensual_surf</th>\n",
       "    </tr>\n",
       "  </thead>\n",
       "  <tbody>\n",
       "    <tr>\n",
       "      <th>0</th>\n",
       "      <td>surf</td>\n",
       "      <td>54.409202</td>\n",
       "    </tr>\n",
       "  </tbody>\n",
       "</table>\n",
       "</div>"
      ],
      "text/plain": [
       "  plan_name  ingreso_mensual_surf\n",
       "0      surf             54.409202"
      ]
     },
     "metadata": {},
     "output_type": "display_data"
    }
   ],
   "source": [
    "filtro_mensual_surf = users_datos[users_datos['plan_name']=='surf']\n",
    "\n",
    "filtro_mensual_surf_users = filtro_mensual_surf.loc[:,['user_id','plan_name','costo_mensual']]\n",
    "\n",
    "g_mensual_surf_users = filtro_mensual_surf_users.groupby('plan_name')['costo_mensual'].mean().reset_index(name='ingreso_mensual_surf')\n",
    "\n",
    "display(g_mensual_surf_users)"
   ]
  },
  {
   "cell_type": "code",
   "execution_count": 74,
   "metadata": {
    "id": "0Y1v8ZUz0q1P"
   },
   "outputs": [
    {
     "data": {
      "text/html": [
       "<div>\n",
       "<style scoped>\n",
       "    .dataframe tbody tr th:only-of-type {\n",
       "        vertical-align: middle;\n",
       "    }\n",
       "\n",
       "    .dataframe tbody tr th {\n",
       "        vertical-align: top;\n",
       "    }\n",
       "\n",
       "    .dataframe thead th {\n",
       "        text-align: right;\n",
       "    }\n",
       "</style>\n",
       "<table border=\"1\" class=\"dataframe\">\n",
       "  <thead>\n",
       "    <tr style=\"text-align: right;\">\n",
       "      <th></th>\n",
       "      <th>plan_name</th>\n",
       "      <th>ingreso_mensual_ultimate</th>\n",
       "    </tr>\n",
       "  </thead>\n",
       "  <tbody>\n",
       "    <tr>\n",
       "      <th>0</th>\n",
       "      <td>ultimate</td>\n",
       "      <td>71.904696</td>\n",
       "    </tr>\n",
       "  </tbody>\n",
       "</table>\n",
       "</div>"
      ],
      "text/plain": [
       "  plan_name  ingreso_mensual_ultimate\n",
       "0  ultimate                 71.904696"
      ]
     },
     "metadata": {},
     "output_type": "display_data"
    }
   ],
   "source": [
    "filtro_mensual_ultimate = users_datos[users_datos['plan_name']=='ultimate']\n",
    "\n",
    "filtro_mensual_ultimate_users = filtro_mensual_ultimate.loc[:,['user_id','plan_name','costo_mensual']]\n",
    "\n",
    "g_mensual_ultimate_users = filtro_mensual_ultimate_users.groupby('plan_name')['costo_mensual'].mean().reset_index(name='ingreso_mensual_ultimate')\n",
    "\n",
    "display(g_mensual_ultimate_users)"
   ]
  },
  {
   "cell_type": "markdown",
   "metadata": {
    "id": "KAFidcXZ0q1P"
   },
   "source": [
    "**Comentario:** Podemos observar a simple vista que aunque el plan ultimate es mayor, el ingreso percibido por ultimate es casi 3 veces mayor a lo que se cobra por ese plan mensualmente, mienstras que para el plan ultimate la ganancia es poca en comparación a lo que se cobra. Sin embargo debemos realicemos la prueba de hipótesis para evaluar que resulta nos arroja, antes de tomar una decisión sobre a que plan invertirle más publicidad."
   ]
  },
  {
   "cell_type": "markdown",
   "metadata": {
    "id": "ajJ7VKeI0q1Q"
   },
   "source": [
    "## Prueba las hipótesis estadísticas"
   ]
  },
  {
   "cell_type": "markdown",
   "metadata": {
    "id": "AdXAZ-yL0q1Q"
   },
   "source": [
    "[Prueba la hipótesis de que son diferentes los ingresos promedio procedentes de los usuarios de los planes de llamada Ultimate y Surf.]"
   ]
  },
  {
   "cell_type": "markdown",
   "metadata": {
    "id": "IQwa_hsh0q1Q"
   },
   "source": [
    "[Elabora las hipótesis nula y alternativa, escoge la prueba estadística, determina el valor alfa.]"
   ]
  },
  {
   "cell_type": "code",
   "execution_count": 81,
   "metadata": {
    "id": "nFoPNlPq0q1R"
   },
   "outputs": [
    {
     "name": "stdout",
     "output_type": "stream",
     "text": [
      "Estadístico t: -8.912935162264594\n",
      "Valor p: 9.88032546312479e-19\n",
      "Rechazamos la hipótesis nula, los ingresos promedio son significativamente diferentes.\n"
     ]
    }
   ],
   "source": [
    "# Prueba las hipótesis\n",
    "\n",
    "# Filtrar dataframe users_datos con los campos que nos interesa \n",
    "\n",
    "filtro_surf_ultimate = users_datos.loc[:,['plan_name','costo_mensual']]\n",
    "\n",
    "# Filtramos por plan surf\n",
    "\n",
    "filtro_surf = filtro_surf_ultimate[filtro_surf_ultimate['plan_name']=='surf']\n",
    "\n",
    "# Renombrar columna de ingresos de plan surf\n",
    "\n",
    "filtro_surf.rename(columns={'costo_mensual': 'ingresos_mensual_surf'},inplace=True)\n",
    "\n",
    "# Guardar valores de ingresos de plan surf\n",
    "\n",
    "ingresos_surf = filtro_surf['ingresos_mensual_surf'].values\n",
    "\n",
    "\n",
    "# Filtramos por plan ultimate\n",
    "\n",
    "filtro_ultimate =filtro_surf_ultimate[filtro_surf_ultimate['plan_name']=='ultimate']\n",
    "\n",
    "# Renombrar columna de ingresos de plan surf\n",
    "\n",
    "filtro_ultimate.rename(columns={'costo_mensual': 'ingresos_mensual_ultimate'},inplace=True)\n",
    "\n",
    "# Guardar valores de ingresos de plan surf\n",
    "\n",
    "ingresos_ultimate = filtro_ultimate['ingresos_mensual_ultimate'].values\n",
    "\n",
    "\n",
    "# Calcular varianzas para plan surf y ultimate\n",
    "\n",
    "var_surf = ingresos_surf.var()\n",
    "var_ultimate = ingresos_ultimate.var()\n",
    "\n",
    "# Aplicar la prueba t de Student para muestras independientes solo si las varianzas son diferentes de cero\n",
    "\n",
    "if var_surf > 0 and var_ultimate > 0:\n",
    "    \n",
    "    t_stat, p_value = ttest_ind(ingresos_surf,ingresos_ultimate)\n",
    "    \n",
    "    # Mostrar resultados de la prueba t\n",
    "    print(f'Estadístico t: {t_stat}')\n",
    "    print(f'Valor p: {p_value}')\n",
    "\n",
    "    # Interpretar los resultados\n",
    "    \n",
    "    alpha = 0.05\n",
    "    if p_value < alpha:\n",
    "        print(\"Rechazamos la hipótesis nula, los ingresos promedio son significativamente diferentes.\")\n",
    "    else:\n",
    "        print(\"No podemos rechazar la hipótesis nula, los ingresos promedio no son significativamente diferentes.\")\n",
    "else:\n",
    "    print(\"No se puede realizar la prueba t porque la varianza es cero en una o ambas muestras.\")\n",
    "    \n",
    "\n",
    "\n"
   ]
  },
  {
   "cell_type": "markdown",
   "metadata": {},
   "source": [
    "**Comentarios:** "
   ]
  },
  {
   "cell_type": "markdown",
   "metadata": {
    "id": "tCcAruM60q1R"
   },
   "source": [
    "[Prueba la hipótesis de que el ingreso promedio de los usuarios del área NY-NJ es diferente al de los usuarios de otras regiones.]"
   ]
  },
  {
   "cell_type": "markdown",
   "metadata": {
    "id": "LsBgitqj0q1R"
   },
   "source": [
    "[Elabora las hipótesis nula y alternativa, escoge la prueba estadística, determina el valor alfa.]"
   ]
  },
  {
   "cell_type": "code",
   "execution_count": 90,
   "metadata": {},
   "outputs": [
    {
     "name": "stdout",
     "output_type": "stream",
     "text": [
      "Estadístico t: -4.293019849737193\n",
      "Valor p: 2.2456034736151926e-05\n",
      "Rechazamos la hipótesis nula, los ingresos promedio son significativamente diferentes.\n"
     ]
    }
   ],
   "source": [
    "# Filtrar dataframe por plan surf y por la región ‘New York-Newark-Jersey City, NY-NJ-PA MSA’\n",
    "\n",
    "filtro_surf_ny_nj = filtro_regiones[(filtro_regiones['plan_name'] == 'surf') & (filtro_regiones['city'] == 'New York-Newark-Jersey City, NY-NJ-PA MSA')]\n",
    "\n",
    "# Realizar filtro de las columnas que nos interesan, ya que las tenemos filtrada por plan surf\n",
    "\n",
    "filtro_surf_nynj = filtro_surf_ny_nj.loc[:, ['city', 'costo_mensual']]\n",
    "\n",
    "# Renombrar columna de ingresos de plan surf\n",
    "\n",
    "filtro_surf_nynj.rename(columns={'costo_mensual': 'ingresos_mensual_surf'}, inplace=True)\n",
    "\n",
    "# Guardar valores de ingresos de plan surf\n",
    "\n",
    "ingresos_surf = filtro_surf_nynj['ingresos_mensual_surf'].values\n",
    "\n",
    "# Filtrar dataframe por plan ultimate y por la región ‘New York-Newark-Jersey City, NY-NJ-PA MSA’\n",
    "\n",
    "filtro_ultimate_ny_nj = filtro_regiones[(filtro_regiones['plan_name'] == 'ultimate') & (filtro_regiones['city'] == 'New York-Newark-Jersey City, NY-NJ-PA MSA')]\n",
    "\n",
    "# Realizar filtro de las columnas que nos interesan, ya que las tenemos filtrada por plan ultimate\n",
    "\n",
    "filtro_ultimate_nynj = filtro_ultimate_ny_nj.loc[:, ['city', 'costo_mensual']]\n",
    "\n",
    "# Renombrar columna de ingresos de plan ultimate\n",
    "\n",
    "filtro_ultimate_nynj.rename(columns={'costo_mensual': 'ingresos_mensual_ultimate'}, inplace=True)\n",
    "\n",
    "# Guardar valores de ingresos de plan ultimate\n",
    "\n",
    "ingresos_ultimate = filtro_ultimate_nynj['ingresos_mensual_ultimate'].values\n",
    "\n",
    "# Calcular varianzas para plan surf y ultimate\n",
    "\n",
    "var_surf = ingresos_surf.var()\n",
    "var_ultimate = ingresos_ultimate.var()\n",
    "\n",
    "# Aplicar la prueba t de Student para muestras independientes solo si las varianzas son diferentes de cero\n",
    "\n",
    "if var_ultimate > 0 and var_surf > 0:\n",
    "    t_stat, p_value = ttest_ind(ingresos_surf, ingresos_ultimate)\n",
    "\n",
    "    # Mostrar resultados de la prueba t\n",
    "    print(f'Estadístico t: {t_stat}')\n",
    "    print(f'Valor p: {p_value}')\n",
    "\n",
    "    # Interpretar los resultados\n",
    "    alpha = 0.05\n",
    "    if p_value < alpha:\n",
    "        print(\"Rechazamos la hipótesis nula, los ingresos promedio son significativamente diferentes.\")\n",
    "    else:\n",
    "        print(\"No podemos rechazar la hipótesis nula, los ingresos promedio no son significativamente diferentes.\")\n",
    "else:\n",
    "    print(\"No se puede realizar la prueba t porque la varianza es cero en una o ambas muestras.\")\n"
   ]
  },
  {
   "cell_type": "markdown",
   "metadata": {
    "id": "bbTR8UQO0q1T"
   },
   "source": [
    "## Conclusión general\n",
    "\n",
    "- Se realizó primeramente limpieza de la data, evaluando duplicados y ausentes.\n",
    "- Para realizar la union de los dataframes se realizó mediante how='outer', ya que nos interesaba conversar todos los registros de ambos dataframes, sin excluir ningún registro.\n",
    "- Convertimos los campos fechas en tipo dataTime para poder trabajar y extraer campo necesarios para nuestras unión de tablas.\n",
    "- Cambiamos el nombre en nuestro dataframe de la columna plan en nuestro dataframe users, ya que el el nombre de la columna en plans era plan_name, asi que la renombramos a \"plan_name\" de igual manera.\n",
    "- Creamos una columna nueva llamada consumo en GB, ya que el precio en plans se encontraban en gb y no en megabytes.\n",
    "- Con la unión de los dataframes que realizamos de tipo how= 'outer', realizamos cálculo de cantidad de duracion de llamdas en minutos, cantidad de mensajes enviados y el consumo de gigabytes que mensualmente gastaron. \n",
    "- Para realizar la el calculo de las llamdas, gb extras y mensajes enviados realizamos un ciclo for para iterar sobre cada una de las filas de nuestro dataframe, haciendo uso de los campos cantidad de mensajes, cantidad de minutos en llamadas gastados, cantidad de mensajes enviados, megabytes consumidos, gigabytes consumidos, para poder realizar la comparación de lo que incluia el plan contra lo que consumierón los usuarios.\n",
    "- Realizamos el cálculo para cada usuario de todo lo consumido durante el mes, que incluia la sumatoria de lo que se cobraba en su plan, adicional a los cargos extras generados en mensajes, llamadas y gigabytes.\n",
    "- Para nuestra tabla final, realizamos ciertas conversiones en tipo de datos que se encontraban, algunos de tipo object, y otros a entero, esto con el fin, de poder realizar los cálculos estadisticos correspondientes.\n",
    "- Se realizó para cada grupo, duración de llamadas en minutos, mensajes enviados y gb consumidos, cálculo de la media, varianza junto con sus respectivos gráficos, lo que me permitio evaluar de forma un poco más visual el compartamiento de los usuarios. Se pudo observar patrones muy simliares en algunos gráficos asi como valores atipicos en cada uno (llamadas, mensajes enviados y gb consumidos), lo cual es positivo para nuestro estudio, porque nos indica un patrón en que el consumo de los usuarios excede a lo que tienen en su plan.\n",
    "- Pudimos realizar el cálculo de los ingresos para cada plan, en el cual pudimos observar que pese a que el del plan ultimate era mayor, el del plan surf estaba generando casi 3 veces más ganancias."
   ]
  }
 ],
 "metadata": {
  "ExecuteTimeLog": [
   {
    "duration": 828,
    "start_time": "2021-11-16T09:21:11.304Z"
   },
   {
    "duration": 893,
    "start_time": "2021-11-16T09:21:17.728Z"
   },
   {
    "duration": 1150,
    "start_time": "2021-11-16T09:21:29.568Z"
   },
   {
    "duration": 3,
    "start_time": "2021-11-16T09:24:14.495Z"
   },
   {
    "duration": 120,
    "start_time": "2021-11-16T09:24:46.630Z"
   },
   {
    "duration": 3,
    "start_time": "2021-11-16T09:28:27.882Z"
   },
   {
    "duration": 4,
    "start_time": "2021-11-16T09:29:54.281Z"
   },
   {
    "duration": 3,
    "start_time": "2021-11-16T09:30:45.936Z"
   },
   {
    "duration": 4,
    "start_time": "2021-11-16T09:31:06.300Z"
   },
   {
    "duration": 113,
    "start_time": "2021-11-16T09:31:37.208Z"
   },
   {
    "duration": 143,
    "start_time": "2021-11-16T09:31:48.656Z"
   },
   {
    "duration": 98,
    "start_time": "2021-11-16T09:31:55.678Z"
   },
   {
    "duration": 3,
    "start_time": "2021-11-16T09:32:08.535Z"
   },
   {
    "duration": 111,
    "start_time": "2021-11-16T09:32:10.120Z"
   },
   {
    "duration": 3,
    "start_time": "2021-11-16T09:32:15.732Z"
   },
   {
    "duration": 4,
    "start_time": "2021-11-16T09:32:29.423Z"
   },
   {
    "duration": 3,
    "start_time": "2021-11-16T10:03:03.074Z"
   },
   {
    "duration": 3,
    "start_time": "2021-11-16T10:10:01.288Z"
   },
   {
    "duration": 3,
    "start_time": "2021-11-16T10:10:46.923Z"
   },
   {
    "duration": 121,
    "start_time": "2021-11-16T10:37:46.494Z"
   },
   {
    "duration": 125,
    "start_time": "2021-11-16T10:38:20.632Z"
   },
   {
    "duration": 112,
    "start_time": "2021-11-16T10:46:53.001Z"
   },
   {
    "duration": 110,
    "start_time": "2021-11-16T10:48:25.775Z"
   },
   {
    "duration": 3,
    "start_time": "2021-11-16T10:50:18.720Z"
   },
   {
    "duration": 4,
    "start_time": "2021-11-16T10:50:37.649Z"
   },
   {
    "duration": 2,
    "start_time": "2021-11-16T10:50:51.884Z"
   },
   {
    "duration": 3,
    "start_time": "2021-11-16T10:51:56.237Z"
   },
   {
    "duration": 101,
    "start_time": "2021-11-16T10:53:13.791Z"
   },
   {
    "duration": 3,
    "start_time": "2021-11-16T10:55:59.186Z"
   },
   {
    "duration": 3,
    "start_time": "2021-11-16T10:56:10.751Z"
   },
   {
    "duration": 3,
    "start_time": "2021-11-16T10:56:49.038Z"
   },
   {
    "duration": 3,
    "start_time": "2021-11-16T10:56:49.174Z"
   },
   {
    "duration": 4,
    "start_time": "2021-11-16T10:56:49.414Z"
   },
   {
    "duration": 3,
    "start_time": "2021-11-16T10:56:49.680Z"
   },
   {
    "duration": 3,
    "start_time": "2021-11-16T10:56:50.370Z"
   },
   {
    "duration": 114,
    "start_time": "2021-11-16T10:59:34.518Z"
   },
   {
    "duration": 3,
    "start_time": "2021-11-16T11:01:41.201Z"
   },
   {
    "duration": 116,
    "start_time": "2021-11-16T11:01:48.754Z"
   },
   {
    "duration": 3,
    "start_time": "2021-11-16T11:02:16.685Z"
   },
   {
    "duration": 3,
    "start_time": "2021-11-16T11:02:19.479Z"
   },
   {
    "duration": 3,
    "start_time": "2021-11-16T11:02:47.067Z"
   },
   {
    "duration": 3,
    "start_time": "2021-11-16T11:02:49.353Z"
   },
   {
    "duration": 3,
    "start_time": "2021-11-16T11:03:07.835Z"
   },
   {
    "duration": 3,
    "start_time": "2021-11-16T11:03:07.953Z"
   },
   {
    "duration": 112,
    "start_time": "2021-11-16T11:07:52.072Z"
   },
   {
    "duration": 187,
    "start_time": "2021-11-16T11:09:23.468Z"
   },
   {
    "duration": 4,
    "start_time": "2021-11-16T11:10:01.455Z"
   },
   {
    "duration": 3,
    "start_time": "2021-11-16T11:10:05.069Z"
   },
   {
    "duration": 4,
    "start_time": "2021-11-16T11:10:13.376Z"
   },
   {
    "duration": 3,
    "start_time": "2021-11-16T11:10:14.434Z"
   },
   {
    "duration": 3,
    "start_time": "2021-11-16T11:10:22.853Z"
   },
   {
    "duration": 4,
    "start_time": "2021-11-16T11:27:29.279Z"
   },
   {
    "duration": 4,
    "start_time": "2021-11-16T11:29:08.919Z"
   },
   {
    "duration": 118,
    "start_time": "2021-11-16T11:29:46.703Z"
   },
   {
    "duration": 437,
    "start_time": "2021-11-16T11:36:02.181Z"
   },
   {
    "duration": 157,
    "start_time": "2021-11-16T11:36:14.388Z"
   },
   {
    "duration": 207,
    "start_time": "2021-11-16T11:47:15.898Z"
   },
   {
    "duration": 3,
    "start_time": "2021-11-16T11:53:52.092Z"
   },
   {
    "duration": 3,
    "start_time": "2021-11-16T11:53:52.236Z"
   },
   {
    "duration": 3,
    "start_time": "2021-11-16T11:59:12.005Z"
   },
   {
    "duration": 112,
    "start_time": "2021-11-16T12:00:33.446Z"
   },
   {
    "duration": 3,
    "start_time": "2021-11-16T12:02:14.453Z"
   },
   {
    "duration": 3,
    "start_time": "2021-11-16T12:02:39.512Z"
   },
   {
    "duration": 106,
    "start_time": "2021-11-16T12:03:03.460Z"
   },
   {
    "duration": 3,
    "start_time": "2021-11-17T20:37:21.139Z"
   },
   {
    "duration": 3,
    "start_time": "2021-11-17T20:37:22.229Z"
   },
   {
    "duration": 3,
    "start_time": "2021-11-17T20:38:38.806Z"
   },
   {
    "duration": 3,
    "start_time": "2021-11-17T20:38:41.958Z"
   },
   {
    "duration": 3,
    "start_time": "2021-11-17T20:43:46.551Z"
   },
   {
    "duration": 4,
    "start_time": "2021-11-17T20:58:21.835Z"
   },
   {
    "duration": 3,
    "start_time": "2021-11-17T20:59:21.872Z"
   },
   {
    "duration": 4,
    "start_time": "2021-11-17T20:59:45.352Z"
   },
   {
    "duration": 4,
    "start_time": "2021-11-17T20:59:49.646Z"
   },
   {
    "duration": 159,
    "start_time": "2021-11-17T21:02:26.949Z"
   },
   {
    "duration": 3,
    "start_time": "2021-11-17T21:03:53.461Z"
   },
   {
    "duration": 3,
    "start_time": "2021-11-17T21:03:53.694Z"
   },
   {
    "duration": 3,
    "start_time": "2021-11-17T21:05:28.145Z"
   },
   {
    "duration": 116,
    "start_time": "2021-11-17T21:05:57.787Z"
   },
   {
    "duration": 3,
    "start_time": "2021-11-17T21:06:37.993Z"
   },
   {
    "duration": 3,
    "start_time": "2021-11-17T21:06:38.261Z"
   },
   {
    "duration": 3,
    "start_time": "2021-11-17T21:11:54.358Z"
   },
   {
    "duration": 3,
    "start_time": "2021-11-17T21:12:43.846Z"
   },
   {
    "duration": 4,
    "start_time": "2021-11-17T21:13:08.773Z"
   },
   {
    "duration": 3,
    "start_time": "2021-11-17T21:14:44.441Z"
   },
   {
    "duration": 3,
    "start_time": "2021-11-17T21:15:42.059Z"
   },
   {
    "duration": 4,
    "start_time": "2021-11-17T21:15:51.995Z"
   },
   {
    "duration": 3,
    "start_time": "2021-11-17T21:15:53.923Z"
   },
   {
    "duration": 3,
    "start_time": "2021-11-17T21:15:55.282Z"
   },
   {
    "duration": 3,
    "start_time": "2021-11-17T21:16:28.492Z"
   },
   {
    "duration": 3,
    "start_time": "2021-11-17T21:16:32.603Z"
   },
   {
    "duration": 3,
    "start_time": "2021-11-17T21:17:06.941Z"
   },
   {
    "duration": 98,
    "start_time": "2021-11-17T21:18:05.733Z"
   },
   {
    "duration": 4,
    "start_time": "2021-11-17T21:21:35.255Z"
   },
   {
    "duration": 3,
    "start_time": "2021-11-17T21:21:37.804Z"
   },
   {
    "duration": 4,
    "start_time": "2021-11-17T21:23:06.071Z"
   },
   {
    "duration": 3,
    "start_time": "2021-11-17T21:23:24.799Z"
   },
   {
    "duration": 3,
    "start_time": "2021-11-17T21:23:32.591Z"
   },
   {
    "duration": 98,
    "start_time": "2021-11-17T21:28:31.559Z"
   },
   {
    "duration": 3,
    "start_time": "2021-11-17T21:28:45.448Z"
   },
   {
    "duration": 3,
    "start_time": "2021-11-17T21:29:17.303Z"
   },
   {
    "duration": 3,
    "start_time": "2021-11-17T21:29:29.617Z"
   },
   {
    "duration": 3,
    "start_time": "2021-11-17T21:29:32.681Z"
   },
   {
    "duration": 3,
    "start_time": "2021-11-17T21:36:11.474Z"
   },
   {
    "duration": 3,
    "start_time": "2021-11-17T21:36:14.791Z"
   },
   {
    "duration": 3,
    "start_time": "2021-11-17T21:36:53.943Z"
   },
   {
    "duration": 3,
    "start_time": "2021-11-17T21:36:56.165Z"
   },
   {
    "duration": 4,
    "start_time": "2021-11-17T21:37:16.590Z"
   },
   {
    "duration": 3,
    "start_time": "2021-11-17T21:37:22.702Z"
   },
   {
    "duration": 4,
    "start_time": "2021-11-17T21:38:03.479Z"
   },
   {
    "duration": 3,
    "start_time": "2021-11-17T21:38:08.601Z"
   },
   {
    "duration": 3,
    "start_time": "2021-11-17T21:38:12.928Z"
   },
   {
    "duration": 3,
    "start_time": "2021-11-17T21:38:48.896Z"
   },
   {
    "duration": 2,
    "start_time": "2021-11-17T21:38:49.171Z"
   },
   {
    "duration": 4,
    "start_time": "2021-11-17T21:39:57.889Z"
   },
   {
    "duration": 3,
    "start_time": "2021-11-17T21:39:58.057Z"
   },
   {
    "duration": 3,
    "start_time": "2021-11-17T21:41:20.108Z"
   },
   {
    "duration": 3,
    "start_time": "2021-11-17T21:41:20.629Z"
   },
   {
    "duration": 3,
    "start_time": "2021-11-17T21:42:49.136Z"
   },
   {
    "duration": 3,
    "start_time": "2021-11-17T21:43:15.137Z"
   },
   {
    "duration": 4,
    "start_time": "2021-11-17T21:43:16.766Z"
   },
   {
    "duration": 4,
    "start_time": "2021-11-17T21:43:31.711Z"
   },
   {
    "duration": 3,
    "start_time": "2021-11-17T21:43:36.312Z"
   },
   {
    "duration": 4,
    "start_time": "2021-11-17T21:45:08.825Z"
   },
   {
    "duration": 4,
    "start_time": "2021-11-17T21:45:10.119Z"
   },
   {
    "duration": 4,
    "start_time": "2021-11-17T21:45:13.748Z"
   },
   {
    "duration": 3,
    "start_time": "2021-11-17T21:45:22.219Z"
   },
   {
    "duration": 3,
    "start_time": "2021-11-17T21:45:33.412Z"
   },
   {
    "duration": 2,
    "start_time": "2021-11-17T21:46:01.885Z"
   },
   {
    "duration": 3,
    "start_time": "2021-11-17T21:46:03.628Z"
   },
   {
    "duration": 107,
    "start_time": "2021-11-17T21:47:32.512Z"
   },
   {
    "duration": 103,
    "start_time": "2021-11-17T21:50:36.243Z"
   },
   {
    "duration": 3,
    "start_time": "2021-11-18T06:28:31.440Z"
   },
   {
    "duration": 3,
    "start_time": "2021-11-18T06:29:00.168Z"
   },
   {
    "duration": 3,
    "start_time": "2021-11-18T06:31:27.008Z"
   },
   {
    "duration": 2,
    "start_time": "2021-11-18T06:35:34.288Z"
   },
   {
    "duration": 2,
    "start_time": "2021-11-18T06:38:04.527Z"
   },
   {
    "duration": 2270,
    "start_time": "2024-10-09T16:24:00.626Z"
   },
   {
    "duration": 649,
    "start_time": "2024-10-09T16:30:44.284Z"
   },
   {
    "duration": 253,
    "start_time": "2024-10-09T16:31:02.116Z"
   },
   {
    "duration": 162,
    "start_time": "2024-10-09T16:31:09.888Z"
   },
   {
    "duration": 156,
    "start_time": "2024-10-09T16:31:13.716Z"
   },
   {
    "duration": 10,
    "start_time": "2024-10-09T16:42:03.798Z"
   },
   {
    "duration": 11,
    "start_time": "2024-10-09T16:47:10.606Z"
   },
   {
    "duration": 7,
    "start_time": "2024-10-09T16:47:24.109Z"
   },
   {
    "duration": 9,
    "start_time": "2024-10-09T16:47:33.665Z"
   },
   {
    "duration": 8,
    "start_time": "2024-10-09T16:49:11.066Z"
   },
   {
    "duration": 6,
    "start_time": "2024-10-09T17:11:21.089Z"
   },
   {
    "duration": 12,
    "start_time": "2024-10-09T17:14:40.529Z"
   },
   {
    "duration": 3,
    "start_time": "2024-10-09T17:15:04.698Z"
   },
   {
    "duration": 4,
    "start_time": "2024-10-09T17:23:57.278Z"
   },
   {
    "duration": 4,
    "start_time": "2024-10-09T17:23:59.501Z"
   },
   {
    "duration": 4,
    "start_time": "2024-10-09T17:24:40.834Z"
   },
   {
    "duration": 8,
    "start_time": "2024-10-09T17:27:37.738Z"
   },
   {
    "duration": 4,
    "start_time": "2024-10-09T17:28:20.420Z"
   },
   {
    "duration": 4,
    "start_time": "2024-10-09T17:28:22.011Z"
   },
   {
    "duration": 14,
    "start_time": "2024-10-09T17:31:04.829Z"
   },
   {
    "duration": 4,
    "start_time": "2024-10-09T17:33:05.463Z"
   },
   {
    "duration": 3,
    "start_time": "2024-10-09T17:33:08.461Z"
   },
   {
    "duration": 3,
    "start_time": "2024-10-09T17:33:12.584Z"
   },
   {
    "duration": 3,
    "start_time": "2024-10-09T17:33:24.683Z"
   },
   {
    "duration": 6,
    "start_time": "2024-10-09T17:33:39.663Z"
   },
   {
    "duration": 8,
    "start_time": "2024-10-09T17:33:59.527Z"
   },
   {
    "duration": 8,
    "start_time": "2024-10-09T17:36:26.672Z"
   },
   {
    "duration": 9,
    "start_time": "2024-10-09T17:37:21.354Z"
   },
   {
    "duration": 8,
    "start_time": "2024-10-09T17:37:36.917Z"
   },
   {
    "duration": 3,
    "start_time": "2024-10-09T17:43:47.754Z"
   },
   {
    "duration": 17,
    "start_time": "2024-10-09T17:45:30.669Z"
   },
   {
    "duration": 7,
    "start_time": "2024-10-09T17:45:38.220Z"
   },
   {
    "duration": 15,
    "start_time": "2024-10-09T17:46:43.339Z"
   },
   {
    "duration": 8,
    "start_time": "2024-10-09T17:47:34.173Z"
   },
   {
    "duration": 8,
    "start_time": "2024-10-09T17:49:01.507Z"
   },
   {
    "duration": 4,
    "start_time": "2024-10-09T17:54:47.711Z"
   },
   {
    "duration": 9,
    "start_time": "2024-10-09T17:55:14.993Z"
   },
   {
    "duration": 8,
    "start_time": "2024-10-09T17:55:33.516Z"
   },
   {
    "duration": 4,
    "start_time": "2024-10-09T18:06:40.224Z"
   },
   {
    "duration": 9,
    "start_time": "2024-10-09T18:06:58.777Z"
   },
   {
    "duration": 9,
    "start_time": "2024-10-09T18:07:09.881Z"
   },
   {
    "duration": 5,
    "start_time": "2024-10-09T18:07:38.450Z"
   },
   {
    "duration": 9,
    "start_time": "2024-10-09T18:07:42.405Z"
   },
   {
    "duration": 13,
    "start_time": "2024-10-09T18:08:07.688Z"
   },
   {
    "duration": 16,
    "start_time": "2024-10-09T18:08:34.145Z"
   },
   {
    "duration": 11,
    "start_time": "2024-10-09T18:08:53.115Z"
   },
   {
    "duration": 15,
    "start_time": "2024-10-09T18:25:16.887Z"
   },
   {
    "duration": 4,
    "start_time": "2024-10-09T18:26:01.320Z"
   },
   {
    "duration": 4,
    "start_time": "2024-10-09T18:26:11.965Z"
   },
   {
    "duration": 9,
    "start_time": "2024-10-09T18:26:22.237Z"
   },
   {
    "duration": 4,
    "start_time": "2024-10-09T18:27:49.161Z"
   },
   {
    "duration": 9,
    "start_time": "2024-10-09T18:27:51.908Z"
   },
   {
    "duration": 9,
    "start_time": "2024-10-09T18:27:59.595Z"
   },
   {
    "duration": 5,
    "start_time": "2024-10-09T18:30:36.344Z"
   },
   {
    "duration": 9,
    "start_time": "2024-10-09T18:30:39.209Z"
   },
   {
    "duration": 14,
    "start_time": "2024-10-09T18:30:48.612Z"
   },
   {
    "duration": 14,
    "start_time": "2024-10-09T18:31:03.908Z"
   },
   {
    "duration": 9,
    "start_time": "2024-10-09T18:31:11.131Z"
   },
   {
    "duration": 14,
    "start_time": "2024-10-09T18:32:12.887Z"
   },
   {
    "duration": 9,
    "start_time": "2024-10-09T18:32:30.427Z"
   },
   {
    "duration": 17,
    "start_time": "2024-10-09T18:33:20.996Z"
   },
   {
    "duration": 9,
    "start_time": "2024-10-09T18:33:31.244Z"
   },
   {
    "duration": 9,
    "start_time": "2024-10-09T18:33:34.034Z"
   },
   {
    "duration": 6,
    "start_time": "2024-10-09T18:35:09.430Z"
   },
   {
    "duration": 3,
    "start_time": "2024-10-09T18:41:33.495Z"
   },
   {
    "duration": 4,
    "start_time": "2024-10-09T18:42:04.371Z"
   },
   {
    "duration": 14,
    "start_time": "2024-10-09T18:44:25.784Z"
   },
   {
    "duration": 14,
    "start_time": "2024-10-09T18:44:46.077Z"
   },
   {
    "duration": 15,
    "start_time": "2024-10-09T18:44:52.600Z"
   },
   {
    "duration": 4,
    "start_time": "2024-10-09T18:45:05.648Z"
   },
   {
    "duration": 11,
    "start_time": "2024-10-09T18:45:09.110Z"
   },
   {
    "duration": 4,
    "start_time": "2024-10-09T18:50:44.171Z"
   },
   {
    "duration": 10,
    "start_time": "2024-10-09T18:50:47.020Z"
   },
   {
    "duration": 4,
    "start_time": "2024-10-09T18:52:42.399Z"
   },
   {
    "duration": 9,
    "start_time": "2024-10-09T18:52:44.748Z"
   },
   {
    "duration": 5,
    "start_time": "2024-10-09T18:52:57.286Z"
   },
   {
    "duration": 4,
    "start_time": "2024-10-09T18:53:01.622Z"
   },
   {
    "duration": 9,
    "start_time": "2024-10-09T18:53:02.495Z"
   },
   {
    "duration": 12,
    "start_time": "2024-10-09T18:53:26.915Z"
   },
   {
    "duration": 3,
    "start_time": "2024-10-09T18:53:33.637Z"
   },
   {
    "duration": 9,
    "start_time": "2024-10-09T18:53:34.319Z"
   },
   {
    "duration": 5,
    "start_time": "2024-10-09T18:53:59.100Z"
   },
   {
    "duration": 12,
    "start_time": "2024-10-09T18:54:03.871Z"
   },
   {
    "duration": 8,
    "start_time": "2024-10-09T18:54:10.000Z"
   },
   {
    "duration": 9,
    "start_time": "2024-10-09T18:54:13.592Z"
   },
   {
    "duration": 6,
    "start_time": "2024-10-09T18:54:21.564Z"
   },
   {
    "duration": 4,
    "start_time": "2024-10-09T18:54:27.017Z"
   },
   {
    "duration": 9,
    "start_time": "2024-10-09T18:54:29.046Z"
   },
   {
    "duration": 15,
    "start_time": "2024-10-09T18:54:38.820Z"
   },
   {
    "duration": 8,
    "start_time": "2024-10-09T18:54:47.484Z"
   },
   {
    "duration": 3,
    "start_time": "2024-10-09T19:00:16.466Z"
   },
   {
    "duration": 9,
    "start_time": "2024-10-09T19:00:18.499Z"
   },
   {
    "duration": 3,
    "start_time": "2024-10-09T19:01:51.924Z"
   },
   {
    "duration": 9,
    "start_time": "2024-10-09T19:01:53.292Z"
   },
   {
    "duration": 3,
    "start_time": "2024-10-09T19:03:44.550Z"
   },
   {
    "duration": 6,
    "start_time": "2024-10-09T19:05:57.980Z"
   },
   {
    "duration": 3,
    "start_time": "2024-10-09T19:10:22.559Z"
   },
   {
    "duration": 15,
    "start_time": "2024-10-09T19:11:06.611Z"
   },
   {
    "duration": 7,
    "start_time": "2024-10-09T19:12:21.892Z"
   },
   {
    "duration": 10,
    "start_time": "2024-10-09T19:12:39.321Z"
   },
   {
    "duration": 9,
    "start_time": "2024-10-09T19:12:51.585Z"
   },
   {
    "duration": 7,
    "start_time": "2024-10-09T19:14:05.546Z"
   },
   {
    "duration": 9,
    "start_time": "2024-10-09T19:14:50.704Z"
   },
   {
    "duration": 4,
    "start_time": "2024-10-09T19:18:06.806Z"
   },
   {
    "duration": 9,
    "start_time": "2024-10-09T19:18:09.100Z"
   },
   {
    "duration": 13,
    "start_time": "2024-10-09T19:20:49.069Z"
   },
   {
    "duration": 5,
    "start_time": "2024-10-09T19:22:07.160Z"
   },
   {
    "duration": 9,
    "start_time": "2024-10-09T19:22:18.801Z"
   },
   {
    "duration": 10,
    "start_time": "2024-10-09T19:22:39.602Z"
   },
   {
    "duration": 5,
    "start_time": "2024-10-09T19:23:18.180Z"
   },
   {
    "duration": 9,
    "start_time": "2024-10-09T19:24:26.461Z"
   },
   {
    "duration": 10,
    "start_time": "2024-10-09T19:25:01.398Z"
   },
   {
    "duration": 5,
    "start_time": "2024-10-09T19:25:33.173Z"
   },
   {
    "duration": 4,
    "start_time": "2024-10-09T19:25:43.298Z"
   },
   {
    "duration": 9,
    "start_time": "2024-10-09T19:26:57.318Z"
   },
   {
    "duration": 8,
    "start_time": "2024-10-09T19:28:08.861Z"
   },
   {
    "duration": 4,
    "start_time": "2024-10-09T19:33:34.425Z"
   },
   {
    "duration": 9,
    "start_time": "2024-10-09T19:33:41.569Z"
   },
   {
    "duration": 6,
    "start_time": "2024-10-09T19:39:12.889Z"
   },
   {
    "duration": 10,
    "start_time": "2024-10-09T19:39:14.908Z"
   },
   {
    "duration": 4,
    "start_time": "2024-10-09T19:39:25.302Z"
   },
   {
    "duration": 9,
    "start_time": "2024-10-09T19:39:27.181Z"
   },
   {
    "duration": 6,
    "start_time": "2024-10-09T19:42:18.314Z"
   },
   {
    "duration": 9,
    "start_time": "2024-10-09T19:42:20.061Z"
   },
   {
    "duration": 6,
    "start_time": "2024-10-09T19:42:38.988Z"
   },
   {
    "duration": 9,
    "start_time": "2024-10-09T19:42:42.298Z"
   },
   {
    "duration": 8,
    "start_time": "2024-10-09T19:42:48.270Z"
   },
   {
    "duration": 6,
    "start_time": "2024-10-09T19:44:03.869Z"
   },
   {
    "duration": 9,
    "start_time": "2024-10-09T19:44:55.943Z"
   },
   {
    "duration": 6,
    "start_time": "2024-10-09T19:48:15.264Z"
   },
   {
    "duration": 9,
    "start_time": "2024-10-09T19:48:18.577Z"
   },
   {
    "duration": 9,
    "start_time": "2024-10-09T19:48:38.999Z"
   },
   {
    "duration": 6,
    "start_time": "2024-10-09T19:51:28.502Z"
   },
   {
    "duration": 6,
    "start_time": "2024-10-09T19:51:37.261Z"
   },
   {
    "duration": 9,
    "start_time": "2024-10-09T19:51:47.188Z"
   },
   {
    "duration": 9,
    "start_time": "2024-10-09T19:53:05.776Z"
   },
   {
    "duration": 8,
    "start_time": "2024-10-09T20:10:36.600Z"
   },
   {
    "duration": 8,
    "start_time": "2024-10-09T20:10:44.110Z"
   },
   {
    "duration": 11,
    "start_time": "2024-10-09T20:11:24.364Z"
   },
   {
    "duration": 11,
    "start_time": "2024-10-09T20:12:47.709Z"
   },
   {
    "duration": 8,
    "start_time": "2024-10-09T20:14:10.286Z"
   },
   {
    "duration": 18,
    "start_time": "2024-10-09T20:16:14.177Z"
   },
   {
    "duration": 21,
    "start_time": "2024-10-09T20:16:42.510Z"
   },
   {
    "duration": 20,
    "start_time": "2024-10-09T20:22:44.783Z"
   },
   {
    "duration": 27,
    "start_time": "2024-10-09T20:26:12.582Z"
   },
   {
    "duration": 21,
    "start_time": "2024-10-09T20:26:29.430Z"
   },
   {
    "duration": 21,
    "start_time": "2024-10-09T20:26:58.944Z"
   },
   {
    "duration": 25,
    "start_time": "2024-10-09T20:27:10.365Z"
   },
   {
    "duration": 8,
    "start_time": "2024-10-09T20:37:49.959Z"
   },
   {
    "duration": 3,
    "start_time": "2024-10-09T20:56:10.382Z"
   },
   {
    "duration": 7,
    "start_time": "2024-10-09T20:56:14.808Z"
   },
   {
    "duration": 7,
    "start_time": "2024-10-09T20:58:14.505Z"
   },
   {
    "duration": 4,
    "start_time": "2024-10-09T20:59:38.715Z"
   },
   {
    "duration": 9,
    "start_time": "2024-10-09T20:59:42.565Z"
   },
   {
    "duration": 11,
    "start_time": "2024-10-09T20:59:50.574Z"
   },
   {
    "duration": 8,
    "start_time": "2024-10-09T21:04:15.202Z"
   },
   {
    "duration": 9,
    "start_time": "2024-10-09T21:05:56.089Z"
   },
   {
    "duration": 9,
    "start_time": "2024-10-09T21:06:15.180Z"
   },
   {
    "duration": 9,
    "start_time": "2024-10-09T21:07:01.510Z"
   },
   {
    "duration": 8,
    "start_time": "2024-10-09T21:07:19.841Z"
   },
   {
    "duration": 7,
    "start_time": "2024-10-09T21:07:27.522Z"
   },
   {
    "duration": 9,
    "start_time": "2024-10-09T21:07:51.776Z"
   },
   {
    "duration": 9,
    "start_time": "2024-10-09T21:08:10.325Z"
   },
   {
    "duration": 160,
    "start_time": "2024-10-10T03:16:07.524Z"
   },
   {
    "duration": 13,
    "start_time": "2024-10-10T03:16:18.485Z"
   },
   {
    "duration": 2240,
    "start_time": "2024-10-10T03:16:21.316Z"
   },
   {
    "duration": 226,
    "start_time": "2024-10-10T03:16:23.830Z"
   },
   {
    "duration": 10,
    "start_time": "2024-10-10T03:16:26.564Z"
   },
   {
    "duration": 10,
    "start_time": "2024-10-10T03:16:27.368Z"
   },
   {
    "duration": 3,
    "start_time": "2024-10-10T03:16:30.803Z"
   },
   {
    "duration": 11,
    "start_time": "2024-10-10T03:16:33.743Z"
   },
   {
    "duration": 12,
    "start_time": "2024-10-10T03:16:36.505Z"
   },
   {
    "duration": 3,
    "start_time": "2024-10-10T03:25:12.833Z"
   },
   {
    "duration": 8,
    "start_time": "2024-10-10T03:25:15.512Z"
   },
   {
    "duration": 4,
    "start_time": "2024-10-10T03:25:57.868Z"
   },
   {
    "duration": 9,
    "start_time": "2024-10-10T03:26:01.144Z"
   },
   {
    "duration": 45,
    "start_time": "2024-10-10T03:29:15.400Z"
   },
   {
    "duration": 8,
    "start_time": "2024-10-10T03:29:19.886Z"
   },
   {
    "duration": 7,
    "start_time": "2024-10-10T03:31:10.506Z"
   },
   {
    "duration": 4,
    "start_time": "2024-10-10T03:34:09.346Z"
   },
   {
    "duration": 5,
    "start_time": "2024-10-10T03:34:27.704Z"
   },
   {
    "duration": 14,
    "start_time": "2024-10-10T03:35:22.993Z"
   },
   {
    "duration": 12,
    "start_time": "2024-10-10T03:36:03.625Z"
   },
   {
    "duration": 9,
    "start_time": "2024-10-10T03:36:21.581Z"
   },
   {
    "duration": 16,
    "start_time": "2024-10-10T03:36:25.616Z"
   },
   {
    "duration": 58,
    "start_time": "2024-10-10T03:36:30.810Z"
   },
   {
    "duration": 7,
    "start_time": "2024-10-10T03:37:23.095Z"
   },
   {
    "duration": 6,
    "start_time": "2024-10-10T03:37:28.483Z"
   },
   {
    "duration": 10,
    "start_time": "2024-10-10T03:37:33.108Z"
   },
   {
    "duration": 6,
    "start_time": "2024-10-10T03:37:39.841Z"
   },
   {
    "duration": 7,
    "start_time": "2024-10-10T03:37:50.119Z"
   },
   {
    "duration": 9,
    "start_time": "2024-10-10T03:43:50.007Z"
   },
   {
    "duration": 12,
    "start_time": "2024-10-10T03:44:21.339Z"
   },
   {
    "duration": 2,
    "start_time": "2024-10-10T03:45:03.112Z"
   },
   {
    "duration": 12,
    "start_time": "2024-10-10T03:47:02.060Z"
   },
   {
    "duration": 8,
    "start_time": "2024-10-10T03:47:07.008Z"
   },
   {
    "duration": 9,
    "start_time": "2024-10-10T03:47:14.326Z"
   },
   {
    "duration": 2,
    "start_time": "2024-10-10T03:47:58.877Z"
   },
   {
    "duration": 6,
    "start_time": "2024-10-10T03:48:46.405Z"
   },
   {
    "duration": 34,
    "start_time": "2024-10-10T03:50:37.100Z"
   },
   {
    "duration": 7,
    "start_time": "2024-10-10T03:50:56.633Z"
   },
   {
    "duration": 4,
    "start_time": "2024-10-10T03:56:31.865Z"
   },
   {
    "duration": 5,
    "start_time": "2024-10-10T03:56:41.853Z"
   },
   {
    "duration": 10,
    "start_time": "2024-10-10T03:56:44.683Z"
   },
   {
    "duration": 20,
    "start_time": "2024-10-10T03:59:06.164Z"
   },
   {
    "duration": 13,
    "start_time": "2024-10-10T04:00:11.966Z"
   },
   {
    "duration": 9,
    "start_time": "2024-10-10T04:01:50.879Z"
   },
   {
    "duration": 5,
    "start_time": "2024-10-10T04:04:57.470Z"
   },
   {
    "duration": 2,
    "start_time": "2024-10-10T04:12:15.011Z"
   },
   {
    "duration": 4,
    "start_time": "2024-10-10T04:14:36.005Z"
   },
   {
    "duration": 9,
    "start_time": "2024-10-10T04:14:38.300Z"
   },
   {
    "duration": 9,
    "start_time": "2024-10-10T04:15:04.366Z"
   },
   {
    "duration": 25,
    "start_time": "2024-10-10T04:22:56.095Z"
   },
   {
    "duration": 8,
    "start_time": "2024-10-10T04:23:52.639Z"
   },
   {
    "duration": 3,
    "start_time": "2024-10-10T15:17:44.966Z"
   },
   {
    "duration": 155,
    "start_time": "2024-10-10T15:19:24.275Z"
   },
   {
    "duration": 2103,
    "start_time": "2024-10-10T15:19:33.330Z"
   },
   {
    "duration": 228,
    "start_time": "2024-10-10T15:19:35.435Z"
   },
   {
    "duration": 9,
    "start_time": "2024-10-10T15:19:44.579Z"
   },
   {
    "duration": 12,
    "start_time": "2024-10-10T15:19:45.508Z"
   },
   {
    "duration": 3,
    "start_time": "2024-10-10T15:19:48.305Z"
   },
   {
    "duration": 8,
    "start_time": "2024-10-10T15:19:50.369Z"
   },
   {
    "duration": 9,
    "start_time": "2024-10-10T15:19:51.601Z"
   },
   {
    "duration": 9,
    "start_time": "2024-10-10T15:19:51.912Z"
   },
   {
    "duration": 4,
    "start_time": "2024-10-10T15:20:14.370Z"
   },
   {
    "duration": 4,
    "start_time": "2024-10-10T15:20:17.761Z"
   },
   {
    "duration": 9,
    "start_time": "2024-10-10T15:20:18.413Z"
   },
   {
    "duration": 9,
    "start_time": "2024-10-10T15:22:18.083Z"
   },
   {
    "duration": 2,
    "start_time": "2024-10-10T15:22:47.253Z"
   },
   {
    "duration": 11,
    "start_time": "2024-10-10T15:28:19.275Z"
   },
   {
    "duration": 6,
    "start_time": "2024-10-10T15:28:40.864Z"
   },
   {
    "duration": 42,
    "start_time": "2024-10-10T17:03:13.986Z"
   },
   {
    "duration": 20,
    "start_time": "2024-10-10T17:03:23.568Z"
   },
   {
    "duration": 11,
    "start_time": "2024-10-10T17:03:26.959Z"
   },
   {
    "duration": 3,
    "start_time": "2024-10-10T17:03:29.458Z"
   },
   {
    "duration": 9,
    "start_time": "2024-10-10T17:03:33.062Z"
   },
   {
    "duration": 15,
    "start_time": "2024-10-10T17:04:18.887Z"
   },
   {
    "duration": 9,
    "start_time": "2024-10-10T17:04:25.262Z"
   },
   {
    "duration": 5,
    "start_time": "2024-10-10T17:07:07.761Z"
   },
   {
    "duration": 15,
    "start_time": "2024-10-10T17:11:48.013Z"
   },
   {
    "duration": 2,
    "start_time": "2024-10-10T17:12:11.629Z"
   },
   {
    "duration": 4,
    "start_time": "2024-10-10T17:15:37.572Z"
   },
   {
    "duration": 9,
    "start_time": "2024-10-10T17:16:24.017Z"
   },
   {
    "duration": 6,
    "start_time": "2024-10-10T17:16:52.558Z"
   },
   {
    "duration": 30,
    "start_time": "2024-10-10T17:17:21.215Z"
   },
   {
    "duration": 9,
    "start_time": "2024-10-10T17:17:50.572Z"
   },
   {
    "duration": 15,
    "start_time": "2024-10-10T17:18:15.050Z"
   },
   {
    "duration": 17,
    "start_time": "2024-10-10T17:19:57.946Z"
   },
   {
    "duration": 17,
    "start_time": "2024-10-10T17:20:07.739Z"
   },
   {
    "duration": 4,
    "start_time": "2024-10-10T17:20:16.974Z"
   },
   {
    "duration": 381,
    "start_time": "2024-10-10T17:21:23.055Z"
   },
   {
    "duration": 38,
    "start_time": "2024-10-10T17:21:36.783Z"
   },
   {
    "duration": 10,
    "start_time": "2024-10-10T17:21:48.305Z"
   },
   {
    "duration": 12,
    "start_time": "2024-10-10T17:22:28.744Z"
   },
   {
    "duration": 9,
    "start_time": "2024-10-10T17:22:52.496Z"
   },
   {
    "duration": 15,
    "start_time": "2024-10-10T17:27:37.238Z"
   },
   {
    "duration": 8,
    "start_time": "2024-10-10T17:27:52.437Z"
   },
   {
    "duration": 12,
    "start_time": "2024-10-10T17:29:27.078Z"
   },
   {
    "duration": 10,
    "start_time": "2024-10-10T17:30:23.054Z"
   },
   {
    "duration": 11,
    "start_time": "2024-10-10T17:31:01.269Z"
   },
   {
    "duration": 11,
    "start_time": "2024-10-10T17:31:15.652Z"
   },
   {
    "duration": 9,
    "start_time": "2024-10-10T17:31:30.316Z"
   },
   {
    "duration": 2,
    "start_time": "2024-10-10T17:35:14.960Z"
   },
   {
    "duration": 72,
    "start_time": "2024-10-10T17:37:00.314Z"
   },
   {
    "duration": 8,
    "start_time": "2024-10-10T17:37:14.809Z"
   },
   {
    "duration": 21,
    "start_time": "2024-10-10T17:37:36.329Z"
   },
   {
    "duration": 7,
    "start_time": "2024-10-10T17:37:39.197Z"
   },
   {
    "duration": 241,
    "start_time": "2024-10-10T17:40:04.455Z"
   },
   {
    "duration": 22,
    "start_time": "2024-10-10T17:40:31.241Z"
   },
   {
    "duration": 15,
    "start_time": "2024-10-10T17:40:33.074Z"
   },
   {
    "duration": 8,
    "start_time": "2024-10-10T17:40:35.550Z"
   },
   {
    "duration": 17,
    "start_time": "2024-10-10T17:42:45.954Z"
   },
   {
    "duration": 14,
    "start_time": "2024-10-10T17:42:51.543Z"
   },
   {
    "duration": 14,
    "start_time": "2024-10-10T17:43:24.737Z"
   },
   {
    "duration": 171,
    "start_time": "2024-10-10T17:43:28.502Z"
   },
   {
    "duration": 20,
    "start_time": "2024-10-10T17:43:32.414Z"
   },
   {
    "duration": 15,
    "start_time": "2024-10-10T17:43:36.718Z"
   },
   {
    "duration": 8,
    "start_time": "2024-10-10T17:43:37.432Z"
   },
   {
    "duration": 17,
    "start_time": "2024-10-10T17:47:41.728Z"
   },
   {
    "duration": 14,
    "start_time": "2024-10-10T17:47:45.001Z"
   },
   {
    "duration": 9,
    "start_time": "2024-10-10T17:47:46.243Z"
   },
   {
    "duration": 16,
    "start_time": "2024-10-10T17:48:23.956Z"
   },
   {
    "duration": 2,
    "start_time": "2024-10-10T17:48:25.744Z"
   },
   {
    "duration": 8,
    "start_time": "2024-10-10T17:48:26.198Z"
   },
   {
    "duration": 8,
    "start_time": "2024-10-10T17:48:27.043Z"
   },
   {
    "duration": 3,
    "start_time": "2024-10-10T17:48:36.832Z"
   },
   {
    "duration": 3,
    "start_time": "2024-10-10T17:48:37.517Z"
   },
   {
    "duration": 10,
    "start_time": "2024-10-10T17:48:37.745Z"
   },
   {
    "duration": 9,
    "start_time": "2024-10-10T17:48:38.589Z"
   },
   {
    "duration": 8,
    "start_time": "2024-10-10T17:49:50.719Z"
   },
   {
    "duration": 9,
    "start_time": "2024-10-10T17:49:52.110Z"
   },
   {
    "duration": 6,
    "start_time": "2024-10-10T17:50:13.519Z"
   },
   {
    "duration": 6,
    "start_time": "2024-10-10T17:50:35.997Z"
   },
   {
    "duration": 6,
    "start_time": "2024-10-10T17:50:36.623Z"
   },
   {
    "duration": 11,
    "start_time": "2024-10-10T17:50:47.689Z"
   },
   {
    "duration": 7,
    "start_time": "2024-10-10T17:50:48.211Z"
   },
   {
    "duration": 9,
    "start_time": "2024-10-10T17:50:49.007Z"
   },
   {
    "duration": 7,
    "start_time": "2024-10-10T17:50:49.796Z"
   },
   {
    "duration": 9,
    "start_time": "2024-10-10T17:51:09.577Z"
   },
   {
    "duration": 8,
    "start_time": "2024-10-10T17:51:11.658Z"
   },
   {
    "duration": 7,
    "start_time": "2024-10-10T17:51:42.187Z"
   },
   {
    "duration": 9,
    "start_time": "2024-10-10T17:52:25.478Z"
   },
   {
    "duration": 9,
    "start_time": "2024-10-10T17:52:54.956Z"
   },
   {
    "duration": 9,
    "start_time": "2024-10-10T17:53:03.603Z"
   },
   {
    "duration": 8,
    "start_time": "2024-10-10T17:54:29.927Z"
   },
   {
    "duration": 8,
    "start_time": "2024-10-10T17:55:21.847Z"
   },
   {
    "duration": 9,
    "start_time": "2024-10-10T17:56:10.682Z"
   },
   {
    "duration": 12,
    "start_time": "2024-10-10T17:57:02.751Z"
   },
   {
    "duration": 10,
    "start_time": "2024-10-10T17:57:03.249Z"
   },
   {
    "duration": 6,
    "start_time": "2024-10-10T17:57:04.062Z"
   },
   {
    "duration": 10,
    "start_time": "2024-10-10T17:57:29.964Z"
   },
   {
    "duration": 8,
    "start_time": "2024-10-10T17:58:09.604Z"
   },
   {
    "duration": 10,
    "start_time": "2024-10-10T17:58:18.398Z"
   },
   {
    "duration": 8,
    "start_time": "2024-10-10T17:58:20.777Z"
   },
   {
    "duration": 7,
    "start_time": "2024-10-10T17:58:33.246Z"
   },
   {
    "duration": 51,
    "start_time": "2024-10-10T17:58:40.353Z"
   },
   {
    "duration": 19,
    "start_time": "2024-10-10T17:58:40.846Z"
   },
   {
    "duration": 18,
    "start_time": "2024-10-10T17:58:42.675Z"
   },
   {
    "duration": 8,
    "start_time": "2024-10-10T17:58:44.052Z"
   },
   {
    "duration": 2,
    "start_time": "2024-10-10T18:01:41.432Z"
   },
   {
    "duration": 15,
    "start_time": "2024-10-10T18:02:49.942Z"
   },
   {
    "duration": 15,
    "start_time": "2024-10-10T18:07:04.797Z"
   },
   {
    "duration": 21,
    "start_time": "2024-10-10T18:07:41.387Z"
   },
   {
    "duration": 34,
    "start_time": "2024-10-10T18:08:06.732Z"
   },
   {
    "duration": 30,
    "start_time": "2024-10-10T18:08:46.972Z"
   },
   {
    "duration": 9,
    "start_time": "2024-10-10T18:10:04.144Z"
   },
   {
    "duration": 7,
    "start_time": "2024-10-10T18:10:15.928Z"
   },
   {
    "duration": 8,
    "start_time": "2024-10-10T18:10:25.603Z"
   },
   {
    "duration": 10,
    "start_time": "2024-10-10T18:10:39.123Z"
   },
   {
    "duration": 83,
    "start_time": "2024-10-10T18:24:22.361Z"
   },
   {
    "duration": 289,
    "start_time": "2024-10-10T18:28:59.914Z"
   },
   {
    "duration": 11,
    "start_time": "2024-10-10T18:29:34.855Z"
   },
   {
    "duration": 224,
    "start_time": "2024-10-10T18:29:44.993Z"
   },
   {
    "duration": 27,
    "start_time": "2024-10-10T18:34:39.626Z"
   },
   {
    "duration": 27,
    "start_time": "2024-10-10T18:35:12.092Z"
   },
   {
    "duration": 41,
    "start_time": "2024-10-10T18:37:15.664Z"
   },
   {
    "duration": 290,
    "start_time": "2024-10-10T18:52:23.882Z"
   },
   {
    "duration": 23,
    "start_time": "2024-10-10T18:53:53.539Z"
   },
   {
    "duration": 258,
    "start_time": "2024-10-10T18:54:23.421Z"
   },
   {
    "duration": 382,
    "start_time": "2024-10-10T18:55:23.586Z"
   },
   {
    "duration": 321,
    "start_time": "2024-10-10T18:57:31.089Z"
   },
   {
    "duration": 188,
    "start_time": "2024-10-10T18:59:18.172Z"
   },
   {
    "duration": 21,
    "start_time": "2024-10-10T19:00:03.170Z"
   },
   {
    "duration": 285,
    "start_time": "2024-10-10T19:01:27.777Z"
   },
   {
    "duration": 4,
    "start_time": "2024-10-10T19:08:16.835Z"
   },
   {
    "duration": 4,
    "start_time": "2024-10-10T19:10:04.619Z"
   },
   {
    "duration": 31,
    "start_time": "2024-10-10T19:10:35.073Z"
   },
   {
    "duration": 5,
    "start_time": "2024-10-10T19:15:48.268Z"
   },
   {
    "duration": 148,
    "start_time": "2024-10-10T19:31:52.284Z"
   },
   {
    "duration": 18,
    "start_time": "2024-10-10T19:40:28.064Z"
   },
   {
    "duration": 61,
    "start_time": "2024-10-10T19:40:47.977Z"
   },
   {
    "duration": 10,
    "start_time": "2024-10-10T19:44:42.999Z"
   },
   {
    "duration": 24,
    "start_time": "2024-10-10T19:46:35.318Z"
   },
   {
    "duration": 419,
    "start_time": "2024-10-10T19:46:48.952Z"
   },
   {
    "duration": 3,
    "start_time": "2024-10-10T19:48:51.090Z"
   },
   {
    "duration": 16,
    "start_time": "2024-10-10T19:48:55.232Z"
   },
   {
    "duration": 12,
    "start_time": "2024-10-10T19:48:56.637Z"
   },
   {
    "duration": 42,
    "start_time": "2024-10-10T19:49:09.631Z"
   },
   {
    "duration": 6,
    "start_time": "2024-10-10T19:49:17.107Z"
   },
   {
    "duration": 55,
    "start_time": "2024-10-10T19:51:16.068Z"
   },
   {
    "duration": 24,
    "start_time": "2024-10-10T19:52:19.646Z"
   },
   {
    "duration": 65,
    "start_time": "2024-10-10T19:55:15.500Z"
   },
   {
    "duration": 36,
    "start_time": "2024-10-10T19:55:41.091Z"
   },
   {
    "duration": 17,
    "start_time": "2024-10-10T19:56:20.321Z"
   },
   {
    "duration": 17,
    "start_time": "2024-10-10T19:56:27.552Z"
   },
   {
    "duration": 27,
    "start_time": "2024-10-10T19:56:36.212Z"
   },
   {
    "duration": 16,
    "start_time": "2024-10-10T19:56:37.659Z"
   },
   {
    "duration": 46,
    "start_time": "2024-10-10T19:56:44.010Z"
   },
   {
    "duration": 10,
    "start_time": "2024-10-10T19:58:12.239Z"
   },
   {
    "duration": 11,
    "start_time": "2024-10-10T21:17:27.742Z"
   },
   {
    "duration": 3,
    "start_time": "2024-10-10T21:17:32.831Z"
   },
   {
    "duration": 14,
    "start_time": "2024-10-10T21:48:04.517Z"
   },
   {
    "duration": 26,
    "start_time": "2024-10-10T21:48:26.474Z"
   },
   {
    "duration": 16,
    "start_time": "2024-10-10T21:49:12.543Z"
   },
   {
    "duration": 24,
    "start_time": "2024-10-10T21:50:23.964Z"
   },
   {
    "duration": 19,
    "start_time": "2024-10-10T21:50:36.494Z"
   },
   {
    "duration": 19,
    "start_time": "2024-10-10T22:00:17.904Z"
   },
   {
    "duration": 43,
    "start_time": "2024-10-10T22:03:56.771Z"
   },
   {
    "duration": 31,
    "start_time": "2024-10-10T22:03:59.853Z"
   },
   {
    "duration": 43,
    "start_time": "2024-10-10T22:04:24.536Z"
   },
   {
    "duration": 56,
    "start_time": "2024-10-10T22:05:38.430Z"
   },
   {
    "duration": 31,
    "start_time": "2024-10-10T22:06:38.526Z"
   },
   {
    "duration": 32,
    "start_time": "2024-10-10T22:06:59.218Z"
   },
   {
    "duration": 53,
    "start_time": "2024-10-10T22:07:20.875Z"
   },
   {
    "duration": 19,
    "start_time": "2024-10-10T22:08:12.015Z"
   },
   {
    "duration": 160,
    "start_time": "2024-10-10T22:08:32.680Z"
   },
   {
    "duration": 87,
    "start_time": "2024-10-10T22:11:57.998Z"
   },
   {
    "duration": 9,
    "start_time": "2024-10-10T22:14:57.093Z"
   },
   {
    "duration": 5,
    "start_time": "2024-10-10T22:15:50.135Z"
   },
   {
    "duration": 9,
    "start_time": "2024-10-10T22:16:07.651Z"
   },
   {
    "duration": 12,
    "start_time": "2024-10-10T22:16:49.953Z"
   },
   {
    "duration": 76,
    "start_time": "2024-10-10T22:18:41.647Z"
   },
   {
    "duration": 88,
    "start_time": "2024-10-10T22:19:36.900Z"
   },
   {
    "duration": 86,
    "start_time": "2024-10-10T22:22:53.354Z"
   },
   {
    "duration": 27,
    "start_time": "2024-10-10T22:23:43.361Z"
   },
   {
    "duration": 90,
    "start_time": "2024-10-10T22:23:52.401Z"
   },
   {
    "duration": 65,
    "start_time": "2024-10-10T22:24:01.486Z"
   },
   {
    "duration": 98,
    "start_time": "2024-10-10T22:24:20.082Z"
   },
   {
    "duration": 98,
    "start_time": "2024-10-10T22:26:31.127Z"
   },
   {
    "duration": 4,
    "start_time": "2024-10-10T22:27:15.662Z"
   },
   {
    "duration": 33,
    "start_time": "2024-10-10T22:27:27.747Z"
   },
   {
    "duration": 173,
    "start_time": "2024-10-10T22:27:55.300Z"
   },
   {
    "duration": 87,
    "start_time": "2024-10-10T22:28:34.198Z"
   },
   {
    "duration": 7,
    "start_time": "2024-10-10T22:33:10.712Z"
   },
   {
    "duration": 58,
    "start_time": "2024-10-10T22:35:41.564Z"
   },
   {
    "duration": 54,
    "start_time": "2024-10-10T22:36:05.192Z"
   },
   {
    "duration": 89,
    "start_time": "2024-10-10T22:36:22.585Z"
   },
   {
    "duration": 5,
    "start_time": "2024-10-10T22:42:02.159Z"
   },
   {
    "duration": 6,
    "start_time": "2024-10-10T22:42:37.803Z"
   },
   {
    "duration": 10,
    "start_time": "2024-10-10T22:42:51.422Z"
   },
   {
    "duration": 220,
    "start_time": "2024-10-10T22:53:18.014Z"
   },
   {
    "duration": 18,
    "start_time": "2024-10-10T22:54:55.939Z"
   },
   {
    "duration": 81,
    "start_time": "2024-10-10T22:55:06.751Z"
   },
   {
    "duration": 59,
    "start_time": "2024-10-10T22:55:24.101Z"
   },
   {
    "duration": 28,
    "start_time": "2024-10-10T22:56:27.442Z"
   },
   {
    "duration": 23,
    "start_time": "2024-10-10T22:56:41.903Z"
   },
   {
    "duration": 59,
    "start_time": "2024-10-10T22:57:18.429Z"
   },
   {
    "duration": 183,
    "start_time": "2024-10-10T22:59:47.598Z"
   },
   {
    "duration": 41,
    "start_time": "2024-10-10T23:00:15.774Z"
   },
   {
    "duration": 406,
    "start_time": "2024-10-10T23:03:21.815Z"
   },
   {
    "duration": 84,
    "start_time": "2024-10-10T23:03:35.224Z"
   },
   {
    "duration": 50,
    "start_time": "2024-10-10T23:04:07.821Z"
   },
   {
    "duration": 47,
    "start_time": "2024-10-10T23:04:19.020Z"
   },
   {
    "duration": 42,
    "start_time": "2024-10-10T23:04:29.771Z"
   },
   {
    "duration": 42,
    "start_time": "2024-10-10T23:04:50.389Z"
   },
   {
    "duration": 50,
    "start_time": "2024-10-10T23:08:39.875Z"
   },
   {
    "duration": 40,
    "start_time": "2024-10-10T23:09:08.435Z"
   },
   {
    "duration": 138,
    "start_time": "2024-10-10T23:09:28.621Z"
   },
   {
    "duration": 42,
    "start_time": "2024-10-10T23:09:49.255Z"
   },
   {
    "duration": 52,
    "start_time": "2024-10-10T23:10:21.269Z"
   },
   {
    "duration": 712,
    "start_time": "2024-10-10T23:11:18.519Z"
   },
   {
    "duration": 46,
    "start_time": "2024-10-10T23:11:25.991Z"
   },
   {
    "duration": 40,
    "start_time": "2024-10-10T23:11:39.065Z"
   },
   {
    "duration": 2052,
    "start_time": "2024-10-11T14:50:28.280Z"
   },
   {
    "duration": 259,
    "start_time": "2024-10-11T14:50:34.405Z"
   },
   {
    "duration": 10,
    "start_time": "2024-10-11T14:50:37.750Z"
   },
   {
    "duration": 11,
    "start_time": "2024-10-11T14:50:47.342Z"
   },
   {
    "duration": 181,
    "start_time": "2024-10-11T14:51:26.935Z"
   },
   {
    "duration": 8,
    "start_time": "2024-10-11T14:51:58.376Z"
   },
   {
    "duration": 11,
    "start_time": "2024-10-11T14:52:01.623Z"
   },
   {
    "duration": 15,
    "start_time": "2024-10-11T14:53:43.911Z"
   },
   {
    "duration": 5,
    "start_time": "2024-10-11T14:57:07.485Z"
   },
   {
    "duration": 5,
    "start_time": "2024-10-11T15:04:16.924Z"
   },
   {
    "duration": 13,
    "start_time": "2024-10-11T15:05:17.582Z"
   },
   {
    "duration": 9,
    "start_time": "2024-10-11T15:05:40.783Z"
   },
   {
    "duration": 11,
    "start_time": "2024-10-11T15:06:17.801Z"
   },
   {
    "duration": 2,
    "start_time": "2024-10-11T15:13:12.993Z"
   },
   {
    "duration": 13,
    "start_time": "2024-10-11T16:01:58.167Z"
   },
   {
    "duration": 15,
    "start_time": "2024-10-11T16:02:14.574Z"
   },
   {
    "duration": 6,
    "start_time": "2024-10-11T16:02:22.352Z"
   },
   {
    "duration": 5,
    "start_time": "2024-10-11T16:02:23.147Z"
   },
   {
    "duration": 5,
    "start_time": "2024-10-11T16:02:24.563Z"
   },
   {
    "duration": 9,
    "start_time": "2024-10-11T16:02:25.684Z"
   },
   {
    "duration": 16,
    "start_time": "2024-10-11T16:02:31.820Z"
   },
   {
    "duration": 8,
    "start_time": "2024-10-11T16:02:32.618Z"
   },
   {
    "duration": 32,
    "start_time": "2024-10-11T16:02:34.813Z"
   },
   {
    "duration": 13,
    "start_time": "2024-10-11T16:02:35.258Z"
   },
   {
    "duration": 20,
    "start_time": "2024-10-11T16:02:36.134Z"
   },
   {
    "duration": 12,
    "start_time": "2024-10-11T16:02:37.876Z"
   },
   {
    "duration": 41,
    "start_time": "2024-10-11T16:02:38.200Z"
   },
   {
    "duration": 12,
    "start_time": "2024-10-11T16:02:46.917Z"
   },
   {
    "duration": 7,
    "start_time": "2024-10-11T16:02:47.831Z"
   },
   {
    "duration": 16,
    "start_time": "2024-10-11T16:02:49.923Z"
   },
   {
    "duration": 9,
    "start_time": "2024-10-11T16:02:50.140Z"
   },
   {
    "duration": 11,
    "start_time": "2024-10-11T16:02:51.036Z"
   },
   {
    "duration": 10,
    "start_time": "2024-10-11T16:02:52.323Z"
   },
   {
    "duration": 24,
    "start_time": "2024-10-11T16:03:01.920Z"
   },
   {
    "duration": 14,
    "start_time": "2024-10-11T16:03:08.094Z"
   },
   {
    "duration": 8,
    "start_time": "2024-10-11T16:03:08.355Z"
   },
   {
    "duration": 33,
    "start_time": "2024-10-11T16:03:10.979Z"
   },
   {
    "duration": 10,
    "start_time": "2024-10-11T16:03:11.692Z"
   },
   {
    "duration": 13,
    "start_time": "2024-10-11T16:03:18.839Z"
   },
   {
    "duration": 15,
    "start_time": "2024-10-11T16:03:19.093Z"
   },
   {
    "duration": 31,
    "start_time": "2024-10-11T16:03:19.395Z"
   },
   {
    "duration": 33,
    "start_time": "2024-10-11T16:03:27.976Z"
   },
   {
    "duration": 21,
    "start_time": "2024-10-11T16:09:00.052Z"
   },
   {
    "duration": 71,
    "start_time": "2024-10-11T16:11:00.546Z"
   },
   {
    "duration": 46,
    "start_time": "2024-10-11T16:11:26.213Z"
   },
   {
    "duration": 40,
    "start_time": "2024-10-11T16:16:32.937Z"
   },
   {
    "duration": 29,
    "start_time": "2024-10-11T16:22:56.570Z"
   },
   {
    "duration": 37,
    "start_time": "2024-10-11T16:23:30.894Z"
   },
   {
    "duration": 38,
    "start_time": "2024-10-11T16:23:38.524Z"
   },
   {
    "duration": 32,
    "start_time": "2024-10-11T16:23:55.975Z"
   },
   {
    "duration": 120,
    "start_time": "2024-10-11T16:29:22.024Z"
   },
   {
    "duration": 33,
    "start_time": "2024-10-11T16:31:33.689Z"
   },
   {
    "duration": 22,
    "start_time": "2024-10-11T16:31:54.943Z"
   },
   {
    "duration": 5,
    "start_time": "2024-10-11T16:45:40.149Z"
   },
   {
    "duration": 34,
    "start_time": "2024-10-11T16:49:06.755Z"
   },
   {
    "duration": 21,
    "start_time": "2024-10-11T16:49:26.280Z"
   },
   {
    "duration": 30,
    "start_time": "2024-10-11T16:51:53.069Z"
   },
   {
    "duration": 25,
    "start_time": "2024-10-11T16:52:11.380Z"
   },
   {
    "duration": 21,
    "start_time": "2024-10-11T16:52:24.708Z"
   },
   {
    "duration": 14,
    "start_time": "2024-10-11T16:53:31.031Z"
   },
   {
    "duration": 12,
    "start_time": "2024-10-11T16:53:45.399Z"
   },
   {
    "duration": 14,
    "start_time": "2024-10-11T16:54:02.410Z"
   },
   {
    "duration": 12,
    "start_time": "2024-10-11T16:54:04.318Z"
   },
   {
    "duration": 29,
    "start_time": "2024-10-11T16:54:08.821Z"
   },
   {
    "duration": 29,
    "start_time": "2024-10-11T16:58:05.969Z"
   },
   {
    "duration": 31,
    "start_time": "2024-10-11T16:58:55.819Z"
   },
   {
    "duration": 20,
    "start_time": "2024-10-11T16:59:05.203Z"
   },
   {
    "duration": 13,
    "start_time": "2024-10-11T17:09:36.938Z"
   },
   {
    "duration": 13,
    "start_time": "2024-10-11T17:11:31.154Z"
   },
   {
    "duration": 2,
    "start_time": "2024-10-11T17:11:45.993Z"
   },
   {
    "duration": 20,
    "start_time": "2024-10-11T17:11:53.155Z"
   },
   {
    "duration": 3,
    "start_time": "2024-10-11T17:12:19.096Z"
   },
   {
    "duration": 15,
    "start_time": "2024-10-11T17:12:24.698Z"
   },
   {
    "duration": 3,
    "start_time": "2024-10-11T17:12:35.656Z"
   },
   {
    "duration": 2,
    "start_time": "2024-10-11T17:17:04.776Z"
   },
   {
    "duration": 12,
    "start_time": "2024-10-11T17:21:47.438Z"
   },
   {
    "duration": 4,
    "start_time": "2024-10-11T17:21:58.287Z"
   },
   {
    "duration": 4,
    "start_time": "2024-10-11T17:24:11.548Z"
   },
   {
    "duration": 4824,
    "start_time": "2024-10-11T17:24:45.193Z"
   },
   {
    "duration": 3,
    "start_time": "2024-10-11T17:26:17.986Z"
   },
   {
    "duration": 8,
    "start_time": "2024-10-11T17:29:37.449Z"
   },
   {
    "duration": 4,
    "start_time": "2024-10-11T17:35:46.923Z"
   },
   {
    "duration": 7,
    "start_time": "2024-10-11T17:35:48.863Z"
   },
   {
    "duration": 4787,
    "start_time": "2024-10-11T17:36:52.928Z"
   },
   {
    "duration": 3,
    "start_time": "2024-10-11T17:37:02.458Z"
   },
   {
    "duration": 381,
    "start_time": "2024-10-11T17:37:30.545Z"
   },
   {
    "duration": 4,
    "start_time": "2024-10-11T17:37:48.445Z"
   },
   {
    "duration": 8,
    "start_time": "2024-10-11T17:37:50.692Z"
   },
   {
    "duration": 38,
    "start_time": "2024-10-11T17:38:43.302Z"
   },
   {
    "duration": 3,
    "start_time": "2024-10-11T17:38:57.512Z"
   },
   {
    "duration": 5,
    "start_time": "2024-10-11T17:42:35.508Z"
   },
   {
    "duration": 155,
    "start_time": "2024-10-11T17:43:36.083Z"
   },
   {
    "duration": 14,
    "start_time": "2024-10-11T17:43:39.918Z"
   },
   {
    "duration": 13,
    "start_time": "2024-10-11T17:43:50.779Z"
   },
   {
    "duration": 11,
    "start_time": "2024-10-11T17:44:00.702Z"
   },
   {
    "duration": 12,
    "start_time": "2024-10-11T17:44:14.109Z"
   },
   {
    "duration": 16,
    "start_time": "2024-10-11T17:44:30.495Z"
   },
   {
    "duration": 456,
    "start_time": "2024-10-11T17:44:36.196Z"
   },
   {
    "duration": 255,
    "start_time": "2024-10-11T17:44:36.654Z"
   },
   {
    "duration": 10,
    "start_time": "2024-10-11T17:44:36.910Z"
   },
   {
    "duration": 9,
    "start_time": "2024-10-11T17:44:36.922Z"
   },
   {
    "duration": 8,
    "start_time": "2024-10-11T17:44:36.932Z"
   },
   {
    "duration": 10,
    "start_time": "2024-10-11T17:44:36.941Z"
   },
   {
    "duration": 6,
    "start_time": "2024-10-11T17:44:36.953Z"
   },
   {
    "duration": 30,
    "start_time": "2024-10-11T17:44:36.960Z"
   },
   {
    "duration": 3,
    "start_time": "2024-10-11T17:44:36.991Z"
   },
   {
    "duration": 4,
    "start_time": "2024-10-11T17:44:36.998Z"
   },
   {
    "duration": 8,
    "start_time": "2024-10-11T17:44:37.004Z"
   },
   {
    "duration": 15,
    "start_time": "2024-10-11T17:44:37.014Z"
   },
   {
    "duration": 7,
    "start_time": "2024-10-11T17:44:37.030Z"
   },
   {
    "duration": 69,
    "start_time": "2024-10-11T17:44:37.039Z"
   },
   {
    "duration": 12,
    "start_time": "2024-10-11T17:44:37.110Z"
   },
   {
    "duration": 19,
    "start_time": "2024-10-11T17:44:37.124Z"
   },
   {
    "duration": 12,
    "start_time": "2024-10-11T17:44:37.145Z"
   },
   {
    "duration": 65,
    "start_time": "2024-10-11T17:44:37.158Z"
   },
   {
    "duration": 11,
    "start_time": "2024-10-11T17:44:37.225Z"
   },
   {
    "duration": 7,
    "start_time": "2024-10-11T17:44:37.237Z"
   },
   {
    "duration": 16,
    "start_time": "2024-10-11T17:44:37.245Z"
   },
   {
    "duration": 30,
    "start_time": "2024-10-11T17:44:37.262Z"
   },
   {
    "duration": 12,
    "start_time": "2024-10-11T17:44:37.293Z"
   },
   {
    "duration": 11,
    "start_time": "2024-10-11T17:44:37.306Z"
   },
   {
    "duration": 24,
    "start_time": "2024-10-11T17:44:37.318Z"
   },
   {
    "duration": 14,
    "start_time": "2024-10-11T17:44:37.344Z"
   },
   {
    "duration": 7,
    "start_time": "2024-10-11T17:44:37.387Z"
   },
   {
    "duration": 31,
    "start_time": "2024-10-11T17:44:37.398Z"
   },
   {
    "duration": 10,
    "start_time": "2024-10-11T17:44:37.430Z"
   },
   {
    "duration": 13,
    "start_time": "2024-10-11T17:44:37.442Z"
   },
   {
    "duration": 36,
    "start_time": "2024-10-11T17:44:37.457Z"
   },
   {
    "duration": 31,
    "start_time": "2024-10-11T17:44:37.496Z"
   },
   {
    "duration": 19,
    "start_time": "2024-10-11T17:44:37.529Z"
   },
   {
    "duration": 64,
    "start_time": "2024-10-11T17:44:37.550Z"
   },
   {
    "duration": 20,
    "start_time": "2024-10-11T17:44:37.616Z"
   },
   {
    "duration": 31,
    "start_time": "2024-10-11T17:44:37.640Z"
   },
   {
    "duration": 192,
    "start_time": "2024-10-11T17:44:37.686Z"
   },
   {
    "duration": 0,
    "start_time": "2024-10-11T17:44:37.880Z"
   },
   {
    "duration": 0,
    "start_time": "2024-10-11T17:44:37.886Z"
   },
   {
    "duration": 0,
    "start_time": "2024-10-11T17:44:37.888Z"
   },
   {
    "duration": 0,
    "start_time": "2024-10-11T17:44:37.889Z"
   },
   {
    "duration": 0,
    "start_time": "2024-10-11T17:44:37.890Z"
   },
   {
    "duration": 0,
    "start_time": "2024-10-11T17:44:37.891Z"
   },
   {
    "duration": 0,
    "start_time": "2024-10-11T17:44:37.892Z"
   },
   {
    "duration": 0,
    "start_time": "2024-10-11T17:44:37.893Z"
   },
   {
    "duration": 0,
    "start_time": "2024-10-11T17:44:37.894Z"
   },
   {
    "duration": 0,
    "start_time": "2024-10-11T17:44:37.895Z"
   },
   {
    "duration": 0,
    "start_time": "2024-10-11T17:44:37.896Z"
   },
   {
    "duration": 14,
    "start_time": "2024-10-11T17:44:49.433Z"
   },
   {
    "duration": 13,
    "start_time": "2024-10-11T17:45:29.735Z"
   },
   {
    "duration": 3,
    "start_time": "2024-10-11T17:45:45.230Z"
   },
   {
    "duration": 4,
    "start_time": "2024-10-11T17:45:50.932Z"
   },
   {
    "duration": 158,
    "start_time": "2024-10-11T17:56:14.062Z"
   },
   {
    "duration": 12,
    "start_time": "2024-10-11T17:56:25.668Z"
   },
   {
    "duration": 438,
    "start_time": "2024-10-11T17:56:38.321Z"
   },
   {
    "duration": 251,
    "start_time": "2024-10-11T17:56:38.761Z"
   },
   {
    "duration": 9,
    "start_time": "2024-10-11T17:56:39.014Z"
   },
   {
    "duration": 8,
    "start_time": "2024-10-11T17:56:39.027Z"
   },
   {
    "duration": 8,
    "start_time": "2024-10-11T17:56:39.037Z"
   },
   {
    "duration": 9,
    "start_time": "2024-10-11T17:56:39.047Z"
   },
   {
    "duration": 5,
    "start_time": "2024-10-11T17:56:39.058Z"
   },
   {
    "duration": 23,
    "start_time": "2024-10-11T17:56:39.065Z"
   },
   {
    "duration": 3,
    "start_time": "2024-10-11T17:56:39.090Z"
   },
   {
    "duration": 5,
    "start_time": "2024-10-11T17:56:39.097Z"
   },
   {
    "duration": 8,
    "start_time": "2024-10-11T17:56:39.104Z"
   },
   {
    "duration": 14,
    "start_time": "2024-10-11T17:56:39.114Z"
   },
   {
    "duration": 8,
    "start_time": "2024-10-11T17:56:39.130Z"
   },
   {
    "duration": 62,
    "start_time": "2024-10-11T17:56:39.140Z"
   },
   {
    "duration": 13,
    "start_time": "2024-10-11T17:56:39.204Z"
   },
   {
    "duration": 20,
    "start_time": "2024-10-11T17:56:39.218Z"
   },
   {
    "duration": 12,
    "start_time": "2024-10-11T17:56:39.239Z"
   },
   {
    "duration": 67,
    "start_time": "2024-10-11T17:56:39.252Z"
   },
   {
    "duration": 11,
    "start_time": "2024-10-11T17:56:39.321Z"
   },
   {
    "duration": 6,
    "start_time": "2024-10-11T17:56:39.334Z"
   },
   {
    "duration": 15,
    "start_time": "2024-10-11T17:56:39.342Z"
   },
   {
    "duration": 33,
    "start_time": "2024-10-11T17:56:39.358Z"
   },
   {
    "duration": 14,
    "start_time": "2024-10-11T17:56:39.393Z"
   },
   {
    "duration": 9,
    "start_time": "2024-10-11T17:56:39.409Z"
   },
   {
    "duration": 22,
    "start_time": "2024-10-11T17:56:39.420Z"
   },
   {
    "duration": 13,
    "start_time": "2024-10-11T17:56:39.443Z"
   },
   {
    "duration": 34,
    "start_time": "2024-10-11T17:56:39.458Z"
   },
   {
    "duration": 31,
    "start_time": "2024-10-11T17:56:39.496Z"
   },
   {
    "duration": 10,
    "start_time": "2024-10-11T17:56:39.529Z"
   },
   {
    "duration": 13,
    "start_time": "2024-10-11T17:56:39.540Z"
   },
   {
    "duration": 39,
    "start_time": "2024-10-11T17:56:39.556Z"
   },
   {
    "duration": 31,
    "start_time": "2024-10-11T17:56:39.598Z"
   },
   {
    "duration": 18,
    "start_time": "2024-10-11T17:56:39.631Z"
   },
   {
    "duration": 54,
    "start_time": "2024-10-11T17:56:39.650Z"
   },
   {
    "duration": 20,
    "start_time": "2024-10-11T17:56:39.706Z"
   },
   {
    "duration": 29,
    "start_time": "2024-10-11T17:56:39.727Z"
   },
   {
    "duration": 200,
    "start_time": "2024-10-11T17:56:39.758Z"
   },
   {
    "duration": 0,
    "start_time": "2024-10-11T17:56:39.960Z"
   },
   {
    "duration": 0,
    "start_time": "2024-10-11T17:56:39.962Z"
   },
   {
    "duration": 0,
    "start_time": "2024-10-11T17:56:39.963Z"
   },
   {
    "duration": 0,
    "start_time": "2024-10-11T17:56:39.965Z"
   },
   {
    "duration": 0,
    "start_time": "2024-10-11T17:56:39.966Z"
   },
   {
    "duration": 0,
    "start_time": "2024-10-11T17:56:39.968Z"
   },
   {
    "duration": 0,
    "start_time": "2024-10-11T17:56:39.969Z"
   },
   {
    "duration": 0,
    "start_time": "2024-10-11T17:56:39.987Z"
   },
   {
    "duration": 0,
    "start_time": "2024-10-11T17:56:39.988Z"
   },
   {
    "duration": 0,
    "start_time": "2024-10-11T17:56:39.989Z"
   },
   {
    "duration": 0,
    "start_time": "2024-10-11T17:56:39.991Z"
   },
   {
    "duration": 14,
    "start_time": "2024-10-11T17:56:48.051Z"
   },
   {
    "duration": 5,
    "start_time": "2024-10-11T17:56:59.468Z"
   },
   {
    "duration": 8,
    "start_time": "2024-10-11T17:57:02.192Z"
   },
   {
    "duration": 6,
    "start_time": "2024-10-11T17:59:35.697Z"
   },
   {
    "duration": 8,
    "start_time": "2024-10-11T17:59:39.301Z"
   },
   {
    "duration": 7,
    "start_time": "2024-10-11T18:00:21.306Z"
   },
   {
    "duration": 7,
    "start_time": "2024-10-11T18:00:45.467Z"
   },
   {
    "duration": 10,
    "start_time": "2024-10-11T18:00:53.687Z"
   },
   {
    "duration": 7,
    "start_time": "2024-10-11T18:01:49.234Z"
   },
   {
    "duration": 7,
    "start_time": "2024-10-11T18:02:18.348Z"
   },
   {
    "duration": 6,
    "start_time": "2024-10-11T18:07:14.489Z"
   },
   {
    "duration": 6,
    "start_time": "2024-10-11T18:09:42.273Z"
   },
   {
    "duration": 7,
    "start_time": "2024-10-11T18:09:44.018Z"
   },
   {
    "duration": 8,
    "start_time": "2024-10-11T18:10:35.665Z"
   },
   {
    "duration": 11,
    "start_time": "2024-10-11T18:13:12.175Z"
   },
   {
    "duration": 7,
    "start_time": "2024-10-11T18:13:13.763Z"
   },
   {
    "duration": 25,
    "start_time": "2024-10-11T18:15:54.542Z"
   },
   {
    "duration": 6,
    "start_time": "2024-10-11T18:16:04.582Z"
   },
   {
    "duration": 7,
    "start_time": "2024-10-11T18:16:06.308Z"
   },
   {
    "duration": 28,
    "start_time": "2024-10-11T18:16:22.051Z"
   },
   {
    "duration": 8,
    "start_time": "2024-10-11T18:16:51.495Z"
   },
   {
    "duration": 5,
    "start_time": "2024-10-11T18:17:37.971Z"
   },
   {
    "duration": 8,
    "start_time": "2024-10-11T18:18:12.942Z"
   },
   {
    "duration": 6,
    "start_time": "2024-10-11T18:20:40.985Z"
   },
   {
    "duration": 8,
    "start_time": "2024-10-11T18:20:43.215Z"
   },
   {
    "duration": 7,
    "start_time": "2024-10-11T18:21:42.176Z"
   },
   {
    "duration": 5,
    "start_time": "2024-10-11T18:22:12.110Z"
   },
   {
    "duration": 4,
    "start_time": "2024-10-11T18:23:08.512Z"
   },
   {
    "duration": 9,
    "start_time": "2024-10-11T18:23:15.029Z"
   },
   {
    "duration": 6,
    "start_time": "2024-10-11T18:23:25.536Z"
   },
   {
    "duration": 26,
    "start_time": "2024-10-11T18:24:06.404Z"
   },
   {
    "duration": 6,
    "start_time": "2024-10-11T18:26:14.558Z"
   },
   {
    "duration": 9,
    "start_time": "2024-10-11T18:26:22.823Z"
   },
   {
    "duration": 5,
    "start_time": "2024-10-11T18:37:08.426Z"
   },
   {
    "duration": 13,
    "start_time": "2024-10-11T18:37:19.683Z"
   },
   {
    "duration": 14,
    "start_time": "2024-10-11T18:39:49.251Z"
   },
   {
    "duration": 14,
    "start_time": "2024-10-11T18:47:11.403Z"
   },
   {
    "duration": 18,
    "start_time": "2024-10-11T18:49:57.916Z"
   },
   {
    "duration": 32,
    "start_time": "2024-10-11T18:54:13.863Z"
   },
   {
    "duration": 15,
    "start_time": "2024-10-11T18:56:43.050Z"
   },
   {
    "duration": 13,
    "start_time": "2024-10-11T19:00:22.743Z"
   },
   {
    "duration": 14,
    "start_time": "2024-10-11T19:01:21.385Z"
   },
   {
    "duration": 13,
    "start_time": "2024-10-11T19:01:39.060Z"
   },
   {
    "duration": 14,
    "start_time": "2024-10-11T19:02:48.949Z"
   },
   {
    "duration": 13,
    "start_time": "2024-10-11T19:02:59.624Z"
   },
   {
    "duration": 5,
    "start_time": "2024-10-11T19:14:27.093Z"
   },
   {
    "duration": 17,
    "start_time": "2024-10-11T19:14:28.483Z"
   },
   {
    "duration": 5,
    "start_time": "2024-10-11T19:16:04.337Z"
   },
   {
    "duration": 9,
    "start_time": "2024-10-11T19:16:06.355Z"
   },
   {
    "duration": 30,
    "start_time": "2024-10-11T19:18:48.406Z"
   },
   {
    "duration": 20,
    "start_time": "2024-10-11T19:18:55.247Z"
   },
   {
    "duration": 24,
    "start_time": "2024-10-11T19:19:05.785Z"
   },
   {
    "duration": 39,
    "start_time": "2024-10-11T19:19:17.581Z"
   },
   {
    "duration": 9,
    "start_time": "2024-10-11T19:19:29.539Z"
   },
   {
    "duration": 16,
    "start_time": "2024-10-11T19:22:51.615Z"
   },
   {
    "duration": 18,
    "start_time": "2024-10-11T19:23:35.184Z"
   },
   {
    "duration": 15,
    "start_time": "2024-10-11T19:23:57.822Z"
   },
   {
    "duration": 23,
    "start_time": "2024-10-11T19:24:13.879Z"
   },
   {
    "duration": 34,
    "start_time": "2024-10-11T19:25:02.107Z"
   },
   {
    "duration": 19,
    "start_time": "2024-10-11T19:25:13.647Z"
   },
   {
    "duration": 378,
    "start_time": "2024-10-11T19:28:25.157Z"
   },
   {
    "duration": 10,
    "start_time": "2024-10-11T19:28:27.258Z"
   },
   {
    "duration": 10,
    "start_time": "2024-10-11T19:28:48.185Z"
   },
   {
    "duration": 42,
    "start_time": "2024-10-11T19:29:42.520Z"
   },
   {
    "duration": 10,
    "start_time": "2024-10-11T19:29:50.246Z"
   },
   {
    "duration": 4,
    "start_time": "2024-10-11T19:30:28.841Z"
   },
   {
    "duration": 10,
    "start_time": "2024-10-11T19:30:31.093Z"
   },
   {
    "duration": 4,
    "start_time": "2024-10-11T19:31:07.611Z"
   },
   {
    "duration": 350,
    "start_time": "2024-10-11T19:31:10.282Z"
   },
   {
    "duration": 12,
    "start_time": "2024-10-11T19:31:24.948Z"
   },
   {
    "duration": 41,
    "start_time": "2024-10-11T19:31:55.748Z"
   },
   {
    "duration": 7,
    "start_time": "2024-10-11T19:32:22.538Z"
   },
   {
    "duration": 11,
    "start_time": "2024-10-11T19:32:27.301Z"
   },
   {
    "duration": 14,
    "start_time": "2024-10-11T19:32:34.461Z"
   },
   {
    "duration": 21,
    "start_time": "2024-10-11T19:32:36.856Z"
   },
   {
    "duration": 20,
    "start_time": "2024-10-11T19:32:37.909Z"
   },
   {
    "duration": 4,
    "start_time": "2024-10-11T19:49:41.166Z"
   },
   {
    "duration": 20,
    "start_time": "2024-10-11T19:49:58.548Z"
   },
   {
    "duration": 16,
    "start_time": "2024-10-11T19:50:49.562Z"
   },
   {
    "duration": 21,
    "start_time": "2024-10-11T19:50:55.149Z"
   },
   {
    "duration": 16,
    "start_time": "2024-10-11T19:52:18.473Z"
   },
   {
    "duration": 21,
    "start_time": "2024-10-11T19:52:39.692Z"
   },
   {
    "duration": 20,
    "start_time": "2024-10-11T19:55:17.523Z"
   },
   {
    "duration": 4,
    "start_time": "2024-10-11T19:55:58.797Z"
   },
   {
    "duration": 4,
    "start_time": "2024-10-11T19:56:01.096Z"
   },
   {
    "duration": 6,
    "start_time": "2024-10-11T19:56:15.597Z"
   },
   {
    "duration": 20,
    "start_time": "2024-10-11T20:03:10.809Z"
   },
   {
    "duration": 20,
    "start_time": "2024-10-11T20:44:28.538Z"
   },
   {
    "duration": 6,
    "start_time": "2024-10-11T21:00:19.388Z"
   },
   {
    "duration": 9,
    "start_time": "2024-10-11T21:28:31.678Z"
   },
   {
    "duration": 2,
    "start_time": "2024-10-11T21:33:38.889Z"
   },
   {
    "duration": 160,
    "start_time": "2024-10-12T00:56:46.361Z"
   },
   {
    "duration": 11,
    "start_time": "2024-10-12T00:56:48.599Z"
   },
   {
    "duration": 14,
    "start_time": "2024-10-12T00:57:09.556Z"
   },
   {
    "duration": 2198,
    "start_time": "2024-10-12T00:57:20.671Z"
   },
   {
    "duration": 244,
    "start_time": "2024-10-12T00:57:22.871Z"
   },
   {
    "duration": 11,
    "start_time": "2024-10-12T00:57:23.117Z"
   },
   {
    "duration": 11,
    "start_time": "2024-10-12T00:57:23.130Z"
   },
   {
    "duration": 9,
    "start_time": "2024-10-12T00:57:23.143Z"
   },
   {
    "duration": 11,
    "start_time": "2024-10-12T00:57:23.153Z"
   },
   {
    "duration": 5,
    "start_time": "2024-10-12T00:57:23.166Z"
   },
   {
    "duration": 32,
    "start_time": "2024-10-12T00:57:23.173Z"
   },
   {
    "duration": 5,
    "start_time": "2024-10-12T00:57:23.207Z"
   },
   {
    "duration": 6,
    "start_time": "2024-10-12T00:57:23.213Z"
   },
   {
    "duration": 5,
    "start_time": "2024-10-12T00:57:23.221Z"
   },
   {
    "duration": 10,
    "start_time": "2024-10-12T00:57:23.227Z"
   },
   {
    "duration": 16,
    "start_time": "2024-10-12T00:57:23.238Z"
   },
   {
    "duration": 48,
    "start_time": "2024-10-12T00:57:23.258Z"
   },
   {
    "duration": 10,
    "start_time": "2024-10-12T00:57:23.307Z"
   },
   {
    "duration": 36,
    "start_time": "2024-10-12T00:57:23.319Z"
   },
   {
    "duration": 13,
    "start_time": "2024-10-12T00:57:23.357Z"
   },
   {
    "duration": 44,
    "start_time": "2024-10-12T00:57:23.371Z"
   },
   {
    "duration": 12,
    "start_time": "2024-10-12T00:57:23.418Z"
   },
   {
    "duration": 41,
    "start_time": "2024-10-12T00:57:23.432Z"
   },
   {
    "duration": 33,
    "start_time": "2024-10-12T00:57:23.475Z"
   },
   {
    "duration": 7,
    "start_time": "2024-10-12T00:57:23.510Z"
   },
   {
    "duration": 17,
    "start_time": "2024-10-12T00:57:23.519Z"
   },
   {
    "duration": 10,
    "start_time": "2024-10-12T00:57:23.538Z"
   },
   {
    "duration": 11,
    "start_time": "2024-10-12T00:57:23.550Z"
   },
   {
    "duration": 11,
    "start_time": "2024-10-12T00:57:23.562Z"
   },
   {
    "duration": 24,
    "start_time": "2024-10-12T00:57:23.606Z"
   },
   {
    "duration": 14,
    "start_time": "2024-10-12T00:57:23.632Z"
   },
   {
    "duration": 7,
    "start_time": "2024-10-12T00:57:23.649Z"
   },
   {
    "duration": 61,
    "start_time": "2024-10-12T00:57:23.657Z"
   },
   {
    "duration": 12,
    "start_time": "2024-10-12T00:57:23.720Z"
   },
   {
    "duration": 13,
    "start_time": "2024-10-12T00:57:23.734Z"
   },
   {
    "duration": 11,
    "start_time": "2024-10-12T00:57:23.749Z"
   },
   {
    "duration": 61,
    "start_time": "2024-10-12T00:57:23.762Z"
   },
   {
    "duration": 20,
    "start_time": "2024-10-12T00:57:23.825Z"
   },
   {
    "duration": 40,
    "start_time": "2024-10-12T00:57:23.846Z"
   },
   {
    "duration": 24,
    "start_time": "2024-10-12T00:57:23.905Z"
   },
   {
    "duration": 29,
    "start_time": "2024-10-12T00:57:23.931Z"
   },
   {
    "duration": 264,
    "start_time": "2024-10-12T00:57:23.962Z"
   },
   {
    "duration": 0,
    "start_time": "2024-10-12T00:57:24.230Z"
   },
   {
    "duration": 0,
    "start_time": "2024-10-12T00:57:24.231Z"
   },
   {
    "duration": 0,
    "start_time": "2024-10-12T00:57:24.232Z"
   },
   {
    "duration": 0,
    "start_time": "2024-10-12T00:57:24.233Z"
   },
   {
    "duration": 0,
    "start_time": "2024-10-12T00:57:24.234Z"
   },
   {
    "duration": 0,
    "start_time": "2024-10-12T00:57:24.235Z"
   },
   {
    "duration": 0,
    "start_time": "2024-10-12T00:57:24.237Z"
   },
   {
    "duration": 0,
    "start_time": "2024-10-12T00:57:24.238Z"
   },
   {
    "duration": 0,
    "start_time": "2024-10-12T00:57:24.239Z"
   },
   {
    "duration": 0,
    "start_time": "2024-10-12T00:57:24.240Z"
   },
   {
    "duration": 0,
    "start_time": "2024-10-12T00:57:24.242Z"
   },
   {
    "duration": 0,
    "start_time": "2024-10-12T00:57:24.243Z"
   },
   {
    "duration": 0,
    "start_time": "2024-10-12T00:57:24.244Z"
   },
   {
    "duration": 0,
    "start_time": "2024-10-12T00:57:24.245Z"
   },
   {
    "duration": 7,
    "start_time": "2024-10-12T00:57:47.934Z"
   },
   {
    "duration": 6,
    "start_time": "2024-10-12T00:58:06.583Z"
   },
   {
    "duration": 5,
    "start_time": "2024-10-12T01:03:35.439Z"
   },
   {
    "duration": 433,
    "start_time": "2024-10-12T01:03:42.676Z"
   },
   {
    "duration": 197,
    "start_time": "2024-10-12T01:03:43.111Z"
   },
   {
    "duration": 9,
    "start_time": "2024-10-12T01:03:43.310Z"
   },
   {
    "duration": 9,
    "start_time": "2024-10-12T01:03:43.321Z"
   },
   {
    "duration": 8,
    "start_time": "2024-10-12T01:03:43.332Z"
   },
   {
    "duration": 10,
    "start_time": "2024-10-12T01:03:43.343Z"
   },
   {
    "duration": 5,
    "start_time": "2024-10-12T01:03:43.355Z"
   },
   {
    "duration": 6,
    "start_time": "2024-10-12T01:03:43.362Z"
   },
   {
    "duration": 39,
    "start_time": "2024-10-12T01:03:43.369Z"
   },
   {
    "duration": 5,
    "start_time": "2024-10-12T01:03:43.410Z"
   },
   {
    "duration": 5,
    "start_time": "2024-10-12T01:03:43.416Z"
   },
   {
    "duration": 9,
    "start_time": "2024-10-12T01:03:43.424Z"
   },
   {
    "duration": 14,
    "start_time": "2024-10-12T01:03:43.435Z"
   },
   {
    "duration": 15,
    "start_time": "2024-10-12T01:03:43.453Z"
   },
   {
    "duration": 42,
    "start_time": "2024-10-12T01:03:43.469Z"
   },
   {
    "duration": 36,
    "start_time": "2024-10-12T01:03:43.513Z"
   },
   {
    "duration": 12,
    "start_time": "2024-10-12T01:03:43.551Z"
   },
   {
    "duration": 40,
    "start_time": "2024-10-12T01:03:43.565Z"
   },
   {
    "duration": 14,
    "start_time": "2024-10-12T01:03:43.607Z"
   },
   {
    "duration": 41,
    "start_time": "2024-10-12T01:03:43.623Z"
   },
   {
    "duration": 12,
    "start_time": "2024-10-12T01:03:43.666Z"
   },
   {
    "duration": 32,
    "start_time": "2024-10-12T01:03:43.679Z"
   },
   {
    "duration": 17,
    "start_time": "2024-10-12T01:03:43.713Z"
   },
   {
    "duration": 9,
    "start_time": "2024-10-12T01:03:43.731Z"
   },
   {
    "duration": 11,
    "start_time": "2024-10-12T01:03:43.742Z"
   },
   {
    "duration": 11,
    "start_time": "2024-10-12T01:03:43.754Z"
   },
   {
    "duration": 56,
    "start_time": "2024-10-12T01:03:43.767Z"
   },
   {
    "duration": 13,
    "start_time": "2024-10-12T01:03:43.825Z"
   },
   {
    "duration": 8,
    "start_time": "2024-10-12T01:03:43.840Z"
   },
   {
    "duration": 33,
    "start_time": "2024-10-12T01:03:43.850Z"
   },
   {
    "duration": 12,
    "start_time": "2024-10-12T01:03:43.906Z"
   },
   {
    "duration": 14,
    "start_time": "2024-10-12T01:03:43.920Z"
   },
   {
    "duration": 13,
    "start_time": "2024-10-12T01:03:43.937Z"
   },
   {
    "duration": 57,
    "start_time": "2024-10-12T01:03:43.951Z"
   },
   {
    "duration": 20,
    "start_time": "2024-10-12T01:03:44.010Z"
   },
   {
    "duration": 35,
    "start_time": "2024-10-12T01:03:44.032Z"
   },
   {
    "duration": 46,
    "start_time": "2024-10-12T01:03:44.068Z"
   },
   {
    "duration": 33,
    "start_time": "2024-10-12T01:03:44.115Z"
   },
   {
    "duration": 200,
    "start_time": "2024-10-12T01:03:44.150Z"
   },
   {
    "duration": 1,
    "start_time": "2024-10-12T01:03:44.351Z"
   },
   {
    "duration": 0,
    "start_time": "2024-10-12T01:03:44.353Z"
   },
   {
    "duration": 0,
    "start_time": "2024-10-12T01:03:44.355Z"
   },
   {
    "duration": 0,
    "start_time": "2024-10-12T01:03:44.356Z"
   },
   {
    "duration": 0,
    "start_time": "2024-10-12T01:03:44.358Z"
   },
   {
    "duration": 0,
    "start_time": "2024-10-12T01:03:44.359Z"
   },
   {
    "duration": 0,
    "start_time": "2024-10-12T01:03:44.361Z"
   },
   {
    "duration": 0,
    "start_time": "2024-10-12T01:03:44.362Z"
   },
   {
    "duration": 0,
    "start_time": "2024-10-12T01:03:44.364Z"
   },
   {
    "duration": 0,
    "start_time": "2024-10-12T01:03:44.364Z"
   },
   {
    "duration": 0,
    "start_time": "2024-10-12T01:03:44.365Z"
   },
   {
    "duration": 0,
    "start_time": "2024-10-12T01:03:44.366Z"
   },
   {
    "duration": 0,
    "start_time": "2024-10-12T01:03:44.367Z"
   },
   {
    "duration": 0,
    "start_time": "2024-10-12T01:03:44.370Z"
   },
   {
    "duration": 14,
    "start_time": "2024-10-12T01:04:35.596Z"
   },
   {
    "duration": 165,
    "start_time": "2024-10-12T01:06:42.448Z"
   },
   {
    "duration": 424,
    "start_time": "2024-10-12T01:06:54.272Z"
   },
   {
    "duration": 196,
    "start_time": "2024-10-12T01:06:54.698Z"
   },
   {
    "duration": 14,
    "start_time": "2024-10-12T01:06:54.895Z"
   },
   {
    "duration": 10,
    "start_time": "2024-10-12T01:06:54.911Z"
   },
   {
    "duration": 9,
    "start_time": "2024-10-12T01:06:54.924Z"
   },
   {
    "duration": 10,
    "start_time": "2024-10-12T01:06:54.934Z"
   },
   {
    "duration": 5,
    "start_time": "2024-10-12T01:06:54.946Z"
   },
   {
    "duration": 4,
    "start_time": "2024-10-12T01:06:54.953Z"
   },
   {
    "duration": 4,
    "start_time": "2024-10-12T01:06:54.959Z"
   },
   {
    "duration": 43,
    "start_time": "2024-10-12T01:06:54.965Z"
   },
   {
    "duration": 4,
    "start_time": "2024-10-12T01:06:55.010Z"
   },
   {
    "duration": 9,
    "start_time": "2024-10-12T01:06:55.016Z"
   },
   {
    "duration": 16,
    "start_time": "2024-10-12T01:06:55.027Z"
   },
   {
    "duration": 15,
    "start_time": "2024-10-12T01:06:55.048Z"
   },
   {
    "duration": 8,
    "start_time": "2024-10-12T01:06:55.065Z"
   },
   {
    "duration": 36,
    "start_time": "2024-10-12T01:06:55.106Z"
   },
   {
    "duration": 12,
    "start_time": "2024-10-12T01:06:55.144Z"
   },
   {
    "duration": 20,
    "start_time": "2024-10-12T01:06:55.158Z"
   },
   {
    "duration": 37,
    "start_time": "2024-10-12T01:06:55.179Z"
   },
   {
    "duration": 43,
    "start_time": "2024-10-12T01:06:55.218Z"
   },
   {
    "duration": 12,
    "start_time": "2024-10-12T01:06:55.263Z"
   },
   {
    "duration": 30,
    "start_time": "2024-10-12T01:06:55.276Z"
   },
   {
    "duration": 19,
    "start_time": "2024-10-12T01:06:55.308Z"
   },
   {
    "duration": 10,
    "start_time": "2024-10-12T01:06:55.329Z"
   },
   {
    "duration": 11,
    "start_time": "2024-10-12T01:06:55.341Z"
   },
   {
    "duration": 11,
    "start_time": "2024-10-12T01:06:55.353Z"
   },
   {
    "duration": 58,
    "start_time": "2024-10-12T01:06:55.366Z"
   },
   {
    "duration": 14,
    "start_time": "2024-10-12T01:06:55.425Z"
   },
   {
    "duration": 8,
    "start_time": "2024-10-12T01:06:55.440Z"
   },
   {
    "duration": 56,
    "start_time": "2024-10-12T01:06:55.450Z"
   },
   {
    "duration": 12,
    "start_time": "2024-10-12T01:06:55.509Z"
   },
   {
    "duration": 13,
    "start_time": "2024-10-12T01:06:55.523Z"
   },
   {
    "duration": 12,
    "start_time": "2024-10-12T01:06:55.538Z"
   },
   {
    "duration": 55,
    "start_time": "2024-10-12T01:06:55.551Z"
   },
   {
    "duration": 20,
    "start_time": "2024-10-12T01:06:55.608Z"
   },
   {
    "duration": 34,
    "start_time": "2024-10-12T01:06:55.629Z"
   },
   {
    "duration": 41,
    "start_time": "2024-10-12T01:06:55.665Z"
   },
   {
    "duration": 28,
    "start_time": "2024-10-12T01:06:55.708Z"
   },
   {
    "duration": 197,
    "start_time": "2024-10-12T01:06:55.738Z"
   },
   {
    "duration": 0,
    "start_time": "2024-10-12T01:06:55.938Z"
   },
   {
    "duration": 0,
    "start_time": "2024-10-12T01:06:55.939Z"
   },
   {
    "duration": 0,
    "start_time": "2024-10-12T01:06:55.940Z"
   },
   {
    "duration": 0,
    "start_time": "2024-10-12T01:06:55.942Z"
   },
   {
    "duration": 0,
    "start_time": "2024-10-12T01:06:55.944Z"
   },
   {
    "duration": 0,
    "start_time": "2024-10-12T01:06:55.945Z"
   },
   {
    "duration": 0,
    "start_time": "2024-10-12T01:06:55.947Z"
   },
   {
    "duration": 0,
    "start_time": "2024-10-12T01:06:55.948Z"
   },
   {
    "duration": 0,
    "start_time": "2024-10-12T01:06:55.949Z"
   },
   {
    "duration": 0,
    "start_time": "2024-10-12T01:06:55.951Z"
   },
   {
    "duration": 1,
    "start_time": "2024-10-12T01:06:55.952Z"
   },
   {
    "duration": 0,
    "start_time": "2024-10-12T01:06:55.954Z"
   },
   {
    "duration": 0,
    "start_time": "2024-10-12T01:06:55.956Z"
   },
   {
    "duration": 0,
    "start_time": "2024-10-12T01:06:55.957Z"
   },
   {
    "duration": 6,
    "start_time": "2024-10-12T01:07:16.110Z"
   },
   {
    "duration": 9,
    "start_time": "2024-10-12T01:07:22.702Z"
   },
   {
    "duration": 5,
    "start_time": "2024-10-12T01:07:50.394Z"
   },
   {
    "duration": 10,
    "start_time": "2024-10-12T01:07:52.568Z"
   },
   {
    "duration": 6,
    "start_time": "2024-10-12T01:09:49.514Z"
   },
   {
    "duration": 10,
    "start_time": "2024-10-12T01:09:51.577Z"
   },
   {
    "duration": 7,
    "start_time": "2024-10-12T01:10:13.430Z"
   },
   {
    "duration": 9,
    "start_time": "2024-10-12T01:10:16.359Z"
   },
   {
    "duration": 14,
    "start_time": "2024-10-12T01:10:29.319Z"
   },
   {
    "duration": 19,
    "start_time": "2024-10-12T01:10:32.790Z"
   },
   {
    "duration": 22,
    "start_time": "2024-10-12T01:10:43.911Z"
   },
   {
    "duration": 30,
    "start_time": "2024-10-12T01:10:50.679Z"
   },
   {
    "duration": 7,
    "start_time": "2024-10-12T01:12:20.539Z"
   },
   {
    "duration": 12,
    "start_time": "2024-10-12T01:12:22.498Z"
   },
   {
    "duration": 9,
    "start_time": "2024-10-12T01:13:36.908Z"
   },
   {
    "duration": 16,
    "start_time": "2024-10-12T01:13:54.201Z"
   },
   {
    "duration": 20,
    "start_time": "2024-10-12T01:14:05.771Z"
   },
   {
    "duration": 21,
    "start_time": "2024-10-12T01:14:16.164Z"
   },
   {
    "duration": 47,
    "start_time": "2024-10-12T01:22:13.130Z"
   },
   {
    "duration": 29,
    "start_time": "2024-10-12T01:22:36.907Z"
   },
   {
    "duration": 29,
    "start_time": "2024-10-12T01:22:55.609Z"
   },
   {
    "duration": 42,
    "start_time": "2024-10-12T01:23:19.434Z"
   },
   {
    "duration": 30,
    "start_time": "2024-10-12T01:24:19.144Z"
   },
   {
    "duration": 37,
    "start_time": "2024-10-12T01:24:43.496Z"
   },
   {
    "duration": 30,
    "start_time": "2024-10-12T01:25:12.499Z"
   },
   {
    "duration": 23,
    "start_time": "2024-10-12T01:29:46.262Z"
   },
   {
    "duration": 37,
    "start_time": "2024-10-12T01:30:04.564Z"
   },
   {
    "duration": 42,
    "start_time": "2024-10-12T01:31:09.853Z"
   },
   {
    "duration": 31,
    "start_time": "2024-10-12T01:31:37.614Z"
   },
   {
    "duration": 32,
    "start_time": "2024-10-12T01:36:04.418Z"
   },
   {
    "duration": 32,
    "start_time": "2024-10-12T01:48:54.643Z"
   },
   {
    "duration": 18,
    "start_time": "2024-10-12T01:49:43.045Z"
   },
   {
    "duration": 190,
    "start_time": "2024-10-12T02:25:17.932Z"
   },
   {
    "duration": 18,
    "start_time": "2024-10-12T02:25:44.297Z"
   },
   {
    "duration": 12,
    "start_time": "2024-10-12T02:25:58.909Z"
   },
   {
    "duration": 2179,
    "start_time": "2024-10-12T02:26:13.525Z"
   },
   {
    "duration": 257,
    "start_time": "2024-10-12T02:26:15.706Z"
   },
   {
    "duration": 11,
    "start_time": "2024-10-12T02:26:15.964Z"
   },
   {
    "duration": 10,
    "start_time": "2024-10-12T02:26:15.978Z"
   },
   {
    "duration": 8,
    "start_time": "2024-10-12T02:26:15.990Z"
   },
   {
    "duration": 11,
    "start_time": "2024-10-12T02:26:16.000Z"
   },
   {
    "duration": 23,
    "start_time": "2024-10-12T02:26:16.012Z"
   },
   {
    "duration": 5,
    "start_time": "2024-10-12T02:26:16.036Z"
   },
   {
    "duration": 4,
    "start_time": "2024-10-12T02:26:16.043Z"
   },
   {
    "duration": 5,
    "start_time": "2024-10-12T02:26:16.051Z"
   },
   {
    "duration": 5,
    "start_time": "2024-10-12T02:26:16.058Z"
   },
   {
    "duration": 9,
    "start_time": "2024-10-12T02:26:16.065Z"
   },
   {
    "duration": 57,
    "start_time": "2024-10-12T02:26:16.076Z"
   },
   {
    "duration": 17,
    "start_time": "2024-10-12T02:26:16.135Z"
   },
   {
    "duration": 10,
    "start_time": "2024-10-12T02:26:16.155Z"
   },
   {
    "duration": 35,
    "start_time": "2024-10-12T02:26:16.167Z"
   },
   {
    "duration": 32,
    "start_time": "2024-10-12T02:26:16.204Z"
   },
   {
    "duration": 21,
    "start_time": "2024-10-12T02:26:16.238Z"
   },
   {
    "duration": 13,
    "start_time": "2024-10-12T02:26:16.260Z"
   },
   {
    "duration": 62,
    "start_time": "2024-10-12T02:26:16.274Z"
   },
   {
    "duration": 12,
    "start_time": "2024-10-12T02:26:16.338Z"
   },
   {
    "duration": 7,
    "start_time": "2024-10-12T02:26:16.352Z"
   },
   {
    "duration": 17,
    "start_time": "2024-10-12T02:26:16.361Z"
   },
   {
    "duration": 10,
    "start_time": "2024-10-12T02:26:16.381Z"
   },
   {
    "duration": 39,
    "start_time": "2024-10-12T02:26:16.393Z"
   },
   {
    "duration": 11,
    "start_time": "2024-10-12T02:26:16.434Z"
   },
   {
    "duration": 23,
    "start_time": "2024-10-12T02:26:16.447Z"
   },
   {
    "duration": 14,
    "start_time": "2024-10-12T02:26:16.474Z"
   },
   {
    "duration": 7,
    "start_time": "2024-10-12T02:26:16.490Z"
   },
   {
    "duration": 64,
    "start_time": "2024-10-12T02:26:16.499Z"
   },
   {
    "duration": 10,
    "start_time": "2024-10-12T02:26:16.565Z"
   },
   {
    "duration": 14,
    "start_time": "2024-10-12T02:26:16.577Z"
   },
   {
    "duration": 13,
    "start_time": "2024-10-12T02:26:16.593Z"
   },
   {
    "duration": 33,
    "start_time": "2024-10-12T02:26:16.632Z"
   },
   {
    "duration": 22,
    "start_time": "2024-10-12T02:26:16.667Z"
   },
   {
    "duration": 56,
    "start_time": "2024-10-12T02:26:16.692Z"
   },
   {
    "duration": 20,
    "start_time": "2024-10-12T02:26:16.750Z"
   },
   {
    "duration": 29,
    "start_time": "2024-10-12T02:26:16.771Z"
   },
   {
    "duration": 8,
    "start_time": "2024-10-12T02:26:16.802Z"
   },
   {
    "duration": 29,
    "start_time": "2024-10-12T02:26:16.811Z"
   },
   {
    "duration": 13,
    "start_time": "2024-10-12T02:26:16.842Z"
   },
   {
    "duration": 14,
    "start_time": "2024-10-12T02:26:16.857Z"
   },
   {
    "duration": 20,
    "start_time": "2024-10-12T02:26:16.872Z"
   },
   {
    "duration": 55,
    "start_time": "2024-10-12T02:26:16.893Z"
   },
   {
    "duration": 20,
    "start_time": "2024-10-12T02:26:16.951Z"
   },
   {
    "duration": 3,
    "start_time": "2024-10-12T02:26:16.973Z"
   },
   {
    "duration": 3,
    "start_time": "2024-10-12T02:26:16.978Z"
   },
   {
    "duration": 3,
    "start_time": "2024-10-12T02:26:16.984Z"
   },
   {
    "duration": 3,
    "start_time": "2024-10-12T02:26:16.988Z"
   },
   {
    "duration": 2,
    "start_time": "2024-10-12T02:26:16.992Z"
   },
   {
    "duration": 35,
    "start_time": "2024-10-12T02:26:16.996Z"
   },
   {
    "duration": 4,
    "start_time": "2024-10-12T02:26:17.033Z"
   },
   {
    "duration": 3,
    "start_time": "2024-10-12T02:26:17.038Z"
   },
   {
    "duration": 33,
    "start_time": "2024-10-12T02:26:49.252Z"
   },
   {
    "duration": 18,
    "start_time": "2024-10-12T02:31:07.058Z"
   },
   {
    "duration": 19,
    "start_time": "2024-10-12T02:31:42.536Z"
   },
   {
    "duration": 21,
    "start_time": "2024-10-12T02:34:16.288Z"
   },
   {
    "duration": 19,
    "start_time": "2024-10-12T02:37:24.753Z"
   },
   {
    "duration": 15,
    "start_time": "2024-10-12T02:39:12.568Z"
   },
   {
    "duration": 18,
    "start_time": "2024-10-12T02:39:46.279Z"
   },
   {
    "duration": 14,
    "start_time": "2024-10-12T02:40:12.344Z"
   },
   {
    "duration": 16,
    "start_time": "2024-10-12T02:40:20.488Z"
   },
   {
    "duration": 24,
    "start_time": "2024-10-12T02:40:24.801Z"
   },
   {
    "duration": 23,
    "start_time": "2024-10-12T02:40:27.182Z"
   },
   {
    "duration": 2,
    "start_time": "2024-10-12T02:40:47.758Z"
   },
   {
    "duration": 24,
    "start_time": "2024-10-12T02:54:24.744Z"
   },
   {
    "duration": 18,
    "start_time": "2024-10-12T02:55:00.613Z"
   },
   {
    "duration": 20,
    "start_time": "2024-10-12T02:55:15.825Z"
   },
   {
    "duration": 21,
    "start_time": "2024-10-12T02:55:24.081Z"
   },
   {
    "duration": 6,
    "start_time": "2024-10-12T02:55:40.140Z"
   },
   {
    "duration": 9,
    "start_time": "2024-10-12T02:55:45.368Z"
   },
   {
    "duration": 17,
    "start_time": "2024-10-12T02:57:00.720Z"
   },
   {
    "duration": 15,
    "start_time": "2024-10-12T02:57:27.715Z"
   },
   {
    "duration": 16,
    "start_time": "2024-10-12T02:59:41.005Z"
   },
   {
    "duration": 15,
    "start_time": "2024-10-12T02:59:57.069Z"
   },
   {
    "duration": 9,
    "start_time": "2024-10-12T03:07:35.774Z"
   },
   {
    "duration": 22,
    "start_time": "2024-10-12T03:08:43.952Z"
   },
   {
    "duration": 19,
    "start_time": "2024-10-12T03:08:52.047Z"
   },
   {
    "duration": 15,
    "start_time": "2024-10-12T03:12:22.378Z"
   },
   {
    "duration": 17,
    "start_time": "2024-10-12T03:12:42.652Z"
   },
   {
    "duration": 14,
    "start_time": "2024-10-12T03:14:08.728Z"
   },
   {
    "duration": 15,
    "start_time": "2024-10-12T03:14:30.812Z"
   },
   {
    "duration": 24,
    "start_time": "2024-10-12T03:14:36.947Z"
   },
   {
    "duration": 27,
    "start_time": "2024-10-12T03:18:10.953Z"
   },
   {
    "duration": 23,
    "start_time": "2024-10-12T03:18:33.753Z"
   },
   {
    "duration": 19,
    "start_time": "2024-10-12T03:18:41.088Z"
   },
   {
    "duration": 241,
    "start_time": "2024-10-12T03:21:54.426Z"
   },
   {
    "duration": 14,
    "start_time": "2024-10-12T03:22:14.826Z"
   },
   {
    "duration": 12,
    "start_time": "2024-10-12T03:23:01.372Z"
   },
   {
    "duration": 16,
    "start_time": "2024-10-12T03:23:35.374Z"
   },
   {
    "duration": 19,
    "start_time": "2024-10-12T03:24:27.673Z"
   },
   {
    "duration": 16,
    "start_time": "2024-10-12T03:25:03.093Z"
   },
   {
    "duration": 9,
    "start_time": "2024-10-12T03:25:34.805Z"
   },
   {
    "duration": 16,
    "start_time": "2024-10-12T03:25:45.425Z"
   },
   {
    "duration": 19,
    "start_time": "2024-10-12T03:29:56.958Z"
   },
   {
    "duration": 15,
    "start_time": "2024-10-12T03:31:21.913Z"
   },
   {
    "duration": 16,
    "start_time": "2024-10-12T03:31:36.432Z"
   },
   {
    "duration": 13,
    "start_time": "2024-10-12T03:32:03.753Z"
   },
   {
    "duration": 14,
    "start_time": "2024-10-12T03:32:51.657Z"
   },
   {
    "duration": 22,
    "start_time": "2024-10-12T03:35:10.514Z"
   },
   {
    "duration": 26,
    "start_time": "2024-10-12T03:35:35.218Z"
   },
   {
    "duration": 9,
    "start_time": "2024-10-12T03:36:12.765Z"
   },
   {
    "duration": 25,
    "start_time": "2024-10-12T03:36:26.770Z"
   },
   {
    "duration": 16,
    "start_time": "2024-10-12T03:36:46.613Z"
   },
   {
    "duration": 17,
    "start_time": "2024-10-12T03:37:30.708Z"
   },
   {
    "duration": 26,
    "start_time": "2024-10-12T03:37:51.359Z"
   },
   {
    "duration": 23,
    "start_time": "2024-10-12T03:37:55.052Z"
   },
   {
    "duration": 11,
    "start_time": "2024-10-12T03:38:59.174Z"
   },
   {
    "duration": 18,
    "start_time": "2024-10-12T03:39:26.027Z"
   },
   {
    "duration": 21,
    "start_time": "2024-10-12T03:39:47.872Z"
   },
   {
    "duration": 15,
    "start_time": "2024-10-12T03:40:15.733Z"
   },
   {
    "duration": 15,
    "start_time": "2024-10-12T03:41:38.493Z"
   },
   {
    "duration": 14,
    "start_time": "2024-10-12T03:41:50.067Z"
   },
   {
    "duration": 28,
    "start_time": "2024-10-12T03:43:27.927Z"
   },
   {
    "duration": 24,
    "start_time": "2024-10-12T03:43:43.836Z"
   },
   {
    "duration": 25,
    "start_time": "2024-10-12T03:45:15.840Z"
   },
   {
    "duration": 23,
    "start_time": "2024-10-12T03:46:33.624Z"
   },
   {
    "duration": 6,
    "start_time": "2024-10-12T03:50:51.014Z"
   },
   {
    "duration": 7,
    "start_time": "2024-10-12T03:51:12.216Z"
   },
   {
    "duration": 9,
    "start_time": "2024-10-12T03:52:37.896Z"
   },
   {
    "duration": 7,
    "start_time": "2024-10-12T03:53:14.129Z"
   },
   {
    "duration": 6,
    "start_time": "2024-10-12T04:07:54.042Z"
   },
   {
    "duration": 284,
    "start_time": "2024-10-12T04:07:57.129Z"
   },
   {
    "duration": 108,
    "start_time": "2024-10-12T04:08:10.096Z"
   },
   {
    "duration": 8,
    "start_time": "2024-10-12T04:08:42.144Z"
   },
   {
    "duration": 6,
    "start_time": "2024-10-12T04:10:49.704Z"
   },
   {
    "duration": 6,
    "start_time": "2024-10-12T04:10:57.558Z"
   },
   {
    "duration": 6,
    "start_time": "2024-10-12T04:30:38.465Z"
   },
   {
    "duration": 6,
    "start_time": "2024-10-12T04:30:41.254Z"
   },
   {
    "duration": 6,
    "start_time": "2024-10-12T04:31:07.522Z"
   },
   {
    "duration": 6,
    "start_time": "2024-10-12T04:31:49.033Z"
   },
   {
    "duration": 6,
    "start_time": "2024-10-12T04:32:57.258Z"
   },
   {
    "duration": 6,
    "start_time": "2024-10-12T04:33:27.954Z"
   },
   {
    "duration": 6,
    "start_time": "2024-10-12T04:33:37.884Z"
   },
   {
    "duration": 6,
    "start_time": "2024-10-12T04:34:24.596Z"
   },
   {
    "duration": 7,
    "start_time": "2024-10-12T04:34:54.933Z"
   },
   {
    "duration": 7,
    "start_time": "2024-10-12T04:35:00.442Z"
   },
   {
    "duration": 9,
    "start_time": "2024-10-12T04:35:15.388Z"
   },
   {
    "duration": 6,
    "start_time": "2024-10-12T04:35:50.905Z"
   },
   {
    "duration": 6,
    "start_time": "2024-10-12T04:35:57.876Z"
   },
   {
    "duration": 6,
    "start_time": "2024-10-12T04:36:01.830Z"
   },
   {
    "duration": 15,
    "start_time": "2024-10-12T04:38:04.530Z"
   },
   {
    "duration": 14,
    "start_time": "2024-10-12T14:14:25.979Z"
   },
   {
    "duration": 2096,
    "start_time": "2024-10-12T14:14:41.068Z"
   },
   {
    "duration": 264,
    "start_time": "2024-10-12T14:14:43.167Z"
   },
   {
    "duration": 9,
    "start_time": "2024-10-12T14:14:43.433Z"
   },
   {
    "duration": 9,
    "start_time": "2024-10-12T14:14:43.446Z"
   },
   {
    "duration": 8,
    "start_time": "2024-10-12T14:14:43.457Z"
   },
   {
    "duration": 9,
    "start_time": "2024-10-12T14:14:43.467Z"
   },
   {
    "duration": 5,
    "start_time": "2024-10-12T14:14:43.478Z"
   },
   {
    "duration": 5,
    "start_time": "2024-10-12T14:14:43.509Z"
   },
   {
    "duration": 4,
    "start_time": "2024-10-12T14:14:43.516Z"
   },
   {
    "duration": 5,
    "start_time": "2024-10-12T14:14:43.524Z"
   },
   {
    "duration": 4,
    "start_time": "2024-10-12T14:14:43.530Z"
   },
   {
    "duration": 8,
    "start_time": "2024-10-12T14:14:43.536Z"
   },
   {
    "duration": 15,
    "start_time": "2024-10-12T14:14:43.546Z"
   },
   {
    "duration": 52,
    "start_time": "2024-10-12T14:14:43.562Z"
   },
   {
    "duration": 8,
    "start_time": "2024-10-12T14:14:43.615Z"
   },
   {
    "duration": 31,
    "start_time": "2024-10-12T14:14:43.625Z"
   },
   {
    "duration": 12,
    "start_time": "2024-10-12T14:14:43.658Z"
   },
   {
    "duration": 44,
    "start_time": "2024-10-12T14:14:43.672Z"
   },
   {
    "duration": 12,
    "start_time": "2024-10-12T14:14:43.718Z"
   },
   {
    "duration": 41,
    "start_time": "2024-10-12T14:14:43.733Z"
   },
   {
    "duration": 12,
    "start_time": "2024-10-12T14:14:43.776Z"
   },
   {
    "duration": 23,
    "start_time": "2024-10-12T14:14:43.789Z"
   },
   {
    "duration": 15,
    "start_time": "2024-10-12T14:14:43.814Z"
   },
   {
    "duration": 9,
    "start_time": "2024-10-12T14:14:43.830Z"
   },
   {
    "duration": 10,
    "start_time": "2024-10-12T14:14:43.842Z"
   },
   {
    "duration": 10,
    "start_time": "2024-10-12T14:14:43.853Z"
   },
   {
    "duration": 56,
    "start_time": "2024-10-12T14:14:43.864Z"
   },
   {
    "duration": 15,
    "start_time": "2024-10-12T14:14:43.925Z"
   },
   {
    "duration": 7,
    "start_time": "2024-10-12T14:14:43.942Z"
   },
   {
    "duration": 36,
    "start_time": "2024-10-12T14:14:43.951Z"
   },
   {
    "duration": 11,
    "start_time": "2024-10-12T14:14:44.009Z"
   },
   {
    "duration": 14,
    "start_time": "2024-10-12T14:14:44.022Z"
   },
   {
    "duration": 12,
    "start_time": "2024-10-12T14:14:44.037Z"
   },
   {
    "duration": 57,
    "start_time": "2024-10-12T14:14:44.051Z"
   },
   {
    "duration": 19,
    "start_time": "2024-10-12T14:14:44.111Z"
   },
   {
    "duration": 35,
    "start_time": "2024-10-12T14:14:44.132Z"
   },
   {
    "duration": 17,
    "start_time": "2024-10-12T14:14:44.169Z"
   },
   {
    "duration": 21,
    "start_time": "2024-10-12T14:14:44.209Z"
   },
   {
    "duration": 29,
    "start_time": "2024-10-12T14:14:44.232Z"
   },
   {
    "duration": 251,
    "start_time": "2024-10-12T14:14:44.263Z"
   },
   {
    "duration": 0,
    "start_time": "2024-10-12T14:14:44.517Z"
   },
   {
    "duration": 0,
    "start_time": "2024-10-12T14:14:44.518Z"
   },
   {
    "duration": 0,
    "start_time": "2024-10-12T14:14:44.520Z"
   },
   {
    "duration": 0,
    "start_time": "2024-10-12T14:14:44.521Z"
   },
   {
    "duration": 0,
    "start_time": "2024-10-12T14:14:44.523Z"
   },
   {
    "duration": 0,
    "start_time": "2024-10-12T14:14:44.524Z"
   },
   {
    "duration": 0,
    "start_time": "2024-10-12T14:14:44.526Z"
   },
   {
    "duration": 0,
    "start_time": "2024-10-12T14:14:44.527Z"
   },
   {
    "duration": 0,
    "start_time": "2024-10-12T14:14:44.529Z"
   },
   {
    "duration": 0,
    "start_time": "2024-10-12T14:14:44.530Z"
   },
   {
    "duration": 0,
    "start_time": "2024-10-12T14:14:44.531Z"
   },
   {
    "duration": 0,
    "start_time": "2024-10-12T14:14:44.533Z"
   },
   {
    "duration": 0,
    "start_time": "2024-10-12T14:14:44.534Z"
   },
   {
    "duration": 0,
    "start_time": "2024-10-12T14:14:44.536Z"
   },
   {
    "duration": 8,
    "start_time": "2024-10-12T14:16:04.683Z"
   },
   {
    "duration": 8,
    "start_time": "2024-10-12T14:19:37.682Z"
   },
   {
    "duration": 10,
    "start_time": "2024-10-12T14:19:43.984Z"
   },
   {
    "duration": 15,
    "start_time": "2024-10-12T14:19:48.965Z"
   },
   {
    "duration": 15,
    "start_time": "2024-10-12T14:19:54.546Z"
   },
   {
    "duration": 24,
    "start_time": "2024-10-12T14:19:59.416Z"
   },
   {
    "duration": 24,
    "start_time": "2024-10-12T14:20:06.490Z"
   },
   {
    "duration": 13,
    "start_time": "2024-10-12T14:25:45.889Z"
   },
   {
    "duration": 14,
    "start_time": "2024-10-12T14:26:04.349Z"
   },
   {
    "duration": 19,
    "start_time": "2024-10-12T14:27:23.042Z"
   },
   {
    "duration": 12,
    "start_time": "2024-10-12T14:33:07.294Z"
   },
   {
    "duration": 16,
    "start_time": "2024-10-12T14:33:17.028Z"
   },
   {
    "duration": 14,
    "start_time": "2024-10-12T14:33:31.988Z"
   },
   {
    "duration": 28,
    "start_time": "2024-10-12T14:33:48.792Z"
   },
   {
    "duration": 24,
    "start_time": "2024-10-12T14:34:11.850Z"
   },
   {
    "duration": 157,
    "start_time": "2024-10-12T16:18:51.652Z"
   },
   {
    "duration": 12,
    "start_time": "2024-10-12T16:19:05.272Z"
   },
   {
    "duration": 2131,
    "start_time": "2024-10-12T16:19:20.035Z"
   },
   {
    "duration": 244,
    "start_time": "2024-10-12T16:19:22.168Z"
   },
   {
    "duration": 9,
    "start_time": "2024-10-12T16:19:22.414Z"
   },
   {
    "duration": 10,
    "start_time": "2024-10-12T16:19:22.425Z"
   },
   {
    "duration": 7,
    "start_time": "2024-10-12T16:19:22.437Z"
   },
   {
    "duration": 11,
    "start_time": "2024-10-12T16:19:22.446Z"
   },
   {
    "duration": 5,
    "start_time": "2024-10-12T16:19:22.458Z"
   },
   {
    "duration": 4,
    "start_time": "2024-10-12T16:19:22.465Z"
   },
   {
    "duration": 4,
    "start_time": "2024-10-12T16:19:22.471Z"
   },
   {
    "duration": 4,
    "start_time": "2024-10-12T16:19:22.478Z"
   },
   {
    "duration": 4,
    "start_time": "2024-10-12T16:19:22.524Z"
   },
   {
    "duration": 9,
    "start_time": "2024-10-12T16:19:22.530Z"
   },
   {
    "duration": 15,
    "start_time": "2024-10-12T16:19:22.540Z"
   },
   {
    "duration": 15,
    "start_time": "2024-10-12T16:19:22.556Z"
   },
   {
    "duration": 8,
    "start_time": "2024-10-12T16:19:22.572Z"
   },
   {
    "duration": 61,
    "start_time": "2024-10-12T16:19:22.581Z"
   },
   {
    "duration": 12,
    "start_time": "2024-10-12T16:19:22.644Z"
   },
   {
    "duration": 19,
    "start_time": "2024-10-12T16:19:22.658Z"
   },
   {
    "duration": 12,
    "start_time": "2024-10-12T16:19:22.678Z"
   },
   {
    "duration": 68,
    "start_time": "2024-10-12T16:19:22.692Z"
   },
   {
    "duration": 13,
    "start_time": "2024-10-12T16:19:22.761Z"
   },
   {
    "duration": 6,
    "start_time": "2024-10-12T16:19:22.776Z"
   },
   {
    "duration": 15,
    "start_time": "2024-10-12T16:19:22.783Z"
   },
   {
    "duration": 30,
    "start_time": "2024-10-12T16:19:22.799Z"
   },
   {
    "duration": 10,
    "start_time": "2024-10-12T16:19:22.830Z"
   },
   {
    "duration": 9,
    "start_time": "2024-10-12T16:19:22.842Z"
   },
   {
    "duration": 22,
    "start_time": "2024-10-12T16:19:22.853Z"
   },
   {
    "duration": 13,
    "start_time": "2024-10-12T16:19:22.879Z"
   },
   {
    "duration": 7,
    "start_time": "2024-10-12T16:19:22.924Z"
   },
   {
    "duration": 31,
    "start_time": "2024-10-12T16:19:22.933Z"
   },
   {
    "duration": 12,
    "start_time": "2024-10-12T16:19:22.966Z"
   },
   {
    "duration": 14,
    "start_time": "2024-10-12T16:19:22.979Z"
   },
   {
    "duration": 40,
    "start_time": "2024-10-12T16:19:22.994Z"
   },
   {
    "duration": 30,
    "start_time": "2024-10-12T16:19:23.035Z"
   },
   {
    "duration": 19,
    "start_time": "2024-10-12T16:19:23.066Z"
   },
   {
    "duration": 55,
    "start_time": "2024-10-12T16:19:23.086Z"
   },
   {
    "duration": 16,
    "start_time": "2024-10-12T16:19:23.143Z"
   },
   {
    "duration": 19,
    "start_time": "2024-10-12T16:19:23.161Z"
   },
   {
    "duration": 46,
    "start_time": "2024-10-12T16:19:23.181Z"
   },
   {
    "duration": 8,
    "start_time": "2024-10-12T16:19:23.229Z"
   },
   {
    "duration": 11,
    "start_time": "2024-10-12T16:19:23.238Z"
   },
   {
    "duration": 13,
    "start_time": "2024-10-12T16:19:23.250Z"
   },
   {
    "duration": 15,
    "start_time": "2024-10-12T16:19:23.264Z"
   },
   {
    "duration": 55,
    "start_time": "2024-10-12T16:19:23.281Z"
   },
   {
    "duration": 23,
    "start_time": "2024-10-12T16:19:23.337Z"
   },
   {
    "duration": 27,
    "start_time": "2024-10-12T16:19:23.361Z"
   },
   {
    "duration": 2,
    "start_time": "2024-10-12T16:19:23.389Z"
   },
   {
    "duration": 2,
    "start_time": "2024-10-12T16:19:23.393Z"
   },
   {
    "duration": 3,
    "start_time": "2024-10-12T16:19:23.396Z"
   },
   {
    "duration": 1,
    "start_time": "2024-10-12T16:19:23.425Z"
   },
   {
    "duration": 3,
    "start_time": "2024-10-12T16:19:23.428Z"
   },
   {
    "duration": 3,
    "start_time": "2024-10-12T16:19:23.432Z"
   },
   {
    "duration": 3,
    "start_time": "2024-10-12T16:19:23.436Z"
   },
   {
    "duration": 3,
    "start_time": "2024-10-12T16:19:23.441Z"
   },
   {
    "duration": 27,
    "start_time": "2024-10-12T16:22:44.837Z"
   },
   {
    "duration": 27,
    "start_time": "2024-10-12T16:23:34.132Z"
   },
   {
    "duration": 27,
    "start_time": "2024-10-12T16:27:36.748Z"
   },
   {
    "duration": 2187,
    "start_time": "2024-10-12T22:14:47.029Z"
   },
   {
    "duration": 237,
    "start_time": "2024-10-12T22:14:49.219Z"
   },
   {
    "duration": 11,
    "start_time": "2024-10-12T22:14:49.458Z"
   },
   {
    "duration": 9,
    "start_time": "2024-10-12T22:14:49.470Z"
   },
   {
    "duration": 7,
    "start_time": "2024-10-12T22:14:49.482Z"
   },
   {
    "duration": 18,
    "start_time": "2024-10-12T22:14:49.491Z"
   },
   {
    "duration": 7,
    "start_time": "2024-10-12T22:14:49.511Z"
   },
   {
    "duration": 6,
    "start_time": "2024-10-12T22:14:49.520Z"
   },
   {
    "duration": 6,
    "start_time": "2024-10-12T22:14:49.529Z"
   },
   {
    "duration": 5,
    "start_time": "2024-10-12T22:14:49.537Z"
   },
   {
    "duration": 6,
    "start_time": "2024-10-12T22:14:49.544Z"
   },
   {
    "duration": 13,
    "start_time": "2024-10-12T22:14:49.552Z"
   },
   {
    "duration": 54,
    "start_time": "2024-10-12T22:14:49.568Z"
   },
   {
    "duration": 16,
    "start_time": "2024-10-12T22:14:49.627Z"
   },
   {
    "duration": 11,
    "start_time": "2024-10-12T22:14:49.644Z"
   },
   {
    "duration": 80,
    "start_time": "2024-10-12T22:14:49.657Z"
   },
   {
    "duration": 21,
    "start_time": "2024-10-12T22:14:49.739Z"
   },
   {
    "duration": 47,
    "start_time": "2024-10-12T22:14:49.762Z"
   },
   {
    "duration": 21,
    "start_time": "2024-10-12T22:14:49.811Z"
   },
   {
    "duration": 47,
    "start_time": "2024-10-12T22:14:49.835Z"
   },
   {
    "duration": 29,
    "start_time": "2024-10-12T22:14:49.884Z"
   },
   {
    "duration": 8,
    "start_time": "2024-10-12T22:14:49.914Z"
   },
   {
    "duration": 22,
    "start_time": "2024-10-12T22:14:49.923Z"
   },
   {
    "duration": 11,
    "start_time": "2024-10-12T22:14:49.946Z"
   },
   {
    "duration": 14,
    "start_time": "2024-10-12T22:14:49.958Z"
   },
   {
    "duration": 41,
    "start_time": "2024-10-12T22:14:49.974Z"
   },
   {
    "duration": 36,
    "start_time": "2024-10-12T22:14:50.019Z"
   },
   {
    "duration": 23,
    "start_time": "2024-10-12T22:14:50.062Z"
   },
   {
    "duration": 9,
    "start_time": "2024-10-12T22:14:50.087Z"
   },
   {
    "duration": 44,
    "start_time": "2024-10-12T22:14:50.097Z"
   },
   {
    "duration": 10,
    "start_time": "2024-10-12T22:14:50.143Z"
   },
   {
    "duration": 13,
    "start_time": "2024-10-12T22:14:50.155Z"
   },
   {
    "duration": 11,
    "start_time": "2024-10-12T22:14:50.170Z"
   },
   {
    "duration": 55,
    "start_time": "2024-10-12T22:14:50.183Z"
   },
   {
    "duration": 19,
    "start_time": "2024-10-12T22:14:50.240Z"
   },
   {
    "duration": 53,
    "start_time": "2024-10-12T22:14:50.264Z"
   },
   {
    "duration": 18,
    "start_time": "2024-10-12T22:14:50.319Z"
   },
   {
    "duration": 22,
    "start_time": "2024-10-12T22:14:50.339Z"
   },
   {
    "duration": 51,
    "start_time": "2024-10-12T22:14:50.362Z"
   },
   {
    "duration": 7,
    "start_time": "2024-10-12T22:14:50.415Z"
   },
   {
    "duration": 8,
    "start_time": "2024-10-12T22:14:50.424Z"
   },
   {
    "duration": 12,
    "start_time": "2024-10-12T22:14:50.434Z"
   },
   {
    "duration": 15,
    "start_time": "2024-10-12T22:14:50.448Z"
   },
   {
    "duration": 59,
    "start_time": "2024-10-12T22:14:50.464Z"
   },
   {
    "duration": 21,
    "start_time": "2024-10-12T22:14:50.525Z"
   },
   {
    "duration": 27,
    "start_time": "2024-10-12T22:14:50.548Z"
   },
   {
    "duration": 2,
    "start_time": "2024-10-12T22:14:50.577Z"
   },
   {
    "duration": 3,
    "start_time": "2024-10-12T22:14:50.581Z"
   },
   {
    "duration": 2,
    "start_time": "2024-10-12T22:14:50.610Z"
   },
   {
    "duration": 3,
    "start_time": "2024-10-12T22:14:50.614Z"
   },
   {
    "duration": 2,
    "start_time": "2024-10-12T22:14:50.620Z"
   },
   {
    "duration": 3,
    "start_time": "2024-10-12T22:14:50.624Z"
   },
   {
    "duration": 3,
    "start_time": "2024-10-12T22:14:50.628Z"
   },
   {
    "duration": 2,
    "start_time": "2024-10-12T22:14:50.633Z"
   },
   {
    "duration": 757,
    "start_time": "2024-10-12T22:19:33.047Z"
   },
   {
    "duration": 6,
    "start_time": "2024-10-12T22:20:25.442Z"
   },
   {
    "duration": 32,
    "start_time": "2024-10-12T22:20:32.624Z"
   },
   {
    "duration": 32,
    "start_time": "2024-10-12T22:21:13.508Z"
   },
   {
    "duration": 29,
    "start_time": "2024-10-12T22:21:18.655Z"
   },
   {
    "duration": 19,
    "start_time": "2024-10-12T22:22:37.935Z"
   },
   {
    "duration": 18,
    "start_time": "2024-10-12T22:24:13.385Z"
   },
   {
    "duration": 20,
    "start_time": "2024-10-12T22:24:43.139Z"
   },
   {
    "duration": 30,
    "start_time": "2024-10-12T22:25:04.247Z"
   },
   {
    "duration": 30,
    "start_time": "2024-10-12T22:25:37.651Z"
   },
   {
    "duration": 30,
    "start_time": "2024-10-12T22:25:54.866Z"
   },
   {
    "duration": 32,
    "start_time": "2024-10-12T22:26:07.208Z"
   },
   {
    "duration": 24,
    "start_time": "2024-10-12T22:26:24.789Z"
   },
   {
    "duration": 18,
    "start_time": "2024-10-12T22:26:59.657Z"
   },
   {
    "duration": 29,
    "start_time": "2024-10-12T22:28:13.428Z"
   },
   {
    "duration": 34,
    "start_time": "2024-10-12T22:28:41.188Z"
   },
   {
    "duration": 33,
    "start_time": "2024-10-12T22:30:04.650Z"
   },
   {
    "duration": 29,
    "start_time": "2024-10-12T22:31:03.434Z"
   },
   {
    "duration": 29,
    "start_time": "2024-10-12T22:31:33.616Z"
   },
   {
    "duration": 35,
    "start_time": "2024-10-12T22:31:53.974Z"
   },
   {
    "duration": 24,
    "start_time": "2024-10-12T22:32:20.274Z"
   },
   {
    "duration": 66,
    "start_time": "2024-10-12T22:32:55.774Z"
   },
   {
    "duration": 24,
    "start_time": "2024-10-12T22:33:11.329Z"
   },
   {
    "duration": 51,
    "start_time": "2024-10-12T22:33:25.719Z"
   },
   {
    "duration": 64,
    "start_time": "2024-10-12T22:34:05.045Z"
   },
   {
    "duration": 62,
    "start_time": "2024-10-12T22:34:33.499Z"
   },
   {
    "duration": 37,
    "start_time": "2024-10-12T22:34:54.326Z"
   },
   {
    "duration": 29,
    "start_time": "2024-10-12T22:35:18.203Z"
   },
   {
    "duration": 28,
    "start_time": "2024-10-12T22:36:11.061Z"
   },
   {
    "duration": 18,
    "start_time": "2024-10-12T22:37:24.288Z"
   },
   {
    "duration": 17,
    "start_time": "2024-10-12T22:37:36.268Z"
   },
   {
    "duration": 22,
    "start_time": "2024-10-12T22:38:45.692Z"
   },
   {
    "duration": 25,
    "start_time": "2024-10-12T22:39:26.259Z"
   },
   {
    "duration": 9,
    "start_time": "2024-10-12T22:39:42.093Z"
   },
   {
    "duration": 8,
    "start_time": "2024-10-12T22:39:49.942Z"
   },
   {
    "duration": 8,
    "start_time": "2024-10-12T22:39:52.926Z"
   },
   {
    "duration": 8,
    "start_time": "2024-10-12T22:39:56.497Z"
   },
   {
    "duration": 14,
    "start_time": "2024-10-12T22:40:10.569Z"
   },
   {
    "duration": 15,
    "start_time": "2024-10-12T22:40:17.736Z"
   },
   {
    "duration": 15,
    "start_time": "2024-10-12T22:41:12.915Z"
   },
   {
    "duration": 14,
    "start_time": "2024-10-12T22:42:29.349Z"
   },
   {
    "duration": 21,
    "start_time": "2024-10-12T22:42:53.228Z"
   },
   {
    "duration": 24,
    "start_time": "2024-10-12T22:43:19.491Z"
   },
   {
    "duration": 24,
    "start_time": "2024-10-12T22:43:38.167Z"
   },
   {
    "duration": 14,
    "start_time": "2024-10-12T22:44:01.489Z"
   },
   {
    "duration": 22,
    "start_time": "2024-10-12T22:44:32.822Z"
   },
   {
    "duration": 24,
    "start_time": "2024-10-12T22:44:49.293Z"
   },
   {
    "duration": 15,
    "start_time": "2024-10-12T22:45:09.210Z"
   },
   {
    "duration": 14,
    "start_time": "2024-10-12T22:48:48.324Z"
   },
   {
    "duration": 14,
    "start_time": "2024-10-12T22:49:20.241Z"
   },
   {
    "duration": 14,
    "start_time": "2024-10-12T22:49:29.653Z"
   },
   {
    "duration": 16,
    "start_time": "2024-10-12T22:51:12.671Z"
   },
   {
    "duration": 15,
    "start_time": "2024-10-12T22:51:27.058Z"
   },
   {
    "duration": 28,
    "start_time": "2024-10-12T22:52:06.781Z"
   },
   {
    "duration": 28,
    "start_time": "2024-10-12T22:52:23.875Z"
   },
   {
    "duration": 24,
    "start_time": "2024-10-12T22:52:25.727Z"
   },
   {
    "duration": 20,
    "start_time": "2024-10-12T22:53:46.511Z"
   },
   {
    "duration": 17,
    "start_time": "2024-10-12T22:54:27.130Z"
   },
   {
    "duration": 23,
    "start_time": "2024-10-12T22:55:00.922Z"
   },
   {
    "duration": 15,
    "start_time": "2024-10-12T22:55:16.497Z"
   },
   {
    "duration": 6,
    "start_time": "2024-10-12T22:56:27.644Z"
   },
   {
    "duration": 62,
    "start_time": "2024-10-12T22:59:00.807Z"
   },
   {
    "duration": 265,
    "start_time": "2024-10-12T23:01:05.897Z"
   },
   {
    "duration": 59,
    "start_time": "2024-10-12T23:01:26.908Z"
   },
   {
    "duration": 8,
    "start_time": "2024-10-12T23:02:14.498Z"
   },
   {
    "duration": 10,
    "start_time": "2024-10-12T23:02:17.624Z"
   },
   {
    "duration": 8,
    "start_time": "2024-10-12T23:03:01.370Z"
   },
   {
    "duration": 27,
    "start_time": "2024-10-12T23:03:13.750Z"
   },
   {
    "duration": 28,
    "start_time": "2024-10-12T23:03:43.149Z"
   },
   {
    "duration": 25,
    "start_time": "2024-10-12T23:03:53.346Z"
   },
   {
    "duration": 18,
    "start_time": "2024-10-12T23:04:03.341Z"
   },
   {
    "duration": 59,
    "start_time": "2024-10-12T23:07:17.000Z"
   },
   {
    "duration": 63,
    "start_time": "2024-10-12T23:07:50.708Z"
   },
   {
    "duration": 28,
    "start_time": "2024-10-12T23:08:24.822Z"
   },
   {
    "duration": 17,
    "start_time": "2024-10-12T23:09:42.792Z"
   },
   {
    "duration": 38,
    "start_time": "2024-10-12T23:09:56.522Z"
   },
   {
    "duration": 18,
    "start_time": "2024-10-12T23:10:02.029Z"
   },
   {
    "duration": 20,
    "start_time": "2024-10-12T23:14:03.747Z"
   },
   {
    "duration": 60,
    "start_time": "2024-10-12T23:14:27.054Z"
   },
   {
    "duration": 58,
    "start_time": "2024-10-12T23:15:03.680Z"
   },
   {
    "duration": 11,
    "start_time": "2024-10-12T23:15:22.859Z"
   },
   {
    "duration": 21,
    "start_time": "2024-10-12T23:17:04.321Z"
   },
   {
    "duration": 23,
    "start_time": "2024-10-12T23:20:26.152Z"
   },
   {
    "duration": 12,
    "start_time": "2024-10-12T23:20:35.560Z"
   },
   {
    "duration": 11,
    "start_time": "2024-10-12T23:20:42.851Z"
   },
   {
    "duration": 62,
    "start_time": "2024-10-12T23:20:55.056Z"
   },
   {
    "duration": 21,
    "start_time": "2024-10-12T23:21:10.878Z"
   },
   {
    "duration": 11,
    "start_time": "2024-10-12T23:21:28.924Z"
   },
   {
    "duration": 13,
    "start_time": "2024-10-12T23:21:49.501Z"
   },
   {
    "duration": 58,
    "start_time": "2024-10-12T23:23:21.770Z"
   },
   {
    "duration": 20,
    "start_time": "2024-10-12T23:24:05.786Z"
   },
   {
    "duration": 3,
    "start_time": "2024-10-12T23:24:25.589Z"
   },
   {
    "duration": 11,
    "start_time": "2024-10-12T23:24:43.696Z"
   },
   {
    "duration": 59,
    "start_time": "2024-10-12T23:25:23.609Z"
   },
   {
    "duration": 11,
    "start_time": "2024-10-12T23:26:05.297Z"
   },
   {
    "duration": 21,
    "start_time": "2024-10-12T23:27:51.126Z"
   },
   {
    "duration": 20,
    "start_time": "2024-10-12T23:27:52.976Z"
   },
   {
    "duration": 25,
    "start_time": "2024-10-12T23:28:19.486Z"
   },
   {
    "duration": 452,
    "start_time": "2024-10-12T23:30:32.315Z"
   },
   {
    "duration": 33,
    "start_time": "2024-10-12T23:31:11.482Z"
   },
   {
    "duration": 2,
    "start_time": "2024-10-12T23:40:38.994Z"
   },
   {
    "duration": 31,
    "start_time": "2024-10-12T23:47:23.719Z"
   },
   {
    "duration": 44,
    "start_time": "2024-10-13T00:07:13.011Z"
   },
   {
    "duration": 48,
    "start_time": "2024-10-13T00:08:37.649Z"
   },
   {
    "duration": 14,
    "start_time": "2024-10-13T00:09:43.931Z"
   },
   {
    "duration": 14,
    "start_time": "2024-10-13T00:09:57.626Z"
   },
   {
    "duration": 77,
    "start_time": "2024-10-13T00:13:34.940Z"
   },
   {
    "duration": 59,
    "start_time": "2024-10-13T00:14:02.211Z"
   },
   {
    "duration": 57,
    "start_time": "2024-10-13T00:15:44.378Z"
   },
   {
    "duration": 218,
    "start_time": "2024-10-13T00:16:23.013Z"
   },
   {
    "duration": 243,
    "start_time": "2024-10-13T00:16:37.806Z"
   },
   {
    "duration": 254,
    "start_time": "2024-10-13T00:18:07.130Z"
   },
   {
    "duration": 4,
    "start_time": "2024-10-13T00:21:00.577Z"
   },
   {
    "duration": 21,
    "start_time": "2024-10-13T00:21:15.408Z"
   },
   {
    "duration": 227,
    "start_time": "2024-10-13T00:23:05.221Z"
   },
   {
    "duration": 247,
    "start_time": "2024-10-13T00:34:59.887Z"
   },
   {
    "duration": 5,
    "start_time": "2024-10-13T00:35:55.463Z"
   },
   {
    "duration": 24,
    "start_time": "2024-10-13T00:36:12.915Z"
   },
   {
    "duration": 158,
    "start_time": "2024-10-13T19:40:03.291Z"
   },
   {
    "duration": 2203,
    "start_time": "2024-10-13T19:40:12.202Z"
   },
   {
    "duration": 233,
    "start_time": "2024-10-13T19:40:14.407Z"
   },
   {
    "duration": 9,
    "start_time": "2024-10-13T19:40:14.641Z"
   },
   {
    "duration": 9,
    "start_time": "2024-10-13T19:40:14.654Z"
   },
   {
    "duration": 9,
    "start_time": "2024-10-13T19:40:14.665Z"
   },
   {
    "duration": 10,
    "start_time": "2024-10-13T19:40:14.676Z"
   },
   {
    "duration": 22,
    "start_time": "2024-10-13T19:40:14.687Z"
   },
   {
    "duration": 6,
    "start_time": "2024-10-13T19:40:14.711Z"
   },
   {
    "duration": 5,
    "start_time": "2024-10-13T19:40:14.718Z"
   },
   {
    "duration": 5,
    "start_time": "2024-10-13T19:40:14.727Z"
   },
   {
    "duration": 4,
    "start_time": "2024-10-13T19:40:14.733Z"
   },
   {
    "duration": 9,
    "start_time": "2024-10-13T19:40:14.739Z"
   },
   {
    "duration": 15,
    "start_time": "2024-10-13T19:40:14.749Z"
   },
   {
    "duration": 56,
    "start_time": "2024-10-13T19:40:14.765Z"
   },
   {
    "duration": 8,
    "start_time": "2024-10-13T19:40:14.823Z"
   },
   {
    "duration": 36,
    "start_time": "2024-10-13T19:40:14.833Z"
   },
   {
    "duration": 37,
    "start_time": "2024-10-13T19:40:14.871Z"
   },
   {
    "duration": 20,
    "start_time": "2024-10-13T19:40:14.910Z"
   },
   {
    "duration": 13,
    "start_time": "2024-10-13T19:40:14.931Z"
   },
   {
    "duration": 60,
    "start_time": "2024-10-13T19:40:14.945Z"
   },
   {
    "duration": 12,
    "start_time": "2024-10-13T19:40:15.007Z"
   },
   {
    "duration": 6,
    "start_time": "2024-10-13T19:40:15.022Z"
   },
   {
    "duration": 17,
    "start_time": "2024-10-13T19:40:15.030Z"
   },
   {
    "duration": 8,
    "start_time": "2024-10-13T19:40:15.049Z"
   },
   {
    "duration": 10,
    "start_time": "2024-10-13T19:40:15.059Z"
   },
   {
    "duration": 44,
    "start_time": "2024-10-13T19:40:15.070Z"
   },
   {
    "duration": 24,
    "start_time": "2024-10-13T19:40:15.115Z"
   },
   {
    "duration": 15,
    "start_time": "2024-10-13T19:40:15.143Z"
   },
   {
    "duration": 8,
    "start_time": "2024-10-13T19:40:15.159Z"
   },
   {
    "duration": 62,
    "start_time": "2024-10-13T19:40:15.170Z"
   },
   {
    "duration": 12,
    "start_time": "2024-10-13T19:40:15.234Z"
   },
   {
    "duration": 13,
    "start_time": "2024-10-13T19:40:15.248Z"
   },
   {
    "duration": 11,
    "start_time": "2024-10-13T19:40:15.263Z"
   },
   {
    "duration": 56,
    "start_time": "2024-10-13T19:40:15.275Z"
   },
   {
    "duration": 20,
    "start_time": "2024-10-13T19:40:15.333Z"
   },
   {
    "duration": 51,
    "start_time": "2024-10-13T19:40:15.355Z"
   },
   {
    "duration": 261,
    "start_time": "2024-10-13T19:40:15.408Z"
   },
   {
    "duration": 0,
    "start_time": "2024-10-13T19:40:15.670Z"
   },
   {
    "duration": 0,
    "start_time": "2024-10-13T19:40:15.671Z"
   },
   {
    "duration": 0,
    "start_time": "2024-10-13T19:40:15.673Z"
   },
   {
    "duration": 0,
    "start_time": "2024-10-13T19:40:15.674Z"
   },
   {
    "duration": 0,
    "start_time": "2024-10-13T19:40:15.676Z"
   },
   {
    "duration": 0,
    "start_time": "2024-10-13T19:40:15.678Z"
   },
   {
    "duration": 0,
    "start_time": "2024-10-13T19:40:15.679Z"
   },
   {
    "duration": 0,
    "start_time": "2024-10-13T19:40:15.704Z"
   },
   {
    "duration": 0,
    "start_time": "2024-10-13T19:40:15.706Z"
   },
   {
    "duration": 0,
    "start_time": "2024-10-13T19:40:15.707Z"
   },
   {
    "duration": 0,
    "start_time": "2024-10-13T19:40:15.709Z"
   },
   {
    "duration": 0,
    "start_time": "2024-10-13T19:40:15.710Z"
   },
   {
    "duration": 0,
    "start_time": "2024-10-13T19:40:15.712Z"
   },
   {
    "duration": 0,
    "start_time": "2024-10-13T19:40:15.713Z"
   },
   {
    "duration": 0,
    "start_time": "2024-10-13T19:40:15.715Z"
   },
   {
    "duration": 0,
    "start_time": "2024-10-13T19:40:15.717Z"
   },
   {
    "duration": 0,
    "start_time": "2024-10-13T19:40:15.718Z"
   },
   {
    "duration": 0,
    "start_time": "2024-10-13T19:40:15.720Z"
   },
   {
    "duration": 0,
    "start_time": "2024-10-13T19:40:15.721Z"
   },
   {
    "duration": 18,
    "start_time": "2024-10-13T19:40:56.094Z"
   },
   {
    "duration": 22,
    "start_time": "2024-10-13T19:41:11.119Z"
   },
   {
    "duration": 29,
    "start_time": "2024-10-13T19:41:15.699Z"
   },
   {
    "duration": 11,
    "start_time": "2024-10-13T19:41:23.334Z"
   },
   {
    "duration": 10,
    "start_time": "2024-10-13T19:41:25.122Z"
   },
   {
    "duration": 16,
    "start_time": "2024-10-13T19:41:32.796Z"
   },
   {
    "duration": 16,
    "start_time": "2024-10-13T19:41:41.366Z"
   },
   {
    "duration": 26,
    "start_time": "2024-10-13T19:41:45.739Z"
   },
   {
    "duration": 6,
    "start_time": "2024-10-13T19:41:50.661Z"
   },
   {
    "duration": 39,
    "start_time": "2024-10-13T19:41:53.481Z"
   },
   {
    "duration": 33,
    "start_time": "2024-10-13T19:43:01.923Z"
   },
   {
    "duration": 42,
    "start_time": "2024-10-13T19:49:28.493Z"
   },
   {
    "duration": 28,
    "start_time": "2024-10-13T19:50:23.765Z"
   },
   {
    "duration": 19,
    "start_time": "2024-10-13T19:50:38.516Z"
   },
   {
    "duration": 27,
    "start_time": "2024-10-13T19:50:58.375Z"
   },
   {
    "duration": 11,
    "start_time": "2024-10-13T19:51:23.934Z"
   },
   {
    "duration": 19,
    "start_time": "2024-10-13T19:52:02.482Z"
   },
   {
    "duration": 10,
    "start_time": "2024-10-13T19:52:45.665Z"
   },
   {
    "duration": 21,
    "start_time": "2024-10-13T19:53:16.861Z"
   },
   {
    "duration": 19,
    "start_time": "2024-10-13T19:53:35.664Z"
   },
   {
    "duration": 11,
    "start_time": "2024-10-13T19:53:43.086Z"
   },
   {
    "duration": 17,
    "start_time": "2024-10-13T19:54:07.042Z"
   },
   {
    "duration": 28,
    "start_time": "2024-10-13T19:54:12.016Z"
   },
   {
    "duration": 22,
    "start_time": "2024-10-13T19:54:17.914Z"
   },
   {
    "duration": 23,
    "start_time": "2024-10-13T19:54:32.820Z"
   },
   {
    "duration": 26,
    "start_time": "2024-10-13T19:55:17.521Z"
   },
   {
    "duration": 10,
    "start_time": "2024-10-13T19:56:01.110Z"
   },
   {
    "duration": 27,
    "start_time": "2024-10-13T20:00:32.717Z"
   },
   {
    "duration": 41,
    "start_time": "2024-10-13T20:00:44.725Z"
   },
   {
    "duration": 133,
    "start_time": "2024-10-13T20:02:32.324Z"
   },
   {
    "duration": 44,
    "start_time": "2024-10-13T20:02:49.249Z"
   },
   {
    "duration": 49,
    "start_time": "2024-10-13T20:03:09.144Z"
   },
   {
    "duration": 44,
    "start_time": "2024-10-13T20:05:58.649Z"
   },
   {
    "duration": 53,
    "start_time": "2024-10-13T20:06:15.116Z"
   },
   {
    "duration": 44,
    "start_time": "2024-10-13T20:07:23.253Z"
   },
   {
    "duration": 46,
    "start_time": "2024-10-13T20:12:20.839Z"
   },
   {
    "duration": 43,
    "start_time": "2024-10-13T20:12:35.244Z"
   },
   {
    "duration": 52,
    "start_time": "2024-10-13T20:12:58.750Z"
   },
   {
    "duration": 103,
    "start_time": "2024-10-13T20:14:06.654Z"
   },
   {
    "duration": 52,
    "start_time": "2024-10-13T20:15:16.444Z"
   },
   {
    "duration": 44,
    "start_time": "2024-10-13T20:15:30.552Z"
   },
   {
    "duration": 45,
    "start_time": "2024-10-13T20:15:45.058Z"
   },
   {
    "duration": 47,
    "start_time": "2024-10-13T20:18:42.708Z"
   },
   {
    "duration": 220,
    "start_time": "2024-10-13T20:19:01.865Z"
   },
   {
    "duration": 22,
    "start_time": "2024-10-13T20:19:04.601Z"
   },
   {
    "duration": 18,
    "start_time": "2024-10-13T20:48:02.552Z"
   },
   {
    "duration": 455,
    "start_time": "2024-10-13T20:48:13.319Z"
   },
   {
    "duration": 5,
    "start_time": "2024-10-13T20:52:12.950Z"
   },
   {
    "duration": 33,
    "start_time": "2024-10-13T20:52:24.838Z"
   },
   {
    "duration": 6,
    "start_time": "2024-10-13T20:59:31.993Z"
   },
   {
    "duration": 12,
    "start_time": "2024-10-13T20:59:40.971Z"
   },
   {
    "duration": 15,
    "start_time": "2024-10-13T21:00:40.217Z"
   },
   {
    "duration": 10,
    "start_time": "2024-10-13T21:01:27.350Z"
   },
   {
    "duration": 15,
    "start_time": "2024-10-13T21:02:33.901Z"
   },
   {
    "duration": 44,
    "start_time": "2024-10-13T21:09:27.028Z"
   },
   {
    "duration": 45,
    "start_time": "2024-10-13T21:10:30.945Z"
   },
   {
    "duration": 41,
    "start_time": "2024-10-13T21:10:46.745Z"
   },
   {
    "duration": 43,
    "start_time": "2024-10-13T21:11:33.799Z"
   },
   {
    "duration": 239,
    "start_time": "2024-10-13T21:11:40.128Z"
   },
   {
    "duration": 23,
    "start_time": "2024-10-13T21:11:42.207Z"
   },
   {
    "duration": 20,
    "start_time": "2024-10-13T21:13:05.284Z"
   },
   {
    "duration": 225,
    "start_time": "2024-10-13T21:13:24.212Z"
   },
   {
    "duration": 23,
    "start_time": "2024-10-13T21:13:26.328Z"
   },
   {
    "duration": 13,
    "start_time": "2024-10-13T21:15:26.943Z"
   },
   {
    "duration": 10,
    "start_time": "2024-10-13T21:17:52.086Z"
   },
   {
    "duration": 9,
    "start_time": "2024-10-13T21:18:58.717Z"
   },
   {
    "duration": 9,
    "start_time": "2024-10-13T21:20:39.625Z"
   },
   {
    "duration": 4,
    "start_time": "2024-10-13T21:24:03.466Z"
   },
   {
    "duration": 4,
    "start_time": "2024-10-13T21:24:11.420Z"
   },
   {
    "duration": 16,
    "start_time": "2024-10-13T21:24:18.517Z"
   },
   {
    "duration": 17,
    "start_time": "2024-10-13T21:27:01.164Z"
   },
   {
    "duration": 43,
    "start_time": "2024-10-13T21:27:24.989Z"
   },
   {
    "duration": 43,
    "start_time": "2024-10-13T21:27:59.376Z"
   },
   {
    "duration": 9,
    "start_time": "2024-10-13T21:28:22.542Z"
   },
   {
    "duration": 11,
    "start_time": "2024-10-13T21:29:07.197Z"
   },
   {
    "duration": 127,
    "start_time": "2024-10-13T21:29:20.465Z"
   },
   {
    "duration": 3009,
    "start_time": "2024-10-13T21:50:01.328Z"
   },
   {
    "duration": 2764,
    "start_time": "2024-10-13T21:55:37.122Z"
   },
   {
    "duration": 2812,
    "start_time": "2024-10-13T21:56:20.562Z"
   },
   {
    "duration": 2747,
    "start_time": "2024-10-13T21:57:36.658Z"
   },
   {
    "duration": 2701,
    "start_time": "2024-10-13T21:57:39.894Z"
   },
   {
    "duration": 2650,
    "start_time": "2024-10-13T21:59:46.636Z"
   },
   {
    "duration": 2808,
    "start_time": "2024-10-13T22:01:52.869Z"
   },
   {
    "duration": 2750,
    "start_time": "2024-10-13T22:02:07.341Z"
   },
   {
    "duration": 2621,
    "start_time": "2024-10-13T22:03:23.548Z"
   },
   {
    "duration": 2686,
    "start_time": "2024-10-13T22:03:42.817Z"
   },
   {
    "duration": 2830,
    "start_time": "2024-10-13T22:03:50.398Z"
   },
   {
    "duration": 2693,
    "start_time": "2024-10-13T22:04:56.983Z"
   },
   {
    "duration": 2642,
    "start_time": "2024-10-13T22:05:16.517Z"
   },
   {
    "duration": 2615,
    "start_time": "2024-10-13T22:05:32.449Z"
   },
   {
    "duration": 2785,
    "start_time": "2024-10-13T22:06:04.189Z"
   },
   {
    "duration": 2681,
    "start_time": "2024-10-13T22:07:51.763Z"
   },
   {
    "duration": 8,
    "start_time": "2024-10-13T22:13:45.361Z"
   },
   {
    "duration": 10,
    "start_time": "2024-10-13T22:13:57.916Z"
   },
   {
    "duration": 27,
    "start_time": "2024-10-13T22:15:28.971Z"
   },
   {
    "duration": 11,
    "start_time": "2024-10-13T22:15:40.660Z"
   },
   {
    "duration": 54,
    "start_time": "2024-10-13T22:17:41.207Z"
   },
   {
    "duration": 51,
    "start_time": "2024-10-13T22:18:17.507Z"
   },
   {
    "duration": 7,
    "start_time": "2024-10-13T22:20:42.142Z"
   },
   {
    "duration": 51,
    "start_time": "2024-10-13T22:31:24.308Z"
   },
   {
    "duration": 14,
    "start_time": "2024-10-13T22:33:35.622Z"
   },
   {
    "duration": 461,
    "start_time": "2024-10-13T22:37:48.878Z"
   },
   {
    "duration": 11,
    "start_time": "2024-10-13T22:39:24.503Z"
   },
   {
    "duration": 13,
    "start_time": "2024-10-13T22:39:35.226Z"
   },
   {
    "duration": 15,
    "start_time": "2024-10-13T22:41:09.523Z"
   },
   {
    "duration": 15,
    "start_time": "2024-10-13T22:41:48.446Z"
   },
   {
    "duration": 51,
    "start_time": "2024-10-13T22:43:26.456Z"
   },
   {
    "duration": 14,
    "start_time": "2024-10-13T22:44:01.849Z"
   },
   {
    "duration": 15,
    "start_time": "2024-10-13T22:44:20.705Z"
   },
   {
    "duration": 13,
    "start_time": "2024-10-13T22:45:21.013Z"
   },
   {
    "duration": 8,
    "start_time": "2024-10-13T22:45:36.324Z"
   },
   {
    "duration": 12,
    "start_time": "2024-10-13T22:45:46.689Z"
   },
   {
    "duration": 166,
    "start_time": "2024-10-13T23:00:07.115Z"
   },
   {
    "duration": 12,
    "start_time": "2024-10-13T23:02:02.811Z"
   },
   {
    "duration": 245,
    "start_time": "2024-10-13T23:04:06.434Z"
   },
   {
    "duration": 281,
    "start_time": "2024-10-13T23:04:21.506Z"
   },
   {
    "duration": 272,
    "start_time": "2024-10-13T23:05:02.700Z"
   },
   {
    "duration": 363,
    "start_time": "2024-10-13T23:09:32.381Z"
   },
   {
    "duration": 7,
    "start_time": "2024-10-13T23:10:57.713Z"
   },
   {
    "duration": 350,
    "start_time": "2024-10-13T23:12:52.420Z"
   },
   {
    "duration": 7,
    "start_time": "2024-10-13T23:13:32.332Z"
   },
   {
    "duration": 7,
    "start_time": "2024-10-13T23:13:39.943Z"
   },
   {
    "duration": 330,
    "start_time": "2024-10-13T23:13:41.718Z"
   },
   {
    "duration": 360,
    "start_time": "2024-10-13T23:14:05.281Z"
   },
   {
    "duration": 476,
    "start_time": "2024-10-13T23:14:15.933Z"
   },
   {
    "duration": 353,
    "start_time": "2024-10-13T23:14:48.276Z"
   },
   {
    "duration": 7,
    "start_time": "2024-10-13T23:15:59.246Z"
   },
   {
    "duration": 2,
    "start_time": "2024-10-13T23:16:27.759Z"
   },
   {
    "duration": 8,
    "start_time": "2024-10-13T23:32:05.844Z"
   },
   {
    "duration": 10,
    "start_time": "2024-10-13T23:33:57.159Z"
   },
   {
    "duration": 9,
    "start_time": "2024-10-13T23:34:07.251Z"
   },
   {
    "duration": 19,
    "start_time": "2024-10-13T23:34:12.844Z"
   },
   {
    "duration": 9,
    "start_time": "2024-10-13T23:34:22.570Z"
   },
   {
    "duration": 8,
    "start_time": "2024-10-13T23:35:53.934Z"
   },
   {
    "duration": 9,
    "start_time": "2024-10-13T23:36:03.673Z"
   },
   {
    "duration": 4,
    "start_time": "2024-10-13T23:37:32.781Z"
   },
   {
    "duration": 5,
    "start_time": "2024-10-13T23:38:15.477Z"
   },
   {
    "duration": 4,
    "start_time": "2024-10-13T23:38:34.935Z"
   },
   {
    "duration": 10,
    "start_time": "2024-10-13T23:39:39.149Z"
   },
   {
    "duration": 12,
    "start_time": "2024-10-13T23:40:39.506Z"
   },
   {
    "duration": 7,
    "start_time": "2024-10-13T23:40:50.458Z"
   },
   {
    "duration": 11,
    "start_time": "2024-10-13T23:42:08.837Z"
   },
   {
    "duration": 826,
    "start_time": "2024-10-13T23:47:16.766Z"
   },
   {
    "duration": 10,
    "start_time": "2024-10-13T23:49:24.793Z"
   },
   {
    "duration": 9,
    "start_time": "2024-10-13T23:50:36.042Z"
   },
   {
    "duration": 10,
    "start_time": "2024-10-13T23:52:59.265Z"
   },
   {
    "duration": 6,
    "start_time": "2024-10-13T23:55:16.729Z"
   },
   {
    "duration": 317,
    "start_time": "2024-10-13T23:55:18.424Z"
   },
   {
    "duration": 11,
    "start_time": "2024-10-13T23:56:21.481Z"
   },
   {
    "duration": 5,
    "start_time": "2024-10-14T00:08:40.097Z"
   },
   {
    "duration": 132,
    "start_time": "2024-10-14T00:08:46.551Z"
   },
   {
    "duration": 128,
    "start_time": "2024-10-14T00:09:29.881Z"
   },
   {
    "duration": 11,
    "start_time": "2024-10-14T00:13:06.770Z"
   },
   {
    "duration": 125,
    "start_time": "2024-10-14T00:33:31.877Z"
   },
   {
    "duration": 127,
    "start_time": "2024-10-14T00:33:58.744Z"
   },
   {
    "duration": 133,
    "start_time": "2024-10-14T00:34:09.724Z"
   },
   {
    "duration": 135,
    "start_time": "2024-10-14T00:37:32.996Z"
   },
   {
    "duration": 125,
    "start_time": "2024-10-14T00:37:44.557Z"
   },
   {
    "duration": 129,
    "start_time": "2024-10-14T00:43:49.136Z"
   },
   {
    "duration": 12,
    "start_time": "2024-10-14T01:34:20.888Z"
   },
   {
    "duration": 11,
    "start_time": "2024-10-14T01:34:42.102Z"
   },
   {
    "duration": 11,
    "start_time": "2024-10-14T01:35:21.761Z"
   },
   {
    "duration": 9,
    "start_time": "2024-10-14T01:38:44.150Z"
   },
   {
    "duration": 6,
    "start_time": "2024-10-14T01:40:50.008Z"
   },
   {
    "duration": 13,
    "start_time": "2024-10-14T01:41:02.215Z"
   },
   {
    "duration": 11,
    "start_time": "2024-10-14T01:41:17.858Z"
   },
   {
    "duration": 12,
    "start_time": "2024-10-14T01:43:10.593Z"
   },
   {
    "duration": 11,
    "start_time": "2024-10-14T01:43:18.877Z"
   },
   {
    "duration": 12,
    "start_time": "2024-10-14T01:43:26.996Z"
   },
   {
    "duration": 13,
    "start_time": "2024-10-14T01:43:51.367Z"
   },
   {
    "duration": 145,
    "start_time": "2024-10-14T01:47:03.700Z"
   },
   {
    "duration": 14,
    "start_time": "2024-10-14T01:48:46.458Z"
   },
   {
    "duration": 15,
    "start_time": "2024-10-14T01:49:17.514Z"
   },
   {
    "duration": 134,
    "start_time": "2024-10-14T01:49:47.256Z"
   },
   {
    "duration": 15,
    "start_time": "2024-10-14T01:50:59.110Z"
   },
   {
    "duration": 187,
    "start_time": "2024-10-14T01:51:16.231Z"
   },
   {
    "duration": 17,
    "start_time": "2024-10-14T01:51:27.196Z"
   },
   {
    "duration": 123,
    "start_time": "2024-10-14T01:51:49.679Z"
   },
   {
    "duration": 16,
    "start_time": "2024-10-14T01:53:15.039Z"
   },
   {
    "duration": 127,
    "start_time": "2024-10-14T01:53:40.514Z"
   },
   {
    "duration": 25,
    "start_time": "2024-10-14T01:55:02.999Z"
   },
   {
    "duration": 6,
    "start_time": "2024-10-14T01:55:27.087Z"
   },
   {
    "duration": 26,
    "start_time": "2024-10-14T01:55:39.777Z"
   },
   {
    "duration": 127,
    "start_time": "2024-10-14T01:55:52.471Z"
   },
   {
    "duration": 136,
    "start_time": "2024-10-14T01:56:29.355Z"
   },
   {
    "duration": 12,
    "start_time": "2024-10-14T01:57:43.547Z"
   },
   {
    "duration": 136,
    "start_time": "2024-10-14T01:58:52.006Z"
   },
   {
    "duration": 125,
    "start_time": "2024-10-14T02:04:05.128Z"
   },
   {
    "duration": 12,
    "start_time": "2024-10-14T02:06:43.631Z"
   },
   {
    "duration": 15,
    "start_time": "2024-10-14T02:07:16.105Z"
   },
   {
    "duration": 2,
    "start_time": "2024-10-14T02:07:36.227Z"
   },
   {
    "duration": 173,
    "start_time": "2024-10-14T02:40:03.846Z"
   },
   {
    "duration": 173,
    "start_time": "2024-10-14T02:41:13.633Z"
   },
   {
    "duration": 16,
    "start_time": "2024-10-14T02:42:48.529Z"
   },
   {
    "duration": 125,
    "start_time": "2024-10-14T02:43:14.258Z"
   },
   {
    "duration": 126,
    "start_time": "2024-10-14T02:43:27.178Z"
   },
   {
    "duration": 127,
    "start_time": "2024-10-14T02:43:36.162Z"
   },
   {
    "duration": 126,
    "start_time": "2024-10-14T02:43:55.088Z"
   },
   {
    "duration": 177,
    "start_time": "2024-10-14T02:47:00.230Z"
   },
   {
    "duration": 177,
    "start_time": "2024-10-14T02:47:09.587Z"
   },
   {
    "duration": 179,
    "start_time": "2024-10-14T02:57:20.946Z"
   },
   {
    "duration": 183,
    "start_time": "2024-10-14T02:58:04.951Z"
   },
   {
    "duration": 143,
    "start_time": "2024-10-14T03:01:29.770Z"
   },
   {
    "duration": 121,
    "start_time": "2024-10-14T03:03:11.282Z"
   },
   {
    "duration": 374,
    "start_time": "2024-10-14T03:03:31.768Z"
   },
   {
    "duration": 176,
    "start_time": "2024-10-14T03:03:46.403Z"
   },
   {
    "duration": 168,
    "start_time": "2024-10-14T03:04:22.650Z"
   },
   {
    "duration": 178,
    "start_time": "2024-10-14T03:04:32.137Z"
   },
   {
    "duration": 176,
    "start_time": "2024-10-14T03:08:26.923Z"
   },
   {
    "duration": 165,
    "start_time": "2024-10-14T03:43:30.003Z"
   },
   {
    "duration": 2729,
    "start_time": "2024-10-14T03:44:06.850Z"
   },
   {
    "duration": 80,
    "start_time": "2024-10-14T03:44:19.289Z"
   },
   {
    "duration": 16,
    "start_time": "2024-10-14T03:44:35.184Z"
   },
   {
    "duration": 851,
    "start_time": "2024-10-14T03:45:30.316Z"
   },
   {
    "duration": 243,
    "start_time": "2024-10-14T03:45:31.170Z"
   },
   {
    "duration": 10,
    "start_time": "2024-10-14T03:45:31.415Z"
   },
   {
    "duration": 10,
    "start_time": "2024-10-14T03:45:31.427Z"
   },
   {
    "duration": 8,
    "start_time": "2024-10-14T03:45:31.439Z"
   },
   {
    "duration": 14,
    "start_time": "2024-10-14T03:45:31.450Z"
   },
   {
    "duration": 6,
    "start_time": "2024-10-14T03:45:31.467Z"
   },
   {
    "duration": 7,
    "start_time": "2024-10-14T03:45:31.474Z"
   },
   {
    "duration": 5,
    "start_time": "2024-10-14T03:45:31.483Z"
   },
   {
    "duration": 5,
    "start_time": "2024-10-14T03:45:31.491Z"
   },
   {
    "duration": 36,
    "start_time": "2024-10-14T03:45:31.499Z"
   },
   {
    "duration": 9,
    "start_time": "2024-10-14T03:45:31.537Z"
   },
   {
    "duration": 16,
    "start_time": "2024-10-14T03:45:31.548Z"
   },
   {
    "duration": 17,
    "start_time": "2024-10-14T03:45:31.566Z"
   },
   {
    "duration": 8,
    "start_time": "2024-10-14T03:45:31.585Z"
   },
   {
    "duration": 74,
    "start_time": "2024-10-14T03:45:31.595Z"
   },
   {
    "duration": 14,
    "start_time": "2024-10-14T03:45:31.671Z"
   },
   {
    "duration": 21,
    "start_time": "2024-10-14T03:45:31.687Z"
   },
   {
    "duration": 33,
    "start_time": "2024-10-14T03:45:31.709Z"
   },
   {
    "duration": 42,
    "start_time": "2024-10-14T03:45:31.744Z"
   },
   {
    "duration": 14,
    "start_time": "2024-10-14T03:45:31.787Z"
   },
   {
    "duration": 30,
    "start_time": "2024-10-14T03:45:31.803Z"
   },
   {
    "duration": 45,
    "start_time": "2024-10-14T03:45:31.835Z"
   },
   {
    "duration": 9,
    "start_time": "2024-10-14T03:45:31.881Z"
   },
   {
    "duration": 11,
    "start_time": "2024-10-14T03:45:31.892Z"
   },
   {
    "duration": 10,
    "start_time": "2024-10-14T03:45:31.904Z"
   },
   {
    "duration": 35,
    "start_time": "2024-10-14T03:45:31.916Z"
   },
   {
    "duration": 16,
    "start_time": "2024-10-14T03:45:31.957Z"
   },
   {
    "duration": 10,
    "start_time": "2024-10-14T03:45:31.974Z"
   },
   {
    "duration": 54,
    "start_time": "2024-10-14T03:45:31.985Z"
   },
   {
    "duration": 10,
    "start_time": "2024-10-14T03:45:32.041Z"
   },
   {
    "duration": 14,
    "start_time": "2024-10-14T03:45:32.053Z"
   },
   {
    "duration": 13,
    "start_time": "2024-10-14T03:45:32.069Z"
   },
   {
    "duration": 61,
    "start_time": "2024-10-14T03:45:32.084Z"
   },
   {
    "duration": 20,
    "start_time": "2024-10-14T03:45:32.147Z"
   },
   {
    "duration": 36,
    "start_time": "2024-10-14T03:45:32.169Z"
   },
   {
    "duration": 40,
    "start_time": "2024-10-14T03:45:32.208Z"
   },
   {
    "duration": 22,
    "start_time": "2024-10-14T03:45:32.249Z"
   },
   {
    "duration": 29,
    "start_time": "2024-10-14T03:45:32.272Z"
   },
   {
    "duration": 6,
    "start_time": "2024-10-14T03:45:32.302Z"
   },
   {
    "duration": 10,
    "start_time": "2024-10-14T03:45:32.332Z"
   },
   {
    "duration": 14,
    "start_time": "2024-10-14T03:45:32.343Z"
   },
   {
    "duration": 15,
    "start_time": "2024-10-14T03:45:32.359Z"
   },
   {
    "duration": 55,
    "start_time": "2024-10-14T03:45:32.377Z"
   },
   {
    "duration": 50,
    "start_time": "2024-10-14T03:45:32.434Z"
   },
   {
    "duration": 19,
    "start_time": "2024-10-14T03:45:32.486Z"
   },
   {
    "duration": 243,
    "start_time": "2024-10-14T03:45:32.508Z"
   },
   {
    "duration": 27,
    "start_time": "2024-10-14T03:45:32.753Z"
   },
   {
    "duration": 7,
    "start_time": "2024-10-14T03:45:32.782Z"
   },
   {
    "duration": 435,
    "start_time": "2024-10-14T03:45:32.791Z"
   },
   {
    "duration": 231,
    "start_time": "2024-10-14T03:45:33.232Z"
   },
   {
    "duration": 0,
    "start_time": "2024-10-14T03:45:33.465Z"
   },
   {
    "duration": 0,
    "start_time": "2024-10-14T03:45:33.466Z"
   },
   {
    "duration": 0,
    "start_time": "2024-10-14T03:45:33.467Z"
   },
   {
    "duration": 0,
    "start_time": "2024-10-14T03:45:33.469Z"
   },
   {
    "duration": 0,
    "start_time": "2024-10-14T03:45:33.470Z"
   },
   {
    "duration": 0,
    "start_time": "2024-10-14T03:45:33.472Z"
   },
   {
    "duration": 0,
    "start_time": "2024-10-14T03:45:33.473Z"
   },
   {
    "duration": 0,
    "start_time": "2024-10-14T03:45:33.474Z"
   },
   {
    "duration": 15,
    "start_time": "2024-10-14T03:45:55.094Z"
   },
   {
    "duration": 14,
    "start_time": "2024-10-14T03:46:38.008Z"
   },
   {
    "duration": 203,
    "start_time": "2024-10-14T03:46:45.136Z"
   },
   {
    "duration": 192,
    "start_time": "2024-10-14T03:48:57.282Z"
   },
   {
    "duration": 188,
    "start_time": "2024-10-14T03:52:26.210Z"
   },
   {
    "duration": 170,
    "start_time": "2024-10-14T03:52:59.490Z"
   },
   {
    "duration": 149,
    "start_time": "2024-10-14T03:53:10.227Z"
   },
   {
    "duration": 195,
    "start_time": "2024-10-14T03:53:18.469Z"
   },
   {
    "duration": 240,
    "start_time": "2024-10-14T03:54:32.129Z"
   },
   {
    "duration": 182,
    "start_time": "2024-10-14T03:55:52.375Z"
   },
   {
    "duration": 134,
    "start_time": "2024-10-14T03:57:01.747Z"
   },
   {
    "duration": 222,
    "start_time": "2024-10-14T03:58:46.509Z"
   },
   {
    "duration": 162,
    "start_time": "2024-10-14T04:00:48.471Z"
   },
   {
    "duration": 153,
    "start_time": "2024-10-14T04:02:52.603Z"
   },
   {
    "duration": 166,
    "start_time": "2024-10-14T04:04:28.644Z"
   },
   {
    "duration": 168,
    "start_time": "2024-10-14T04:04:45.865Z"
   },
   {
    "duration": 177,
    "start_time": "2024-10-14T04:05:55.785Z"
   },
   {
    "duration": 8,
    "start_time": "2024-10-14T04:10:37.127Z"
   },
   {
    "duration": 9,
    "start_time": "2024-10-14T04:14:30.213Z"
   },
   {
    "duration": 375,
    "start_time": "2024-10-14T04:17:13.148Z"
   },
   {
    "duration": 6,
    "start_time": "2024-10-14T04:21:34.828Z"
   },
   {
    "duration": 4,
    "start_time": "2024-10-14T04:21:53.849Z"
   },
   {
    "duration": 5,
    "start_time": "2024-10-14T04:22:17.564Z"
   },
   {
    "duration": 3,
    "start_time": "2024-10-14T04:22:27.033Z"
   },
   {
    "duration": 4,
    "start_time": "2024-10-14T04:23:29.353Z"
   },
   {
    "duration": 32,
    "start_time": "2024-10-14T04:28:18.793Z"
   },
   {
    "duration": 13,
    "start_time": "2024-10-14T04:29:47.131Z"
   },
   {
    "duration": 14,
    "start_time": "2024-10-14T04:30:16.070Z"
   },
   {
    "duration": 23,
    "start_time": "2024-10-14T04:30:43.128Z"
   },
   {
    "duration": 5,
    "start_time": "2024-10-14T04:33:00.841Z"
   },
   {
    "duration": 57,
    "start_time": "2024-10-14T04:33:44.870Z"
   },
   {
    "duration": 4,
    "start_time": "2024-10-14T04:34:54.932Z"
   },
   {
    "duration": 4,
    "start_time": "2024-10-14T04:35:54.804Z"
   },
   {
    "duration": 13,
    "start_time": "2024-10-14T04:39:07.632Z"
   },
   {
    "duration": 183,
    "start_time": "2024-10-14T04:39:14.173Z"
   },
   {
    "duration": 4,
    "start_time": "2024-10-14T04:39:19.730Z"
   },
   {
    "duration": 4,
    "start_time": "2024-10-14T04:39:29.533Z"
   },
   {
    "duration": 16,
    "start_time": "2024-10-14T04:39:39.112Z"
   },
   {
    "duration": 4,
    "start_time": "2024-10-14T04:41:35.897Z"
   },
   {
    "duration": 4,
    "start_time": "2024-10-14T04:41:47.031Z"
   },
   {
    "duration": 25,
    "start_time": "2024-10-14T04:51:42.886Z"
   },
   {
    "duration": 12,
    "start_time": "2024-10-14T04:52:46.186Z"
   },
   {
    "duration": 7,
    "start_time": "2024-10-14T04:53:22.574Z"
   },
   {
    "duration": 35,
    "start_time": "2024-10-14T04:53:41.703Z"
   },
   {
    "duration": 5,
    "start_time": "2024-10-14T04:54:32.901Z"
   },
   {
    "duration": 7,
    "start_time": "2024-10-14T04:54:50.165Z"
   },
   {
    "duration": 10,
    "start_time": "2024-10-14T04:55:02.000Z"
   },
   {
    "duration": 7,
    "start_time": "2024-10-14T04:56:45.386Z"
   },
   {
    "duration": 7,
    "start_time": "2024-10-14T04:59:09.936Z"
   },
   {
    "duration": 6,
    "start_time": "2024-10-14T05:00:46.999Z"
   },
   {
    "duration": 7,
    "start_time": "2024-10-14T05:01:12.095Z"
   },
   {
    "duration": 8,
    "start_time": "2024-10-14T05:01:28.367Z"
   },
   {
    "duration": 355,
    "start_time": "2024-10-14T05:12:39.980Z"
   },
   {
    "duration": 2,
    "start_time": "2024-10-14T05:13:19.802Z"
   },
   {
    "duration": 14,
    "start_time": "2024-10-14T05:18:34.832Z"
   },
   {
    "duration": 13,
    "start_time": "2024-10-14T05:19:25.106Z"
   },
   {
    "duration": 3,
    "start_time": "2024-10-14T05:19:34.142Z"
   },
   {
    "duration": 5,
    "start_time": "2024-10-14T05:20:04.279Z"
   },
   {
    "duration": 3,
    "start_time": "2024-10-14T05:20:09.097Z"
   },
   {
    "duration": 7,
    "start_time": "2024-10-14T05:22:21.523Z"
   },
   {
    "duration": 8,
    "start_time": "2024-10-14T05:22:44.094Z"
   },
   {
    "duration": 8,
    "start_time": "2024-10-14T05:24:30.534Z"
   },
   {
    "duration": 8,
    "start_time": "2024-10-14T05:24:49.528Z"
   },
   {
    "duration": 4,
    "start_time": "2024-10-14T05:30:04.690Z"
   },
   {
    "duration": 167,
    "start_time": "2024-10-14T05:30:35.470Z"
   },
   {
    "duration": 48,
    "start_time": "2024-10-14T05:31:48.863Z"
   },
   {
    "duration": 10,
    "start_time": "2024-10-14T05:32:56.743Z"
   },
   {
    "duration": 9,
    "start_time": "2024-10-14T05:33:12.226Z"
   },
   {
    "duration": 8,
    "start_time": "2024-10-14T05:33:27.645Z"
   },
   {
    "duration": 10,
    "start_time": "2024-10-14T05:33:32.704Z"
   },
   {
    "duration": 113,
    "start_time": "2024-10-14T05:34:13.255Z"
   },
   {
    "duration": 107,
    "start_time": "2024-10-14T05:34:37.426Z"
   },
   {
    "duration": 114,
    "start_time": "2024-10-14T05:34:50.393Z"
   },
   {
    "duration": 9,
    "start_time": "2024-10-14T05:35:20.524Z"
   },
   {
    "duration": 5,
    "start_time": "2024-10-14T05:36:41.478Z"
   },
   {
    "duration": 9,
    "start_time": "2024-10-14T05:37:04.385Z"
   },
   {
    "duration": 6,
    "start_time": "2024-10-14T05:37:58.164Z"
   },
   {
    "duration": 47,
    "start_time": "2024-10-14T05:38:12.759Z"
   },
   {
    "duration": 9,
    "start_time": "2024-10-14T05:38:22.189Z"
   },
   {
    "duration": 110,
    "start_time": "2024-10-14T05:38:30.290Z"
   },
   {
    "duration": 165,
    "start_time": "2024-10-14T14:20:18.986Z"
   },
   {
    "duration": 2475,
    "start_time": "2024-10-14T14:20:27.758Z"
   },
   {
    "duration": 230,
    "start_time": "2024-10-14T14:20:30.236Z"
   },
   {
    "duration": 10,
    "start_time": "2024-10-14T14:20:30.467Z"
   },
   {
    "duration": 9,
    "start_time": "2024-10-14T14:20:30.479Z"
   },
   {
    "duration": 8,
    "start_time": "2024-10-14T14:20:30.490Z"
   },
   {
    "duration": 10,
    "start_time": "2024-10-14T14:20:30.499Z"
   },
   {
    "duration": 4,
    "start_time": "2024-10-14T14:20:30.511Z"
   },
   {
    "duration": 4,
    "start_time": "2024-10-14T14:20:30.517Z"
   },
   {
    "duration": 4,
    "start_time": "2024-10-14T14:20:30.523Z"
   },
   {
    "duration": 4,
    "start_time": "2024-10-14T14:20:30.531Z"
   },
   {
    "duration": 5,
    "start_time": "2024-10-14T14:20:30.537Z"
   },
   {
    "duration": 9,
    "start_time": "2024-10-14T14:20:30.587Z"
   },
   {
    "duration": 14,
    "start_time": "2024-10-14T14:20:30.598Z"
   },
   {
    "duration": 16,
    "start_time": "2024-10-14T14:20:30.613Z"
   },
   {
    "duration": 7,
    "start_time": "2024-10-14T14:20:30.630Z"
   },
   {
    "duration": 62,
    "start_time": "2024-10-14T14:20:30.639Z"
   },
   {
    "duration": 13,
    "start_time": "2024-10-14T14:20:30.703Z"
   },
   {
    "duration": 19,
    "start_time": "2024-10-14T14:20:30.717Z"
   },
   {
    "duration": 12,
    "start_time": "2024-10-14T14:20:30.738Z"
   },
   {
    "duration": 65,
    "start_time": "2024-10-14T14:20:30.752Z"
   },
   {
    "duration": 12,
    "start_time": "2024-10-14T14:20:30.819Z"
   },
   {
    "duration": 7,
    "start_time": "2024-10-14T14:20:30.832Z"
   },
   {
    "duration": 15,
    "start_time": "2024-10-14T14:20:30.840Z"
   },
   {
    "duration": 33,
    "start_time": "2024-10-14T14:20:30.857Z"
   },
   {
    "duration": 10,
    "start_time": "2024-10-14T14:20:30.892Z"
   },
   {
    "duration": 10,
    "start_time": "2024-10-14T14:20:30.903Z"
   },
   {
    "duration": 22,
    "start_time": "2024-10-14T14:20:30.914Z"
   },
   {
    "duration": 13,
    "start_time": "2024-10-14T14:20:30.941Z"
   },
   {
    "duration": 36,
    "start_time": "2024-10-14T14:20:30.956Z"
   },
   {
    "duration": 32,
    "start_time": "2024-10-14T14:20:30.994Z"
   },
   {
    "duration": 10,
    "start_time": "2024-10-14T14:20:31.028Z"
   },
   {
    "duration": 12,
    "start_time": "2024-10-14T14:20:31.040Z"
   },
   {
    "duration": 35,
    "start_time": "2024-10-14T14:20:31.054Z"
   },
   {
    "duration": 30,
    "start_time": "2024-10-14T14:20:31.091Z"
   },
   {
    "duration": 20,
    "start_time": "2024-10-14T14:20:31.123Z"
   },
   {
    "duration": 60,
    "start_time": "2024-10-14T14:20:31.145Z"
   },
   {
    "duration": 18,
    "start_time": "2024-10-14T14:20:31.207Z"
   },
   {
    "duration": 21,
    "start_time": "2024-10-14T14:20:31.227Z"
   },
   {
    "duration": 44,
    "start_time": "2024-10-14T14:20:31.249Z"
   },
   {
    "duration": 6,
    "start_time": "2024-10-14T14:20:31.295Z"
   },
   {
    "duration": 10,
    "start_time": "2024-10-14T14:20:31.303Z"
   },
   {
    "duration": 13,
    "start_time": "2024-10-14T14:20:31.314Z"
   },
   {
    "duration": 14,
    "start_time": "2024-10-14T14:20:31.329Z"
   },
   {
    "duration": 54,
    "start_time": "2024-10-14T14:20:31.345Z"
   },
   {
    "duration": 52,
    "start_time": "2024-10-14T14:20:31.400Z"
   },
   {
    "duration": 34,
    "start_time": "2024-10-14T14:20:31.454Z"
   },
   {
    "duration": 232,
    "start_time": "2024-10-14T14:20:31.490Z"
   },
   {
    "duration": 27,
    "start_time": "2024-10-14T14:20:31.724Z"
   },
   {
    "duration": 8,
    "start_time": "2024-10-14T14:20:31.752Z"
   },
   {
    "duration": 8,
    "start_time": "2024-10-14T14:20:31.762Z"
   },
   {
    "duration": 348,
    "start_time": "2024-10-14T14:20:31.787Z"
   },
   {
    "duration": 13,
    "start_time": "2024-10-14T14:20:32.137Z"
   },
   {
    "duration": 192,
    "start_time": "2024-10-14T14:20:32.152Z"
   },
   {
    "duration": 6,
    "start_time": "2024-10-14T14:20:32.346Z"
   },
   {
    "duration": 66,
    "start_time": "2024-10-14T14:20:32.354Z"
   },
   {
    "duration": 111,
    "start_time": "2024-10-14T14:20:32.422Z"
   },
   {
    "duration": 2,
    "start_time": "2024-10-14T14:20:32.535Z"
   },
   {
    "duration": 3,
    "start_time": "2024-10-14T14:20:32.538Z"
   },
   {
    "duration": 2,
    "start_time": "2024-10-14T14:20:32.542Z"
   },
   {
    "duration": 3,
    "start_time": "2024-10-14T14:20:32.546Z"
   },
   {
    "duration": 212,
    "start_time": "2024-10-14T14:21:18.662Z"
   },
   {
    "duration": 3,
    "start_time": "2024-10-14T14:21:38.461Z"
   },
   {
    "duration": 7,
    "start_time": "2024-10-14T14:21:50.994Z"
   },
   {
    "duration": 4,
    "start_time": "2024-10-14T14:22:31.491Z"
   },
   {
    "duration": 347,
    "start_time": "2024-10-14T14:24:44.547Z"
   },
   {
    "duration": 99,
    "start_time": "2024-10-14T14:25:05.156Z"
   },
   {
    "duration": 258,
    "start_time": "2024-10-14T14:27:04.198Z"
   },
   {
    "duration": 270,
    "start_time": "2024-10-14T14:27:43.020Z"
   },
   {
    "duration": 9,
    "start_time": "2024-10-14T14:28:18.011Z"
   },
   {
    "duration": 3,
    "start_time": "2024-10-14T14:28:25.910Z"
   },
   {
    "duration": 430,
    "start_time": "2024-10-14T14:28:37.812Z"
   },
   {
    "duration": 14,
    "start_time": "2024-10-14T14:29:28.924Z"
   },
   {
    "duration": 442,
    "start_time": "2024-10-14T14:30:32.525Z"
   },
   {
    "duration": 481,
    "start_time": "2024-10-14T14:34:06.021Z"
   },
   {
    "duration": 394,
    "start_time": "2024-10-14T14:35:02.111Z"
   },
   {
    "duration": 389,
    "start_time": "2024-10-14T14:36:22.301Z"
   },
   {
    "duration": 184,
    "start_time": "2024-10-14T14:37:03.971Z"
   },
   {
    "duration": 8,
    "start_time": "2024-10-14T14:43:20.428Z"
   },
   {
    "duration": 4,
    "start_time": "2024-10-14T14:43:27.521Z"
   },
   {
    "duration": 9,
    "start_time": "2024-10-14T14:46:30.287Z"
   },
   {
    "duration": 11,
    "start_time": "2024-10-14T14:47:37.462Z"
   },
   {
    "duration": 11,
    "start_time": "2024-10-14T14:47:54.601Z"
   },
   {
    "duration": 438,
    "start_time": "2024-10-14T14:49:17.816Z"
   },
   {
    "duration": 397,
    "start_time": "2024-10-14T14:49:57.492Z"
   },
   {
    "duration": 503,
    "start_time": "2024-10-14T14:50:40.165Z"
   },
   {
    "duration": 5,
    "start_time": "2024-10-14T14:51:20.714Z"
   },
   {
    "duration": 6,
    "start_time": "2024-10-14T14:51:43.301Z"
   },
   {
    "duration": 6,
    "start_time": "2024-10-14T14:52:01.247Z"
   },
   {
    "duration": 6,
    "start_time": "2024-10-14T14:54:26.911Z"
   },
   {
    "duration": 6,
    "start_time": "2024-10-14T14:55:02.626Z"
   },
   {
    "duration": 5,
    "start_time": "2024-10-14T14:55:11.041Z"
   },
   {
    "duration": 164,
    "start_time": "2024-10-14T14:56:47.391Z"
   },
   {
    "duration": 5,
    "start_time": "2024-10-14T14:57:58.124Z"
   },
   {
    "duration": 9,
    "start_time": "2024-10-14T14:58:27.763Z"
   },
   {
    "duration": 104,
    "start_time": "2024-10-14T14:58:59.531Z"
   },
   {
    "duration": 218,
    "start_time": "2024-10-14T15:05:32.237Z"
   },
   {
    "duration": 221,
    "start_time": "2024-10-14T15:06:45.945Z"
   },
   {
    "duration": 213,
    "start_time": "2024-10-14T15:07:24.960Z"
   },
   {
    "duration": 13,
    "start_time": "2024-10-14T15:09:28.350Z"
   },
   {
    "duration": 10,
    "start_time": "2024-10-14T15:09:41.831Z"
   },
   {
    "duration": 9,
    "start_time": "2024-10-14T15:10:51.179Z"
   },
   {
    "duration": 9,
    "start_time": "2024-10-14T15:11:30.878Z"
   },
   {
    "duration": 8,
    "start_time": "2024-10-14T15:11:59.644Z"
   },
   {
    "duration": 304,
    "start_time": "2024-10-14T15:12:06.850Z"
   },
   {
    "duration": 316,
    "start_time": "2024-10-14T15:12:21.747Z"
   },
   {
    "duration": 199,
    "start_time": "2024-10-14T15:25:18.869Z"
   },
   {
    "duration": 11,
    "start_time": "2024-10-14T15:26:34.761Z"
   },
   {
    "duration": 7,
    "start_time": "2024-10-14T15:27:01.970Z"
   },
   {
    "duration": 457,
    "start_time": "2024-10-14T16:17:32.863Z"
   },
   {
    "duration": 12,
    "start_time": "2024-10-14T16:21:31.454Z"
   },
   {
    "duration": 204,
    "start_time": "2024-10-14T16:21:36.962Z"
   },
   {
    "duration": 4,
    "start_time": "2024-10-14T16:21:58.659Z"
   },
   {
    "duration": 901,
    "start_time": "2024-10-14T16:22:00.456Z"
   },
   {
    "duration": 517,
    "start_time": "2024-10-14T16:22:39.773Z"
   },
   {
    "duration": 406,
    "start_time": "2024-10-14T16:25:00.186Z"
   },
   {
    "duration": 405,
    "start_time": "2024-10-14T16:25:30.206Z"
   },
   {
    "duration": 14,
    "start_time": "2024-10-14T16:28:57.718Z"
   },
   {
    "duration": 15,
    "start_time": "2024-10-14T16:29:17.450Z"
   },
   {
    "duration": 173,
    "start_time": "2024-10-14T16:31:56.269Z"
   },
   {
    "duration": 8,
    "start_time": "2024-10-14T16:42:03.635Z"
   },
   {
    "duration": 314,
    "start_time": "2024-10-14T16:43:40.165Z"
   },
   {
    "duration": 8,
    "start_time": "2024-10-14T16:46:28.957Z"
   },
   {
    "duration": 9,
    "start_time": "2024-10-14T16:51:31.958Z"
   },
   {
    "duration": 11,
    "start_time": "2024-10-14T16:52:50.599Z"
   },
   {
    "duration": 26,
    "start_time": "2024-10-14T16:55:57.094Z"
   },
   {
    "duration": 9,
    "start_time": "2024-10-14T16:57:27.121Z"
   },
   {
    "duration": 10,
    "start_time": "2024-10-14T17:09:21.118Z"
   },
   {
    "duration": 8,
    "start_time": "2024-10-14T17:10:27.387Z"
   },
   {
    "duration": 266,
    "start_time": "2024-10-14T17:11:31.798Z"
   },
   {
    "duration": 9,
    "start_time": "2024-10-14T17:12:04.977Z"
   },
   {
    "duration": 18,
    "start_time": "2024-10-14T17:15:46.069Z"
   },
   {
    "duration": 173,
    "start_time": "2024-10-14T17:16:04.713Z"
   },
   {
    "duration": 19,
    "start_time": "2024-10-14T17:16:14.916Z"
   },
   {
    "duration": 9,
    "start_time": "2024-10-14T17:16:47.032Z"
   },
   {
    "duration": 267,
    "start_time": "2024-10-14T17:19:11.112Z"
   },
   {
    "duration": 9,
    "start_time": "2024-10-14T17:35:54.930Z"
   },
   {
    "duration": 11,
    "start_time": "2024-10-14T17:37:48.896Z"
   },
   {
    "duration": 207,
    "start_time": "2024-10-14T17:39:23.540Z"
   },
   {
    "duration": 12,
    "start_time": "2024-10-14T17:39:57.392Z"
   },
   {
    "duration": 12,
    "start_time": "2024-10-14T17:41:12.101Z"
   },
   {
    "duration": 12,
    "start_time": "2024-10-14T17:42:00.723Z"
   },
   {
    "duration": 12,
    "start_time": "2024-10-14T17:42:15.549Z"
   },
   {
    "duration": 15,
    "start_time": "2024-10-14T17:43:08.121Z"
   },
   {
    "duration": 11,
    "start_time": "2024-10-14T17:43:19.218Z"
   },
   {
    "duration": 12,
    "start_time": "2024-10-14T17:43:25.558Z"
   },
   {
    "duration": 4,
    "start_time": "2024-10-14T17:43:37.574Z"
   },
   {
    "duration": 415,
    "start_time": "2024-10-14T17:43:39.189Z"
   },
   {
    "duration": 12,
    "start_time": "2024-10-14T17:43:39.783Z"
   },
   {
    "duration": 178,
    "start_time": "2024-10-14T17:43:40.703Z"
   },
   {
    "duration": 14,
    "start_time": "2024-10-14T17:45:44.932Z"
   },
   {
    "duration": 14,
    "start_time": "2024-10-14T17:46:46.952Z"
   },
   {
    "duration": 176,
    "start_time": "2024-10-14T17:47:54.397Z"
   },
   {
    "duration": 12,
    "start_time": "2024-10-14T17:54:50.985Z"
   },
   {
    "duration": 189,
    "start_time": "2024-10-14T17:55:34.559Z"
   },
   {
    "duration": 15,
    "start_time": "2024-10-14T17:57:29.436Z"
   },
   {
    "duration": 181,
    "start_time": "2024-10-14T17:57:44.305Z"
   },
   {
    "duration": 331,
    "start_time": "2024-10-14T17:58:27.626Z"
   },
   {
    "duration": 12,
    "start_time": "2024-10-14T17:59:22.943Z"
   },
   {
    "duration": 11,
    "start_time": "2024-10-14T18:01:09.872Z"
   },
   {
    "duration": 12,
    "start_time": "2024-10-14T18:02:22.391Z"
   },
   {
    "duration": 4,
    "start_time": "2024-10-14T18:02:30.091Z"
   },
   {
    "duration": 441,
    "start_time": "2024-10-14T18:02:31.467Z"
   },
   {
    "duration": 14,
    "start_time": "2024-10-14T18:02:39.427Z"
   },
   {
    "duration": 172,
    "start_time": "2024-10-14T18:02:45.672Z"
   },
   {
    "duration": 9,
    "start_time": "2024-10-14T18:02:55.689Z"
   },
   {
    "duration": 9,
    "start_time": "2024-10-14T18:02:58.736Z"
   },
   {
    "duration": 282,
    "start_time": "2024-10-14T18:03:04.114Z"
   },
   {
    "duration": 12,
    "start_time": "2024-10-14T18:04:45.347Z"
   },
   {
    "duration": 4,
    "start_time": "2024-10-14T18:04:54.179Z"
   },
   {
    "duration": 404,
    "start_time": "2024-10-14T18:04:56.394Z"
   },
   {
    "duration": 15,
    "start_time": "2024-10-14T18:05:03.825Z"
   },
   {
    "duration": 15,
    "start_time": "2024-10-14T18:07:51.401Z"
   },
   {
    "duration": 12,
    "start_time": "2024-10-14T18:08:29.190Z"
   },
   {
    "duration": 191,
    "start_time": "2024-10-14T18:08:46.284Z"
   },
   {
    "duration": 15,
    "start_time": "2024-10-14T18:09:06.942Z"
   },
   {
    "duration": 177,
    "start_time": "2024-10-14T18:09:09.763Z"
   },
   {
    "duration": 14,
    "start_time": "2024-10-14T18:09:44.157Z"
   },
   {
    "duration": 9,
    "start_time": "2024-10-14T18:18:30.800Z"
   },
   {
    "duration": 8,
    "start_time": "2024-10-14T18:18:36.851Z"
   },
   {
    "duration": 306,
    "start_time": "2024-10-14T18:18:54.967Z"
   },
   {
    "duration": 9,
    "start_time": "2024-10-14T18:24:20.216Z"
   },
   {
    "duration": 4,
    "start_time": "2024-10-14T18:24:32.450Z"
   },
   {
    "duration": 10,
    "start_time": "2024-10-14T18:26:16.101Z"
   },
   {
    "duration": 4,
    "start_time": "2024-10-14T18:26:25.318Z"
   },
   {
    "duration": 342,
    "start_time": "2024-10-14T18:27:21.944Z"
   },
   {
    "duration": 439,
    "start_time": "2024-10-14T18:28:00.862Z"
   },
   {
    "duration": 68,
    "start_time": "2024-10-14T18:31:22.493Z"
   },
   {
    "duration": 55,
    "start_time": "2024-10-14T18:31:42.594Z"
   },
   {
    "duration": 28,
    "start_time": "2024-10-14T18:32:10.433Z"
   },
   {
    "duration": 18,
    "start_time": "2024-10-14T18:32:23.945Z"
   },
   {
    "duration": 190,
    "start_time": "2024-10-14T18:33:39.799Z"
   },
   {
    "duration": 188,
    "start_time": "2024-10-14T18:33:52.830Z"
   },
   {
    "duration": 259,
    "start_time": "2024-10-14T18:34:19.551Z"
   },
   {
    "duration": 184,
    "start_time": "2024-10-14T18:34:27.160Z"
   },
   {
    "duration": 188,
    "start_time": "2024-10-14T18:34:34.638Z"
   },
   {
    "duration": 223,
    "start_time": "2024-10-14T18:34:44.329Z"
   },
   {
    "duration": 402,
    "start_time": "2024-10-14T18:34:51.266Z"
   },
   {
    "duration": 17,
    "start_time": "2024-10-14T18:38:52.800Z"
   },
   {
    "duration": 72,
    "start_time": "2024-10-14T18:40:18.890Z"
   },
   {
    "duration": 25,
    "start_time": "2024-10-14T18:41:38.336Z"
   },
   {
    "duration": 10,
    "start_time": "2024-10-14T18:42:53.872Z"
   },
   {
    "duration": 60,
    "start_time": "2024-10-14T18:43:05.995Z"
   },
   {
    "duration": 10,
    "start_time": "2024-10-14T18:43:55.407Z"
   },
   {
    "duration": 49,
    "start_time": "2024-10-14T18:49:16.528Z"
   },
   {
    "duration": 9,
    "start_time": "2024-10-14T18:53:01.303Z"
   },
   {
    "duration": 9,
    "start_time": "2024-10-14T18:54:54.632Z"
   },
   {
    "duration": 8,
    "start_time": "2024-10-14T18:55:30.381Z"
   },
   {
    "duration": 9,
    "start_time": "2024-10-14T18:57:21.159Z"
   },
   {
    "duration": 9,
    "start_time": "2024-10-14T18:57:35.173Z"
   },
   {
    "duration": 293,
    "start_time": "2024-10-14T18:59:41.202Z"
   },
   {
    "duration": 468,
    "start_time": "2024-10-14T19:01:37.589Z"
   },
   {
    "duration": 23,
    "start_time": "2024-10-14T19:09:57.251Z"
   },
   {
    "duration": 60,
    "start_time": "2024-10-14T19:11:13.474Z"
   },
   {
    "duration": 26,
    "start_time": "2024-10-14T19:11:26.924Z"
   },
   {
    "duration": 129,
    "start_time": "2024-10-14T19:12:36.738Z"
   },
   {
    "duration": 37,
    "start_time": "2024-10-14T19:13:14.422Z"
   },
   {
    "duration": 48,
    "start_time": "2024-10-14T19:16:12.383Z"
   },
   {
    "duration": 30,
    "start_time": "2024-10-14T19:16:26.271Z"
   },
   {
    "duration": 23,
    "start_time": "2024-10-14T19:16:45.382Z"
   },
   {
    "duration": 9,
    "start_time": "2024-10-14T19:19:12.950Z"
   },
   {
    "duration": 13,
    "start_time": "2024-10-14T19:19:45.499Z"
   },
   {
    "duration": 11,
    "start_time": "2024-10-14T19:20:40.420Z"
   },
   {
    "duration": 12,
    "start_time": "2024-10-14T19:21:17.898Z"
   },
   {
    "duration": 12,
    "start_time": "2024-10-14T19:22:40.573Z"
   },
   {
    "duration": 12,
    "start_time": "2024-10-14T19:24:58.565Z"
   },
   {
    "duration": 11,
    "start_time": "2024-10-14T19:25:40.869Z"
   },
   {
    "duration": 15,
    "start_time": "2024-10-14T19:30:26.556Z"
   },
   {
    "duration": 9,
    "start_time": "2024-10-14T19:30:37.531Z"
   },
   {
    "duration": 15,
    "start_time": "2024-10-14T19:34:09.837Z"
   },
   {
    "duration": 13,
    "start_time": "2024-10-14T19:34:16.781Z"
   },
   {
    "duration": 14,
    "start_time": "2024-10-14T19:34:21.645Z"
   },
   {
    "duration": 13,
    "start_time": "2024-10-14T19:34:31.132Z"
   },
   {
    "duration": 14,
    "start_time": "2024-10-14T19:34:36.935Z"
   },
   {
    "duration": 13,
    "start_time": "2024-10-14T19:34:52.636Z"
   },
   {
    "duration": 14,
    "start_time": "2024-10-14T19:34:59.279Z"
   },
   {
    "duration": 14,
    "start_time": "2024-10-14T19:35:11.120Z"
   },
   {
    "duration": 14,
    "start_time": "2024-10-14T19:35:53.766Z"
   },
   {
    "duration": 14,
    "start_time": "2024-10-14T19:36:02.357Z"
   },
   {
    "duration": 175,
    "start_time": "2024-10-14T19:36:42.053Z"
   },
   {
    "duration": 9,
    "start_time": "2024-10-14T19:37:00.462Z"
   },
   {
    "duration": 8,
    "start_time": "2024-10-14T19:37:02.721Z"
   },
   {
    "duration": 14,
    "start_time": "2024-10-14T19:37:48.997Z"
   },
   {
    "duration": 9,
    "start_time": "2024-10-14T19:38:18.233Z"
   },
   {
    "duration": 4,
    "start_time": "2024-10-14T20:05:40.341Z"
   },
   {
    "duration": 303,
    "start_time": "2024-10-14T20:06:51.753Z"
   },
   {
    "duration": 262,
    "start_time": "2024-10-14T20:07:03.295Z"
   },
   {
    "duration": 396,
    "start_time": "2024-10-14T20:07:19.407Z"
   },
   {
    "duration": 8,
    "start_time": "2024-10-14T20:08:50.877Z"
   },
   {
    "duration": 268,
    "start_time": "2024-10-14T20:09:01.747Z"
   },
   {
    "duration": 13,
    "start_time": "2024-10-14T20:26:39.860Z"
   },
   {
    "duration": 14,
    "start_time": "2024-10-14T20:26:45.968Z"
   },
   {
    "duration": 13,
    "start_time": "2024-10-14T20:28:53.766Z"
   },
   {
    "duration": 14,
    "start_time": "2024-10-14T20:30:23.575Z"
   },
   {
    "duration": 16,
    "start_time": "2024-10-14T20:30:57.235Z"
   },
   {
    "duration": 18,
    "start_time": "2024-10-14T20:32:35.573Z"
   },
   {
    "duration": 177,
    "start_time": "2024-10-14T20:33:20.892Z"
   },
   {
    "duration": 15,
    "start_time": "2024-10-14T20:42:41.758Z"
   },
   {
    "duration": 14,
    "start_time": "2024-10-14T20:43:30.246Z"
   },
   {
    "duration": 16,
    "start_time": "2024-10-14T20:43:57.143Z"
   },
   {
    "duration": 193,
    "start_time": "2024-10-14T20:45:49.184Z"
   },
   {
    "duration": 13,
    "start_time": "2024-10-14T20:46:40.516Z"
   },
   {
    "duration": 14,
    "start_time": "2024-10-14T20:47:19.305Z"
   },
   {
    "duration": 13,
    "start_time": "2024-10-14T20:47:45.295Z"
   },
   {
    "duration": 254,
    "start_time": "2024-10-14T20:49:07.096Z"
   },
   {
    "duration": 14,
    "start_time": "2024-10-14T20:51:50.807Z"
   },
   {
    "duration": 9,
    "start_time": "2024-10-14T21:17:56.543Z"
   },
   {
    "duration": 4,
    "start_time": "2024-10-14T21:19:49.045Z"
   },
   {
    "duration": 2578,
    "start_time": "2024-10-14T23:56:03.671Z"
   },
   {
    "duration": 226,
    "start_time": "2024-10-15T00:27:27.465Z"
   },
   {
    "duration": 858,
    "start_time": "2024-10-15T00:27:42.362Z"
   },
   {
    "duration": 231,
    "start_time": "2024-10-15T00:27:43.222Z"
   },
   {
    "duration": 11,
    "start_time": "2024-10-15T00:27:43.455Z"
   },
   {
    "duration": 10,
    "start_time": "2024-10-15T00:27:43.468Z"
   },
   {
    "duration": 9,
    "start_time": "2024-10-15T00:27:43.481Z"
   },
   {
    "duration": 19,
    "start_time": "2024-10-15T00:27:43.491Z"
   },
   {
    "duration": 6,
    "start_time": "2024-10-15T00:27:43.512Z"
   },
   {
    "duration": 5,
    "start_time": "2024-10-15T00:27:43.520Z"
   },
   {
    "duration": 3,
    "start_time": "2024-10-15T00:27:43.527Z"
   },
   {
    "duration": 5,
    "start_time": "2024-10-15T00:27:43.532Z"
   },
   {
    "duration": 4,
    "start_time": "2024-10-15T00:27:43.540Z"
   },
   {
    "duration": 9,
    "start_time": "2024-10-15T00:27:43.546Z"
   },
   {
    "duration": 55,
    "start_time": "2024-10-15T00:27:43.557Z"
   },
   {
    "duration": 19,
    "start_time": "2024-10-15T00:27:43.617Z"
   },
   {
    "duration": 9,
    "start_time": "2024-10-15T00:27:43.637Z"
   },
   {
    "duration": 33,
    "start_time": "2024-10-15T00:27:43.647Z"
   },
   {
    "duration": 36,
    "start_time": "2024-10-15T00:27:43.682Z"
   },
   {
    "duration": 19,
    "start_time": "2024-10-15T00:27:43.720Z"
   },
   {
    "duration": 13,
    "start_time": "2024-10-15T00:27:43.741Z"
   },
   {
    "duration": 63,
    "start_time": "2024-10-15T00:27:43.756Z"
   },
   {
    "duration": 13,
    "start_time": "2024-10-15T00:27:43.820Z"
   },
   {
    "duration": 6,
    "start_time": "2024-10-15T00:27:43.835Z"
   },
   {
    "duration": 15,
    "start_time": "2024-10-15T00:27:43.843Z"
   },
   {
    "duration": 9,
    "start_time": "2024-10-15T00:27:43.860Z"
   },
   {
    "duration": 40,
    "start_time": "2024-10-15T00:27:43.871Z"
   },
   {
    "duration": 12,
    "start_time": "2024-10-15T00:27:43.913Z"
   },
   {
    "duration": 29,
    "start_time": "2024-10-15T00:27:43.927Z"
   },
   {
    "duration": 17,
    "start_time": "2024-10-15T00:27:43.958Z"
   },
   {
    "duration": 32,
    "start_time": "2024-10-15T00:27:43.977Z"
   },
   {
    "duration": 36,
    "start_time": "2024-10-15T00:27:44.011Z"
   },
   {
    "duration": 15,
    "start_time": "2024-10-15T00:27:44.049Z"
   },
   {
    "duration": 15,
    "start_time": "2024-10-15T00:27:44.066Z"
   },
   {
    "duration": 34,
    "start_time": "2024-10-15T00:27:44.084Z"
   },
   {
    "duration": 33,
    "start_time": "2024-10-15T00:27:44.120Z"
   },
   {
    "duration": 21,
    "start_time": "2024-10-15T00:27:44.155Z"
   },
   {
    "duration": 54,
    "start_time": "2024-10-15T00:27:44.177Z"
   },
   {
    "duration": 18,
    "start_time": "2024-10-15T00:27:44.233Z"
   },
   {
    "duration": 23,
    "start_time": "2024-10-15T00:27:44.253Z"
   },
   {
    "duration": 59,
    "start_time": "2024-10-15T00:27:44.278Z"
   },
   {
    "duration": 7,
    "start_time": "2024-10-15T00:27:44.339Z"
   },
   {
    "duration": 11,
    "start_time": "2024-10-15T00:27:44.353Z"
   },
   {
    "duration": 17,
    "start_time": "2024-10-15T00:27:44.367Z"
   },
   {
    "duration": 40,
    "start_time": "2024-10-15T00:27:44.386Z"
   },
   {
    "duration": 27,
    "start_time": "2024-10-15T00:27:44.427Z"
   },
   {
    "duration": 81,
    "start_time": "2024-10-15T00:27:44.456Z"
   },
   {
    "duration": 18,
    "start_time": "2024-10-15T00:27:44.539Z"
   },
   {
    "duration": 261,
    "start_time": "2024-10-15T00:27:44.559Z"
   },
   {
    "duration": 31,
    "start_time": "2024-10-15T00:27:44.822Z"
   },
   {
    "duration": 10,
    "start_time": "2024-10-15T00:27:44.854Z"
   },
   {
    "duration": 12,
    "start_time": "2024-10-15T00:27:44.872Z"
   },
   {
    "duration": 4,
    "start_time": "2024-10-15T00:27:44.885Z"
   },
   {
    "duration": 545,
    "start_time": "2024-10-15T00:27:44.890Z"
   },
   {
    "duration": 16,
    "start_time": "2024-10-15T00:27:45.438Z"
   },
   {
    "duration": 223,
    "start_time": "2024-10-15T00:27:45.456Z"
   },
   {
    "duration": 9,
    "start_time": "2024-10-15T00:27:45.682Z"
   },
   {
    "duration": 21,
    "start_time": "2024-10-15T00:27:45.693Z"
   },
   {
    "duration": 320,
    "start_time": "2024-10-15T00:27:45.716Z"
   },
   {
    "duration": 14,
    "start_time": "2024-10-15T00:27:46.038Z"
   },
   {
    "duration": 5,
    "start_time": "2024-10-15T00:27:46.054Z"
   },
   {
    "duration": 460,
    "start_time": "2024-10-15T00:27:46.060Z"
   },
   {
    "duration": 18,
    "start_time": "2024-10-15T00:27:46.523Z"
   },
   {
    "duration": 214,
    "start_time": "2024-10-15T00:27:46.543Z"
   },
   {
    "duration": 12,
    "start_time": "2024-10-15T00:27:46.759Z"
   },
   {
    "duration": 8,
    "start_time": "2024-10-15T00:27:46.773Z"
   },
   {
    "duration": 334,
    "start_time": "2024-10-15T00:27:46.782Z"
   },
   {
    "duration": 13,
    "start_time": "2024-10-15T00:27:47.118Z"
   },
   {
    "duration": 4,
    "start_time": "2024-10-15T00:27:47.133Z"
   },
   {
    "duration": 505,
    "start_time": "2024-10-15T00:27:47.139Z"
   },
   {
    "duration": 347,
    "start_time": "2024-10-15T00:27:47.648Z"
   },
   {
    "duration": 0,
    "start_time": "2024-10-15T00:27:47.996Z"
   },
   {
    "duration": 0,
    "start_time": "2024-10-15T00:27:47.997Z"
   },
   {
    "duration": 0,
    "start_time": "2024-10-15T00:27:47.998Z"
   },
   {
    "duration": 0,
    "start_time": "2024-10-15T00:27:48.000Z"
   },
   {
    "duration": 0,
    "start_time": "2024-10-15T00:27:48.001Z"
   },
   {
    "duration": 0,
    "start_time": "2024-10-15T00:27:48.009Z"
   },
   {
    "duration": 0,
    "start_time": "2024-10-15T00:27:48.011Z"
   },
   {
    "duration": 0,
    "start_time": "2024-10-15T00:27:48.013Z"
   },
   {
    "duration": 8,
    "start_time": "2024-10-15T00:27:52.714Z"
   },
   {
    "duration": 21,
    "start_time": "2024-10-15T00:28:47.778Z"
   },
   {
    "duration": 16,
    "start_time": "2024-10-15T00:29:00.265Z"
   },
   {
    "duration": 17,
    "start_time": "2024-10-15T00:29:10.857Z"
   },
   {
    "duration": 199,
    "start_time": "2024-10-15T00:29:26.153Z"
   },
   {
    "duration": 10,
    "start_time": "2024-10-15T00:29:35.852Z"
   },
   {
    "duration": 10,
    "start_time": "2024-10-15T00:29:37.045Z"
   },
   {
    "duration": 295,
    "start_time": "2024-10-15T00:29:40.869Z"
   },
   {
    "duration": 12,
    "start_time": "2024-10-15T00:29:48.963Z"
   },
   {
    "duration": 10,
    "start_time": "2024-10-15T00:29:49.881Z"
   },
   {
    "duration": 9,
    "start_time": "2024-10-15T00:40:32.993Z"
   },
   {
    "duration": 11,
    "start_time": "2024-10-15T00:41:51.495Z"
   },
   {
    "duration": 7,
    "start_time": "2024-10-15T00:43:26.416Z"
   },
   {
    "duration": 18,
    "start_time": "2024-10-15T00:43:35.384Z"
   },
   {
    "duration": 17,
    "start_time": "2024-10-15T00:43:50.640Z"
   },
   {
    "duration": 18,
    "start_time": "2024-10-15T00:44:04.102Z"
   },
   {
    "duration": 11,
    "start_time": "2024-10-15T00:44:40.601Z"
   },
   {
    "duration": 5,
    "start_time": "2024-10-15T00:45:21.989Z"
   },
   {
    "duration": 160,
    "start_time": "2024-10-15T00:45:26.469Z"
   },
   {
    "duration": 10,
    "start_time": "2024-10-15T00:45:32.978Z"
   },
   {
    "duration": 19,
    "start_time": "2024-10-15T00:46:06.958Z"
   },
   {
    "duration": 7,
    "start_time": "2024-10-15T00:46:16.837Z"
   },
   {
    "duration": 4,
    "start_time": "2024-10-15T00:53:19.483Z"
   },
   {
    "duration": 14,
    "start_time": "2024-10-15T00:57:44.170Z"
   },
   {
    "duration": 10,
    "start_time": "2024-10-15T00:58:27.323Z"
   },
   {
    "duration": 11,
    "start_time": "2024-10-15T00:58:58.923Z"
   },
   {
    "duration": 14,
    "start_time": "2024-10-15T01:00:11.170Z"
   },
   {
    "duration": 5,
    "start_time": "2024-10-15T01:01:43.436Z"
   },
   {
    "duration": 5,
    "start_time": "2024-10-15T01:01:46.252Z"
   },
   {
    "duration": 11,
    "start_time": "2024-10-15T01:02:33.683Z"
   },
   {
    "duration": 15,
    "start_time": "2024-10-15T01:05:05.489Z"
   },
   {
    "duration": 23,
    "start_time": "2024-10-15T01:05:29.330Z"
   },
   {
    "duration": 14,
    "start_time": "2024-10-15T01:05:51.230Z"
   },
   {
    "duration": 13,
    "start_time": "2024-10-15T01:05:57.796Z"
   },
   {
    "duration": 10,
    "start_time": "2024-10-15T01:06:05.910Z"
   },
   {
    "duration": 10,
    "start_time": "2024-10-15T01:10:16.521Z"
   },
   {
    "duration": 12,
    "start_time": "2024-10-15T01:15:09.693Z"
   },
   {
    "duration": 11,
    "start_time": "2024-10-15T01:15:52.832Z"
   },
   {
    "duration": 13,
    "start_time": "2024-10-15T01:16:39.640Z"
   },
   {
    "duration": 12,
    "start_time": "2024-10-15T01:16:55.414Z"
   },
   {
    "duration": 12,
    "start_time": "2024-10-15T01:17:09.676Z"
   },
   {
    "duration": 10,
    "start_time": "2024-10-15T01:17:30.826Z"
   },
   {
    "duration": 10,
    "start_time": "2024-10-15T01:17:49.717Z"
   },
   {
    "duration": 10,
    "start_time": "2024-10-15T01:18:19.926Z"
   },
   {
    "duration": 11,
    "start_time": "2024-10-15T02:14:08.850Z"
   },
   {
    "duration": 2,
    "start_time": "2024-10-15T02:15:46.305Z"
   },
   {
    "duration": 3,
    "start_time": "2024-10-15T02:16:20.241Z"
   },
   {
    "duration": 207,
    "start_time": "2024-10-15T02:17:59.020Z"
   },
   {
    "duration": 3145,
    "start_time": "2024-10-15T02:18:06.879Z"
   },
   {
    "duration": 357,
    "start_time": "2024-10-15T02:18:10.026Z"
   },
   {
    "duration": 13,
    "start_time": "2024-10-15T02:18:10.386Z"
   },
   {
    "duration": 5,
    "start_time": "2024-10-15T02:19:41.537Z"
   },
   {
    "duration": 4,
    "start_time": "2024-10-15T02:20:24.084Z"
   },
   {
    "duration": 5,
    "start_time": "2024-10-15T02:21:31.449Z"
   },
   {
    "duration": 3,
    "start_time": "2024-10-15T02:21:59.322Z"
   },
   {
    "duration": 4,
    "start_time": "2024-10-15T02:29:18.056Z"
   },
   {
    "duration": 3,
    "start_time": "2024-10-15T02:30:55.859Z"
   },
   {
    "duration": 6,
    "start_time": "2024-10-15T02:33:40.008Z"
   },
   {
    "duration": 25,
    "start_time": "2024-10-15T02:34:26.642Z"
   },
   {
    "duration": 13,
    "start_time": "2024-10-15T02:34:38.524Z"
   },
   {
    "duration": 8,
    "start_time": "2024-10-15T02:35:00.808Z"
   },
   {
    "duration": 77,
    "start_time": "2024-10-15T03:15:47.806Z"
   },
   {
    "duration": 4,
    "start_time": "2024-10-15T03:15:59.202Z"
   },
   {
    "duration": 4,
    "start_time": "2024-10-15T03:16:09.091Z"
   },
   {
    "duration": 5,
    "start_time": "2024-10-15T03:16:12.377Z"
   },
   {
    "duration": 10,
    "start_time": "2024-10-15T03:16:14.010Z"
   },
   {
    "duration": 5,
    "start_time": "2024-10-15T03:16:28.743Z"
   },
   {
    "duration": 3,
    "start_time": "2024-10-15T03:17:38.125Z"
   },
   {
    "duration": 9,
    "start_time": "2024-10-15T03:17:46.380Z"
   },
   {
    "duration": 11,
    "start_time": "2024-10-15T03:18:05.712Z"
   },
   {
    "duration": 5,
    "start_time": "2024-10-15T03:18:16.970Z"
   },
   {
    "duration": 4,
    "start_time": "2024-10-15T03:18:18.688Z"
   },
   {
    "duration": 4,
    "start_time": "2024-10-15T03:18:19.281Z"
   },
   {
    "duration": 9,
    "start_time": "2024-10-15T03:18:20.169Z"
   },
   {
    "duration": 5,
    "start_time": "2024-10-15T03:20:00.447Z"
   },
   {
    "duration": 4,
    "start_time": "2024-10-15T03:20:01.406Z"
   },
   {
    "duration": 4,
    "start_time": "2024-10-15T03:20:01.909Z"
   },
   {
    "duration": 10,
    "start_time": "2024-10-15T03:20:02.495Z"
   },
   {
    "duration": 29,
    "start_time": "2024-10-15T03:20:41.277Z"
   },
   {
    "duration": 5,
    "start_time": "2024-10-15T03:20:56.814Z"
   },
   {
    "duration": 5,
    "start_time": "2024-10-15T03:20:59.425Z"
   },
   {
    "duration": 4,
    "start_time": "2024-10-15T03:20:59.863Z"
   },
   {
    "duration": 9,
    "start_time": "2024-10-15T03:21:00.358Z"
   },
   {
    "duration": 5,
    "start_time": "2024-10-15T03:21:51.522Z"
   },
   {
    "duration": 4,
    "start_time": "2024-10-15T03:21:52.253Z"
   },
   {
    "duration": 5,
    "start_time": "2024-10-15T03:21:52.699Z"
   },
   {
    "duration": 9,
    "start_time": "2024-10-15T03:21:53.205Z"
   },
   {
    "duration": 14,
    "start_time": "2024-10-15T03:22:23.978Z"
   },
   {
    "duration": 876,
    "start_time": "2024-10-15T03:22:35.223Z"
   },
   {
    "duration": 169,
    "start_time": "2024-10-15T03:22:36.101Z"
   },
   {
    "duration": 9,
    "start_time": "2024-10-15T03:22:36.272Z"
   },
   {
    "duration": 9,
    "start_time": "2024-10-15T03:22:36.283Z"
   },
   {
    "duration": 8,
    "start_time": "2024-10-15T03:22:36.294Z"
   },
   {
    "duration": 10,
    "start_time": "2024-10-15T03:22:36.304Z"
   },
   {
    "duration": 6,
    "start_time": "2024-10-15T03:22:36.331Z"
   },
   {
    "duration": 5,
    "start_time": "2024-10-15T03:22:36.339Z"
   },
   {
    "duration": 5,
    "start_time": "2024-10-15T03:22:36.346Z"
   },
   {
    "duration": 4,
    "start_time": "2024-10-15T03:22:36.352Z"
   },
   {
    "duration": 4,
    "start_time": "2024-10-15T03:22:36.358Z"
   },
   {
    "duration": 9,
    "start_time": "2024-10-15T03:22:36.363Z"
   },
   {
    "duration": 14,
    "start_time": "2024-10-15T03:22:36.373Z"
   },
   {
    "duration": 16,
    "start_time": "2024-10-15T03:22:36.432Z"
   },
   {
    "duration": 8,
    "start_time": "2024-10-15T03:22:36.450Z"
   },
   {
    "duration": 40,
    "start_time": "2024-10-15T03:22:36.460Z"
   },
   {
    "duration": 36,
    "start_time": "2024-10-15T03:22:36.503Z"
   },
   {
    "duration": 22,
    "start_time": "2024-10-15T03:22:36.541Z"
   },
   {
    "duration": 14,
    "start_time": "2024-10-15T03:22:36.564Z"
   },
   {
    "duration": 64,
    "start_time": "2024-10-15T03:22:36.580Z"
   },
   {
    "duration": 13,
    "start_time": "2024-10-15T03:22:36.646Z"
   },
   {
    "duration": 7,
    "start_time": "2024-10-15T03:22:36.661Z"
   },
   {
    "duration": 19,
    "start_time": "2024-10-15T03:22:36.669Z"
   },
   {
    "duration": 43,
    "start_time": "2024-10-15T03:22:36.689Z"
   },
   {
    "duration": 12,
    "start_time": "2024-10-15T03:22:36.734Z"
   },
   {
    "duration": 10,
    "start_time": "2024-10-15T03:22:36.748Z"
   },
   {
    "duration": 26,
    "start_time": "2024-10-15T03:22:36.760Z"
   },
   {
    "duration": 45,
    "start_time": "2024-10-15T03:22:36.787Z"
   },
   {
    "duration": 9,
    "start_time": "2024-10-15T03:22:36.835Z"
   },
   {
    "duration": 36,
    "start_time": "2024-10-15T03:22:36.846Z"
   },
   {
    "duration": 11,
    "start_time": "2024-10-15T03:22:36.884Z"
   },
   {
    "duration": 38,
    "start_time": "2024-10-15T03:22:36.896Z"
   },
   {
    "duration": 12,
    "start_time": "2024-10-15T03:22:36.936Z"
   },
   {
    "duration": 31,
    "start_time": "2024-10-15T03:22:36.950Z"
   },
   {
    "duration": 8,
    "start_time": "2024-10-15T03:22:36.983Z"
   },
   {
    "duration": 66,
    "start_time": "2024-10-15T03:22:36.992Z"
   },
   {
    "duration": 18,
    "start_time": "2024-10-15T03:22:37.060Z"
   },
   {
    "duration": 21,
    "start_time": "2024-10-15T03:22:37.079Z"
   },
   {
    "duration": 46,
    "start_time": "2024-10-15T03:22:37.102Z"
   },
   {
    "duration": 6,
    "start_time": "2024-10-15T03:22:37.150Z"
   },
   {
    "duration": 9,
    "start_time": "2024-10-15T03:22:37.161Z"
   },
   {
    "duration": 14,
    "start_time": "2024-10-15T03:22:37.171Z"
   },
   {
    "duration": 15,
    "start_time": "2024-10-15T03:22:37.187Z"
   },
   {
    "duration": 28,
    "start_time": "2024-10-15T03:22:37.232Z"
   },
   {
    "duration": 47,
    "start_time": "2024-10-15T03:22:37.262Z"
   },
   {
    "duration": 40,
    "start_time": "2024-10-15T03:22:37.311Z"
   },
   {
    "duration": 247,
    "start_time": "2024-10-15T03:22:37.354Z"
   },
   {
    "duration": 40,
    "start_time": "2024-10-15T03:22:37.603Z"
   },
   {
    "duration": 13,
    "start_time": "2024-10-15T03:22:37.646Z"
   },
   {
    "duration": 22,
    "start_time": "2024-10-15T03:22:37.661Z"
   },
   {
    "duration": 4,
    "start_time": "2024-10-15T03:22:37.685Z"
   },
   {
    "duration": 555,
    "start_time": "2024-10-15T03:22:37.691Z"
   },
   {
    "duration": 14,
    "start_time": "2024-10-15T03:22:38.249Z"
   },
   {
    "duration": 207,
    "start_time": "2024-10-15T03:22:38.265Z"
   },
   {
    "duration": 9,
    "start_time": "2024-10-15T03:22:38.473Z"
   },
   {
    "duration": 9,
    "start_time": "2024-10-15T03:22:38.484Z"
   },
   {
    "duration": 351,
    "start_time": "2024-10-15T03:22:38.495Z"
   },
   {
    "duration": 12,
    "start_time": "2024-10-15T03:22:38.848Z"
   },
   {
    "duration": 4,
    "start_time": "2024-10-15T03:22:38.862Z"
   },
   {
    "duration": 462,
    "start_time": "2024-10-15T03:22:38.868Z"
   },
   {
    "duration": 14,
    "start_time": "2024-10-15T03:22:39.333Z"
   },
   {
    "duration": 223,
    "start_time": "2024-10-15T03:22:39.348Z"
   },
   {
    "duration": 9,
    "start_time": "2024-10-15T03:22:39.573Z"
   },
   {
    "duration": 10,
    "start_time": "2024-10-15T03:22:39.584Z"
   },
   {
    "duration": 338,
    "start_time": "2024-10-15T03:22:39.595Z"
   },
   {
    "duration": 12,
    "start_time": "2024-10-15T03:22:39.934Z"
   },
   {
    "duration": 5,
    "start_time": "2024-10-15T03:22:39.947Z"
   },
   {
    "duration": 480,
    "start_time": "2024-10-15T03:22:39.953Z"
   },
   {
    "duration": 15,
    "start_time": "2024-10-15T03:22:40.436Z"
   },
   {
    "duration": 287,
    "start_time": "2024-10-15T03:22:40.453Z"
   },
   {
    "duration": 9,
    "start_time": "2024-10-15T03:22:40.742Z"
   },
   {
    "duration": 8,
    "start_time": "2024-10-15T03:22:40.753Z"
   },
   {
    "duration": 306,
    "start_time": "2024-10-15T03:22:40.763Z"
   },
   {
    "duration": 11,
    "start_time": "2024-10-15T03:22:41.071Z"
   },
   {
    "duration": 10,
    "start_time": "2024-10-15T03:22:41.084Z"
   },
   {
    "duration": 10,
    "start_time": "2024-10-15T03:22:41.096Z"
   },
   {
    "duration": 2,
    "start_time": "2024-10-15T03:22:41.133Z"
   },
   {
    "duration": 2931,
    "start_time": "2024-10-15T15:37:20.158Z"
   },
   {
    "duration": 264,
    "start_time": "2024-10-15T15:37:23.091Z"
   },
   {
    "duration": 10,
    "start_time": "2024-10-15T15:37:24.319Z"
   },
   {
    "duration": 10,
    "start_time": "2024-10-15T15:37:31.241Z"
   },
   {
    "duration": 14,
    "start_time": "2024-10-15T15:37:32.006Z"
   },
   {
    "duration": 7,
    "start_time": "2024-10-15T15:37:41.067Z"
   },
   {
    "duration": 5,
    "start_time": "2024-10-15T15:37:41.895Z"
   },
   {
    "duration": 7,
    "start_time": "2024-10-15T15:38:14.010Z"
   },
   {
    "duration": 9,
    "start_time": "2024-10-15T15:38:38.885Z"
   },
   {
    "duration": 12,
    "start_time": "2024-10-15T15:39:17.900Z"
   },
   {
    "duration": 18,
    "start_time": "2024-10-15T15:40:23.707Z"
   },
   {
    "duration": 4,
    "start_time": "2024-10-15T15:40:25.801Z"
   },
   {
    "duration": 4,
    "start_time": "2024-10-15T15:40:28.184Z"
   },
   {
    "duration": 8,
    "start_time": "2024-10-15T15:40:29.071Z"
   },
   {
    "duration": 10,
    "start_time": "2024-10-15T15:41:57.716Z"
   },
   {
    "duration": 15,
    "start_time": "2024-10-15T15:43:38.752Z"
   },
   {
    "duration": 16,
    "start_time": "2024-10-15T15:45:09.711Z"
   },
   {
    "duration": 4,
    "start_time": "2024-10-15T15:45:15.274Z"
   },
   {
    "duration": 5,
    "start_time": "2024-10-15T15:45:15.817Z"
   },
   {
    "duration": 9,
    "start_time": "2024-10-15T15:45:16.410Z"
   },
   {
    "duration": 4,
    "start_time": "2024-10-15T15:47:33.379Z"
   },
   {
    "duration": 691,
    "start_time": "2024-10-15T15:47:34.019Z"
   },
   {
    "duration": 55,
    "start_time": "2024-10-15T15:47:55.668Z"
   },
   {
    "duration": 16,
    "start_time": "2024-10-15T15:48:22.252Z"
   },
   {
    "duration": 4,
    "start_time": "2024-10-15T15:48:32.698Z"
   },
   {
    "duration": 49,
    "start_time": "2024-10-15T15:48:35.519Z"
   },
   {
    "duration": 18,
    "start_time": "2024-10-15T15:49:17.762Z"
   },
   {
    "duration": 15,
    "start_time": "2024-10-15T15:49:41.764Z"
   },
   {
    "duration": 16,
    "start_time": "2024-10-15T15:50:34.249Z"
   },
   {
    "duration": 4,
    "start_time": "2024-10-15T15:50:41.837Z"
   },
   {
    "duration": 10,
    "start_time": "2024-10-15T15:50:44.785Z"
   },
   {
    "duration": 5,
    "start_time": "2024-10-15T15:51:11.196Z"
   },
   {
    "duration": 10,
    "start_time": "2024-10-15T15:51:11.922Z"
   },
   {
    "duration": 16,
    "start_time": "2024-10-15T15:51:23.273Z"
   },
   {
    "duration": 19,
    "start_time": "2024-10-15T15:51:29.238Z"
   },
   {
    "duration": 9,
    "start_time": "2024-10-15T15:51:29.949Z"
   },
   {
    "duration": 38,
    "start_time": "2024-10-15T15:51:31.795Z"
   },
   {
    "duration": 17,
    "start_time": "2024-10-15T15:51:32.268Z"
   },
   {
    "duration": 28,
    "start_time": "2024-10-15T15:51:32.728Z"
   },
   {
    "duration": 18,
    "start_time": "2024-10-15T15:51:33.636Z"
   },
   {
    "duration": 46,
    "start_time": "2024-10-15T15:51:34.089Z"
   },
   {
    "duration": 13,
    "start_time": "2024-10-15T15:51:36.469Z"
   },
   {
    "duration": 13,
    "start_time": "2024-10-15T15:51:36.856Z"
   },
   {
    "duration": 19,
    "start_time": "2024-10-15T15:51:38.209Z"
   },
   {
    "duration": 11,
    "start_time": "2024-10-15T15:51:38.444Z"
   },
   {
    "duration": 15,
    "start_time": "2024-10-15T15:51:38.799Z"
   },
   {
    "duration": 10,
    "start_time": "2024-10-15T15:51:39.747Z"
   },
   {
    "duration": 28,
    "start_time": "2024-10-15T15:51:40.092Z"
   },
   {
    "duration": 19,
    "start_time": "2024-10-15T15:51:41.751Z"
   },
   {
    "duration": 9,
    "start_time": "2024-10-15T15:51:44.874Z"
   },
   {
    "duration": 42,
    "start_time": "2024-10-15T15:51:46.169Z"
   },
   {
    "duration": 13,
    "start_time": "2024-10-15T15:51:46.440Z"
   },
   {
    "duration": 19,
    "start_time": "2024-10-15T15:51:47.038Z"
   },
   {
    "duration": 14,
    "start_time": "2024-10-15T15:51:47.505Z"
   },
   {
    "duration": 34,
    "start_time": "2024-10-15T15:51:48.045Z"
   },
   {
    "duration": 8,
    "start_time": "2024-10-15T15:51:52.616Z"
   },
   {
    "duration": 43,
    "start_time": "2024-10-15T15:51:53.860Z"
   },
   {
    "duration": 23,
    "start_time": "2024-10-15T15:51:55.110Z"
   },
   {
    "duration": 26,
    "start_time": "2024-10-15T15:51:55.606Z"
   },
   {
    "duration": 37,
    "start_time": "2024-10-15T15:51:56.307Z"
   },
   {
    "duration": 13,
    "start_time": "2024-10-15T15:51:56.773Z"
   },
   {
    "duration": 9,
    "start_time": "2024-10-15T15:51:57.240Z"
   },
   {
    "duration": 15,
    "start_time": "2024-10-15T15:51:58.122Z"
   },
   {
    "duration": 18,
    "start_time": "2024-10-15T15:51:59.245Z"
   },
   {
    "duration": 32,
    "start_time": "2024-10-15T15:51:59.698Z"
   },
   {
    "duration": 64,
    "start_time": "2024-10-15T15:52:00.365Z"
   },
   {
    "duration": 27,
    "start_time": "2024-10-15T15:52:00.970Z"
   },
   {
    "duration": 222,
    "start_time": "2024-10-15T15:52:02.564Z"
   },
   {
    "duration": 28,
    "start_time": "2024-10-15T15:52:03.221Z"
   },
   {
    "duration": 11,
    "start_time": "2024-10-15T15:52:04.830Z"
   },
   {
    "duration": 12,
    "start_time": "2024-10-15T15:52:05.842Z"
   },
   {
    "duration": 5,
    "start_time": "2024-10-15T15:52:06.356Z"
   },
   {
    "duration": 589,
    "start_time": "2024-10-15T15:52:06.904Z"
   },
   {
    "duration": 15,
    "start_time": "2024-10-15T15:52:07.853Z"
   },
   {
    "duration": 193,
    "start_time": "2024-10-15T15:52:08.620Z"
   },
   {
    "duration": 13,
    "start_time": "2024-10-15T16:16:01.867Z"
   },
   {
    "duration": 13,
    "start_time": "2024-10-15T16:32:58.661Z"
   },
   {
    "duration": 27,
    "start_time": "2024-10-15T16:34:13.773Z"
   },
   {
    "duration": 18,
    "start_time": "2024-10-15T16:34:24.283Z"
   },
   {
    "duration": 3,
    "start_time": "2024-10-15T16:39:24.486Z"
   },
   {
    "duration": 4,
    "start_time": "2024-10-15T16:42:33.659Z"
   },
   {
    "duration": 5,
    "start_time": "2024-10-15T17:16:43.780Z"
   },
   {
    "duration": 4,
    "start_time": "2024-10-15T19:15:14.703Z"
   },
   {
    "duration": 4,
    "start_time": "2024-10-16T00:33:17.447Z"
   },
   {
    "duration": 203,
    "start_time": "2024-10-16T00:34:13.816Z"
   },
   {
    "duration": 198,
    "start_time": "2024-10-16T00:34:17.767Z"
   },
   {
    "duration": 820,
    "start_time": "2024-10-16T00:34:34.219Z"
   },
   {
    "duration": 158,
    "start_time": "2024-10-16T00:34:35.042Z"
   },
   {
    "duration": 8,
    "start_time": "2024-10-16T00:34:35.202Z"
   },
   {
    "duration": 10,
    "start_time": "2024-10-16T00:34:35.214Z"
   },
   {
    "duration": 8,
    "start_time": "2024-10-16T00:34:35.226Z"
   },
   {
    "duration": 10,
    "start_time": "2024-10-16T00:34:35.235Z"
   },
   {
    "duration": 26,
    "start_time": "2024-10-16T00:34:35.247Z"
   },
   {
    "duration": 6,
    "start_time": "2024-10-16T00:34:35.274Z"
   },
   {
    "duration": 14,
    "start_time": "2024-10-16T00:34:35.282Z"
   },
   {
    "duration": 4,
    "start_time": "2024-10-16T00:34:35.299Z"
   },
   {
    "duration": 4,
    "start_time": "2024-10-16T00:34:35.305Z"
   },
   {
    "duration": 9,
    "start_time": "2024-10-16T00:34:35.311Z"
   },
   {
    "duration": 52,
    "start_time": "2024-10-16T00:34:35.321Z"
   },
   {
    "duration": 16,
    "start_time": "2024-10-16T00:34:35.376Z"
   },
   {
    "duration": 8,
    "start_time": "2024-10-16T00:34:35.393Z"
   },
   {
    "duration": 35,
    "start_time": "2024-10-16T00:34:35.403Z"
   },
   {
    "duration": 38,
    "start_time": "2024-10-16T00:34:35.440Z"
   },
   {
    "duration": 19,
    "start_time": "2024-10-16T00:34:35.480Z"
   },
   {
    "duration": 12,
    "start_time": "2024-10-16T00:34:35.501Z"
   },
   {
    "duration": 62,
    "start_time": "2024-10-16T00:34:35.514Z"
   },
   {
    "duration": 12,
    "start_time": "2024-10-16T00:34:35.578Z"
   },
   {
    "duration": 8,
    "start_time": "2024-10-16T00:34:35.591Z"
   },
   {
    "duration": 17,
    "start_time": "2024-10-16T00:34:35.600Z"
   },
   {
    "duration": 8,
    "start_time": "2024-10-16T00:34:35.619Z"
   },
   {
    "duration": 18,
    "start_time": "2024-10-16T00:34:35.629Z"
   },
   {
    "duration": 31,
    "start_time": "2024-10-16T00:34:35.649Z"
   },
   {
    "duration": 27,
    "start_time": "2024-10-16T00:34:35.682Z"
   },
   {
    "duration": 18,
    "start_time": "2024-10-16T00:34:35.716Z"
   },
   {
    "duration": 8,
    "start_time": "2024-10-16T00:34:35.736Z"
   },
   {
    "duration": 32,
    "start_time": "2024-10-16T00:34:35.770Z"
   },
   {
    "duration": 11,
    "start_time": "2024-10-16T00:34:35.804Z"
   },
   {
    "duration": 14,
    "start_time": "2024-10-16T00:34:35.816Z"
   },
   {
    "duration": 11,
    "start_time": "2024-10-16T00:34:35.832Z"
   },
   {
    "duration": 55,
    "start_time": "2024-10-16T00:34:35.844Z"
   },
   {
    "duration": 8,
    "start_time": "2024-10-16T00:34:35.901Z"
   },
   {
    "duration": 35,
    "start_time": "2024-10-16T00:34:35.911Z"
   },
   {
    "duration": 38,
    "start_time": "2024-10-16T00:34:35.947Z"
   },
   {
    "duration": 20,
    "start_time": "2024-10-16T00:34:35.987Z"
   },
   {
    "duration": 27,
    "start_time": "2024-10-16T00:34:36.009Z"
   },
   {
    "duration": 5,
    "start_time": "2024-10-16T00:34:36.038Z"
   },
   {
    "duration": 32,
    "start_time": "2024-10-16T00:34:36.045Z"
   },
   {
    "duration": 13,
    "start_time": "2024-10-16T00:34:36.078Z"
   },
   {
    "duration": 14,
    "start_time": "2024-10-16T00:34:36.092Z"
   },
   {
    "duration": 25,
    "start_time": "2024-10-16T00:34:36.108Z"
   },
   {
    "duration": 74,
    "start_time": "2024-10-16T00:34:36.135Z"
   },
   {
    "duration": 19,
    "start_time": "2024-10-16T00:34:36.211Z"
   },
   {
    "duration": 229,
    "start_time": "2024-10-16T00:34:36.231Z"
   },
   {
    "duration": 31,
    "start_time": "2024-10-16T00:34:36.462Z"
   },
   {
    "duration": 11,
    "start_time": "2024-10-16T00:34:36.496Z"
   },
   {
    "duration": 3,
    "start_time": "2024-10-16T00:34:36.510Z"
   },
   {
    "duration": 511,
    "start_time": "2024-10-16T00:34:36.517Z"
   },
   {
    "duration": 13,
    "start_time": "2024-10-16T00:34:37.030Z"
   },
   {
    "duration": 203,
    "start_time": "2024-10-16T00:34:37.045Z"
   },
   {
    "duration": 9,
    "start_time": "2024-10-16T00:34:37.249Z"
   },
   {
    "duration": 17,
    "start_time": "2024-10-16T00:34:37.260Z"
   },
   {
    "duration": 301,
    "start_time": "2024-10-16T00:34:37.279Z"
   },
   {
    "duration": 12,
    "start_time": "2024-10-16T00:34:37.582Z"
   },
   {
    "duration": 4,
    "start_time": "2024-10-16T00:34:37.595Z"
   },
   {
    "duration": 458,
    "start_time": "2024-10-16T00:34:37.600Z"
   },
   {
    "duration": 21,
    "start_time": "2024-10-16T00:34:38.060Z"
   },
   {
    "duration": 198,
    "start_time": "2024-10-16T00:34:38.083Z"
   },
   {
    "duration": 8,
    "start_time": "2024-10-16T00:34:38.282Z"
   },
   {
    "duration": 8,
    "start_time": "2024-10-16T00:34:38.292Z"
   },
   {
    "duration": 300,
    "start_time": "2024-10-16T00:34:38.301Z"
   },
   {
    "duration": 12,
    "start_time": "2024-10-16T00:34:38.603Z"
   },
   {
    "duration": 4,
    "start_time": "2024-10-16T00:34:38.617Z"
   },
   {
    "duration": 464,
    "start_time": "2024-10-16T00:34:38.622Z"
   },
   {
    "duration": 14,
    "start_time": "2024-10-16T00:34:39.088Z"
   },
   {
    "duration": 263,
    "start_time": "2024-10-16T00:34:39.103Z"
   },
   {
    "duration": 8,
    "start_time": "2024-10-16T00:34:39.368Z"
   },
   {
    "duration": 8,
    "start_time": "2024-10-16T00:34:39.379Z"
   },
   {
    "duration": 284,
    "start_time": "2024-10-16T00:34:39.389Z"
   },
   {
    "duration": 9,
    "start_time": "2024-10-16T00:34:39.675Z"
   },
   {
    "duration": 9,
    "start_time": "2024-10-16T00:34:39.686Z"
   },
   {
    "duration": 8,
    "start_time": "2024-10-16T00:34:39.696Z"
   },
   {
    "duration": 2,
    "start_time": "2024-10-16T00:34:39.706Z"
   },
   {
    "duration": 471,
    "start_time": "2024-10-16T00:49:56.879Z"
   },
   {
    "duration": 409,
    "start_time": "2024-10-16T00:50:25.774Z"
   },
   {
    "duration": 256,
    "start_time": "2024-10-16T00:51:49.823Z"
   },
   {
    "duration": 3,
    "start_time": "2024-10-16T00:52:15.452Z"
   },
   {
    "duration": 476,
    "start_time": "2024-10-16T00:52:30.902Z"
   },
   {
    "duration": 373,
    "start_time": "2024-10-16T00:53:15.285Z"
   },
   {
    "duration": 5,
    "start_time": "2024-10-16T01:23:54.576Z"
   },
   {
    "duration": 12,
    "start_time": "2024-10-16T02:01:23.927Z"
   },
   {
    "duration": 7,
    "start_time": "2024-10-16T02:01:34.882Z"
   },
   {
    "duration": 8,
    "start_time": "2024-10-16T02:04:25.223Z"
   },
   {
    "duration": 7,
    "start_time": "2024-10-16T02:07:40.725Z"
   },
   {
    "duration": 12,
    "start_time": "2024-10-16T02:08:08.625Z"
   },
   {
    "duration": 8,
    "start_time": "2024-10-16T02:08:26.822Z"
   },
   {
    "duration": 22,
    "start_time": "2024-10-16T02:10:38.732Z"
   },
   {
    "duration": 3,
    "start_time": "2024-10-16T02:11:06.750Z"
   },
   {
    "duration": 11,
    "start_time": "2024-10-16T02:11:18.948Z"
   },
   {
    "duration": 11,
    "start_time": "2024-10-16T02:12:45.288Z"
   },
   {
    "duration": 11,
    "start_time": "2024-10-16T02:13:11.027Z"
   },
   {
    "duration": 12,
    "start_time": "2024-10-16T02:14:35.194Z"
   },
   {
    "duration": 6,
    "start_time": "2024-10-16T02:15:14.006Z"
   },
   {
    "duration": 5,
    "start_time": "2024-10-16T02:15:57.712Z"
   },
   {
    "duration": 14,
    "start_time": "2024-10-16T02:16:09.342Z"
   },
   {
    "duration": 9,
    "start_time": "2024-10-16T02:16:27.413Z"
   },
   {
    "duration": 10,
    "start_time": "2024-10-16T02:16:38.674Z"
   },
   {
    "duration": 10,
    "start_time": "2024-10-16T02:18:16.933Z"
   },
   {
    "duration": 9,
    "start_time": "2024-10-16T02:25:41.775Z"
   },
   {
    "duration": 356,
    "start_time": "2024-10-16T02:27:13.461Z"
   },
   {
    "duration": 37,
    "start_time": "2024-10-16T02:29:05.053Z"
   },
   {
    "duration": 9,
    "start_time": "2024-10-16T02:29:28.890Z"
   },
   {
    "duration": 15,
    "start_time": "2024-10-16T02:29:49.585Z"
   },
   {
    "duration": 3,
    "start_time": "2024-10-16T02:30:33.504Z"
   },
   {
    "duration": 12,
    "start_time": "2024-10-16T02:30:39.809Z"
   },
   {
    "duration": 10,
    "start_time": "2024-10-16T02:31:10.724Z"
   },
   {
    "duration": 35,
    "start_time": "2024-10-16T02:31:57.132Z"
   },
   {
    "duration": 33,
    "start_time": "2024-10-16T02:32:19.266Z"
   },
   {
    "duration": 9,
    "start_time": "2024-10-16T02:32:58.565Z"
   },
   {
    "duration": 7,
    "start_time": "2024-10-16T02:33:05.927Z"
   },
   {
    "duration": 24,
    "start_time": "2024-10-16T02:33:29.702Z"
   },
   {
    "duration": 6,
    "start_time": "2024-10-16T02:34:30.411Z"
   },
   {
    "duration": 5,
    "start_time": "2024-10-16T02:34:38.083Z"
   },
   {
    "duration": 35,
    "start_time": "2024-10-16T02:38:29.260Z"
   },
   {
    "duration": 12,
    "start_time": "2024-10-16T02:39:41.166Z"
   },
   {
    "duration": 34,
    "start_time": "2024-10-16T02:40:48.088Z"
   },
   {
    "duration": 16,
    "start_time": "2024-10-16T02:46:50.084Z"
   },
   {
    "duration": 6,
    "start_time": "2024-10-16T02:47:22.717Z"
   },
   {
    "duration": 7,
    "start_time": "2024-10-16T02:48:01.779Z"
   },
   {
    "duration": 5,
    "start_time": "2024-10-16T02:48:39.371Z"
   },
   {
    "duration": 5,
    "start_time": "2024-10-16T02:49:13.602Z"
   },
   {
    "duration": 11,
    "start_time": "2024-10-16T02:56:43.338Z"
   },
   {
    "duration": 6,
    "start_time": "2024-10-16T02:57:02.160Z"
   },
   {
    "duration": 10,
    "start_time": "2024-10-16T03:06:53.440Z"
   },
   {
    "duration": 13,
    "start_time": "2024-10-16T03:13:33.744Z"
   },
   {
    "duration": 27,
    "start_time": "2024-10-16T03:13:51.930Z"
   },
   {
    "duration": 12,
    "start_time": "2024-10-16T03:14:18.409Z"
   },
   {
    "duration": 301,
    "start_time": "2024-10-16T03:16:34.675Z"
   },
   {
    "duration": 17,
    "start_time": "2024-10-16T03:20:15.024Z"
   },
   {
    "duration": 5,
    "start_time": "2024-10-16T03:21:05.877Z"
   },
   {
    "duration": 59,
    "start_time": "2024-10-16T03:21:28.360Z"
   },
   {
    "duration": 5,
    "start_time": "2024-10-16T03:22:20.639Z"
   },
   {
    "duration": 303,
    "start_time": "2024-10-16T03:23:10.287Z"
   },
   {
    "duration": 10,
    "start_time": "2024-10-16T03:23:39.770Z"
   },
   {
    "duration": 5,
    "start_time": "2024-10-16T03:23:51.146Z"
   },
   {
    "duration": 6,
    "start_time": "2024-10-16T03:26:13.041Z"
   },
   {
    "duration": 45,
    "start_time": "2024-10-16T03:27:09.827Z"
   },
   {
    "duration": 5,
    "start_time": "2024-10-16T03:27:19.695Z"
   },
   {
    "duration": 419,
    "start_time": "2024-10-16T03:30:31.067Z"
   },
   {
    "duration": 77,
    "start_time": "2024-10-16T03:30:52.684Z"
   },
   {
    "duration": 89,
    "start_time": "2024-10-16T03:31:32.472Z"
   },
   {
    "duration": 43,
    "start_time": "2024-10-16T03:32:03.007Z"
   },
   {
    "duration": 48,
    "start_time": "2024-10-16T03:32:18.353Z"
   },
   {
    "duration": 16,
    "start_time": "2024-10-16T03:33:42.358Z"
   },
   {
    "duration": 6,
    "start_time": "2024-10-16T03:34:17.963Z"
   },
   {
    "duration": 6,
    "start_time": "2024-10-16T03:35:52.203Z"
   },
   {
    "duration": 5,
    "start_time": "2024-10-16T03:36:24.326Z"
   },
   {
    "duration": 4,
    "start_time": "2024-10-16T03:37:00.188Z"
   },
   {
    "duration": 7,
    "start_time": "2024-10-16T03:37:16.140Z"
   },
   {
    "duration": 6,
    "start_time": "2024-10-16T03:37:32.428Z"
   },
   {
    "duration": 16,
    "start_time": "2024-10-16T03:39:49.045Z"
   },
   {
    "duration": 3,
    "start_time": "2024-10-16T03:40:10.005Z"
   },
   {
    "duration": 7,
    "start_time": "2024-10-16T03:40:17.717Z"
   },
   {
    "duration": 5,
    "start_time": "2024-10-16T03:41:10.340Z"
   },
   {
    "duration": 6,
    "start_time": "2024-10-16T03:43:44.059Z"
   },
   {
    "duration": 3,
    "start_time": "2024-10-16T03:49:52.778Z"
   },
   {
    "duration": 3,
    "start_time": "2024-10-16T03:50:07.193Z"
   },
   {
    "duration": 4,
    "start_time": "2024-10-16T03:51:12.075Z"
   },
   {
    "duration": 5,
    "start_time": "2024-10-16T03:51:54.298Z"
   },
   {
    "duration": 4,
    "start_time": "2024-10-16T03:56:20.614Z"
   },
   {
    "duration": 4,
    "start_time": "2024-10-16T03:56:42.383Z"
   },
   {
    "duration": 5,
    "start_time": "2024-10-16T03:56:55.833Z"
   },
   {
    "duration": 6,
    "start_time": "2024-10-16T04:01:18.301Z"
   },
   {
    "duration": 6,
    "start_time": "2024-10-16T04:01:31.676Z"
   },
   {
    "duration": 6,
    "start_time": "2024-10-16T04:04:52.048Z"
   },
   {
    "duration": 5,
    "start_time": "2024-10-16T04:06:29.482Z"
   },
   {
    "duration": 175,
    "start_time": "2024-10-16T14:50:29.712Z"
   },
   {
    "duration": 2627,
    "start_time": "2024-10-16T14:50:38.328Z"
   },
   {
    "duration": 221,
    "start_time": "2024-10-16T14:50:40.958Z"
   },
   {
    "duration": 10,
    "start_time": "2024-10-16T14:50:41.180Z"
   },
   {
    "duration": 9,
    "start_time": "2024-10-16T14:50:41.192Z"
   },
   {
    "duration": 9,
    "start_time": "2024-10-16T14:50:41.202Z"
   },
   {
    "duration": 9,
    "start_time": "2024-10-16T14:50:41.213Z"
   },
   {
    "duration": 5,
    "start_time": "2024-10-16T14:50:41.224Z"
   },
   {
    "duration": 5,
    "start_time": "2024-10-16T14:50:41.230Z"
   },
   {
    "duration": 13,
    "start_time": "2024-10-16T14:50:41.237Z"
   },
   {
    "duration": 4,
    "start_time": "2024-10-16T14:50:41.253Z"
   },
   {
    "duration": 4,
    "start_time": "2024-10-16T14:50:41.258Z"
   },
   {
    "duration": 9,
    "start_time": "2024-10-16T14:50:41.263Z"
   },
   {
    "duration": 15,
    "start_time": "2024-10-16T14:50:41.309Z"
   },
   {
    "duration": 15,
    "start_time": "2024-10-16T14:50:41.326Z"
   },
   {
    "duration": 8,
    "start_time": "2024-10-16T14:50:41.342Z"
   },
   {
    "duration": 57,
    "start_time": "2024-10-16T14:50:41.352Z"
   },
   {
    "duration": 12,
    "start_time": "2024-10-16T14:50:41.412Z"
   },
   {
    "duration": 19,
    "start_time": "2024-10-16T14:50:41.426Z"
   },
   {
    "duration": 14,
    "start_time": "2024-10-16T14:50:41.446Z"
   },
   {
    "duration": 65,
    "start_time": "2024-10-16T14:50:41.461Z"
   },
   {
    "duration": 12,
    "start_time": "2024-10-16T14:50:41.528Z"
   },
   {
    "duration": 6,
    "start_time": "2024-10-16T14:50:41.542Z"
   },
   {
    "duration": 17,
    "start_time": "2024-10-16T14:50:41.550Z"
   },
   {
    "duration": 9,
    "start_time": "2024-10-16T14:50:41.569Z"
   },
   {
    "duration": 38,
    "start_time": "2024-10-16T14:50:41.579Z"
   },
   {
    "duration": 10,
    "start_time": "2024-10-16T14:50:41.619Z"
   },
   {
    "duration": 23,
    "start_time": "2024-10-16T14:50:41.631Z"
   },
   {
    "duration": 14,
    "start_time": "2024-10-16T14:50:41.659Z"
   },
   {
    "duration": 8,
    "start_time": "2024-10-16T14:50:41.674Z"
   },
   {
    "duration": 35,
    "start_time": "2024-10-16T14:50:41.710Z"
   },
   {
    "duration": 11,
    "start_time": "2024-10-16T14:50:41.746Z"
   },
   {
    "duration": 13,
    "start_time": "2024-10-16T14:50:41.758Z"
   },
   {
    "duration": 36,
    "start_time": "2024-10-16T14:50:41.773Z"
   },
   {
    "duration": 31,
    "start_time": "2024-10-16T14:50:41.810Z"
   },
   {
    "duration": 7,
    "start_time": "2024-10-16T14:50:41.843Z"
   },
   {
    "duration": 58,
    "start_time": "2024-10-16T14:50:41.852Z"
   },
   {
    "duration": 17,
    "start_time": "2024-10-16T14:50:41.911Z"
   },
   {
    "duration": 20,
    "start_time": "2024-10-16T14:50:41.930Z"
   },
   {
    "duration": 28,
    "start_time": "2024-10-16T14:50:41.951Z"
   },
   {
    "duration": 30,
    "start_time": "2024-10-16T14:50:41.981Z"
   },
   {
    "duration": 8,
    "start_time": "2024-10-16T14:50:42.013Z"
   },
   {
    "duration": 15,
    "start_time": "2024-10-16T14:50:42.023Z"
   },
   {
    "duration": 15,
    "start_time": "2024-10-16T14:50:42.039Z"
   },
   {
    "duration": 25,
    "start_time": "2024-10-16T14:50:42.055Z"
   },
   {
    "duration": 45,
    "start_time": "2024-10-16T14:50:42.110Z"
   },
   {
    "duration": 21,
    "start_time": "2024-10-16T14:50:42.156Z"
   },
   {
    "duration": 230,
    "start_time": "2024-10-16T14:50:42.179Z"
   },
   {
    "duration": 26,
    "start_time": "2024-10-16T14:50:42.411Z"
   },
   {
    "duration": 11,
    "start_time": "2024-10-16T14:50:42.440Z"
   },
   {
    "duration": 4,
    "start_time": "2024-10-16T14:50:42.452Z"
   },
   {
    "duration": 467,
    "start_time": "2024-10-16T14:50:42.457Z"
   },
   {
    "duration": 16,
    "start_time": "2024-10-16T14:50:42.926Z"
   },
   {
    "duration": 250,
    "start_time": "2024-10-16T14:50:42.943Z"
   },
   {
    "duration": 15,
    "start_time": "2024-10-16T14:50:43.194Z"
   },
   {
    "duration": 8,
    "start_time": "2024-10-16T14:50:43.210Z"
   },
   {
    "duration": 299,
    "start_time": "2024-10-16T14:50:43.220Z"
   },
   {
    "duration": 11,
    "start_time": "2024-10-16T14:50:43.521Z"
   },
   {
    "duration": 3,
    "start_time": "2024-10-16T14:50:43.534Z"
   },
   {
    "duration": 448,
    "start_time": "2024-10-16T14:50:43.539Z"
   },
   {
    "duration": 22,
    "start_time": "2024-10-16T14:50:43.988Z"
   },
   {
    "duration": 215,
    "start_time": "2024-10-16T14:50:44.012Z"
   },
   {
    "duration": 9,
    "start_time": "2024-10-16T14:50:44.229Z"
   },
   {
    "duration": 8,
    "start_time": "2024-10-16T14:50:44.239Z"
   },
   {
    "duration": 302,
    "start_time": "2024-10-16T14:50:44.248Z"
   },
   {
    "duration": 11,
    "start_time": "2024-10-16T14:50:44.552Z"
   },
   {
    "duration": 3,
    "start_time": "2024-10-16T14:50:44.565Z"
   },
   {
    "duration": 419,
    "start_time": "2024-10-16T14:50:44.570Z"
   },
   {
    "duration": 23,
    "start_time": "2024-10-16T14:50:44.992Z"
   },
   {
    "duration": 182,
    "start_time": "2024-10-16T14:50:45.017Z"
   },
   {
    "duration": 13,
    "start_time": "2024-10-16T14:50:45.201Z"
   },
   {
    "duration": 8,
    "start_time": "2024-10-16T14:50:45.216Z"
   },
   {
    "duration": 289,
    "start_time": "2024-10-16T14:50:45.225Z"
   },
   {
    "duration": 9,
    "start_time": "2024-10-16T14:50:45.515Z"
   },
   {
    "duration": 9,
    "start_time": "2024-10-16T14:50:45.526Z"
   },
   {
    "duration": 109,
    "start_time": "2024-10-16T14:50:45.536Z"
   },
   {
    "duration": 10,
    "start_time": "2024-10-16T14:50:45.647Z"
   },
   {
    "duration": 7,
    "start_time": "2024-10-16T14:52:09.844Z"
   },
   {
    "duration": 4,
    "start_time": "2024-10-16T14:52:22.754Z"
   },
   {
    "duration": 232,
    "start_time": "2024-10-16T14:52:33.936Z"
   },
   {
    "duration": 18,
    "start_time": "2024-10-16T14:53:16.910Z"
   },
   {
    "duration": 18,
    "start_time": "2024-10-16T14:53:31.105Z"
   },
   {
    "duration": 9,
    "start_time": "2024-10-16T14:53:45.118Z"
   },
   {
    "duration": 10,
    "start_time": "2024-10-16T14:54:25.595Z"
   },
   {
    "duration": 9,
    "start_time": "2024-10-16T14:54:32.863Z"
   },
   {
    "duration": 12,
    "start_time": "2024-10-16T15:01:57.400Z"
   },
   {
    "duration": 575,
    "start_time": "2024-10-16T15:03:17.397Z"
   },
   {
    "duration": 67,
    "start_time": "2024-10-16T15:03:37.602Z"
   },
   {
    "duration": 66,
    "start_time": "2024-10-16T15:03:47.382Z"
   },
   {
    "duration": 9,
    "start_time": "2024-10-16T15:04:16.012Z"
   },
   {
    "duration": 258,
    "start_time": "2024-10-16T15:05:44.556Z"
   },
   {
    "duration": 67,
    "start_time": "2024-10-16T15:06:17.462Z"
   },
   {
    "duration": 18,
    "start_time": "2024-10-16T15:07:52.921Z"
   },
   {
    "duration": 6,
    "start_time": "2024-10-16T15:08:08.522Z"
   },
   {
    "duration": 9,
    "start_time": "2024-10-16T15:08:30.724Z"
   },
   {
    "duration": 8,
    "start_time": "2024-10-16T15:11:24.175Z"
   },
   {
    "duration": 211,
    "start_time": "2024-10-16T15:12:55.290Z"
   },
   {
    "duration": 37,
    "start_time": "2024-10-16T15:15:01.046Z"
   },
   {
    "duration": 9,
    "start_time": "2024-10-16T15:15:30.867Z"
   },
   {
    "duration": 12,
    "start_time": "2024-10-16T15:16:49.283Z"
   },
   {
    "duration": 11,
    "start_time": "2024-10-16T15:17:15.308Z"
   },
   {
    "duration": 11,
    "start_time": "2024-10-16T15:17:32.292Z"
   },
   {
    "duration": 14,
    "start_time": "2024-10-16T15:17:37.268Z"
   },
   {
    "duration": 11,
    "start_time": "2024-10-16T15:18:02.104Z"
   },
   {
    "duration": 12,
    "start_time": "2024-10-16T15:22:16.632Z"
   },
   {
    "duration": 11,
    "start_time": "2024-10-16T15:26:06.348Z"
   },
   {
    "duration": 15,
    "start_time": "2024-10-16T15:27:06.399Z"
   },
   {
    "duration": 14,
    "start_time": "2024-10-16T15:29:14.537Z"
   },
   {
    "duration": 12,
    "start_time": "2024-10-16T15:29:20.706Z"
   },
   {
    "duration": 12,
    "start_time": "2024-10-16T15:30:22.578Z"
   },
   {
    "duration": 12,
    "start_time": "2024-10-16T15:36:13.011Z"
   },
   {
    "duration": 13,
    "start_time": "2024-10-16T15:36:19.116Z"
   },
   {
    "duration": 14,
    "start_time": "2024-10-16T15:36:29.204Z"
   },
   {
    "duration": 6,
    "start_time": "2024-10-16T15:37:03.318Z"
   },
   {
    "duration": 7,
    "start_time": "2024-10-16T15:37:09.263Z"
   },
   {
    "duration": 14,
    "start_time": "2024-10-16T15:37:15.076Z"
   },
   {
    "duration": 6,
    "start_time": "2024-10-16T15:45:53.988Z"
   },
   {
    "duration": 7,
    "start_time": "2024-10-16T15:46:47.577Z"
   },
   {
    "duration": 10,
    "start_time": "2024-10-16T15:47:40.881Z"
   },
   {
    "duration": 4,
    "start_time": "2024-10-16T15:50:28.394Z"
   },
   {
    "duration": 13,
    "start_time": "2024-10-16T15:53:53.299Z"
   },
   {
    "duration": 9,
    "start_time": "2024-10-16T15:54:21.239Z"
   },
   {
    "duration": 187,
    "start_time": "2024-10-16T15:55:04.443Z"
   },
   {
    "duration": 21,
    "start_time": "2024-10-16T15:55:25.124Z"
   },
   {
    "duration": 20,
    "start_time": "2024-10-16T15:56:09.089Z"
   },
   {
    "duration": 11,
    "start_time": "2024-10-16T15:56:21.609Z"
   },
   {
    "duration": 15,
    "start_time": "2024-10-16T16:03:14.366Z"
   },
   {
    "duration": 18,
    "start_time": "2024-10-16T16:03:42.034Z"
   },
   {
    "duration": 13,
    "start_time": "2024-10-16T16:03:51.843Z"
   },
   {
    "duration": 15,
    "start_time": "2024-10-16T16:04:46.159Z"
   },
   {
    "duration": 10,
    "start_time": "2024-10-16T16:05:09.271Z"
   },
   {
    "duration": 11,
    "start_time": "2024-10-16T16:05:38.891Z"
   },
   {
    "duration": 14,
    "start_time": "2024-10-16T16:05:49.271Z"
   },
   {
    "duration": 11,
    "start_time": "2024-10-16T16:05:59.728Z"
   },
   {
    "duration": 48,
    "start_time": "2024-10-16T16:10:00.696Z"
   },
   {
    "duration": 10,
    "start_time": "2024-10-16T16:10:32.079Z"
   },
   {
    "duration": 66,
    "start_time": "2024-10-16T16:12:13.776Z"
   },
   {
    "duration": 38,
    "start_time": "2024-10-16T16:12:31.248Z"
   },
   {
    "duration": 11,
    "start_time": "2024-10-16T16:12:51.878Z"
   },
   {
    "duration": 8,
    "start_time": "2024-10-16T16:14:09.992Z"
   },
   {
    "duration": 10,
    "start_time": "2024-10-16T16:14:23.152Z"
   },
   {
    "duration": 10,
    "start_time": "2024-10-16T16:15:10.923Z"
   },
   {
    "duration": 81,
    "start_time": "2024-10-16T16:17:45.750Z"
   },
   {
    "duration": 10,
    "start_time": "2024-10-16T17:08:59.643Z"
   },
   {
    "duration": 10,
    "start_time": "2024-10-16T17:10:07.138Z"
   },
   {
    "duration": 9,
    "start_time": "2024-10-16T17:10:51.026Z"
   },
   {
    "duration": 9,
    "start_time": "2024-10-16T17:11:05.845Z"
   },
   {
    "duration": 139,
    "start_time": "2024-10-16T17:11:21.968Z"
   },
   {
    "duration": 9,
    "start_time": "2024-10-16T17:11:31.542Z"
   },
   {
    "duration": 75,
    "start_time": "2024-10-16T17:13:26.205Z"
   },
   {
    "duration": 62,
    "start_time": "2024-10-16T17:13:35.910Z"
   },
   {
    "duration": 11,
    "start_time": "2024-10-16T17:14:00.490Z"
   },
   {
    "duration": 9,
    "start_time": "2024-10-16T17:14:42.643Z"
   },
   {
    "duration": 7,
    "start_time": "2024-10-16T17:22:58.185Z"
   },
   {
    "duration": 21,
    "start_time": "2024-10-16T17:23:06.846Z"
   },
   {
    "duration": 39,
    "start_time": "2024-10-16T17:24:28.410Z"
   },
   {
    "duration": 13,
    "start_time": "2024-10-16T17:25:10.968Z"
   },
   {
    "duration": 12,
    "start_time": "2024-10-16T17:25:19.370Z"
   },
   {
    "duration": 10,
    "start_time": "2024-10-16T17:27:50.350Z"
   },
   {
    "duration": 13,
    "start_time": "2024-10-16T17:28:56.252Z"
   },
   {
    "duration": 23,
    "start_time": "2024-10-16T17:29:53.114Z"
   },
   {
    "duration": 12,
    "start_time": "2024-10-16T17:30:04.537Z"
   },
   {
    "duration": 11,
    "start_time": "2024-10-16T17:30:29.732Z"
   },
   {
    "duration": 4,
    "start_time": "2024-10-16T17:32:14.905Z"
   },
   {
    "duration": 5,
    "start_time": "2024-10-16T17:34:27.257Z"
   },
   {
    "duration": 11,
    "start_time": "2024-10-16T17:34:55.923Z"
   },
   {
    "duration": 10,
    "start_time": "2024-10-16T17:35:01.255Z"
   },
   {
    "duration": 13,
    "start_time": "2024-10-16T17:42:11.945Z"
   },
   {
    "duration": 12,
    "start_time": "2024-10-16T17:42:46.799Z"
   },
   {
    "duration": 23,
    "start_time": "2024-10-16T18:14:10.662Z"
   },
   {
    "duration": 12,
    "start_time": "2024-10-16T18:14:37.022Z"
   },
   {
    "duration": 6,
    "start_time": "2024-10-16T18:15:35.655Z"
   },
   {
    "duration": 19,
    "start_time": "2024-10-16T18:15:40.790Z"
   },
   {
    "duration": 11,
    "start_time": "2024-10-16T18:15:56.596Z"
   },
   {
    "duration": 10,
    "start_time": "2024-10-16T18:16:10.367Z"
   },
   {
    "duration": 4,
    "start_time": "2024-10-16T18:16:59.379Z"
   },
   {
    "duration": 17,
    "start_time": "2024-10-16T18:17:15.451Z"
   },
   {
    "duration": 13,
    "start_time": "2024-10-16T18:17:25.255Z"
   },
   {
    "duration": 5,
    "start_time": "2024-10-16T18:18:15.168Z"
   },
   {
    "duration": 19,
    "start_time": "2024-10-16T18:18:39.158Z"
   },
   {
    "duration": 23,
    "start_time": "2024-10-16T18:19:39.900Z"
   },
   {
    "duration": 25,
    "start_time": "2024-10-16T18:20:24.351Z"
   },
   {
    "duration": 23,
    "start_time": "2024-10-16T18:20:46.002Z"
   },
   {
    "duration": 11,
    "start_time": "2024-10-16T18:20:55.698Z"
   },
   {
    "duration": 11,
    "start_time": "2024-10-16T18:21:10.522Z"
   },
   {
    "duration": 20,
    "start_time": "2024-10-16T18:21:22.170Z"
   },
   {
    "duration": 19,
    "start_time": "2024-10-16T18:21:55.113Z"
   },
   {
    "duration": 11,
    "start_time": "2024-10-16T18:23:54.454Z"
   },
   {
    "duration": 18,
    "start_time": "2024-10-16T18:25:15.292Z"
   },
   {
    "duration": 12,
    "start_time": "2024-10-16T18:26:32.796Z"
   },
   {
    "duration": 12,
    "start_time": "2024-10-16T18:27:15.720Z"
   },
   {
    "duration": 9,
    "start_time": "2024-10-16T18:28:22.031Z"
   },
   {
    "duration": 19,
    "start_time": "2024-10-16T18:30:39.841Z"
   },
   {
    "duration": 9,
    "start_time": "2024-10-16T18:30:55.317Z"
   },
   {
    "duration": 6,
    "start_time": "2024-10-16T18:31:16.070Z"
   },
   {
    "duration": 7,
    "start_time": "2024-10-16T18:31:41.279Z"
   },
   {
    "duration": 10,
    "start_time": "2024-10-16T18:35:40.429Z"
   },
   {
    "duration": 12,
    "start_time": "2024-10-16T18:36:55.733Z"
   },
   {
    "duration": 11,
    "start_time": "2024-10-16T18:37:11.957Z"
   },
   {
    "duration": 14,
    "start_time": "2024-10-16T18:42:23.759Z"
   },
   {
    "duration": 13,
    "start_time": "2024-10-16T18:42:32.164Z"
   },
   {
    "duration": 6,
    "start_time": "2024-10-16T18:45:31.862Z"
   },
   {
    "duration": 5,
    "start_time": "2024-10-16T18:45:54.715Z"
   },
   {
    "duration": 5,
    "start_time": "2024-10-16T18:46:16.586Z"
   },
   {
    "duration": 11,
    "start_time": "2024-10-16T18:46:26.805Z"
   },
   {
    "duration": 9,
    "start_time": "2024-10-16T18:46:48.778Z"
   },
   {
    "duration": 14,
    "start_time": "2024-10-16T18:49:47.285Z"
   },
   {
    "duration": 22,
    "start_time": "2024-10-16T18:50:11.902Z"
   },
   {
    "duration": 6,
    "start_time": "2024-10-16T18:50:42.657Z"
   },
   {
    "duration": 18,
    "start_time": "2024-10-16T18:50:53.398Z"
   },
   {
    "duration": 8,
    "start_time": "2024-10-16T18:51:57.466Z"
   },
   {
    "duration": 31,
    "start_time": "2024-10-16T18:56:10.214Z"
   },
   {
    "duration": 24,
    "start_time": "2024-10-16T18:56:39.383Z"
   },
   {
    "duration": 25,
    "start_time": "2024-10-16T18:56:53.768Z"
   },
   {
    "duration": 9,
    "start_time": "2024-10-16T18:59:03.954Z"
   },
   {
    "duration": 3,
    "start_time": "2024-10-16T19:00:32.598Z"
   },
   {
    "duration": 5,
    "start_time": "2024-10-16T19:00:53.822Z"
   },
   {
    "duration": 10,
    "start_time": "2024-10-16T19:01:32.540Z"
   },
   {
    "duration": 10,
    "start_time": "2024-10-16T19:02:39.946Z"
   },
   {
    "duration": 12,
    "start_time": "2024-10-16T19:03:24.904Z"
   },
   {
    "duration": 11,
    "start_time": "2024-10-16T19:03:39.895Z"
   },
   {
    "duration": 2727,
    "start_time": "2024-10-17T00:17:11.803Z"
   },
   {
    "duration": 208,
    "start_time": "2024-10-17T00:17:14.533Z"
   },
   {
    "duration": 10,
    "start_time": "2024-10-17T00:17:14.743Z"
   },
   {
    "duration": 11,
    "start_time": "2024-10-17T00:17:14.755Z"
   },
   {
    "duration": 7,
    "start_time": "2024-10-17T00:17:14.768Z"
   },
   {
    "duration": 10,
    "start_time": "2024-10-17T00:17:14.777Z"
   },
   {
    "duration": 5,
    "start_time": "2024-10-17T00:17:14.789Z"
   },
   {
    "duration": 6,
    "start_time": "2024-10-17T00:17:14.796Z"
   },
   {
    "duration": 14,
    "start_time": "2024-10-17T00:17:14.803Z"
   },
   {
    "duration": 4,
    "start_time": "2024-10-17T00:17:14.819Z"
   },
   {
    "duration": 3,
    "start_time": "2024-10-17T00:17:14.825Z"
   },
   {
    "duration": 47,
    "start_time": "2024-10-17T00:17:14.829Z"
   },
   {
    "duration": 15,
    "start_time": "2024-10-17T00:17:14.877Z"
   },
   {
    "duration": 15,
    "start_time": "2024-10-17T00:17:14.896Z"
   },
   {
    "duration": 7,
    "start_time": "2024-10-17T00:17:14.912Z"
   },
   {
    "duration": 63,
    "start_time": "2024-10-17T00:17:14.922Z"
   },
   {
    "duration": 12,
    "start_time": "2024-10-17T00:17:14.987Z"
   },
   {
    "duration": 19,
    "start_time": "2024-10-17T00:17:15.000Z"
   },
   {
    "duration": 13,
    "start_time": "2024-10-17T00:17:15.021Z"
   },
   {
    "duration": 66,
    "start_time": "2024-10-17T00:17:15.036Z"
   },
   {
    "duration": 12,
    "start_time": "2024-10-17T00:17:15.104Z"
   },
   {
    "duration": 6,
    "start_time": "2024-10-17T00:17:15.118Z"
   },
   {
    "duration": 18,
    "start_time": "2024-10-17T00:17:15.126Z"
   },
   {
    "duration": 9,
    "start_time": "2024-10-17T00:17:15.169Z"
   },
   {
    "duration": 10,
    "start_time": "2024-10-17T00:17:15.180Z"
   },
   {
    "duration": 9,
    "start_time": "2024-10-17T00:17:15.192Z"
   },
   {
    "duration": 23,
    "start_time": "2024-10-17T00:17:15.203Z"
   },
   {
    "duration": 43,
    "start_time": "2024-10-17T00:17:15.228Z"
   },
   {
    "duration": 8,
    "start_time": "2024-10-17T00:17:15.272Z"
   },
   {
    "duration": 35,
    "start_time": "2024-10-17T00:17:15.282Z"
   },
   {
    "duration": 13,
    "start_time": "2024-10-17T00:17:15.319Z"
   },
   {
    "duration": 41,
    "start_time": "2024-10-17T00:17:15.334Z"
   },
   {
    "duration": 12,
    "start_time": "2024-10-17T00:17:15.376Z"
   },
   {
    "duration": 31,
    "start_time": "2024-10-17T00:17:15.390Z"
   },
   {
    "duration": 7,
    "start_time": "2024-10-17T00:17:15.423Z"
   },
   {
    "duration": 60,
    "start_time": "2024-10-17T00:17:15.431Z"
   },
   {
    "duration": 19,
    "start_time": "2024-10-17T00:17:15.493Z"
   },
   {
    "duration": 21,
    "start_time": "2024-10-17T00:17:15.514Z"
   },
   {
    "duration": 47,
    "start_time": "2024-10-17T00:17:15.537Z"
   },
   {
    "duration": 6,
    "start_time": "2024-10-17T00:17:15.586Z"
   },
   {
    "duration": 8,
    "start_time": "2024-10-17T00:17:15.597Z"
   },
   {
    "duration": 13,
    "start_time": "2024-10-17T00:17:15.607Z"
   },
   {
    "duration": 14,
    "start_time": "2024-10-17T00:17:15.622Z"
   },
   {
    "duration": 56,
    "start_time": "2024-10-17T00:17:15.638Z"
   },
   {
    "duration": 45,
    "start_time": "2024-10-17T00:17:15.696Z"
   },
   {
    "duration": 36,
    "start_time": "2024-10-17T00:17:15.743Z"
   },
   {
    "duration": 224,
    "start_time": "2024-10-17T00:17:15.780Z"
   },
   {
    "duration": 26,
    "start_time": "2024-10-17T00:17:16.005Z"
   },
   {
    "duration": 12,
    "start_time": "2024-10-17T00:17:16.032Z"
   },
   {
    "duration": 24,
    "start_time": "2024-10-17T00:17:16.046Z"
   },
   {
    "duration": 441,
    "start_time": "2024-10-17T00:17:16.071Z"
   },
   {
    "duration": 13,
    "start_time": "2024-10-17T00:17:16.514Z"
   },
   {
    "duration": 209,
    "start_time": "2024-10-17T00:17:16.529Z"
   },
   {
    "duration": 77,
    "start_time": "2024-10-17T00:17:16.740Z"
   },
   {
    "duration": 8,
    "start_time": "2024-10-17T00:17:16.819Z"
   },
   {
    "duration": 338,
    "start_time": "2024-10-17T00:17:16.828Z"
   },
   {
    "duration": 16,
    "start_time": "2024-10-17T00:17:17.168Z"
   },
   {
    "duration": 7,
    "start_time": "2024-10-17T00:17:17.185Z"
   },
   {
    "duration": 444,
    "start_time": "2024-10-17T00:17:17.194Z"
   },
   {
    "duration": 15,
    "start_time": "2024-10-17T00:17:17.640Z"
   },
   {
    "duration": 217,
    "start_time": "2024-10-17T00:17:17.656Z"
   },
   {
    "duration": 8,
    "start_time": "2024-10-17T00:17:17.875Z"
   },
   {
    "duration": 8,
    "start_time": "2024-10-17T00:17:17.885Z"
   },
   {
    "duration": 285,
    "start_time": "2024-10-17T00:17:17.894Z"
   },
   {
    "duration": 11,
    "start_time": "2024-10-17T00:17:18.181Z"
   },
   {
    "duration": 4,
    "start_time": "2024-10-17T00:17:18.194Z"
   },
   {
    "duration": 416,
    "start_time": "2024-10-17T00:17:18.200Z"
   },
   {
    "duration": 13,
    "start_time": "2024-10-17T00:17:18.618Z"
   },
   {
    "duration": 180,
    "start_time": "2024-10-17T00:17:18.632Z"
   },
   {
    "duration": 8,
    "start_time": "2024-10-17T00:17:18.814Z"
   },
   {
    "duration": 7,
    "start_time": "2024-10-17T00:17:18.825Z"
   },
   {
    "duration": 311,
    "start_time": "2024-10-17T00:17:18.834Z"
   },
   {
    "duration": 10,
    "start_time": "2024-10-17T00:17:19.147Z"
   },
   {
    "duration": 10,
    "start_time": "2024-10-17T00:17:19.171Z"
   },
   {
    "duration": 2,
    "start_time": "2024-10-17T00:17:19.183Z"
   },
   {
    "duration": 313,
    "start_time": "2024-10-17T00:17:19.187Z"
   },
   {
    "duration": 0,
    "start_time": "2024-10-17T00:17:19.502Z"
   },
   {
    "duration": 21,
    "start_time": "2024-10-17T00:17:43.512Z"
   },
   {
    "duration": 19,
    "start_time": "2024-10-17T00:17:59.240Z"
   },
   {
    "duration": 11,
    "start_time": "2024-10-17T00:18:28.906Z"
   },
   {
    "duration": 10,
    "start_time": "2024-10-17T00:19:00.783Z"
   },
   {
    "duration": 9,
    "start_time": "2024-10-17T00:19:42.104Z"
   },
   {
    "duration": 3,
    "start_time": "2024-10-17T00:23:30.759Z"
   },
   {
    "duration": 5,
    "start_time": "2024-10-17T00:23:46.635Z"
   },
   {
    "duration": 4,
    "start_time": "2024-10-17T00:26:30.503Z"
   },
   {
    "duration": 9,
    "start_time": "2024-10-17T00:27:58.430Z"
   },
   {
    "duration": 11,
    "start_time": "2024-10-17T00:28:13.233Z"
   },
   {
    "duration": 9,
    "start_time": "2024-10-17T01:18:02.896Z"
   },
   {
    "duration": 8,
    "start_time": "2024-10-17T01:18:24.652Z"
   },
   {
    "duration": 10,
    "start_time": "2024-10-17T01:18:44.599Z"
   },
   {
    "duration": 14,
    "start_time": "2024-10-17T01:19:01.351Z"
   }
  ],
  "colab": {
   "provenance": []
  },
  "kernelspec": {
   "display_name": "Python 3 (ipykernel)",
   "language": "python",
   "name": "python3"
  },
  "language_info": {
   "codemirror_mode": {
    "name": "ipython",
    "version": 3
   },
   "file_extension": ".py",
   "mimetype": "text/x-python",
   "name": "python",
   "nbconvert_exporter": "python",
   "pygments_lexer": "ipython3",
   "version": "3.9.19"
  },
  "toc": {
   "base_numbering": 1,
   "nav_menu": {},
   "number_sections": true,
   "sideBar": true,
   "skip_h1_title": false,
   "title_cell": "Table of Contents",
   "title_sidebar": "Contents",
   "toc_cell": false,
   "toc_position": {
    "height": "calc(100% - 180px)",
    "left": "10px",
    "top": "150px",
    "width": "459.25px"
   },
   "toc_section_display": true,
   "toc_window_display": true
  }
 },
 "nbformat": 4,
 "nbformat_minor": 1
}
