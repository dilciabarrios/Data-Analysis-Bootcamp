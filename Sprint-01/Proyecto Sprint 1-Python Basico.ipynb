{
 "cells": [
  {
   "cell_type": "markdown",
   "id": "c02bd990-8bcc-41fa-84e8-3e968d485809",
   "metadata": {},
   "source": [
    "<H1>Proyecto (Primero) - SPRINT 1 PYTHON</H1>\n",
    "<H2>Manejo de Variables - Listas - Métodos - Indice/Slice - Try/Except</H2>"
   ]
  },
  {
   "cell_type": "markdown",
   "id": "829ab3e8-8d85-456f-ab73-86e71d9000ef",
   "metadata": {},
   "source": [
    "<H3>Paso 1</H3>\n",
    "\n",
    "Store 1 tiene como objetivo garantizar la coherencia en la recopilación de datos. Como parte de esta iniciativa, se debe evaluar la calidad de los datos recopilados sobre los usuarios y las usuarias. Te han pedido que revises los datos recopilados y propongas cambios. A continuación verás datos sobre un usuario o una usuaria en particular; revisa los datos e identifica cualquier posible problema.\n",
    "\n"
   ]
  },
  {
   "cell_type": "code",
   "execution_count": null,
   "id": "6eeea71b-4b5f-4c9a-8cf2-df7bf2b60df6",
   "metadata": {},
   "outputs": [],
   "source": [
    "user_id = '32415'\n",
    "user_name = ' mike_reed '\n",
    "user_age = 32.0\n",
    "fav_categories = ['ELECTRONICS', 'SPORT', 'BOOKS']"
   ]
  },
  {
   "cell_type": "markdown",
   "id": "21e1d875-bd2c-4afb-b1df-d1f6ca5dcd5e",
   "metadata": {},
   "source": [
    "Opciones:\n",
    "\n",
    "1. Se debe cambiar el tipo de dato de user_id de cadena a entero.\n",
    "\n",
    "2. La variable user_name contiene una cadena que tiene espacios innecesarios y un guion bajo entre el nombre y el apellido.\n",
    "\n",
    "3. El tipo de dato de user_age es correcto y no hay necesidad de convertirlo.\n",
    "\n",
    "4. La lista fav_categories contiene cadenas en mayúsculas. En lugar de ello, debemos convertir los valores de la lista en minúsculas."
   ]
  },
  {
   "cell_type": "markdown",
   "id": "136172e4-6a34-4b50-a990-f37efb82a5d1",
   "metadata": {},
   "source": [
    "Para cada una de las opciones, escribe en la siguiente celda markdown si la identificaste como un problema real en los datos o no. Justifica tu razonamiento. Por ejemplo, si crees que la primera opción es correcta, escríbelo y explica por qué piensas que es correcta.\n",
    "\n",
    "Escribe tu respuesta y explica tu argumentación:\n",
    "\n",
    "1. <b>user_id</b> = Se encuentra bien declardo, como string. Porque si algún numero de identificación del cliente empezará por 0 se perdería y no se pudiera almacenar los 0 siendo un entero. Segundo: No se suelen hacer operación aritméticas con ellos, por lo tanto no es necesario almacenarlos como enteros, solo se usan como identificadores.\n",
    "\n",
    "2. <b>user_name</b>= Contiene espacios al final y al principio de la cadena que podría generar problemas de búsquedas y mostrar la información, se recomienda eliminar espacios en blanco.\n",
    "\n",
    "3. <b>user_age</b>  = Se debe cambiar a tipo (int) ya que asi aseguramos errores en operaciones matematicas futuras, y la posibilidad de errores de precisión.\n",
    "\n",
    "4. <b>fav_categories<b>  = En la lista no realizaria ningun cambio, existe una uniformidad en los datos (todas mayusculas).\n"
   ]
  },
  {
   "cell_type": "markdown",
   "id": "21a3f329-4eef-4a80-94f0-66006b91c744",
   "metadata": {},
   "source": [
    "<H3>Paso 2</H3>\n",
    "\n",
    "Vamos a implementar los cambios que identificamos. Primero, necesitamos corregir los problemas de la variable user_name Como vimos, tiene espacios innecesarios y un guion bajo como separador entre el nombre y el apellido; tu objetivo es eliminar los espacios y luego reemplazar el guion bajo con el espacio.\n"
   ]
  },
  {
   "cell_type": "code",
   "execution_count": 1,
   "id": "0815fa57-56f2-4b88-a0c3-e2e32065ca16",
   "metadata": {},
   "outputs": [
    {
     "name": "stdout",
     "output_type": "stream",
     "text": [
      "mike reed\n"
     ]
    }
   ],
   "source": [
    "user_name = ' mike_reed '\n",
    "user_name = user_name.strip()\n",
    "user_name = user_name.replace('_',' ')\n",
    "\n",
    "print(user_name)"
   ]
  },
  {
   "cell_type": "markdown",
   "id": "63267bb8-b978-4a4c-b7ea-8ac0c06188d7",
   "metadata": {},
   "source": [
    "<H3>Paso 3</H3>\n",
    "\n",
    "Luego, debemos dividir el user_name (nombre de usuario o usuaria) actualizado en dos subcadenas para obtener una lista que contenga dos valores: la cadena para el nombre y la cadena para el apellido.\n"
   ]
  },
  {
   "cell_type": "code",
   "execution_count": 2,
   "id": "df607a58-674f-404b-aa1a-8a1c1e823f1e",
   "metadata": {},
   "outputs": [
    {
     "name": "stdout",
     "output_type": "stream",
     "text": [
      "['mike', 'reed']\n"
     ]
    }
   ],
   "source": [
    "user_name = 'mike reed'\n",
    "name_split = user_name.split()\n",
    "\n",
    "print(name_split)"
   ]
  },
  {
   "cell_type": "markdown",
   "id": "56dffb68-063f-4cb7-bf26-d2a8c0a39560",
   "metadata": {},
   "source": [
    "<H3>Paso 4</H3>\n",
    "\n",
    "¡Genial! Ahora debemos trabajar con la variable user_age. Como ya mencionamos, esta tiene un tipo de datos incorrecto. Arreglemos este problema transformando el tipo de datos y mostrando el resultado final.\n"
   ]
  },
  {
   "cell_type": "code",
   "execution_count": 3,
   "id": "4e46c2b2-9f1f-43bb-a6ef-3031489827a0",
   "metadata": {},
   "outputs": [
    {
     "name": "stdout",
     "output_type": "stream",
     "text": [
      "32\n"
     ]
    }
   ],
   "source": [
    "user_age = 32.0\n",
    "user_age = int(user_age)\n",
    "\n",
    "print(user_age)"
   ]
  },
  {
   "cell_type": "markdown",
   "id": "121e6c10-5634-46ab-a5ff-86ed4e6134ed",
   "metadata": {},
   "source": [
    "<H3>Paso 5</H3>\n",
    "\n",
    "Como sabemos, los datos no siempre son perfectos. Debemos considerar escenarios en los que el valor de user_age no se pueda convertir en un número entero. Para evitar que nuestro sistema se bloquee, debemos tomar medidas con anticipación.\n",
    "\n",
    "Escribe un código que intente convertir la variable user_age en un número entero y asigna el valor transformado a user_age_int. Si el intento falla, mostramos un mensaje pidiendo al usuario o la usuaria que proporcione su edad como un valor numérico con el mensaje: Please provide your age as a numerical value. (Proporcione su edad como un valor numérico.)\n"
   ]
  },
  {
   "cell_type": "code",
   "execution_count": 5,
   "id": "c2fd6d2a-f979-4dc6-a673-52e07f99b959",
   "metadata": {},
   "outputs": [
    {
     "name": "stdout",
     "output_type": "stream",
     "text": [
      "La edad debe ser un valor numérico\n"
     ]
    }
   ],
   "source": [
    "user_age = 'treinta y dos'\n",
    "\n",
    "try:\n",
    "    age = int(age)\n",
    "except:\n",
    "    print('La edad debe ser un valor numérico')"
   ]
  },
  {
   "cell_type": "markdown",
   "id": "98e538c8-11c9-4cc7-bca7-ddc2ba2972e8",
   "metadata": {},
   "source": [
    "<H3>Paso 6</H3>\n",
    "\n",
    "El equipo de dirección de Store 1 te pidió ayudarles a organizar los datos de sus clientes para analizarlos y gestionarlos mejor.\n",
    "\n",
    "Tu tarea es ordenar esta lista por ID de usuario de forma ascendente para que sea más fácil acceder a ella y analizarla.\n"
   ]
  },
  {
   "cell_type": "code",
   "execution_count": 8,
   "id": "de417b8a-5e28-413c-82bb-d1df19a6b42d",
   "metadata": {},
   "outputs": [
    {
     "name": "stdout",
     "output_type": "stream",
     "text": [
      "[['31980', 'KATE MORGAN', 24, ['CLOTHES', 'BOOKS'], [439, 390]], ['32156', ' JOHN DOE ', 37, ['ELECTRONICS', 'HOME', 'FOOD'], [459, 120, 99]], ['32415', ' MIKE REED ', 32, ['ELECTRONICS', 'SPORT', 'BOOKS'], [894, 213, 173]], ['32761', 'SAMANTHA SMITH', 29, ['CLOTHES', 'ELECTRONICS', 'BEAUTY'], [299, 679, 85]], ['32984', 'DAVID WHITE', 41, ['BOOKS', 'HOME', 'SPORT'], [234, 329, 243]], ['33001', 'EMILY BROWN', 26, ['BEAUTY', 'HOME', 'FOOD'], [213, 659, 79]], ['33767', ' MARIA GARCIA', 33, ['CLOTHES', 'FOOD', 'BEAUTY'], [499, 189, 63]], ['33912', 'JOSE MARTINEZ', 22, ['SPORT', 'ELECTRONICS', 'HOME'], [259, 549, 109]], ['34009', 'LISA WILSON ', 35, ['HOME', 'BOOKS', 'CLOTHES'], [329, 189, 329]], ['34278', 'JAMES LEE', 28, ['BEAUTY', 'CLOTHES', 'ELECTRONICS'], [189, 299, 579]]]\n"
     ]
    }
   ],
   "source": [
    "users = [\n",
    "    ['32415', ' mike_reed ', 32.0, ['ELECTRONICS', 'SPORT', 'BOOKS'], [894, 213, 173]],\n",
    "    ['31980', 'kate morgan', 24.0, ['CLOTHES', 'BOOKS'], [439, 390]],\n",
    "    ['32156', ' john doe ', 37.0, ['ELECTRONICS', 'HOME', 'FOOD'], [459, 120, 99]],\n",
    "    ['32761', 'SAMANTHA SMITH', 29.0, ['CLOTHES', 'ELECTRONICS', 'BEAUTY'], [299, 679, 85]],\n",
    "    ['32984', 'David White', 41.0, ['BOOKS', 'HOME', 'SPORT'], [234, 329, 243]],\n",
    "    ['33001', 'emily brown', 26.0, ['BEAUTY', 'HOME', 'FOOD'], [213, 659, 79]],\n",
    "    ['33767', ' Maria Garcia', 33.0, ['CLOTHES', 'FOOD', 'BEAUTY'], [499, 189, 63]],\n",
    "    ['33912', 'JOSE MARTINEZ', 22.0, ['SPORT', 'ELECTRONICS', 'HOME'], [259, 549, 109]],\n",
    "    ['34009', 'lisa wilson ', 35.0, ['HOME', 'BOOKS', 'CLOTHES'], [329, 189, 329]],\n",
    "    ['34278', 'James Lee', 28.0, ['BEAUTY', 'CLOTHES', 'ELECTRONICS'], [189, 299, 579]],\n",
    "]\n",
    "\n",
    "users.sort(key=lambda x: x[0])\n",
    "\n",
    "for user in users:\n",
    "    user[1] = user[1].upper()\n",
    "    user[2] = int(user[2])\n",
    "    user[1] = user[1].replace('_', ' ')\n",
    "\n",
    "print(users)\n"
   ]
  },
  {
   "cell_type": "markdown",
   "id": "f6ec9ff4-0ca4-47f4-816e-57b159512a1f",
   "metadata": {},
   "source": [
    "<H3>Paso 7</H3>\n",
    "\n",
    "Tenemos la información de los hábitos de consumo de nuestros usuarios, incluyendo la cantidad gastada en cada una de sus categorías favoritas. La dirección está interesada en conocer la cantidad total gastada por el usuario.\n",
    "\n",
    "Calculemos este valor y despleguémoslo.\n"
   ]
  },
  {
   "cell_type": "code",
   "execution_count": 9,
   "id": "20c1e1a9-4f8a-4ef2-ba76-7fc752da11a2",
   "metadata": {},
   "outputs": [
    {
     "name": "stdout",
     "output_type": "stream",
     "text": [
      "1280\n"
     ]
    }
   ],
   "source": [
    "fav_categories_low = ['electronics', 'sport', 'books']\n",
    "spendings_per_category = [894, 213, 173]\n",
    "\n",
    "total_amount = sum(spendings_per_category)\n",
    "\n",
    "print(total_amount)\n"
   ]
  },
  {
   "cell_type": "markdown",
   "id": "860536cc-16c1-4970-aad5-04c878081daa",
   "metadata": {},
   "source": [
    "¿Cuáles son los tres métodos que se pueden aplicar a una lista para calcular sus valores mínimo, máximo y total?\n",
    "\n",
    "min() Calcular el valor minimo max() Calcular el valor maximo suma() Calcula la suma total de la lista\n"
   ]
  },
  {
   "cell_type": "markdown",
   "id": "801f67a9-f70c-4571-a64a-ade2d767b692",
   "metadata": {},
   "source": [
    "<H3>Paso 8</H3>\n",
    "\n",
    "La dirección de la empresa nos pidió pensar en una manera de resumir toda la información de un usuario. Tu objetivo es crear una cadena formateada que utilice información de las variables user_id, user_name y user_age.\n",
    "\n",
    "Esta es la cadena final que queremos crear: User 32415 is mike who is 32 years old. (El usuario 32415 es Mike, quien tiene 32 años).\n"
   ]
  },
  {
   "cell_type": "code",
   "execution_count": 11,
   "id": "631617f1-b986-455d-a1e8-e2e707d79521",
   "metadata": {},
   "outputs": [
    {
     "name": "stdout",
     "output_type": "stream",
     "text": [
      "El usuario 32415 es mike, quien tiene 32 años\n"
     ]
    }
   ],
   "source": [
    "user_id = '32415'\n",
    "user_name = ['mike', 'reed']\n",
    "user_age = 32\n",
    "\n",
    "user_info = f'El usuario {user_id} es {user_name[0]}, quien tiene {user_age} años'\n",
    "print(user_info)"
   ]
  },
  {
   "cell_type": "markdown",
   "id": "4252c38a-3761-4662-a887-d00f0155d95e",
   "metadata": {},
   "source": [
    "<H3>Paso 9</H3>\n",
    "\n",
    "La dirección también quiere una forma fácil de conocer la cantidad de clientes con cuyos datos contamos. Tu objetivo es crear una cadena formateada que muestre la cantidad de datos de clientes registrados.\n",
    "\n",
    "Esta es la cadena final que queremos crear: Hemos registrado datos de X clientes.\n"
   ]
  },
  {
   "cell_type": "code",
   "execution_count": 12,
   "id": "dd64b2ce-f36c-4830-b005-5d9f07d01ed9",
   "metadata": {},
   "outputs": [
    {
     "name": "stdout",
     "output_type": "stream",
     "text": [
      "Hemos registrado datos de 10 clientes\n"
     ]
    }
   ],
   "source": [
    "users = [\n",
    "    ['32415', ' mike_reed ', 32.0, ['ELECTRONICS', 'SPORT', 'BOOKS'], [894, 213, 173]],\n",
    "    ['31980', 'kate morgan', 24.0, ['CLOTHES', 'BOOKS'], [439, 390]],\n",
    "    ['32156', ' john doe ', 37.0, ['ELECTRONICS', 'HOME', 'FOOD'], [459, 120, 99]],\n",
    "    ['32761', 'SAMANTHA SMITH', 29.0, ['CLOTHES', 'ELECTRONICS', 'BEAUTY'], [299, 679, 85]],\n",
    "    ['32984', 'David White', 41.0, ['BOOKS', 'HOME', 'SPORT'], [234, 329, 243]],\n",
    "    ['33001', 'emily brown', 26.0, ['BEAUTY', 'HOME', 'FOOD'], [213, 659, 79]],\n",
    "    ['33767', ' Maria Garcia', 33.0, ['CLOTHES', 'FOOD', 'BEAUTY'], [499, 189, 63]],\n",
    "    ['33912', 'JOSE MARTINEZ', 22.0, ['SPORT', 'ELECTRONICS', 'HOME'], [259, 549, 109]],\n",
    "    ['34009', 'lisa wilson ', 35.0, ['HOME', 'BOOKS', 'CLOTHES'], [329, 189, 329]],\n",
    "    ['34278', 'James Lee', 28.0, ['BEAUTY', 'CLOTHES', 'ELECTRONICS'], [189, 299, 579]],\n",
    "]\n",
    "\n",
    "suma =len(users)\n",
    "\n",
    "user_info = f'Hemos registrado datos de {suma} clientes'\n",
    "print(user_info)"
   ]
  },
  {
   "cell_type": "markdown",
   "id": "adefe48d-8b97-4d62-9c31-5cb01ad0ac21",
   "metadata": {},
   "source": [
    "<H3>Paso 10</H3>\n",
    "\n",
    "Apliquemos ahora todos los cambios a la lista de clientes. Para simplificar las cosas, te proporcionaremos una más corta. Debes:\n",
    "\n",
    "Eliminar todos los espacios iniciales y finales de los nombres, así como cualquier guion bajo.\n",
    "Convertir todas las edades en números enteros.\n",
    "Separar todos los nombres y apellidos en una sublista.\n",
    "\n",
    "Guarda la lista modificada como una nueva lista llamada users_clean y muéstrala en la pantalla.\n"
   ]
  },
  {
   "cell_type": "code",
   "execution_count": 13,
   "id": "819291fe-601f-4b3b-ba02-6c9336040066",
   "metadata": {},
   "outputs": [
    {
     "name": "stdout",
     "output_type": "stream",
     "text": [
      "[['32415', ['mike', 'reed'], 32, ['ELECTRONICS', 'SPORT', 'BOOKS'], [894, 213, 173]], ['31980', ['kate', 'morgan'], 24, ['CLOTHES', 'BOOKS'], [439, 390]], ['32156', ['john', 'doe'], 37, ['ELECTRONICS', 'HOME', 'FOOD'], [459, 120, 99]]]\n"
     ]
    }
   ],
   "source": [
    "users = [\n",
    "    ['32415', ' mike_reed ', 32.0, ['ELECTRONICS', 'SPORT', 'BOOKS'], [894, 213, 173]],\n",
    "    ['31980', 'kate morgan', 24.0, ['CLOTHES', 'BOOKS'], [439, 390]],\n",
    "    ['32156', ' john doe ', 37.0, ['ELECTRONICS', 'HOME', 'FOOD'], [459, 120, 99]],\n",
    "]\n",
    "\n",
    "users_clean = []\n",
    "\n",
    "\n",
    "# Procesa al primer usuario\n",
    "user_name_1 = users[0][1].strip().replace('_', ' ')\n",
    "user_age_1 = int (users[0][2])\n",
    "user_name_1 = users[0][1].strip().replace('_', ' ').split()\n",
    "users_clean.append([users[0][0], user_name_1, user_age_1, users[0][3], users[0][4]])\n",
    "\n",
    "# Procesa al segundo usuario\n",
    "user_name_2 = users[1][1].strip().replace('_', ' ')\n",
    "user_age_2 = int (users[1][2])\n",
    "user_name_2 = users[1][1].strip().replace('_', ' ').split()\n",
    "users_clean.append([users[1][0], user_name_2, user_age_2, users[1][3], users[1][4]])\n",
    "\n",
    "# Procesa al tercer usuario\n",
    "user_name_3 = users[2][1].strip().replace('_', ' ')\n",
    "user_age_3 = int (users[2][2])\n",
    "user_name_3 = users[2][1].strip().replace('_', ' ').split()\n",
    "users_clean.append([users[2][0], user_name_3, user_age_3, users[2][3], users[2][4]])\n",
    "\n",
    "\n",
    "print(users_clean)\n"
   ]
  }
 ],
 "metadata": {
  "kernelspec": {
   "display_name": "Python 3 (ipykernel)",
   "language": "python",
   "name": "python3"
  },
  "language_info": {
   "codemirror_mode": {
    "name": "ipython",
    "version": 3
   },
   "file_extension": ".py",
   "mimetype": "text/x-python",
   "name": "python",
   "nbconvert_exporter": "python",
   "pygments_lexer": "ipython3",
   "version": "3.10.12"
  }
 },
 "nbformat": 4,
 "nbformat_minor": 5
}
